{
 "cells": [
  {
   "cell_type": "markdown",
   "metadata": {},
   "source": [
    "# Анализ рынка компьютерных игр"
   ]
  },
  {
   "cell_type": "markdown",
   "metadata": {},
   "source": [
    "# Содержание\n",
    "[**Загрузка данных.**](#Загрузка-данных)\n",
    "\n",
    "[**Предобработка данных.**](#Предобработка-данных)\n",
    "\n",
    "[**Исследовательский анализ данных.**](#Исследовательский-анализ-данных)\n",
    "\n",
    "[**Составление портрета пользователя каждого региона.**](#Составление-портрета-пользователя-каждого-региона)\n",
    "\n",
    "[**Проверка гипотез.**](#Проверка-гипотез)\n",
    "\n",
    "[**Общий вывод.**](#Общий-вывод)"
   ]
  },
  {
   "cell_type": "markdown",
   "metadata": {},
   "source": [
    "# Описание проекта\n",
    "<br> **Интернет-магазине «Стримчик»**\n",
    "<br>  Интернет-магазин «Стримчик» продаёт по всему миру компьютерные игры. Из открытых источников доступны исторические данные о продажах игр, оценки пользователей и экспертов, жанры и платформы (например, Xbox или PlayStation). \n",
    "<br>***Необходимо выявить определяющие успешность игры закономерности. Это позволит сделать ставку на потенциально популярный продукт и спланировать рекламные кампании.***\n",
    "<br> \n",
    "<br>В наборе данных попадается аббревиатура ESRB (Entertainment Software Rating Board) — это ассоциация, определяющая возрастной рейтинг компьютерных игр. ESRB оценивает игровой контент и присваивает ему подходящую возрастную категорию, например, «Для взрослых», «Для детей младшего возраста» или «Для подростков»."
   ]
  },
  {
   "cell_type": "markdown",
   "metadata": {},
   "source": [
    "# Описание данных\n",
    "* Name — название игры\n",
    "* Platform — платформа\n",
    "* Year_of_Release — год выпуска\n",
    "* Genre — жанр игры\n",
    "* NA_sales — продажи в Северной Америке (миллионы проданных копий)\n",
    "* EU_sales — продажи в Европе (миллионы проданных копий)\n",
    "* JP_sales — продажи в Японии (миллионы проданных копий)\n",
    "* Other_sales — продажи в других странах (миллионы проданных копий)\n",
    "* Critic_Score — оценка критиков (максимум 100)\n",
    "* User_Score — оценка пользователей (максимум 10)\n",
    "* Rating — рейтинг от организации ESRB (англ. Entertainment Software Rating Board). Эта ассоциация определяет рейтинг компьютерных игр и присваивает им подходящую возрастную категорию."
   ]
  },
  {
   "cell_type": "markdown",
   "metadata": {},
   "source": [
    "# Импортирование библиотек"
   ]
  },
  {
   "cell_type": "code",
   "execution_count": 139,
   "metadata": {},
   "outputs": [],
   "source": [
    "import pandas as pd\n",
    "import matplotlib.pyplot as plt\n",
    "from scipy import stats as st\n",
    "import numpy as np\n",
    "import seaborn as sb"
   ]
  },
  {
   "cell_type": "markdown",
   "metadata": {},
   "source": [
    "## Загрузка данных"
   ]
  },
  {
   "cell_type": "markdown",
   "metadata": {},
   "source": [
    "### Откроем файл games.csv и изучим его"
   ]
  },
  {
   "cell_type": "code",
   "execution_count": 140,
   "metadata": {},
   "outputs": [
    {
     "data": {
      "text/html": [
       "<div>\n",
       "<style scoped>\n",
       "    .dataframe tbody tr th:only-of-type {\n",
       "        vertical-align: middle;\n",
       "    }\n",
       "\n",
       "    .dataframe tbody tr th {\n",
       "        vertical-align: top;\n",
       "    }\n",
       "\n",
       "    .dataframe thead th {\n",
       "        text-align: right;\n",
       "    }\n",
       "</style>\n",
       "<table border=\"1\" class=\"dataframe\">\n",
       "  <thead>\n",
       "    <tr style=\"text-align: right;\">\n",
       "      <th></th>\n",
       "      <th>Name</th>\n",
       "      <th>Platform</th>\n",
       "      <th>Year_of_Release</th>\n",
       "      <th>Genre</th>\n",
       "      <th>NA_sales</th>\n",
       "      <th>EU_sales</th>\n",
       "      <th>JP_sales</th>\n",
       "      <th>Other_sales</th>\n",
       "      <th>Critic_Score</th>\n",
       "      <th>User_Score</th>\n",
       "      <th>Rating</th>\n",
       "    </tr>\n",
       "  </thead>\n",
       "  <tbody>\n",
       "    <tr>\n",
       "      <th>0</th>\n",
       "      <td>Wii Sports</td>\n",
       "      <td>Wii</td>\n",
       "      <td>2006.0</td>\n",
       "      <td>Sports</td>\n",
       "      <td>41.36</td>\n",
       "      <td>28.96</td>\n",
       "      <td>3.77</td>\n",
       "      <td>8.45</td>\n",
       "      <td>76.0</td>\n",
       "      <td>8</td>\n",
       "      <td>E</td>\n",
       "    </tr>\n",
       "    <tr>\n",
       "      <th>1</th>\n",
       "      <td>Super Mario Bros.</td>\n",
       "      <td>NES</td>\n",
       "      <td>1985.0</td>\n",
       "      <td>Platform</td>\n",
       "      <td>29.08</td>\n",
       "      <td>3.58</td>\n",
       "      <td>6.81</td>\n",
       "      <td>0.77</td>\n",
       "      <td>NaN</td>\n",
       "      <td>NaN</td>\n",
       "      <td>NaN</td>\n",
       "    </tr>\n",
       "    <tr>\n",
       "      <th>2</th>\n",
       "      <td>Mario Kart Wii</td>\n",
       "      <td>Wii</td>\n",
       "      <td>2008.0</td>\n",
       "      <td>Racing</td>\n",
       "      <td>15.68</td>\n",
       "      <td>12.76</td>\n",
       "      <td>3.79</td>\n",
       "      <td>3.29</td>\n",
       "      <td>82.0</td>\n",
       "      <td>8.3</td>\n",
       "      <td>E</td>\n",
       "    </tr>\n",
       "    <tr>\n",
       "      <th>3</th>\n",
       "      <td>Wii Sports Resort</td>\n",
       "      <td>Wii</td>\n",
       "      <td>2009.0</td>\n",
       "      <td>Sports</td>\n",
       "      <td>15.61</td>\n",
       "      <td>10.93</td>\n",
       "      <td>3.28</td>\n",
       "      <td>2.95</td>\n",
       "      <td>80.0</td>\n",
       "      <td>8</td>\n",
       "      <td>E</td>\n",
       "    </tr>\n",
       "    <tr>\n",
       "      <th>4</th>\n",
       "      <td>Pokemon Red/Pokemon Blue</td>\n",
       "      <td>GB</td>\n",
       "      <td>1996.0</td>\n",
       "      <td>Role-Playing</td>\n",
       "      <td>11.27</td>\n",
       "      <td>8.89</td>\n",
       "      <td>10.22</td>\n",
       "      <td>1.00</td>\n",
       "      <td>NaN</td>\n",
       "      <td>NaN</td>\n",
       "      <td>NaN</td>\n",
       "    </tr>\n",
       "    <tr>\n",
       "      <th>5</th>\n",
       "      <td>Tetris</td>\n",
       "      <td>GB</td>\n",
       "      <td>1989.0</td>\n",
       "      <td>Puzzle</td>\n",
       "      <td>23.20</td>\n",
       "      <td>2.26</td>\n",
       "      <td>4.22</td>\n",
       "      <td>0.58</td>\n",
       "      <td>NaN</td>\n",
       "      <td>NaN</td>\n",
       "      <td>NaN</td>\n",
       "    </tr>\n",
       "    <tr>\n",
       "      <th>6</th>\n",
       "      <td>New Super Mario Bros.</td>\n",
       "      <td>DS</td>\n",
       "      <td>2006.0</td>\n",
       "      <td>Platform</td>\n",
       "      <td>11.28</td>\n",
       "      <td>9.14</td>\n",
       "      <td>6.50</td>\n",
       "      <td>2.88</td>\n",
       "      <td>89.0</td>\n",
       "      <td>8.5</td>\n",
       "      <td>E</td>\n",
       "    </tr>\n",
       "    <tr>\n",
       "      <th>7</th>\n",
       "      <td>Wii Play</td>\n",
       "      <td>Wii</td>\n",
       "      <td>2006.0</td>\n",
       "      <td>Misc</td>\n",
       "      <td>13.96</td>\n",
       "      <td>9.18</td>\n",
       "      <td>2.93</td>\n",
       "      <td>2.84</td>\n",
       "      <td>58.0</td>\n",
       "      <td>6.6</td>\n",
       "      <td>E</td>\n",
       "    </tr>\n",
       "    <tr>\n",
       "      <th>8</th>\n",
       "      <td>New Super Mario Bros. Wii</td>\n",
       "      <td>Wii</td>\n",
       "      <td>2009.0</td>\n",
       "      <td>Platform</td>\n",
       "      <td>14.44</td>\n",
       "      <td>6.94</td>\n",
       "      <td>4.70</td>\n",
       "      <td>2.24</td>\n",
       "      <td>87.0</td>\n",
       "      <td>8.4</td>\n",
       "      <td>E</td>\n",
       "    </tr>\n",
       "    <tr>\n",
       "      <th>9</th>\n",
       "      <td>Duck Hunt</td>\n",
       "      <td>NES</td>\n",
       "      <td>1984.0</td>\n",
       "      <td>Shooter</td>\n",
       "      <td>26.93</td>\n",
       "      <td>0.63</td>\n",
       "      <td>0.28</td>\n",
       "      <td>0.47</td>\n",
       "      <td>NaN</td>\n",
       "      <td>NaN</td>\n",
       "      <td>NaN</td>\n",
       "    </tr>\n",
       "    <tr>\n",
       "      <th>10</th>\n",
       "      <td>Nintendogs</td>\n",
       "      <td>DS</td>\n",
       "      <td>2005.0</td>\n",
       "      <td>Simulation</td>\n",
       "      <td>9.05</td>\n",
       "      <td>10.95</td>\n",
       "      <td>1.93</td>\n",
       "      <td>2.74</td>\n",
       "      <td>NaN</td>\n",
       "      <td>NaN</td>\n",
       "      <td>NaN</td>\n",
       "    </tr>\n",
       "    <tr>\n",
       "      <th>11</th>\n",
       "      <td>Mario Kart DS</td>\n",
       "      <td>DS</td>\n",
       "      <td>2005.0</td>\n",
       "      <td>Racing</td>\n",
       "      <td>9.71</td>\n",
       "      <td>7.47</td>\n",
       "      <td>4.13</td>\n",
       "      <td>1.90</td>\n",
       "      <td>91.0</td>\n",
       "      <td>8.6</td>\n",
       "      <td>E</td>\n",
       "    </tr>\n",
       "    <tr>\n",
       "      <th>12</th>\n",
       "      <td>Pokemon Gold/Pokemon Silver</td>\n",
       "      <td>GB</td>\n",
       "      <td>1999.0</td>\n",
       "      <td>Role-Playing</td>\n",
       "      <td>9.00</td>\n",
       "      <td>6.18</td>\n",
       "      <td>7.20</td>\n",
       "      <td>0.71</td>\n",
       "      <td>NaN</td>\n",
       "      <td>NaN</td>\n",
       "      <td>NaN</td>\n",
       "    </tr>\n",
       "    <tr>\n",
       "      <th>13</th>\n",
       "      <td>Wii Fit</td>\n",
       "      <td>Wii</td>\n",
       "      <td>2007.0</td>\n",
       "      <td>Sports</td>\n",
       "      <td>8.92</td>\n",
       "      <td>8.03</td>\n",
       "      <td>3.60</td>\n",
       "      <td>2.15</td>\n",
       "      <td>80.0</td>\n",
       "      <td>7.7</td>\n",
       "      <td>E</td>\n",
       "    </tr>\n",
       "    <tr>\n",
       "      <th>14</th>\n",
       "      <td>Kinect Adventures!</td>\n",
       "      <td>X360</td>\n",
       "      <td>2010.0</td>\n",
       "      <td>Misc</td>\n",
       "      <td>15.00</td>\n",
       "      <td>4.89</td>\n",
       "      <td>0.24</td>\n",
       "      <td>1.69</td>\n",
       "      <td>61.0</td>\n",
       "      <td>6.3</td>\n",
       "      <td>E</td>\n",
       "    </tr>\n",
       "    <tr>\n",
       "      <th>15</th>\n",
       "      <td>Wii Fit Plus</td>\n",
       "      <td>Wii</td>\n",
       "      <td>2009.0</td>\n",
       "      <td>Sports</td>\n",
       "      <td>9.01</td>\n",
       "      <td>8.49</td>\n",
       "      <td>2.53</td>\n",
       "      <td>1.77</td>\n",
       "      <td>80.0</td>\n",
       "      <td>7.4</td>\n",
       "      <td>E</td>\n",
       "    </tr>\n",
       "    <tr>\n",
       "      <th>16</th>\n",
       "      <td>Grand Theft Auto V</td>\n",
       "      <td>PS3</td>\n",
       "      <td>2013.0</td>\n",
       "      <td>Action</td>\n",
       "      <td>7.02</td>\n",
       "      <td>9.09</td>\n",
       "      <td>0.98</td>\n",
       "      <td>3.96</td>\n",
       "      <td>97.0</td>\n",
       "      <td>8.2</td>\n",
       "      <td>M</td>\n",
       "    </tr>\n",
       "    <tr>\n",
       "      <th>17</th>\n",
       "      <td>Grand Theft Auto: San Andreas</td>\n",
       "      <td>PS2</td>\n",
       "      <td>2004.0</td>\n",
       "      <td>Action</td>\n",
       "      <td>9.43</td>\n",
       "      <td>0.40</td>\n",
       "      <td>0.41</td>\n",
       "      <td>10.57</td>\n",
       "      <td>95.0</td>\n",
       "      <td>9</td>\n",
       "      <td>M</td>\n",
       "    </tr>\n",
       "    <tr>\n",
       "      <th>18</th>\n",
       "      <td>Super Mario World</td>\n",
       "      <td>SNES</td>\n",
       "      <td>1990.0</td>\n",
       "      <td>Platform</td>\n",
       "      <td>12.78</td>\n",
       "      <td>3.75</td>\n",
       "      <td>3.54</td>\n",
       "      <td>0.55</td>\n",
       "      <td>NaN</td>\n",
       "      <td>NaN</td>\n",
       "      <td>NaN</td>\n",
       "    </tr>\n",
       "    <tr>\n",
       "      <th>19</th>\n",
       "      <td>Brain Age: Train Your Brain in Minutes a Day</td>\n",
       "      <td>DS</td>\n",
       "      <td>2005.0</td>\n",
       "      <td>Misc</td>\n",
       "      <td>4.74</td>\n",
       "      <td>9.20</td>\n",
       "      <td>4.16</td>\n",
       "      <td>2.04</td>\n",
       "      <td>77.0</td>\n",
       "      <td>7.9</td>\n",
       "      <td>E</td>\n",
       "    </tr>\n",
       "  </tbody>\n",
       "</table>\n",
       "</div>"
      ],
      "text/plain": [
       "                                            Name Platform  Year_of_Release  \\\n",
       "0                                     Wii Sports      Wii           2006.0   \n",
       "1                              Super Mario Bros.      NES           1985.0   \n",
       "2                                 Mario Kart Wii      Wii           2008.0   \n",
       "3                              Wii Sports Resort      Wii           2009.0   \n",
       "4                       Pokemon Red/Pokemon Blue       GB           1996.0   \n",
       "5                                         Tetris       GB           1989.0   \n",
       "6                          New Super Mario Bros.       DS           2006.0   \n",
       "7                                       Wii Play      Wii           2006.0   \n",
       "8                      New Super Mario Bros. Wii      Wii           2009.0   \n",
       "9                                      Duck Hunt      NES           1984.0   \n",
       "10                                    Nintendogs       DS           2005.0   \n",
       "11                                 Mario Kart DS       DS           2005.0   \n",
       "12                   Pokemon Gold/Pokemon Silver       GB           1999.0   \n",
       "13                                       Wii Fit      Wii           2007.0   \n",
       "14                            Kinect Adventures!     X360           2010.0   \n",
       "15                                  Wii Fit Plus      Wii           2009.0   \n",
       "16                            Grand Theft Auto V      PS3           2013.0   \n",
       "17                 Grand Theft Auto: San Andreas      PS2           2004.0   \n",
       "18                             Super Mario World     SNES           1990.0   \n",
       "19  Brain Age: Train Your Brain in Minutes a Day       DS           2005.0   \n",
       "\n",
       "           Genre  NA_sales  EU_sales  JP_sales  Other_sales  Critic_Score  \\\n",
       "0         Sports     41.36     28.96      3.77         8.45          76.0   \n",
       "1       Platform     29.08      3.58      6.81         0.77           NaN   \n",
       "2         Racing     15.68     12.76      3.79         3.29          82.0   \n",
       "3         Sports     15.61     10.93      3.28         2.95          80.0   \n",
       "4   Role-Playing     11.27      8.89     10.22         1.00           NaN   \n",
       "5         Puzzle     23.20      2.26      4.22         0.58           NaN   \n",
       "6       Platform     11.28      9.14      6.50         2.88          89.0   \n",
       "7           Misc     13.96      9.18      2.93         2.84          58.0   \n",
       "8       Platform     14.44      6.94      4.70         2.24          87.0   \n",
       "9        Shooter     26.93      0.63      0.28         0.47           NaN   \n",
       "10    Simulation      9.05     10.95      1.93         2.74           NaN   \n",
       "11        Racing      9.71      7.47      4.13         1.90          91.0   \n",
       "12  Role-Playing      9.00      6.18      7.20         0.71           NaN   \n",
       "13        Sports      8.92      8.03      3.60         2.15          80.0   \n",
       "14          Misc     15.00      4.89      0.24         1.69          61.0   \n",
       "15        Sports      9.01      8.49      2.53         1.77          80.0   \n",
       "16        Action      7.02      9.09      0.98         3.96          97.0   \n",
       "17        Action      9.43      0.40      0.41        10.57          95.0   \n",
       "18      Platform     12.78      3.75      3.54         0.55           NaN   \n",
       "19          Misc      4.74      9.20      4.16         2.04          77.0   \n",
       "\n",
       "   User_Score Rating  \n",
       "0           8      E  \n",
       "1         NaN    NaN  \n",
       "2         8.3      E  \n",
       "3           8      E  \n",
       "4         NaN    NaN  \n",
       "5         NaN    NaN  \n",
       "6         8.5      E  \n",
       "7         6.6      E  \n",
       "8         8.4      E  \n",
       "9         NaN    NaN  \n",
       "10        NaN    NaN  \n",
       "11        8.6      E  \n",
       "12        NaN    NaN  \n",
       "13        7.7      E  \n",
       "14        6.3      E  \n",
       "15        7.4      E  \n",
       "16        8.2      M  \n",
       "17          9      M  \n",
       "18        NaN    NaN  \n",
       "19        7.9      E  "
      ]
     },
     "metadata": {},
     "output_type": "display_data"
    }
   ],
   "source": [
    "data = pd.read_csv('/datasets/games.csv')\n",
    "\n",
    "display(data.head(20))"
   ]
  },
  {
   "cell_type": "markdown",
   "metadata": {},
   "source": [
    "**Также, выведем общую информацию о датафрейме.**"
   ]
  },
  {
   "cell_type": "code",
   "execution_count": 141,
   "metadata": {},
   "outputs": [
    {
     "name": "stdout",
     "output_type": "stream",
     "text": [
      "<class 'pandas.core.frame.DataFrame'>\n",
      "RangeIndex: 16715 entries, 0 to 16714\n",
      "Data columns (total 11 columns):\n",
      " #   Column           Non-Null Count  Dtype  \n",
      "---  ------           --------------  -----  \n",
      " 0   Name             16713 non-null  object \n",
      " 1   Platform         16715 non-null  object \n",
      " 2   Year_of_Release  16446 non-null  float64\n",
      " 3   Genre            16713 non-null  object \n",
      " 4   NA_sales         16715 non-null  float64\n",
      " 5   EU_sales         16715 non-null  float64\n",
      " 6   JP_sales         16715 non-null  float64\n",
      " 7   Other_sales      16715 non-null  float64\n",
      " 8   Critic_Score     8137 non-null   float64\n",
      " 9   User_Score       10014 non-null  object \n",
      " 10  Rating           9949 non-null   object \n",
      "dtypes: float64(6), object(5)\n",
      "memory usage: 1.4+ MB\n",
      "None\n"
     ]
    }
   ],
   "source": [
    "print(data.info())"
   ]
  },
  {
   "cell_type": "markdown",
   "metadata": {},
   "source": [
    "### Промежуточный вывод по изученным данным"
   ]
  },
  {
   "cell_type": "markdown",
   "metadata": {},
   "source": [
    "**По изученным данным можно заметить, что в датафрейме:**\n",
    "1. имеются пропуски;\n",
    "2. названия столбцов имеют верхний регистр;\n",
    "3. возможно присутствуют дубликаты.;\n",
    "4. в некоторых столбцах нужно поменять тип данных.\n",
    "<br>\n",
    "**Столбцы в которых нужно поменять тип данных:**\n",
    "* Тип данных в столбце Year_of_Release надо заменить на int64 (так как год может быть представлен только в виде целочисленного значения).\n",
    "* Тип данных в столбце User_Score надо заменить на float (так как рейтинг представлен в виде нецелочисленного значения)."
   ]
  },
  {
   "cell_type": "markdown",
   "metadata": {},
   "source": [
    "## Предобработка данных"
   ]
  },
  {
   "cell_type": "markdown",
   "metadata": {},
   "source": [
    "### Заменим названия столбцов"
   ]
  },
  {
   "cell_type": "code",
   "execution_count": 142,
   "metadata": {},
   "outputs": [
    {
     "name": "stdout",
     "output_type": "stream",
     "text": [
      "Index(['name', 'platform', 'year_of_release', 'genre', 'na_sales', 'eu_sales',\n",
      "       'jp_sales', 'other_sales', 'critic_score', 'user_score', 'rating'],\n",
      "      dtype='object')\n"
     ]
    }
   ],
   "source": [
    "data.columns = data.columns.str.lower() # используем метод str.lower() для приведения к нижнему регистру \n",
    "\n",
    "print(data.columns)"
   ]
  },
  {
   "cell_type": "markdown",
   "metadata": {},
   "source": [
    "### Преобразование данных в нужные типы. Обработка пропусков."
   ]
  },
  {
   "cell_type": "markdown",
   "metadata": {},
   "source": [
    "**Столбец 'name'**\n",
    "<br>\n",
    "<br> *Посмотрим на пропуски в столбце*"
   ]
  },
  {
   "cell_type": "code",
   "execution_count": 143,
   "metadata": {},
   "outputs": [
    {
     "data": {
      "text/html": [
       "<div>\n",
       "<style scoped>\n",
       "    .dataframe tbody tr th:only-of-type {\n",
       "        vertical-align: middle;\n",
       "    }\n",
       "\n",
       "    .dataframe tbody tr th {\n",
       "        vertical-align: top;\n",
       "    }\n",
       "\n",
       "    .dataframe thead th {\n",
       "        text-align: right;\n",
       "    }\n",
       "</style>\n",
       "<table border=\"1\" class=\"dataframe\">\n",
       "  <thead>\n",
       "    <tr style=\"text-align: right;\">\n",
       "      <th></th>\n",
       "      <th>name</th>\n",
       "      <th>platform</th>\n",
       "      <th>year_of_release</th>\n",
       "      <th>genre</th>\n",
       "      <th>na_sales</th>\n",
       "      <th>eu_sales</th>\n",
       "      <th>jp_sales</th>\n",
       "      <th>other_sales</th>\n",
       "      <th>critic_score</th>\n",
       "      <th>user_score</th>\n",
       "      <th>rating</th>\n",
       "    </tr>\n",
       "  </thead>\n",
       "  <tbody>\n",
       "    <tr>\n",
       "      <th>659</th>\n",
       "      <td>NaN</td>\n",
       "      <td>GEN</td>\n",
       "      <td>1993.0</td>\n",
       "      <td>NaN</td>\n",
       "      <td>1.78</td>\n",
       "      <td>0.53</td>\n",
       "      <td>0.00</td>\n",
       "      <td>0.08</td>\n",
       "      <td>NaN</td>\n",
       "      <td>NaN</td>\n",
       "      <td>NaN</td>\n",
       "    </tr>\n",
       "    <tr>\n",
       "      <th>14244</th>\n",
       "      <td>NaN</td>\n",
       "      <td>GEN</td>\n",
       "      <td>1993.0</td>\n",
       "      <td>NaN</td>\n",
       "      <td>0.00</td>\n",
       "      <td>0.00</td>\n",
       "      <td>0.03</td>\n",
       "      <td>0.00</td>\n",
       "      <td>NaN</td>\n",
       "      <td>NaN</td>\n",
       "      <td>NaN</td>\n",
       "    </tr>\n",
       "  </tbody>\n",
       "</table>\n",
       "</div>"
      ],
      "text/plain": [
       "      name platform  year_of_release genre  na_sales  eu_sales  jp_sales  \\\n",
       "659    NaN      GEN           1993.0   NaN      1.78      0.53      0.00   \n",
       "14244  NaN      GEN           1993.0   NaN      0.00      0.00      0.03   \n",
       "\n",
       "       other_sales  critic_score user_score rating  \n",
       "659           0.08           NaN        NaN    NaN  \n",
       "14244         0.00           NaN        NaN    NaN  "
      ]
     },
     "metadata": {},
     "output_type": "display_data"
    }
   ],
   "source": [
    "display(data[data['name'].isnull()])"
   ]
  },
  {
   "cell_type": "markdown",
   "metadata": {},
   "source": [
    "*В двух строках в столбце name отсутствуют имена. Возможно их не указали при заполнении данных. Эти строки придётся удалить.*"
   ]
  },
  {
   "cell_type": "code",
   "execution_count": 144,
   "metadata": {},
   "outputs": [
    {
     "name": "stdout",
     "output_type": "stream",
     "text": [
      "0\n"
     ]
    }
   ],
   "source": [
    "data.dropna(subset = ['name'], inplace = True)\n",
    "\n",
    "print(data['name'].isnull().sum()) # вывод для того, чтобы проверить, что пропуски удалены"
   ]
  },
  {
   "cell_type": "markdown",
   "metadata": {},
   "source": [
    "**Столбец 'year_of_release'**\n",
    "<br>\n",
    "<br>*Некоторые пропуски в данном столбце, мы можем заполнить исходя из того, что игры выпущенные на разных платформах, выпускались в один год.*"
   ]
  },
  {
   "cell_type": "code",
   "execution_count": 145,
   "metadata": {},
   "outputs": [
    {
     "name": "stdout",
     "output_type": "stream",
     "text": [
      "Количество пропусков в столбе \"год релиза\" = 269\n"
     ]
    }
   ],
   "source": [
    "print('Количество пропусков в столбе \"год релиза\" =', data['year_of_release'].isna().sum())"
   ]
  },
  {
   "cell_type": "code",
   "execution_count": 146,
   "metadata": {},
   "outputs": [],
   "source": [
    "data['year_of_release'] = data['year_of_release'].fillna(data.groupby('name')['year_of_release'].transform('median'))\n",
    "data = data.dropna(subset=['year_of_release'])"
   ]
  },
  {
   "cell_type": "code",
   "execution_count": 147,
   "metadata": {},
   "outputs": [
    {
     "name": "stdout",
     "output_type": "stream",
     "text": [
      "Количество пропусков в столбе \"год релиза\" после обработки = 0\n"
     ]
    }
   ],
   "source": [
    "print('Количество пропусков в столбе \"год релиза\" после обработки =', data['year_of_release'].isna().sum())"
   ]
  },
  {
   "cell_type": "markdown",
   "metadata": {},
   "source": [
    "*Преобразуем тип данных*"
   ]
  },
  {
   "cell_type": "code",
   "execution_count": 148,
   "metadata": {},
   "outputs": [],
   "source": [
    "data['year_of_release'] = data['year_of_release'].astype('int')"
   ]
  },
  {
   "cell_type": "markdown",
   "metadata": {},
   "source": [
    "*Вывод для проверки изменённого типа данных*"
   ]
  },
  {
   "cell_type": "code",
   "execution_count": 149,
   "metadata": {},
   "outputs": [
    {
     "name": "stdout",
     "output_type": "stream",
     "text": [
      "0    2006\n",
      "1    1985\n",
      "2    2008\n",
      "3    2009\n",
      "4    1996\n",
      "Name: year_of_release, dtype: int64\n"
     ]
    }
   ],
   "source": [
    "print(data['year_of_release'].head())"
   ]
  },
  {
   "cell_type": "markdown",
   "metadata": {},
   "source": [
    "**Столбец 'critic_score'**\n",
    "<br>\n",
    "<br>*Показатель типа рейтинг - порядковая переменная, поэтому пропущенные значения в ячейке \"оценка критиков\" заменим на -1 (группа для пропущенных значений)*\n",
    "<br>\n",
    "<br>*Значения могли быть пропущенны по каким-либо техническим причинам или игра просто не оценивалась (игра выпускалась только для внутреннего рынка, не популярный жанр, определенная возрастная аудитория)*"
   ]
  },
  {
   "cell_type": "code",
   "execution_count": 150,
   "metadata": {},
   "outputs": [
    {
     "name": "stdout",
     "output_type": "stream",
     "text": [
      "Количество пропусков в столбе \"оценка критиков\" = 8492\n"
     ]
    }
   ],
   "source": [
    "print('Количество пропусков в столбе \"оценка критиков\" =', data['critic_score'].isna().sum())"
   ]
  },
  {
   "cell_type": "code",
   "execution_count": 151,
   "metadata": {},
   "outputs": [],
   "source": [
    "data['critic_score'] = data['critic_score'].fillna(-1) # использование метода fillna() для заполнения пропусков значением -1"
   ]
  },
  {
   "cell_type": "code",
   "execution_count": 152,
   "metadata": {},
   "outputs": [
    {
     "name": "stdout",
     "output_type": "stream",
     "text": [
      " Количество пропусков в столбе \"оценка критиков\" после обработки -  0\n"
     ]
    }
   ],
   "source": [
    "print(' Количество пропусков в столбе \"оценка критиков\" после обработки - ', data['critic_score'].isna().sum())"
   ]
  },
  {
   "cell_type": "markdown",
   "metadata": {},
   "source": [
    "*Преобразуем тип данных*"
   ]
  },
  {
   "cell_type": "code",
   "execution_count": 153,
   "metadata": {},
   "outputs": [],
   "source": [
    "data['critic_score'] = data['critic_score'].astype('int')"
   ]
  },
  {
   "cell_type": "markdown",
   "metadata": {},
   "source": [
    "*Вывод для проверки изменённого типа данных*"
   ]
  },
  {
   "cell_type": "code",
   "execution_count": 154,
   "metadata": {},
   "outputs": [
    {
     "name": "stdout",
     "output_type": "stream",
     "text": [
      "0    76\n",
      "1    -1\n",
      "2    82\n",
      "3    80\n",
      "4    -1\n",
      "Name: critic_score, dtype: int64\n"
     ]
    }
   ],
   "source": [
    "print(data['critic_score'].head())"
   ]
  },
  {
   "cell_type": "markdown",
   "metadata": {},
   "source": [
    "**Столбец 'user_score'**\n",
    "<br>\n",
    "<br>*Показатель типа рейтинг - порядковая переменная, поэтому пропущенные значения в ячейке \"оценка критиков\" заменим на -1 (группа для пропущенных значений).*\n",
    "<br>\n",
    "<br>*Значения могли быть пропущенны по каким-либо техническим причинам или игра просто не оценивалась (игра выпускалась только для внутреннего рынка, не популярный жанр, определенная возрастная аудитория).*"
   ]
  },
  {
   "cell_type": "markdown",
   "metadata": {},
   "source": [
    "Для начала посмотрим на уникальные значения столбца."
   ]
  },
  {
   "cell_type": "code",
   "execution_count": 155,
   "metadata": {},
   "outputs": [
    {
     "data": {
      "text/plain": [
       "array(['8', nan, '8.3', '8.5', '6.6', '8.4', '8.6', '7.7', '6.3', '7.4',\n",
       "       '8.2', '9', '7.9', '8.1', '8.7', '7.1', '3.4', '5.3', '4.8', '3.2',\n",
       "       '8.9', '6.4', '7.8', '7.5', '2.6', '7.2', '9.2', '7', '7.3', '4.3',\n",
       "       '7.6', '5.7', '5', '9.1', '6.5', 'tbd', '8.8', '6.9', '9.4', '6.8',\n",
       "       '6.1', '6.7', '5.4', '4', '4.9', '4.5', '9.3', '6.2', '4.2', '6',\n",
       "       '3.7', '4.1', '5.8', '5.6', '5.5', '4.4', '4.6', '5.9', '3.9',\n",
       "       '3.1', '2.9', '5.2', '3.3', '4.7', '5.1', '3.5', '2.5', '1.9', '3',\n",
       "       '2.7', '2.2', '2', '9.5', '2.1', '3.6', '2.8', '1.8', '3.8', '0',\n",
       "       '1.6', '9.6', '2.4', '1.7', '1.1', '0.3', '1.5', '0.7', '1.2',\n",
       "       '2.3', '0.5', '1.3', '0.2', '0.6', '1.4', '0.9', '1', '9.7'],\n",
       "      dtype=object)"
      ]
     },
     "metadata": {},
     "output_type": "display_data"
    }
   ],
   "source": [
    "display(data['user_score'].unique())"
   ]
  },
  {
   "cell_type": "markdown",
   "metadata": {},
   "source": [
    "**Можем заметить, что в данном столбце присутствует аббревиатура 'tbd', которая расшифровывается как 'to be determined' и означает 'подлежит обсуждению', то есть значит,что оценка не определена.**\n",
    "<br>\n",
    "**Заменим абривиатуру на NaN.**"
   ]
  },
  {
   "cell_type": "code",
   "execution_count": 156,
   "metadata": {},
   "outputs": [],
   "source": [
    "data['user_score'] = data['user_score'].replace('tbd', np.nan)"
   ]
  },
  {
   "cell_type": "code",
   "execution_count": 157,
   "metadata": {},
   "outputs": [
    {
     "name": "stdout",
     "output_type": "stream",
     "text": [
      "Количество пропусков в столбе \"оценка игроков\" = 9027\n"
     ]
    }
   ],
   "source": [
    "print('Количество пропусков в столбе \"оценка игроков\" =', data['user_score'].isnull().sum())"
   ]
  },
  {
   "cell_type": "code",
   "execution_count": 158,
   "metadata": {},
   "outputs": [],
   "source": [
    "data['user_score'] = data['user_score'].fillna(-1.0)"
   ]
  },
  {
   "cell_type": "code",
   "execution_count": 159,
   "metadata": {},
   "outputs": [
    {
     "name": "stdout",
     "output_type": "stream",
     "text": [
      "Количество пропусков в столбе \"оценка игроков\" после обработки = 0\n"
     ]
    }
   ],
   "source": [
    "print('Количество пропусков в столбе \"оценка игроков\" после обработки =', data['user_score'].isnull().sum())"
   ]
  },
  {
   "cell_type": "markdown",
   "metadata": {},
   "source": [
    "*Преобразуем тип данных*"
   ]
  },
  {
   "cell_type": "code",
   "execution_count": 160,
   "metadata": {},
   "outputs": [],
   "source": [
    "data['user_score'] = data['user_score'].astype('float')"
   ]
  },
  {
   "cell_type": "markdown",
   "metadata": {},
   "source": [
    "*Вывод для проверки изменённого типа данных*"
   ]
  },
  {
   "cell_type": "code",
   "execution_count": 161,
   "metadata": {},
   "outputs": [
    {
     "name": "stdout",
     "output_type": "stream",
     "text": [
      "0    8.0\n",
      "1   -1.0\n",
      "2    8.3\n",
      "3    8.0\n",
      "4   -1.0\n",
      "Name: user_score, dtype: float64\n"
     ]
    }
   ],
   "source": [
    "print(data['user_score'].head())"
   ]
  },
  {
   "cell_type": "markdown",
   "metadata": {},
   "source": [
    "**Столбец 'rating'**\n",
    "<br>\n",
    "<br>*Заполним пропущенные значения аббревиатурой \"NR\", которая расшифровывается, как \"Not rated\"*\n",
    "<br>\n",
    "<br>*Значения могли быть пропущенны по каким-либо техническим причинам или игра просто не оценивалась (игра выпускалась только для внутреннего рынка, не популярный жанр, определенная возрастная аудитория).*"
   ]
  },
  {
   "cell_type": "code",
   "execution_count": 162,
   "metadata": {},
   "outputs": [
    {
     "name": "stdout",
     "output_type": "stream",
     "text": [
      "Количество пропусков в столбце \"возрастной рейтинг\" = 6699\n"
     ]
    }
   ],
   "source": [
    "print('Количество пропусков в столбце \"возрастной рейтинг\" =', data['rating'].isnull().sum())"
   ]
  },
  {
   "cell_type": "code",
   "execution_count": 163,
   "metadata": {},
   "outputs": [],
   "source": [
    "data['rating'] = data['rating'].fillna('NR')"
   ]
  },
  {
   "cell_type": "code",
   "execution_count": 164,
   "metadata": {},
   "outputs": [
    {
     "name": "stdout",
     "output_type": "stream",
     "text": [
      "Количество пропусков в столбце \"возрастной рейтинг\" после обработки = 0\n"
     ]
    }
   ],
   "source": [
    "print('Количество пропусков в столбце \"возрастной рейтинг\" после обработки =', data['rating'].isnull().sum())"
   ]
  },
  {
   "cell_type": "markdown",
   "metadata": {},
   "source": [
    "### Посчитаем суммарные продажи во всех регионах и запишим их в отдельный столбец."
   ]
  },
  {
   "cell_type": "code",
   "execution_count": 165,
   "metadata": {},
   "outputs": [],
   "source": [
    "data['total_sales'] = data['na_sales'] + data['eu_sales'] + data['jp_sales'] + data['other_sales']"
   ]
  },
  {
   "cell_type": "code",
   "execution_count": 166,
   "metadata": {},
   "outputs": [
    {
     "data": {
      "text/html": [
       "<div>\n",
       "<style scoped>\n",
       "    .dataframe tbody tr th:only-of-type {\n",
       "        vertical-align: middle;\n",
       "    }\n",
       "\n",
       "    .dataframe tbody tr th {\n",
       "        vertical-align: top;\n",
       "    }\n",
       "\n",
       "    .dataframe thead th {\n",
       "        text-align: right;\n",
       "    }\n",
       "</style>\n",
       "<table border=\"1\" class=\"dataframe\">\n",
       "  <thead>\n",
       "    <tr style=\"text-align: right;\">\n",
       "      <th></th>\n",
       "      <th>name</th>\n",
       "      <th>platform</th>\n",
       "      <th>year_of_release</th>\n",
       "      <th>genre</th>\n",
       "      <th>na_sales</th>\n",
       "      <th>eu_sales</th>\n",
       "      <th>jp_sales</th>\n",
       "      <th>other_sales</th>\n",
       "      <th>critic_score</th>\n",
       "      <th>user_score</th>\n",
       "      <th>rating</th>\n",
       "      <th>total_sales</th>\n",
       "    </tr>\n",
       "  </thead>\n",
       "  <tbody>\n",
       "    <tr>\n",
       "      <th>0</th>\n",
       "      <td>Wii Sports</td>\n",
       "      <td>Wii</td>\n",
       "      <td>2006</td>\n",
       "      <td>Sports</td>\n",
       "      <td>41.36</td>\n",
       "      <td>28.96</td>\n",
       "      <td>3.77</td>\n",
       "      <td>8.45</td>\n",
       "      <td>76</td>\n",
       "      <td>8.0</td>\n",
       "      <td>E</td>\n",
       "      <td>82.54</td>\n",
       "    </tr>\n",
       "    <tr>\n",
       "      <th>1</th>\n",
       "      <td>Super Mario Bros.</td>\n",
       "      <td>NES</td>\n",
       "      <td>1985</td>\n",
       "      <td>Platform</td>\n",
       "      <td>29.08</td>\n",
       "      <td>3.58</td>\n",
       "      <td>6.81</td>\n",
       "      <td>0.77</td>\n",
       "      <td>-1</td>\n",
       "      <td>-1.0</td>\n",
       "      <td>NR</td>\n",
       "      <td>40.24</td>\n",
       "    </tr>\n",
       "    <tr>\n",
       "      <th>2</th>\n",
       "      <td>Mario Kart Wii</td>\n",
       "      <td>Wii</td>\n",
       "      <td>2008</td>\n",
       "      <td>Racing</td>\n",
       "      <td>15.68</td>\n",
       "      <td>12.76</td>\n",
       "      <td>3.79</td>\n",
       "      <td>3.29</td>\n",
       "      <td>82</td>\n",
       "      <td>8.3</td>\n",
       "      <td>E</td>\n",
       "      <td>35.52</td>\n",
       "    </tr>\n",
       "    <tr>\n",
       "      <th>3</th>\n",
       "      <td>Wii Sports Resort</td>\n",
       "      <td>Wii</td>\n",
       "      <td>2009</td>\n",
       "      <td>Sports</td>\n",
       "      <td>15.61</td>\n",
       "      <td>10.93</td>\n",
       "      <td>3.28</td>\n",
       "      <td>2.95</td>\n",
       "      <td>80</td>\n",
       "      <td>8.0</td>\n",
       "      <td>E</td>\n",
       "      <td>32.77</td>\n",
       "    </tr>\n",
       "    <tr>\n",
       "      <th>4</th>\n",
       "      <td>Pokemon Red/Pokemon Blue</td>\n",
       "      <td>GB</td>\n",
       "      <td>1996</td>\n",
       "      <td>Role-Playing</td>\n",
       "      <td>11.27</td>\n",
       "      <td>8.89</td>\n",
       "      <td>10.22</td>\n",
       "      <td>1.00</td>\n",
       "      <td>-1</td>\n",
       "      <td>-1.0</td>\n",
       "      <td>NR</td>\n",
       "      <td>31.38</td>\n",
       "    </tr>\n",
       "  </tbody>\n",
       "</table>\n",
       "</div>"
      ],
      "text/plain": [
       "                       name platform  year_of_release         genre  na_sales  \\\n",
       "0                Wii Sports      Wii             2006        Sports     41.36   \n",
       "1         Super Mario Bros.      NES             1985      Platform     29.08   \n",
       "2            Mario Kart Wii      Wii             2008        Racing     15.68   \n",
       "3         Wii Sports Resort      Wii             2009        Sports     15.61   \n",
       "4  Pokemon Red/Pokemon Blue       GB             1996  Role-Playing     11.27   \n",
       "\n",
       "   eu_sales  jp_sales  other_sales  critic_score  user_score rating  \\\n",
       "0     28.96      3.77         8.45            76         8.0      E   \n",
       "1      3.58      6.81         0.77            -1        -1.0     NR   \n",
       "2     12.76      3.79         3.29            82         8.3      E   \n",
       "3     10.93      3.28         2.95            80         8.0      E   \n",
       "4      8.89     10.22         1.00            -1        -1.0     NR   \n",
       "\n",
       "   total_sales  \n",
       "0        82.54  \n",
       "1        40.24  \n",
       "2        35.52  \n",
       "3        32.77  \n",
       "4        31.38  "
      ]
     },
     "metadata": {},
     "output_type": "display_data"
    }
   ],
   "source": [
    "display(data.head())"
   ]
  },
  {
   "cell_type": "markdown",
   "metadata": {},
   "source": [
    "### Проверим данные на наличие дубликатов."
   ]
  },
  {
   "cell_type": "markdown",
   "metadata": {},
   "source": [
    "**Явные дубликаты**"
   ]
  },
  {
   "cell_type": "code",
   "execution_count": 167,
   "metadata": {},
   "outputs": [
    {
     "name": "stdout",
     "output_type": "stream",
     "text": [
      "0\n"
     ]
    }
   ],
   "source": [
    "print(data.duplicated().sum())"
   ]
  },
  {
   "cell_type": "markdown",
   "metadata": {},
   "source": [
    "**Явные дубликаты отсутствуют. Проверим наличие неявных дубликатов**"
   ]
  },
  {
   "cell_type": "code",
   "execution_count": 168,
   "metadata": {},
   "outputs": [
    {
     "data": {
      "text/html": [
       "<div>\n",
       "<style scoped>\n",
       "    .dataframe tbody tr th:only-of-type {\n",
       "        vertical-align: middle;\n",
       "    }\n",
       "\n",
       "    .dataframe tbody tr th {\n",
       "        vertical-align: top;\n",
       "    }\n",
       "\n",
       "    .dataframe thead th {\n",
       "        text-align: right;\n",
       "    }\n",
       "</style>\n",
       "<table border=\"1\" class=\"dataframe\">\n",
       "  <thead>\n",
       "    <tr style=\"text-align: right;\">\n",
       "      <th></th>\n",
       "      <th>name</th>\n",
       "      <th>platform</th>\n",
       "      <th>year_of_release</th>\n",
       "      <th>genre</th>\n",
       "      <th>na_sales</th>\n",
       "      <th>eu_sales</th>\n",
       "      <th>jp_sales</th>\n",
       "      <th>other_sales</th>\n",
       "      <th>critic_score</th>\n",
       "      <th>user_score</th>\n",
       "      <th>rating</th>\n",
       "      <th>total_sales</th>\n",
       "    </tr>\n",
       "  </thead>\n",
       "  <tbody>\n",
       "    <tr>\n",
       "      <th>1591</th>\n",
       "      <td>Need for Speed: Most Wanted</td>\n",
       "      <td>X360</td>\n",
       "      <td>2005</td>\n",
       "      <td>Racing</td>\n",
       "      <td>1.0</td>\n",
       "      <td>0.13</td>\n",
       "      <td>0.02</td>\n",
       "      <td>0.10</td>\n",
       "      <td>83</td>\n",
       "      <td>8.5</td>\n",
       "      <td>T</td>\n",
       "      <td>1.25</td>\n",
       "    </tr>\n",
       "    <tr>\n",
       "      <th>4127</th>\n",
       "      <td>Sonic the Hedgehog</td>\n",
       "      <td>PS3</td>\n",
       "      <td>2006</td>\n",
       "      <td>Platform</td>\n",
       "      <td>0.0</td>\n",
       "      <td>0.48</td>\n",
       "      <td>0.00</td>\n",
       "      <td>0.00</td>\n",
       "      <td>43</td>\n",
       "      <td>4.1</td>\n",
       "      <td>E10+</td>\n",
       "      <td>0.48</td>\n",
       "    </tr>\n",
       "    <tr>\n",
       "      <th>11715</th>\n",
       "      <td>Need for Speed: Most Wanted</td>\n",
       "      <td>PC</td>\n",
       "      <td>2012</td>\n",
       "      <td>Racing</td>\n",
       "      <td>0.0</td>\n",
       "      <td>0.06</td>\n",
       "      <td>0.00</td>\n",
       "      <td>0.02</td>\n",
       "      <td>82</td>\n",
       "      <td>8.5</td>\n",
       "      <td>T</td>\n",
       "      <td>0.08</td>\n",
       "    </tr>\n",
       "    <tr>\n",
       "      <th>16230</th>\n",
       "      <td>Madden NFL 13</td>\n",
       "      <td>PS3</td>\n",
       "      <td>2012</td>\n",
       "      <td>Sports</td>\n",
       "      <td>0.0</td>\n",
       "      <td>0.01</td>\n",
       "      <td>0.00</td>\n",
       "      <td>0.00</td>\n",
       "      <td>83</td>\n",
       "      <td>5.5</td>\n",
       "      <td>E</td>\n",
       "      <td>0.01</td>\n",
       "    </tr>\n",
       "  </tbody>\n",
       "</table>\n",
       "</div>"
      ],
      "text/plain": [
       "                              name platform  year_of_release     genre  \\\n",
       "1591   Need for Speed: Most Wanted     X360             2005    Racing   \n",
       "4127            Sonic the Hedgehog      PS3             2006  Platform   \n",
       "11715  Need for Speed: Most Wanted       PC             2012    Racing   \n",
       "16230                Madden NFL 13      PS3             2012    Sports   \n",
       "\n",
       "       na_sales  eu_sales  jp_sales  other_sales  critic_score  user_score  \\\n",
       "1591        1.0      0.13      0.02         0.10            83         8.5   \n",
       "4127        0.0      0.48      0.00         0.00            43         4.1   \n",
       "11715       0.0      0.06      0.00         0.02            82         8.5   \n",
       "16230       0.0      0.01      0.00         0.00            83         5.5   \n",
       "\n",
       "      rating  total_sales  \n",
       "1591       T         1.25  \n",
       "4127    E10+         0.48  \n",
       "11715      T         0.08  \n",
       "16230      E         0.01  "
      ]
     },
     "metadata": {},
     "output_type": "display_data"
    }
   ],
   "source": [
    "display(data[data.duplicated(subset = ['name', 'platform'])])"
   ]
  },
  {
   "cell_type": "markdown",
   "metadata": {},
   "source": [
    "**Можем заметить, что у нас есть 4 игры, которые являются дубликатами. Проверим, так ли это.**"
   ]
  },
  {
   "cell_type": "markdown",
   "metadata": {},
   "source": [
    "**Игра - Need for Speed: Most Wanted. Платформа - X360.**"
   ]
  },
  {
   "cell_type": "code",
   "execution_count": 169,
   "metadata": {},
   "outputs": [
    {
     "data": {
      "text/html": [
       "<div>\n",
       "<style scoped>\n",
       "    .dataframe tbody tr th:only-of-type {\n",
       "        vertical-align: middle;\n",
       "    }\n",
       "\n",
       "    .dataframe tbody tr th {\n",
       "        vertical-align: top;\n",
       "    }\n",
       "\n",
       "    .dataframe thead th {\n",
       "        text-align: right;\n",
       "    }\n",
       "</style>\n",
       "<table border=\"1\" class=\"dataframe\">\n",
       "  <thead>\n",
       "    <tr style=\"text-align: right;\">\n",
       "      <th></th>\n",
       "      <th>name</th>\n",
       "      <th>platform</th>\n",
       "      <th>year_of_release</th>\n",
       "      <th>genre</th>\n",
       "      <th>na_sales</th>\n",
       "      <th>eu_sales</th>\n",
       "      <th>jp_sales</th>\n",
       "      <th>other_sales</th>\n",
       "      <th>critic_score</th>\n",
       "      <th>user_score</th>\n",
       "      <th>rating</th>\n",
       "      <th>total_sales</th>\n",
       "    </tr>\n",
       "  </thead>\n",
       "  <tbody>\n",
       "    <tr>\n",
       "      <th>1190</th>\n",
       "      <td>Need for Speed: Most Wanted</td>\n",
       "      <td>X360</td>\n",
       "      <td>2012</td>\n",
       "      <td>Racing</td>\n",
       "      <td>0.62</td>\n",
       "      <td>0.78</td>\n",
       "      <td>0.01</td>\n",
       "      <td>0.15</td>\n",
       "      <td>83</td>\n",
       "      <td>8.5</td>\n",
       "      <td>T</td>\n",
       "      <td>1.56</td>\n",
       "    </tr>\n",
       "    <tr>\n",
       "      <th>1591</th>\n",
       "      <td>Need for Speed: Most Wanted</td>\n",
       "      <td>X360</td>\n",
       "      <td>2005</td>\n",
       "      <td>Racing</td>\n",
       "      <td>1.00</td>\n",
       "      <td>0.13</td>\n",
       "      <td>0.02</td>\n",
       "      <td>0.10</td>\n",
       "      <td>83</td>\n",
       "      <td>8.5</td>\n",
       "      <td>T</td>\n",
       "      <td>1.25</td>\n",
       "    </tr>\n",
       "  </tbody>\n",
       "</table>\n",
       "</div>"
      ],
      "text/plain": [
       "                             name platform  year_of_release   genre  na_sales  \\\n",
       "1190  Need for Speed: Most Wanted     X360             2012  Racing      0.62   \n",
       "1591  Need for Speed: Most Wanted     X360             2005  Racing      1.00   \n",
       "\n",
       "      eu_sales  jp_sales  other_sales  critic_score  user_score rating  \\\n",
       "1190      0.78      0.01         0.15            83         8.5      T   \n",
       "1591      0.13      0.02         0.10            83         8.5      T   \n",
       "\n",
       "      total_sales  \n",
       "1190         1.56  \n",
       "1591         1.25  "
      ]
     },
     "metadata": {},
     "output_type": "display_data"
    }
   ],
   "source": [
    "display(data.query('name == \"Need for Speed: Most Wanted\" & platform == \"X360\"'))"
   ]
  },
  {
   "cell_type": "markdown",
   "metadata": {},
   "source": [
    "**Игра - Sonic the Hedgehog. Платформа - PS3.**"
   ]
  },
  {
   "cell_type": "code",
   "execution_count": 170,
   "metadata": {},
   "outputs": [
    {
     "data": {
      "text/html": [
       "<div>\n",
       "<style scoped>\n",
       "    .dataframe tbody tr th:only-of-type {\n",
       "        vertical-align: middle;\n",
       "    }\n",
       "\n",
       "    .dataframe tbody tr th {\n",
       "        vertical-align: top;\n",
       "    }\n",
       "\n",
       "    .dataframe thead th {\n",
       "        text-align: right;\n",
       "    }\n",
       "</style>\n",
       "<table border=\"1\" class=\"dataframe\">\n",
       "  <thead>\n",
       "    <tr style=\"text-align: right;\">\n",
       "      <th></th>\n",
       "      <th>name</th>\n",
       "      <th>platform</th>\n",
       "      <th>year_of_release</th>\n",
       "      <th>genre</th>\n",
       "      <th>na_sales</th>\n",
       "      <th>eu_sales</th>\n",
       "      <th>jp_sales</th>\n",
       "      <th>other_sales</th>\n",
       "      <th>critic_score</th>\n",
       "      <th>user_score</th>\n",
       "      <th>rating</th>\n",
       "      <th>total_sales</th>\n",
       "    </tr>\n",
       "  </thead>\n",
       "  <tbody>\n",
       "    <tr>\n",
       "      <th>1745</th>\n",
       "      <td>Sonic the Hedgehog</td>\n",
       "      <td>PS3</td>\n",
       "      <td>2006</td>\n",
       "      <td>Platform</td>\n",
       "      <td>0.41</td>\n",
       "      <td>0.06</td>\n",
       "      <td>0.04</td>\n",
       "      <td>0.66</td>\n",
       "      <td>43</td>\n",
       "      <td>4.1</td>\n",
       "      <td>E10+</td>\n",
       "      <td>1.17</td>\n",
       "    </tr>\n",
       "    <tr>\n",
       "      <th>4127</th>\n",
       "      <td>Sonic the Hedgehog</td>\n",
       "      <td>PS3</td>\n",
       "      <td>2006</td>\n",
       "      <td>Platform</td>\n",
       "      <td>0.00</td>\n",
       "      <td>0.48</td>\n",
       "      <td>0.00</td>\n",
       "      <td>0.00</td>\n",
       "      <td>43</td>\n",
       "      <td>4.1</td>\n",
       "      <td>E10+</td>\n",
       "      <td>0.48</td>\n",
       "    </tr>\n",
       "  </tbody>\n",
       "</table>\n",
       "</div>"
      ],
      "text/plain": [
       "                    name platform  year_of_release     genre  na_sales  \\\n",
       "1745  Sonic the Hedgehog      PS3             2006  Platform      0.41   \n",
       "4127  Sonic the Hedgehog      PS3             2006  Platform      0.00   \n",
       "\n",
       "      eu_sales  jp_sales  other_sales  critic_score  user_score rating  \\\n",
       "1745      0.06      0.04         0.66            43         4.1   E10+   \n",
       "4127      0.48      0.00         0.00            43         4.1   E10+   \n",
       "\n",
       "      total_sales  \n",
       "1745         1.17  \n",
       "4127         0.48  "
      ]
     },
     "metadata": {},
     "output_type": "display_data"
    }
   ],
   "source": [
    "display(data.query('name == \"Sonic the Hedgehog\" & platform == \"PS3\"'))"
   ]
  },
  {
   "cell_type": "markdown",
   "metadata": {},
   "source": [
    "**Игра - Need for Speed: Most Wanted. Платформа - PC.**"
   ]
  },
  {
   "cell_type": "code",
   "execution_count": 171,
   "metadata": {},
   "outputs": [
    {
     "data": {
      "text/html": [
       "<div>\n",
       "<style scoped>\n",
       "    .dataframe tbody tr th:only-of-type {\n",
       "        vertical-align: middle;\n",
       "    }\n",
       "\n",
       "    .dataframe tbody tr th {\n",
       "        vertical-align: top;\n",
       "    }\n",
       "\n",
       "    .dataframe thead th {\n",
       "        text-align: right;\n",
       "    }\n",
       "</style>\n",
       "<table border=\"1\" class=\"dataframe\">\n",
       "  <thead>\n",
       "    <tr style=\"text-align: right;\">\n",
       "      <th></th>\n",
       "      <th>name</th>\n",
       "      <th>platform</th>\n",
       "      <th>year_of_release</th>\n",
       "      <th>genre</th>\n",
       "      <th>na_sales</th>\n",
       "      <th>eu_sales</th>\n",
       "      <th>jp_sales</th>\n",
       "      <th>other_sales</th>\n",
       "      <th>critic_score</th>\n",
       "      <th>user_score</th>\n",
       "      <th>rating</th>\n",
       "      <th>total_sales</th>\n",
       "    </tr>\n",
       "  </thead>\n",
       "  <tbody>\n",
       "    <tr>\n",
       "      <th>5972</th>\n",
       "      <td>Need for Speed: Most Wanted</td>\n",
       "      <td>PC</td>\n",
       "      <td>2005</td>\n",
       "      <td>Racing</td>\n",
       "      <td>0.02</td>\n",
       "      <td>0.23</td>\n",
       "      <td>0.0</td>\n",
       "      <td>0.04</td>\n",
       "      <td>82</td>\n",
       "      <td>8.5</td>\n",
       "      <td>T</td>\n",
       "      <td>0.29</td>\n",
       "    </tr>\n",
       "    <tr>\n",
       "      <th>11715</th>\n",
       "      <td>Need for Speed: Most Wanted</td>\n",
       "      <td>PC</td>\n",
       "      <td>2012</td>\n",
       "      <td>Racing</td>\n",
       "      <td>0.00</td>\n",
       "      <td>0.06</td>\n",
       "      <td>0.0</td>\n",
       "      <td>0.02</td>\n",
       "      <td>82</td>\n",
       "      <td>8.5</td>\n",
       "      <td>T</td>\n",
       "      <td>0.08</td>\n",
       "    </tr>\n",
       "  </tbody>\n",
       "</table>\n",
       "</div>"
      ],
      "text/plain": [
       "                              name platform  year_of_release   genre  \\\n",
       "5972   Need for Speed: Most Wanted       PC             2005  Racing   \n",
       "11715  Need for Speed: Most Wanted       PC             2012  Racing   \n",
       "\n",
       "       na_sales  eu_sales  jp_sales  other_sales  critic_score  user_score  \\\n",
       "5972       0.02      0.23       0.0         0.04            82         8.5   \n",
       "11715      0.00      0.06       0.0         0.02            82         8.5   \n",
       "\n",
       "      rating  total_sales  \n",
       "5972       T         0.29  \n",
       "11715      T         0.08  "
      ]
     },
     "metadata": {},
     "output_type": "display_data"
    }
   ],
   "source": [
    "display(data.query('name == \"Need for Speed: Most Wanted\" & platform == \"PC\"'))"
   ]
  },
  {
   "cell_type": "markdown",
   "metadata": {},
   "source": [
    "**Игра - Madden NFL 13. Платформа - PS3\t.**"
   ]
  },
  {
   "cell_type": "code",
   "execution_count": 172,
   "metadata": {},
   "outputs": [
    {
     "data": {
      "text/html": [
       "<div>\n",
       "<style scoped>\n",
       "    .dataframe tbody tr th:only-of-type {\n",
       "        vertical-align: middle;\n",
       "    }\n",
       "\n",
       "    .dataframe tbody tr th {\n",
       "        vertical-align: top;\n",
       "    }\n",
       "\n",
       "    .dataframe thead th {\n",
       "        text-align: right;\n",
       "    }\n",
       "</style>\n",
       "<table border=\"1\" class=\"dataframe\">\n",
       "  <thead>\n",
       "    <tr style=\"text-align: right;\">\n",
       "      <th></th>\n",
       "      <th>name</th>\n",
       "      <th>platform</th>\n",
       "      <th>year_of_release</th>\n",
       "      <th>genre</th>\n",
       "      <th>na_sales</th>\n",
       "      <th>eu_sales</th>\n",
       "      <th>jp_sales</th>\n",
       "      <th>other_sales</th>\n",
       "      <th>critic_score</th>\n",
       "      <th>user_score</th>\n",
       "      <th>rating</th>\n",
       "      <th>total_sales</th>\n",
       "    </tr>\n",
       "  </thead>\n",
       "  <tbody>\n",
       "    <tr>\n",
       "      <th>604</th>\n",
       "      <td>Madden NFL 13</td>\n",
       "      <td>PS3</td>\n",
       "      <td>2012</td>\n",
       "      <td>Sports</td>\n",
       "      <td>2.11</td>\n",
       "      <td>0.22</td>\n",
       "      <td>0.0</td>\n",
       "      <td>0.23</td>\n",
       "      <td>83</td>\n",
       "      <td>5.5</td>\n",
       "      <td>E</td>\n",
       "      <td>2.56</td>\n",
       "    </tr>\n",
       "    <tr>\n",
       "      <th>16230</th>\n",
       "      <td>Madden NFL 13</td>\n",
       "      <td>PS3</td>\n",
       "      <td>2012</td>\n",
       "      <td>Sports</td>\n",
       "      <td>0.00</td>\n",
       "      <td>0.01</td>\n",
       "      <td>0.0</td>\n",
       "      <td>0.00</td>\n",
       "      <td>83</td>\n",
       "      <td>5.5</td>\n",
       "      <td>E</td>\n",
       "      <td>0.01</td>\n",
       "    </tr>\n",
       "  </tbody>\n",
       "</table>\n",
       "</div>"
      ],
      "text/plain": [
       "                name platform  year_of_release   genre  na_sales  eu_sales  \\\n",
       "604    Madden NFL 13      PS3             2012  Sports      2.11      0.22   \n",
       "16230  Madden NFL 13      PS3             2012  Sports      0.00      0.01   \n",
       "\n",
       "       jp_sales  other_sales  critic_score  user_score rating  total_sales  \n",
       "604         0.0         0.23            83         5.5      E         2.56  \n",
       "16230       0.0         0.00            83         5.5      E         0.01  "
      ]
     },
     "metadata": {},
     "output_type": "display_data"
    }
   ],
   "source": [
    "display(data.query('name == \"Madden NFL 13\" & platform == \"PS3\"'))"
   ]
  },
  {
   "cell_type": "markdown",
   "metadata": {},
   "source": [
    "**Для игры \"Need for Speed: Most Wanted\" существует два издания: одно - 2005 года, другое 2012 и называются они совершенно одинаково, но это две разные игры (эта информация есть в интернете). А вот игры: \"Sonic the Hedgehog\" и \"Madden NFL 13\" имеют две строчки дубликатов, от которых нужно избавиться.**"
   ]
  },
  {
   "cell_type": "code",
   "execution_count": 173,
   "metadata": {},
   "outputs": [
    {
     "data": {
      "text/html": [
       "<div>\n",
       "<style scoped>\n",
       "    .dataframe tbody tr th:only-of-type {\n",
       "        vertical-align: middle;\n",
       "    }\n",
       "\n",
       "    .dataframe tbody tr th {\n",
       "        vertical-align: top;\n",
       "    }\n",
       "\n",
       "    .dataframe thead th {\n",
       "        text-align: right;\n",
       "    }\n",
       "</style>\n",
       "<table border=\"1\" class=\"dataframe\">\n",
       "  <thead>\n",
       "    <tr style=\"text-align: right;\">\n",
       "      <th></th>\n",
       "      <th>name</th>\n",
       "      <th>platform</th>\n",
       "      <th>year_of_release</th>\n",
       "      <th>genre</th>\n",
       "      <th>na_sales</th>\n",
       "      <th>eu_sales</th>\n",
       "      <th>jp_sales</th>\n",
       "      <th>other_sales</th>\n",
       "      <th>critic_score</th>\n",
       "      <th>user_score</th>\n",
       "      <th>rating</th>\n",
       "      <th>total_sales</th>\n",
       "    </tr>\n",
       "  </thead>\n",
       "  <tbody>\n",
       "    <tr>\n",
       "      <th>1582</th>\n",
       "      <td>Need for Speed: Most Wanted</td>\n",
       "      <td>X360</td>\n",
       "      <td>2005</td>\n",
       "      <td>Racing</td>\n",
       "      <td>1.0</td>\n",
       "      <td>0.13</td>\n",
       "      <td>0.02</td>\n",
       "      <td>0.10</td>\n",
       "      <td>83</td>\n",
       "      <td>8.5</td>\n",
       "      <td>T</td>\n",
       "      <td>1.25</td>\n",
       "    </tr>\n",
       "    <tr>\n",
       "      <th>11623</th>\n",
       "      <td>Need for Speed: Most Wanted</td>\n",
       "      <td>PC</td>\n",
       "      <td>2012</td>\n",
       "      <td>Racing</td>\n",
       "      <td>0.0</td>\n",
       "      <td>0.06</td>\n",
       "      <td>0.00</td>\n",
       "      <td>0.02</td>\n",
       "      <td>82</td>\n",
       "      <td>8.5</td>\n",
       "      <td>T</td>\n",
       "      <td>0.08</td>\n",
       "    </tr>\n",
       "  </tbody>\n",
       "</table>\n",
       "</div>"
      ],
      "text/plain": [
       "                              name platform  year_of_release   genre  \\\n",
       "1582   Need for Speed: Most Wanted     X360             2005  Racing   \n",
       "11623  Need for Speed: Most Wanted       PC             2012  Racing   \n",
       "\n",
       "       na_sales  eu_sales  jp_sales  other_sales  critic_score  user_score  \\\n",
       "1582        1.0      0.13      0.02         0.10            83         8.5   \n",
       "11623       0.0      0.06      0.00         0.02            82         8.5   \n",
       "\n",
       "      rating  total_sales  \n",
       "1582       T         1.25  \n",
       "11623      T         0.08  "
      ]
     },
     "metadata": {},
     "output_type": "display_data"
    }
   ],
   "source": [
    "data = data.drop(index = [4127, 16230])\n",
    "data.reset_index(drop= True , inplace= True )\n",
    "\n",
    "display(data[data.duplicated(subset = ['name', 'platform'])])"
   ]
  },
  {
   "cell_type": "markdown",
   "metadata": {},
   "source": [
    "**Таким образом мы избавились от дубликатов для пары \"Имя - Игровая консоль\".**"
   ]
  },
  {
   "cell_type": "markdown",
   "metadata": {},
   "source": [
    "### Промежуточный вывод по предобработке данных\n",
    "<br> **На данном этапе:**\n",
    "* В столбце 'name' удалено 2 пропуска ввиду невозможности их восстановления и малого количества;\n",
    "* В столбце 'year_of_release' было обнаружено 269 пропущенных записей (1.6% от общего числа записей). Некоторые пропуски в данном столбце были заполнены годом, взятым по имени той же игры, только на другой игровой платформе. Оставшиеся пропуски были удалены. Также, тип данных в столбце был изменён на int для более удобной работы с данными.\n",
    "* В столбцах 'critic_score' и 'user_score' было обнаружено 8492 (50.80% от общего числа записей) и 9032 (54% от общего числа записей) пропусков, соответственно. Оценки критиков и пользователей были выгружены с веб-сайта Metacritic и вот несколько причин, почему большое количество данных отсутствует:\n",
    "    1. В столбце 'user_score' присутствовали значения \"tbd\", которые расшифровываются как \"to be determined\". Для игр с такой оценкой не хватает пользовательских оценок, чтобы по правилам Metacritic установить рейтинг. Данные значения, были заменены на -1;\n",
    "    2. На Metacritic отсутсвуют игровые платформы, которые были распространены до 2000 года, поэтому данных по этим играм нет;\n",
    "    3. На Metacritic имеются не все игры, выпускаемые в мире, поэтому для них также нет оценок\n",
    "* В столбце 'rating' было обнаружено 6699 пропусков (40.08% от общего числа записей). Пропущенные значения были заполнены аббревиатурой \"NR\".\n",
    "* Также, были посчитаны суммарные продажи во всех регионах для каждой игры. Данные о суммарных продажах записаны в отдельный столбец под названием 'total_sales'.\n",
    "* В конце предобработки данных разобрались с дубликатами. Явных дубликатов не нашлось, а вот неявные, для игр: \"Sonic the Hedgehog\" и \"Madden NFL 13\", две строчки дубликатов, были удалены."
   ]
  },
  {
   "cell_type": "markdown",
   "metadata": {},
   "source": [
    "## Исследовательский анализ данных"
   ]
  },
  {
   "cell_type": "markdown",
   "metadata": {},
   "source": [
    "### Посмотрим, сколько игр выпускалось в разные годы."
   ]
  },
  {
   "cell_type": "code",
   "execution_count": 174,
   "metadata": {},
   "outputs": [
    {
     "data": {
      "image/png": "[encoded data removed]",
      "text/plain": [
       "<Figure size 1440x360 with 1 Axes>"
      ]
     },
     "metadata": {
      "needs_background": "light"
     },
     "output_type": "display_data"
    }
   ],
   "source": [
    "plt.figure(figsize=(20, 5))\n",
    "plt.title('Распределение количества игр по годам.', fontsize=20)\n",
    "plt.ylabel('Количество игр')\n",
    "plt.xlabel('Год выпуска')\n",
    "plt.plot(data.groupby('year_of_release')['name'].count(), 'o-', label='Количество игр', alpha=1)\n",
    "plt.axvspan(1994, 2008, color='red', label='Период роста', alpha = 0.3)\n",
    "plt.grid(True)\n",
    "plt.legend();"
   ]
  },
  {
   "cell_type": "markdown",
   "metadata": {},
   "source": [
    "**На данном графике можем увидеть, что рост количества выпускаемых игр идёт с 1994 года по 2008 год. До 1994 года количество игр оставалось на одном уровне. После 2008 года можем заметить, что идёт спад.**\n",
    "<br>\n",
    "<br> **В 1994 году начался активный рост, как мы видим по графику. Это произошло из-за того, что 1994 стал великим годом в становлении видеоигровой 3D графики. 1994 был годом, когда домашние игровые системы стали достаточно мощными, чтобы двигать прогресс игрового 3D. Помимо этого, в этом же году были выпущены первое поколение консолей, способных рендерить 3D: Nintendo 64 и Playstation.**\n",
    "<br>\n",
    "<br>**Экономический кризис 2008 года повлиял на современные игры и, в целом, на игровую индустрию. Большое количество работников было уволено, многие компании были закрыты из-за отсутствия финансирования. Помимо этого, игры стали выходить на новый уровень и сделать игру становиться всё более сложным и долгим процессом, в котором должна участвовать большая команда. Именно эти факторы влияют на то, что игр становиться меньше, по сравнению с тем количеством, которое было в 2000-х годах.**"
   ]
  },
  {
   "cell_type": "markdown",
   "metadata": {},
   "source": [
    "### Посмотрим, как менялись продажи по платформам."
   ]
  },
  {
   "cell_type": "code",
   "execution_count": 175,
   "metadata": {
    "scrolled": true
   },
   "outputs": [
    {
     "data": {
      "image/png": "[encoded data removed]",
      "text/plain": [
       "<Figure size 1080x360 with 1 Axes>"
      ]
     },
     "metadata": {
      "needs_background": "light"
     },
     "output_type": "display_data"
    }
   ],
   "source": [
    "sales = data.pivot_table(index='platform', values='total_sales', aggfunc='sum').sort_values(\n",
    "    by='total_sales', ascending=False)\n",
    "\n",
    "plt.figure(figsize=(15,5))\n",
    "sb.barplot(x=sales.index,y=sales['total_sales'])\n",
    "plt.title(\"Продажи за всё время\")\n",
    "plt.xlabel(\"Платформа\")\n",
    "plt.ylabel(\"Продано\")\n",
    "plt.show()"
   ]
  },
  {
   "cell_type": "markdown",
   "metadata": {},
   "source": [
    "**Наиболее популярные платформы:**\n",
    "* PS2 - лидер по продажам (за всё время);\n",
    "* X360\n",
    "* PS3\n",
    "* Wii\n",
    "* DS\n",
    "* PS"
   ]
  },
  {
   "cell_type": "markdown",
   "metadata": {},
   "source": [
    "**Построим распределение по годам для 6 наиболее популярных платформ.**\n",
    "**Для этого:**\n",
    "1. Создадим датафрейм, хранящий в себе название платформы и суммарное количество проданных игр для консоли.\n",
    "2. В этом датафрейме выделим 6 лидирующих по продажам платформ и создадим список из их названий.\n",
    "3. Построим график распределения "
   ]
  },
  {
   "cell_type": "code",
   "execution_count": 176,
   "metadata": {},
   "outputs": [
    {
     "name": "stdout",
     "output_type": "stream",
     "text": [
      "platform\n",
      "2600     89.01\n",
      "3DO       0.10\n",
      "3DS     258.53\n",
      "DC       15.95\n",
      "DS      804.28\n",
      "Name: total_sales, dtype: float64\n"
     ]
    }
   ],
   "source": [
    "sales_by_platform = data.groupby('platform')['total_sales'].sum()\n",
    "\n",
    "print(sales_by_platform.head())"
   ]
  },
  {
   "cell_type": "code",
   "execution_count": 177,
   "metadata": {},
   "outputs": [
    {
     "data": {
      "text/plain": [
       "['DS', 'PS', 'PS2', 'PS3', 'Wii', 'X360']"
      ]
     },
     "metadata": {},
     "output_type": "display_data"
    }
   ],
   "source": [
    "leaders = list(sales_by_platform[sales_by_platform > 600].index)\n",
    "display(leaders)"
   ]
  },
  {
   "cell_type": "code",
   "execution_count": 178,
   "metadata": {},
   "outputs": [
    {
     "data": {
      "image/png": "[encoded data removed]",
      "text/plain": [
       "<Figure size 1213.75x720 with 1 Axes>"
      ]
     },
     "metadata": {
      "needs_background": "light"
     },
     "output_type": "display_data"
    }
   ],
   "source": [
    "sb.catplot(\n",
    "    kind='bar',\n",
    "    data=data.query('platform in @leaders'),\n",
    "    x='year_of_release',\n",
    "    y='total_sales',\n",
    "    hue='platform',\n",
    "    height=10,\n",
    "    aspect=1.6,\n",
    "    ci=None,\n",
    "    estimator=sum);\n",
    "plt.xlabel('Год')\n",
    "plt.ylabel('Суммарные продажи игр')\n",
    "plt.grid(linewidth=0.2)\n",
    "plt.title('Суммарные продажи игр для лидирующих платформ по годам')\n",
    "plt.show()"
   ]
  },
  {
   "cell_type": "markdown",
   "metadata": {},
   "source": [
    "**На графике можем заметить аномалию в 1985 году. Проверим, что с ней можно сделать.**\n",
    "<br>\n",
    "<br> **Также, по графику можно понять, что средний срок, за который появляются новые и исчезают старые платформы, 11 лет.**"
   ]
  },
  {
   "cell_type": "code",
   "execution_count": 179,
   "metadata": {},
   "outputs": [
    {
     "data": {
      "text/html": [
       "<div>\n",
       "<style scoped>\n",
       "    .dataframe tbody tr th:only-of-type {\n",
       "        vertical-align: middle;\n",
       "    }\n",
       "\n",
       "    .dataframe tbody tr th {\n",
       "        vertical-align: top;\n",
       "    }\n",
       "\n",
       "    .dataframe thead th {\n",
       "        text-align: right;\n",
       "    }\n",
       "</style>\n",
       "<table border=\"1\" class=\"dataframe\">\n",
       "  <thead>\n",
       "    <tr style=\"text-align: right;\">\n",
       "      <th></th>\n",
       "      <th>name</th>\n",
       "      <th>platform</th>\n",
       "      <th>year_of_release</th>\n",
       "      <th>genre</th>\n",
       "      <th>na_sales</th>\n",
       "      <th>eu_sales</th>\n",
       "      <th>jp_sales</th>\n",
       "      <th>other_sales</th>\n",
       "      <th>critic_score</th>\n",
       "      <th>user_score</th>\n",
       "      <th>rating</th>\n",
       "      <th>total_sales</th>\n",
       "    </tr>\n",
       "  </thead>\n",
       "  <tbody>\n",
       "    <tr>\n",
       "      <th>15817</th>\n",
       "      <td>Strongest Tokyo University Shogi DS</td>\n",
       "      <td>DS</td>\n",
       "      <td>1985</td>\n",
       "      <td>Action</td>\n",
       "      <td>0.0</td>\n",
       "      <td>0.0</td>\n",
       "      <td>0.02</td>\n",
       "      <td>0.0</td>\n",
       "      <td>-1</td>\n",
       "      <td>-1.0</td>\n",
       "      <td>NR</td>\n",
       "      <td>0.02</td>\n",
       "    </tr>\n",
       "  </tbody>\n",
       "</table>\n",
       "</div>"
      ],
      "text/plain": [
       "                                      name platform  year_of_release   genre  \\\n",
       "15817  Strongest Tokyo University Shogi DS       DS             1985  Action   \n",
       "\n",
       "       na_sales  eu_sales  jp_sales  other_sales  critic_score  user_score  \\\n",
       "15817       0.0       0.0      0.02          0.0            -1        -1.0   \n",
       "\n",
       "      rating  total_sales  \n",
       "15817     NR         0.02  "
      ]
     },
     "metadata": {},
     "output_type": "display_data"
    }
   ],
   "source": [
    "display(data.query('platform in @leaders and year_of_release == 1985'))"
   ]
  },
  {
   "cell_type": "markdown",
   "metadata": {},
   "source": [
    "**Поискав информацию об игре в интернете, можно узнать, что игра вышла в 2007 году. Исправим это.**"
   ]
  },
  {
   "cell_type": "code",
   "execution_count": 180,
   "metadata": {},
   "outputs": [
    {
     "data": {
      "text/html": [
       "<div>\n",
       "<style scoped>\n",
       "    .dataframe tbody tr th:only-of-type {\n",
       "        vertical-align: middle;\n",
       "    }\n",
       "\n",
       "    .dataframe tbody tr th {\n",
       "        vertical-align: top;\n",
       "    }\n",
       "\n",
       "    .dataframe thead th {\n",
       "        text-align: right;\n",
       "    }\n",
       "</style>\n",
       "<table border=\"1\" class=\"dataframe\">\n",
       "  <thead>\n",
       "    <tr style=\"text-align: right;\">\n",
       "      <th></th>\n",
       "      <th>name</th>\n",
       "      <th>platform</th>\n",
       "      <th>year_of_release</th>\n",
       "      <th>genre</th>\n",
       "      <th>na_sales</th>\n",
       "      <th>eu_sales</th>\n",
       "      <th>jp_sales</th>\n",
       "      <th>other_sales</th>\n",
       "      <th>critic_score</th>\n",
       "      <th>user_score</th>\n",
       "      <th>rating</th>\n",
       "      <th>total_sales</th>\n",
       "    </tr>\n",
       "  </thead>\n",
       "  <tbody>\n",
       "  </tbody>\n",
       "</table>\n",
       "</div>"
      ],
      "text/plain": [
       "Empty DataFrame\n",
       "Columns: [name, platform, year_of_release, genre, na_sales, eu_sales, jp_sales, other_sales, critic_score, user_score, rating, total_sales]\n",
       "Index: []"
      ]
     },
     "metadata": {},
     "output_type": "display_data"
    }
   ],
   "source": [
    "data.loc[data['name'] == 'Strongest Tokyo University Shogi DS', 'year_of_release'] = 2007\n",
    "\n",
    "display(data.query('platform in @leaders and year_of_release == 1985')) # вывод чтобы убедиться, что избавились от аномалии"
   ]
  },
  {
   "cell_type": "markdown",
   "metadata": {},
   "source": [
    "### Актуальный период для составления прогноза на 2017 год."
   ]
  },
  {
   "cell_type": "markdown",
   "metadata": {},
   "source": [
    "Лучше всего будет взять данные, начиная с того момента, когда они стабилизировались (2012 г.). Значит, для составления прогноза на 2017 год, нужно выделить данные, начинающиеся **с 2012 года.**"
   ]
  },
  {
   "cell_type": "code",
   "execution_count": 181,
   "metadata": {},
   "outputs": [],
   "source": [
    "actual_data = data.query('year_of_release>=2012')"
   ]
  },
  {
   "cell_type": "code",
   "execution_count": 182,
   "metadata": {},
   "outputs": [
    {
     "data": {
      "image/png": "[encoded data removed]",
      "text/plain": [
       "<Figure size 1214.5x720 with 1 Axes>"
      ]
     },
     "metadata": {
      "needs_background": "light"
     },
     "output_type": "display_data"
    }
   ],
   "source": [
    "sb.catplot(\n",
    "    kind='bar',\n",
    "    data=actual_data,\n",
    "    x='year_of_release',\n",
    "    y='total_sales',\n",
    "    hue='platform',\n",
    "    height=10,\n",
    "    aspect=1.6,\n",
    "    ci=None,\n",
    "    estimator=sum,\n",
    "    palette='Set3');\n",
    "plt.xlabel('Годы')\n",
    "plt.ylabel('Суммарные продажи игр ($ млн)')\n",
    "plt.grid(linewidth=0.2)\n",
    "plt.title('Суммарные продажи игр для платформ по годам')\n",
    "plt.show()"
   ]
  },
  {
   "cell_type": "markdown",
   "metadata": {},
   "source": [
    "**Платформы за актуальный период:**\n",
    "1. PS4 - один из лидеров по продажам;\n",
    "2. XONE - один из лидеров по продажам;\n",
    "3. X360 - продажи падают;\n",
    "4. PS3 - продажи падают;\n",
    "5. 3DS - продажи падают;\n",
    "6. Wii - продажи закончены;\n",
    "7. WiiU - продажи падают;\n",
    "8. PSP - продажи закончены;\n",
    "9. PSV - продажи падают;\n",
    "10. DS - продажи закончены;\n",
    "**Потенциально прибыльными для 2017 года, будут:**\n",
    "* PS4 - так как даннные за 2016 год неполные, то на графике данные также неполные и в 2016 год нет резкого спада продаж;\n",
    "* XONE - так как даннные за 2016 год неполные, то на графике данные также неполные и в 2016 год нет резкого спада продаж;"
   ]
  },
  {
   "cell_type": "markdown",
   "metadata": {},
   "source": [
    "### Построим график «ящик с усами» по глобальным продажам игр в разбивке по платформам. "
   ]
  },
  {
   "cell_type": "code",
   "execution_count": 183,
   "metadata": {},
   "outputs": [
    {
     "data": {
      "image/png": "[encoded data removed]",
      "text/plain": [
       "<Figure size 1080x720 with 1 Axes>"
      ]
     },
     "metadata": {
      "needs_background": "light"
     },
     "output_type": "display_data"
    },
    {
     "data": {
      "image/png": "[encoded data removed]",
      "text/plain": [
       "<Figure size 1080x720 with 1 Axes>"
      ]
     },
     "metadata": {
      "needs_background": "light"
     },
     "output_type": "display_data"
    }
   ],
   "source": [
    "plt.figure(figsize=(15,10))\n",
    "sb.boxplot(x='platform',y='total_sales',data=actual_data)\n",
    "plt.ylim(0, 3)\n",
    "plt.ylabel('Суммарные продажи игр')\n",
    "plt.xlabel('Платформы')\n",
    "plt.title('Распределение продаж игр для платформ')\n",
    "plt.grid()\n",
    "plt.show()\n",
    "\n",
    "plt.figure(figsize=(15,10))\n",
    "sb.boxplot(x='platform',y='total_sales',data=actual_data)\n",
    "plt.ylim(0, 0.9)\n",
    "plt.ylabel('Суммарные продажи игр')\n",
    "plt.xlabel('Платформы')\n",
    "plt.title('Распределение продаж игр для платформ')\n",
    "plt.grid()\n",
    "plt.show()"
   ]
  },
  {
   "cell_type": "markdown",
   "metadata": {},
   "source": [
    "**По графику можно сказать, что**\n",
    "1. Больше всего продаются игры для таких платформ, как: X360, PS4, XONE, Wii, PS3, WiiU\n",
    "2. Медиана у лидеров находится дальше остальных. Разброс больше, так как значений (продаж) больше, средняя/медианная прибыль больше."
   ]
  },
  {
   "cell_type": "markdown",
   "metadata": {},
   "source": [
    "### Посмотрим, как влияют на продажи внутри одной популярной платформы отзывы пользователей и критиков. Построим диаграмму рассеяния и посчитайте корреляцию между отзывами и продажами.\n",
    "<br> Для этого: \n",
    "1. Создадим отдельный датафрейм, хранящий в себе актуальные данные по платформе PS4;\n",
    "2. Построим диаграмму."
   ]
  },
  {
   "cell_type": "code",
   "execution_count": 184,
   "metadata": {},
   "outputs": [],
   "source": [
    "data_ps4 = actual_data[(actual_data['platform'] == 'PS4') & (actual_data['user_score'] > 0) & (actual_data['critic_score'] > 0)]"
   ]
  },
  {
   "cell_type": "code",
   "execution_count": 185,
   "metadata": {},
   "outputs": [
    {
     "data": {
      "image/png": "[encoded data removed]",
      "text/plain": [
       "<Figure size 1440x504 with 2 Axes>"
      ]
     },
     "metadata": {
      "needs_background": "light"
     },
     "output_type": "display_data"
    }
   ],
   "source": [
    "fig, (ax1, ax2) = plt.subplots(\n",
    "    nrows=1, ncols=2,\n",
    "    figsize=(20, 7)\n",
    ")\n",
    "\n",
    "sb.scatterplot(y=\"total_sales\", x=\"user_score\", data=data_ps4, ax=ax1)\n",
    "sb.scatterplot(y=\"total_sales\", x=\"critic_score\", data=data_ps4, ax=ax2, color='green')\n",
    "\n",
    "fig.suptitle('Связь между суммарными продажами и оценками игр для PS4', fontsize=16)\n",
    "\n",
    "ax1.set_xlabel('Оценки')\n",
    "ax1.set_ylabel('Суммарные продажи игр ($ млн)')\n",
    "ax1.grid(linewidth=0.1)\n",
    "ax1.set_title('Оценки пользователей')\n",
    "\n",
    "ax2.set_xlabel('Оценки')\n",
    "ax2.set_ylabel('Суммарные продажи игр ($ млн)')\n",
    "ax2.grid(linewidth=0.1)\n",
    "ax2.set_title('Оценки критиков')\n",
    "plt.show()"
   ]
  },
  {
   "cell_type": "code",
   "execution_count": 186,
   "metadata": {},
   "outputs": [
    {
     "name": "stdout",
     "output_type": "stream",
     "text": [
      "Корреляция между суммарными продажами и оценками пользователей - -0.034\n",
      "Корреляция между суммарными продажами и оценками критиков - 0.41\n"
     ]
    }
   ],
   "source": [
    "print('Корреляция между суммарными продажами и оценками пользователей - {:.2}'.format(data_ps4['total_sales'].corr(data_ps4['user_score'])))\n",
    "print('Корреляция между суммарными продажами и оценками критиков - {:.2}'.format(data_ps4['total_sales'].corr(data_ps4['critic_score'])))"
   ]
  },
  {
   "cell_type": "markdown",
   "metadata": {},
   "source": [
    "**Исходя из уровней корреляции можно сделать вывод, что оценки критиков демонстрируют прямую, средне-слабую корреляцию с \"цифрами\" продаж. на PS4, а оценки пользователей корреляции с продажами не имеют. Но на диаграммах рассеяния можем заметить тенденцию для оценок критиков, что при большей оценке, большее количество проданных игр (для оценок пользователей в меньшей степени).**"
   ]
  },
  {
   "cell_type": "markdown",
   "metadata": {},
   "source": [
    "### Соотнесём выводы с продажами игр на других платформах."
   ]
  },
  {
   "cell_type": "markdown",
   "metadata": {},
   "source": [
    "**Платформа XOne**"
   ]
  },
  {
   "cell_type": "code",
   "execution_count": 187,
   "metadata": {},
   "outputs": [],
   "source": [
    "data_xone = actual_data[(actual_data['platform'] == 'XOne') & (actual_data['user_score'] > 0) & (actual_data['critic_score'] > 0)]"
   ]
  },
  {
   "cell_type": "code",
   "execution_count": 188,
   "metadata": {},
   "outputs": [
    {
     "data": {
      "image/png": "[encoded data removed]",
      "text/plain": [
       "<Figure size 1440x504 with 2 Axes>"
      ]
     },
     "metadata": {
      "needs_background": "light"
     },
     "output_type": "display_data"
    }
   ],
   "source": [
    "fig, (ax1, ax2) = plt.subplots(\n",
    "    nrows=1, ncols=2,\n",
    "    figsize=(20, 7)\n",
    ")\n",
    "\n",
    "sb.scatterplot(y=\"total_sales\", x=\"user_score\", data=data_xone, ax=ax1)\n",
    "sb.scatterplot(y=\"total_sales\", x=\"critic_score\", data=data_xone, ax=ax2, color='green')\n",
    "\n",
    "fig.suptitle('Связь между суммарными продажами и оценками игр для XOne', fontsize=16)\n",
    "\n",
    "ax1.set_xlabel('Оценки')\n",
    "ax1.set_ylabel('Суммарные продажи игр ($ млн)')\n",
    "ax1.grid(linewidth=0.1)\n",
    "ax1.set_title('Оценки пользователей')\n",
    "\n",
    "ax2.set_xlabel('Оценки')\n",
    "ax2.set_ylabel('Суммарные продажи игр ($ млн)')\n",
    "ax2.grid(linewidth=0.1)\n",
    "ax2.set_title('Оценки критиков')\n",
    "plt.show()"
   ]
  },
  {
   "cell_type": "code",
   "execution_count": 189,
   "metadata": {},
   "outputs": [
    {
     "name": "stdout",
     "output_type": "stream",
     "text": [
      "Корреляция между суммарными продажами и оценками пользователей - -0.094\n",
      "Корреляция между суммарными продажами и оценками критиков - 0.41\n"
     ]
    }
   ],
   "source": [
    "print('Корреляция между суммарными продажами и оценками пользователей - {:.2}'.format(data_xone['total_sales'].corr(data_xone['user_score'])))\n",
    "print('Корреляция между суммарными продажами и оценками критиков - {:.2}'.format(data_xone['total_sales'].corr(data_xone['critic_score'])))"
   ]
  },
  {
   "cell_type": "markdown",
   "metadata": {},
   "source": [
    "**Платформа X360**"
   ]
  },
  {
   "cell_type": "code",
   "execution_count": 190,
   "metadata": {},
   "outputs": [],
   "source": [
    "data_x360 = actual_data[(actual_data['platform'] == 'X360') & (actual_data['user_score'] > 0) & (actual_data['critic_score'] > 0)]"
   ]
  },
  {
   "cell_type": "code",
   "execution_count": 191,
   "metadata": {},
   "outputs": [
    {
     "data": {
      "image/png": "[encoded data removed]",
      "text/plain": [
       "<Figure size 1440x504 with 2 Axes>"
      ]
     },
     "metadata": {
      "needs_background": "light"
     },
     "output_type": "display_data"
    }
   ],
   "source": [
    "fig, (ax1, ax2) = plt.subplots(\n",
    "    nrows=1, ncols=2,\n",
    "    figsize=(20, 7)\n",
    ")\n",
    "\n",
    "sb.scatterplot(y=\"total_sales\", x=\"user_score\", data=data_x360, ax=ax1)\n",
    "sb.scatterplot(y=\"total_sales\", x=\"critic_score\", data=data_x360, ax=ax2, color='green')\n",
    "\n",
    "fig.suptitle('Связь между суммарными продажами и оценками игр для XOne', fontsize=16)\n",
    "\n",
    "ax1.set_xlabel('Оценки')\n",
    "ax1.set_ylabel('Суммарные продажи игр ($ млн)')\n",
    "ax1.grid(linewidth=0.1)\n",
    "ax1.set_title('Оценки пользователей')\n",
    "\n",
    "ax2.set_xlabel('Оценки')\n",
    "ax2.set_ylabel('Суммарные продажи игр ($ млн)')\n",
    "ax2.grid(linewidth=0.1)\n",
    "ax2.set_title('Оценки критиков')\n",
    "plt.show()"
   ]
  },
  {
   "cell_type": "code",
   "execution_count": 192,
   "metadata": {},
   "outputs": [
    {
     "name": "stdout",
     "output_type": "stream",
     "text": [
      "Корреляция между суммарными продажами и оценками пользователей - -0.0023\n",
      "Корреляция между суммарными продажами и оценками критиков - 0.36\n"
     ]
    }
   ],
   "source": [
    "print('Корреляция между суммарными продажами и оценками пользователей - {:.2}'.format(data_x360['total_sales'].corr(data_x360['user_score'])))\n",
    "print('Корреляция между суммарными продажами и оценками критиков - {:.2}'.format(data_x360['total_sales'].corr(data_x360['critic_score'])))"
   ]
  },
  {
   "cell_type": "markdown",
   "metadata": {},
   "source": [
    "**Платформа PS3**"
   ]
  },
  {
   "cell_type": "code",
   "execution_count": 193,
   "metadata": {},
   "outputs": [],
   "source": [
    "data_ps3 = actual_data[(actual_data['platform'] == 'PS3') & (actual_data['user_score'] > 0) & (actual_data['critic_score'] > 0)]"
   ]
  },
  {
   "cell_type": "code",
   "execution_count": 194,
   "metadata": {},
   "outputs": [
    {
     "data": {
      "image/png": "[encoded data removed]",
      "text/plain": [
       "<Figure size 1440x504 with 2 Axes>"
      ]
     },
     "metadata": {
      "needs_background": "light"
     },
     "output_type": "display_data"
    }
   ],
   "source": [
    "fig, (ax1, ax2) = plt.subplots(\n",
    "    nrows=1, ncols=2,\n",
    "    figsize=(20, 7)\n",
    ")\n",
    "\n",
    "sb.scatterplot(y=\"total_sales\", x=\"user_score\", data=data_ps3, ax=ax1)\n",
    "sb.scatterplot(y=\"total_sales\", x=\"critic_score\", data=data_ps3, ax=ax2, color='green')\n",
    "\n",
    "fig.suptitle('Связь между суммарными продажами и оценками игр для PS3', fontsize=16)\n",
    "\n",
    "ax1.set_xlabel('Оценки')\n",
    "ax1.set_ylabel('Суммарные продажи игр ($ млн)')\n",
    "ax1.grid(linewidth=0.1)\n",
    "ax1.set_title('Оценки пользователей')\n",
    "\n",
    "ax2.set_xlabel('Оценки')\n",
    "ax2.set_ylabel('Суммарные продажи игр ($ млн)')\n",
    "ax2.grid(linewidth=0.1)\n",
    "ax2.set_title('Оценки критиков')\n",
    "plt.show()"
   ]
  },
  {
   "cell_type": "code",
   "execution_count": 195,
   "metadata": {},
   "outputs": [
    {
     "name": "stdout",
     "output_type": "stream",
     "text": [
      "Корреляция между суммарными продажами и оценками пользователей - 0.0013\n",
      "Корреляция между суммарными продажами и оценками критиков - 0.33\n"
     ]
    }
   ],
   "source": [
    "print('Корреляция между суммарными продажами и оценками пользователей - {:.2}'.format(data_ps3['total_sales'].corr(data_ps3['user_score'])))\n",
    "print('Корреляция между суммарными продажами и оценками критиков - {:.2}'.format(data_ps3['total_sales'].corr(data_ps3['critic_score'])))"
   ]
  },
  {
   "cell_type": "markdown",
   "metadata": {},
   "source": [
    "**Выводы по PS4 можно применить к другим платформам, но суммы продаж для границ будут отличаться в зависимости от средних продаж по платформе. Оценки критиков также демонстрируют прямую, средне-слабую корреляцию с \"цифрами\" продаж на другие платформы, а оценки пользователей корреляции с продажами не имеют (за исключением приставки \"PS3\", оценки пользователей демонстрируют очень слабую кореляцию со значениями продаж).**"
   ]
  },
  {
   "cell_type": "markdown",
   "metadata": {},
   "source": [
    "### Посмотрим на общее распределение игр по жанрам. "
   ]
  },
  {
   "cell_type": "code",
   "execution_count": 196,
   "metadata": {},
   "outputs": [
    {
     "data": {
      "image/png": "[encoded data removed]",
      "text/plain": [
       "<Figure size 1440x504 with 2 Axes>"
      ]
     },
     "metadata": {
      "needs_background": "light"
     },
     "output_type": "display_data"
    }
   ],
   "source": [
    "fig, (ax1, ax2) = plt.subplots(\n",
    "    nrows=1, ncols=2,\n",
    "    figsize=(20, 7)\n",
    ")\n",
    "\n",
    "actual_data.groupby('genre')['name'].count().sort_values().plot.bar(ax=ax1)\n",
    "actual_data.groupby('genre')['total_sales'].mean().sort_values().plot.bar(ax=ax2, color='green')\n",
    "\n",
    "ax1.set_xlabel('Жанры')\n",
    "ax1.set_ylabel('Количество игр')\n",
    "ax1.grid(linewidth=0.2)\n",
    "ax1.set_title('Распределение игр по жанрам')\n",
    "\n",
    "ax2.set_xlabel('Жанры')\n",
    "ax2.set_ylabel('Суммарные продажи')\n",
    "ax2.grid(linewidth=0.2)\n",
    "ax2.set_title('Распределение продаж по жанрам')\n",
    "plt.show()"
   ]
  },
  {
   "cell_type": "markdown",
   "metadata": {},
   "source": [
    "### Промежуточный вывод по исследовательскому анализу данных.\n",
    "<br> **Сколько игр выпускалось в разные годы**\n",
    "<br> *Рост количества выпускаемых игр идёт с 1994 года по 2008 год. До 1994 года количество игр оставалось на одном уровне. В 2008 году достигается пик по количеству выпускаемых игр. После 2008 года количество игр идёт на спад.*\n",
    "<br>\n",
    "<br> **Как менялись продажи по платформам**\n",
    "<br> *Если смотреть по годам за всё время, то в 2008 году платформа PS2 набрала наибольшее суммарное количество продаж, в то время, как в 2011 году, она уже продала наименьшее количество игр среди остальных платформ.*\n",
    "<br> *Лидирующими платформами по продажам за всё время являются:  PS2 - лидер по продажам, X360, PS3, Wii, DS, PS.*\n",
    "<br> *Cредний срок, за который появляются новые и исчезают старые платформы, 11 лет (жизненный цикл платформы).*\n",
    "<br>\n",
    "<br> **Актуальный период для составления прогноза на 2017 год**\n",
    "<br> *Актуальным временным периодом является период с 2012 и 2016 год, т.к. он включает в себя последнее поколение консолей (Sony PlayStation 4, Microsoft Xbox One и Nintendo Wii U) и имеет примерно одинаковые объемы выпущенных игр. Далее все действия будут проводиться для данных за этот период.*\n",
    "<br>\n",
    "<br> **Какие платформы лидируют по продажам, растут или падают**\n",
    "<br> *По продажам лидирует: Sony Playstation 4.*\n",
    "<br> *Продажи практически всех платформ падают, за исключением Sony PlayStation 4 и Microsoft Xbox One. Для некоторых платформ, жизненный цикл которых уже закончился, продажи игр остановлены.*\n",
    "<br> *Потенциально прибыльными для 2017 года, будут:*\n",
    "* PS4 - наблюдается рост продаж (не учитывая 2016 год, данные для которого могут быть не полными\n",
    "* XONE - наблюдается рост продаж (не учитывая 2016 год, данные для которого могут быть не полными \n",
    "\n",
    "**График «ящик с усами» по глобальным продажам каждой игры и разбивкой по платформам**\n",
    "<br> *По графику можно сказать, что*\n",
    "* Медиана у лидеров находится дальше остальных. Разброс больше, так как значений (продаж) больше, средняя/медианная прибыль больше.\n",
    "* Выбросы и аномалии находятся за приделами усов\n",
    "\n",
    "**Как влияют на продажи игр Sony PlayStation 4 отзывы пользователей и критиков**\n",
    "<br> *Оценки критиков не очень сильно влияют на продажи игр на PS4, а оценки пользователей вообще не влияют. Но на диаграммах рассеяния можем заметить тенденцию для оценок критиков, что при большей оценке, большее количество проданных игр (для оценок пользователей в меньшей степени).*\n",
    "<br>\n",
    "<br> **Соотнесём выводы с продажами игр на других платформах**\n",
    "<br> *Выводы по PS4 можно применить к другим платформам, но суммы продаж для границ будут отличаться в зависимости от средних продаж по платформе.*\n",
    "<br>\n",
    "<br> **Посмотрим на общее распределение игр по жанрам.**\n",
    "* Жанр Shooter - лидер по количеству продаж\n",
    "* Жанр Action - лидер по количеству игр \n",
    "* Жанры Puzzle и Stategy - наименее популярные жанры \n",
    "* Жанр Adventure имеют большое количество игр, но по популярности он занимает 3 место с конца."
   ]
  },
  {
   "cell_type": "markdown",
   "metadata": {},
   "source": [
    "## Составление портрета пользователя каждого региона"
   ]
  },
  {
   "cell_type": "markdown",
   "metadata": {},
   "source": [
    "### Определим для пользователя каждого региона (NA, EU, JP):\n",
    "1. Самые популярные платформы (топ-5);\n",
    "2. Самые популярные жанры (топ-5);\n",
    "3. Влияет ли рейтинг ESRB на продажи в отдельном регионе?"
   ]
  },
  {
   "cell_type": "markdown",
   "metadata": {},
   "source": [
    "### Топ-5 популярных платформ для пользователей каждого региона."
   ]
  },
  {
   "cell_type": "code",
   "execution_count": 197,
   "metadata": {},
   "outputs": [
    {
     "data": {
      "image/png": "[encoded data removed]",
      "text/plain": [
       "<Figure size 1440x504 with 3 Axes>"
      ]
     },
     "metadata": {
      "needs_background": "light"
     },
     "output_type": "display_data"
    }
   ],
   "source": [
    "fig, (ax1, ax2, ax3) = plt.subplots(\n",
    "    nrows=1, ncols=3,\n",
    "    figsize=(20, 7)\n",
    ")\n",
    "\n",
    "actual_data.groupby('platform')['na_sales'].sum().sort_values().plot.bar(ax=ax1)\n",
    "actual_data.groupby('platform')['eu_sales'].sum().sort_values().plot.bar(ax=ax2, color='green')\n",
    "actual_data.groupby('platform')['jp_sales'].sum().sort_values().plot.bar(ax=ax3, color='orange')\n",
    "\n",
    "fig.suptitle('Распределение суммарных продаж по платформам в разных регионах', fontsize=20)\n",
    "\n",
    "ax1.set_xlabel('Платформа')\n",
    "ax1.set_ylabel('Сумма продаж')\n",
    "ax1.grid(linewidth=0.2)\n",
    "ax1.set_title('NA')\n",
    "\n",
    "ax2.set_xlabel('Платформа')\n",
    "ax2.set_ylabel('Сумма продаж')\n",
    "ax2.grid(linewidth=0.2)\n",
    "ax2.set_title('EU')\n",
    "\n",
    "ax3.set_xlabel('Платформа')\n",
    "ax3.set_ylabel('Сумма продаж')\n",
    "ax3.grid(linewidth=0.2)\n",
    "ax3.set_title('JP')\n",
    "plt.show()"
   ]
  },
  {
   "cell_type": "markdown",
   "metadata": {},
   "source": [
    "**Создадим три сводные таблицы для того, чтобы показать какую долю от общего числа продаж по миру составляет каждая платформа (из топ-5)**"
   ]
  },
  {
   "cell_type": "code",
   "execution_count": 198,
   "metadata": {},
   "outputs": [
    {
     "data": {
      "text/html": [
       "<div>\n",
       "<style scoped>\n",
       "    .dataframe tbody tr th:only-of-type {\n",
       "        vertical-align: middle;\n",
       "    }\n",
       "\n",
       "    .dataframe tbody tr th {\n",
       "        vertical-align: top;\n",
       "    }\n",
       "\n",
       "    .dataframe thead th {\n",
       "        text-align: right;\n",
       "    }\n",
       "</style>\n",
       "<table border=\"1\" class=\"dataframe\">\n",
       "  <thead>\n",
       "    <tr style=\"text-align: right;\">\n",
       "      <th></th>\n",
       "      <th>Платформа</th>\n",
       "      <th>Сумма продаж (NA)</th>\n",
       "      <th>Сумма продаж (по миру)</th>\n",
       "      <th>Доля продаж</th>\n",
       "    </tr>\n",
       "  </thead>\n",
       "  <tbody>\n",
       "    <tr>\n",
       "      <th>0</th>\n",
       "      <td>X360</td>\n",
       "      <td>140.57</td>\n",
       "      <td>237.52</td>\n",
       "      <td>59.182385</td>\n",
       "    </tr>\n",
       "    <tr>\n",
       "      <th>1</th>\n",
       "      <td>PS4</td>\n",
       "      <td>108.74</td>\n",
       "      <td>314.14</td>\n",
       "      <td>34.615140</td>\n",
       "    </tr>\n",
       "    <tr>\n",
       "      <th>2</th>\n",
       "      <td>PS3</td>\n",
       "      <td>103.74</td>\n",
       "      <td>289.70</td>\n",
       "      <td>35.809458</td>\n",
       "    </tr>\n",
       "    <tr>\n",
       "      <th>3</th>\n",
       "      <td>XOne</td>\n",
       "      <td>93.12</td>\n",
       "      <td>159.32</td>\n",
       "      <td>58.448406</td>\n",
       "    </tr>\n",
       "    <tr>\n",
       "      <th>4</th>\n",
       "      <td>3DS</td>\n",
       "      <td>55.49</td>\n",
       "      <td>195.01</td>\n",
       "      <td>28.454951</td>\n",
       "    </tr>\n",
       "  </tbody>\n",
       "</table>\n",
       "</div>"
      ],
      "text/plain": [
       "  Платформа  Сумма продаж (NA)  Сумма продаж (по миру)  Доля продаж\n",
       "0      X360             140.57                  237.52    59.182385\n",
       "1       PS4             108.74                  314.14    34.615140\n",
       "2       PS3             103.74                  289.70    35.809458\n",
       "3      XOne              93.12                  159.32    58.448406\n",
       "4       3DS              55.49                  195.01    28.454951"
      ]
     },
     "metadata": {},
     "output_type": "display_data"
    }
   ],
   "source": [
    "na_users = actual_data.pivot_table(index='platform', values=['na_sales','total_sales'], aggfunc=('sum'))\n",
    "\n",
    "na_users = na_users.sort_values(by='na_sales',ascending=False).head()\n",
    "na_users['Доля продаж']=(na_users['na_sales'] / na_users['total_sales']) * 100\n",
    "na_users = na_users.reset_index()\n",
    "na_users = na_users.rename(columns = {'platform' : 'Платформа', 'na_sales' : 'Сумма продаж (NA)', 'total_sales' : 'Сумма продаж (по миру)'})\n",
    "display(na_users)"
   ]
  },
  {
   "cell_type": "code",
   "execution_count": 199,
   "metadata": {},
   "outputs": [
    {
     "data": {
      "text/html": [
       "<div>\n",
       "<style scoped>\n",
       "    .dataframe tbody tr th:only-of-type {\n",
       "        vertical-align: middle;\n",
       "    }\n",
       "\n",
       "    .dataframe tbody tr th {\n",
       "        vertical-align: top;\n",
       "    }\n",
       "\n",
       "    .dataframe thead th {\n",
       "        text-align: right;\n",
       "    }\n",
       "</style>\n",
       "<table border=\"1\" class=\"dataframe\">\n",
       "  <thead>\n",
       "    <tr style=\"text-align: right;\">\n",
       "      <th></th>\n",
       "      <th>Платформа</th>\n",
       "      <th>Сумма продаж (EU)</th>\n",
       "      <th>Сумма продаж (по миру)</th>\n",
       "      <th>Доля продаж</th>\n",
       "    </tr>\n",
       "  </thead>\n",
       "  <tbody>\n",
       "    <tr>\n",
       "      <th>0</th>\n",
       "      <td>PS4</td>\n",
       "      <td>141.09</td>\n",
       "      <td>314.14</td>\n",
       "      <td>44.913096</td>\n",
       "    </tr>\n",
       "    <tr>\n",
       "      <th>1</th>\n",
       "      <td>PS3</td>\n",
       "      <td>107.26</td>\n",
       "      <td>289.70</td>\n",
       "      <td>37.024508</td>\n",
       "    </tr>\n",
       "    <tr>\n",
       "      <th>2</th>\n",
       "      <td>X360</td>\n",
       "      <td>74.89</td>\n",
       "      <td>237.52</td>\n",
       "      <td>31.529976</td>\n",
       "    </tr>\n",
       "    <tr>\n",
       "      <th>3</th>\n",
       "      <td>XOne</td>\n",
       "      <td>51.59</td>\n",
       "      <td>159.32</td>\n",
       "      <td>32.381371</td>\n",
       "    </tr>\n",
       "    <tr>\n",
       "      <th>4</th>\n",
       "      <td>3DS</td>\n",
       "      <td>42.83</td>\n",
       "      <td>195.01</td>\n",
       "      <td>21.962976</td>\n",
       "    </tr>\n",
       "  </tbody>\n",
       "</table>\n",
       "</div>"
      ],
      "text/plain": [
       "  Платформа  Сумма продаж (EU)  Сумма продаж (по миру)  Доля продаж\n",
       "0       PS4             141.09                  314.14    44.913096\n",
       "1       PS3             107.26                  289.70    37.024508\n",
       "2      X360              74.89                  237.52    31.529976\n",
       "3      XOne              51.59                  159.32    32.381371\n",
       "4       3DS              42.83                  195.01    21.962976"
      ]
     },
     "metadata": {},
     "output_type": "display_data"
    }
   ],
   "source": [
    "eu_users = actual_data.pivot_table(index='platform', values=['eu_sales','total_sales'], aggfunc=('sum'))\n",
    "\n",
    "eu_users = eu_users.sort_values(by='eu_sales',ascending=False).head()\n",
    "eu_users['Доля продаж']=(eu_users['eu_sales'] / eu_users['total_sales']) * 100\n",
    "eu_users = eu_users.reset_index()\n",
    "eu_users = eu_users.rename(columns = {'platform' : 'Платформа', 'eu_sales' : 'Сумма продаж (EU)', 'total_sales' : 'Сумма продаж (по миру)'})\n",
    "\n",
    "display(eu_users)"
   ]
  },
  {
   "cell_type": "code",
   "execution_count": 200,
   "metadata": {},
   "outputs": [
    {
     "data": {
      "text/html": [
       "<div>\n",
       "<style scoped>\n",
       "    .dataframe tbody tr th:only-of-type {\n",
       "        vertical-align: middle;\n",
       "    }\n",
       "\n",
       "    .dataframe tbody tr th {\n",
       "        vertical-align: top;\n",
       "    }\n",
       "\n",
       "    .dataframe thead th {\n",
       "        text-align: right;\n",
       "    }\n",
       "</style>\n",
       "<table border=\"1\" class=\"dataframe\">\n",
       "  <thead>\n",
       "    <tr style=\"text-align: right;\">\n",
       "      <th></th>\n",
       "      <th>Платформа</th>\n",
       "      <th>Сумма продаж (EU)</th>\n",
       "      <th>Сумма продаж (по миру)</th>\n",
       "      <th>Доля продаж</th>\n",
       "    </tr>\n",
       "  </thead>\n",
       "  <tbody>\n",
       "    <tr>\n",
       "      <th>0</th>\n",
       "      <td>3DS</td>\n",
       "      <td>87.79</td>\n",
       "      <td>195.01</td>\n",
       "      <td>45.018204</td>\n",
       "    </tr>\n",
       "    <tr>\n",
       "      <th>1</th>\n",
       "      <td>PS3</td>\n",
       "      <td>35.29</td>\n",
       "      <td>289.70</td>\n",
       "      <td>12.181567</td>\n",
       "    </tr>\n",
       "    <tr>\n",
       "      <th>2</th>\n",
       "      <td>PSV</td>\n",
       "      <td>21.04</td>\n",
       "      <td>49.18</td>\n",
       "      <td>42.781619</td>\n",
       "    </tr>\n",
       "    <tr>\n",
       "      <th>3</th>\n",
       "      <td>PS4</td>\n",
       "      <td>15.96</td>\n",
       "      <td>314.14</td>\n",
       "      <td>5.080537</td>\n",
       "    </tr>\n",
       "    <tr>\n",
       "      <th>4</th>\n",
       "      <td>WiiU</td>\n",
       "      <td>13.01</td>\n",
       "      <td>82.19</td>\n",
       "      <td>15.829176</td>\n",
       "    </tr>\n",
       "  </tbody>\n",
       "</table>\n",
       "</div>"
      ],
      "text/plain": [
       "  Платформа  Сумма продаж (EU)  Сумма продаж (по миру)  Доля продаж\n",
       "0       3DS              87.79                  195.01    45.018204\n",
       "1       PS3              35.29                  289.70    12.181567\n",
       "2       PSV              21.04                   49.18    42.781619\n",
       "3       PS4              15.96                  314.14     5.080537\n",
       "4      WiiU              13.01                   82.19    15.829176"
      ]
     },
     "metadata": {},
     "output_type": "display_data"
    }
   ],
   "source": [
    "jp_users = actual_data.pivot_table(index='platform', values=['jp_sales','total_sales'], aggfunc=('sum'))\n",
    "\n",
    "jp_users = jp_users.sort_values(by='jp_sales',ascending=False).head()\n",
    "jp_users['Доля продаж']=(jp_users['jp_sales'] / jp_users['total_sales']) * 100\n",
    "jp_users = jp_users.reset_index()\n",
    "jp_users = jp_users.rename(columns = {'platform' : 'Платформа', 'jp_sales' : 'Сумма продаж (EU)', 'total_sales' : 'Сумма продаж (по миру)'})\n",
    "\n",
    "display(jp_users)"
   ]
  },
  {
   "cell_type": "markdown",
   "metadata": {},
   "source": [
    "**Для Северной Америки (NA) топ-5 платформ по популярности являются:**\n",
    "1. X360 - сумма продаж составляет 59.2%;\n",
    "2. PS4 - сумма продаж составляет 34.6%;\n",
    "3. PS3 - сумма продаж составляет 35.8%;\n",
    "4. XOne - сумма продаж составляет 58.4%;\n",
    "5. 3DS - сумма продаж составляет 28.5%;\n",
    "**Для Европы (EU) топ-5 платформ по популярности являются:**\n",
    "1. PS4 - сумма продаж составляет 44.9%;\n",
    "2. PS3 - сумма продаж составляет 37%;\n",
    "3. X360 - сумма продаж составляет 31.5%;\n",
    "4. XOne - сумма продаж составляет 32.4%;\n",
    "5. 3DS - сумма продаж составляет 22%;\n",
    "**Для Японии (JP) топ-5 платформ по популярности являются:**\n",
    "1. 3DS - сумма продаж составляет 45%;\n",
    "2. PS3 - сумма продаж составляет 12.2%;\n",
    "3. PSV - сумма продаж составляет 42.78%;\n",
    "4. PS4 - сумма продаж составляет 5%;\n",
    "5. WiiU - сумма продаж составляет 15.8%;\n",
    "\n",
    "**Самой продаваемой платформой в Северной Америке является - X360 (от Американской компании).**\n",
    "<br>\n",
    "**Самой продаваемой платформой в Европе является самая актуальная - Play Station 4(почти 45% от общих продаж)**\n",
    "<br>\n",
    "**Самой продаваемой платформой в Японии является - 3DS (от Японских производителей).**"
   ]
  },
  {
   "cell_type": "markdown",
   "metadata": {},
   "source": [
    "### Топ-5 популярных жанров для пользователей каждого региона."
   ]
  },
  {
   "cell_type": "code",
   "execution_count": 201,
   "metadata": {},
   "outputs": [
    {
     "data": {
      "image/png": "[encoded data removed]",
      "text/plain": [
       "<Figure size 1440x504 with 3 Axes>"
      ]
     },
     "metadata": {
      "needs_background": "light"
     },
     "output_type": "display_data"
    }
   ],
   "source": [
    "fig, (ax1, ax2, ax3) = plt.subplots(\n",
    "    nrows=1, ncols=3,\n",
    "    figsize=(20, 7)\n",
    ")\n",
    "\n",
    "actual_data.groupby('genre')['na_sales'].sum().sort_values().plot.bar(ax=ax1)\n",
    "actual_data.groupby('genre')['eu_sales'].sum().sort_values().plot.bar(ax=ax2, color='green')\n",
    "actual_data.groupby('genre')['jp_sales'].sum().sort_values().plot.bar(ax=ax3, color='orange')\n",
    "\n",
    "fig.suptitle('Распределение суммарных продаж по платформам в разных регионах', fontsize=20)\n",
    "\n",
    "ax1.set_xlabel('Жанр')\n",
    "ax1.set_ylabel('Сумма продаж')\n",
    "ax1.grid(linewidth=0.2)\n",
    "ax1.set_title('NA')\n",
    "\n",
    "ax2.set_xlabel('Жанр')\n",
    "ax2.set_ylabel('Сумма продаж')\n",
    "ax2.grid(linewidth=0.2)\n",
    "ax2.set_title('EU')\n",
    "\n",
    "ax3.set_xlabel('Жанр')\n",
    "ax3.set_ylabel('Сумма продаж')\n",
    "ax3.grid(linewidth=0.2)\n",
    "ax3.set_title('JP')\n",
    "plt.show()"
   ]
  },
  {
   "cell_type": "markdown",
   "metadata": {},
   "source": [
    "**Для Северной Америки (NA) топ-5 жанров по популярности являются:**\n",
    "1. Action\n",
    "2. Shooter\n",
    "3. Sports\n",
    "4. Role-Playing\n",
    "5. Misc \n",
    "**Для Европы (EU) топ-5 жанров по популярности являются:**\n",
    "1. Action\n",
    "2. Shooter\n",
    "3. Sports\n",
    "4. Role-Playing\n",
    "5. Racing\n",
    "**Для Японии (JP) топ-5 платформ по популярности являются:**\n",
    "1. Role-Playing\n",
    "2. Action\n",
    "3. Misc\n",
    "4. Simulation\n",
    "5. Fighting\n",
    "\n",
    "**В Северной Америке и в Европе очень популярен жанр 'шутер', в то время как в Японии, он менее популярен. Это связано с тем, что в Японии не приветствуется жестокость и насилие. Поэтому, в Японии преобладает жанр ролевых игр, где японские игры поощряют игроков за коллективную прокачку, и поэтому игровые сессии после работы или учебы становятся способом расслабиться и пообщаться с друзьями, не отрываясь от игры.**\n",
    "<br> \n",
    "**В основном, разница между предпочтением в жанрах обусловлена менталитетом.**"
   ]
  },
  {
   "cell_type": "markdown",
   "metadata": {},
   "source": [
    "### Узнаем, влияет ли рейтинг ESRB на продажи в отдельном регионе?"
   ]
  },
  {
   "cell_type": "markdown",
   "metadata": {},
   "source": [
    "* «E» («Everyone») — «Для всех»: Содержание вполне подходит для возрастной категории от 6 лет.\n",
    "* «E10+» («Everyone 10 and older») — «Для всех от 10 лет и старше»\n",
    "* «T» («Teen») — «Подросткам»: Игра подходит для лиц от 13 лет.\n",
    "* «M» («Mature») — «Для взрослых»: Материалы игры не подходят для подростков младше 17 лет."
   ]
  },
  {
   "cell_type": "code",
   "execution_count": 202,
   "metadata": {},
   "outputs": [
    {
     "data": {
      "image/png": "[encoded data removed]",
      "text/plain": [
       "<Figure size 1080x360 with 1 Axes>"
      ]
     },
     "metadata": {
      "needs_background": "light"
     },
     "output_type": "display_data"
    }
   ],
   "source": [
    "(\n",
    "  actual_data.pivot_table(index='rating', values=['na_sales', 'eu_sales', 'jp_sales'], aggfunc='mean')\n",
    "  .sort_values(by='na_sales')\n",
    "  .plot(kind='bar', figsize=(15, 5))\n",
    ")\n",
    "plt.xlabel('Рейтинг ESRB')\n",
    "plt.ylabel('Сумма продаж')\n",
    "plt.title('Продажи в зависимости от рейтинга в различных регионах')\n",
    "plt.show()"
   ]
  },
  {
   "cell_type": "markdown",
   "metadata": {},
   "source": [
    "**Некоторую часть данных составляют игры с рейтингом \"NR\", то есть неоценённые, на них ориентироваться не будем.**\n",
    "<br>\n",
    "<br> Как можем заметить, большую часть проданных игр составляют издания с рейтингом \"M\", то есть для лиц старше 16 лет. Причём больше всего игры с такой оценкой преобладают в Северной Америке. Далее идут игры с рейтингом \"E\", то есть для всех людей от 6 лет. Меньшей популярностью пользуются игры с рейтингами \"E10+\" и \"T\". Видимо, дети до 10 лет играют в игры с рейтингом \"E\", а после сразу переступают на игры с рейтингом \"M\".\n",
    "<br> Для Японии большее количество игр имеют рейтинг \"NR\", то есть они не оценены. Это из-за того, что рейтинг ESRB создан для оценивания игр на территории Северной Америки. Видимо в Европе она также пользуется популярностью, но в Японии существует своя рейтинговая система, большая часть игр оценивается именно ею на территории Японии."
   ]
  },
  {
   "cell_type": "markdown",
   "metadata": {},
   "source": [
    "### Промежуточный вывод по составлению портрета каждого пользователя."
   ]
  },
  {
   "cell_type": "markdown",
   "metadata": {},
   "source": [
    "**Для Северной Америки характерны:**\n",
    "* Такие платформы, как X360 (59.2% продаж), PS4 (34.6% продаж), PS3 (35.8% продаж), XOne (58.4% продаж), 3DS (28.5% продаж);\n",
    "* Жанры игр: 'action', 'shooter', 'sports', 'role-playing' и 'misc';\n",
    "* Игры с рейтингом \"M\" (для лиц старше 16 лет).\n",
    "\n",
    "**Для Европы характерны:**\n",
    "* Такие платформы, как PS4 (44.9% продаж), PS3 (37% продаж), X360 (31.5% продаж), XOne (32.4% продаж), 3DS (22% продаж);\n",
    "* Жанры игр: 'action', 'shooter', 'sports', 'role-playing' и 'racing';\n",
    "* Игры с рейтингом \"M\"\n",
    "\n",
    "**Для Японии характерны:**\n",
    "* Такие платформы, как 3DS (45% продаж), PS3 (12.2% продаж), PSV (42.78% продаж), PS4 (5% продаж), WiiU (15.8% продаж);\n",
    "* Жанры игр: 'action', 'simulation', ' misc', 'role-playing' и 'fighting';\n",
    "* Игры, не имеющие рейтинговой оценки."
   ]
  },
  {
   "cell_type": "markdown",
   "metadata": {},
   "source": [
    "## Проверка гипотез"
   ]
  },
  {
   "cell_type": "markdown",
   "metadata": {},
   "source": [
    "### Средние пользовательские рейтинги платформ Xbox One и PC одинаковые\n",
    "* H_0 = \"Средние пользовательские рейтинги платформ Xbox One и PC равны\" (нулевая гипотеза)\n",
    "* H_1 = \"Средние пользовательские рейтинги платформ Xbox One и PC не равны\" (альтернативная гипотеза)\n",
    "\n",
    "**Уровень критической значимости (a) = 0.05**"
   ]
  },
  {
   "cell_type": "markdown",
   "metadata": {},
   "source": [
    "**Проверим, отличаются ли выборки дисперсии**"
   ]
  },
  {
   "cell_type": "code",
   "execution_count": 203,
   "metadata": {},
   "outputs": [
    {
     "name": "stdout",
     "output_type": "stream",
     "text": [
      "Дисперсия XOne = 1.8965188383045526 | Дисперсия PC = 2.734138496439882\n"
     ]
    }
   ],
   "source": [
    "PC_ratings = actual_data.query('(platform == \"PC\") & (user_score > 0)')['user_score']\n",
    "XOne_ratings = actual_data.query('(platform == \"XOne\") & (user_score > 0)')['user_score']\n",
    "\n",
    "print('Дисперсия XOne =', np.var(XOne_ratings), '| Дисперсия PC =', np.var(PC_ratings)) "
   ]
  },
  {
   "cell_type": "markdown",
   "metadata": {},
   "source": [
    "**Дисперсии отличаются между собой, поэтому для параметра equal_var ставим значение False**"
   ]
  },
  {
   "cell_type": "code",
   "execution_count": 204,
   "metadata": {},
   "outputs": [
    {
     "name": "stdout",
     "output_type": "stream",
     "text": [
      "p-значение: 0.6206366351489678\n",
      "Не можем отвергнуть нулевую гипотезу\n"
     ]
    }
   ],
   "source": [
    "alpha = 0.05\n",
    "\n",
    "results = st.ttest_ind(PC_ratings, XOne_ratings, equal_var=False) \n",
    "\n",
    "print('p-значение:', results.pvalue)\n",
    "\n",
    "if (results.pvalue < alpha):\n",
    "    print(\"Отвергаем нулевую гипотезу\")\n",
    "else:\n",
    "    print(\"Не можем отвергнуть нулевую гипотезу\")"
   ]
  },
  {
   "cell_type": "markdown",
   "metadata": {},
   "source": [
    "**Вывод по гипотезе: средние пользовательские рейтинги платформ Xbox One и PC одинаковые.**\n",
    "<br> *Средние пользовательские рейтинги платформ Xbox One и PC равны*"
   ]
  },
  {
   "cell_type": "markdown",
   "metadata": {},
   "source": [
    "### Средние пользовательские рейтинги жанров Action и Sports разные.\n",
    "* H_0 = \"Средние пользовательские рейтинги жанров Action и Sports равны\"\n",
    "* H_1 = \"Средние пользовательские рейтинги жанров Action и Sports не равны\"\n",
    "\n",
    "**Уровень критической значимости (a) = 0.05**"
   ]
  },
  {
   "cell_type": "code",
   "execution_count": 205,
   "metadata": {},
   "outputs": [
    {
     "name": "stdout",
     "output_type": "stream",
     "text": [
      "Дисперсия жанра Action = 1.8783732502012689 | Дисперсия жанра Sports = 3.0228802210649377\n"
     ]
    }
   ],
   "source": [
    "action_scores = actual_data[(actual_data['genre'] == 'Action') & (actual_data['user_score'] > 0)]['user_score']\n",
    "sports_scores = actual_data[(actual_data['genre'] == 'Sports') & (actual_data['user_score'] > 0)]['user_score']\n",
    "\n",
    "print('Дисперсия жанра Action =', np.var(action_scores), '| Дисперсия жанра Sports =', np.var(sports_scores)) "
   ]
  },
  {
   "cell_type": "markdown",
   "metadata": {},
   "source": [
    "**Также, дисперсии отличаются между собой, поэтому для параметра equal_var ставим значение False**"
   ]
  },
  {
   "cell_type": "code",
   "execution_count": 206,
   "metadata": {},
   "outputs": [
    {
     "name": "stdout",
     "output_type": "stream",
     "text": [
      "p-значение: 3.3183730691020093e-20\n",
      "Отвергаем нулевую гипотезу\n"
     ]
    }
   ],
   "source": [
    "alpha = 0.05\n",
    "\n",
    "results = st.ttest_ind(action_scores, sports_scores, equal_var=False) \n",
    "\n",
    "print('p-значение:', results.pvalue)\n",
    "\n",
    "if (results.pvalue < alpha):\n",
    "    print(\"Отвергаем нулевую гипотезу\")\n",
    "else:\n",
    "    print(\"Не можем отвергнуть нулевую гипотезу\")"
   ]
  },
  {
   "cell_type": "markdown",
   "metadata": {},
   "source": [
    "**Вывод по гипотезе: средние пользовательские рейтинги жанров Action и Sports разные.**\n",
    "<br> *Средние пользовательские рейтинги жанров Action и Sports не равны*"
   ]
  },
  {
   "cell_type": "markdown",
   "metadata": {},
   "source": [
    "## Общий вывод\n",
    "**Данный проект состоит из 5 этапов.**\n",
    "\n",
    "1. **Загрузка данных**. На этом этапе был открыт файл и была изучена вся основная информация по этому файлу. Также, на этом этапе было выяснено, что в датафрейме\n",
    "    * имеются пропуски\n",
    "    * названия столбцов имеют верхний регистр \n",
    "    * возможно присутствуют дубликаты \n",
    "    * в некоторых столбцах нужно поменять тип данных.\n",
    "2. **Предобработка данных**. На данном этапе были исправлены ошибки, указанные в 1 этапе разработки проекта. Также, был добавлен новый столбец, хранящий в себе информацию о суммарных продажах во всех регионах (столбец 'total_sum').\n",
    "3. **Исследовательский анализ данных**.\n",
    "    * Рост количества выпускаемых игр идёт с 1994 года по 2008 год. До 1994 года количество игр оставалось на одном уровне. В 2008 году достигается пик по количеству выпускаемых игр. После 2008 года количество игр идёт на спад.\n",
    "    * Если смотреть по годам за всё время, то в 2008 году платформа PS2 набрала наибольшее суммарное количество продаж, в то время, как в 2011 году, она уже продала наименьшее количество игр среди остальных платформ. Лидирующими платформами по продажам за всё время являются:  PS2 - лидер по продажам, X360, PS3, Wii, DS, PS.\n",
    "    * Cредний срок, за который появляются новые и исчезают старые платформы, 11 лет (жизненный цикл платформы).\n",
    "    * Актуальным временным периодом является период с 2012 по 2016 гг.\n",
    "    * Потенциально прибыльными для 2017 года, будут:\n",
    "        * PS4 - наблюдается рост продаж (не учитывая 2016 год, данные для которого могут быть не полными\n",
    "        * XONE - наблюдается рост продаж (не учитывая 2016 год, данные для которого могут быть не полными \n",
    "    * Оценки критиков демонстрируют прямую, средне-слабую корреляцию с \"цифрами\" продаж на другие платформы, а оценки пользователей корреляции с продажами не имеют. Но на диаграммах рассеяния можем заметить тенденцию для оценок критиков, что при большей оценке, большее количество проданных игр (для оценок пользователей в меньшей степени).\n",
    "    * Выводы по PS4 можно применить к другим платформам, но суммы продаж для границ будут отличаться в зависимости от средних продаж по платформе.\n",
    "    * Жанр Action - лидер по количеству игр, а также по количеству продаж. Жанры Puzzle и Stategy - наименее популярные жанры\n",
    "4. **Составление портрета пользователя каждого региона**.\n",
    "* **Для Северной Америки характерны:**\n",
    "    * Такие платформы, как X360 (59.2% продаж), PS4 (34.6% продаж), PS3 (35.8% продаж), XOne (58.4% продаж), 3DS (28.5% продаж);\n",
    "    * Жанры игр: 'action', 'shooter', 'sports', 'role-playing' и 'misc';\n",
    "    * Игры с рейтингом \"M\" (для лиц старше 16 лет).\n",
    "\n",
    "* **Для Европы характерны:**\n",
    "    * Такие платформы, как PS4 (44.9% продаж), PS3 (37% продаж), X360 (31.5% продаж), XOne (32.4% продаж), 3DS (22% продаж);\n",
    "    * Жанры игр: 'action', 'shooter', 'sports', 'role-playing' и 'racing';\n",
    "    * Игры с рейтингом \"M\"\n",
    "\n",
    "* **Для Японии характерны:**\n",
    "    * Такие платформы, как 3DS (45% продаж), PS3 (12.2% продаж), PSV (42.78% продаж), PS4 (5% продаж), WiiU (15.8% продаж);\n",
    "    * Жанры игр: 'action', 'simulation', ' misc', 'role-playing' и 'fighting';\n",
    "    * Игры, не имеющие рейтинговой оценки.\n",
    "* ESRB рейтинг влияет на продажи, но не в Японии. В Японии своя система оценивания игр и большая часть игр оценивается именно ею, поэтому в данном проекте для игр в Японии стоит рейтингц \"NR\" (\"Not Rated\"). Для игр в Северной Америке и Европе большинство проданных игр - игры с рейтингом \"M\" (для лиц старше 16 лет). Менее популярны же игры с рейтингом \"T\" (для лиц старше 13 лет).\n",
    "5. **Проверка гипотез**\n",
    "    * *Средние пользовательские рейтинги платформ Xbox One и PC равны*\n",
    "    * *Средние пользовательские рейтинги жанров Action и Sports не равны*\n",
    "\n",
    "**Планировка рекламной компании на 2017 год.**\n",
    "<br>*Для того, чтобы максимально прибыльно акцентировать на какие игры тратить рекламный бюджет, у нас есть несколько факторов:*\n",
    "1. **Платформа.** Наиболее актуальными платформами на 2017 год будут PS4 и XOne. Их продажи с каждом годом лишь увеличиваются, а их жизненный цикл только подходит к середине (5 лет), так что именно они на 2017 год будут наиболее актуальными и прибыльными.\n",
    "2. **Жанр.** Для пользователей больше всего привлекателен жанр игр 'Шутер'. Его суммарные продажи гораздо больше, чем у других жанров.\n",
    "3. **Рейтинг ESRB.** Большинство людей предпочитают игры с рейтингом \"M\", то есть для лиц старше 17 лет. \n",
    "4. **Регион.** Хорошим вариантом для рекламы будет Северная Америка. Там продаётся большее количество игр и все условия, описанные выше, подходят для покупателей, проживающих именно на этой территории.\n",
    "5. **Обращать внимание на оценки критиков или на оценки игроков смысла почти не имеет, так как оценки критиков демонстрируют прямую, средне-слабую корреляцию с \"цифрами\" продаж на другие платформы, а оценки пользователей корреляции с продажами не имеют.**"
   ]
  }
 ],
 "metadata": {
  "ExecuteTimeLog": [
   {
    "duration": 1404,
    "start_time": "2023-08-17T13:31:44.290Z"
   },
   {
    "duration": 137,
    "start_time": "2023-08-17T13:37:49.320Z"
   },
   {
    "duration": 18,
    "start_time": "2023-08-17T13:39:02.488Z"
   },
   {
    "duration": 66,
    "start_time": "2023-08-17T13:53:28.776Z"
   },
   {
    "duration": 14,
    "start_time": "2023-08-17T13:53:29.120Z"
   },
   {
    "duration": 50,
    "start_time": "2023-08-17T15:52:21.503Z"
   },
   {
    "duration": 1236,
    "start_time": "2023-08-17T15:52:27.406Z"
   },
   {
    "duration": 197,
    "start_time": "2023-08-17T15:52:28.644Z"
   },
   {
    "duration": 16,
    "start_time": "2023-08-17T15:52:28.843Z"
   },
   {
    "duration": 5,
    "start_time": "2023-08-17T15:52:28.861Z"
   },
   {
    "duration": 62,
    "start_time": "2023-08-17T15:52:37.784Z"
   },
   {
    "duration": 4,
    "start_time": "2023-08-17T15:52:43.246Z"
   },
   {
    "duration": 45,
    "start_time": "2023-08-18T10:12:21.315Z"
   },
   {
    "duration": 1257,
    "start_time": "2023-08-18T10:12:24.271Z"
   },
   {
    "duration": 202,
    "start_time": "2023-08-18T10:12:25.530Z"
   },
   {
    "duration": 16,
    "start_time": "2023-08-18T10:12:25.734Z"
   },
   {
    "duration": 5,
    "start_time": "2023-08-18T10:12:25.752Z"
   },
   {
    "duration": 33,
    "start_time": "2023-08-18T10:12:25.758Z"
   },
   {
    "duration": 14,
    "start_time": "2023-08-18T10:12:41.221Z"
   },
   {
    "duration": 10,
    "start_time": "2023-08-18T10:19:01.368Z"
   },
   {
    "duration": 12,
    "start_time": "2023-08-18T10:19:18.373Z"
   },
   {
    "duration": 9,
    "start_time": "2023-08-18T10:19:49.461Z"
   },
   {
    "duration": 8,
    "start_time": "2023-08-18T10:20:31.672Z"
   },
   {
    "duration": 9,
    "start_time": "2023-08-18T10:21:02.727Z"
   },
   {
    "duration": 33,
    "start_time": "2023-08-18T10:48:29.392Z"
   },
   {
    "duration": 3,
    "start_time": "2023-08-18T10:56:11.321Z"
   },
   {
    "duration": 3,
    "start_time": "2023-08-18T10:57:44.545Z"
   },
   {
    "duration": 3,
    "start_time": "2023-08-18T10:57:49.611Z"
   },
   {
    "duration": 4,
    "start_time": "2023-08-18T10:58:03.220Z"
   },
   {
    "duration": 3,
    "start_time": "2023-08-18T10:58:07.075Z"
   },
   {
    "duration": 18,
    "start_time": "2023-08-18T10:58:07.457Z"
   },
   {
    "duration": 4,
    "start_time": "2023-08-18T10:58:08.049Z"
   },
   {
    "duration": 58,
    "start_time": "2023-08-18T10:59:04.312Z"
   },
   {
    "duration": 4,
    "start_time": "2023-08-18T10:59:29.431Z"
   },
   {
    "duration": 14,
    "start_time": "2023-08-18T10:59:34.757Z"
   },
   {
    "duration": 5,
    "start_time": "2023-08-18T11:00:49.039Z"
   },
   {
    "duration": 4,
    "start_time": "2023-08-18T11:01:00.973Z"
   },
   {
    "duration": 9,
    "start_time": "2023-08-18T11:02:10.236Z"
   },
   {
    "duration": 5,
    "start_time": "2023-08-18T11:40:15.767Z"
   },
   {
    "duration": 4,
    "start_time": "2023-08-18T11:40:22.401Z"
   },
   {
    "duration": 4,
    "start_time": "2023-08-18T11:40:34.778Z"
   },
   {
    "duration": 4,
    "start_time": "2023-08-18T11:40:38.469Z"
   },
   {
    "duration": 4,
    "start_time": "2023-08-18T11:40:43.606Z"
   },
   {
    "duration": 4,
    "start_time": "2023-08-18T11:41:21.123Z"
   },
   {
    "duration": 4,
    "start_time": "2023-08-18T11:41:32.919Z"
   },
   {
    "duration": 64,
    "start_time": "2023-08-18T11:41:55.505Z"
   },
   {
    "duration": 58,
    "start_time": "2023-08-18T11:42:14.638Z"
   },
   {
    "duration": 65,
    "start_time": "2023-08-18T11:42:19.306Z"
   },
   {
    "duration": 68,
    "start_time": "2023-08-18T11:42:35.406Z"
   },
   {
    "duration": 1060,
    "start_time": "2023-08-18T11:45:10.913Z"
   },
   {
    "duration": 1189,
    "start_time": "2023-08-18T11:45:49.524Z"
   },
   {
    "duration": 3,
    "start_time": "2023-08-18T11:45:54.431Z"
   },
   {
    "duration": 98,
    "start_time": "2023-08-18T11:45:54.437Z"
   },
   {
    "duration": 13,
    "start_time": "2023-08-18T11:45:54.536Z"
   },
   {
    "duration": 11,
    "start_time": "2023-08-18T11:45:54.551Z"
   },
   {
    "duration": 18,
    "start_time": "2023-08-18T11:45:54.563Z"
   },
   {
    "duration": 23,
    "start_time": "2023-08-18T11:45:54.582Z"
   },
   {
    "duration": 4,
    "start_time": "2023-08-18T11:45:54.607Z"
   },
   {
    "duration": 19,
    "start_time": "2023-08-18T11:45:54.612Z"
   },
   {
    "duration": 5,
    "start_time": "2023-08-18T11:45:54.632Z"
   },
   {
    "duration": 20,
    "start_time": "2023-08-18T11:45:54.638Z"
   },
   {
    "duration": 18,
    "start_time": "2023-08-18T11:45:54.659Z"
   },
   {
    "duration": 40,
    "start_time": "2023-08-18T11:45:54.678Z"
   },
   {
    "duration": 12,
    "start_time": "2023-08-18T11:45:54.719Z"
   },
   {
    "duration": 40,
    "start_time": "2023-08-18T11:45:54.734Z"
   },
   {
    "duration": 16,
    "start_time": "2023-08-18T11:45:54.776Z"
   },
   {
    "duration": 8,
    "start_time": "2023-08-18T11:46:30.355Z"
   },
   {
    "duration": 6,
    "start_time": "2023-08-18T11:49:54.306Z"
   },
   {
    "duration": 4,
    "start_time": "2023-08-18T11:49:59.447Z"
   },
   {
    "duration": 6,
    "start_time": "2023-08-18T11:50:01.743Z"
   },
   {
    "duration": 6,
    "start_time": "2023-08-18T11:54:21.677Z"
   },
   {
    "duration": 7,
    "start_time": "2023-08-18T11:54:42.828Z"
   },
   {
    "duration": 6,
    "start_time": "2023-08-18T11:54:52.660Z"
   },
   {
    "duration": 4,
    "start_time": "2023-08-18T11:55:14.527Z"
   },
   {
    "duration": 6,
    "start_time": "2023-08-18T11:55:17.869Z"
   },
   {
    "duration": 4,
    "start_time": "2023-08-18T11:56:51.531Z"
   },
   {
    "duration": 6,
    "start_time": "2023-08-18T11:56:52.238Z"
   },
   {
    "duration": 9,
    "start_time": "2023-08-18T11:57:13.927Z"
   },
   {
    "duration": 4,
    "start_time": "2023-08-18T11:57:34.518Z"
   },
   {
    "duration": 3,
    "start_time": "2023-08-18T11:58:55.927Z"
   },
   {
    "duration": 94,
    "start_time": "2023-08-18T11:58:55.933Z"
   },
   {
    "duration": 12,
    "start_time": "2023-08-18T11:58:56.028Z"
   },
   {
    "duration": 3,
    "start_time": "2023-08-18T11:58:56.042Z"
   },
   {
    "duration": 13,
    "start_time": "2023-08-18T11:58:56.047Z"
   },
   {
    "duration": 26,
    "start_time": "2023-08-18T11:58:56.062Z"
   },
   {
    "duration": 4,
    "start_time": "2023-08-18T11:58:56.090Z"
   },
   {
    "duration": 31,
    "start_time": "2023-08-18T11:58:56.095Z"
   },
   {
    "duration": 5,
    "start_time": "2023-08-18T11:58:56.129Z"
   },
   {
    "duration": 7,
    "start_time": "2023-08-18T11:58:56.136Z"
   },
   {
    "duration": 5,
    "start_time": "2023-08-18T11:58:56.145Z"
   },
   {
    "duration": 7,
    "start_time": "2023-08-18T11:58:56.152Z"
   },
   {
    "duration": 17,
    "start_time": "2023-08-18T11:58:56.160Z"
   },
   {
    "duration": 7,
    "start_time": "2023-08-18T11:58:56.179Z"
   },
   {
    "duration": 5,
    "start_time": "2023-08-18T11:58:56.187Z"
   },
   {
    "duration": 17,
    "start_time": "2023-08-18T11:58:56.193Z"
   },
   {
    "duration": 14,
    "start_time": "2023-08-18T11:58:56.211Z"
   },
   {
    "duration": 27,
    "start_time": "2023-08-18T11:58:56.227Z"
   },
   {
    "duration": 6,
    "start_time": "2023-08-18T11:58:56.256Z"
   },
   {
    "duration": 5,
    "start_time": "2023-08-18T11:58:56.264Z"
   },
   {
    "duration": 7,
    "start_time": "2023-08-18T11:58:56.271Z"
   },
   {
    "duration": 8,
    "start_time": "2023-08-18T11:58:56.279Z"
   },
   {
    "duration": 20,
    "start_time": "2023-08-18T11:58:56.288Z"
   },
   {
    "duration": 4,
    "start_time": "2023-08-18T12:00:53.457Z"
   },
   {
    "duration": 4,
    "start_time": "2023-08-18T12:05:39.051Z"
   },
   {
    "duration": 6,
    "start_time": "2023-08-18T12:05:50.363Z"
   },
   {
    "duration": 4,
    "start_time": "2023-08-18T12:05:58.448Z"
   },
   {
    "duration": 5,
    "start_time": "2023-08-18T12:05:58.793Z"
   },
   {
    "duration": 5,
    "start_time": "2023-08-18T12:05:59.420Z"
   },
   {
    "duration": 4,
    "start_time": "2023-08-18T12:05:59.783Z"
   },
   {
    "duration": 5,
    "start_time": "2023-08-18T12:06:00.021Z"
   },
   {
    "duration": 5,
    "start_time": "2023-08-18T12:08:17.932Z"
   },
   {
    "duration": 9,
    "start_time": "2023-08-18T12:08:25.077Z"
   },
   {
    "duration": 20,
    "start_time": "2023-08-18T12:08:32.178Z"
   },
   {
    "duration": 4,
    "start_time": "2023-08-18T12:16:50.005Z"
   },
   {
    "duration": 3,
    "start_time": "2023-08-18T12:16:52.672Z"
   },
   {
    "duration": 113,
    "start_time": "2023-08-18T12:16:52.677Z"
   },
   {
    "duration": 14,
    "start_time": "2023-08-18T12:16:52.792Z"
   },
   {
    "duration": 37,
    "start_time": "2023-08-18T12:16:52.808Z"
   },
   {
    "duration": 48,
    "start_time": "2023-08-18T12:16:52.847Z"
   },
   {
    "duration": 13,
    "start_time": "2023-08-18T12:16:52.896Z"
   },
   {
    "duration": 7,
    "start_time": "2023-08-18T12:16:52.911Z"
   },
   {
    "duration": 21,
    "start_time": "2023-08-18T12:16:52.919Z"
   },
   {
    "duration": 5,
    "start_time": "2023-08-18T12:16:52.941Z"
   },
   {
    "duration": 9,
    "start_time": "2023-08-18T12:16:52.947Z"
   },
   {
    "duration": 17,
    "start_time": "2023-08-18T12:16:52.959Z"
   },
   {
    "duration": 30,
    "start_time": "2023-08-18T12:16:52.978Z"
   },
   {
    "duration": 17,
    "start_time": "2023-08-18T12:16:53.010Z"
   },
   {
    "duration": 16,
    "start_time": "2023-08-18T12:16:53.028Z"
   },
   {
    "duration": 23,
    "start_time": "2023-08-18T12:16:53.046Z"
   },
   {
    "duration": 37,
    "start_time": "2023-08-18T12:16:53.071Z"
   },
   {
    "duration": 15,
    "start_time": "2023-08-18T12:16:53.111Z"
   },
   {
    "duration": 12,
    "start_time": "2023-08-18T12:16:53.127Z"
   },
   {
    "duration": 47,
    "start_time": "2023-08-18T12:16:53.140Z"
   },
   {
    "duration": 75,
    "start_time": "2023-08-18T12:16:53.189Z"
   },
   {
    "duration": 80,
    "start_time": "2023-08-18T12:16:53.266Z"
   },
   {
    "duration": 52,
    "start_time": "2023-08-18T12:16:53.348Z"
   },
   {
    "duration": 36,
    "start_time": "2023-08-18T12:16:53.401Z"
   },
   {
    "duration": 29,
    "start_time": "2023-08-18T12:16:53.439Z"
   },
   {
    "duration": 37,
    "start_time": "2023-08-18T12:16:53.470Z"
   },
   {
    "duration": 9,
    "start_time": "2023-08-18T12:16:53.509Z"
   },
   {
    "duration": 19,
    "start_time": "2023-08-18T12:16:53.519Z"
   },
   {
    "duration": 32,
    "start_time": "2023-08-18T12:16:53.540Z"
   },
   {
    "duration": 8,
    "start_time": "2023-08-18T12:25:16.076Z"
   },
   {
    "duration": 6,
    "start_time": "2023-08-18T12:25:16.242Z"
   },
   {
    "duration": 5,
    "start_time": "2023-08-18T12:25:16.409Z"
   },
   {
    "duration": 5,
    "start_time": "2023-08-18T12:25:16.790Z"
   },
   {
    "duration": 16,
    "start_time": "2023-08-18T12:25:16.966Z"
   },
   {
    "duration": 3,
    "start_time": "2023-08-18T12:27:59.687Z"
   },
   {
    "duration": 109,
    "start_time": "2023-08-18T12:28:00.275Z"
   },
   {
    "duration": 14,
    "start_time": "2023-08-18T12:28:00.666Z"
   },
   {
    "duration": 4,
    "start_time": "2023-08-18T12:28:01.820Z"
   },
   {
    "duration": 16,
    "start_time": "2023-08-18T12:28:02.372Z"
   },
   {
    "duration": 8,
    "start_time": "2023-08-18T12:28:02.699Z"
   },
   {
    "duration": 4,
    "start_time": "2023-08-18T12:28:02.976Z"
   },
   {
    "duration": 17,
    "start_time": "2023-08-18T12:28:03.132Z"
   },
   {
    "duration": 4,
    "start_time": "2023-08-18T12:28:03.274Z"
   },
   {
    "duration": 5,
    "start_time": "2023-08-18T12:28:04.526Z"
   },
   {
    "duration": 4,
    "start_time": "2023-08-18T12:28:04.819Z"
   },
   {
    "duration": 5,
    "start_time": "2023-08-18T12:28:05.118Z"
   },
   {
    "duration": 4,
    "start_time": "2023-08-18T12:28:05.272Z"
   },
   {
    "duration": 4,
    "start_time": "2023-08-18T12:28:05.430Z"
   },
   {
    "duration": 4,
    "start_time": "2023-08-18T12:28:05.739Z"
   },
   {
    "duration": 4,
    "start_time": "2023-08-18T12:28:06.067Z"
   },
   {
    "duration": 5,
    "start_time": "2023-08-18T12:28:06.616Z"
   },
   {
    "duration": 5,
    "start_time": "2023-08-18T12:28:06.998Z"
   },
   {
    "duration": 478,
    "start_time": "2023-08-18T14:43:56.448Z"
   },
   {
    "duration": 469,
    "start_time": "2023-08-18T14:44:18.772Z"
   },
   {
    "duration": 312,
    "start_time": "2023-08-18T14:44:27.210Z"
   },
   {
    "duration": 395,
    "start_time": "2023-08-18T14:44:52.561Z"
   },
   {
    "duration": 375,
    "start_time": "2023-08-18T14:45:00.561Z"
   },
   {
    "duration": 339,
    "start_time": "2023-08-18T14:45:07.330Z"
   },
   {
    "duration": 323,
    "start_time": "2023-08-18T14:45:11.508Z"
   },
   {
    "duration": 439,
    "start_time": "2023-08-18T14:45:18.051Z"
   },
   {
    "duration": 385,
    "start_time": "2023-08-18T14:45:40.640Z"
   },
   {
    "duration": 325,
    "start_time": "2023-08-18T14:46:11.590Z"
   },
   {
    "duration": 343,
    "start_time": "2023-08-18T14:46:22.510Z"
   },
   {
    "duration": 289,
    "start_time": "2023-08-18T14:46:35.418Z"
   },
   {
    "duration": 293,
    "start_time": "2023-08-18T14:46:42.117Z"
   },
   {
    "duration": 374,
    "start_time": "2023-08-18T14:46:45.308Z"
   },
   {
    "duration": 336,
    "start_time": "2023-08-18T14:46:49.700Z"
   },
   {
    "duration": 331,
    "start_time": "2023-08-18T14:46:54.607Z"
   },
   {
    "duration": 421,
    "start_time": "2023-08-18T14:46:58.368Z"
   },
   {
    "duration": 346,
    "start_time": "2023-08-18T14:47:02.559Z"
   },
   {
    "duration": 451,
    "start_time": "2023-08-18T14:47:09.061Z"
   },
   {
    "duration": 423,
    "start_time": "2023-08-18T14:47:15.218Z"
   },
   {
    "duration": 371,
    "start_time": "2023-08-18T14:47:45.473Z"
   },
   {
    "duration": 377,
    "start_time": "2023-08-18T14:47:56.446Z"
   },
   {
    "duration": 403,
    "start_time": "2023-08-18T14:56:13.146Z"
   },
   {
    "duration": 12,
    "start_time": "2023-08-18T15:10:12.752Z"
   },
   {
    "duration": 4,
    "start_time": "2023-08-18T15:10:20.273Z"
   },
   {
    "duration": 120,
    "start_time": "2023-08-18T15:10:20.279Z"
   },
   {
    "duration": 17,
    "start_time": "2023-08-18T15:10:20.401Z"
   },
   {
    "duration": 8,
    "start_time": "2023-08-18T15:10:20.420Z"
   },
   {
    "duration": 38,
    "start_time": "2023-08-18T15:10:20.430Z"
   },
   {
    "duration": 17,
    "start_time": "2023-08-18T15:10:20.470Z"
   },
   {
    "duration": 22,
    "start_time": "2023-08-18T15:10:20.489Z"
   },
   {
    "duration": 31,
    "start_time": "2023-08-18T15:10:20.515Z"
   },
   {
    "duration": 6,
    "start_time": "2023-08-18T15:10:20.549Z"
   },
   {
    "duration": 10,
    "start_time": "2023-08-18T15:10:20.557Z"
   },
   {
    "duration": 37,
    "start_time": "2023-08-18T15:10:20.569Z"
   },
   {
    "duration": 40,
    "start_time": "2023-08-18T15:10:20.608Z"
   },
   {
    "duration": 35,
    "start_time": "2023-08-18T15:10:20.649Z"
   },
   {
    "duration": 28,
    "start_time": "2023-08-18T15:10:20.688Z"
   },
   {
    "duration": 20,
    "start_time": "2023-08-18T15:10:20.718Z"
   },
   {
    "duration": 11,
    "start_time": "2023-08-18T15:10:20.740Z"
   },
   {
    "duration": 21,
    "start_time": "2023-08-18T15:10:20.752Z"
   },
   {
    "duration": 32,
    "start_time": "2023-08-18T15:10:20.775Z"
   },
   {
    "duration": 43,
    "start_time": "2023-08-18T15:10:20.809Z"
   },
   {
    "duration": 32,
    "start_time": "2023-08-18T15:10:20.854Z"
   },
   {
    "duration": 49,
    "start_time": "2023-08-18T15:10:20.889Z"
   },
   {
    "duration": 22,
    "start_time": "2023-08-18T15:10:20.939Z"
   },
   {
    "duration": 24,
    "start_time": "2023-08-18T15:10:20.963Z"
   },
   {
    "duration": 34,
    "start_time": "2023-08-18T15:10:20.990Z"
   },
   {
    "duration": 24,
    "start_time": "2023-08-18T15:10:21.026Z"
   },
   {
    "duration": 7,
    "start_time": "2023-08-18T15:10:21.052Z"
   },
   {
    "duration": 13,
    "start_time": "2023-08-18T15:10:21.061Z"
   },
   {
    "duration": 19,
    "start_time": "2023-08-18T15:10:21.077Z"
   },
   {
    "duration": 339,
    "start_time": "2023-08-18T15:10:21.097Z"
   },
   {
    "duration": 176,
    "start_time": "2023-08-18T15:10:21.438Z"
   },
   {
    "duration": 162,
    "start_time": "2023-08-18T15:10:30.560Z"
   },
   {
    "duration": 157,
    "start_time": "2023-08-18T15:11:02.064Z"
   },
   {
    "duration": 55,
    "start_time": "2023-08-18T15:11:07.587Z"
   },
   {
    "duration": 78,
    "start_time": "2023-08-18T15:11:07.644Z"
   },
   {
    "duration": 12,
    "start_time": "2023-08-18T15:11:07.724Z"
   },
   {
    "duration": 4,
    "start_time": "2023-08-18T15:11:07.737Z"
   },
   {
    "duration": 36,
    "start_time": "2023-08-18T15:11:07.742Z"
   },
   {
    "duration": 15,
    "start_time": "2023-08-18T15:11:07.780Z"
   },
   {
    "duration": 30,
    "start_time": "2023-08-18T15:11:07.796Z"
   },
   {
    "duration": 76,
    "start_time": "2023-08-18T15:11:07.827Z"
   },
   {
    "duration": 3,
    "start_time": "2023-08-18T15:11:07.905Z"
   },
   {
    "duration": 14,
    "start_time": "2023-08-18T15:11:07.910Z"
   },
   {
    "duration": 4,
    "start_time": "2023-08-18T15:11:07.925Z"
   },
   {
    "duration": 7,
    "start_time": "2023-08-18T15:11:07.931Z"
   },
   {
    "duration": 17,
    "start_time": "2023-08-18T15:11:07.940Z"
   },
   {
    "duration": 11,
    "start_time": "2023-08-18T15:11:07.960Z"
   },
   {
    "duration": 15,
    "start_time": "2023-08-18T15:11:07.973Z"
   },
   {
    "duration": 8,
    "start_time": "2023-08-18T15:11:07.990Z"
   },
   {
    "duration": 34,
    "start_time": "2023-08-18T15:11:07.999Z"
   },
   {
    "duration": 19,
    "start_time": "2023-08-18T15:11:08.035Z"
   },
   {
    "duration": 23,
    "start_time": "2023-08-18T15:11:08.055Z"
   },
   {
    "duration": 18,
    "start_time": "2023-08-18T15:11:08.080Z"
   },
   {
    "duration": 13,
    "start_time": "2023-08-18T15:11:08.099Z"
   },
   {
    "duration": 8,
    "start_time": "2023-08-18T15:11:08.113Z"
   },
   {
    "duration": 9,
    "start_time": "2023-08-18T15:11:08.123Z"
   },
   {
    "duration": 14,
    "start_time": "2023-08-18T15:11:08.133Z"
   },
   {
    "duration": 6,
    "start_time": "2023-08-18T15:11:08.148Z"
   },
   {
    "duration": 7,
    "start_time": "2023-08-18T15:11:08.155Z"
   },
   {
    "duration": 6,
    "start_time": "2023-08-18T15:11:08.163Z"
   },
   {
    "duration": 26,
    "start_time": "2023-08-18T15:11:08.170Z"
   },
   {
    "duration": 317,
    "start_time": "2023-08-18T15:11:08.198Z"
   },
   {
    "duration": 429,
    "start_time": "2023-08-18T15:11:08.517Z"
   },
   {
    "duration": 337,
    "start_time": "2023-08-18T15:11:37.035Z"
   },
   {
    "duration": 78,
    "start_time": "2023-08-18T15:11:51.943Z"
   },
   {
    "duration": 143,
    "start_time": "2023-08-18T15:11:59.632Z"
   },
   {
    "duration": 139,
    "start_time": "2023-08-18T15:12:15.629Z"
   },
   {
    "duration": 6,
    "start_time": "2023-08-18T15:12:19.743Z"
   },
   {
    "duration": 125,
    "start_time": "2023-08-18T15:12:25.031Z"
   },
   {
    "duration": 375,
    "start_time": "2023-08-18T15:12:35.471Z"
   },
   {
    "duration": 10,
    "start_time": "2023-08-18T15:52:42.906Z"
   },
   {
    "duration": 27,
    "start_time": "2023-08-18T15:52:54.763Z"
   },
   {
    "duration": 299,
    "start_time": "2023-08-18T15:53:02.643Z"
   },
   {
    "duration": 104,
    "start_time": "2023-08-18T15:58:43.276Z"
   },
   {
    "duration": 10,
    "start_time": "2023-08-18T16:01:12.884Z"
   },
   {
    "duration": 5,
    "start_time": "2023-08-18T16:01:21.426Z"
   },
   {
    "duration": 8,
    "start_time": "2023-08-18T16:01:29.038Z"
   },
   {
    "duration": 7,
    "start_time": "2023-08-18T16:01:34.979Z"
   },
   {
    "duration": 15,
    "start_time": "2023-08-18T16:05:13.756Z"
   },
   {
    "duration": 4,
    "start_time": "2023-08-18T16:05:32.758Z"
   },
   {
    "duration": 9,
    "start_time": "2023-08-18T16:05:42.910Z"
   },
   {
    "duration": 4,
    "start_time": "2023-08-18T16:05:48.584Z"
   },
   {
    "duration": 4,
    "start_time": "2023-08-18T16:06:04.468Z"
   },
   {
    "duration": 18,
    "start_time": "2023-08-18T16:06:51.307Z"
   },
   {
    "duration": 1057,
    "start_time": "2023-08-18T16:06:59.404Z"
   },
   {
    "duration": 989,
    "start_time": "2023-08-18T16:07:43.559Z"
   },
   {
    "duration": 17,
    "start_time": "2023-08-18T16:09:03.436Z"
   },
   {
    "duration": 8,
    "start_time": "2023-08-18T16:11:07.014Z"
   },
   {
    "duration": 15,
    "start_time": "2023-08-18T17:34:07.502Z"
   },
   {
    "duration": 159,
    "start_time": "2023-08-18T17:42:42.033Z"
   },
   {
    "duration": 183,
    "start_time": "2023-08-18T17:46:11.131Z"
   },
   {
    "duration": 172,
    "start_time": "2023-08-18T17:46:22.271Z"
   },
   {
    "duration": 631,
    "start_time": "2023-08-18T17:49:39.294Z"
   },
   {
    "duration": 762,
    "start_time": "2023-08-18T17:51:19.164Z"
   },
   {
    "duration": 7,
    "start_time": "2023-08-18T17:52:34.641Z"
   },
   {
    "duration": 634,
    "start_time": "2023-08-18T17:52:36.190Z"
   },
   {
    "duration": 7,
    "start_time": "2023-08-18T17:53:00.535Z"
   },
   {
    "duration": 716,
    "start_time": "2023-08-18T17:53:00.708Z"
   },
   {
    "duration": 11,
    "start_time": "2023-08-18T18:05:21.791Z"
   },
   {
    "duration": 166,
    "start_time": "2023-08-18T18:06:41.518Z"
   },
   {
    "duration": 3,
    "start_time": "2023-08-18T18:07:33.499Z"
   },
   {
    "duration": 112,
    "start_time": "2023-08-18T18:07:33.504Z"
   },
   {
    "duration": 15,
    "start_time": "2023-08-18T18:07:33.617Z"
   },
   {
    "duration": 38,
    "start_time": "2023-08-18T18:07:33.634Z"
   },
   {
    "duration": 45,
    "start_time": "2023-08-18T18:07:33.674Z"
   },
   {
    "duration": 33,
    "start_time": "2023-08-18T18:07:33.722Z"
   },
   {
    "duration": 38,
    "start_time": "2023-08-18T18:07:33.758Z"
   },
   {
    "duration": 63,
    "start_time": "2023-08-18T18:07:33.798Z"
   },
   {
    "duration": 6,
    "start_time": "2023-08-18T18:07:33.863Z"
   },
   {
    "duration": 31,
    "start_time": "2023-08-18T18:07:33.872Z"
   },
   {
    "duration": 15,
    "start_time": "2023-08-18T18:07:33.905Z"
   },
   {
    "duration": 28,
    "start_time": "2023-08-18T18:07:33.921Z"
   },
   {
    "duration": 27,
    "start_time": "2023-08-18T18:07:33.950Z"
   },
   {
    "duration": 20,
    "start_time": "2023-08-18T18:07:33.979Z"
   },
   {
    "duration": 29,
    "start_time": "2023-08-18T18:07:34.001Z"
   },
   {
    "duration": 18,
    "start_time": "2023-08-18T18:07:34.032Z"
   },
   {
    "duration": 8,
    "start_time": "2023-08-18T18:07:34.052Z"
   },
   {
    "duration": 25,
    "start_time": "2023-08-18T18:07:34.062Z"
   },
   {
    "duration": 17,
    "start_time": "2023-08-18T18:07:34.088Z"
   },
   {
    "duration": 18,
    "start_time": "2023-08-18T18:07:34.107Z"
   },
   {
    "duration": 26,
    "start_time": "2023-08-18T18:07:34.127Z"
   },
   {
    "duration": 21,
    "start_time": "2023-08-18T18:07:34.154Z"
   },
   {
    "duration": 23,
    "start_time": "2023-08-18T18:07:34.177Z"
   },
   {
    "duration": 11,
    "start_time": "2023-08-18T18:07:34.201Z"
   },
   {
    "duration": 14,
    "start_time": "2023-08-18T18:07:34.213Z"
   },
   {
    "duration": 30,
    "start_time": "2023-08-18T18:07:34.228Z"
   },
   {
    "duration": 23,
    "start_time": "2023-08-18T18:07:34.260Z"
   },
   {
    "duration": 25,
    "start_time": "2023-08-18T18:07:34.286Z"
   },
   {
    "duration": 304,
    "start_time": "2023-08-18T18:07:34.312Z"
   },
   {
    "duration": 321,
    "start_time": "2023-08-18T18:07:34.618Z"
   },
   {
    "duration": 6,
    "start_time": "2023-08-18T18:07:34.941Z"
   },
   {
    "duration": 21,
    "start_time": "2023-08-18T18:07:34.948Z"
   },
   {
    "duration": 1042,
    "start_time": "2023-08-18T18:07:34.970Z"
   },
   {
    "duration": 14,
    "start_time": "2023-08-18T18:07:36.013Z"
   },
   {
    "duration": 28,
    "start_time": "2023-08-18T18:07:36.029Z"
   },
   {
    "duration": 4,
    "start_time": "2023-08-18T18:07:36.059Z"
   },
   {
    "duration": 672,
    "start_time": "2023-08-18T18:07:36.065Z"
   },
   {
    "duration": 173,
    "start_time": "2023-08-18T18:07:36.738Z"
   },
   {
    "duration": 170,
    "start_time": "2023-08-18T18:08:01.041Z"
   },
   {
    "duration": 177,
    "start_time": "2023-08-18T18:08:12.961Z"
   },
   {
    "duration": 16,
    "start_time": "2023-08-18T18:09:01.930Z"
   },
   {
    "duration": 15,
    "start_time": "2023-08-18T18:09:06.747Z"
   },
   {
    "duration": 3178,
    "start_time": "2023-08-18T18:09:16.617Z"
   },
   {
    "duration": 593,
    "start_time": "2023-08-18T18:09:26.508Z"
   },
   {
    "duration": 270,
    "start_time": "2023-08-18T18:09:31.220Z"
   },
   {
    "duration": 229,
    "start_time": "2023-08-18T18:09:38.962Z"
   },
   {
    "duration": 239,
    "start_time": "2023-08-18T18:09:46.370Z"
   },
   {
    "duration": 398,
    "start_time": "2023-08-18T18:09:49.612Z"
   },
   {
    "duration": 251,
    "start_time": "2023-08-18T18:09:52.777Z"
   },
   {
    "duration": 297,
    "start_time": "2023-08-18T18:09:58.147Z"
   },
   {
    "duration": 303,
    "start_time": "2023-08-18T18:10:58.204Z"
   },
   {
    "duration": 291,
    "start_time": "2023-08-18T18:11:02.919Z"
   },
   {
    "duration": 144,
    "start_time": "2023-08-18T18:11:17.793Z"
   },
   {
    "duration": 238,
    "start_time": "2023-08-18T18:11:22.315Z"
   },
   {
    "duration": 275,
    "start_time": "2023-08-18T18:11:28.731Z"
   },
   {
    "duration": 291,
    "start_time": "2023-08-18T18:12:11.988Z"
   },
   {
    "duration": 276,
    "start_time": "2023-08-18T18:12:30.545Z"
   },
   {
    "duration": 288,
    "start_time": "2023-08-18T18:12:44.379Z"
   },
   {
    "duration": 288,
    "start_time": "2023-08-18T18:13:49.215Z"
   },
   {
    "duration": 3152,
    "start_time": "2023-08-18T18:13:59.455Z"
   },
   {
    "duration": 547,
    "start_time": "2023-08-18T18:14:14.691Z"
   },
   {
    "duration": 389,
    "start_time": "2023-08-18T18:14:29.528Z"
   },
   {
    "duration": 49,
    "start_time": "2023-08-19T10:22:51.442Z"
   },
   {
    "duration": 1462,
    "start_time": "2023-08-19T10:22:57.806Z"
   },
   {
    "duration": 486,
    "start_time": "2023-08-19T10:22:59.270Z"
   },
   {
    "duration": 17,
    "start_time": "2023-08-19T10:22:59.758Z"
   },
   {
    "duration": 4,
    "start_time": "2023-08-19T10:22:59.778Z"
   },
   {
    "duration": 18,
    "start_time": "2023-08-19T10:22:59.784Z"
   },
   {
    "duration": 17,
    "start_time": "2023-08-19T10:22:59.805Z"
   },
   {
    "duration": 36,
    "start_time": "2023-08-19T10:22:59.824Z"
   },
   {
    "duration": 23,
    "start_time": "2023-08-19T10:22:59.862Z"
   },
   {
    "duration": 5,
    "start_time": "2023-08-19T10:22:59.887Z"
   },
   {
    "duration": 6,
    "start_time": "2023-08-19T10:22:59.895Z"
   },
   {
    "duration": 11,
    "start_time": "2023-08-19T10:22:59.903Z"
   },
   {
    "duration": 40,
    "start_time": "2023-08-19T10:22:59.916Z"
   },
   {
    "duration": 5,
    "start_time": "2023-08-19T10:22:59.958Z"
   },
   {
    "duration": 8,
    "start_time": "2023-08-19T10:22:59.965Z"
   },
   {
    "duration": 19,
    "start_time": "2023-08-19T10:22:59.975Z"
   },
   {
    "duration": 16,
    "start_time": "2023-08-19T10:22:59.996Z"
   },
   {
    "duration": 68,
    "start_time": "2023-08-19T10:23:00.014Z"
   },
   {
    "duration": 38,
    "start_time": "2023-08-19T10:23:00.085Z"
   },
   {
    "duration": 43,
    "start_time": "2023-08-19T10:23:00.125Z"
   },
   {
    "duration": 25,
    "start_time": "2023-08-19T10:23:00.171Z"
   },
   {
    "duration": 29,
    "start_time": "2023-08-19T10:23:00.198Z"
   },
   {
    "duration": 38,
    "start_time": "2023-08-19T10:23:00.230Z"
   },
   {
    "duration": 45,
    "start_time": "2023-08-19T10:23:00.270Z"
   },
   {
    "duration": 65,
    "start_time": "2023-08-19T10:23:00.318Z"
   },
   {
    "duration": 69,
    "start_time": "2023-08-19T10:23:00.385Z"
   },
   {
    "duration": 28,
    "start_time": "2023-08-19T10:23:00.456Z"
   },
   {
    "duration": 48,
    "start_time": "2023-08-19T10:23:00.487Z"
   },
   {
    "duration": 66,
    "start_time": "2023-08-19T10:23:00.539Z"
   },
   {
    "duration": 450,
    "start_time": "2023-08-19T10:23:00.607Z"
   },
   {
    "duration": 349,
    "start_time": "2023-08-19T10:23:01.060Z"
   },
   {
    "duration": 9,
    "start_time": "2023-08-19T10:23:01.412Z"
   },
   {
    "duration": 106,
    "start_time": "2023-08-19T10:23:01.423Z"
   },
   {
    "duration": 1225,
    "start_time": "2023-08-19T10:23:01.531Z"
   },
   {
    "duration": 17,
    "start_time": "2023-08-19T10:23:02.759Z"
   },
   {
    "duration": 31,
    "start_time": "2023-08-19T10:23:02.778Z"
   },
   {
    "duration": 9,
    "start_time": "2023-08-19T10:23:02.810Z"
   },
   {
    "duration": 731,
    "start_time": "2023-08-19T10:23:02.821Z"
   },
   {
    "duration": 410,
    "start_time": "2023-08-19T10:23:03.556Z"
   },
   {
    "duration": 290,
    "start_time": "2023-08-19T10:23:22.015Z"
   },
   {
    "duration": 301,
    "start_time": "2023-08-19T10:23:29.983Z"
   },
   {
    "duration": 300,
    "start_time": "2023-08-19T10:23:35.837Z"
   },
   {
    "duration": 296,
    "start_time": "2023-08-19T10:23:49.948Z"
   },
   {
    "duration": 4,
    "start_time": "2023-08-19T10:26:24.478Z"
   },
   {
    "duration": 305,
    "start_time": "2023-08-19T10:28:10.648Z"
   },
   {
    "duration": 326,
    "start_time": "2023-08-19T10:28:22.489Z"
   },
   {
    "duration": 321,
    "start_time": "2023-08-19T10:28:35.113Z"
   },
   {
    "duration": 335,
    "start_time": "2023-08-19T10:28:48.512Z"
   },
   {
    "duration": 66,
    "start_time": "2023-08-19T10:29:46.190Z"
   },
   {
    "duration": 1147,
    "start_time": "2023-08-19T10:30:00.109Z"
   },
   {
    "duration": 5,
    "start_time": "2023-08-19T10:30:11.052Z"
   },
   {
    "duration": 6,
    "start_time": "2023-08-19T10:30:48.122Z"
   },
   {
    "duration": 5,
    "start_time": "2023-08-19T10:30:57.258Z"
   },
   {
    "duration": 3,
    "start_time": "2023-08-19T11:29:08.051Z"
   },
   {
    "duration": 74,
    "start_time": "2023-08-19T11:29:08.057Z"
   },
   {
    "duration": 25,
    "start_time": "2023-08-19T11:29:08.134Z"
   },
   {
    "duration": 5,
    "start_time": "2023-08-19T11:29:08.162Z"
   },
   {
    "duration": 53,
    "start_time": "2023-08-19T11:29:08.170Z"
   },
   {
    "duration": 29,
    "start_time": "2023-08-19T11:29:08.224Z"
   },
   {
    "duration": 14,
    "start_time": "2023-08-19T11:29:08.257Z"
   },
   {
    "duration": 26,
    "start_time": "2023-08-19T11:29:08.273Z"
   },
   {
    "duration": 5,
    "start_time": "2023-08-19T11:29:08.302Z"
   },
   {
    "duration": 15,
    "start_time": "2023-08-19T11:29:08.309Z"
   },
   {
    "duration": 15,
    "start_time": "2023-08-19T11:29:08.326Z"
   },
   {
    "duration": 16,
    "start_time": "2023-08-19T11:29:08.344Z"
   },
   {
    "duration": 12,
    "start_time": "2023-08-19T11:29:08.362Z"
   },
   {
    "duration": 6,
    "start_time": "2023-08-19T11:29:08.377Z"
   },
   {
    "duration": 14,
    "start_time": "2023-08-19T11:29:08.385Z"
   },
   {
    "duration": 9,
    "start_time": "2023-08-19T11:29:08.401Z"
   },
   {
    "duration": 18,
    "start_time": "2023-08-19T11:29:08.412Z"
   },
   {
    "duration": 49,
    "start_time": "2023-08-19T11:29:08.456Z"
   },
   {
    "duration": 20,
    "start_time": "2023-08-19T11:29:08.507Z"
   },
   {
    "duration": 18,
    "start_time": "2023-08-19T11:29:08.529Z"
   },
   {
    "duration": 16,
    "start_time": "2023-08-19T11:29:08.549Z"
   },
   {
    "duration": 13,
    "start_time": "2023-08-19T11:29:08.567Z"
   },
   {
    "duration": 23,
    "start_time": "2023-08-19T11:29:08.582Z"
   },
   {
    "duration": 7,
    "start_time": "2023-08-19T11:29:08.610Z"
   },
   {
    "duration": 8,
    "start_time": "2023-08-19T11:29:08.619Z"
   },
   {
    "duration": 9,
    "start_time": "2023-08-19T11:29:08.629Z"
   },
   {
    "duration": 20,
    "start_time": "2023-08-19T11:29:08.640Z"
   },
   {
    "duration": 33,
    "start_time": "2023-08-19T11:29:08.678Z"
   },
   {
    "duration": 469,
    "start_time": "2023-08-19T11:29:08.714Z"
   },
   {
    "duration": 367,
    "start_time": "2023-08-19T11:29:09.185Z"
   },
   {
    "duration": 8,
    "start_time": "2023-08-19T11:29:09.554Z"
   },
   {
    "duration": 15,
    "start_time": "2023-08-19T11:29:09.564Z"
   },
   {
    "duration": 984,
    "start_time": "2023-08-19T11:29:09.582Z"
   },
   {
    "duration": 16,
    "start_time": "2023-08-19T11:29:10.569Z"
   },
   {
    "duration": 35,
    "start_time": "2023-08-19T11:29:10.587Z"
   },
   {
    "duration": 27,
    "start_time": "2023-08-19T11:29:10.623Z"
   },
   {
    "duration": 708,
    "start_time": "2023-08-19T11:29:10.652Z"
   },
   {
    "duration": 431,
    "start_time": "2023-08-19T11:29:11.362Z"
   },
   {
    "duration": 6,
    "start_time": "2023-08-19T11:29:11.796Z"
   },
   {
    "duration": 352,
    "start_time": "2023-08-19T11:29:11.804Z"
   },
   {
    "duration": 6,
    "start_time": "2023-08-19T11:29:12.158Z"
   },
   {
    "duration": 263,
    "start_time": "2023-08-19T11:29:38.017Z"
   },
   {
    "duration": 11,
    "start_time": "2023-08-19T11:30:01.086Z"
   },
   {
    "duration": 27,
    "start_time": "2023-08-19T11:30:12.133Z"
   },
   {
    "duration": 31,
    "start_time": "2023-08-19T11:30:41.348Z"
   },
   {
    "duration": 10,
    "start_time": "2023-08-19T11:30:48.784Z"
   },
   {
    "duration": 26,
    "start_time": "2023-08-19T11:30:57.611Z"
   },
   {
    "duration": 26,
    "start_time": "2023-08-19T11:31:04.278Z"
   },
   {
    "duration": 368,
    "start_time": "2023-08-19T11:31:04.820Z"
   },
   {
    "duration": 6,
    "start_time": "2023-08-19T11:31:08.340Z"
   },
   {
    "duration": 25,
    "start_time": "2023-08-19T11:31:20.481Z"
   },
   {
    "duration": 361,
    "start_time": "2023-08-19T11:31:20.742Z"
   },
   {
    "duration": 5,
    "start_time": "2023-08-19T11:31:21.105Z"
   },
   {
    "duration": 329,
    "start_time": "2023-08-19T13:25:48.820Z"
   },
   {
    "duration": 350,
    "start_time": "2023-08-19T13:26:12.192Z"
   },
   {
    "duration": 4,
    "start_time": "2023-08-19T14:20:33.268Z"
   },
   {
    "duration": 586,
    "start_time": "2023-08-19T15:36:33.216Z"
   },
   {
    "duration": 478,
    "start_time": "2023-08-19T15:37:12.254Z"
   },
   {
    "duration": 497,
    "start_time": "2023-08-19T15:37:43.935Z"
   },
   {
    "duration": 495,
    "start_time": "2023-08-19T15:50:27.383Z"
   },
   {
    "duration": 513,
    "start_time": "2023-08-19T15:50:39.981Z"
   },
   {
    "duration": 679,
    "start_time": "2023-08-19T15:51:38.336Z"
   },
   {
    "duration": 500,
    "start_time": "2023-08-19T15:52:07.812Z"
   },
   {
    "duration": 10,
    "start_time": "2023-08-19T15:54:23.913Z"
   },
   {
    "duration": 20,
    "start_time": "2023-08-19T15:54:30.853Z"
   },
   {
    "duration": 20,
    "start_time": "2023-08-19T15:54:36.549Z"
   },
   {
    "duration": 19,
    "start_time": "2023-08-19T15:54:43.645Z"
   },
   {
    "duration": 20,
    "start_time": "2023-08-19T15:55:04.317Z"
   },
   {
    "duration": 17,
    "start_time": "2023-08-19T15:55:22.931Z"
   },
   {
    "duration": 19,
    "start_time": "2023-08-19T15:55:29.165Z"
   },
   {
    "duration": 17,
    "start_time": "2023-08-19T15:55:32.715Z"
   },
   {
    "duration": 17,
    "start_time": "2023-08-19T15:55:35.669Z"
   },
   {
    "duration": 18,
    "start_time": "2023-08-19T15:56:25.280Z"
   },
   {
    "duration": 19,
    "start_time": "2023-08-19T15:57:28.701Z"
   },
   {
    "duration": 20,
    "start_time": "2023-08-19T16:01:31.885Z"
   },
   {
    "duration": 18,
    "start_time": "2023-08-19T16:01:40.430Z"
   },
   {
    "duration": 19,
    "start_time": "2023-08-19T16:04:15.415Z"
   },
   {
    "duration": 19,
    "start_time": "2023-08-19T16:04:48.006Z"
   },
   {
    "duration": 1205,
    "start_time": "2023-08-19T16:04:55.246Z"
   },
   {
    "duration": 19,
    "start_time": "2023-08-19T16:05:05.496Z"
   },
   {
    "duration": 18,
    "start_time": "2023-08-19T16:05:38.673Z"
   },
   {
    "duration": 3,
    "start_time": "2023-08-19T16:05:46.484Z"
   },
   {
    "duration": 68,
    "start_time": "2023-08-19T16:05:46.489Z"
   },
   {
    "duration": 18,
    "start_time": "2023-08-19T16:05:46.559Z"
   },
   {
    "duration": 4,
    "start_time": "2023-08-19T16:05:46.579Z"
   },
   {
    "duration": 18,
    "start_time": "2023-08-19T16:05:46.584Z"
   },
   {
    "duration": 9,
    "start_time": "2023-08-19T16:05:46.604Z"
   },
   {
    "duration": 5,
    "start_time": "2023-08-19T16:05:46.615Z"
   },
   {
    "duration": 55,
    "start_time": "2023-08-19T16:05:46.621Z"
   },
   {
    "duration": 5,
    "start_time": "2023-08-19T16:05:46.678Z"
   },
   {
    "duration": 3,
    "start_time": "2023-08-19T16:05:46.686Z"
   },
   {
    "duration": 5,
    "start_time": "2023-08-19T16:05:46.691Z"
   },
   {
    "duration": 5,
    "start_time": "2023-08-19T16:05:46.698Z"
   },
   {
    "duration": 7,
    "start_time": "2023-08-19T16:05:46.704Z"
   },
   {
    "duration": 20,
    "start_time": "2023-08-19T16:05:46.713Z"
   },
   {
    "duration": 22,
    "start_time": "2023-08-19T16:05:46.735Z"
   },
   {
    "duration": 8,
    "start_time": "2023-08-19T16:05:46.760Z"
   },
   {
    "duration": 10,
    "start_time": "2023-08-19T16:05:46.769Z"
   },
   {
    "duration": 6,
    "start_time": "2023-08-19T16:05:46.780Z"
   },
   {
    "duration": 5,
    "start_time": "2023-08-19T16:05:46.788Z"
   },
   {
    "duration": 6,
    "start_time": "2023-08-19T16:05:46.794Z"
   },
   {
    "duration": 15,
    "start_time": "2023-08-19T16:05:46.801Z"
   },
   {
    "duration": 8,
    "start_time": "2023-08-19T16:05:46.818Z"
   },
   {
    "duration": 5,
    "start_time": "2023-08-19T16:05:46.828Z"
   },
   {
    "duration": 22,
    "start_time": "2023-08-19T16:05:46.835Z"
   },
   {
    "duration": 7,
    "start_time": "2023-08-19T16:05:46.859Z"
   },
   {
    "duration": 5,
    "start_time": "2023-08-19T16:05:46.868Z"
   },
   {
    "duration": 5,
    "start_time": "2023-08-19T16:05:46.875Z"
   },
   {
    "duration": 18,
    "start_time": "2023-08-19T16:05:46.883Z"
   },
   {
    "duration": 311,
    "start_time": "2023-08-19T16:05:46.903Z"
   },
   {
    "duration": 350,
    "start_time": "2023-08-19T16:05:47.217Z"
   },
   {
    "duration": 7,
    "start_time": "2023-08-19T16:05:47.569Z"
   },
   {
    "duration": 13,
    "start_time": "2023-08-19T16:05:47.578Z"
   },
   {
    "duration": 1009,
    "start_time": "2023-08-19T16:05:47.593Z"
   },
   {
    "duration": 16,
    "start_time": "2023-08-19T16:05:48.605Z"
   },
   {
    "duration": 22,
    "start_time": "2023-08-19T16:05:48.623Z"
   },
   {
    "duration": 6,
    "start_time": "2023-08-19T16:05:48.657Z"
   },
   {
    "duration": 732,
    "start_time": "2023-08-19T16:05:48.665Z"
   },
   {
    "duration": 417,
    "start_time": "2023-08-19T16:05:49.399Z"
   },
   {
    "duration": 5,
    "start_time": "2023-08-19T16:05:49.818Z"
   },
   {
    "duration": 332,
    "start_time": "2023-08-19T16:05:49.824Z"
   },
   {
    "duration": 8,
    "start_time": "2023-08-19T16:05:50.159Z"
   },
   {
    "duration": 362,
    "start_time": "2023-08-19T16:05:50.171Z"
   },
   {
    "duration": 490,
    "start_time": "2023-08-19T16:05:50.534Z"
   },
   {
    "duration": 20,
    "start_time": "2023-08-19T16:05:51.025Z"
   },
   {
    "duration": 36,
    "start_time": "2023-08-19T16:05:51.046Z"
   },
   {
    "duration": 19,
    "start_time": "2023-08-19T16:06:06.387Z"
   },
   {
    "duration": 30,
    "start_time": "2023-08-19T16:44:50.644Z"
   },
   {
    "duration": 542,
    "start_time": "2023-08-19T17:52:23.696Z"
   },
   {
    "duration": 44,
    "start_time": "2023-08-19T17:52:24.240Z"
   },
   {
    "duration": 35,
    "start_time": "2023-08-19T17:52:24.286Z"
   },
   {
    "duration": 33,
    "start_time": "2023-08-19T17:52:24.408Z"
   },
   {
    "duration": 554,
    "start_time": "2023-08-19T17:52:48.467Z"
   },
   {
    "duration": 48,
    "start_time": "2023-08-19T17:52:49.024Z"
   },
   {
    "duration": 26,
    "start_time": "2023-08-19T17:52:49.075Z"
   },
   {
    "duration": 27,
    "start_time": "2023-08-19T17:52:49.204Z"
   },
   {
    "duration": 860,
    "start_time": "2023-08-19T17:53:10.907Z"
   },
   {
    "duration": 792,
    "start_time": "2023-08-19T17:53:48.828Z"
   },
   {
    "duration": 52,
    "start_time": "2023-08-19T21:37:59.919Z"
   },
   {
    "duration": 7,
    "start_time": "2023-08-19T21:38:09.044Z"
   },
   {
    "duration": 1248,
    "start_time": "2023-08-19T21:38:13.388Z"
   },
   {
    "duration": 119,
    "start_time": "2023-08-19T21:38:14.638Z"
   },
   {
    "duration": 15,
    "start_time": "2023-08-19T21:38:14.759Z"
   },
   {
    "duration": 136,
    "start_time": "2023-08-19T21:38:14.775Z"
   },
   {
    "duration": 73,
    "start_time": "2023-08-19T21:38:14.914Z"
   },
   {
    "duration": 61,
    "start_time": "2023-08-19T21:38:14.989Z"
   },
   {
    "duration": 61,
    "start_time": "2023-08-19T21:38:15.051Z"
   },
   {
    "duration": 126,
    "start_time": "2023-08-19T21:38:15.114Z"
   },
   {
    "duration": 21,
    "start_time": "2023-08-19T21:38:15.242Z"
   },
   {
    "duration": 5,
    "start_time": "2023-08-19T21:38:15.265Z"
   },
   {
    "duration": 12,
    "start_time": "2023-08-19T21:38:15.271Z"
   },
   {
    "duration": 10,
    "start_time": "2023-08-19T21:38:15.285Z"
   },
   {
    "duration": 8,
    "start_time": "2023-08-19T21:38:15.297Z"
   },
   {
    "duration": 5,
    "start_time": "2023-08-19T21:38:15.308Z"
   },
   {
    "duration": 18,
    "start_time": "2023-08-19T21:38:15.315Z"
   },
   {
    "duration": 21,
    "start_time": "2023-08-19T21:38:15.335Z"
   },
   {
    "duration": 12,
    "start_time": "2023-08-19T21:38:15.358Z"
   },
   {
    "duration": 6,
    "start_time": "2023-08-19T21:38:15.372Z"
   },
   {
    "duration": 5,
    "start_time": "2023-08-19T21:38:15.379Z"
   },
   {
    "duration": 8,
    "start_time": "2023-08-19T21:38:15.385Z"
   },
   {
    "duration": 10,
    "start_time": "2023-08-19T21:38:15.394Z"
   },
   {
    "duration": 14,
    "start_time": "2023-08-19T21:38:15.405Z"
   },
   {
    "duration": 30,
    "start_time": "2023-08-19T21:38:15.421Z"
   },
   {
    "duration": 39,
    "start_time": "2023-08-19T21:38:15.453Z"
   },
   {
    "duration": 21,
    "start_time": "2023-08-19T21:38:15.494Z"
   },
   {
    "duration": 7,
    "start_time": "2023-08-19T21:38:15.517Z"
   },
   {
    "duration": 20,
    "start_time": "2023-08-19T21:38:15.526Z"
   },
   {
    "duration": 16,
    "start_time": "2023-08-19T21:38:15.548Z"
   },
   {
    "duration": 403,
    "start_time": "2023-08-19T21:38:15.566Z"
   },
   {
    "duration": 389,
    "start_time": "2023-08-19T21:38:15.970Z"
   },
   {
    "duration": 7,
    "start_time": "2023-08-19T21:38:16.361Z"
   },
   {
    "duration": 26,
    "start_time": "2023-08-19T21:38:16.370Z"
   },
   {
    "duration": 992,
    "start_time": "2023-08-19T21:38:16.398Z"
   },
   {
    "duration": 19,
    "start_time": "2023-08-19T21:38:17.392Z"
   },
   {
    "duration": 38,
    "start_time": "2023-08-19T21:38:17.413Z"
   },
   {
    "duration": 66,
    "start_time": "2023-08-19T21:38:17.453Z"
   },
   {
    "duration": 655,
    "start_time": "2023-08-19T21:38:17.520Z"
   },
   {
    "duration": 374,
    "start_time": "2023-08-19T21:38:18.177Z"
   },
   {
    "duration": 5,
    "start_time": "2023-08-19T21:38:18.553Z"
   },
   {
    "duration": 324,
    "start_time": "2023-08-19T21:38:18.559Z"
   },
   {
    "duration": 5,
    "start_time": "2023-08-19T21:38:18.887Z"
   },
   {
    "duration": 354,
    "start_time": "2023-08-19T21:38:18.894Z"
   },
   {
    "duration": 450,
    "start_time": "2023-08-19T21:38:19.250Z"
   },
   {
    "duration": 25,
    "start_time": "2023-08-19T21:38:19.702Z"
   },
   {
    "duration": 31,
    "start_time": "2023-08-19T21:38:19.728Z"
   },
   {
    "duration": 34,
    "start_time": "2023-08-19T21:38:19.760Z"
   },
   {
    "duration": 614,
    "start_time": "2023-08-19T21:38:19.796Z"
   },
   {
    "duration": 70,
    "start_time": "2023-08-19T21:38:20.412Z"
   },
   {
    "duration": 190,
    "start_time": "2023-08-19T21:38:23.147Z"
   },
   {
    "duration": 4,
    "start_time": "2023-08-19T21:40:07.674Z"
   },
   {
    "duration": 181,
    "start_time": "2023-08-19T21:44:26.599Z"
   },
   {
    "duration": 609,
    "start_time": "2023-08-19T22:10:59.829Z"
   },
   {
    "duration": 27,
    "start_time": "2023-08-19T22:11:00.441Z"
   },
   {
    "duration": 40,
    "start_time": "2023-08-19T22:11:00.470Z"
   },
   {
    "duration": 26,
    "start_time": "2023-08-19T22:11:00.555Z"
   },
   {
    "duration": 606,
    "start_time": "2023-08-19T22:11:01.154Z"
   },
   {
    "duration": 6,
    "start_time": "2023-08-19T22:11:01.936Z"
   },
   {
    "duration": 257,
    "start_time": "2023-08-19T22:11:02.329Z"
   },
   {
    "duration": 18,
    "start_time": "2023-08-19T22:15:43.759Z"
   },
   {
    "duration": 12,
    "start_time": "2023-08-19T22:17:33.944Z"
   },
   {
    "duration": 10,
    "start_time": "2023-08-19T22:19:38.449Z"
   },
   {
    "duration": 3,
    "start_time": "2023-08-19T22:19:48.607Z"
   },
   {
    "duration": 99,
    "start_time": "2023-08-19T22:19:48.612Z"
   },
   {
    "duration": 15,
    "start_time": "2023-08-19T22:19:48.712Z"
   },
   {
    "duration": 13,
    "start_time": "2023-08-19T22:19:48.728Z"
   },
   {
    "duration": 16,
    "start_time": "2023-08-19T22:19:48.744Z"
   },
   {
    "duration": 25,
    "start_time": "2023-08-19T22:19:48.762Z"
   },
   {
    "duration": 12,
    "start_time": "2023-08-19T22:19:48.789Z"
   },
   {
    "duration": 32,
    "start_time": "2023-08-19T22:19:48.803Z"
   },
   {
    "duration": 6,
    "start_time": "2023-08-19T22:19:48.837Z"
   },
   {
    "duration": 6,
    "start_time": "2023-08-19T22:19:48.845Z"
   },
   {
    "duration": 5,
    "start_time": "2023-08-19T22:19:48.853Z"
   },
   {
    "duration": 7,
    "start_time": "2023-08-19T22:19:48.860Z"
   },
   {
    "duration": 4,
    "start_time": "2023-08-19T22:19:48.869Z"
   },
   {
    "duration": 5,
    "start_time": "2023-08-19T22:19:48.877Z"
   },
   {
    "duration": 42,
    "start_time": "2023-08-19T22:19:48.884Z"
   },
   {
    "duration": 5,
    "start_time": "2023-08-19T22:19:48.928Z"
   },
   {
    "duration": 19,
    "start_time": "2023-08-19T22:19:48.934Z"
   },
   {
    "duration": 16,
    "start_time": "2023-08-19T22:19:48.955Z"
   },
   {
    "duration": 8,
    "start_time": "2023-08-19T22:19:48.972Z"
   },
   {
    "duration": 16,
    "start_time": "2023-08-19T22:19:48.982Z"
   },
   {
    "duration": 21,
    "start_time": "2023-08-19T22:19:49.000Z"
   },
   {
    "duration": 12,
    "start_time": "2023-08-19T22:19:49.023Z"
   },
   {
    "duration": 5,
    "start_time": "2023-08-19T22:19:49.038Z"
   },
   {
    "duration": 17,
    "start_time": "2023-08-19T22:19:49.045Z"
   },
   {
    "duration": 14,
    "start_time": "2023-08-19T22:19:49.065Z"
   },
   {
    "duration": 17,
    "start_time": "2023-08-19T22:19:49.082Z"
   },
   {
    "duration": 11,
    "start_time": "2023-08-19T22:19:49.101Z"
   },
   {
    "duration": 20,
    "start_time": "2023-08-19T22:19:49.114Z"
   },
   {
    "duration": 341,
    "start_time": "2023-08-19T22:19:49.136Z"
   },
   {
    "duration": 310,
    "start_time": "2023-08-19T22:19:49.478Z"
   },
   {
    "duration": 9,
    "start_time": "2023-08-19T22:19:49.790Z"
   },
   {
    "duration": 8,
    "start_time": "2023-08-19T22:19:49.801Z"
   },
   {
    "duration": 962,
    "start_time": "2023-08-19T22:19:49.825Z"
   },
   {
    "duration": 21,
    "start_time": "2023-08-19T22:19:50.789Z"
   },
   {
    "duration": 32,
    "start_time": "2023-08-19T22:19:50.823Z"
   },
   {
    "duration": 17,
    "start_time": "2023-08-19T22:19:50.857Z"
   },
   {
    "duration": 808,
    "start_time": "2023-08-19T22:19:50.877Z"
   },
   {
    "duration": 304,
    "start_time": "2023-08-19T22:19:51.686Z"
   },
   {
    "duration": 6,
    "start_time": "2023-08-19T22:19:51.992Z"
   },
   {
    "duration": 330,
    "start_time": "2023-08-19T22:19:52.000Z"
   },
   {
    "duration": 6,
    "start_time": "2023-08-19T22:19:52.335Z"
   },
   {
    "duration": 362,
    "start_time": "2023-08-19T22:19:52.343Z"
   },
   {
    "duration": 551,
    "start_time": "2023-08-19T22:19:52.708Z"
   },
   {
    "duration": 20,
    "start_time": "2023-08-19T22:19:53.260Z"
   },
   {
    "duration": 21,
    "start_time": "2023-08-19T22:19:53.281Z"
   },
   {
    "duration": 38,
    "start_time": "2023-08-19T22:19:53.303Z"
   },
   {
    "duration": 585,
    "start_time": "2023-08-19T22:19:53.343Z"
   },
   {
    "duration": 4,
    "start_time": "2023-08-19T22:19:53.930Z"
   },
   {
    "duration": 322,
    "start_time": "2023-08-19T22:19:53.935Z"
   },
   {
    "duration": 9,
    "start_time": "2023-08-19T22:19:54.259Z"
   },
   {
    "duration": 14,
    "start_time": "2023-08-19T22:21:19.991Z"
   },
   {
    "duration": 19,
    "start_time": "2023-08-19T22:22:15.796Z"
   },
   {
    "duration": 11,
    "start_time": "2023-08-19T22:22:30.247Z"
   },
   {
    "duration": 11,
    "start_time": "2023-08-19T22:22:38.557Z"
   },
   {
    "duration": 13,
    "start_time": "2023-08-19T22:25:37.195Z"
   },
   {
    "duration": 11,
    "start_time": "2023-08-19T22:26:45.199Z"
   },
   {
    "duration": 9,
    "start_time": "2023-08-19T22:28:50.167Z"
   },
   {
    "duration": 10,
    "start_time": "2023-08-19T22:29:06.740Z"
   },
   {
    "duration": 8,
    "start_time": "2023-08-19T22:29:11.700Z"
   },
   {
    "duration": 8,
    "start_time": "2023-08-19T22:29:31.032Z"
   },
   {
    "duration": 12,
    "start_time": "2023-08-19T22:29:34.031Z"
   },
   {
    "duration": 6,
    "start_time": "2023-08-19T22:30:19.357Z"
   },
   {
    "duration": 5,
    "start_time": "2023-08-19T22:32:15.963Z"
   },
   {
    "duration": 1361,
    "start_time": "2023-08-20T11:01:39.437Z"
   },
   {
    "duration": 118,
    "start_time": "2023-08-20T11:01:40.799Z"
   },
   {
    "duration": 15,
    "start_time": "2023-08-20T11:01:40.918Z"
   },
   {
    "duration": 4,
    "start_time": "2023-08-20T11:01:40.934Z"
   },
   {
    "duration": 14,
    "start_time": "2023-08-20T11:01:40.940Z"
   },
   {
    "duration": 14,
    "start_time": "2023-08-20T11:01:40.956Z"
   },
   {
    "duration": 9,
    "start_time": "2023-08-20T11:01:40.972Z"
   },
   {
    "duration": 21,
    "start_time": "2023-08-20T11:01:40.982Z"
   },
   {
    "duration": 4,
    "start_time": "2023-08-20T11:01:41.004Z"
   },
   {
    "duration": 5,
    "start_time": "2023-08-20T11:01:41.010Z"
   },
   {
    "duration": 5,
    "start_time": "2023-08-20T11:01:41.017Z"
   },
   {
    "duration": 27,
    "start_time": "2023-08-20T11:01:41.023Z"
   },
   {
    "duration": 4,
    "start_time": "2023-08-20T11:01:41.052Z"
   },
   {
    "duration": 6,
    "start_time": "2023-08-20T11:01:41.060Z"
   },
   {
    "duration": 7,
    "start_time": "2023-08-20T11:01:41.068Z"
   },
   {
    "duration": 4,
    "start_time": "2023-08-20T11:01:41.077Z"
   },
   {
    "duration": 7,
    "start_time": "2023-08-20T11:01:41.083Z"
   },
   {
    "duration": 7,
    "start_time": "2023-08-20T11:01:41.091Z"
   },
   {
    "duration": 5,
    "start_time": "2023-08-20T11:01:41.099Z"
   },
   {
    "duration": 46,
    "start_time": "2023-08-20T11:01:41.105Z"
   },
   {
    "duration": 5,
    "start_time": "2023-08-20T11:01:41.153Z"
   },
   {
    "duration": 7,
    "start_time": "2023-08-20T11:01:41.160Z"
   },
   {
    "duration": 6,
    "start_time": "2023-08-20T11:01:41.168Z"
   },
   {
    "duration": 6,
    "start_time": "2023-08-20T11:01:41.175Z"
   },
   {
    "duration": 6,
    "start_time": "2023-08-20T11:01:41.182Z"
   },
   {
    "duration": 6,
    "start_time": "2023-08-20T11:01:41.189Z"
   },
   {
    "duration": 5,
    "start_time": "2023-08-20T11:01:41.197Z"
   },
   {
    "duration": 48,
    "start_time": "2023-08-20T11:01:41.203Z"
   },
   {
    "duration": 376,
    "start_time": "2023-08-20T11:01:41.252Z"
   },
   {
    "duration": 298,
    "start_time": "2023-08-20T11:01:41.630Z"
   },
   {
    "duration": 7,
    "start_time": "2023-08-20T11:01:41.929Z"
   },
   {
    "duration": 13,
    "start_time": "2023-08-20T11:01:41.937Z"
   },
   {
    "duration": 1225,
    "start_time": "2023-08-20T11:11:46.680Z"
   },
   {
    "duration": 208,
    "start_time": "2023-08-20T11:11:47.907Z"
   },
   {
    "duration": 16,
    "start_time": "2023-08-20T11:11:48.117Z"
   },
   {
    "duration": 6,
    "start_time": "2023-08-20T11:11:48.134Z"
   },
   {
    "duration": 23,
    "start_time": "2023-08-20T11:11:48.142Z"
   },
   {
    "duration": 16,
    "start_time": "2023-08-20T11:11:48.166Z"
   },
   {
    "duration": 4,
    "start_time": "2023-08-20T11:11:48.184Z"
   },
   {
    "duration": 25,
    "start_time": "2023-08-20T11:11:48.189Z"
   },
   {
    "duration": 4,
    "start_time": "2023-08-20T11:11:48.216Z"
   },
   {
    "duration": 15,
    "start_time": "2023-08-20T11:11:48.221Z"
   },
   {
    "duration": 13,
    "start_time": "2023-08-20T11:11:48.237Z"
   },
   {
    "duration": 14,
    "start_time": "2023-08-20T11:11:48.252Z"
   },
   {
    "duration": 11,
    "start_time": "2023-08-20T11:11:48.267Z"
   },
   {
    "duration": 4,
    "start_time": "2023-08-20T11:11:48.281Z"
   },
   {
    "duration": 14,
    "start_time": "2023-08-20T11:11:48.286Z"
   },
   {
    "duration": 19,
    "start_time": "2023-08-20T11:11:48.302Z"
   },
   {
    "duration": 12,
    "start_time": "2023-08-20T11:11:48.323Z"
   },
   {
    "duration": 29,
    "start_time": "2023-08-20T11:11:48.337Z"
   },
   {
    "duration": 22,
    "start_time": "2023-08-20T11:11:48.368Z"
   },
   {
    "duration": 5,
    "start_time": "2023-08-20T11:11:48.392Z"
   },
   {
    "duration": 11,
    "start_time": "2023-08-20T11:11:48.399Z"
   },
   {
    "duration": 57,
    "start_time": "2023-08-20T11:11:48.412Z"
   },
   {
    "duration": 19,
    "start_time": "2023-08-20T11:11:48.470Z"
   },
   {
    "duration": 7,
    "start_time": "2023-08-20T11:11:48.491Z"
   },
   {
    "duration": 6,
    "start_time": "2023-08-20T11:11:48.500Z"
   },
   {
    "duration": 7,
    "start_time": "2023-08-20T11:11:48.508Z"
   },
   {
    "duration": 6,
    "start_time": "2023-08-20T11:11:48.516Z"
   },
   {
    "duration": 27,
    "start_time": "2023-08-20T11:11:48.523Z"
   },
   {
    "duration": 361,
    "start_time": "2023-08-20T11:11:48.552Z"
   },
   {
    "duration": 346,
    "start_time": "2023-08-20T11:11:48.915Z"
   },
   {
    "duration": 7,
    "start_time": "2023-08-20T11:11:49.266Z"
   },
   {
    "duration": 5,
    "start_time": "2023-08-20T11:11:49.275Z"
   },
   {
    "duration": 1015,
    "start_time": "2023-08-20T11:11:49.282Z"
   },
   {
    "duration": 17,
    "start_time": "2023-08-20T11:11:50.299Z"
   },
   {
    "duration": 22,
    "start_time": "2023-08-20T11:11:50.318Z"
   },
   {
    "duration": 5,
    "start_time": "2023-08-20T11:11:50.342Z"
   },
   {
    "duration": 723,
    "start_time": "2023-08-20T11:11:50.349Z"
   },
   {
    "duration": 424,
    "start_time": "2023-08-20T11:11:51.074Z"
   },
   {
    "duration": 5,
    "start_time": "2023-08-20T11:11:51.501Z"
   },
   {
    "duration": 399,
    "start_time": "2023-08-20T11:11:51.509Z"
   },
   {
    "duration": 6,
    "start_time": "2023-08-20T11:11:51.912Z"
   },
   {
    "duration": 392,
    "start_time": "2023-08-20T11:11:51.920Z"
   },
   {
    "duration": 501,
    "start_time": "2023-08-20T11:11:52.313Z"
   },
   {
    "duration": 19,
    "start_time": "2023-08-20T11:11:52.816Z"
   },
   {
    "duration": 34,
    "start_time": "2023-08-20T11:11:52.838Z"
   },
   {
    "duration": 27,
    "start_time": "2023-08-20T11:11:52.874Z"
   },
   {
    "duration": 645,
    "start_time": "2023-08-20T11:11:52.902Z"
   },
   {
    "duration": 220,
    "start_time": "2023-08-20T11:11:53.549Z"
   },
   {
    "duration": 10,
    "start_time": "2023-08-20T11:11:53.771Z"
   },
   {
    "duration": 16,
    "start_time": "2023-08-20T11:11:53.783Z"
   },
   {
    "duration": 14,
    "start_time": "2023-08-20T11:11:53.800Z"
   },
   {
    "duration": 23,
    "start_time": "2023-08-20T11:11:53.816Z"
   },
   {
    "duration": 46,
    "start_time": "2023-08-20T13:35:06.656Z"
   },
   {
    "duration": 1373,
    "start_time": "2023-08-20T13:35:11.101Z"
   },
   {
    "duration": 147,
    "start_time": "2023-08-20T13:35:12.476Z"
   },
   {
    "duration": 20,
    "start_time": "2023-08-20T13:35:12.625Z"
   },
   {
    "duration": 23,
    "start_time": "2023-08-20T13:35:12.647Z"
   },
   {
    "duration": 27,
    "start_time": "2023-08-20T13:35:12.672Z"
   },
   {
    "duration": 29,
    "start_time": "2023-08-20T13:35:12.701Z"
   },
   {
    "duration": 7,
    "start_time": "2023-08-20T13:35:12.732Z"
   },
   {
    "duration": 37,
    "start_time": "2023-08-20T13:35:12.742Z"
   },
   {
    "duration": 65,
    "start_time": "2023-08-20T13:35:12.781Z"
   },
   {
    "duration": 34,
    "start_time": "2023-08-20T13:35:12.849Z"
   },
   {
    "duration": 20,
    "start_time": "2023-08-20T13:35:12.885Z"
   },
   {
    "duration": 24,
    "start_time": "2023-08-20T13:35:12.907Z"
   },
   {
    "duration": 9,
    "start_time": "2023-08-20T13:35:12.934Z"
   },
   {
    "duration": 138,
    "start_time": "2023-08-20T13:35:12.944Z"
   },
   {
    "duration": 65,
    "start_time": "2023-08-20T13:35:13.084Z"
   },
   {
    "duration": 82,
    "start_time": "2023-08-20T13:35:13.150Z"
   },
   {
    "duration": 56,
    "start_time": "2023-08-20T13:35:13.235Z"
   },
   {
    "duration": 67,
    "start_time": "2023-08-20T13:35:13.292Z"
   },
   {
    "duration": 178,
    "start_time": "2023-08-20T13:35:13.361Z"
   },
   {
    "duration": 81,
    "start_time": "2023-08-20T13:35:13.540Z"
   },
   {
    "duration": 35,
    "start_time": "2023-08-20T13:35:13.623Z"
   },
   {
    "duration": 9,
    "start_time": "2023-08-20T13:35:13.660Z"
   },
   {
    "duration": 7,
    "start_time": "2023-08-20T13:35:13.671Z"
   },
   {
    "duration": 35,
    "start_time": "2023-08-20T13:35:13.680Z"
   },
   {
    "duration": 38,
    "start_time": "2023-08-20T13:35:13.717Z"
   },
   {
    "duration": 96,
    "start_time": "2023-08-20T13:35:13.757Z"
   },
   {
    "duration": 65,
    "start_time": "2023-08-20T13:35:13.855Z"
   },
   {
    "duration": 24,
    "start_time": "2023-08-20T13:35:13.925Z"
   },
   {
    "duration": 50,
    "start_time": "2023-08-20T13:35:13.951Z"
   },
   {
    "duration": 394,
    "start_time": "2023-08-20T13:35:14.003Z"
   },
   {
    "duration": 347,
    "start_time": "2023-08-20T13:35:14.398Z"
   },
   {
    "duration": 8,
    "start_time": "2023-08-20T13:35:14.747Z"
   },
   {
    "duration": 17,
    "start_time": "2023-08-20T13:35:14.756Z"
   },
   {
    "duration": 1060,
    "start_time": "2023-08-20T13:35:14.775Z"
   },
   {
    "duration": 22,
    "start_time": "2023-08-20T13:35:15.837Z"
   },
   {
    "duration": 106,
    "start_time": "2023-08-20T13:35:15.862Z"
   },
   {
    "duration": 17,
    "start_time": "2023-08-20T13:35:15.970Z"
   },
   {
    "duration": 795,
    "start_time": "2023-08-20T13:35:15.989Z"
   },
   {
    "duration": 467,
    "start_time": "2023-08-20T13:35:16.786Z"
   },
   {
    "duration": 5,
    "start_time": "2023-08-20T13:35:17.255Z"
   },
   {
    "duration": 384,
    "start_time": "2023-08-20T13:35:17.262Z"
   },
   {
    "duration": 6,
    "start_time": "2023-08-20T13:35:17.647Z"
   },
   {
    "duration": 393,
    "start_time": "2023-08-20T13:35:17.654Z"
   },
   {
    "duration": 461,
    "start_time": "2023-08-20T13:35:18.049Z"
   },
   {
    "duration": 30,
    "start_time": "2023-08-20T13:35:18.512Z"
   },
   {
    "duration": 25,
    "start_time": "2023-08-20T13:35:18.544Z"
   },
   {
    "duration": 27,
    "start_time": "2023-08-20T13:35:18.571Z"
   },
   {
    "duration": 658,
    "start_time": "2023-08-20T13:35:18.600Z"
   },
   {
    "duration": 211,
    "start_time": "2023-08-20T13:35:19.260Z"
   },
   {
    "duration": 11,
    "start_time": "2023-08-20T13:35:19.472Z"
   },
   {
    "duration": 61,
    "start_time": "2023-08-20T13:35:19.485Z"
   },
   {
    "duration": 144,
    "start_time": "2023-08-20T13:35:19.548Z"
   },
   {
    "duration": 72,
    "start_time": "2023-08-20T13:35:19.694Z"
   },
   {
    "duration": 13,
    "start_time": "2023-08-20T13:40:23.143Z"
   },
   {
    "duration": 12,
    "start_time": "2023-08-20T13:40:32.381Z"
   },
   {
    "duration": 8,
    "start_time": "2023-08-20T13:41:11.686Z"
   },
   {
    "duration": 18,
    "start_time": "2023-08-20T13:42:48.898Z"
   },
   {
    "duration": 13,
    "start_time": "2023-08-20T13:43:44.219Z"
   },
   {
    "duration": 12,
    "start_time": "2023-08-20T13:44:15.961Z"
   },
   {
    "duration": 26,
    "start_time": "2023-08-20T13:45:32.901Z"
   },
   {
    "duration": 27,
    "start_time": "2023-08-20T13:47:16.540Z"
   },
   {
    "duration": 21,
    "start_time": "2023-08-20T13:47:25.180Z"
   },
   {
    "duration": 24,
    "start_time": "2023-08-20T13:47:45.368Z"
   },
   {
    "duration": 42,
    "start_time": "2023-08-20T13:47:53.517Z"
   },
   {
    "duration": 57,
    "start_time": "2023-08-20T13:48:35.286Z"
   },
   {
    "duration": 28,
    "start_time": "2023-08-20T13:48:54.317Z"
   },
   {
    "duration": 20,
    "start_time": "2023-08-20T13:48:58.453Z"
   },
   {
    "duration": 17,
    "start_time": "2023-08-20T13:48:58.941Z"
   },
   {
    "duration": 16,
    "start_time": "2023-08-20T13:49:21.394Z"
   },
   {
    "duration": 23,
    "start_time": "2023-08-20T13:49:33.292Z"
   },
   {
    "duration": 26,
    "start_time": "2023-08-20T13:51:51.855Z"
   },
   {
    "duration": 17,
    "start_time": "2023-08-20T13:52:11.360Z"
   },
   {
    "duration": 17,
    "start_time": "2023-08-20T13:52:14.282Z"
   },
   {
    "duration": 20,
    "start_time": "2023-08-20T13:52:18.641Z"
   },
   {
    "duration": 26,
    "start_time": "2023-08-20T13:52:34.339Z"
   },
   {
    "duration": 19,
    "start_time": "2023-08-20T13:52:57.449Z"
   },
   {
    "duration": 93,
    "start_time": "2023-08-20T13:57:05.942Z"
   },
   {
    "duration": 11,
    "start_time": "2023-08-20T13:57:19.285Z"
   },
   {
    "duration": 1430,
    "start_time": "2023-08-20T14:01:17.363Z"
   },
   {
    "duration": 306,
    "start_time": "2023-08-20T14:01:36.021Z"
   },
   {
    "duration": 20,
    "start_time": "2023-08-20T14:02:28.978Z"
   },
   {
    "duration": 9,
    "start_time": "2023-08-20T14:05:14.492Z"
   },
   {
    "duration": 29,
    "start_time": "2023-08-20T14:05:19.461Z"
   },
   {
    "duration": 14,
    "start_time": "2023-08-20T14:05:28.003Z"
   },
   {
    "duration": 30,
    "start_time": "2023-08-20T14:05:39.806Z"
   },
   {
    "duration": 3,
    "start_time": "2023-08-20T14:10:34.116Z"
   },
   {
    "duration": 68,
    "start_time": "2023-08-20T14:10:34.123Z"
   },
   {
    "duration": 13,
    "start_time": "2023-08-20T14:10:34.193Z"
   },
   {
    "duration": 8,
    "start_time": "2023-08-20T14:10:34.207Z"
   },
   {
    "duration": 49,
    "start_time": "2023-08-20T14:10:34.217Z"
   },
   {
    "duration": 37,
    "start_time": "2023-08-20T14:10:34.267Z"
   },
   {
    "duration": 27,
    "start_time": "2023-08-20T14:10:34.306Z"
   },
   {
    "duration": 23,
    "start_time": "2023-08-20T14:10:34.335Z"
   },
   {
    "duration": 5,
    "start_time": "2023-08-20T14:10:34.359Z"
   },
   {
    "duration": 9,
    "start_time": "2023-08-20T14:10:34.365Z"
   },
   {
    "duration": 12,
    "start_time": "2023-08-20T14:10:34.376Z"
   },
   {
    "duration": 18,
    "start_time": "2023-08-20T14:10:34.389Z"
   },
   {
    "duration": 7,
    "start_time": "2023-08-20T14:10:34.409Z"
   },
   {
    "duration": 9,
    "start_time": "2023-08-20T14:10:34.418Z"
   },
   {
    "duration": 5,
    "start_time": "2023-08-20T14:10:34.429Z"
   },
   {
    "duration": 7,
    "start_time": "2023-08-20T14:10:34.436Z"
   },
   {
    "duration": 7,
    "start_time": "2023-08-20T14:10:34.444Z"
   },
   {
    "duration": 8,
    "start_time": "2023-08-20T14:10:34.453Z"
   },
   {
    "duration": 9,
    "start_time": "2023-08-20T14:10:34.463Z"
   },
   {
    "duration": 6,
    "start_time": "2023-08-20T14:10:34.473Z"
   },
   {
    "duration": 6,
    "start_time": "2023-08-20T14:10:34.480Z"
   },
   {
    "duration": 9,
    "start_time": "2023-08-20T14:10:34.488Z"
   },
   {
    "duration": 26,
    "start_time": "2023-08-20T14:10:34.498Z"
   },
   {
    "duration": 5,
    "start_time": "2023-08-20T14:10:34.526Z"
   },
   {
    "duration": 10,
    "start_time": "2023-08-20T14:10:34.533Z"
   },
   {
    "duration": 22,
    "start_time": "2023-08-20T14:10:34.544Z"
   },
   {
    "duration": 14,
    "start_time": "2023-08-20T14:10:34.568Z"
   },
   {
    "duration": 29,
    "start_time": "2023-08-20T14:10:34.584Z"
   },
   {
    "duration": 19,
    "start_time": "2023-08-20T14:10:34.617Z"
   },
   {
    "duration": 17,
    "start_time": "2023-08-20T14:10:34.637Z"
   },
   {
    "duration": 14,
    "start_time": "2023-08-20T14:10:34.656Z"
   },
   {
    "duration": 29,
    "start_time": "2023-08-20T14:10:34.671Z"
   },
   {
    "duration": 29,
    "start_time": "2023-08-20T14:10:34.701Z"
   },
   {
    "duration": 39,
    "start_time": "2023-08-20T14:10:34.732Z"
   },
   {
    "duration": 23,
    "start_time": "2023-08-20T14:10:34.773Z"
   },
   {
    "duration": 346,
    "start_time": "2023-08-20T14:10:34.798Z"
   },
   {
    "duration": 402,
    "start_time": "2023-08-20T14:10:35.146Z"
   },
   {
    "duration": 7,
    "start_time": "2023-08-20T14:10:35.550Z"
   },
   {
    "duration": 5,
    "start_time": "2023-08-20T14:10:35.558Z"
   },
   {
    "duration": 1563,
    "start_time": "2023-08-20T14:10:35.564Z"
   },
   {
    "duration": 15,
    "start_time": "2023-08-20T14:10:37.129Z"
   },
   {
    "duration": 17,
    "start_time": "2023-08-20T14:10:37.146Z"
   },
   {
    "duration": 59,
    "start_time": "2023-08-20T14:10:37.165Z"
   },
   {
    "duration": 909,
    "start_time": "2023-08-20T14:10:37.226Z"
   },
   {
    "duration": 289,
    "start_time": "2023-08-20T14:10:38.137Z"
   },
   {
    "duration": 5,
    "start_time": "2023-08-20T14:10:38.427Z"
   },
   {
    "duration": 314,
    "start_time": "2023-08-20T14:10:38.434Z"
   },
   {
    "duration": 5,
    "start_time": "2023-08-20T14:10:38.750Z"
   },
   {
    "duration": 442,
    "start_time": "2023-08-20T14:10:38.756Z"
   },
   {
    "duration": 640,
    "start_time": "2023-08-20T14:10:39.200Z"
   },
   {
    "duration": 83,
    "start_time": "2023-08-20T14:10:39.842Z"
   },
   {
    "duration": 19,
    "start_time": "2023-08-20T14:10:39.927Z"
   },
   {
    "duration": 20,
    "start_time": "2023-08-20T14:10:39.948Z"
   },
   {
    "duration": 1266,
    "start_time": "2023-08-20T14:10:39.969Z"
   },
   {
    "duration": 189,
    "start_time": "2023-08-20T14:10:41.237Z"
   },
   {
    "duration": 12,
    "start_time": "2023-08-20T14:10:41.428Z"
   },
   {
    "duration": 9,
    "start_time": "2023-08-20T14:10:41.441Z"
   },
   {
    "duration": 10,
    "start_time": "2023-08-20T14:10:41.451Z"
   },
   {
    "duration": 5,
    "start_time": "2023-08-20T14:10:41.462Z"
   },
   {
    "duration": 19,
    "start_time": "2023-08-20T14:10:54.358Z"
   },
   {
    "duration": 5,
    "start_time": "2023-08-20T14:20:26.603Z"
   },
   {
    "duration": 25,
    "start_time": "2023-08-20T14:20:36.300Z"
   },
   {
    "duration": 5,
    "start_time": "2023-08-20T14:20:43.211Z"
   },
   {
    "duration": 328,
    "start_time": "2023-08-20T14:21:06.832Z"
   },
   {
    "duration": 5,
    "start_time": "2023-08-20T14:21:44.041Z"
   },
   {
    "duration": 348,
    "start_time": "2023-08-20T14:21:46.654Z"
   },
   {
    "duration": 6,
    "start_time": "2023-08-20T14:22:02.868Z"
   },
   {
    "duration": 344,
    "start_time": "2023-08-20T14:22:04.961Z"
   },
   {
    "duration": 7,
    "start_time": "2023-08-20T14:22:38.037Z"
   },
   {
    "duration": 5,
    "start_time": "2023-08-20T14:24:17.146Z"
   },
   {
    "duration": 6,
    "start_time": "2023-08-20T14:24:24.370Z"
   },
   {
    "duration": 327,
    "start_time": "2023-08-20T14:24:27.597Z"
   },
   {
    "duration": 372,
    "start_time": "2023-08-20T14:24:39.044Z"
   },
   {
    "duration": 5,
    "start_time": "2023-08-20T14:25:16.115Z"
   },
   {
    "duration": 6,
    "start_time": "2023-08-20T14:26:05.136Z"
   },
   {
    "duration": 441,
    "start_time": "2023-08-20T14:26:18.279Z"
   },
   {
    "duration": 8,
    "start_time": "2023-08-20T14:26:36.028Z"
   },
   {
    "duration": 315,
    "start_time": "2023-08-20T14:29:04.456Z"
   },
   {
    "duration": 236,
    "start_time": "2023-08-20T14:31:12.224Z"
   },
   {
    "duration": 3,
    "start_time": "2023-08-20T14:31:23.062Z"
   },
   {
    "duration": 82,
    "start_time": "2023-08-20T14:31:23.067Z"
   },
   {
    "duration": 13,
    "start_time": "2023-08-20T14:31:23.151Z"
   },
   {
    "duration": 5,
    "start_time": "2023-08-20T14:31:23.167Z"
   },
   {
    "duration": 16,
    "start_time": "2023-08-20T14:31:23.174Z"
   },
   {
    "duration": 39,
    "start_time": "2023-08-20T14:31:23.192Z"
   },
   {
    "duration": 4,
    "start_time": "2023-08-20T14:31:23.233Z"
   },
   {
    "duration": 21,
    "start_time": "2023-08-20T14:31:23.238Z"
   },
   {
    "duration": 4,
    "start_time": "2023-08-20T14:31:23.261Z"
   },
   {
    "duration": 3,
    "start_time": "2023-08-20T14:31:23.267Z"
   },
   {
    "duration": 3,
    "start_time": "2023-08-20T14:31:23.273Z"
   },
   {
    "duration": 5,
    "start_time": "2023-08-20T14:31:23.278Z"
   },
   {
    "duration": 42,
    "start_time": "2023-08-20T14:31:23.284Z"
   },
   {
    "duration": 7,
    "start_time": "2023-08-20T14:31:23.327Z"
   },
   {
    "duration": 5,
    "start_time": "2023-08-20T14:31:23.335Z"
   },
   {
    "duration": 4,
    "start_time": "2023-08-20T14:31:23.342Z"
   },
   {
    "duration": 7,
    "start_time": "2023-08-20T14:31:23.347Z"
   },
   {
    "duration": 5,
    "start_time": "2023-08-20T14:31:23.356Z"
   },
   {
    "duration": 6,
    "start_time": "2023-08-20T14:31:23.362Z"
   },
   {
    "duration": 13,
    "start_time": "2023-08-20T14:31:23.369Z"
   },
   {
    "duration": 42,
    "start_time": "2023-08-20T14:31:23.384Z"
   },
   {
    "duration": 8,
    "start_time": "2023-08-20T14:31:23.428Z"
   },
   {
    "duration": 6,
    "start_time": "2023-08-20T14:31:23.437Z"
   },
   {
    "duration": 11,
    "start_time": "2023-08-20T14:31:23.445Z"
   },
   {
    "duration": 5,
    "start_time": "2023-08-20T14:31:23.457Z"
   },
   {
    "duration": 6,
    "start_time": "2023-08-20T14:31:23.464Z"
   },
   {
    "duration": 7,
    "start_time": "2023-08-20T14:31:23.471Z"
   },
   {
    "duration": 14,
    "start_time": "2023-08-20T14:31:23.479Z"
   },
   {
    "duration": 15,
    "start_time": "2023-08-20T14:31:23.525Z"
   },
   {
    "duration": 20,
    "start_time": "2023-08-20T14:31:23.542Z"
   },
   {
    "duration": 17,
    "start_time": "2023-08-20T14:31:23.564Z"
   },
   {
    "duration": 43,
    "start_time": "2023-08-20T14:31:23.583Z"
   },
   {
    "duration": 18,
    "start_time": "2023-08-20T14:31:23.629Z"
   },
   {
    "duration": 17,
    "start_time": "2023-08-20T14:31:23.649Z"
   },
   {
    "duration": 21,
    "start_time": "2023-08-20T14:31:23.667Z"
   },
   {
    "duration": 361,
    "start_time": "2023-08-20T14:31:23.689Z"
   },
   {
    "duration": 306,
    "start_time": "2023-08-20T14:31:24.053Z"
   },
   {
    "duration": 7,
    "start_time": "2023-08-20T14:31:24.360Z"
   },
   {
    "duration": 47,
    "start_time": "2023-08-20T14:31:24.368Z"
   },
   {
    "duration": 960,
    "start_time": "2023-08-20T14:31:24.416Z"
   },
   {
    "duration": 24,
    "start_time": "2023-08-20T14:31:25.378Z"
   },
   {
    "duration": 32,
    "start_time": "2023-08-20T14:31:25.404Z"
   },
   {
    "duration": 37,
    "start_time": "2023-08-20T14:31:25.438Z"
   },
   {
    "duration": 798,
    "start_time": "2023-08-20T14:31:25.477Z"
   },
   {
    "duration": 414,
    "start_time": "2023-08-20T14:31:26.277Z"
   },
   {
    "duration": 9,
    "start_time": "2023-08-20T14:31:26.693Z"
   },
   {
    "duration": 368,
    "start_time": "2023-08-20T14:31:26.704Z"
   },
   {
    "duration": 5,
    "start_time": "2023-08-20T14:31:27.074Z"
   },
   {
    "duration": 52,
    "start_time": "2023-08-20T14:31:27.082Z"
   },
   {
    "duration": 351,
    "start_time": "2023-08-20T14:31:27.136Z"
   },
   {
    "duration": 6,
    "start_time": "2023-08-20T14:31:27.489Z"
   },
   {
    "duration": 31,
    "start_time": "2023-08-20T14:31:27.496Z"
   },
   {
    "duration": 406,
    "start_time": "2023-08-20T14:31:27.529Z"
   },
   {
    "duration": 6,
    "start_time": "2023-08-20T14:31:27.937Z"
   },
   {
    "duration": 26,
    "start_time": "2023-08-20T14:31:27.945Z"
   },
   {
    "duration": 352,
    "start_time": "2023-08-20T14:31:27.973Z"
   },
   {
    "duration": 6,
    "start_time": "2023-08-20T14:31:28.327Z"
   },
   {
    "duration": 226,
    "start_time": "2023-08-20T14:31:28.335Z"
   },
   {
    "duration": 0,
    "start_time": "2023-08-20T14:31:28.562Z"
   },
   {
    "duration": 0,
    "start_time": "2023-08-20T14:31:28.564Z"
   },
   {
    "duration": 0,
    "start_time": "2023-08-20T14:31:28.565Z"
   },
   {
    "duration": 0,
    "start_time": "2023-08-20T14:31:28.566Z"
   },
   {
    "duration": 0,
    "start_time": "2023-08-20T14:31:28.567Z"
   },
   {
    "duration": 0,
    "start_time": "2023-08-20T14:31:28.568Z"
   },
   {
    "duration": 0,
    "start_time": "2023-08-20T14:31:28.569Z"
   },
   {
    "duration": 0,
    "start_time": "2023-08-20T14:31:28.570Z"
   },
   {
    "duration": 0,
    "start_time": "2023-08-20T14:31:28.571Z"
   },
   {
    "duration": 0,
    "start_time": "2023-08-20T14:31:28.572Z"
   },
   {
    "duration": 230,
    "start_time": "2023-08-20T14:31:53.411Z"
   },
   {
    "duration": 468,
    "start_time": "2023-08-20T14:32:04.681Z"
   },
   {
    "duration": 205,
    "start_time": "2023-08-20T14:32:38.349Z"
   },
   {
    "duration": 240,
    "start_time": "2023-08-20T14:32:42.620Z"
   },
   {
    "duration": 356,
    "start_time": "2023-08-20T14:32:49.623Z"
   },
   {
    "duration": 367,
    "start_time": "2023-08-20T14:32:53.802Z"
   },
   {
    "duration": 220,
    "start_time": "2023-08-20T14:33:09.028Z"
   },
   {
    "duration": 379,
    "start_time": "2023-08-20T14:33:14.974Z"
   },
   {
    "duration": 236,
    "start_time": "2023-08-20T14:34:02.482Z"
   },
   {
    "duration": 646,
    "start_time": "2023-08-20T14:35:03.592Z"
   },
   {
    "duration": 398,
    "start_time": "2023-08-20T14:36:35.392Z"
   },
   {
    "duration": 92,
    "start_time": "2023-08-20T14:39:25.820Z"
   },
   {
    "duration": 606,
    "start_time": "2023-08-20T15:26:21.408Z"
   },
   {
    "duration": 693,
    "start_time": "2023-08-20T15:26:37.936Z"
   },
   {
    "duration": 625,
    "start_time": "2023-08-20T15:36:28.121Z"
   },
   {
    "duration": 4,
    "start_time": "2023-08-20T15:36:40.750Z"
   },
   {
    "duration": 75,
    "start_time": "2023-08-20T15:36:40.756Z"
   },
   {
    "duration": 15,
    "start_time": "2023-08-20T15:36:40.838Z"
   },
   {
    "duration": 4,
    "start_time": "2023-08-20T15:36:40.855Z"
   },
   {
    "duration": 15,
    "start_time": "2023-08-20T15:36:40.860Z"
   },
   {
    "duration": 39,
    "start_time": "2023-08-20T15:36:40.876Z"
   },
   {
    "duration": 31,
    "start_time": "2023-08-20T15:36:40.917Z"
   },
   {
    "duration": 26,
    "start_time": "2023-08-20T15:36:40.950Z"
   },
   {
    "duration": 4,
    "start_time": "2023-08-20T15:36:40.977Z"
   },
   {
    "duration": 5,
    "start_time": "2023-08-20T15:36:40.983Z"
   },
   {
    "duration": 4,
    "start_time": "2023-08-20T15:36:40.991Z"
   },
   {
    "duration": 5,
    "start_time": "2023-08-20T15:36:40.997Z"
   },
   {
    "duration": 5,
    "start_time": "2023-08-20T15:36:41.004Z"
   },
   {
    "duration": 5,
    "start_time": "2023-08-20T15:36:41.025Z"
   },
   {
    "duration": 11,
    "start_time": "2023-08-20T15:36:41.032Z"
   },
   {
    "duration": 7,
    "start_time": "2023-08-20T15:36:41.044Z"
   },
   {
    "duration": 8,
    "start_time": "2023-08-20T15:36:41.052Z"
   },
   {
    "duration": 16,
    "start_time": "2023-08-20T15:36:41.062Z"
   },
   {
    "duration": 11,
    "start_time": "2023-08-20T15:36:41.080Z"
   },
   {
    "duration": 7,
    "start_time": "2023-08-20T15:36:41.093Z"
   },
   {
    "duration": 5,
    "start_time": "2023-08-20T15:36:41.102Z"
   },
   {
    "duration": 15,
    "start_time": "2023-08-20T15:36:41.109Z"
   },
   {
    "duration": 4,
    "start_time": "2023-08-20T15:36:41.127Z"
   },
   {
    "duration": 19,
    "start_time": "2023-08-20T15:36:41.133Z"
   },
   {
    "duration": 10,
    "start_time": "2023-08-20T15:36:41.154Z"
   },
   {
    "duration": 15,
    "start_time": "2023-08-20T15:36:41.165Z"
   },
   {
    "duration": 34,
    "start_time": "2023-08-20T15:36:41.182Z"
   },
   {
    "duration": 28,
    "start_time": "2023-08-20T15:36:41.218Z"
   },
   {
    "duration": 19,
    "start_time": "2023-08-20T15:36:41.250Z"
   },
   {
    "duration": 18,
    "start_time": "2023-08-20T15:36:41.271Z"
   },
   {
    "duration": 16,
    "start_time": "2023-08-20T15:36:41.290Z"
   },
   {
    "duration": 46,
    "start_time": "2023-08-20T15:36:41.307Z"
   },
   {
    "duration": 14,
    "start_time": "2023-08-20T15:36:41.355Z"
   },
   {
    "duration": 22,
    "start_time": "2023-08-20T15:36:41.371Z"
   },
   {
    "duration": 23,
    "start_time": "2023-08-20T15:36:41.395Z"
   },
   {
    "duration": 380,
    "start_time": "2023-08-20T15:36:41.420Z"
   },
   {
    "duration": 339,
    "start_time": "2023-08-20T15:36:41.802Z"
   },
   {
    "duration": 8,
    "start_time": "2023-08-20T15:36:42.144Z"
   },
   {
    "duration": 4,
    "start_time": "2023-08-20T15:36:42.154Z"
   },
   {
    "duration": 1076,
    "start_time": "2023-08-20T15:36:42.160Z"
   },
   {
    "duration": 20,
    "start_time": "2023-08-20T15:36:43.241Z"
   },
   {
    "duration": 39,
    "start_time": "2023-08-20T15:36:43.263Z"
   },
   {
    "duration": 17,
    "start_time": "2023-08-20T15:36:43.303Z"
   },
   {
    "duration": 675,
    "start_time": "2023-08-20T15:36:43.322Z"
   },
   {
    "duration": 728,
    "start_time": "2023-08-20T15:36:43.999Z"
   },
   {
    "duration": 12,
    "start_time": "2023-08-20T15:36:44.729Z"
   },
   {
    "duration": 375,
    "start_time": "2023-08-20T15:36:44.743Z"
   },
   {
    "duration": 6,
    "start_time": "2023-08-20T15:36:45.125Z"
   },
   {
    "duration": 8,
    "start_time": "2023-08-20T15:36:45.132Z"
   },
   {
    "duration": 357,
    "start_time": "2023-08-20T15:36:45.142Z"
   },
   {
    "duration": 7,
    "start_time": "2023-08-20T15:36:45.501Z"
   },
   {
    "duration": 26,
    "start_time": "2023-08-20T15:36:45.510Z"
   },
   {
    "duration": 386,
    "start_time": "2023-08-20T15:36:45.538Z"
   },
   {
    "duration": 14,
    "start_time": "2023-08-20T15:36:45.930Z"
   },
   {
    "duration": 8,
    "start_time": "2023-08-20T15:36:45.946Z"
   },
   {
    "duration": 357,
    "start_time": "2023-08-20T15:36:45.956Z"
   },
   {
    "duration": 13,
    "start_time": "2023-08-20T15:36:46.315Z"
   },
   {
    "duration": 486,
    "start_time": "2023-08-20T15:36:46.330Z"
   },
   {
    "duration": 477,
    "start_time": "2023-08-20T15:36:46.818Z"
   },
   {
    "duration": 28,
    "start_time": "2023-08-20T15:36:47.297Z"
   },
   {
    "duration": 26,
    "start_time": "2023-08-20T15:36:47.335Z"
   },
   {
    "duration": 17,
    "start_time": "2023-08-20T15:36:47.363Z"
   },
   {
    "duration": 614,
    "start_time": "2023-08-20T15:36:47.382Z"
   },
   {
    "duration": 203,
    "start_time": "2023-08-20T15:36:47.998Z"
   },
   {
    "duration": 11,
    "start_time": "2023-08-20T15:36:48.202Z"
   },
   {
    "duration": 14,
    "start_time": "2023-08-20T15:36:48.226Z"
   },
   {
    "duration": 10,
    "start_time": "2023-08-20T15:36:48.242Z"
   },
   {
    "duration": 10,
    "start_time": "2023-08-20T15:36:48.253Z"
   },
   {
    "duration": 1243,
    "start_time": "2024-04-15T21:06:00.177Z"
   },
   {
    "duration": 132,
    "start_time": "2024-04-15T21:06:01.422Z"
   },
   {
    "duration": 28,
    "start_time": "2024-04-15T21:06:01.555Z"
   },
   {
    "duration": 99,
    "start_time": "2024-04-15T21:06:01.585Z"
   },
   {
    "duration": 300,
    "start_time": "2024-04-15T21:06:01.686Z"
   },
   {
    "duration": 22,
    "start_time": "2024-04-15T21:06:01.987Z"
   },
   {
    "duration": 34,
    "start_time": "2024-04-15T21:06:02.010Z"
   },
   {
    "duration": 42,
    "start_time": "2024-04-15T21:06:02.046Z"
   },
   {
    "duration": 34,
    "start_time": "2024-04-15T21:06:02.090Z"
   },
   {
    "duration": 26,
    "start_time": "2024-04-15T21:06:02.126Z"
   },
   {
    "duration": 30,
    "start_time": "2024-04-15T21:06:02.154Z"
   },
   {
    "duration": 21,
    "start_time": "2024-04-15T21:06:02.185Z"
   },
   {
    "duration": 23,
    "start_time": "2024-04-15T21:06:02.208Z"
   },
   {
    "duration": 26,
    "start_time": "2024-04-15T21:06:02.234Z"
   },
   {
    "duration": 44,
    "start_time": "2024-04-15T21:06:02.261Z"
   },
   {
    "duration": 16,
    "start_time": "2024-04-15T21:06:02.307Z"
   },
   {
    "duration": 26,
    "start_time": "2024-04-15T21:06:02.324Z"
   },
   {
    "duration": 16,
    "start_time": "2024-04-15T21:06:02.351Z"
   },
   {
    "duration": 8,
    "start_time": "2024-04-15T21:06:02.369Z"
   },
   {
    "duration": 11,
    "start_time": "2024-04-15T21:06:02.378Z"
   },
   {
    "duration": 28,
    "start_time": "2024-04-15T21:06:02.391Z"
   },
   {
    "duration": 30,
    "start_time": "2024-04-15T21:06:02.421Z"
   },
   {
    "duration": 10,
    "start_time": "2024-04-15T21:06:02.453Z"
   },
   {
    "duration": 8,
    "start_time": "2024-04-15T21:06:02.464Z"
   },
   {
    "duration": 11,
    "start_time": "2024-04-15T21:06:02.474Z"
   },
   {
    "duration": 17,
    "start_time": "2024-04-15T21:06:02.487Z"
   },
   {
    "duration": 8,
    "start_time": "2024-04-15T21:06:02.506Z"
   },
   {
    "duration": 47,
    "start_time": "2024-04-15T21:06:02.516Z"
   },
   {
    "duration": 23,
    "start_time": "2024-04-15T21:06:02.565Z"
   },
   {
    "duration": 28,
    "start_time": "2024-04-15T21:06:02.590Z"
   },
   {
    "duration": 55,
    "start_time": "2024-04-15T21:06:02.620Z"
   },
   {
    "duration": 32,
    "start_time": "2024-04-15T21:06:02.676Z"
   },
   {
    "duration": 20,
    "start_time": "2024-04-15T21:06:02.710Z"
   },
   {
    "duration": 42,
    "start_time": "2024-04-15T21:06:02.732Z"
   },
   {
    "duration": 43,
    "start_time": "2024-04-15T21:06:02.776Z"
   },
   {
    "duration": 354,
    "start_time": "2024-04-15T21:06:02.820Z"
   },
   {
    "duration": 341,
    "start_time": "2024-04-15T21:06:03.175Z"
   },
   {
    "duration": 6,
    "start_time": "2024-04-15T21:06:03.518Z"
   },
   {
    "duration": 32,
    "start_time": "2024-04-15T21:06:03.525Z"
   },
   {
    "duration": 1102,
    "start_time": "2024-04-15T21:06:03.559Z"
   },
   {
    "duration": 16,
    "start_time": "2024-04-15T21:06:04.664Z"
   },
   {
    "duration": 41,
    "start_time": "2024-04-15T21:06:04.682Z"
   },
   {
    "duration": 22,
    "start_time": "2024-04-15T21:06:04.724Z"
   },
   {
    "duration": 690,
    "start_time": "2024-04-15T21:06:04.747Z"
   },
   {
    "duration": 749,
    "start_time": "2024-04-15T21:06:05.439Z"
   },
   {
    "duration": 5,
    "start_time": "2024-04-15T21:06:06.190Z"
   },
   {
    "duration": 368,
    "start_time": "2024-04-15T21:06:06.197Z"
   },
   {
    "duration": 6,
    "start_time": "2024-04-15T21:06:06.566Z"
   },
   {
    "duration": 15,
    "start_time": "2024-04-15T21:06:06.574Z"
   },
   {
    "duration": 347,
    "start_time": "2024-04-15T21:06:06.591Z"
   },
   {
    "duration": 4,
    "start_time": "2024-04-15T21:06:06.940Z"
   },
   {
    "duration": 16,
    "start_time": "2024-04-15T21:06:06.946Z"
   },
   {
    "duration": 391,
    "start_time": "2024-04-15T21:06:06.964Z"
   },
   {
    "duration": 6,
    "start_time": "2024-04-15T21:06:07.361Z"
   },
   {
    "duration": 27,
    "start_time": "2024-04-15T21:06:07.368Z"
   },
   {
    "duration": 331,
    "start_time": "2024-04-15T21:06:07.396Z"
   },
   {
    "duration": 6,
    "start_time": "2024-04-15T21:06:07.728Z"
   },
   {
    "duration": 465,
    "start_time": "2024-04-15T21:06:07.735Z"
   },
   {
    "duration": 468,
    "start_time": "2024-04-15T21:06:08.201Z"
   },
   {
    "duration": 19,
    "start_time": "2024-04-15T21:06:08.671Z"
   },
   {
    "duration": 18,
    "start_time": "2024-04-15T21:06:08.692Z"
   },
   {
    "duration": 19,
    "start_time": "2024-04-15T21:06:08.712Z"
   },
   {
    "duration": 649,
    "start_time": "2024-04-15T21:06:08.732Z"
   },
   {
    "duration": 189,
    "start_time": "2024-04-15T21:06:09.383Z"
   },
   {
    "duration": 10,
    "start_time": "2024-04-15T21:06:09.574Z"
   },
   {
    "duration": 9,
    "start_time": "2024-04-15T21:06:09.586Z"
   },
   {
    "duration": 8,
    "start_time": "2024-04-15T21:06:09.597Z"
   },
   {
    "duration": 9,
    "start_time": "2024-04-15T21:06:09.607Z"
   },
   {
    "duration": 12,
    "start_time": "2024-04-15T21:08:18.550Z"
   },
   {
    "duration": 15,
    "start_time": "2024-04-15T21:08:19.541Z"
   },
   {
    "duration": 3,
    "start_time": "2024-04-15T21:08:23.317Z"
   },
   {
    "duration": 85,
    "start_time": "2024-04-15T21:08:23.322Z"
   },
   {
    "duration": 15,
    "start_time": "2024-04-15T21:08:23.409Z"
   },
   {
    "duration": 36,
    "start_time": "2024-04-15T21:08:23.426Z"
   },
   {
    "duration": 25,
    "start_time": "2024-04-15T21:08:23.464Z"
   },
   {
    "duration": 10,
    "start_time": "2024-04-15T21:08:23.490Z"
   },
   {
    "duration": 4,
    "start_time": "2024-04-15T21:08:23.502Z"
   },
   {
    "duration": 24,
    "start_time": "2024-04-15T21:08:23.507Z"
   },
   {
    "duration": 4,
    "start_time": "2024-04-15T21:08:23.533Z"
   },
   {
    "duration": 23,
    "start_time": "2024-04-15T21:08:23.538Z"
   },
   {
    "duration": 8,
    "start_time": "2024-04-15T21:08:23.563Z"
   },
   {
    "duration": 16,
    "start_time": "2024-04-15T21:08:23.573Z"
   },
   {
    "duration": 4,
    "start_time": "2024-04-15T21:08:23.592Z"
   },
   {
    "duration": 5,
    "start_time": "2024-04-15T21:08:23.597Z"
   },
   {
    "duration": 3,
    "start_time": "2024-04-15T21:08:23.604Z"
   },
   {
    "duration": 15,
    "start_time": "2024-04-15T21:08:23.609Z"
   },
   {
    "duration": 6,
    "start_time": "2024-04-15T21:08:23.626Z"
   },
   {
    "duration": 9,
    "start_time": "2024-04-15T21:08:23.634Z"
   },
   {
    "duration": 17,
    "start_time": "2024-04-15T21:08:23.645Z"
   },
   {
    "duration": 5,
    "start_time": "2024-04-15T21:08:23.663Z"
   },
   {
    "duration": 5,
    "start_time": "2024-04-15T21:08:23.670Z"
   },
   {
    "duration": 8,
    "start_time": "2024-04-15T21:08:23.676Z"
   },
   {
    "duration": 9,
    "start_time": "2024-04-15T21:08:23.685Z"
   },
   {
    "duration": 7,
    "start_time": "2024-04-15T21:08:23.696Z"
   },
   {
    "duration": 6,
    "start_time": "2024-04-15T21:08:23.704Z"
   },
   {
    "duration": 6,
    "start_time": "2024-04-15T21:08:23.712Z"
   },
   {
    "duration": 41,
    "start_time": "2024-04-15T21:08:23.720Z"
   },
   {
    "duration": 16,
    "start_time": "2024-04-15T21:08:23.763Z"
   },
   {
    "duration": 20,
    "start_time": "2024-04-15T21:08:23.780Z"
   },
   {
    "duration": 20,
    "start_time": "2024-04-15T21:08:23.802Z"
   },
   {
    "duration": 42,
    "start_time": "2024-04-15T21:08:23.823Z"
   },
   {
    "duration": 17,
    "start_time": "2024-04-15T21:08:23.867Z"
   },
   {
    "duration": 16,
    "start_time": "2024-04-15T21:08:23.885Z"
   },
   {
    "duration": 15,
    "start_time": "2024-04-15T21:08:23.903Z"
   },
   {
    "duration": 50,
    "start_time": "2024-04-15T21:08:23.919Z"
   },
   {
    "duration": 328,
    "start_time": "2024-04-15T21:08:23.971Z"
   },
   {
    "duration": 349,
    "start_time": "2024-04-15T21:08:24.303Z"
   },
   {
    "duration": 7,
    "start_time": "2024-04-15T21:08:24.653Z"
   },
   {
    "duration": 8,
    "start_time": "2024-04-15T21:08:24.662Z"
   },
   {
    "duration": 1025,
    "start_time": "2024-04-15T21:08:24.671Z"
   },
   {
    "duration": 16,
    "start_time": "2024-04-15T21:08:25.698Z"
   },
   {
    "duration": 19,
    "start_time": "2024-04-15T21:08:25.715Z"
   },
   {
    "duration": 26,
    "start_time": "2024-04-15T21:08:25.735Z"
   },
   {
    "duration": 683,
    "start_time": "2024-04-15T21:08:25.763Z"
   },
   {
    "duration": 599,
    "start_time": "2024-04-15T21:08:26.448Z"
   },
   {
    "duration": 15,
    "start_time": "2024-04-15T21:08:27.050Z"
   },
   {
    "duration": 358,
    "start_time": "2024-04-15T21:08:27.067Z"
   },
   {
    "duration": 6,
    "start_time": "2024-04-15T21:08:27.427Z"
   },
   {
    "duration": 24,
    "start_time": "2024-04-15T21:08:27.435Z"
   },
   {
    "duration": 368,
    "start_time": "2024-04-15T21:08:27.461Z"
   },
   {
    "duration": 5,
    "start_time": "2024-04-15T21:08:27.831Z"
   },
   {
    "duration": 12,
    "start_time": "2024-04-15T21:08:27.838Z"
   },
   {
    "duration": 369,
    "start_time": "2024-04-15T21:08:27.852Z"
   },
   {
    "duration": 5,
    "start_time": "2024-04-15T21:08:28.222Z"
   },
   {
    "duration": 13,
    "start_time": "2024-04-15T21:08:28.228Z"
   },
   {
    "duration": 421,
    "start_time": "2024-04-15T21:08:28.242Z"
   },
   {
    "duration": 6,
    "start_time": "2024-04-15T21:08:28.665Z"
   },
   {
    "duration": 395,
    "start_time": "2024-04-15T21:08:28.672Z"
   },
   {
    "duration": 491,
    "start_time": "2024-04-15T21:08:29.069Z"
   },
   {
    "duration": 16,
    "start_time": "2024-04-15T21:08:29.562Z"
   },
   {
    "duration": 17,
    "start_time": "2024-04-15T21:08:29.580Z"
   },
   {
    "duration": 17,
    "start_time": "2024-04-15T21:08:29.598Z"
   },
   {
    "duration": 614,
    "start_time": "2024-04-15T21:08:29.616Z"
   },
   {
    "duration": 218,
    "start_time": "2024-04-15T21:08:30.231Z"
   },
   {
    "duration": 18,
    "start_time": "2024-04-15T21:08:30.451Z"
   },
   {
    "duration": 55,
    "start_time": "2024-04-15T21:08:30.470Z"
   },
   {
    "duration": 44,
    "start_time": "2024-04-15T21:08:30.527Z"
   },
   {
    "duration": 90,
    "start_time": "2024-04-15T21:08:30.573Z"
   },
   {
    "duration": 3,
    "start_time": "2024-04-15T21:11:47.446Z"
   },
   {
    "duration": 78,
    "start_time": "2024-04-15T21:11:47.451Z"
   },
   {
    "duration": 15,
    "start_time": "2024-04-15T21:11:47.531Z"
   },
   {
    "duration": 4,
    "start_time": "2024-04-15T21:11:47.547Z"
   },
   {
    "duration": 13,
    "start_time": "2024-04-15T21:11:47.562Z"
   },
   {
    "duration": 15,
    "start_time": "2024-04-15T21:11:47.576Z"
   },
   {
    "duration": 7,
    "start_time": "2024-04-15T21:11:47.592Z"
   },
   {
    "duration": 27,
    "start_time": "2024-04-15T21:11:47.601Z"
   },
   {
    "duration": 3,
    "start_time": "2024-04-15T21:11:47.630Z"
   },
   {
    "duration": 6,
    "start_time": "2024-04-15T21:11:47.635Z"
   },
   {
    "duration": 4,
    "start_time": "2024-04-15T21:11:47.660Z"
   },
   {
    "duration": 13,
    "start_time": "2024-04-15T21:11:47.666Z"
   },
   {
    "duration": 4,
    "start_time": "2024-04-15T21:11:47.681Z"
   },
   {
    "duration": 5,
    "start_time": "2024-04-15T21:11:47.686Z"
   },
   {
    "duration": 5,
    "start_time": "2024-04-15T21:11:47.693Z"
   },
   {
    "duration": 4,
    "start_time": "2024-04-15T21:11:47.699Z"
   },
   {
    "duration": 12,
    "start_time": "2024-04-15T21:11:47.704Z"
   },
   {
    "duration": 5,
    "start_time": "2024-04-15T21:11:47.717Z"
   },
   {
    "duration": 6,
    "start_time": "2024-04-15T21:11:47.723Z"
   },
   {
    "duration": 31,
    "start_time": "2024-04-15T21:11:47.730Z"
   },
   {
    "duration": 7,
    "start_time": "2024-04-15T21:11:47.762Z"
   },
   {
    "duration": 19,
    "start_time": "2024-04-15T21:11:47.771Z"
   },
   {
    "duration": 6,
    "start_time": "2024-04-15T21:11:47.792Z"
   },
   {
    "duration": 15,
    "start_time": "2024-04-15T21:11:47.800Z"
   },
   {
    "duration": 12,
    "start_time": "2024-04-15T21:11:47.816Z"
   },
   {
    "duration": 11,
    "start_time": "2024-04-15T21:11:47.830Z"
   },
   {
    "duration": 6,
    "start_time": "2024-04-15T21:11:47.843Z"
   },
   {
    "duration": 20,
    "start_time": "2024-04-15T21:11:47.850Z"
   },
   {
    "duration": 15,
    "start_time": "2024-04-15T21:11:47.875Z"
   },
   {
    "duration": 20,
    "start_time": "2024-04-15T21:11:47.892Z"
   },
   {
    "duration": 18,
    "start_time": "2024-04-15T21:11:47.913Z"
   },
   {
    "duration": 43,
    "start_time": "2024-04-15T21:11:47.933Z"
   },
   {
    "duration": 20,
    "start_time": "2024-04-15T21:11:47.978Z"
   },
   {
    "duration": 21,
    "start_time": "2024-04-15T21:11:48.000Z"
   },
   {
    "duration": 39,
    "start_time": "2024-04-15T21:11:48.023Z"
   },
   {
    "duration": 351,
    "start_time": "2024-04-15T21:11:48.064Z"
   },
   {
    "duration": 319,
    "start_time": "2024-04-15T21:11:48.417Z"
   },
   {
    "duration": 7,
    "start_time": "2024-04-15T21:11:48.738Z"
   },
   {
    "duration": 15,
    "start_time": "2024-04-15T21:11:48.747Z"
   },
   {
    "duration": 1090,
    "start_time": "2024-04-15T21:11:48.764Z"
   },
   {
    "duration": 22,
    "start_time": "2024-04-15T21:11:49.861Z"
   },
   {
    "duration": 18,
    "start_time": "2024-04-15T21:11:49.886Z"
   },
   {
    "duration": 6,
    "start_time": "2024-04-15T21:11:49.906Z"
   },
   {
    "duration": 696,
    "start_time": "2024-04-15T21:11:49.913Z"
   },
   {
    "duration": 581,
    "start_time": "2024-04-15T21:11:50.611Z"
   },
   {
    "duration": 5,
    "start_time": "2024-04-15T21:11:51.193Z"
   },
   {
    "duration": 369,
    "start_time": "2024-04-15T21:11:51.200Z"
   },
   {
    "duration": 5,
    "start_time": "2024-04-15T21:11:51.571Z"
   },
   {
    "duration": 9,
    "start_time": "2024-04-15T21:11:51.577Z"
   },
   {
    "duration": 346,
    "start_time": "2024-04-15T21:11:51.587Z"
   },
   {
    "duration": 5,
    "start_time": "2024-04-15T21:11:51.935Z"
   },
   {
    "duration": 26,
    "start_time": "2024-04-15T21:11:51.942Z"
   },
   {
    "duration": 448,
    "start_time": "2024-04-15T21:11:51.970Z"
   },
   {
    "duration": 5,
    "start_time": "2024-04-15T21:11:52.419Z"
   },
   {
    "duration": 40,
    "start_time": "2024-04-15T21:11:52.425Z"
   },
   {
    "duration": 333,
    "start_time": "2024-04-15T21:11:52.467Z"
   },
   {
    "duration": 5,
    "start_time": "2024-04-15T21:11:52.801Z"
   },
   {
    "duration": 402,
    "start_time": "2024-04-15T21:11:52.808Z"
   },
   {
    "duration": 456,
    "start_time": "2024-04-15T21:11:53.212Z"
   },
   {
    "duration": 17,
    "start_time": "2024-04-15T21:11:53.670Z"
   },
   {
    "duration": 36,
    "start_time": "2024-04-15T21:11:53.689Z"
   },
   {
    "duration": 42,
    "start_time": "2024-04-15T21:11:53.727Z"
   },
   {
    "duration": 617,
    "start_time": "2024-04-15T21:11:53.771Z"
   },
   {
    "duration": 235,
    "start_time": "2024-04-15T21:11:54.390Z"
   },
   {
    "duration": 11,
    "start_time": "2024-04-15T21:11:54.628Z"
   },
   {
    "duration": 35,
    "start_time": "2024-04-15T21:11:54.641Z"
   },
   {
    "duration": 24,
    "start_time": "2024-04-15T21:11:54.678Z"
   },
   {
    "duration": 24,
    "start_time": "2024-04-15T21:11:54.704Z"
   }
  ],
  "kernelspec": {
   "display_name": "Python 3 (ipykernel)",
   "language": "python",
   "name": "python3"
  },
  "language_info": {
   "codemirror_mode": {
    "name": "ipython",
    "version": 3
   },
   "file_extension": ".py",
   "mimetype": "text/x-python",
   "name": "python",
   "nbconvert_exporter": "python",
   "pygments_lexer": "ipython3",
   "version": "3.9.5"
  },
  "toc": {
   "base_numbering": 1,
   "nav_menu": {},
   "number_sections": true,
   "sideBar": true,
   "skip_h1_title": true,
   "title_cell": "Table of Contents",
   "title_sidebar": "Contents",
   "toc_cell": false,
   "toc_position": {},
   "toc_section_display": true,
   "toc_window_display": true
  }
 },
 "nbformat": 4,
 "nbformat_minor": 2
}

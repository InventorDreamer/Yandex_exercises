{
 "cells": [
  {
   "cell_type": "markdown",
   "metadata": {
    "id": "oEKYc7MMb7gS"
   },
   "source": [
    "# Определение стоимости автомобилей"
   ]
  },
  {
   "cell_type": "markdown",
   "metadata": {
    "id": "tNPeFXNXb7gS"
   },
   "source": [
    "# Описание проекта\n",
    "Сервис по продаже автомобилей с пробегом «Не бит, не крашен» разрабатывает приложение для привлечения новых клиентов. В нём можно быстро узнать рыночную стоимость своего автомобиля. В вашем распоряжении исторические данные: технические характеристики, комплектации и цены автомобилей. Вам нужно построить модель для определения стоимости.\n",
    "\n",
    "Заказчику важны:\n",
    "\n",
    "- качество предсказания;\n",
    "- скорость предсказания;\n",
    "- время обучения."
   ]
  },
  {
   "cell_type": "markdown",
   "metadata": {},
   "source": [
    "# Описание данных \n",
    "\n",
    "\n",
    "Признаки:\n",
    "* DateCrawled — дата скачивания анкеты из базы\n",
    "* VehicleType — тип автомобильного кузова\n",
    "* RegistrationYear — год регистрации автомобиля\n",
    "* Gearbox — тип коробки передач\n",
    "* Power — мощность (л. с.)\n",
    "* Model — модель автомобиля\n",
    "* Kilometer — пробег (км)\n",
    "* RegistrationMonth — месяц регистрации автомобиля\n",
    "* FuelType — тип топлива\n",
    "* Brand — марка автомобиля\n",
    "* Repaired — была машина в ремонте или нет\n",
    "* DateCreated — дата создания анкеты\n",
    "* NumberOfPictures — количество фотографий автомобиля\n",
    "* PostalCode — почтовый индекс владельца анкеты (пользователя)\n",
    "* LastSeen — дата последней активности пользователя\n",
    "\n",
    "Целевой признак:\n",
    "* Price — цена (евро)"
   ]
  },
  {
   "cell_type": "markdown",
   "metadata": {
    "id": "kftoRnqMb7gS"
   },
   "source": [
    "# Установка библиотек"
   ]
  },
  {
   "cell_type": "code",
   "execution_count": 3,
   "metadata": {
    "id": "LeHVi-0jb7gT"
   },
   "outputs": [],
   "source": [
    "!pip install phik -q"
   ]
  },
  {
   "cell_type": "markdown",
   "metadata": {
    "id": "APTIJktEb7gT"
   },
   "source": [
    "# Импорт библиотек и создание констант"
   ]
  },
  {
   "cell_type": "code",
   "execution_count": 4,
   "metadata": {
    "id": "mptyscbmb7gU"
   },
   "outputs": [],
   "source": [
    "import numpy as np\n",
    "import phik\n",
    "import pandas as pd\n",
    "import seaborn as sns\n",
    "import warnings\n",
    "\n",
    "import matplotlib.pyplot as plt\n",
    "\n",
    "from sklearn.model_selection import train_test_split\n",
    "from scipy.stats import shapiro\n",
    "from sklearn.linear_model import LinearRegression\n",
    "from sklearn.metrics import mean_squared_error\n",
    "from scipy import stats\n",
    "from sklearn.impute import SimpleImputer\n",
    "from sklearn.preprocessing import StandardScaler, OrdinalEncoder, OneHotEncoder\n",
    "from sklearn.pipeline import Pipeline\n",
    "from sklearn.compose import ColumnTransformer\n",
    "from sklearn.ensemble import RandomForestRegressor\n",
    "from time import time\n",
    "from sklearn.model_selection import RandomizedSearchCV\n",
    "from lightgbm import LGBMRegressor\n",
    "from catboost import CatBoostRegressor\n",
    "\n",
    "\n",
    "RANDOM_STATE = 42\n",
    "TEST_SIZE = 0.25\n",
    "\n",
    "warnings.filterwarnings('ignore')"
   ]
  },
  {
   "cell_type": "markdown",
   "metadata": {
    "id": "SGcXcHZqb7gU"
   },
   "source": [
    "# Методы для работы"
   ]
  },
  {
   "cell_type": "markdown",
   "metadata": {
    "id": "M54xuPKtb7gU"
   },
   "source": [
    "**Метод для построения диаграмм**"
   ]
  },
  {
   "cell_type": "code",
   "execution_count": 5,
   "metadata": {
    "id": "z9gLUT9Cb7gU"
   },
   "outputs": [],
   "source": [
    "def create(data, column, type, bins = 100, color = 'blue', alpha = 0.5, edge_color='black', edge_width=1.2, rotation = 45):\n",
    "    category_counts = data[column].value_counts()\n",
    "    if type == \"hist\":\n",
    "        \"\"\"\n",
    "        Создает гистограмму для заданного столбца DataFrame.\n",
    "        \"\"\"\n",
    "        plt.figure(figsize=(12, 6))\n",
    "        plt.hist(data=data, x=column, bins=bins, color=color, alpha=alpha, edgecolor=edge_color, linewidth=edge_width)\n",
    "        plt.xlabel(column)\n",
    "        plt.ylabel(\"Частота\")\n",
    "        plt.title(f'Призак {column} - Частота распределения', fontsize=18)\n",
    "        plt.grid(True)\n",
    "        plt.show()\n",
    "    elif type == \"barplot\":\n",
    "        \"\"\"\n",
    "        Создает столбчатую диаграмму для заданного столбца DataFrame.\n",
    "        \"\"\"\n",
    "        plt.figure(figsize=(10, 6))\n",
    "        plt.xticks(rotation=rotation)\n",
    "        new_data = data[column].value_counts()\n",
    "        df_new_data = new_data.reset_index()\n",
    "        df_new_data.columns = [column, 'count']\n",
    "\n",
    "        sns.barplot(x=column, y='count', data = df_new_data)\n",
    "        plt.title(f'{column}.Частота распределения')\n",
    "        plt.xlabel(f'{column}')\n",
    "        plt.ylabel(f'количество {column}')\n",
    "    elif type == \"pie\":\n",
    "        \"\"\"\n",
    "        Создает круговую диаграмму для заданного столбца DataFrame.\n",
    "        \"\"\"\n",
    "        plt.figure(figsize=(8, 8))\n",
    "        plt.pie(category_counts, labels=category_counts.index, autopct='%1.1f%%', startangle=140)\n",
    "        plt.title(f'Круговая диаграмма для {column}', fontsize=18)\n",
    "        plt.show()\n",
    "    elif type == \"boxplot\":\n",
    "        \"\"\"\n",
    "        Создает ящик с усами для заданного столбца DataFrame.\n",
    "        \"\"\"\n",
    "        plt.figure(figsize=(10, 6))\n",
    "        plt.boxplot(data[column], notch=True, patch_artist=True, boxprops=dict(facecolor=color, color=edge_color),\n",
    "                    whiskerprops=dict(color=edge_color), capprops=dict(color=edge_color),\n",
    "                    medianprops=dict(color=edge_color), flierprops=dict(markeredgecolor=edge_color, markerfacecolor=color))\n",
    "        plt.ylabel(\"Значения\")\n",
    "        plt.xlabel(column)\n",
    "        plt.title(f'Ящик с усами для признака {column}', fontsize=18)\n",
    "        plt.grid(True)\n",
    "        plt.show()"
   ]
  },
  {
   "cell_type": "markdown",
   "metadata": {
    "id": "W0VPo1SQb7gV"
   },
   "source": [
    "**Метод для построения phik матрицы**"
   ]
  },
  {
   "cell_type": "code",
   "execution_count": 6,
   "metadata": {
    "id": "RR68rJccb7gV"
   },
   "outputs": [],
   "source": [
    "def create_phik(data, cols):\n",
    "    corr_matrix = data.phik_matrix(interval_cols = cols)\n",
    "    plt.figure(figsize=(12, 12))\n",
    "    sns.heatmap(corr_matrix, annot=True, cmap='Greens')\n",
    "    plt.title('Phik')\n",
    "    plt.show()"
   ]
  },
  {
   "cell_type": "markdown",
   "metadata": {
    "id": "_QoqoF-4b7gV"
   },
   "source": [
    "**Метод для разделения признаков**"
   ]
  },
  {
   "cell_type": "code",
   "execution_count": 7,
   "metadata": {
    "id": "nCEFmUx1b7gV"
   },
   "outputs": [],
   "source": [
    "def cat_num_col(df):\n",
    "    num_col_names = list(df.select_dtypes(include=['int64', 'float64']).columns)\n",
    "    cat_col_names = list(df.select_dtypes(include=['object']).columns)\n",
    "    return num_col_names, cat_col_names"
   ]
  },
  {
   "cell_type": "markdown",
   "metadata": {
    "id": "K_CSZIFfb7gW"
   },
   "source": [
    "**Метод для обучения моделей**"
   ]
  },
  {
   "cell_type": "code",
   "execution_count": 8,
   "metadata": {
    "id": "wXMckqncb7gW"
   },
   "outputs": [],
   "source": [
    "def optimize_model_with_grid_search(pipeline, parameter_grid, features, targets):\n",
    "    search_start_time = time()\n",
    "\n",
    "    grid_search = RandomizedSearchCV(\n",
    "        estimator=pipeline,\n",
    "        param_distributions=parameter_grid,\n",
    "        n_jobs=-1,\n",
    "        cv=5,\n",
    "        scoring='neg_mean_squared_error'\n",
    "    )\n",
    "    grid_search.fit(features, targets)\n",
    "\n",
    "    search_end_time = time()\n",
    "\n",
    "    best_parameters = grid_search.best_params_\n",
    "    best_estimator = grid_search.best_estimator_\n",
    "\n",
    "    best_rmse = np.sqrt(-grid_search.best_score_)\n",
    "\n",
    "    retrain_start_time = time()\n",
    "    best_estimator.fit(features, targets)\n",
    "    retrain_end_time = time()\n",
    "\n",
    "    prediction_start_time = time()\n",
    "    best_estimator.predict(features)\n",
    "    prediction_end_time = time()\n",
    "\n",
    "    execution_duration = search_end_time - search_start_time\n",
    "    retrain_duration = retrain_end_time - retrain_start_time\n",
    "    prediction_duration = prediction_end_time - prediction_start_time\n",
    "\n",
    "    return best_parameters, execution_duration, best_rmse, best_estimator, prediction_duration, retrain_duration"
   ]
  },
  {
   "cell_type": "markdown",
   "metadata": {
    "id": "hB08EffTb7gX"
   },
   "source": [
    "## Подготовка данных"
   ]
  },
  {
   "cell_type": "markdown",
   "metadata": {
    "id": "UFhQQcJsb7gX"
   },
   "source": [
    "### Загрузка данных"
   ]
  },
  {
   "cell_type": "code",
   "execution_count": 9,
   "metadata": {
    "id": "27VSdhQTb7gX"
   },
   "outputs": [],
   "source": [
    "try:\n",
    "    df_auto = pd.read_csv('https://code.s3.yandex.net/datasets/autos.csv')\n",
    "except FileNotFoundError:\n",
    "    print('Файл не найден')"
   ]
  },
  {
   "cell_type": "markdown",
   "metadata": {
    "id": "kW_7DxOzb7gX"
   },
   "source": [
    "### Информация о датасете"
   ]
  },
  {
   "cell_type": "code",
   "execution_count": 10,
   "metadata": {
    "colab": {
     "base_uri": "https://localhost:8080/",
     "height": 446
    },
    "id": "wo7Tlmrjb7gX",
    "outputId": "90ceae7d-ed28-424d-a77f-62db6b44fd89"
   },
   "outputs": [
    {
     "name": "stdout",
     "output_type": "stream",
     "text": [
      "<class 'pandas.core.frame.DataFrame'>\n",
      "RangeIndex: 354369 entries, 0 to 354368\n",
      "Data columns (total 16 columns):\n",
      " #   Column             Non-Null Count   Dtype \n",
      "---  ------             --------------   ----- \n",
      " 0   DateCrawled        354369 non-null  object\n",
      " 1   Price              354369 non-null  int64 \n",
      " 2   VehicleType        316879 non-null  object\n",
      " 3   RegistrationYear   354369 non-null  int64 \n",
      " 4   Gearbox            334536 non-null  object\n",
      " 5   Power              354369 non-null  int64 \n",
      " 6   Model              334664 non-null  object\n",
      " 7   Kilometer          354369 non-null  int64 \n",
      " 8   RegistrationMonth  354369 non-null  int64 \n",
      " 9   FuelType           321474 non-null  object\n",
      " 10  Brand              354369 non-null  object\n",
      " 11  Repaired           283215 non-null  object\n",
      " 12  DateCreated        354369 non-null  object\n",
      " 13  NumberOfPictures   354369 non-null  int64 \n",
      " 14  PostalCode         354369 non-null  int64 \n",
      " 15  LastSeen           354369 non-null  object\n",
      "dtypes: int64(7), object(9)\n",
      "memory usage: 43.3+ MB\n"
     ]
    },
    {
     "data": {
      "text/plain": [
       "None"
      ]
     },
     "metadata": {},
     "output_type": "display_data"
    }
   ],
   "source": [
    "display(df_auto.info())"
   ]
  },
  {
   "cell_type": "code",
   "execution_count": 11,
   "metadata": {
    "colab": {
     "base_uri": "https://localhost:8080/",
     "height": 400
    },
    "id": "tDuqdM8Fb7gY",
    "outputId": "09ee73ac-d185-45c8-f85d-5bdbf2abbef6"
   },
   "outputs": [
    {
     "data": {
      "text/html": [
       "<div>\n",
       "<style scoped>\n",
       "    .dataframe tbody tr th:only-of-type {\n",
       "        vertical-align: middle;\n",
       "    }\n",
       "\n",
       "    .dataframe tbody tr th {\n",
       "        vertical-align: top;\n",
       "    }\n",
       "\n",
       "    .dataframe thead th {\n",
       "        text-align: right;\n",
       "    }\n",
       "</style>\n",
       "<table border=\"1\" class=\"dataframe\">\n",
       "  <thead>\n",
       "    <tr style=\"text-align: right;\">\n",
       "      <th></th>\n",
       "      <th>DateCrawled</th>\n",
       "      <th>Price</th>\n",
       "      <th>VehicleType</th>\n",
       "      <th>RegistrationYear</th>\n",
       "      <th>Gearbox</th>\n",
       "      <th>Power</th>\n",
       "      <th>Model</th>\n",
       "      <th>Kilometer</th>\n",
       "      <th>RegistrationMonth</th>\n",
       "      <th>FuelType</th>\n",
       "      <th>Brand</th>\n",
       "      <th>Repaired</th>\n",
       "      <th>DateCreated</th>\n",
       "      <th>NumberOfPictures</th>\n",
       "      <th>PostalCode</th>\n",
       "      <th>LastSeen</th>\n",
       "    </tr>\n",
       "  </thead>\n",
       "  <tbody>\n",
       "    <tr>\n",
       "      <th>0</th>\n",
       "      <td>2016-03-24 11:52:17</td>\n",
       "      <td>480</td>\n",
       "      <td>NaN</td>\n",
       "      <td>1993</td>\n",
       "      <td>manual</td>\n",
       "      <td>0</td>\n",
       "      <td>golf</td>\n",
       "      <td>150000</td>\n",
       "      <td>0</td>\n",
       "      <td>petrol</td>\n",
       "      <td>volkswagen</td>\n",
       "      <td>NaN</td>\n",
       "      <td>2016-03-24 00:00:00</td>\n",
       "      <td>0</td>\n",
       "      <td>70435</td>\n",
       "      <td>2016-04-07 03:16:57</td>\n",
       "    </tr>\n",
       "    <tr>\n",
       "      <th>1</th>\n",
       "      <td>2016-03-24 10:58:45</td>\n",
       "      <td>18300</td>\n",
       "      <td>coupe</td>\n",
       "      <td>2011</td>\n",
       "      <td>manual</td>\n",
       "      <td>190</td>\n",
       "      <td>NaN</td>\n",
       "      <td>125000</td>\n",
       "      <td>5</td>\n",
       "      <td>gasoline</td>\n",
       "      <td>audi</td>\n",
       "      <td>yes</td>\n",
       "      <td>2016-03-24 00:00:00</td>\n",
       "      <td>0</td>\n",
       "      <td>66954</td>\n",
       "      <td>2016-04-07 01:46:50</td>\n",
       "    </tr>\n",
       "    <tr>\n",
       "      <th>2</th>\n",
       "      <td>2016-03-14 12:52:21</td>\n",
       "      <td>9800</td>\n",
       "      <td>suv</td>\n",
       "      <td>2004</td>\n",
       "      <td>auto</td>\n",
       "      <td>163</td>\n",
       "      <td>grand</td>\n",
       "      <td>125000</td>\n",
       "      <td>8</td>\n",
       "      <td>gasoline</td>\n",
       "      <td>jeep</td>\n",
       "      <td>NaN</td>\n",
       "      <td>2016-03-14 00:00:00</td>\n",
       "      <td>0</td>\n",
       "      <td>90480</td>\n",
       "      <td>2016-04-05 12:47:46</td>\n",
       "    </tr>\n",
       "    <tr>\n",
       "      <th>3</th>\n",
       "      <td>2016-03-17 16:54:04</td>\n",
       "      <td>1500</td>\n",
       "      <td>small</td>\n",
       "      <td>2001</td>\n",
       "      <td>manual</td>\n",
       "      <td>75</td>\n",
       "      <td>golf</td>\n",
       "      <td>150000</td>\n",
       "      <td>6</td>\n",
       "      <td>petrol</td>\n",
       "      <td>volkswagen</td>\n",
       "      <td>no</td>\n",
       "      <td>2016-03-17 00:00:00</td>\n",
       "      <td>0</td>\n",
       "      <td>91074</td>\n",
       "      <td>2016-03-17 17:40:17</td>\n",
       "    </tr>\n",
       "    <tr>\n",
       "      <th>4</th>\n",
       "      <td>2016-03-31 17:25:20</td>\n",
       "      <td>3600</td>\n",
       "      <td>small</td>\n",
       "      <td>2008</td>\n",
       "      <td>manual</td>\n",
       "      <td>69</td>\n",
       "      <td>fabia</td>\n",
       "      <td>90000</td>\n",
       "      <td>7</td>\n",
       "      <td>gasoline</td>\n",
       "      <td>skoda</td>\n",
       "      <td>no</td>\n",
       "      <td>2016-03-31 00:00:00</td>\n",
       "      <td>0</td>\n",
       "      <td>60437</td>\n",
       "      <td>2016-04-06 10:17:21</td>\n",
       "    </tr>\n",
       "  </tbody>\n",
       "</table>\n",
       "</div>"
      ],
      "text/plain": [
       "           DateCrawled  Price VehicleType  RegistrationYear Gearbox  Power  \\\n",
       "0  2016-03-24 11:52:17    480         NaN              1993  manual      0   \n",
       "1  2016-03-24 10:58:45  18300       coupe              2011  manual    190   \n",
       "2  2016-03-14 12:52:21   9800         suv              2004    auto    163   \n",
       "3  2016-03-17 16:54:04   1500       small              2001  manual     75   \n",
       "4  2016-03-31 17:25:20   3600       small              2008  manual     69   \n",
       "\n",
       "   Model  Kilometer  RegistrationMonth  FuelType       Brand Repaired  \\\n",
       "0   golf     150000                  0    petrol  volkswagen      NaN   \n",
       "1    NaN     125000                  5  gasoline        audi      yes   \n",
       "2  grand     125000                  8  gasoline        jeep      NaN   \n",
       "3   golf     150000                  6    petrol  volkswagen       no   \n",
       "4  fabia      90000                  7  gasoline       skoda       no   \n",
       "\n",
       "           DateCreated  NumberOfPictures  PostalCode             LastSeen  \n",
       "0  2016-03-24 00:00:00                 0       70435  2016-04-07 03:16:57  \n",
       "1  2016-03-24 00:00:00                 0       66954  2016-04-07 01:46:50  \n",
       "2  2016-03-14 00:00:00                 0       90480  2016-04-05 12:47:46  \n",
       "3  2016-03-17 00:00:00                 0       91074  2016-03-17 17:40:17  \n",
       "4  2016-03-31 00:00:00                 0       60437  2016-04-06 10:17:21  "
      ]
     },
     "metadata": {},
     "output_type": "display_data"
    }
   ],
   "source": [
    "display(df_auto.head())"
   ]
  },
  {
   "cell_type": "markdown",
   "metadata": {
    "id": "q_3mLgvnb7gZ"
   },
   "source": [
    "### Предобработка данных"
   ]
  },
  {
   "cell_type": "markdown",
   "metadata": {
    "id": "HkreYlYpb7gZ"
   },
   "source": [
    "**Удаление неинформативных столбцов**\n",
    "\n",
    "Некоторые столбцы из датасета не несут информации для определения стоимости автомобиля на основании технических характеристик, удалим их.\n",
    "Стобцы для удаления:\n",
    "* DateCrawled\n",
    "* RegistrationMonth\n",
    "* DateCreated\n",
    "* NumberOfPictures\n",
    "* PostalCode\n",
    "* LastSeen"
   ]
  },
  {
   "cell_type": "code",
   "execution_count": 12,
   "metadata": {
    "colab": {
     "base_uri": "https://localhost:8080/"
    },
    "id": "wXrTibjVb7gZ",
    "outputId": "6ef2eedd-d590-4440-f5de-009a993f0a77"
   },
   "outputs": [
    {
     "name": "stdout",
     "output_type": "stream",
     "text": [
      "Index(['DateCrawled', 'Price', 'VehicleType', 'RegistrationYear', 'Gearbox',\n",
      "       'Power', 'Model', 'Kilometer', 'FuelType', 'Brand', 'Repaired'],\n",
      "      dtype='object')\n"
     ]
    }
   ],
   "source": [
    "columns_to_drop = ['RegistrationMonth', 'DateCreated' , 'NumberOfPictures', 'PostalCode', 'LastSeen']\n",
    "\n",
    "df_auto = df_auto.drop(columns_to_drop, axis = 1)\n",
    "\n",
    "print(df_auto.columns)"
   ]
  },
  {
   "cell_type": "markdown",
   "metadata": {
    "id": "AHHGTVA6b7gZ"
   },
   "source": [
    "### Изменение названий столбцов"
   ]
  },
  {
   "cell_type": "code",
   "execution_count": 13,
   "metadata": {
    "id": "cVYzBiNHb7ga"
   },
   "outputs": [],
   "source": [
    "df_auto = df_auto.rename(columns={\n",
    "    'Price' : 'price',\n",
    "    'VehicleType' : 'vehicle_type',\n",
    "    'RegistrationYear' : 'registration_year',\n",
    "    'Gearbox' : 'gearbox',\n",
    "    'Power' : 'power',\n",
    "    'Model' : 'model',\n",
    "    'Kilometer' : 'kilometer',\n",
    "    'FuelType' : 'fuel_type',\n",
    "    'Brand' : 'brand',\n",
    "    'Repaired' : 'repaired'})"
   ]
  },
  {
   "cell_type": "markdown",
   "metadata": {
    "id": "XkydGTxib7ga"
   },
   "source": [
    "### Обработка пропусков"
   ]
  },
  {
   "cell_type": "markdown",
   "metadata": {
    "id": "-sybWlSeb7gn"
   },
   "source": [
    "**Посмотрим на общее количество пропусков по столбцам**"
   ]
  },
  {
   "cell_type": "code",
   "execution_count": 14,
   "metadata": {
    "colab": {
     "base_uri": "https://localhost:8080/",
     "height": 206
    },
    "id": "f38LA5Q8b7gn",
    "outputId": "e9cf5c2f-f9ff-442e-95a8-380fa7ac0935"
   },
   "outputs": [
    {
     "data": {
      "text/html": [
       "<div>\n",
       "<style scoped>\n",
       "    .dataframe tbody tr th:only-of-type {\n",
       "        vertical-align: middle;\n",
       "    }\n",
       "\n",
       "    .dataframe tbody tr th {\n",
       "        vertical-align: top;\n",
       "    }\n",
       "\n",
       "    .dataframe thead th {\n",
       "        text-align: right;\n",
       "    }\n",
       "</style>\n",
       "<table border=\"1\" class=\"dataframe\">\n",
       "  <thead>\n",
       "    <tr style=\"text-align: right;\">\n",
       "      <th></th>\n",
       "      <th>empty_value</th>\n",
       "    </tr>\n",
       "  </thead>\n",
       "  <tbody>\n",
       "    <tr>\n",
       "      <th>vehicle_type</th>\n",
       "      <td>37490</td>\n",
       "    </tr>\n",
       "    <tr>\n",
       "      <th>gearbox</th>\n",
       "      <td>19833</td>\n",
       "    </tr>\n",
       "    <tr>\n",
       "      <th>model</th>\n",
       "      <td>19705</td>\n",
       "    </tr>\n",
       "    <tr>\n",
       "      <th>fuel_type</th>\n",
       "      <td>32895</td>\n",
       "    </tr>\n",
       "    <tr>\n",
       "      <th>repaired</th>\n",
       "      <td>71154</td>\n",
       "    </tr>\n",
       "  </tbody>\n",
       "</table>\n",
       "</div>"
      ],
      "text/plain": [
       "              empty_value\n",
       "vehicle_type        37490\n",
       "gearbox             19833\n",
       "model               19705\n",
       "fuel_type           32895\n",
       "repaired            71154"
      ]
     },
     "metadata": {},
     "output_type": "display_data"
    }
   ],
   "source": [
    "display(df_auto.isna().sum().to_frame(name=\"empty_value\").query(\"empty_value > 0\"))"
   ]
  },
  {
   "cell_type": "markdown",
   "metadata": {
    "id": "gu4MKYCGb7gn"
   },
   "source": [
    "Столбец repaired хранит данные о том, была ли машина в ремонте или нет, значит пропуски, будем расценивать как то, что машина в ремонте не была. Заполним пропущенные значения, значением 'no'."
   ]
  },
  {
   "cell_type": "code",
   "execution_count": 15,
   "metadata": {
    "id": "7E3ij5DPb7gn"
   },
   "outputs": [],
   "source": [
    "df_auto['repaired'] = df_auto['repaired'].fillna('no')"
   ]
  },
  {
   "cell_type": "markdown",
   "metadata": {
    "id": "uRXP5Elnb7go"
   },
   "source": [
    "Пропуски в оставшихся столбцах оставим, обработаем их в пайплайне."
   ]
  },
  {
   "cell_type": "markdown",
   "metadata": {
    "id": "A4FNmQ7Jb7go"
   },
   "source": [
    "### Обработка дубликатов"
   ]
  },
  {
   "cell_type": "code",
   "execution_count": 16,
   "metadata": {
    "colab": {
     "base_uri": "https://localhost:8080/"
    },
    "id": "Z5zxi7sab7go",
    "outputId": "62bd588b-bf6e-4283-f645-217c6d8f50c6"
   },
   "outputs": [
    {
     "name": "stdout",
     "output_type": "stream",
     "text": [
      "Количество дубликатов:  29\n",
      "Количество дубликатов после удаления:  0\n"
     ]
    }
   ],
   "source": [
    "print('Количество дубликатов: ', df_auto.duplicated().sum())\n",
    "\n",
    "df_auto.drop_duplicates(inplace = True)\n",
    "\n",
    "print('Количество дубликатов после удаления: ', df_auto.duplicated().sum())"
   ]
  },
  {
   "cell_type": "markdown",
   "metadata": {
    "id": "MsHv350Yb7go"
   },
   "source": [
    "### Исследовательский анализ"
   ]
  },
  {
   "cell_type": "code",
   "execution_count": 17,
   "metadata": {
    "colab": {
     "base_uri": "https://localhost:8080/",
     "height": 300
    },
    "id": "aeoQa4Pvb7go",
    "outputId": "99887343-51dc-4821-8b8f-9a1e23458ca8"
   },
   "outputs": [
    {
     "data": {
      "text/html": [
       "<div>\n",
       "<style scoped>\n",
       "    .dataframe tbody tr th:only-of-type {\n",
       "        vertical-align: middle;\n",
       "    }\n",
       "\n",
       "    .dataframe tbody tr th {\n",
       "        vertical-align: top;\n",
       "    }\n",
       "\n",
       "    .dataframe thead th {\n",
       "        text-align: right;\n",
       "    }\n",
       "</style>\n",
       "<table border=\"1\" class=\"dataframe\">\n",
       "  <thead>\n",
       "    <tr style=\"text-align: right;\">\n",
       "      <th></th>\n",
       "      <th>price</th>\n",
       "      <th>registration_year</th>\n",
       "      <th>power</th>\n",
       "      <th>kilometer</th>\n",
       "    </tr>\n",
       "  </thead>\n",
       "  <tbody>\n",
       "    <tr>\n",
       "      <th>count</th>\n",
       "      <td>354340.000000</td>\n",
       "      <td>354340.000000</td>\n",
       "      <td>354340.000000</td>\n",
       "      <td>354340.000000</td>\n",
       "    </tr>\n",
       "    <tr>\n",
       "      <th>mean</th>\n",
       "      <td>4416.542928</td>\n",
       "      <td>2004.234583</td>\n",
       "      <td>110.091158</td>\n",
       "      <td>128212.154992</td>\n",
       "    </tr>\n",
       "    <tr>\n",
       "      <th>std</th>\n",
       "      <td>4514.155099</td>\n",
       "      <td>90.231625</td>\n",
       "      <td>189.857010</td>\n",
       "      <td>37904.569282</td>\n",
       "    </tr>\n",
       "    <tr>\n",
       "      <th>min</th>\n",
       "      <td>0.000000</td>\n",
       "      <td>1000.000000</td>\n",
       "      <td>0.000000</td>\n",
       "      <td>5000.000000</td>\n",
       "    </tr>\n",
       "    <tr>\n",
       "      <th>25%</th>\n",
       "      <td>1050.000000</td>\n",
       "      <td>1999.000000</td>\n",
       "      <td>69.000000</td>\n",
       "      <td>125000.000000</td>\n",
       "    </tr>\n",
       "    <tr>\n",
       "      <th>50%</th>\n",
       "      <td>2700.000000</td>\n",
       "      <td>2003.000000</td>\n",
       "      <td>105.000000</td>\n",
       "      <td>150000.000000</td>\n",
       "    </tr>\n",
       "    <tr>\n",
       "      <th>75%</th>\n",
       "      <td>6400.000000</td>\n",
       "      <td>2008.000000</td>\n",
       "      <td>143.000000</td>\n",
       "      <td>150000.000000</td>\n",
       "    </tr>\n",
       "    <tr>\n",
       "      <th>max</th>\n",
       "      <td>20000.000000</td>\n",
       "      <td>9999.000000</td>\n",
       "      <td>20000.000000</td>\n",
       "      <td>150000.000000</td>\n",
       "    </tr>\n",
       "  </tbody>\n",
       "</table>\n",
       "</div>"
      ],
      "text/plain": [
       "               price  registration_year          power      kilometer\n",
       "count  354340.000000      354340.000000  354340.000000  354340.000000\n",
       "mean     4416.542928        2004.234583     110.091158  128212.154992\n",
       "std      4514.155099          90.231625     189.857010   37904.569282\n",
       "min         0.000000        1000.000000       0.000000    5000.000000\n",
       "25%      1050.000000        1999.000000      69.000000  125000.000000\n",
       "50%      2700.000000        2003.000000     105.000000  150000.000000\n",
       "75%      6400.000000        2008.000000     143.000000  150000.000000\n",
       "max     20000.000000        9999.000000   20000.000000  150000.000000"
      ]
     },
     "metadata": {},
     "output_type": "display_data"
    }
   ],
   "source": [
    "display(df_auto.describe())"
   ]
  },
  {
   "cell_type": "markdown",
   "metadata": {
    "id": "MRErzivOb7gp"
   },
   "source": [
    "Признаки:\n",
    "1. price: Минимальное значение цены 0 евро также кажется аномальным.\n",
    "2. registration_year: Минимальное значение 1000 и максимальное значение 9999 явно выходят за пределы ожидаемого диапазона годов регистрации автомобилей. Обычно автомобили регистрируются в диапазоне от начала 20-го века до настоящего времени.\n",
    "3. power: Максимальное значение мощности двигателя 20000 л.с. кажется аномально высоким. Обычно мощность двигателя легковых автомобилей не превышает нескольких сотен лошадиных сил.\n",
    "4. kilometer: Аномальных значений не наблюдается, лучше посмотреть по диаграммам."
   ]
  },
  {
   "cell_type": "markdown",
   "metadata": {
    "id": "JI8BuPUXb7gp"
   },
   "source": [
    "**Признак 'price'**"
   ]
  },
  {
   "cell_type": "code",
   "execution_count": 18,
   "metadata": {
    "colab": {
     "base_uri": "https://localhost:8080/",
     "height": 569
    },
    "id": "1pQ7gknwb7gp",
    "outputId": "c97f24de-4208-493d-9c4a-8db7b7c0784e"
   },
   "outputs": [
    {
     "data": {
      "image/png": "[encoded data removed]",
      "text/plain": [
       "<Figure size 864x432 with 1 Axes>"
      ]
     },
     "metadata": {
      "needs_background": "light"
     },
     "output_type": "display_data"
    }
   ],
   "source": [
    "create(df_auto, 'price', 'hist', bins = 550)"
   ]
  },
  {
   "cell_type": "code",
   "execution_count": 19,
   "metadata": {
    "colab": {
     "base_uri": "https://localhost:8080/",
     "height": 569
    },
    "id": "4QbVudpBb7gp",
    "outputId": "531b7012-c9c9-4760-e187-b565b7add4cf"
   },
   "outputs": [
    {
     "data": {
      "image/png": "[encoded data removed]",
      "text/plain": [
       "<Figure size 720x432 with 1 Axes>"
      ]
     },
     "metadata": {
      "needs_background": "light"
     },
     "output_type": "display_data"
    }
   ],
   "source": [
    "create(df_auto, 'price', 'boxplot')"
   ]
  },
  {
   "cell_type": "markdown",
   "metadata": {
    "id": "cV1b-R18b7gq"
   },
   "source": [
    "Удалим все значения меньше 300 евро."
   ]
  },
  {
   "cell_type": "code",
   "execution_count": 20,
   "metadata": {
    "id": "srx9-1cob7gq"
   },
   "outputs": [],
   "source": [
    "df_auto = df_auto.query('price > 300')"
   ]
  },
  {
   "cell_type": "markdown",
   "metadata": {
    "id": "DXb_PLxrb7gr"
   },
   "source": [
    "**Признак 'registration_year'**"
   ]
  },
  {
   "cell_type": "code",
   "execution_count": 21,
   "metadata": {
    "colab": {
     "base_uri": "https://localhost:8080/",
     "height": 569
    },
    "id": "eEhY1fGKb7gr",
    "outputId": "758b63e8-ff7a-476f-fe8e-d653d219281e"
   },
   "outputs": [
    {
     "data": {
      "image/png": "[encoded data removed]",
      "text/plain": [
       "<Figure size 864x432 with 1 Axes>"
      ]
     },
     "metadata": {
      "needs_background": "light"
     },
     "output_type": "display_data"
    }
   ],
   "source": [
    "create(df_auto, 'registration_year', 'hist', bins = 550)"
   ]
  },
  {
   "cell_type": "code",
   "execution_count": 22,
   "metadata": {
    "colab": {
     "base_uri": "https://localhost:8080/",
     "height": 569
    },
    "id": "B53e68xEb7gr",
    "outputId": "117cc843-2113-4d71-f88f-61c454223028"
   },
   "outputs": [
    {
     "data": {
      "image/png": "[encoded data removed]",
      "text/plain": [
       "<Figure size 720x432 with 1 Axes>"
      ]
     },
     "metadata": {
      "needs_background": "light"
     },
     "output_type": "display_data"
    }
   ],
   "source": [
    "create(df_auto, 'registration_year', 'boxplot')"
   ]
  },
  {
   "cell_type": "markdown",
   "metadata": {
    "id": "tZkPP1fKb7gs"
   },
   "source": [
    "Так как год регистрации автомобиля не может быть позже последней даты скачивания анкеты из базы, проверим ее."
   ]
  },
  {
   "cell_type": "code",
   "execution_count": 23,
   "metadata": {
    "colab": {
     "base_uri": "https://localhost:8080/"
    },
    "id": "DZ1senKUb7gs",
    "outputId": "d67cc166-4bc2-4145-a57d-d6b103f9068c"
   },
   "outputs": [
    {
     "name": "stdout",
     "output_type": "stream",
     "text": [
      "2016-04-07 14:36:58\n"
     ]
    }
   ],
   "source": [
    "last_date = pd.to_datetime(df_auto['DateCrawled'])\n",
    "print(last_date.max())"
   ]
  },
  {
   "cell_type": "code",
   "execution_count": 24,
   "metadata": {
    "id": "tJjeCDZqb7gs"
   },
   "outputs": [],
   "source": [
    "df_auto = df_auto.query('registration_year >= 1990 & registration_year < 2017')"
   ]
  },
  {
   "cell_type": "code",
   "execution_count": 25,
   "metadata": {
    "id": "VsPU7e2Zb7gs"
   },
   "outputs": [],
   "source": [
    "df_auto = df_auto.drop('DateCrawled', axis = 1)"
   ]
  },
  {
   "cell_type": "markdown",
   "metadata": {
    "id": "goNXrrEOb7gt"
   },
   "source": [
    "**Признак 'power'**"
   ]
  },
  {
   "cell_type": "code",
   "execution_count": 26,
   "metadata": {
    "colab": {
     "base_uri": "https://localhost:8080/",
     "height": 569
    },
    "id": "M_kD7-MWb7gt",
    "outputId": "e426c0a4-7336-4d0f-8e7d-af5d13c70525"
   },
   "outputs": [
    {
     "data": {
      "image/png": "[encoded data removed]",
      "text/plain": [
       "<Figure size 864x432 with 1 Axes>"
      ]
     },
     "metadata": {
      "needs_background": "light"
     },
     "output_type": "display_data"
    }
   ],
   "source": [
    "create(df_auto, 'power', 'hist', bins = 550)"
   ]
  },
  {
   "cell_type": "code",
   "execution_count": 27,
   "metadata": {
    "colab": {
     "base_uri": "https://localhost:8080/",
     "height": 569
    },
    "id": "xtjv6dEFb7gt",
    "outputId": "54667e20-b43c-4a41-b030-deadbc80c2e3"
   },
   "outputs": [
    {
     "data": {
      "image/png": "[encoded data removed]",
      "text/plain": [
       "<Figure size 720x432 with 1 Axes>"
      ]
     },
     "metadata": {
      "needs_background": "light"
     },
     "output_type": "display_data"
    }
   ],
   "source": [
    "create(df_auto, 'power', 'boxplot')"
   ]
  },
  {
   "cell_type": "markdown",
   "metadata": {
    "id": "PmA6CuJyb7gu"
   },
   "source": [
    "Оставим данные по машинам с объемами двигателей в диапазоне от 50 до 500 лошадиных сил."
   ]
  },
  {
   "cell_type": "code",
   "execution_count": 28,
   "metadata": {
    "id": "R388ZIdVb7gu"
   },
   "outputs": [],
   "source": [
    "df_auto = df_auto.query('power >= 50 & power <= 500')"
   ]
  },
  {
   "cell_type": "markdown",
   "metadata": {
    "id": "GH2Q3RLDb7gu"
   },
   "source": [
    "**Признак 'kilometer'**"
   ]
  },
  {
   "cell_type": "code",
   "execution_count": 29,
   "metadata": {
    "colab": {
     "base_uri": "https://localhost:8080/",
     "height": 569
    },
    "id": "Rkwx5POqb7gu",
    "outputId": "0bf5c95e-11ce-4acf-b7aa-3268b5d5ff89"
   },
   "outputs": [
    {
     "data": {
      "image/png": "[encoded data removed]",
      "text/plain": [
       "<Figure size 864x432 with 1 Axes>"
      ]
     },
     "metadata": {
      "needs_background": "light"
     },
     "output_type": "display_data"
    }
   ],
   "source": [
    "create(df_auto, 'kilometer', 'hist', bins = 550)"
   ]
  },
  {
   "cell_type": "code",
   "execution_count": 30,
   "metadata": {
    "colab": {
     "base_uri": "https://localhost:8080/",
     "height": 569
    },
    "id": "v0wkYv9Ub7gu",
    "outputId": "db80ba1f-0d14-499b-b2bd-881af9efc8c4"
   },
   "outputs": [
    {
     "data": {
      "image/png": "[encoded data removed]",
      "text/plain": [
       "<Figure size 720x432 with 1 Axes>"
      ]
     },
     "metadata": {
      "needs_background": "light"
     },
     "output_type": "display_data"
    }
   ],
   "source": [
    "create(df_auto, 'kilometer', 'boxplot')"
   ]
  },
  {
   "cell_type": "markdown",
   "metadata": {
    "id": "lv_x8m0ab7gv"
   },
   "source": [
    "### Корелляционный анализ"
   ]
  },
  {
   "cell_type": "code",
   "execution_count": 31,
   "metadata": {
    "id": "UUeP7pQ4b7gv"
   },
   "outputs": [],
   "source": [
    "num_cols, cat_cols = cat_num_col(df_auto)"
   ]
  },
  {
   "cell_type": "code",
   "execution_count": 32,
   "metadata": {
    "colab": {
     "base_uri": "https://localhost:8080/",
     "height": 1000
    },
    "id": "-15WRYDHb7gw",
    "outputId": "2ed0c35f-c85b-43ac-ac12-eac4e7c8aa13"
   },
   "outputs": [
    {
     "data": {
      "image/png": "[encoded data removed]",
      "text/plain": [
       "<Figure size 864x864 with 2 Axes>"
      ]
     },
     "metadata": {
      "needs_background": "light"
     },
     "output_type": "display_data"
    }
   ],
   "source": [
    "interval_cols = ['price', 'power']\n",
    "create_phik(df_auto, interval_cols)"
   ]
  },
  {
   "cell_type": "markdown",
   "metadata": {
    "id": "pmrEbGF8b7gw"
   },
   "source": [
    "**Сильная корелляция наблюдается:**\n",
    "* Между признаками model и vehicle_type (92%)\n",
    "* Между признаками model и brand (100%)\n",
    "\n",
    "**Средняя корелляция наблюдается:**\n",
    "* Между признаками model и power (78%)\n",
    "* Между признаками registration_year и price (68%)\n",
    "* Между признками vehicle_type и brand (64%)\n",
    "\n",
    "Во остальных случаях наблюдается слабая корелляция или корелляции между признаками не наблюдается вообще"
   ]
  },
  {
   "cell_type": "markdown",
   "metadata": {
    "id": "-HNMfQxab7gx"
   },
   "source": [
    "### Подготовка признаков"
   ]
  },
  {
   "cell_type": "markdown",
   "metadata": {
    "id": "FBPTyg_vb7gx"
   },
   "source": [
    "Разделим данные на признаки, целевой признак."
   ]
  },
  {
   "cell_type": "code",
   "execution_count": 33,
   "metadata": {
    "id": "ZtRUBKymb7gx"
   },
   "outputs": [],
   "source": [
    "features = df_auto.drop('price', axis=1)\n",
    "target = df_auto['price']"
   ]
  },
  {
   "cell_type": "markdown",
   "metadata": {
    "id": "_UPoH9JZb7gx"
   },
   "source": [
    "Теперь на выборки."
   ]
  },
  {
   "cell_type": "code",
   "execution_count": 34,
   "metadata": {
    "id": "8xZSivWib7gx"
   },
   "outputs": [],
   "source": [
    "features_train, features_test, target_train, target_test = train_test_split(\n",
    "    features,\n",
    "    target,\n",
    "    random_state=RANDOM_STATE,\n",
    "    test_size=TEST_SIZE\n",
    ")"
   ]
  },
  {
   "cell_type": "markdown",
   "metadata": {
    "id": "uYArBwuWb7gy"
   },
   "source": [
    "Из features отдельно создадим две переменные, хранящие количественные и категориальные признаки."
   ]
  },
  {
   "cell_type": "code",
   "execution_count": 35,
   "metadata": {
    "id": "yz6GrGwtb7gy"
   },
   "outputs": [],
   "source": [
    "num_col, cat_col = cat_num_col(features)"
   ]
  },
  {
   "cell_type": "markdown",
   "metadata": {
    "id": "GcCHfu_Qb7gy"
   },
   "source": [
    "Теперь выполним кодировку признаков."
   ]
  },
  {
   "cell_type": "code",
   "execution_count": 36,
   "metadata": {
    "id": "hqoSgCwub7gy"
   },
   "outputs": [],
   "source": [
    "ohe_pipe_tree = Pipeline([\n",
    "    ('simpleImputer_ohe', SimpleImputer(strategy='most_frequent')),\n",
    "    ('ohe', OrdinalEncoder(handle_unknown='use_encoded_value', unknown_value=-1))\n",
    "])\n",
    "\n",
    "ohe_pipe_linear = Pipeline([\n",
    "    ('simpleImputer_ohe', SimpleImputer(strategy='most_frequent')),\n",
    "    ('ohe', OneHotEncoder(handle_unknown='ignore', drop = 'first'))\n",
    "])\n",
    "\n",
    "numeric_pipe = Pipeline(steps=[\n",
    "    ('scaler', StandardScaler())\n",
    "])"
   ]
  },
  {
   "cell_type": "code",
   "execution_count": 37,
   "metadata": {
    "colab": {
     "base_uri": "https://localhost:8080/",
     "height": 216
    },
    "id": "GQ6tpLyKb7gz",
    "outputId": "32ff7899-9323-4e46-89af-1c50c831d9ff"
   },
   "outputs": [],
   "source": [
    "preprocessor_linear = ColumnTransformer(transformers=[\n",
    "    ('ohe', ohe_pipe_linear, cat_col),\n",
    "    ('num', numeric_pipe, num_col)\n",
    "], remainder='passthrough')\n",
    "\n",
    "preprocessor_tree_based = ColumnTransformer(transformers=[\n",
    "    ('ohe', ohe_pipe_tree, cat_col),\n",
    "    ('num', numeric_pipe, num_col)\n",
    "], remainder='passthrough')"
   ]
  },
  {
   "cell_type": "markdown",
   "metadata": {
    "id": "Bq6WqyKub7g0"
   },
   "source": [
    "## Обучение моделей"
   ]
  },
  {
   "cell_type": "markdown",
   "metadata": {
    "id": "VnVNFXS7b7g0"
   },
   "source": [
    "### Модель LightGBM"
   ]
  },
  {
   "cell_type": "code",
   "execution_count": 38,
   "metadata": {
    "id": "08lg4Jx3b7g0"
   },
   "outputs": [],
   "source": [
    "pipeline_lgbm = Pipeline([\n",
    "    ('preprocessor', preprocessor_tree_based),\n",
    "    (\"lgbm\", LGBMRegressor(random_state=RANDOM_STATE))\n",
    "])"
   ]
  },
  {
   "cell_type": "code",
   "execution_count": 39,
   "metadata": {
    "id": "2W3PpSJvb7g0"
   },
   "outputs": [],
   "source": [
    "param_grid_lgbm = {\n",
    "    'lgbm__num_leaves': [31, 50, 70],\n",
    "    'lgbm__max_depth': [3, 5, 7],\n",
    "}\n",
    "best_params_lgbm, execution_time_lgbm, rmse_lgbm, model_lgbm, prediction_time_lgbm, retrain_duration_lgbm = \\\n",
    "optimize_model_with_grid_search(pipeline_lgbm, param_grid_lgbm, features_train, target_train)"
   ]
  },
  {
   "cell_type": "markdown",
   "metadata": {
    "id": "LWBY2_LJb7g0"
   },
   "source": [
    "### Модель LinearRegression"
   ]
  },
  {
   "cell_type": "code",
   "execution_count": 40,
   "metadata": {
    "id": "-SdNsdmbb7g1"
   },
   "outputs": [],
   "source": [
    "pipeline_linear = Pipeline([\n",
    "    ('preprocessor', preprocessor_linear),\n",
    "    (\"linear_regression\", LinearRegression(fit_intercept=True))\n",
    "])\n",
    "\n",
    "param_grid_linear = {}"
   ]
  },
  {
   "cell_type": "code",
   "execution_count": 41,
   "metadata": {
    "id": "ZJZnb_MOb7g1"
   },
   "outputs": [],
   "source": [
    "best_params_linear, execution_time_linear, rmse_linear, model_linear, prediction_time_linear, retrain_duration_linear = \\\n",
    "optimize_model_with_grid_search(pipeline_linear, param_grid_linear, features_train, target_train)"
   ]
  },
  {
   "cell_type": "markdown",
   "metadata": {
    "id": "vLXxVRCwb7g1"
   },
   "source": [
    "### Модель CatBoostRegressor"
   ]
  },
  {
   "cell_type": "code",
   "execution_count": 42,
   "metadata": {
    "id": "6_GmoXzRb7g1"
   },
   "outputs": [],
   "source": [
    "pipeline_catboost = Pipeline([\n",
    "    ('preprocessor', preprocessor_tree_based),\n",
    "    (\"catboost\", CatBoostRegressor(random_state=RANDOM_STATE, loss_function='RMSE'))\n",
    "])"
   ]
  },
  {
   "cell_type": "code",
   "execution_count": 43,
   "metadata": {
    "id": "F1bGdXkwb7g2",
    "scrolled": true
   },
   "outputs": [
    {
     "name": "stdout",
     "output_type": "stream",
     "text": [
      "Learning rate set to 0.5\n",
      "0:\tlearn: 3245.1512175\ttotal: 75.1ms\tremaining: 676ms\n",
      "1:\tlearn: 2581.4972524\ttotal: 103ms\tremaining: 410ms\n",
      "2:\tlearn: 2292.1769482\ttotal: 123ms\tremaining: 288ms\n",
      "3:\tlearn: 2135.0723143\ttotal: 144ms\tremaining: 216ms\n",
      "4:\tlearn: 2061.7718579\ttotal: 167ms\tremaining: 167ms\n",
      "5:\tlearn: 2009.5234215\ttotal: 193ms\tremaining: 129ms\n",
      "6:\tlearn: 1958.3545073\ttotal: 217ms\tremaining: 93.1ms\n",
      "7:\tlearn: 1931.6462281\ttotal: 238ms\tremaining: 59.5ms\n",
      "8:\tlearn: 1897.6292697\ttotal: 258ms\tremaining: 28.7ms\n",
      "9:\tlearn: 1877.8651854\ttotal: 285ms\tremaining: 0us\n",
      "Learning rate set to 0.5\n",
      "0:\tlearn: 3248.9804406\ttotal: 21.8ms\tremaining: 196ms\n",
      "1:\tlearn: 2571.4665404\ttotal: 48ms\tremaining: 192ms\n",
      "2:\tlearn: 2281.3069365\ttotal: 72.3ms\tremaining: 169ms\n",
      "3:\tlearn: 2138.6962090\ttotal: 92.9ms\tremaining: 139ms\n",
      "4:\tlearn: 2061.2755002\ttotal: 113ms\tremaining: 113ms\n",
      "5:\tlearn: 2015.6630263\ttotal: 134ms\tremaining: 89.2ms\n",
      "6:\tlearn: 1981.5653395\ttotal: 162ms\tremaining: 69.3ms\n",
      "7:\tlearn: 1931.4077439\ttotal: 184ms\tremaining: 46.1ms\n",
      "8:\tlearn: 1905.0546637\ttotal: 206ms\tremaining: 22.9ms\n",
      "9:\tlearn: 1874.5735631\ttotal: 227ms\tremaining: 0us\n",
      "Learning rate set to 0.5\n",
      "0:\tlearn: 3251.3825406\ttotal: 34.6ms\tremaining: 311ms\n",
      "1:\tlearn: 2572.3718543\ttotal: 68.2ms\tremaining: 273ms\n",
      "2:\tlearn: 2283.0513217\ttotal: 96.1ms\tremaining: 224ms\n",
      "3:\tlearn: 2143.1649118\ttotal: 126ms\tremaining: 188ms\n",
      "4:\tlearn: 2067.3931729\ttotal: 156ms\tremaining: 156ms\n",
      "5:\tlearn: 2021.5954600\ttotal: 178ms\tremaining: 119ms\n",
      "6:\tlearn: 1984.9941968\ttotal: 200ms\tremaining: 85.6ms\n",
      "7:\tlearn: 1945.5125765\ttotal: 223ms\tremaining: 55.7ms\n",
      "8:\tlearn: 1917.7583209\ttotal: 249ms\tremaining: 27.6ms\n",
      "9:\tlearn: 1901.6109311\ttotal: 270ms\tremaining: 0us\n",
      "Learning rate set to 0.5\n",
      "0:\tlearn: 3252.4801511\ttotal: 39.1ms\tremaining: 352ms\n",
      "1:\tlearn: 2584.4346396\ttotal: 74.1ms\tremaining: 296ms\n",
      "2:\tlearn: 2294.2512961\ttotal: 104ms\tremaining: 242ms\n",
      "3:\tlearn: 2153.2004585\ttotal: 125ms\tremaining: 187ms\n",
      "4:\tlearn: 2072.2949663\ttotal: 152ms\tremaining: 152ms\n",
      "5:\tlearn: 2012.9480965\ttotal: 180ms\tremaining: 120ms\n",
      "6:\tlearn: 1973.4164389\ttotal: 204ms\tremaining: 87.3ms\n",
      "7:\tlearn: 1934.7110273\ttotal: 225ms\tremaining: 56.3ms\n",
      "8:\tlearn: 1904.4091033\ttotal: 247ms\tremaining: 27.5ms\n",
      "9:\tlearn: 1882.6697715\ttotal: 273ms\tremaining: 0us\n",
      "Learning rate set to 0.5\n",
      "0:\tlearn: 3252.9826350\ttotal: 22.2ms\tremaining: 200ms\n",
      "1:\tlearn: 2587.4303539\ttotal: 48ms\tremaining: 192ms\n",
      "2:\tlearn: 2297.1884828\ttotal: 73.7ms\tremaining: 172ms\n",
      "3:\tlearn: 2136.5473477\ttotal: 99.8ms\tremaining: 150ms\n",
      "4:\tlearn: 2063.7980929\ttotal: 127ms\tremaining: 127ms\n",
      "5:\tlearn: 2010.2552650\ttotal: 153ms\tremaining: 102ms\n",
      "6:\tlearn: 1964.1202699\ttotal: 175ms\tremaining: 74.8ms\n",
      "7:\tlearn: 1936.2569277\ttotal: 201ms\tremaining: 50.3ms\n",
      "8:\tlearn: 1904.5653371\ttotal: 223ms\tremaining: 24.8ms\n",
      "9:\tlearn: 1874.1947186\ttotal: 246ms\tremaining: 0us\n",
      "Learning rate set to 0.5\n",
      "0:\tlearn: 3245.1512175\ttotal: 21.3ms\tremaining: 618ms\n",
      "1:\tlearn: 2581.4972524\ttotal: 42.8ms\tremaining: 599ms\n",
      "2:\tlearn: 2292.1769482\ttotal: 62.3ms\tremaining: 560ms\n",
      "3:\tlearn: 2135.0723143\ttotal: 85.6ms\tremaining: 556ms\n",
      "4:\tlearn: 2061.7718579\ttotal: 109ms\tremaining: 545ms\n",
      "5:\tlearn: 2009.5234215\ttotal: 130ms\tremaining: 519ms\n",
      "6:\tlearn: 1958.3545073\ttotal: 151ms\tremaining: 495ms\n",
      "7:\tlearn: 1931.6462281\ttotal: 171ms\tremaining: 470ms\n",
      "8:\tlearn: 1897.6292697\ttotal: 196ms\tremaining: 458ms\n",
      "9:\tlearn: 1877.8651854\ttotal: 218ms\tremaining: 436ms\n",
      "10:\tlearn: 1856.8281535\ttotal: 240ms\tremaining: 415ms\n",
      "11:\tlearn: 1843.0787354\ttotal: 260ms\tremaining: 390ms\n",
      "12:\tlearn: 1831.2071034\ttotal: 288ms\tremaining: 377ms\n",
      "13:\tlearn: 1821.3977960\ttotal: 310ms\tremaining: 354ms\n",
      "14:\tlearn: 1807.4581458\ttotal: 332ms\tremaining: 332ms\n",
      "15:\tlearn: 1795.4299825\ttotal: 354ms\tremaining: 310ms\n",
      "16:\tlearn: 1782.4242414\ttotal: 380ms\tremaining: 291ms\n",
      "17:\tlearn: 1773.4117016\ttotal: 405ms\tremaining: 270ms\n",
      "18:\tlearn: 1760.1218695\ttotal: 429ms\tremaining: 249ms\n",
      "19:\tlearn: 1753.1519837\ttotal: 452ms\tremaining: 226ms\n",
      "20:\tlearn: 1742.8181605\ttotal: 478ms\tremaining: 205ms\n",
      "21:\tlearn: 1737.0005409\ttotal: 503ms\tremaining: 183ms\n",
      "22:\tlearn: 1731.9806604\ttotal: 523ms\tremaining: 159ms\n",
      "23:\tlearn: 1724.5636199\ttotal: 549ms\tremaining: 137ms\n",
      "24:\tlearn: 1718.5566152\ttotal: 576ms\tremaining: 115ms\n",
      "25:\tlearn: 1713.7717788\ttotal: 601ms\tremaining: 92.5ms\n",
      "26:\tlearn: 1711.3369445\ttotal: 638ms\tremaining: 70.9ms\n",
      "27:\tlearn: 1706.4765246\ttotal: 669ms\tremaining: 47.8ms\n",
      "28:\tlearn: 1702.8248007\ttotal: 703ms\tremaining: 24.2ms\n",
      "29:\tlearn: 1695.1739074\ttotal: 731ms\tremaining: 0us\n",
      "Learning rate set to 0.5\n",
      "0:\tlearn: 3248.9804406\ttotal: 23ms\tremaining: 666ms\n",
      "1:\tlearn: 2571.4665404\ttotal: 48.2ms\tremaining: 675ms\n",
      "2:\tlearn: 2281.3069365\ttotal: 81ms\tremaining: 729ms\n",
      "3:\tlearn: 2138.6962090\ttotal: 104ms\tremaining: 674ms\n",
      "4:\tlearn: 2061.2755002\ttotal: 125ms\tremaining: 626ms\n",
      "5:\tlearn: 2015.6630263\ttotal: 146ms\tremaining: 585ms\n",
      "6:\tlearn: 1981.5653395\ttotal: 176ms\tremaining: 578ms\n",
      "7:\tlearn: 1931.4077439\ttotal: 199ms\tremaining: 548ms\n",
      "8:\tlearn: 1905.0546637\ttotal: 223ms\tremaining: 519ms\n",
      "9:\tlearn: 1874.5735631\ttotal: 244ms\tremaining: 488ms\n",
      "10:\tlearn: 1855.0070493\ttotal: 274ms\tremaining: 473ms\n",
      "11:\tlearn: 1841.6927777\ttotal: 298ms\tremaining: 447ms\n",
      "12:\tlearn: 1828.4999615\ttotal: 322ms\tremaining: 421ms\n",
      "13:\tlearn: 1818.8217927\ttotal: 343ms\tremaining: 391ms\n",
      "14:\tlearn: 1808.5950420\ttotal: 370ms\tremaining: 370ms\n",
      "15:\tlearn: 1795.1195446\ttotal: 393ms\tremaining: 344ms\n",
      "16:\tlearn: 1783.5091006\ttotal: 415ms\tremaining: 317ms\n",
      "17:\tlearn: 1773.3797662\ttotal: 439ms\tremaining: 292ms\n",
      "18:\tlearn: 1766.4772727\ttotal: 465ms\tremaining: 269ms\n",
      "19:\tlearn: 1758.4125454\ttotal: 486ms\tremaining: 243ms\n",
      "20:\tlearn: 1749.2675647\ttotal: 508ms\tremaining: 218ms\n",
      "21:\tlearn: 1739.7390098\ttotal: 531ms\tremaining: 193ms\n",
      "22:\tlearn: 1734.2292141\ttotal: 558ms\tremaining: 170ms\n",
      "23:\tlearn: 1729.0285722\ttotal: 579ms\tremaining: 145ms\n",
      "24:\tlearn: 1723.7163182\ttotal: 599ms\tremaining: 120ms\n",
      "25:\tlearn: 1718.3665792\ttotal: 634ms\tremaining: 97.5ms\n",
      "26:\tlearn: 1712.2287656\ttotal: 663ms\tremaining: 73.6ms\n",
      "27:\tlearn: 1707.2850546\ttotal: 683ms\tremaining: 48.8ms\n",
      "28:\tlearn: 1704.4302851\ttotal: 704ms\tremaining: 24.3ms\n",
      "29:\tlearn: 1700.0952020\ttotal: 727ms\tremaining: 0us\n",
      "Learning rate set to 0.5\n",
      "0:\tlearn: 3251.3825406\ttotal: 37.8ms\tremaining: 1.1s\n",
      "1:\tlearn: 2572.3718543\ttotal: 63.1ms\tremaining: 884ms\n",
      "2:\tlearn: 2283.0513217\ttotal: 84.8ms\tremaining: 764ms\n",
      "3:\tlearn: 2143.1649118\ttotal: 106ms\tremaining: 689ms\n",
      "4:\tlearn: 2067.3931729\ttotal: 134ms\tremaining: 668ms\n",
      "5:\tlearn: 2021.5954600\ttotal: 159ms\tremaining: 636ms\n",
      "6:\tlearn: 1984.9941968\ttotal: 181ms\tremaining: 594ms\n",
      "7:\tlearn: 1945.5125765\ttotal: 204ms\tremaining: 561ms\n",
      "8:\tlearn: 1917.7583209\ttotal: 234ms\tremaining: 546ms\n",
      "9:\tlearn: 1901.6109311\ttotal: 257ms\tremaining: 513ms\n",
      "10:\tlearn: 1865.9186177\ttotal: 278ms\tremaining: 481ms\n",
      "11:\tlearn: 1848.1531409\ttotal: 299ms\tremaining: 448ms\n",
      "12:\tlearn: 1836.8827118\ttotal: 321ms\tremaining: 420ms\n",
      "13:\tlearn: 1827.5926369\ttotal: 343ms\tremaining: 392ms\n",
      "14:\tlearn: 1811.7002950\ttotal: 364ms\tremaining: 364ms\n",
      "15:\tlearn: 1799.8307011\ttotal: 384ms\tremaining: 336ms\n",
      "16:\tlearn: 1786.6355972\ttotal: 405ms\tremaining: 309ms\n",
      "17:\tlearn: 1775.8633062\ttotal: 432ms\tremaining: 288ms\n",
      "18:\tlearn: 1764.1028622\ttotal: 452ms\tremaining: 261ms\n",
      "19:\tlearn: 1756.9303220\ttotal: 473ms\tremaining: 236ms\n",
      "20:\tlearn: 1751.7774587\ttotal: 492ms\tremaining: 211ms\n",
      "21:\tlearn: 1744.5007508\ttotal: 516ms\tremaining: 188ms\n",
      "22:\tlearn: 1739.2204342\ttotal: 539ms\tremaining: 164ms\n",
      "23:\tlearn: 1733.3543008\ttotal: 561ms\tremaining: 140ms\n",
      "24:\tlearn: 1727.0156266\ttotal: 583ms\tremaining: 117ms\n",
      "25:\tlearn: 1719.6594416\ttotal: 604ms\tremaining: 93ms\n",
      "26:\tlearn: 1714.1318839\ttotal: 631ms\tremaining: 70.1ms\n",
      "27:\tlearn: 1708.4377749\ttotal: 652ms\tremaining: 46.6ms\n",
      "28:\tlearn: 1705.7510680\ttotal: 673ms\tremaining: 23.2ms\n",
      "29:\tlearn: 1699.7078514\ttotal: 697ms\tremaining: 0us\n",
      "Learning rate set to 0.5\n",
      "0:\tlearn: 3252.4801511\ttotal: 23ms\tremaining: 667ms\n",
      "1:\tlearn: 2584.4346396\ttotal: 45.2ms\tremaining: 632ms\n",
      "2:\tlearn: 2294.2512961\ttotal: 68ms\tremaining: 612ms\n",
      "3:\tlearn: 2153.2004585\ttotal: 92.1ms\tremaining: 599ms\n",
      "4:\tlearn: 2072.2949663\ttotal: 122ms\tremaining: 608ms\n",
      "5:\tlearn: 2012.9480965\ttotal: 146ms\tremaining: 584ms\n",
      "6:\tlearn: 1973.4164389\ttotal: 166ms\tremaining: 544ms\n",
      "7:\tlearn: 1934.7110273\ttotal: 189ms\tremaining: 521ms\n",
      "8:\tlearn: 1904.4091033\ttotal: 211ms\tremaining: 493ms\n",
      "9:\tlearn: 1882.6697715\ttotal: 232ms\tremaining: 464ms\n",
      "10:\tlearn: 1860.5762747\ttotal: 253ms\tremaining: 437ms\n",
      "11:\tlearn: 1847.8385074\ttotal: 273ms\tremaining: 409ms\n",
      "12:\tlearn: 1837.5934089\ttotal: 296ms\tremaining: 387ms\n",
      "13:\tlearn: 1827.6315027\ttotal: 316ms\tremaining: 361ms\n",
      "14:\tlearn: 1818.2054869\ttotal: 338ms\tremaining: 338ms\n",
      "15:\tlearn: 1810.6006481\ttotal: 364ms\tremaining: 318ms\n",
      "16:\tlearn: 1800.4327920\ttotal: 391ms\tremaining: 299ms\n",
      "17:\tlearn: 1788.9393304\ttotal: 411ms\tremaining: 274ms\n",
      "18:\tlearn: 1781.6938987\ttotal: 432ms\tremaining: 250ms\n",
      "19:\tlearn: 1767.4381793\ttotal: 457ms\tremaining: 229ms\n",
      "20:\tlearn: 1762.0271109\ttotal: 486ms\tremaining: 208ms\n",
      "21:\tlearn: 1755.4503393\ttotal: 507ms\tremaining: 185ms\n",
      "22:\tlearn: 1746.9850794\ttotal: 528ms\tremaining: 161ms\n",
      "23:\tlearn: 1740.9374899\ttotal: 550ms\tremaining: 137ms\n",
      "24:\tlearn: 1732.3672639\ttotal: 576ms\tremaining: 115ms\n",
      "25:\tlearn: 1728.8744181\ttotal: 596ms\tremaining: 91.6ms\n",
      "26:\tlearn: 1725.3542264\ttotal: 617ms\tremaining: 68.5ms\n",
      "27:\tlearn: 1722.1222034\ttotal: 638ms\tremaining: 45.5ms\n",
      "28:\tlearn: 1716.1453587\ttotal: 662ms\tremaining: 22.8ms\n",
      "29:\tlearn: 1710.3494536\ttotal: 684ms\tremaining: 0us\n",
      "Learning rate set to 0.5\n",
      "0:\tlearn: 3252.9826350\ttotal: 27.4ms\tremaining: 794ms\n",
      "1:\tlearn: 2587.4303539\ttotal: 50.3ms\tremaining: 704ms\n",
      "2:\tlearn: 2297.1884828\ttotal: 72.2ms\tremaining: 650ms\n",
      "3:\tlearn: 2136.5473477\ttotal: 94.6ms\tremaining: 615ms\n",
      "4:\tlearn: 2063.7980929\ttotal: 121ms\tremaining: 607ms\n",
      "5:\tlearn: 2010.2552650\ttotal: 142ms\tremaining: 568ms\n",
      "6:\tlearn: 1964.1202699\ttotal: 163ms\tremaining: 536ms\n",
      "7:\tlearn: 1936.2569277\ttotal: 184ms\tremaining: 507ms\n",
      "8:\tlearn: 1904.5653371\ttotal: 206ms\tremaining: 480ms\n",
      "9:\tlearn: 1874.1947186\ttotal: 232ms\tremaining: 465ms\n",
      "10:\tlearn: 1857.4660800\ttotal: 253ms\tremaining: 436ms\n",
      "11:\tlearn: 1844.0520206\ttotal: 275ms\tremaining: 413ms\n",
      "12:\tlearn: 1828.3120053\ttotal: 298ms\tremaining: 390ms\n",
      "13:\tlearn: 1817.8759941\ttotal: 324ms\tremaining: 370ms\n",
      "14:\tlearn: 1808.2994643\ttotal: 344ms\tremaining: 344ms\n",
      "15:\tlearn: 1796.0416140\ttotal: 368ms\tremaining: 322ms\n",
      "16:\tlearn: 1789.1414466\ttotal: 389ms\tremaining: 298ms\n",
      "17:\tlearn: 1780.2024641\ttotal: 418ms\tremaining: 279ms\n",
      "18:\tlearn: 1773.8482009\ttotal: 439ms\tremaining: 254ms\n",
      "19:\tlearn: 1767.7316553\ttotal: 460ms\tremaining: 230ms\n",
      "20:\tlearn: 1754.3441549\ttotal: 483ms\tremaining: 207ms\n",
      "21:\tlearn: 1746.4887758\ttotal: 514ms\tremaining: 187ms\n",
      "22:\tlearn: 1740.1181539\ttotal: 535ms\tremaining: 163ms\n",
      "23:\tlearn: 1734.3237209\ttotal: 556ms\tremaining: 139ms\n",
      "24:\tlearn: 1729.7778491\ttotal: 577ms\tremaining: 115ms\n",
      "25:\tlearn: 1727.2299932\ttotal: 601ms\tremaining: 92.5ms\n",
      "26:\tlearn: 1720.6547078\ttotal: 622ms\tremaining: 69.1ms\n",
      "27:\tlearn: 1713.3269124\ttotal: 652ms\tremaining: 46.6ms\n",
      "28:\tlearn: 1706.4560882\ttotal: 673ms\tremaining: 23.2ms\n",
      "29:\tlearn: 1702.8189587\ttotal: 700ms\tremaining: 0us\n",
      "Learning rate set to 0.5\n",
      "0:\tlearn: 3245.1512175\ttotal: 25.6ms\tremaining: 1.25s\n",
      "1:\tlearn: 2581.4972524\ttotal: 49.4ms\tremaining: 1.19s\n",
      "2:\tlearn: 2292.1769482\ttotal: 73.2ms\tremaining: 1.15s\n",
      "3:\tlearn: 2135.0723143\ttotal: 95.2ms\tremaining: 1.09s\n",
      "4:\tlearn: 2061.7718579\ttotal: 117ms\tremaining: 1.05s\n",
      "5:\tlearn: 2009.5234215\ttotal: 140ms\tremaining: 1.03s\n",
      "6:\tlearn: 1958.3545073\ttotal: 161ms\tremaining: 988ms\n",
      "7:\tlearn: 1931.6462281\ttotal: 181ms\tremaining: 949ms\n",
      "8:\tlearn: 1897.6292697\ttotal: 202ms\tremaining: 918ms\n",
      "9:\tlearn: 1877.8651854\ttotal: 229ms\tremaining: 917ms\n",
      "10:\tlearn: 1856.8281535\ttotal: 250ms\tremaining: 888ms\n",
      "11:\tlearn: 1843.0787354\ttotal: 270ms\tremaining: 855ms\n",
      "12:\tlearn: 1831.2071034\ttotal: 290ms\tremaining: 826ms\n",
      "13:\tlearn: 1821.3977960\ttotal: 317ms\tremaining: 816ms\n",
      "14:\tlearn: 1807.4581458\ttotal: 339ms\tremaining: 792ms\n",
      "15:\tlearn: 1795.4299825\ttotal: 360ms\tremaining: 764ms\n",
      "16:\tlearn: 1782.4242414\ttotal: 380ms\tremaining: 738ms\n",
      "17:\tlearn: 1773.4117016\ttotal: 401ms\tremaining: 713ms\n",
      "18:\tlearn: 1760.1218695\ttotal: 427ms\tremaining: 697ms\n",
      "19:\tlearn: 1753.1519837\ttotal: 448ms\tremaining: 672ms\n",
      "20:\tlearn: 1742.8181605\ttotal: 467ms\tremaining: 645ms\n",
      "21:\tlearn: 1737.0005409\ttotal: 488ms\tremaining: 621ms\n",
      "22:\tlearn: 1731.9806604\ttotal: 514ms\tremaining: 604ms\n",
      "23:\tlearn: 1724.5636199\ttotal: 537ms\tremaining: 581ms\n",
      "24:\tlearn: 1718.5566152\ttotal: 559ms\tremaining: 559ms\n",
      "25:\tlearn: 1713.7717788\ttotal: 581ms\tremaining: 537ms\n",
      "26:\tlearn: 1711.3369445\ttotal: 609ms\tremaining: 518ms\n",
      "27:\tlearn: 1706.4765246\ttotal: 631ms\tremaining: 496ms\n",
      "28:\tlearn: 1702.8248007\ttotal: 653ms\tremaining: 473ms\n",
      "29:\tlearn: 1695.1739074\ttotal: 677ms\tremaining: 451ms\n",
      "30:\tlearn: 1688.8952522\ttotal: 699ms\tremaining: 429ms\n",
      "31:\tlearn: 1683.5875784\ttotal: 724ms\tremaining: 407ms\n",
      "32:\tlearn: 1678.1372699\ttotal: 746ms\tremaining: 384ms\n",
      "33:\tlearn: 1673.8691157\ttotal: 766ms\tremaining: 361ms\n",
      "34:\tlearn: 1669.6456974\ttotal: 787ms\tremaining: 337ms\n",
      "35:\tlearn: 1666.8899671\ttotal: 811ms\tremaining: 315ms\n",
      "36:\tlearn: 1662.7890011\ttotal: 831ms\tremaining: 292ms\n",
      "37:\tlearn: 1659.1766629\ttotal: 850ms\tremaining: 268ms\n",
      "38:\tlearn: 1653.6273853\ttotal: 873ms\tremaining: 246ms\n",
      "39:\tlearn: 1650.7556955\ttotal: 896ms\tremaining: 224ms\n",
      "40:\tlearn: 1646.8619829\ttotal: 919ms\tremaining: 202ms\n",
      "41:\tlearn: 1643.3814300\ttotal: 940ms\tremaining: 179ms\n",
      "42:\tlearn: 1639.6750910\ttotal: 960ms\tremaining: 156ms\n",
      "43:\tlearn: 1637.7873837\ttotal: 981ms\tremaining: 134ms\n",
      "44:\tlearn: 1634.4383984\ttotal: 1.01s\tremaining: 112ms\n",
      "45:\tlearn: 1632.2341212\ttotal: 1.03s\tremaining: 89.5ms\n",
      "46:\tlearn: 1628.3980242\ttotal: 1.05s\tremaining: 67.1ms\n",
      "47:\tlearn: 1626.3598118\ttotal: 1.07s\tremaining: 44.6ms\n",
      "48:\tlearn: 1624.8545670\ttotal: 1.1s\tremaining: 22.4ms\n",
      "49:\tlearn: 1622.7746180\ttotal: 1.12s\tremaining: 0us\n",
      "Learning rate set to 0.5\n",
      "0:\tlearn: 3248.9804406\ttotal: 27.7ms\tremaining: 1.35s\n",
      "1:\tlearn: 2571.4665404\ttotal: 52.5ms\tremaining: 1.26s\n",
      "2:\tlearn: 2281.3069365\ttotal: 74.1ms\tremaining: 1.16s\n",
      "3:\tlearn: 2138.6962090\ttotal: 95.5ms\tremaining: 1.1s\n",
      "4:\tlearn: 2061.2755002\ttotal: 116ms\tremaining: 1.05s\n",
      "5:\tlearn: 2015.6630263\ttotal: 139ms\tremaining: 1.02s\n",
      "6:\tlearn: 1981.5653395\ttotal: 163ms\tremaining: 999ms\n",
      "7:\tlearn: 1931.4077439\ttotal: 185ms\tremaining: 969ms\n",
      "8:\tlearn: 1905.0546637\ttotal: 207ms\tremaining: 941ms\n",
      "9:\tlearn: 1874.5735631\ttotal: 227ms\tremaining: 909ms\n",
      "10:\tlearn: 1855.0070493\ttotal: 257ms\tremaining: 912ms\n",
      "11:\tlearn: 1841.6927777\ttotal: 279ms\tremaining: 884ms\n",
      "12:\tlearn: 1828.4999615\ttotal: 301ms\tremaining: 855ms\n",
      "13:\tlearn: 1818.8217927\ttotal: 321ms\tremaining: 826ms\n",
      "14:\tlearn: 1808.5950420\ttotal: 348ms\tremaining: 811ms\n",
      "15:\tlearn: 1795.1195446\ttotal: 369ms\tremaining: 784ms\n",
      "16:\tlearn: 1783.5091006\ttotal: 390ms\tremaining: 758ms\n",
      "17:\tlearn: 1773.3797662\ttotal: 413ms\tremaining: 734ms\n",
      "18:\tlearn: 1766.4772727\ttotal: 437ms\tremaining: 713ms\n",
      "19:\tlearn: 1758.4125454\ttotal: 459ms\tremaining: 688ms\n",
      "20:\tlearn: 1749.2675647\ttotal: 479ms\tremaining: 661ms\n",
      "21:\tlearn: 1739.7390098\ttotal: 501ms\tremaining: 637ms\n",
      "22:\tlearn: 1734.2292141\ttotal: 523ms\tremaining: 614ms\n",
      "23:\tlearn: 1729.0285722\ttotal: 548ms\tremaining: 594ms\n",
      "24:\tlearn: 1723.7163182\ttotal: 568ms\tremaining: 568ms\n",
      "25:\tlearn: 1718.3665792\ttotal: 589ms\tremaining: 544ms\n",
      "26:\tlearn: 1712.2287656\ttotal: 611ms\tremaining: 521ms\n",
      "27:\tlearn: 1707.2850546\ttotal: 638ms\tremaining: 501ms\n",
      "28:\tlearn: 1704.4302851\ttotal: 658ms\tremaining: 477ms\n",
      "29:\tlearn: 1700.0952020\ttotal: 679ms\tremaining: 453ms\n",
      "30:\tlearn: 1693.3333239\ttotal: 700ms\tremaining: 429ms\n",
      "31:\tlearn: 1689.0434671\ttotal: 727ms\tremaining: 409ms\n",
      "32:\tlearn: 1686.1837107\ttotal: 750ms\tremaining: 387ms\n",
      "33:\tlearn: 1681.4086628\ttotal: 774ms\tremaining: 364ms\n",
      "34:\tlearn: 1676.9533658\ttotal: 795ms\tremaining: 341ms\n",
      "35:\tlearn: 1670.7850874\ttotal: 816ms\tremaining: 317ms\n",
      "36:\tlearn: 1665.3914330\ttotal: 842ms\tremaining: 296ms\n",
      "37:\tlearn: 1662.7132272\ttotal: 863ms\tremaining: 273ms\n",
      "38:\tlearn: 1658.7280090\ttotal: 885ms\tremaining: 250ms\n",
      "39:\tlearn: 1656.7960633\ttotal: 905ms\tremaining: 226ms\n",
      "40:\tlearn: 1654.0177475\ttotal: 933ms\tremaining: 205ms\n",
      "41:\tlearn: 1651.2986361\ttotal: 954ms\tremaining: 182ms\n",
      "42:\tlearn: 1648.1416640\ttotal: 978ms\tremaining: 159ms\n",
      "43:\tlearn: 1644.5942770\ttotal: 1s\tremaining: 136ms\n",
      "44:\tlearn: 1641.9453750\ttotal: 1.03s\tremaining: 114ms\n",
      "45:\tlearn: 1638.9976415\ttotal: 1.06s\tremaining: 92ms\n",
      "46:\tlearn: 1636.5381576\ttotal: 1.08s\tremaining: 68.7ms\n",
      "47:\tlearn: 1633.1661319\ttotal: 1.1s\tremaining: 45.8ms\n",
      "48:\tlearn: 1631.2073559\ttotal: 1.13s\tremaining: 23ms\n",
      "49:\tlearn: 1629.1140424\ttotal: 1.15s\tremaining: 0us\n",
      "Learning rate set to 0.5\n",
      "0:\tlearn: 3251.3825406\ttotal: 25.7ms\tremaining: 1.26s\n",
      "1:\tlearn: 2572.3718543\ttotal: 57.2ms\tremaining: 1.37s\n",
      "2:\tlearn: 2283.0513217\ttotal: 83.9ms\tremaining: 1.31s\n",
      "3:\tlearn: 2143.1649118\ttotal: 109ms\tremaining: 1.25s\n",
      "4:\tlearn: 2067.3931729\ttotal: 133ms\tremaining: 1.19s\n",
      "5:\tlearn: 2021.5954600\ttotal: 154ms\tremaining: 1.13s\n",
      "6:\tlearn: 1984.9941968\ttotal: 175ms\tremaining: 1.08s\n",
      "7:\tlearn: 1945.5125765\ttotal: 197ms\tremaining: 1.03s\n",
      "8:\tlearn: 1917.7583209\ttotal: 228ms\tremaining: 1.04s\n",
      "9:\tlearn: 1901.6109311\ttotal: 251ms\tremaining: 1s\n",
      "10:\tlearn: 1865.9186177\ttotal: 274ms\tremaining: 973ms\n",
      "11:\tlearn: 1848.1531409\ttotal: 299ms\tremaining: 947ms\n",
      "12:\tlearn: 1836.8827118\ttotal: 328ms\tremaining: 933ms\n",
      "13:\tlearn: 1827.5926369\ttotal: 359ms\tremaining: 923ms\n",
      "14:\tlearn: 1811.7002950\ttotal: 381ms\tremaining: 890ms\n",
      "15:\tlearn: 1799.8307011\ttotal: 407ms\tremaining: 865ms\n",
      "16:\tlearn: 1786.6355972\ttotal: 432ms\tremaining: 839ms\n",
      "17:\tlearn: 1775.8633062\ttotal: 454ms\tremaining: 807ms\n",
      "18:\tlearn: 1764.1028622\ttotal: 475ms\tremaining: 775ms\n",
      "19:\tlearn: 1756.9303220\ttotal: 500ms\tremaining: 750ms\n",
      "20:\tlearn: 1751.7774587\ttotal: 525ms\tremaining: 725ms\n",
      "21:\tlearn: 1744.5007508\ttotal: 546ms\tremaining: 695ms\n",
      "22:\tlearn: 1739.2204342\ttotal: 566ms\tremaining: 665ms\n",
      "23:\tlearn: 1733.3543008\ttotal: 588ms\tremaining: 637ms\n",
      "24:\tlearn: 1727.0156266\ttotal: 614ms\tremaining: 614ms\n",
      "25:\tlearn: 1719.6594416\ttotal: 635ms\tremaining: 586ms\n",
      "26:\tlearn: 1714.1318839\ttotal: 655ms\tremaining: 558ms\n",
      "27:\tlearn: 1708.4377749\ttotal: 677ms\tremaining: 532ms\n",
      "28:\tlearn: 1705.7510680\ttotal: 703ms\tremaining: 509ms\n",
      "29:\tlearn: 1699.7078514\ttotal: 726ms\tremaining: 484ms\n",
      "30:\tlearn: 1694.9437711\ttotal: 748ms\tremaining: 458ms\n",
      "31:\tlearn: 1691.2814631\ttotal: 769ms\tremaining: 433ms\n",
      "32:\tlearn: 1686.4775957\ttotal: 797ms\tremaining: 410ms\n",
      "33:\tlearn: 1682.7401895\ttotal: 817ms\tremaining: 385ms\n",
      "34:\tlearn: 1679.1634784\ttotal: 840ms\tremaining: 360ms\n",
      "35:\tlearn: 1675.7273543\ttotal: 860ms\tremaining: 335ms\n",
      "36:\tlearn: 1670.7100352\ttotal: 880ms\tremaining: 309ms\n",
      "37:\tlearn: 1666.8079803\ttotal: 904ms\tremaining: 286ms\n",
      "38:\tlearn: 1665.1037869\ttotal: 924ms\tremaining: 261ms\n",
      "39:\tlearn: 1661.5754997\ttotal: 945ms\tremaining: 236ms\n",
      "40:\tlearn: 1658.9889243\ttotal: 964ms\tremaining: 212ms\n",
      "41:\tlearn: 1656.0460984\ttotal: 987ms\tremaining: 188ms\n",
      "42:\tlearn: 1653.0382968\ttotal: 1.01s\tremaining: 164ms\n",
      "43:\tlearn: 1649.4087655\ttotal: 1.03s\tremaining: 140ms\n",
      "44:\tlearn: 1644.9178381\ttotal: 1.05s\tremaining: 116ms\n",
      "45:\tlearn: 1641.3948203\ttotal: 1.07s\tremaining: 93.5ms\n",
      "46:\tlearn: 1638.2616648\ttotal: 1.1s\tremaining: 70.2ms\n",
      "47:\tlearn: 1635.9184438\ttotal: 1.12s\tremaining: 46.7ms\n",
      "48:\tlearn: 1633.1729247\ttotal: 1.14s\tremaining: 23.3ms\n",
      "49:\tlearn: 1631.0668786\ttotal: 1.16s\tremaining: 0us\n",
      "Learning rate set to 0.5\n",
      "0:\tlearn: 3252.4801511\ttotal: 23.8ms\tremaining: 1.17s\n",
      "1:\tlearn: 2584.4346396\ttotal: 46.4ms\tremaining: 1.11s\n",
      "2:\tlearn: 2294.2512961\ttotal: 67ms\tremaining: 1.05s\n",
      "3:\tlearn: 2153.2004585\ttotal: 86.9ms\tremaining: 1000ms\n",
      "4:\tlearn: 2072.2949663\ttotal: 113ms\tremaining: 1.02s\n",
      "5:\tlearn: 2012.9480965\ttotal: 136ms\tremaining: 1000ms\n",
      "6:\tlearn: 1973.4164389\ttotal: 157ms\tremaining: 963ms\n",
      "7:\tlearn: 1934.7110273\ttotal: 178ms\tremaining: 932ms\n",
      "8:\tlearn: 1904.4091033\ttotal: 199ms\tremaining: 907ms\n",
      "9:\tlearn: 1882.6697715\ttotal: 224ms\tremaining: 897ms\n",
      "10:\tlearn: 1860.5762747\ttotal: 246ms\tremaining: 870ms\n",
      "11:\tlearn: 1847.8385074\ttotal: 272ms\tremaining: 860ms\n",
      "12:\tlearn: 1837.5934089\ttotal: 294ms\tremaining: 837ms\n",
      "13:\tlearn: 1827.6315027\ttotal: 322ms\tremaining: 829ms\n",
      "14:\tlearn: 1818.2054869\ttotal: 353ms\tremaining: 824ms\n",
      "15:\tlearn: 1810.6006481\ttotal: 375ms\tremaining: 796ms\n",
      "16:\tlearn: 1800.4327920\ttotal: 399ms\tremaining: 774ms\n",
      "17:\tlearn: 1788.9393304\ttotal: 423ms\tremaining: 752ms\n",
      "18:\tlearn: 1781.6938987\ttotal: 445ms\tremaining: 726ms\n",
      "19:\tlearn: 1767.4381793\ttotal: 468ms\tremaining: 703ms\n",
      "20:\tlearn: 1762.0271109\ttotal: 491ms\tremaining: 677ms\n",
      "21:\tlearn: 1755.4503393\ttotal: 518ms\tremaining: 659ms\n",
      "22:\tlearn: 1746.9850794\ttotal: 539ms\tremaining: 633ms\n",
      "23:\tlearn: 1740.9374899\ttotal: 562ms\tremaining: 608ms\n",
      "24:\tlearn: 1732.3672639\ttotal: 591ms\tremaining: 591ms\n",
      "25:\tlearn: 1728.8744181\ttotal: 617ms\tremaining: 570ms\n",
      "26:\tlearn: 1725.3542264\ttotal: 641ms\tremaining: 546ms\n",
      "27:\tlearn: 1722.1222034\ttotal: 662ms\tremaining: 520ms\n",
      "28:\tlearn: 1716.1453587\ttotal: 687ms\tremaining: 497ms\n",
      "29:\tlearn: 1710.3494536\ttotal: 714ms\tremaining: 476ms\n",
      "30:\tlearn: 1706.9495191\ttotal: 741ms\tremaining: 454ms\n",
      "31:\tlearn: 1703.0232056\ttotal: 765ms\tremaining: 430ms\n",
      "32:\tlearn: 1698.7342433\ttotal: 788ms\tremaining: 406ms\n",
      "33:\tlearn: 1691.7325480\ttotal: 820ms\tremaining: 386ms\n",
      "34:\tlearn: 1686.9134035\ttotal: 852ms\tremaining: 365ms\n",
      "35:\tlearn: 1681.1364390\ttotal: 879ms\tremaining: 342ms\n",
      "36:\tlearn: 1676.5835986\ttotal: 906ms\tremaining: 318ms\n",
      "37:\tlearn: 1673.5230280\ttotal: 927ms\tremaining: 293ms\n",
      "38:\tlearn: 1671.0950586\ttotal: 948ms\tremaining: 267ms\n",
      "39:\tlearn: 1667.4212891\ttotal: 973ms\tremaining: 243ms\n",
      "40:\tlearn: 1664.8378804\ttotal: 1s\tremaining: 220ms\n",
      "41:\tlearn: 1661.5818378\ttotal: 1.02s\tremaining: 195ms\n",
      "42:\tlearn: 1658.3559226\ttotal: 1.04s\tremaining: 170ms\n",
      "43:\tlearn: 1656.6014637\ttotal: 1.07s\tremaining: 146ms\n",
      "44:\tlearn: 1653.6691327\ttotal: 1.09s\tremaining: 122ms\n",
      "45:\tlearn: 1649.9335500\ttotal: 1.12s\tremaining: 97.2ms\n",
      "46:\tlearn: 1647.0762615\ttotal: 1.14s\tremaining: 72.8ms\n",
      "47:\tlearn: 1643.1583791\ttotal: 1.17s\tremaining: 48.6ms\n",
      "48:\tlearn: 1640.5731129\ttotal: 1.2s\tremaining: 24.4ms\n",
      "49:\tlearn: 1637.6801438\ttotal: 1.22s\tremaining: 0us\n",
      "Learning rate set to 0.5\n",
      "0:\tlearn: 3252.9826350\ttotal: 36.5ms\tremaining: 1.79s\n",
      "1:\tlearn: 2587.4303539\ttotal: 62.7ms\tremaining: 1.5s\n",
      "2:\tlearn: 2297.1884828\ttotal: 82.9ms\tremaining: 1.3s\n",
      "3:\tlearn: 2136.5473477\ttotal: 104ms\tremaining: 1.2s\n",
      "4:\tlearn: 2063.7980929\ttotal: 128ms\tremaining: 1.15s\n",
      "5:\tlearn: 2010.2552650\ttotal: 149ms\tremaining: 1.09s\n",
      "6:\tlearn: 1964.1202699\ttotal: 171ms\tremaining: 1.05s\n",
      "7:\tlearn: 1936.2569277\ttotal: 194ms\tremaining: 1.02s\n",
      "8:\tlearn: 1904.5653371\ttotal: 222ms\tremaining: 1.01s\n",
      "9:\tlearn: 1874.1947186\ttotal: 245ms\tremaining: 979ms\n",
      "10:\tlearn: 1857.4660800\ttotal: 265ms\tremaining: 939ms\n",
      "11:\tlearn: 1844.0520206\ttotal: 287ms\tremaining: 908ms\n",
      "12:\tlearn: 1828.3120053\ttotal: 316ms\tremaining: 899ms\n",
      "13:\tlearn: 1817.8759941\ttotal: 336ms\tremaining: 865ms\n",
      "14:\tlearn: 1808.2994643\ttotal: 355ms\tremaining: 829ms\n",
      "15:\tlearn: 1796.0416140\ttotal: 374ms\tremaining: 795ms\n",
      "16:\tlearn: 1789.1414466\ttotal: 394ms\tremaining: 765ms\n",
      "17:\tlearn: 1780.2024641\ttotal: 417ms\tremaining: 741ms\n",
      "18:\tlearn: 1773.8482009\ttotal: 437ms\tremaining: 712ms\n",
      "19:\tlearn: 1767.7316553\ttotal: 456ms\tremaining: 684ms\n",
      "20:\tlearn: 1754.3441549\ttotal: 478ms\tremaining: 660ms\n",
      "21:\tlearn: 1746.4887758\ttotal: 505ms\tremaining: 643ms\n",
      "22:\tlearn: 1740.1181539\ttotal: 536ms\tremaining: 630ms\n",
      "23:\tlearn: 1734.3237209\ttotal: 569ms\tremaining: 617ms\n",
      "24:\tlearn: 1729.7778491\ttotal: 591ms\tremaining: 591ms\n",
      "25:\tlearn: 1727.2299932\ttotal: 615ms\tremaining: 568ms\n",
      "26:\tlearn: 1720.6547078\ttotal: 636ms\tremaining: 542ms\n",
      "27:\tlearn: 1713.3269124\ttotal: 658ms\tremaining: 517ms\n",
      "28:\tlearn: 1706.4560882\ttotal: 684ms\tremaining: 495ms\n",
      "29:\tlearn: 1702.8189587\ttotal: 712ms\tremaining: 475ms\n",
      "30:\tlearn: 1698.4576447\ttotal: 737ms\tremaining: 452ms\n",
      "31:\tlearn: 1695.3409184\ttotal: 766ms\tremaining: 431ms\n",
      "32:\tlearn: 1688.7988416\ttotal: 792ms\tremaining: 408ms\n",
      "33:\tlearn: 1684.0850080\ttotal: 822ms\tremaining: 387ms\n",
      "34:\tlearn: 1679.5039557\ttotal: 844ms\tremaining: 362ms\n",
      "35:\tlearn: 1674.8587172\ttotal: 867ms\tremaining: 337ms\n",
      "36:\tlearn: 1671.9863773\ttotal: 893ms\tremaining: 314ms\n",
      "37:\tlearn: 1666.0873426\ttotal: 916ms\tremaining: 289ms\n",
      "38:\tlearn: 1662.7129775\ttotal: 938ms\tremaining: 264ms\n",
      "39:\tlearn: 1659.4888141\ttotal: 965ms\tremaining: 241ms\n",
      "40:\tlearn: 1654.5852377\ttotal: 994ms\tremaining: 218ms\n",
      "41:\tlearn: 1651.4105469\ttotal: 1.01s\tremaining: 193ms\n",
      "42:\tlearn: 1648.9741140\ttotal: 1.04s\tremaining: 169ms\n",
      "43:\tlearn: 1645.9596897\ttotal: 1.05s\tremaining: 144ms\n",
      "44:\tlearn: 1643.7559793\ttotal: 1.08s\tremaining: 120ms\n",
      "45:\tlearn: 1641.9796440\ttotal: 1.1s\tremaining: 95.7ms\n",
      "46:\tlearn: 1638.3670820\ttotal: 1.12s\tremaining: 71.7ms\n",
      "47:\tlearn: 1636.0617134\ttotal: 1.14s\tremaining: 47.6ms\n",
      "48:\tlearn: 1633.3541277\ttotal: 1.16s\tremaining: 23.7ms\n",
      "49:\tlearn: 1630.2769498\ttotal: 1.19s\tremaining: 0us\n",
      "Learning rate set to 0.5\n",
      "0:\tlearn: 3228.1306357\ttotal: 30.2ms\tremaining: 1.48s\n",
      "1:\tlearn: 2567.3781736\ttotal: 57.2ms\tremaining: 1.37s\n",
      "2:\tlearn: 2296.1542391\ttotal: 83.3ms\tremaining: 1.3s\n",
      "3:\tlearn: 2135.0397689\ttotal: 112ms\tremaining: 1.29s\n",
      "4:\tlearn: 2062.2207791\ttotal: 137ms\tremaining: 1.23s\n",
      "5:\tlearn: 1997.9017049\ttotal: 167ms\tremaining: 1.22s\n",
      "6:\tlearn: 1966.9420887\ttotal: 198ms\tremaining: 1.21s\n",
      "7:\tlearn: 1933.8342859\ttotal: 223ms\tremaining: 1.17s\n",
      "8:\tlearn: 1903.3362488\ttotal: 253ms\tremaining: 1.15s\n",
      "9:\tlearn: 1878.9399660\ttotal: 285ms\tremaining: 1.14s\n",
      "10:\tlearn: 1857.5270577\ttotal: 313ms\tremaining: 1.11s\n",
      "11:\tlearn: 1844.5681014\ttotal: 337ms\tremaining: 1.07s\n",
      "12:\tlearn: 1829.1268182\ttotal: 363ms\tremaining: 1.03s\n",
      "13:\tlearn: 1819.7782873\ttotal: 394ms\tremaining: 1.01s\n",
      "14:\tlearn: 1808.8953569\ttotal: 420ms\tremaining: 981ms\n",
      "15:\tlearn: 1795.7476387\ttotal: 447ms\tremaining: 950ms\n",
      "16:\tlearn: 1782.2645363\ttotal: 479ms\tremaining: 929ms\n",
      "17:\tlearn: 1772.2973803\ttotal: 510ms\tremaining: 906ms\n",
      "18:\tlearn: 1764.1748422\ttotal: 536ms\tremaining: 874ms\n",
      "19:\tlearn: 1753.9616536\ttotal: 563ms\tremaining: 844ms\n",
      "20:\tlearn: 1746.5427764\ttotal: 593ms\tremaining: 820ms\n",
      "21:\tlearn: 1740.4878474\ttotal: 620ms\tremaining: 790ms\n",
      "22:\tlearn: 1737.0246273\ttotal: 645ms\tremaining: 757ms\n",
      "23:\tlearn: 1733.3879511\ttotal: 676ms\tremaining: 732ms\n",
      "24:\tlearn: 1727.3013100\ttotal: 705ms\tremaining: 705ms\n",
      "25:\tlearn: 1720.8006985\ttotal: 731ms\tremaining: 675ms\n",
      "26:\tlearn: 1716.1159833\ttotal: 759ms\tremaining: 647ms\n",
      "27:\tlearn: 1709.4411579\ttotal: 799ms\tremaining: 628ms\n",
      "28:\tlearn: 1704.3499978\ttotal: 827ms\tremaining: 599ms\n",
      "29:\tlearn: 1699.7987385\ttotal: 857ms\tremaining: 571ms\n",
      "30:\tlearn: 1694.7981063\ttotal: 902ms\tremaining: 553ms\n",
      "31:\tlearn: 1690.8720479\ttotal: 944ms\tremaining: 531ms\n",
      "32:\tlearn: 1687.2460161\ttotal: 987ms\tremaining: 509ms\n",
      "33:\tlearn: 1685.2585092\ttotal: 1.02s\tremaining: 482ms\n",
      "34:\tlearn: 1679.4191380\ttotal: 1.05s\tremaining: 451ms\n",
      "35:\tlearn: 1674.5818459\ttotal: 1.08s\tremaining: 421ms\n",
      "36:\tlearn: 1671.5016951\ttotal: 1.11s\tremaining: 390ms\n",
      "37:\tlearn: 1667.2559885\ttotal: 1.14s\tremaining: 360ms\n",
      "38:\tlearn: 1664.3816614\ttotal: 1.17s\tremaining: 330ms\n",
      "39:\tlearn: 1661.1044982\ttotal: 1.2s\tremaining: 299ms\n",
      "40:\tlearn: 1657.0273537\ttotal: 1.22s\tremaining: 269ms\n",
      "41:\tlearn: 1654.6704419\ttotal: 1.25s\tremaining: 238ms\n",
      "42:\tlearn: 1649.4762394\ttotal: 1.28s\tremaining: 209ms\n",
      "43:\tlearn: 1646.6767793\ttotal: 1.3s\tremaining: 178ms\n",
      "44:\tlearn: 1643.2780434\ttotal: 1.33s\tremaining: 148ms\n",
      "45:\tlearn: 1640.3031267\ttotal: 1.37s\tremaining: 119ms\n",
      "46:\tlearn: 1638.6446018\ttotal: 1.39s\tremaining: 88.8ms\n",
      "47:\tlearn: 1634.8136395\ttotal: 1.42s\tremaining: 59ms\n",
      "48:\tlearn: 1631.7810031\ttotal: 1.44s\tremaining: 29.5ms\n",
      "49:\tlearn: 1628.5499697\ttotal: 1.47s\tremaining: 0us\n",
      "Learning rate set to 0.5\n",
      "0:\tlearn: 3228.1306357\ttotal: 33.2ms\tremaining: 1.63s\n",
      "1:\tlearn: 2567.3781736\ttotal: 62.7ms\tremaining: 1.5s\n",
      "2:\tlearn: 2296.1542391\ttotal: 92.2ms\tremaining: 1.45s\n",
      "3:\tlearn: 2135.0397689\ttotal: 121ms\tremaining: 1.39s\n",
      "4:\tlearn: 2062.2207791\ttotal: 146ms\tremaining: 1.32s\n",
      "5:\tlearn: 1997.9017049\ttotal: 174ms\tremaining: 1.27s\n",
      "6:\tlearn: 1966.9420887\ttotal: 206ms\tremaining: 1.26s\n",
      "7:\tlearn: 1933.8342859\ttotal: 230ms\tremaining: 1.21s\n",
      "8:\tlearn: 1903.3362488\ttotal: 257ms\tremaining: 1.17s\n",
      "9:\tlearn: 1878.9399660\ttotal: 286ms\tremaining: 1.14s\n",
      "10:\tlearn: 1857.5270577\ttotal: 317ms\tremaining: 1.13s\n",
      "11:\tlearn: 1844.5681014\ttotal: 344ms\tremaining: 1.09s\n",
      "12:\tlearn: 1829.1268182\ttotal: 371ms\tremaining: 1.05s\n",
      "13:\tlearn: 1819.7782873\ttotal: 406ms\tremaining: 1.04s\n",
      "14:\tlearn: 1808.8953569\ttotal: 432ms\tremaining: 1.01s\n",
      "15:\tlearn: 1795.7476387\ttotal: 460ms\tremaining: 978ms\n",
      "16:\tlearn: 1782.2645363\ttotal: 498ms\tremaining: 966ms\n",
      "17:\tlearn: 1772.2973803\ttotal: 527ms\tremaining: 937ms\n",
      "18:\tlearn: 1764.1748422\ttotal: 553ms\tremaining: 903ms\n",
      "19:\tlearn: 1753.9616536\ttotal: 587ms\tremaining: 880ms\n",
      "20:\tlearn: 1746.5427764\ttotal: 623ms\tremaining: 860ms\n",
      "21:\tlearn: 1740.4878474\ttotal: 652ms\tremaining: 830ms\n",
      "22:\tlearn: 1737.0246273\ttotal: 679ms\tremaining: 797ms\n",
      "23:\tlearn: 1733.3879511\ttotal: 708ms\tremaining: 767ms\n",
      "24:\tlearn: 1727.3013100\ttotal: 735ms\tremaining: 735ms\n",
      "25:\tlearn: 1720.8006985\ttotal: 762ms\tremaining: 703ms\n",
      "26:\tlearn: 1716.1159833\ttotal: 794ms\tremaining: 676ms\n",
      "27:\tlearn: 1709.4411579\ttotal: 824ms\tremaining: 648ms\n",
      "28:\tlearn: 1704.3499978\ttotal: 851ms\tremaining: 616ms\n",
      "29:\tlearn: 1699.7987385\ttotal: 878ms\tremaining: 586ms\n",
      "30:\tlearn: 1694.7981063\ttotal: 909ms\tremaining: 557ms\n",
      "31:\tlearn: 1690.8720479\ttotal: 935ms\tremaining: 526ms\n",
      "32:\tlearn: 1687.2460161\ttotal: 961ms\tremaining: 495ms\n",
      "33:\tlearn: 1685.2585092\ttotal: 995ms\tremaining: 468ms\n",
      "34:\tlearn: 1679.4191380\ttotal: 1.02s\tremaining: 438ms\n",
      "35:\tlearn: 1674.5818459\ttotal: 1.05s\tremaining: 407ms\n",
      "36:\tlearn: 1671.5016951\ttotal: 1.07s\tremaining: 378ms\n",
      "37:\tlearn: 1667.2559885\ttotal: 1.1s\tremaining: 349ms\n",
      "38:\tlearn: 1664.3816614\ttotal: 1.13s\tremaining: 319ms\n",
      "39:\tlearn: 1661.1044982\ttotal: 1.16s\tremaining: 289ms\n",
      "40:\tlearn: 1657.0273537\ttotal: 1.19s\tremaining: 261ms\n",
      "41:\tlearn: 1654.6704419\ttotal: 1.22s\tremaining: 231ms\n",
      "42:\tlearn: 1649.4762394\ttotal: 1.24s\tremaining: 202ms\n",
      "43:\tlearn: 1646.6767793\ttotal: 1.27s\tremaining: 173ms\n",
      "44:\tlearn: 1643.2780434\ttotal: 1.3s\tremaining: 145ms\n",
      "45:\tlearn: 1640.3031267\ttotal: 1.33s\tremaining: 116ms\n",
      "46:\tlearn: 1638.6446018\ttotal: 1.36s\tremaining: 86.6ms\n",
      "47:\tlearn: 1634.8136395\ttotal: 1.39s\tremaining: 57.8ms\n",
      "48:\tlearn: 1631.7810031\ttotal: 1.41s\tremaining: 28.9ms\n",
      "49:\tlearn: 1628.5499697\ttotal: 1.44s\tremaining: 0us\n"
     ]
    }
   ],
   "source": [
    "param_grid_catboost = {\n",
    "    'catboost__iterations': [10, 30, 50],\n",
    "}\n",
    "\n",
    "best_params_catboost, execution_time_catboost, rmse_catboost, model_catboost, prediction_time_catboost, retrain_duration_catboost = \\\n",
    "optimize_model_with_grid_search(pipeline_catboost, param_grid_catboost, features_train, target_train)"
   ]
  },
  {
   "cell_type": "markdown",
   "metadata": {
    "id": "WxD0irgbb7g2"
   },
   "source": [
    "## Анализ моделей"
   ]
  },
  {
   "cell_type": "markdown",
   "metadata": {
    "id": "cITAh6QPb7g3"
   },
   "source": [
    "**Создадим общий список моделей с их параметрами, временем и значением метрики rmse.**"
   ]
  },
  {
   "cell_type": "code",
   "execution_count": 44,
   "metadata": {
    "id": "edWM0ISRb7g3"
   },
   "outputs": [
    {
     "data": {
      "text/html": [
       "<div>\n",
       "<style scoped>\n",
       "    .dataframe tbody tr th:only-of-type {\n",
       "        vertical-align: middle;\n",
       "    }\n",
       "\n",
       "    .dataframe tbody tr th {\n",
       "        vertical-align: top;\n",
       "    }\n",
       "\n",
       "    .dataframe thead th {\n",
       "        text-align: right;\n",
       "    }\n",
       "</style>\n",
       "<table border=\"1\" class=\"dataframe\">\n",
       "  <thead>\n",
       "    <tr style=\"text-align: right;\">\n",
       "      <th></th>\n",
       "      <th>Model</th>\n",
       "      <th>Best Params</th>\n",
       "      <th>Execution Time (s)</th>\n",
       "      <th>RMSE</th>\n",
       "      <th>Prediction Time (s)</th>\n",
       "      <th>Retrain_duration_time (s)</th>\n",
       "    </tr>\n",
       "  </thead>\n",
       "  <tbody>\n",
       "    <tr>\n",
       "      <th>0</th>\n",
       "      <td>LightGBM</td>\n",
       "      <td>{'lgbm__num_leaves': 70, 'lgbm__max_depth': 7}</td>\n",
       "      <td>269.139277</td>\n",
       "      <td>1578.007232</td>\n",
       "      <td>2.200374</td>\n",
       "      <td>9.001077</td>\n",
       "    </tr>\n",
       "    <tr>\n",
       "      <th>1</th>\n",
       "      <td>LinearRegression</td>\n",
       "      <td>{}</td>\n",
       "      <td>173.485562</td>\n",
       "      <td>2371.288946</td>\n",
       "      <td>0.639755</td>\n",
       "      <td>23.605963</td>\n",
       "    </tr>\n",
       "    <tr>\n",
       "      <th>2</th>\n",
       "      <td>CatBoost</td>\n",
       "      <td>{'catboost__iterations': 50}</td>\n",
       "      <td>39.631221</td>\n",
       "      <td>1655.160309</td>\n",
       "      <td>0.963522</td>\n",
       "      <td>3.073948</td>\n",
       "    </tr>\n",
       "  </tbody>\n",
       "</table>\n",
       "</div>"
      ],
      "text/plain": [
       "              Model                                     Best Params  \\\n",
       "0          LightGBM  {'lgbm__num_leaves': 70, 'lgbm__max_depth': 7}   \n",
       "1  LinearRegression                                              {}   \n",
       "2          CatBoost                    {'catboost__iterations': 50}   \n",
       "\n",
       "   Execution Time (s)         RMSE  Prediction Time (s)  \\\n",
       "0          269.139277  1578.007232             2.200374   \n",
       "1          173.485562  2371.288946             0.639755   \n",
       "2           39.631221  1655.160309             0.963522   \n",
       "\n",
       "   Retrain_duration_time (s)  \n",
       "0                   9.001077  \n",
       "1                  23.605963  \n",
       "2                   3.073948  "
      ]
     },
     "metadata": {},
     "output_type": "display_data"
    }
   ],
   "source": [
    "results = {\n",
    "    \"Model\": [\"LightGBM\", \"LinearRegression\", \"CatBoost\"],\n",
    "    \"Best Params\": [\n",
    "        best_params_lgbm,\n",
    "        best_params_linear,\n",
    "        best_params_catboost\n",
    "    ],\n",
    "    \"Execution Time (s)\": [\n",
    "        execution_time_lgbm,\n",
    "        execution_time_linear,\n",
    "        execution_time_catboost\n",
    "    ],\n",
    "    \"RMSE\": [\n",
    "        rmse_lgbm,\n",
    "        rmse_linear,\n",
    "        rmse_catboost\n",
    "    ],\n",
    "    \"Prediction Time (s)\": [\n",
    "        prediction_time_lgbm,\n",
    "        prediction_time_linear,\n",
    "        prediction_time_catboost\n",
    "    ],\n",
    "    \"Retrain_duration_time (s)\": [\n",
    "        retrain_duration_lgbm,\n",
    "        retrain_duration_linear,\n",
    "        retrain_duration_catboost\n",
    "    ]\n",
    "}\n",
    "\n",
    "results_df = pd.DataFrame(results)\n",
    "\n",
    "display(results_df)"
   ]
  },
  {
   "cell_type": "markdown",
   "metadata": {
    "id": "QnsAtExSb7g3"
   },
   "source": [
    "**Исходя из этих данных:**\n",
    "\n",
    "* *LinearRegression* показывает наихудшее качество предсказаний (наибольшее RMSE), но обучается быстрее всех и имеет самое короткое время предсказания.\n",
    "* *LightGBM* имеет лучшее качество предсказаний (наименьшее RMSE), но время обучения у неё самое долгое, хотя время предсказания довольно короткое.\n",
    "* *CatBoost* занимает среднее положение по качеству предсказаний и времени обучения между LightGBM и Random Forest, и у неё среднее время предсказания.\n",
    "\n",
    "\n",
    "Если для заказчика первостепенное значение имеет качество предсказания, то LightGBM будет лучшим выбором, несмотря на долгое время обучения. Если важно время обучения и предсказания, но можно пожертвовать некоторым качеством предсказания, то CatBoost может быть оптимальным выбором, так как он обеспечивает баланс между временем и качеством. Random Forest может быть выбран, если важны скорость обучения и предсказания, а качество предсказаний менее критично."
   ]
  },
  {
   "cell_type": "markdown",
   "metadata": {
    "id": "iDWdbBGsb7g4"
   },
   "source": [
    "Проверим модель на выборке test"
   ]
  },
  {
   "cell_type": "code",
   "execution_count": 45,
   "metadata": {
    "id": "CUm7-qqOb7g4",
    "scrolled": true
   },
   "outputs": [
    {
     "name": "stdout",
     "output_type": "stream",
     "text": [
      "Learning rate set to 0.095109\n",
      "0:\tlearn: 4315.3120928\ttotal: 26.2ms\tremaining: 26.2s\n",
      "1:\tlearn: 4050.9057822\ttotal: 53.4ms\tremaining: 26.6s\n",
      "2:\tlearn: 3818.8877626\ttotal: 80.3ms\tremaining: 26.7s\n",
      "3:\tlearn: 3610.9736793\ttotal: 109ms\tremaining: 27s\n",
      "4:\tlearn: 3423.9389784\ttotal: 134ms\tremaining: 26.7s\n",
      "5:\tlearn: 3258.4606839\ttotal: 160ms\tremaining: 26.6s\n",
      "6:\tlearn: 3108.9760712\ttotal: 193ms\tremaining: 27.4s\n",
      "7:\tlearn: 2982.3795279\ttotal: 221ms\tremaining: 27.4s\n",
      "8:\tlearn: 2867.1117767\ttotal: 250ms\tremaining: 27.6s\n",
      "9:\tlearn: 2772.1414508\ttotal: 284ms\tremaining: 28.2s\n",
      "10:\tlearn: 2679.7762008\ttotal: 325ms\tremaining: 29.2s\n",
      "11:\tlearn: 2599.2787310\ttotal: 355ms\tremaining: 29.2s\n",
      "12:\tlearn: 2531.3734334\ttotal: 386ms\tremaining: 29.3s\n",
      "13:\tlearn: 2468.7629009\ttotal: 412ms\tremaining: 29s\n",
      "14:\tlearn: 2415.8118138\ttotal: 439ms\tremaining: 28.8s\n",
      "15:\tlearn: 2369.2203347\ttotal: 466ms\tremaining: 28.6s\n",
      "16:\tlearn: 2324.7737961\ttotal: 497ms\tremaining: 28.7s\n",
      "17:\tlearn: 2283.1904247\ttotal: 523ms\tremaining: 28.5s\n",
      "18:\tlearn: 2248.1171036\ttotal: 549ms\tremaining: 28.3s\n",
      "19:\tlearn: 2217.3548375\ttotal: 582ms\tremaining: 28.5s\n",
      "20:\tlearn: 2188.2493936\ttotal: 609ms\tremaining: 28.4s\n",
      "21:\tlearn: 2163.1388373\ttotal: 639ms\tremaining: 28.4s\n",
      "22:\tlearn: 2136.3072397\ttotal: 665ms\tremaining: 28.2s\n",
      "23:\tlearn: 2116.4207043\ttotal: 696ms\tremaining: 28.3s\n",
      "24:\tlearn: 2096.3061862\ttotal: 722ms\tremaining: 28.2s\n",
      "25:\tlearn: 2076.8817113\ttotal: 750ms\tremaining: 28.1s\n",
      "26:\tlearn: 2061.9457400\ttotal: 781ms\tremaining: 28.2s\n",
      "27:\tlearn: 2043.4202181\ttotal: 812ms\tremaining: 28.2s\n",
      "28:\tlearn: 2029.3502427\ttotal: 838ms\tremaining: 28.1s\n",
      "29:\tlearn: 2013.3181736\ttotal: 869ms\tremaining: 28.1s\n",
      "30:\tlearn: 1998.7894406\ttotal: 895ms\tremaining: 28s\n",
      "31:\tlearn: 1987.0645192\ttotal: 929ms\tremaining: 28.1s\n",
      "32:\tlearn: 1976.7665987\ttotal: 973ms\tremaining: 28.5s\n",
      "33:\tlearn: 1966.6720279\ttotal: 1.01s\tremaining: 28.6s\n",
      "34:\tlearn: 1954.9446471\ttotal: 1.03s\tremaining: 28.5s\n",
      "35:\tlearn: 1945.3928721\ttotal: 1.06s\tremaining: 28.4s\n",
      "36:\tlearn: 1936.8057683\ttotal: 1.08s\tremaining: 28.3s\n",
      "37:\tlearn: 1930.4008757\ttotal: 1.11s\tremaining: 28.1s\n",
      "38:\tlearn: 1920.8327187\ttotal: 1.14s\tremaining: 28s\n",
      "39:\tlearn: 1912.6842105\ttotal: 1.17s\tremaining: 28.1s\n",
      "40:\tlearn: 1904.8566705\ttotal: 1.2s\tremaining: 28s\n",
      "41:\tlearn: 1898.5920403\ttotal: 1.22s\tremaining: 27.9s\n",
      "42:\tlearn: 1892.6603114\ttotal: 1.25s\tremaining: 27.8s\n",
      "43:\tlearn: 1885.4687672\ttotal: 1.28s\tremaining: 27.7s\n",
      "44:\tlearn: 1880.0995475\ttotal: 1.3s\tremaining: 27.6s\n",
      "45:\tlearn: 1876.1263938\ttotal: 1.32s\tremaining: 27.5s\n",
      "46:\tlearn: 1872.3133617\ttotal: 1.35s\tremaining: 27.4s\n",
      "47:\tlearn: 1866.1457264\ttotal: 1.38s\tremaining: 27.4s\n",
      "48:\tlearn: 1861.5758860\ttotal: 1.41s\tremaining: 27.3s\n",
      "49:\tlearn: 1855.4154279\ttotal: 1.43s\tremaining: 27.2s\n",
      "50:\tlearn: 1850.0829216\ttotal: 1.46s\tremaining: 27.2s\n",
      "51:\tlearn: 1846.4955500\ttotal: 1.49s\tremaining: 27.1s\n",
      "52:\tlearn: 1842.4300778\ttotal: 1.51s\tremaining: 27s\n",
      "53:\tlearn: 1838.1785838\ttotal: 1.54s\tremaining: 27s\n",
      "54:\tlearn: 1835.8037591\ttotal: 1.57s\tremaining: 26.9s\n",
      "55:\tlearn: 1830.0291612\ttotal: 1.59s\tremaining: 26.8s\n",
      "56:\tlearn: 1825.0139150\ttotal: 1.62s\tremaining: 26.8s\n",
      "57:\tlearn: 1822.0840772\ttotal: 1.65s\tremaining: 26.8s\n",
      "58:\tlearn: 1818.0313141\ttotal: 1.67s\tremaining: 26.7s\n",
      "59:\tlearn: 1815.2915572\ttotal: 1.7s\tremaining: 26.6s\n",
      "60:\tlearn: 1811.3757649\ttotal: 1.73s\tremaining: 26.6s\n",
      "61:\tlearn: 1807.3437212\ttotal: 1.76s\tremaining: 26.6s\n",
      "62:\tlearn: 1805.2701749\ttotal: 1.78s\tremaining: 26.5s\n",
      "63:\tlearn: 1801.6702671\ttotal: 1.81s\tremaining: 26.5s\n",
      "64:\tlearn: 1797.5571335\ttotal: 1.85s\tremaining: 26.6s\n",
      "65:\tlearn: 1793.0666776\ttotal: 1.87s\tremaining: 26.5s\n",
      "66:\tlearn: 1790.6882589\ttotal: 1.9s\tremaining: 26.4s\n",
      "67:\tlearn: 1788.5233858\ttotal: 1.92s\tremaining: 26.3s\n",
      "68:\tlearn: 1784.6293841\ttotal: 1.95s\tremaining: 26.3s\n",
      "69:\tlearn: 1782.7016269\ttotal: 1.97s\tremaining: 26.2s\n",
      "70:\tlearn: 1780.9359615\ttotal: 2s\tremaining: 26.2s\n",
      "71:\tlearn: 1778.3896206\ttotal: 2.03s\tremaining: 26.2s\n",
      "72:\tlearn: 1775.7974125\ttotal: 2.06s\tremaining: 26.1s\n",
      "73:\tlearn: 1773.6082404\ttotal: 2.08s\tremaining: 26.1s\n",
      "74:\tlearn: 1771.7592863\ttotal: 2.11s\tremaining: 26.1s\n",
      "75:\tlearn: 1769.5125899\ttotal: 2.15s\tremaining: 26.1s\n",
      "76:\tlearn: 1766.7067889\ttotal: 2.18s\tremaining: 26.2s\n",
      "77:\tlearn: 1765.3031891\ttotal: 2.22s\tremaining: 26.2s\n",
      "78:\tlearn: 1762.5391311\ttotal: 2.25s\tremaining: 26.2s\n",
      "79:\tlearn: 1760.0476413\ttotal: 2.28s\tremaining: 26.2s\n",
      "80:\tlearn: 1758.6807127\ttotal: 2.31s\tremaining: 26.2s\n",
      "81:\tlearn: 1757.5657594\ttotal: 2.34s\tremaining: 26.2s\n",
      "82:\tlearn: 1754.4919892\ttotal: 2.37s\tremaining: 26.2s\n",
      "83:\tlearn: 1752.4742532\ttotal: 2.4s\tremaining: 26.2s\n",
      "84:\tlearn: 1751.0382789\ttotal: 2.43s\tremaining: 26.2s\n",
      "85:\tlearn: 1749.8999719\ttotal: 2.46s\tremaining: 26.1s\n",
      "86:\tlearn: 1748.4046926\ttotal: 2.48s\tremaining: 26.1s\n",
      "87:\tlearn: 1746.2099734\ttotal: 2.51s\tremaining: 26s\n",
      "88:\tlearn: 1744.7631971\ttotal: 2.54s\tremaining: 26s\n",
      "89:\tlearn: 1743.7705712\ttotal: 2.57s\tremaining: 26s\n",
      "90:\tlearn: 1741.2092814\ttotal: 2.6s\tremaining: 25.9s\n",
      "91:\tlearn: 1739.7556315\ttotal: 2.63s\tremaining: 26s\n",
      "92:\tlearn: 1737.5797698\ttotal: 2.66s\tremaining: 25.9s\n",
      "93:\tlearn: 1735.8655780\ttotal: 2.68s\tremaining: 25.9s\n",
      "94:\tlearn: 1734.4940893\ttotal: 2.71s\tremaining: 25.8s\n",
      "95:\tlearn: 1732.6245565\ttotal: 2.74s\tremaining: 25.8s\n",
      "96:\tlearn: 1730.8518772\ttotal: 2.76s\tremaining: 25.7s\n",
      "97:\tlearn: 1729.3587036\ttotal: 2.79s\tremaining: 25.7s\n",
      "98:\tlearn: 1727.6442562\ttotal: 2.83s\tremaining: 25.7s\n",
      "99:\tlearn: 1725.9474797\ttotal: 2.85s\tremaining: 25.7s\n",
      "100:\tlearn: 1724.9647128\ttotal: 2.88s\tremaining: 25.6s\n",
      "101:\tlearn: 1723.4753991\ttotal: 2.91s\tremaining: 25.7s\n",
      "102:\tlearn: 1722.1251011\ttotal: 2.95s\tremaining: 25.7s\n",
      "103:\tlearn: 1720.2434291\ttotal: 2.98s\tremaining: 25.7s\n",
      "104:\tlearn: 1719.1966214\ttotal: 3.01s\tremaining: 25.6s\n",
      "105:\tlearn: 1717.9893861\ttotal: 3.04s\tremaining: 25.6s\n",
      "106:\tlearn: 1716.5360125\ttotal: 3.06s\tremaining: 25.6s\n",
      "107:\tlearn: 1715.6518679\ttotal: 3.09s\tremaining: 25.5s\n",
      "108:\tlearn: 1714.9220323\ttotal: 3.13s\tremaining: 25.6s\n",
      "109:\tlearn: 1714.0754386\ttotal: 3.15s\tremaining: 25.5s\n",
      "110:\tlearn: 1712.8190356\ttotal: 3.18s\tremaining: 25.5s\n",
      "111:\tlearn: 1711.9656970\ttotal: 3.21s\tremaining: 25.4s\n",
      "112:\tlearn: 1711.1506291\ttotal: 3.23s\tremaining: 25.4s\n",
      "113:\tlearn: 1709.7086231\ttotal: 3.26s\tremaining: 25.3s\n",
      "114:\tlearn: 1708.6021758\ttotal: 3.28s\tremaining: 25.3s\n",
      "115:\tlearn: 1707.7810210\ttotal: 3.31s\tremaining: 25.3s\n",
      "116:\tlearn: 1706.4689818\ttotal: 3.35s\tremaining: 25.3s\n",
      "117:\tlearn: 1705.3183152\ttotal: 3.38s\tremaining: 25.2s\n",
      "118:\tlearn: 1703.2381593\ttotal: 3.42s\tremaining: 25.3s\n",
      "119:\tlearn: 1701.8188597\ttotal: 3.44s\tremaining: 25.3s\n",
      "120:\tlearn: 1699.6013262\ttotal: 3.48s\tremaining: 25.3s\n",
      "121:\tlearn: 1698.1518056\ttotal: 3.53s\tremaining: 25.4s\n",
      "122:\tlearn: 1696.7268610\ttotal: 3.56s\tremaining: 25.4s\n",
      "123:\tlearn: 1695.1495033\ttotal: 3.6s\tremaining: 25.4s\n",
      "124:\tlearn: 1694.3122663\ttotal: 3.63s\tremaining: 25.4s\n",
      "125:\tlearn: 1692.6563102\ttotal: 3.66s\tremaining: 25.4s\n",
      "126:\tlearn: 1691.4528219\ttotal: 3.69s\tremaining: 25.3s\n",
      "127:\tlearn: 1690.2515778\ttotal: 3.72s\tremaining: 25.3s\n",
      "128:\tlearn: 1689.4960922\ttotal: 3.74s\tremaining: 25.3s\n",
      "129:\tlearn: 1688.6005351\ttotal: 3.77s\tremaining: 25.2s\n",
      "130:\tlearn: 1687.5511746\ttotal: 3.81s\tremaining: 25.3s\n",
      "131:\tlearn: 1686.1634228\ttotal: 3.84s\tremaining: 25.2s\n",
      "132:\tlearn: 1685.5661596\ttotal: 3.86s\tremaining: 25.2s\n",
      "133:\tlearn: 1684.2022078\ttotal: 3.9s\tremaining: 25.2s\n",
      "134:\tlearn: 1682.7118774\ttotal: 3.93s\tremaining: 25.2s\n",
      "135:\tlearn: 1681.5480521\ttotal: 3.95s\tremaining: 25.1s\n",
      "136:\tlearn: 1680.7224352\ttotal: 3.98s\tremaining: 25.1s\n",
      "137:\tlearn: 1679.8220804\ttotal: 4.01s\tremaining: 25s\n",
      "138:\tlearn: 1679.0331389\ttotal: 4.03s\tremaining: 25s\n",
      "139:\tlearn: 1678.0402229\ttotal: 4.05s\tremaining: 24.9s\n",
      "140:\tlearn: 1676.7383224\ttotal: 4.08s\tremaining: 24.9s\n",
      "141:\tlearn: 1675.5137272\ttotal: 4.11s\tremaining: 24.8s\n",
      "142:\tlearn: 1674.6708706\ttotal: 4.14s\tremaining: 24.8s\n",
      "143:\tlearn: 1673.4263249\ttotal: 4.17s\tremaining: 24.8s\n",
      "144:\tlearn: 1672.4146132\ttotal: 4.21s\tremaining: 24.8s\n",
      "145:\tlearn: 1671.4727692\ttotal: 4.23s\tremaining: 24.8s\n",
      "146:\tlearn: 1670.8569874\ttotal: 4.26s\tremaining: 24.7s\n",
      "147:\tlearn: 1669.4600919\ttotal: 4.29s\tremaining: 24.7s\n",
      "148:\tlearn: 1668.2934818\ttotal: 4.32s\tremaining: 24.7s\n",
      "149:\tlearn: 1667.3660241\ttotal: 4.34s\tremaining: 24.6s\n",
      "150:\tlearn: 1666.4472275\ttotal: 4.38s\tremaining: 24.6s\n",
      "151:\tlearn: 1665.4000854\ttotal: 4.4s\tremaining: 24.6s\n",
      "152:\tlearn: 1664.3646250\ttotal: 4.43s\tremaining: 24.5s\n",
      "153:\tlearn: 1663.6929503\ttotal: 4.45s\tremaining: 24.5s\n",
      "154:\tlearn: 1662.8179359\ttotal: 4.49s\tremaining: 24.5s\n",
      "155:\tlearn: 1661.9749595\ttotal: 4.51s\tremaining: 24.4s\n",
      "156:\tlearn: 1661.3824661\ttotal: 4.54s\tremaining: 24.4s\n",
      "157:\tlearn: 1660.8096863\ttotal: 4.56s\tremaining: 24.3s\n",
      "158:\tlearn: 1659.7186933\ttotal: 4.59s\tremaining: 24.3s\n",
      "159:\tlearn: 1659.2463530\ttotal: 4.62s\tremaining: 24.2s\n",
      "160:\tlearn: 1658.2789166\ttotal: 4.64s\tremaining: 24.2s\n",
      "161:\tlearn: 1657.4858482\ttotal: 4.68s\tremaining: 24.2s\n",
      "162:\tlearn: 1657.0073001\ttotal: 4.7s\tremaining: 24.2s\n",
      "163:\tlearn: 1656.2971057\ttotal: 4.73s\tremaining: 24.1s\n",
      "164:\tlearn: 1655.7133942\ttotal: 4.76s\tremaining: 24.1s\n",
      "165:\tlearn: 1654.8664039\ttotal: 4.79s\tremaining: 24.1s\n",
      "166:\tlearn: 1654.2609401\ttotal: 4.82s\tremaining: 24s\n",
      "167:\tlearn: 1653.4683366\ttotal: 4.84s\tremaining: 24s\n",
      "168:\tlearn: 1652.6065584\ttotal: 4.88s\tremaining: 24s\n",
      "169:\tlearn: 1651.6544197\ttotal: 4.9s\tremaining: 23.9s\n",
      "170:\tlearn: 1650.9148486\ttotal: 4.93s\tremaining: 23.9s\n",
      "171:\tlearn: 1649.9504480\ttotal: 4.95s\tremaining: 23.9s\n",
      "172:\tlearn: 1649.3564833\ttotal: 4.99s\tremaining: 23.9s\n",
      "173:\tlearn: 1648.6557585\ttotal: 5.02s\tremaining: 23.8s\n",
      "174:\tlearn: 1648.2601543\ttotal: 5.05s\tremaining: 23.8s\n",
      "175:\tlearn: 1647.6950604\ttotal: 5.09s\tremaining: 23.8s\n",
      "176:\tlearn: 1646.7850564\ttotal: 5.12s\tremaining: 23.8s\n",
      "177:\tlearn: 1646.2903523\ttotal: 5.14s\tremaining: 23.7s\n",
      "178:\tlearn: 1645.6279277\ttotal: 5.17s\tremaining: 23.7s\n",
      "179:\tlearn: 1644.9980830\ttotal: 5.2s\tremaining: 23.7s\n",
      "180:\tlearn: 1644.2426914\ttotal: 5.23s\tremaining: 23.7s\n",
      "181:\tlearn: 1643.7778349\ttotal: 5.26s\tremaining: 23.7s\n",
      "182:\tlearn: 1643.3510138\ttotal: 5.29s\tremaining: 23.6s\n",
      "183:\tlearn: 1642.7439364\ttotal: 5.31s\tremaining: 23.6s\n",
      "184:\tlearn: 1642.2733211\ttotal: 5.35s\tremaining: 23.6s\n",
      "185:\tlearn: 1641.8290222\ttotal: 5.38s\tremaining: 23.5s\n",
      "186:\tlearn: 1641.2092367\ttotal: 5.41s\tremaining: 23.5s\n",
      "187:\tlearn: 1640.5680034\ttotal: 5.44s\tremaining: 23.5s\n",
      "188:\tlearn: 1639.7945106\ttotal: 5.47s\tremaining: 23.5s\n",
      "189:\tlearn: 1639.1205041\ttotal: 5.5s\tremaining: 23.4s\n",
      "190:\tlearn: 1637.8776920\ttotal: 5.52s\tremaining: 23.4s\n",
      "191:\tlearn: 1637.3057292\ttotal: 5.55s\tremaining: 23.4s\n",
      "192:\tlearn: 1636.7750957\ttotal: 5.58s\tremaining: 23.3s\n",
      "193:\tlearn: 1636.1432642\ttotal: 5.61s\tremaining: 23.3s\n",
      "194:\tlearn: 1635.4824408\ttotal: 5.64s\tremaining: 23.3s\n",
      "195:\tlearn: 1634.8691888\ttotal: 5.67s\tremaining: 23.3s\n",
      "196:\tlearn: 1634.4526198\ttotal: 5.7s\tremaining: 23.2s\n",
      "197:\tlearn: 1634.0312616\ttotal: 5.72s\tremaining: 23.2s\n",
      "198:\tlearn: 1633.6108298\ttotal: 5.75s\tremaining: 23.2s\n",
      "199:\tlearn: 1632.8674571\ttotal: 5.78s\tremaining: 23.1s\n",
      "200:\tlearn: 1632.2907829\ttotal: 5.8s\tremaining: 23.1s\n",
      "201:\tlearn: 1631.8304558\ttotal: 5.83s\tremaining: 23.1s\n",
      "202:\tlearn: 1631.4339926\ttotal: 5.86s\tremaining: 23s\n",
      "203:\tlearn: 1630.6404052\ttotal: 5.89s\tremaining: 23s\n",
      "204:\tlearn: 1630.0441352\ttotal: 5.92s\tremaining: 23s\n",
      "205:\tlearn: 1629.6109668\ttotal: 5.95s\tremaining: 22.9s\n",
      "206:\tlearn: 1629.0290861\ttotal: 5.98s\tremaining: 22.9s\n",
      "207:\tlearn: 1628.3926713\ttotal: 6s\tremaining: 22.9s\n",
      "208:\tlearn: 1627.8678054\ttotal: 6.04s\tremaining: 22.9s\n",
      "209:\tlearn: 1627.3082517\ttotal: 6.07s\tremaining: 22.8s\n",
      "210:\tlearn: 1626.9347349\ttotal: 6.1s\tremaining: 22.8s\n",
      "211:\tlearn: 1626.2570795\ttotal: 6.13s\tremaining: 22.8s\n",
      "212:\tlearn: 1625.4496489\ttotal: 6.16s\tremaining: 22.8s\n",
      "213:\tlearn: 1625.0241379\ttotal: 6.19s\tremaining: 22.7s\n",
      "214:\tlearn: 1624.6850154\ttotal: 6.21s\tremaining: 22.7s\n",
      "215:\tlearn: 1624.1152921\ttotal: 6.24s\tremaining: 22.7s\n",
      "216:\tlearn: 1623.6074741\ttotal: 6.27s\tremaining: 22.6s\n",
      "217:\tlearn: 1623.1233943\ttotal: 6.3s\tremaining: 22.6s\n",
      "218:\tlearn: 1622.5930658\ttotal: 6.33s\tremaining: 22.6s\n",
      "219:\tlearn: 1622.3483191\ttotal: 6.35s\tremaining: 22.5s\n",
      "220:\tlearn: 1621.7175553\ttotal: 6.38s\tremaining: 22.5s\n",
      "221:\tlearn: 1621.2845650\ttotal: 6.41s\tremaining: 22.5s\n",
      "222:\tlearn: 1620.5826819\ttotal: 6.45s\tremaining: 22.5s\n",
      "223:\tlearn: 1620.1677940\ttotal: 6.48s\tremaining: 22.4s\n",
      "224:\tlearn: 1619.7533638\ttotal: 6.5s\tremaining: 22.4s\n",
      "225:\tlearn: 1618.9685683\ttotal: 6.54s\tremaining: 22.4s\n",
      "226:\tlearn: 1618.6232019\ttotal: 6.56s\tremaining: 22.3s\n",
      "227:\tlearn: 1618.0092832\ttotal: 6.59s\tremaining: 22.3s\n",
      "228:\tlearn: 1617.6884214\ttotal: 6.62s\tremaining: 22.3s\n",
      "229:\tlearn: 1617.1669468\ttotal: 6.65s\tremaining: 22.3s\n",
      "230:\tlearn: 1616.8363975\ttotal: 6.67s\tremaining: 22.2s\n",
      "231:\tlearn: 1616.5368155\ttotal: 6.7s\tremaining: 22.2s\n",
      "232:\tlearn: 1616.0501851\ttotal: 6.74s\tremaining: 22.2s\n",
      "233:\tlearn: 1615.4752607\ttotal: 6.77s\tremaining: 22.1s\n",
      "234:\tlearn: 1614.8481805\ttotal: 6.79s\tremaining: 22.1s\n",
      "235:\tlearn: 1614.1913711\ttotal: 6.83s\tremaining: 22.1s\n",
      "236:\tlearn: 1613.6693816\ttotal: 6.86s\tremaining: 22.1s\n",
      "237:\tlearn: 1613.3023355\ttotal: 6.88s\tremaining: 22s\n",
      "238:\tlearn: 1612.9380043\ttotal: 6.92s\tremaining: 22s\n",
      "239:\tlearn: 1612.1742490\ttotal: 6.94s\tremaining: 22s\n",
      "240:\tlearn: 1611.6743259\ttotal: 6.97s\tremaining: 22s\n",
      "241:\tlearn: 1611.3969569\ttotal: 7s\tremaining: 21.9s\n",
      "242:\tlearn: 1610.9260090\ttotal: 7.03s\tremaining: 21.9s\n",
      "243:\tlearn: 1610.6462439\ttotal: 7.05s\tremaining: 21.9s\n",
      "244:\tlearn: 1609.7415551\ttotal: 7.08s\tremaining: 21.8s\n",
      "245:\tlearn: 1609.5336239\ttotal: 7.11s\tremaining: 21.8s\n",
      "246:\tlearn: 1609.1490235\ttotal: 7.14s\tremaining: 21.8s\n",
      "247:\tlearn: 1608.7798999\ttotal: 7.17s\tremaining: 21.7s\n",
      "248:\tlearn: 1608.2119469\ttotal: 7.19s\tremaining: 21.7s\n",
      "249:\tlearn: 1607.1981002\ttotal: 7.22s\tremaining: 21.7s\n",
      "250:\tlearn: 1606.8297110\ttotal: 7.25s\tremaining: 21.6s\n",
      "251:\tlearn: 1606.2435912\ttotal: 7.28s\tremaining: 21.6s\n",
      "252:\tlearn: 1605.8253771\ttotal: 7.31s\tremaining: 21.6s\n",
      "253:\tlearn: 1604.9859414\ttotal: 7.34s\tremaining: 21.5s\n",
      "254:\tlearn: 1604.7399718\ttotal: 7.37s\tremaining: 21.5s\n",
      "255:\tlearn: 1604.2921511\ttotal: 7.4s\tremaining: 21.5s\n",
      "256:\tlearn: 1603.8978343\ttotal: 7.43s\tremaining: 21.5s\n",
      "257:\tlearn: 1603.4631175\ttotal: 7.46s\tremaining: 21.4s\n",
      "258:\tlearn: 1603.0853884\ttotal: 7.49s\tremaining: 21.4s\n",
      "259:\tlearn: 1602.7176854\ttotal: 7.51s\tremaining: 21.4s\n",
      "260:\tlearn: 1602.0570430\ttotal: 7.54s\tremaining: 21.4s\n",
      "261:\tlearn: 1601.8441816\ttotal: 7.57s\tremaining: 21.3s\n",
      "262:\tlearn: 1601.3674797\ttotal: 7.6s\tremaining: 21.3s\n",
      "263:\tlearn: 1600.9606326\ttotal: 7.63s\tremaining: 21.3s\n",
      "264:\tlearn: 1600.4962369\ttotal: 7.66s\tremaining: 21.2s\n",
      "265:\tlearn: 1599.7422848\ttotal: 7.68s\tremaining: 21.2s\n",
      "266:\tlearn: 1599.1536501\ttotal: 7.71s\tremaining: 21.2s\n",
      "267:\tlearn: 1598.7735577\ttotal: 7.74s\tremaining: 21.1s\n",
      "268:\tlearn: 1598.1900400\ttotal: 7.77s\tremaining: 21.1s\n",
      "269:\tlearn: 1597.5686223\ttotal: 7.81s\tremaining: 21.1s\n",
      "270:\tlearn: 1597.1831189\ttotal: 7.84s\tremaining: 21.1s\n",
      "271:\tlearn: 1596.4717521\ttotal: 7.87s\tremaining: 21.1s\n",
      "272:\tlearn: 1596.1637490\ttotal: 7.9s\tremaining: 21s\n",
      "273:\tlearn: 1595.6332928\ttotal: 7.93s\tremaining: 21s\n",
      "274:\tlearn: 1595.2214466\ttotal: 7.96s\tremaining: 21s\n",
      "275:\tlearn: 1594.5208111\ttotal: 7.99s\tremaining: 21s\n",
      "276:\tlearn: 1594.0245163\ttotal: 8.03s\tremaining: 20.9s\n",
      "277:\tlearn: 1593.5225445\ttotal: 8.05s\tremaining: 20.9s\n",
      "278:\tlearn: 1593.1246559\ttotal: 8.09s\tremaining: 20.9s\n",
      "279:\tlearn: 1592.7803835\ttotal: 8.12s\tremaining: 20.9s\n",
      "280:\tlearn: 1592.5129748\ttotal: 8.15s\tremaining: 20.9s\n",
      "281:\tlearn: 1592.2199127\ttotal: 8.18s\tremaining: 20.8s\n",
      "282:\tlearn: 1591.8504310\ttotal: 8.21s\tremaining: 20.8s\n",
      "283:\tlearn: 1591.2542850\ttotal: 8.23s\tremaining: 20.8s\n",
      "284:\tlearn: 1590.7950974\ttotal: 8.27s\tremaining: 20.8s\n",
      "285:\tlearn: 1590.4000552\ttotal: 8.3s\tremaining: 20.7s\n",
      "286:\tlearn: 1589.8600018\ttotal: 8.33s\tremaining: 20.7s\n",
      "287:\tlearn: 1589.5745011\ttotal: 8.37s\tremaining: 20.7s\n",
      "288:\tlearn: 1589.1595179\ttotal: 8.39s\tremaining: 20.7s\n",
      "289:\tlearn: 1588.5680661\ttotal: 8.42s\tremaining: 20.6s\n",
      "290:\tlearn: 1588.2785561\ttotal: 8.45s\tremaining: 20.6s\n",
      "291:\tlearn: 1588.0378966\ttotal: 8.47s\tremaining: 20.5s\n",
      "292:\tlearn: 1587.8004078\ttotal: 8.5s\tremaining: 20.5s\n",
      "293:\tlearn: 1587.3091223\ttotal: 8.53s\tremaining: 20.5s\n",
      "294:\tlearn: 1586.8650615\ttotal: 8.56s\tremaining: 20.5s\n",
      "295:\tlearn: 1586.4209344\ttotal: 8.59s\tremaining: 20.4s\n",
      "296:\tlearn: 1585.9362377\ttotal: 8.62s\tremaining: 20.4s\n",
      "297:\tlearn: 1585.5479355\ttotal: 8.65s\tremaining: 20.4s\n",
      "298:\tlearn: 1585.2353225\ttotal: 8.68s\tremaining: 20.3s\n",
      "299:\tlearn: 1584.5718839\ttotal: 8.7s\tremaining: 20.3s\n",
      "300:\tlearn: 1583.9970937\ttotal: 8.73s\tremaining: 20.3s\n",
      "301:\tlearn: 1583.6974852\ttotal: 8.76s\tremaining: 20.2s\n",
      "302:\tlearn: 1583.3731862\ttotal: 8.79s\tremaining: 20.2s\n",
      "303:\tlearn: 1583.0381051\ttotal: 8.81s\tremaining: 20.2s\n",
      "304:\tlearn: 1582.7458234\ttotal: 8.84s\tremaining: 20.1s\n",
      "305:\tlearn: 1582.3868438\ttotal: 8.87s\tremaining: 20.1s\n",
      "306:\tlearn: 1582.2514572\ttotal: 8.89s\tremaining: 20.1s\n",
      "307:\tlearn: 1581.7334751\ttotal: 8.92s\tremaining: 20s\n",
      "308:\tlearn: 1581.3135190\ttotal: 8.96s\tremaining: 20s\n",
      "309:\tlearn: 1581.0773398\ttotal: 8.98s\tremaining: 20s\n",
      "310:\tlearn: 1580.4737067\ttotal: 9.01s\tremaining: 20s\n",
      "311:\tlearn: 1580.0903191\ttotal: 9.04s\tremaining: 19.9s\n",
      "312:\tlearn: 1579.8638784\ttotal: 9.07s\tremaining: 19.9s\n",
      "313:\tlearn: 1579.5845995\ttotal: 9.1s\tremaining: 19.9s\n",
      "314:\tlearn: 1579.2565801\ttotal: 9.12s\tremaining: 19.8s\n",
      "315:\tlearn: 1578.8447693\ttotal: 9.15s\tremaining: 19.8s\n",
      "316:\tlearn: 1578.5386243\ttotal: 9.18s\tremaining: 19.8s\n",
      "317:\tlearn: 1578.2819229\ttotal: 9.21s\tremaining: 19.8s\n",
      "318:\tlearn: 1578.0633596\ttotal: 9.24s\tremaining: 19.7s\n",
      "319:\tlearn: 1577.7239348\ttotal: 9.26s\tremaining: 19.7s\n",
      "320:\tlearn: 1577.3582607\ttotal: 9.29s\tremaining: 19.6s\n",
      "321:\tlearn: 1577.0927675\ttotal: 9.31s\tremaining: 19.6s\n",
      "322:\tlearn: 1576.5778504\ttotal: 9.35s\tremaining: 19.6s\n",
      "323:\tlearn: 1576.2740082\ttotal: 9.38s\tremaining: 19.6s\n",
      "324:\tlearn: 1575.8092703\ttotal: 9.4s\tremaining: 19.5s\n",
      "325:\tlearn: 1575.4849932\ttotal: 9.45s\tremaining: 19.5s\n",
      "326:\tlearn: 1575.0008231\ttotal: 9.47s\tremaining: 19.5s\n",
      "327:\tlearn: 1574.7349652\ttotal: 9.5s\tremaining: 19.5s\n",
      "328:\tlearn: 1574.3951280\ttotal: 9.53s\tremaining: 19.4s\n",
      "329:\tlearn: 1574.1556990\ttotal: 9.56s\tremaining: 19.4s\n",
      "330:\tlearn: 1573.6573353\ttotal: 9.59s\tremaining: 19.4s\n",
      "331:\tlearn: 1573.4254569\ttotal: 9.63s\tremaining: 19.4s\n",
      "332:\tlearn: 1573.0074528\ttotal: 9.65s\tremaining: 19.3s\n",
      "333:\tlearn: 1572.7186427\ttotal: 9.68s\tremaining: 19.3s\n",
      "334:\tlearn: 1572.3615228\ttotal: 9.71s\tremaining: 19.3s\n",
      "335:\tlearn: 1572.0884166\ttotal: 9.74s\tremaining: 19.3s\n",
      "336:\tlearn: 1571.6981599\ttotal: 9.77s\tremaining: 19.2s\n",
      "337:\tlearn: 1571.2003186\ttotal: 9.8s\tremaining: 19.2s\n",
      "338:\tlearn: 1570.7485987\ttotal: 9.84s\tremaining: 19.2s\n",
      "339:\tlearn: 1570.5026363\ttotal: 9.86s\tremaining: 19.1s\n",
      "340:\tlearn: 1570.1332854\ttotal: 9.89s\tremaining: 19.1s\n",
      "341:\tlearn: 1569.8771645\ttotal: 9.92s\tremaining: 19.1s\n",
      "342:\tlearn: 1569.5095905\ttotal: 9.95s\tremaining: 19.1s\n",
      "343:\tlearn: 1569.1919515\ttotal: 9.97s\tremaining: 19s\n",
      "344:\tlearn: 1568.7857631\ttotal: 10s\tremaining: 19s\n",
      "345:\tlearn: 1568.2870709\ttotal: 10s\tremaining: 19s\n",
      "346:\tlearn: 1568.1475582\ttotal: 10.1s\tremaining: 18.9s\n",
      "347:\tlearn: 1567.5094797\ttotal: 10.1s\tremaining: 18.9s\n",
      "348:\tlearn: 1567.2853407\ttotal: 10.1s\tremaining: 18.9s\n",
      "349:\tlearn: 1567.0645046\ttotal: 10.1s\tremaining: 18.8s\n",
      "350:\tlearn: 1566.7848611\ttotal: 10.2s\tremaining: 18.8s\n",
      "351:\tlearn: 1566.3248069\ttotal: 10.2s\tremaining: 18.8s\n",
      "352:\tlearn: 1565.9912543\ttotal: 10.2s\tremaining: 18.7s\n",
      "353:\tlearn: 1565.7594375\ttotal: 10.3s\tremaining: 18.7s\n",
      "354:\tlearn: 1565.5192633\ttotal: 10.3s\tremaining: 18.7s\n",
      "355:\tlearn: 1565.3925875\ttotal: 10.3s\tremaining: 18.6s\n",
      "356:\tlearn: 1565.0584402\ttotal: 10.3s\tremaining: 18.6s\n",
      "357:\tlearn: 1564.8044716\ttotal: 10.4s\tremaining: 18.6s\n",
      "358:\tlearn: 1564.4157253\ttotal: 10.4s\tremaining: 18.5s\n",
      "359:\tlearn: 1564.1858123\ttotal: 10.4s\tremaining: 18.5s\n",
      "360:\tlearn: 1563.8880949\ttotal: 10.4s\tremaining: 18.5s\n",
      "361:\tlearn: 1563.5930698\ttotal: 10.5s\tremaining: 18.4s\n",
      "362:\tlearn: 1563.2389168\ttotal: 10.5s\tremaining: 18.4s\n",
      "363:\tlearn: 1562.7175669\ttotal: 10.5s\tremaining: 18.4s\n",
      "364:\tlearn: 1562.5248640\ttotal: 10.5s\tremaining: 18.3s\n",
      "365:\tlearn: 1562.2851375\ttotal: 10.6s\tremaining: 18.3s\n",
      "366:\tlearn: 1562.0597957\ttotal: 10.6s\tremaining: 18.3s\n",
      "367:\tlearn: 1561.7443292\ttotal: 10.6s\tremaining: 18.2s\n",
      "368:\tlearn: 1561.4654805\ttotal: 10.6s\tremaining: 18.2s\n",
      "369:\tlearn: 1561.2502114\ttotal: 10.7s\tremaining: 18.2s\n",
      "370:\tlearn: 1561.0840817\ttotal: 10.7s\tremaining: 18.1s\n",
      "371:\tlearn: 1560.7675239\ttotal: 10.7s\tremaining: 18.1s\n",
      "372:\tlearn: 1560.4013459\ttotal: 10.8s\tremaining: 18.1s\n",
      "373:\tlearn: 1560.0595672\ttotal: 10.8s\tremaining: 18.1s\n",
      "374:\tlearn: 1559.9511508\ttotal: 10.8s\tremaining: 18s\n",
      "375:\tlearn: 1559.6675070\ttotal: 10.8s\tremaining: 18s\n",
      "376:\tlearn: 1559.4512039\ttotal: 10.9s\tremaining: 17.9s\n",
      "377:\tlearn: 1559.1788856\ttotal: 10.9s\tremaining: 17.9s\n",
      "378:\tlearn: 1558.8496413\ttotal: 10.9s\tremaining: 17.9s\n",
      "379:\tlearn: 1558.5927038\ttotal: 10.9s\tremaining: 17.9s\n",
      "380:\tlearn: 1558.3237069\ttotal: 11s\tremaining: 17.8s\n",
      "381:\tlearn: 1558.1111288\ttotal: 11s\tremaining: 17.8s\n",
      "382:\tlearn: 1557.7618933\ttotal: 11s\tremaining: 17.8s\n",
      "383:\tlearn: 1557.4112811\ttotal: 11.1s\tremaining: 17.7s\n",
      "384:\tlearn: 1557.2478360\ttotal: 11.1s\tremaining: 17.7s\n",
      "385:\tlearn: 1556.9974013\ttotal: 11.1s\tremaining: 17.7s\n",
      "386:\tlearn: 1556.7273478\ttotal: 11.1s\tremaining: 17.7s\n",
      "387:\tlearn: 1556.3512926\ttotal: 11.2s\tremaining: 17.6s\n",
      "388:\tlearn: 1555.9173519\ttotal: 11.2s\tremaining: 17.6s\n",
      "389:\tlearn: 1555.6702014\ttotal: 11.2s\tremaining: 17.6s\n",
      "390:\tlearn: 1555.3086086\ttotal: 11.3s\tremaining: 17.6s\n",
      "391:\tlearn: 1555.0547606\ttotal: 11.3s\tremaining: 17.5s\n",
      "392:\tlearn: 1554.6987634\ttotal: 11.3s\tremaining: 17.5s\n",
      "393:\tlearn: 1554.4838934\ttotal: 11.4s\tremaining: 17.5s\n",
      "394:\tlearn: 1554.1622713\ttotal: 11.4s\tremaining: 17.4s\n",
      "395:\tlearn: 1553.9863241\ttotal: 11.4s\tremaining: 17.4s\n",
      "396:\tlearn: 1553.7564108\ttotal: 11.4s\tremaining: 17.4s\n",
      "397:\tlearn: 1553.3428828\ttotal: 11.5s\tremaining: 17.3s\n",
      "398:\tlearn: 1553.0872085\ttotal: 11.5s\tremaining: 17.3s\n",
      "399:\tlearn: 1552.8895269\ttotal: 11.5s\tremaining: 17.3s\n",
      "400:\tlearn: 1552.7216202\ttotal: 11.5s\tremaining: 17.2s\n",
      "401:\tlearn: 1552.5101980\ttotal: 11.6s\tremaining: 17.2s\n",
      "402:\tlearn: 1552.2301556\ttotal: 11.6s\tremaining: 17.2s\n",
      "403:\tlearn: 1551.9342904\ttotal: 11.6s\tremaining: 17.1s\n",
      "404:\tlearn: 1551.7205909\ttotal: 11.7s\tremaining: 17.1s\n",
      "405:\tlearn: 1551.5404708\ttotal: 11.7s\tremaining: 17.1s\n",
      "406:\tlearn: 1551.2167161\ttotal: 11.7s\tremaining: 17.1s\n",
      "407:\tlearn: 1550.9738584\ttotal: 11.7s\tremaining: 17s\n",
      "408:\tlearn: 1550.7054477\ttotal: 11.8s\tremaining: 17s\n",
      "409:\tlearn: 1550.4917777\ttotal: 11.8s\tremaining: 17s\n",
      "410:\tlearn: 1550.3230463\ttotal: 11.8s\tremaining: 16.9s\n",
      "411:\tlearn: 1550.0107078\ttotal: 11.8s\tremaining: 16.9s\n",
      "412:\tlearn: 1549.7482068\ttotal: 11.9s\tremaining: 16.9s\n",
      "413:\tlearn: 1549.4878442\ttotal: 11.9s\tremaining: 16.8s\n",
      "414:\tlearn: 1549.3377510\ttotal: 11.9s\tremaining: 16.8s\n",
      "415:\tlearn: 1549.1022932\ttotal: 12s\tremaining: 16.8s\n",
      "416:\tlearn: 1548.9341824\ttotal: 12s\tremaining: 16.8s\n",
      "417:\tlearn: 1548.6722433\ttotal: 12s\tremaining: 16.7s\n",
      "418:\tlearn: 1548.4517485\ttotal: 12s\tremaining: 16.7s\n",
      "419:\tlearn: 1548.2693204\ttotal: 12.1s\tremaining: 16.7s\n",
      "420:\tlearn: 1548.0303799\ttotal: 12.1s\tremaining: 16.6s\n",
      "421:\tlearn: 1547.8691593\ttotal: 12.1s\tremaining: 16.6s\n",
      "422:\tlearn: 1547.6524438\ttotal: 12.2s\tremaining: 16.6s\n",
      "423:\tlearn: 1547.3857185\ttotal: 12.2s\tremaining: 16.5s\n",
      "424:\tlearn: 1546.9950316\ttotal: 12.2s\tremaining: 16.5s\n",
      "425:\tlearn: 1546.7274181\ttotal: 12.2s\tremaining: 16.5s\n",
      "426:\tlearn: 1546.5156100\ttotal: 12.3s\tremaining: 16.5s\n",
      "427:\tlearn: 1546.2870217\ttotal: 12.3s\tremaining: 16.4s\n",
      "428:\tlearn: 1546.1261257\ttotal: 12.3s\tremaining: 16.4s\n",
      "429:\tlearn: 1545.9158024\ttotal: 12.4s\tremaining: 16.4s\n",
      "430:\tlearn: 1545.2538101\ttotal: 12.4s\tremaining: 16.4s\n",
      "431:\tlearn: 1544.9891020\ttotal: 12.4s\tremaining: 16.3s\n",
      "432:\tlearn: 1544.8334189\ttotal: 12.4s\tremaining: 16.3s\n",
      "433:\tlearn: 1544.5221541\ttotal: 12.5s\tremaining: 16.3s\n",
      "434:\tlearn: 1544.2996020\ttotal: 12.5s\tremaining: 16.2s\n",
      "435:\tlearn: 1543.9177698\ttotal: 12.5s\tremaining: 16.2s\n",
      "436:\tlearn: 1543.5804605\ttotal: 12.6s\tremaining: 16.2s\n",
      "437:\tlearn: 1543.4671502\ttotal: 12.6s\tremaining: 16.1s\n",
      "438:\tlearn: 1543.2866506\ttotal: 12.6s\tremaining: 16.1s\n",
      "439:\tlearn: 1543.0974862\ttotal: 12.6s\tremaining: 16.1s\n",
      "440:\tlearn: 1542.8676048\ttotal: 12.7s\tremaining: 16s\n",
      "441:\tlearn: 1542.6318976\ttotal: 12.7s\tremaining: 16s\n",
      "442:\tlearn: 1542.2520981\ttotal: 12.7s\tremaining: 16s\n",
      "443:\tlearn: 1542.0307277\ttotal: 12.7s\tremaining: 16s\n",
      "444:\tlearn: 1541.9185535\ttotal: 12.8s\tremaining: 15.9s\n",
      "445:\tlearn: 1541.6768181\ttotal: 12.8s\tremaining: 15.9s\n",
      "446:\tlearn: 1541.5052883\ttotal: 12.8s\tremaining: 15.9s\n",
      "447:\tlearn: 1541.3273702\ttotal: 12.9s\tremaining: 15.8s\n",
      "448:\tlearn: 1541.1929988\ttotal: 12.9s\tremaining: 15.8s\n",
      "449:\tlearn: 1540.8896600\ttotal: 12.9s\tremaining: 15.8s\n",
      "450:\tlearn: 1540.6247258\ttotal: 12.9s\tremaining: 15.8s\n",
      "451:\tlearn: 1540.4798915\ttotal: 13s\tremaining: 15.7s\n",
      "452:\tlearn: 1540.2099365\ttotal: 13s\tremaining: 15.7s\n",
      "453:\tlearn: 1539.9828719\ttotal: 13s\tremaining: 15.7s\n",
      "454:\tlearn: 1539.8735705\ttotal: 13.1s\tremaining: 15.6s\n",
      "455:\tlearn: 1539.7089775\ttotal: 13.1s\tremaining: 15.6s\n",
      "456:\tlearn: 1539.5140006\ttotal: 13.1s\tremaining: 15.6s\n",
      "457:\tlearn: 1539.3648436\ttotal: 13.1s\tremaining: 15.6s\n",
      "458:\tlearn: 1539.2324451\ttotal: 13.2s\tremaining: 15.5s\n",
      "459:\tlearn: 1538.9723165\ttotal: 13.2s\tremaining: 15.5s\n",
      "460:\tlearn: 1538.7652970\ttotal: 13.2s\tremaining: 15.5s\n",
      "461:\tlearn: 1538.5698357\ttotal: 13.3s\tremaining: 15.4s\n",
      "462:\tlearn: 1538.1775799\ttotal: 13.3s\tremaining: 15.4s\n",
      "463:\tlearn: 1537.9592860\ttotal: 13.3s\tremaining: 15.4s\n",
      "464:\tlearn: 1537.8294631\ttotal: 13.3s\tremaining: 15.4s\n",
      "465:\tlearn: 1537.6450445\ttotal: 13.4s\tremaining: 15.3s\n",
      "466:\tlearn: 1537.3819071\ttotal: 13.4s\tremaining: 15.3s\n",
      "467:\tlearn: 1537.1873522\ttotal: 13.4s\tremaining: 15.3s\n",
      "468:\tlearn: 1537.1059040\ttotal: 13.4s\tremaining: 15.2s\n",
      "469:\tlearn: 1536.8828715\ttotal: 13.5s\tremaining: 15.2s\n",
      "470:\tlearn: 1536.6996910\ttotal: 13.5s\tremaining: 15.2s\n",
      "471:\tlearn: 1536.5399394\ttotal: 13.5s\tremaining: 15.1s\n",
      "472:\tlearn: 1536.3408470\ttotal: 13.6s\tremaining: 15.1s\n",
      "473:\tlearn: 1536.0497652\ttotal: 13.6s\tremaining: 15.1s\n",
      "474:\tlearn: 1535.7897288\ttotal: 13.6s\tremaining: 15.1s\n",
      "475:\tlearn: 1535.5782928\ttotal: 13.6s\tremaining: 15s\n",
      "476:\tlearn: 1535.4178426\ttotal: 13.7s\tremaining: 15s\n",
      "477:\tlearn: 1535.2468251\ttotal: 13.7s\tremaining: 15s\n",
      "478:\tlearn: 1535.0561153\ttotal: 13.7s\tremaining: 14.9s\n",
      "479:\tlearn: 1534.7454919\ttotal: 13.8s\tremaining: 14.9s\n",
      "480:\tlearn: 1534.5492705\ttotal: 13.8s\tremaining: 14.9s\n",
      "481:\tlearn: 1534.4197093\ttotal: 13.8s\tremaining: 14.9s\n",
      "482:\tlearn: 1534.2178839\ttotal: 13.8s\tremaining: 14.8s\n",
      "483:\tlearn: 1534.1019122\ttotal: 13.9s\tremaining: 14.8s\n",
      "484:\tlearn: 1533.9369194\ttotal: 13.9s\tremaining: 14.8s\n",
      "485:\tlearn: 1533.8150849\ttotal: 13.9s\tremaining: 14.7s\n",
      "486:\tlearn: 1533.6520785\ttotal: 14s\tremaining: 14.7s\n",
      "487:\tlearn: 1533.4674103\ttotal: 14s\tremaining: 14.7s\n",
      "488:\tlearn: 1533.2775367\ttotal: 14s\tremaining: 14.7s\n",
      "489:\tlearn: 1533.0631922\ttotal: 14.1s\tremaining: 14.6s\n",
      "490:\tlearn: 1532.8145542\ttotal: 14.1s\tremaining: 14.6s\n",
      "491:\tlearn: 1532.6947619\ttotal: 14.1s\tremaining: 14.6s\n",
      "492:\tlearn: 1532.5291864\ttotal: 14.1s\tremaining: 14.5s\n",
      "493:\tlearn: 1532.2792743\ttotal: 14.2s\tremaining: 14.5s\n",
      "494:\tlearn: 1532.1088573\ttotal: 14.2s\tremaining: 14.5s\n",
      "495:\tlearn: 1531.9301051\ttotal: 14.2s\tremaining: 14.4s\n",
      "496:\tlearn: 1531.6772548\ttotal: 14.3s\tremaining: 14.4s\n",
      "497:\tlearn: 1531.5843898\ttotal: 14.3s\tremaining: 14.4s\n",
      "498:\tlearn: 1531.3707549\ttotal: 14.3s\tremaining: 14.4s\n",
      "499:\tlearn: 1531.1266542\ttotal: 14.3s\tremaining: 14.3s\n",
      "500:\tlearn: 1530.9199636\ttotal: 14.4s\tremaining: 14.3s\n",
      "501:\tlearn: 1530.7423789\ttotal: 14.4s\tremaining: 14.3s\n",
      "502:\tlearn: 1530.5327645\ttotal: 14.4s\tremaining: 14.2s\n",
      "503:\tlearn: 1530.3393215\ttotal: 14.4s\tremaining: 14.2s\n",
      "504:\tlearn: 1530.0912716\ttotal: 14.5s\tremaining: 14.2s\n",
      "505:\tlearn: 1529.9353486\ttotal: 14.5s\tremaining: 14.2s\n",
      "506:\tlearn: 1529.7310373\ttotal: 14.5s\tremaining: 14.1s\n",
      "507:\tlearn: 1529.4980701\ttotal: 14.6s\tremaining: 14.1s\n",
      "508:\tlearn: 1529.1115371\ttotal: 14.6s\tremaining: 14.1s\n",
      "509:\tlearn: 1528.9477069\ttotal: 14.6s\tremaining: 14s\n",
      "510:\tlearn: 1528.7154549\ttotal: 14.6s\tremaining: 14s\n",
      "511:\tlearn: 1528.2585010\ttotal: 14.7s\tremaining: 14s\n",
      "512:\tlearn: 1528.0512667\ttotal: 14.7s\tremaining: 14s\n",
      "513:\tlearn: 1527.8768887\ttotal: 14.7s\tremaining: 13.9s\n",
      "514:\tlearn: 1527.6533770\ttotal: 14.8s\tremaining: 13.9s\n",
      "515:\tlearn: 1527.5169207\ttotal: 14.8s\tremaining: 13.9s\n",
      "516:\tlearn: 1527.3605738\ttotal: 14.8s\tremaining: 13.8s\n",
      "517:\tlearn: 1527.2734970\ttotal: 14.8s\tremaining: 13.8s\n",
      "518:\tlearn: 1527.0743879\ttotal: 14.9s\tremaining: 13.8s\n",
      "519:\tlearn: 1526.8169194\ttotal: 14.9s\tremaining: 13.7s\n",
      "520:\tlearn: 1526.6010601\ttotal: 14.9s\tremaining: 13.7s\n",
      "521:\tlearn: 1526.4556664\ttotal: 14.9s\tremaining: 13.7s\n",
      "522:\tlearn: 1526.3135056\ttotal: 15s\tremaining: 13.7s\n",
      "523:\tlearn: 1526.1145285\ttotal: 15s\tremaining: 13.6s\n",
      "524:\tlearn: 1525.9780060\ttotal: 15s\tremaining: 13.6s\n",
      "525:\tlearn: 1525.8569409\ttotal: 15.1s\tremaining: 13.6s\n",
      "526:\tlearn: 1525.6509184\ttotal: 15.1s\tremaining: 13.5s\n",
      "527:\tlearn: 1525.3761763\ttotal: 15.1s\tremaining: 13.5s\n",
      "528:\tlearn: 1525.1869892\ttotal: 15.1s\tremaining: 13.5s\n",
      "529:\tlearn: 1525.0549305\ttotal: 15.2s\tremaining: 13.4s\n",
      "530:\tlearn: 1524.8977172\ttotal: 15.2s\tremaining: 13.4s\n",
      "531:\tlearn: 1524.7456588\ttotal: 15.2s\tremaining: 13.4s\n",
      "532:\tlearn: 1524.5905648\ttotal: 15.3s\tremaining: 13.4s\n",
      "533:\tlearn: 1524.4423361\ttotal: 15.3s\tremaining: 13.3s\n",
      "534:\tlearn: 1524.3142333\ttotal: 15.3s\tremaining: 13.3s\n",
      "535:\tlearn: 1524.2036941\ttotal: 15.3s\tremaining: 13.3s\n",
      "536:\tlearn: 1524.1102308\ttotal: 15.4s\tremaining: 13.2s\n",
      "537:\tlearn: 1523.9983220\ttotal: 15.4s\tremaining: 13.2s\n",
      "538:\tlearn: 1523.8641099\ttotal: 15.4s\tremaining: 13.2s\n",
      "539:\tlearn: 1523.6044903\ttotal: 15.4s\tremaining: 13.2s\n",
      "540:\tlearn: 1523.3848952\ttotal: 15.5s\tremaining: 13.1s\n",
      "541:\tlearn: 1523.2488778\ttotal: 15.5s\tremaining: 13.1s\n",
      "542:\tlearn: 1523.0268595\ttotal: 15.5s\tremaining: 13.1s\n",
      "543:\tlearn: 1522.8339826\ttotal: 15.6s\tremaining: 13s\n",
      "544:\tlearn: 1522.4886994\ttotal: 15.6s\tremaining: 13s\n",
      "545:\tlearn: 1522.3559413\ttotal: 15.6s\tremaining: 13s\n",
      "546:\tlearn: 1522.1379326\ttotal: 15.7s\tremaining: 13s\n",
      "547:\tlearn: 1521.9524108\ttotal: 15.7s\tremaining: 12.9s\n",
      "548:\tlearn: 1521.8269455\ttotal: 15.7s\tremaining: 12.9s\n",
      "549:\tlearn: 1521.7539875\ttotal: 15.7s\tremaining: 12.9s\n",
      "550:\tlearn: 1521.4469676\ttotal: 15.8s\tremaining: 12.9s\n",
      "551:\tlearn: 1521.2883926\ttotal: 15.8s\tremaining: 12.8s\n",
      "552:\tlearn: 1521.1241527\ttotal: 15.8s\tremaining: 12.8s\n",
      "553:\tlearn: 1521.0253196\ttotal: 15.9s\tremaining: 12.8s\n",
      "554:\tlearn: 1520.7851326\ttotal: 15.9s\tremaining: 12.8s\n",
      "555:\tlearn: 1520.5821761\ttotal: 15.9s\tremaining: 12.7s\n",
      "556:\tlearn: 1520.4910608\ttotal: 16s\tremaining: 12.7s\n",
      "557:\tlearn: 1520.3887785\ttotal: 16s\tremaining: 12.7s\n",
      "558:\tlearn: 1520.3149237\ttotal: 16s\tremaining: 12.6s\n",
      "559:\tlearn: 1520.1934281\ttotal: 16s\tremaining: 12.6s\n",
      "560:\tlearn: 1519.9267589\ttotal: 16.1s\tremaining: 12.6s\n",
      "561:\tlearn: 1519.7788728\ttotal: 16.1s\tremaining: 12.5s\n",
      "562:\tlearn: 1519.6903507\ttotal: 16.1s\tremaining: 12.5s\n",
      "563:\tlearn: 1519.5192256\ttotal: 16.2s\tremaining: 12.5s\n",
      "564:\tlearn: 1519.2688840\ttotal: 16.2s\tremaining: 12.5s\n",
      "565:\tlearn: 1519.0656989\ttotal: 16.2s\tremaining: 12.4s\n",
      "566:\tlearn: 1518.7585227\ttotal: 16.2s\tremaining: 12.4s\n",
      "567:\tlearn: 1518.4396569\ttotal: 16.3s\tremaining: 12.4s\n",
      "568:\tlearn: 1518.3187486\ttotal: 16.3s\tremaining: 12.3s\n",
      "569:\tlearn: 1518.1695604\ttotal: 16.3s\tremaining: 12.3s\n",
      "570:\tlearn: 1518.0518389\ttotal: 16.3s\tremaining: 12.3s\n",
      "571:\tlearn: 1517.8532047\ttotal: 16.4s\tremaining: 12.3s\n",
      "572:\tlearn: 1517.5813414\ttotal: 16.4s\tremaining: 12.2s\n",
      "573:\tlearn: 1517.4712435\ttotal: 16.4s\tremaining: 12.2s\n",
      "574:\tlearn: 1517.3543823\ttotal: 16.5s\tremaining: 12.2s\n",
      "575:\tlearn: 1517.1163826\ttotal: 16.5s\tremaining: 12.1s\n",
      "576:\tlearn: 1516.8818928\ttotal: 16.5s\tremaining: 12.1s\n",
      "577:\tlearn: 1516.5940420\ttotal: 16.5s\tremaining: 12.1s\n",
      "578:\tlearn: 1516.4623907\ttotal: 16.6s\tremaining: 12s\n",
      "579:\tlearn: 1516.3842038\ttotal: 16.6s\tremaining: 12s\n",
      "580:\tlearn: 1516.2031430\ttotal: 16.6s\tremaining: 12s\n",
      "581:\tlearn: 1515.9463143\ttotal: 16.7s\tremaining: 12s\n",
      "582:\tlearn: 1515.7756178\ttotal: 16.7s\tremaining: 11.9s\n",
      "583:\tlearn: 1515.6413622\ttotal: 16.7s\tremaining: 11.9s\n",
      "584:\tlearn: 1515.5211829\ttotal: 16.7s\tremaining: 11.9s\n",
      "585:\tlearn: 1515.3756549\ttotal: 16.8s\tremaining: 11.8s\n",
      "586:\tlearn: 1515.2111069\ttotal: 16.8s\tremaining: 11.8s\n",
      "587:\tlearn: 1515.0879340\ttotal: 16.8s\tremaining: 11.8s\n",
      "588:\tlearn: 1514.8068453\ttotal: 16.9s\tremaining: 11.8s\n",
      "589:\tlearn: 1514.6659333\ttotal: 16.9s\tremaining: 11.7s\n",
      "590:\tlearn: 1514.5578762\ttotal: 16.9s\tremaining: 11.7s\n",
      "591:\tlearn: 1514.4637036\ttotal: 16.9s\tremaining: 11.7s\n",
      "592:\tlearn: 1514.3612677\ttotal: 17s\tremaining: 11.6s\n",
      "593:\tlearn: 1514.1719478\ttotal: 17s\tremaining: 11.6s\n",
      "594:\tlearn: 1513.9712984\ttotal: 17s\tremaining: 11.6s\n",
      "595:\tlearn: 1513.8992395\ttotal: 17.1s\tremaining: 11.6s\n",
      "596:\tlearn: 1513.7178923\ttotal: 17.1s\tremaining: 11.5s\n",
      "597:\tlearn: 1513.6455287\ttotal: 17.1s\tremaining: 11.5s\n",
      "598:\tlearn: 1513.3112684\ttotal: 17.1s\tremaining: 11.5s\n",
      "599:\tlearn: 1513.2063521\ttotal: 17.2s\tremaining: 11.4s\n",
      "600:\tlearn: 1513.0520399\ttotal: 17.2s\tremaining: 11.4s\n",
      "601:\tlearn: 1512.9322855\ttotal: 17.2s\tremaining: 11.4s\n",
      "602:\tlearn: 1512.8348065\ttotal: 17.3s\tremaining: 11.4s\n",
      "603:\tlearn: 1512.6667184\ttotal: 17.3s\tremaining: 11.3s\n",
      "604:\tlearn: 1512.5978773\ttotal: 17.3s\tremaining: 11.3s\n",
      "605:\tlearn: 1512.4032870\ttotal: 17.3s\tremaining: 11.3s\n",
      "606:\tlearn: 1512.1345899\ttotal: 17.4s\tremaining: 11.2s\n",
      "607:\tlearn: 1512.0334017\ttotal: 17.4s\tremaining: 11.2s\n",
      "608:\tlearn: 1511.9509409\ttotal: 17.4s\tremaining: 11.2s\n",
      "609:\tlearn: 1511.7859303\ttotal: 17.4s\tremaining: 11.2s\n",
      "610:\tlearn: 1511.6749625\ttotal: 17.5s\tremaining: 11.1s\n",
      "611:\tlearn: 1511.5700311\ttotal: 17.5s\tremaining: 11.1s\n",
      "612:\tlearn: 1511.4421608\ttotal: 17.5s\tremaining: 11.1s\n",
      "613:\tlearn: 1511.2869674\ttotal: 17.6s\tremaining: 11s\n",
      "614:\tlearn: 1511.0785149\ttotal: 17.6s\tremaining: 11s\n",
      "615:\tlearn: 1510.9147405\ttotal: 17.6s\tremaining: 11s\n",
      "616:\tlearn: 1510.7856266\ttotal: 17.6s\tremaining: 10.9s\n",
      "617:\tlearn: 1510.6079810\ttotal: 17.7s\tremaining: 10.9s\n",
      "618:\tlearn: 1510.4248344\ttotal: 17.7s\tremaining: 10.9s\n",
      "619:\tlearn: 1510.1886710\ttotal: 17.7s\tremaining: 10.9s\n",
      "620:\tlearn: 1510.0279620\ttotal: 17.7s\tremaining: 10.8s\n",
      "621:\tlearn: 1509.9377603\ttotal: 17.8s\tremaining: 10.8s\n",
      "622:\tlearn: 1509.8195375\ttotal: 17.8s\tremaining: 10.8s\n",
      "623:\tlearn: 1509.6972340\ttotal: 17.8s\tremaining: 10.7s\n",
      "624:\tlearn: 1509.5528478\ttotal: 17.8s\tremaining: 10.7s\n",
      "625:\tlearn: 1509.3965947\ttotal: 17.9s\tremaining: 10.7s\n",
      "626:\tlearn: 1509.1024732\ttotal: 17.9s\tremaining: 10.7s\n",
      "627:\tlearn: 1508.9615821\ttotal: 17.9s\tremaining: 10.6s\n",
      "628:\tlearn: 1508.8450673\ttotal: 18s\tremaining: 10.6s\n",
      "629:\tlearn: 1508.6397452\ttotal: 18s\tremaining: 10.6s\n",
      "630:\tlearn: 1508.4998782\ttotal: 18s\tremaining: 10.5s\n",
      "631:\tlearn: 1508.3921646\ttotal: 18s\tremaining: 10.5s\n",
      "632:\tlearn: 1508.2508545\ttotal: 18.1s\tremaining: 10.5s\n",
      "633:\tlearn: 1508.1427182\ttotal: 18.1s\tremaining: 10.4s\n",
      "634:\tlearn: 1507.9476048\ttotal: 18.1s\tremaining: 10.4s\n",
      "635:\tlearn: 1507.8509384\ttotal: 18.2s\tremaining: 10.4s\n",
      "636:\tlearn: 1507.7425982\ttotal: 18.2s\tremaining: 10.4s\n",
      "637:\tlearn: 1507.2500823\ttotal: 18.2s\tremaining: 10.3s\n",
      "638:\tlearn: 1507.1181569\ttotal: 18.3s\tremaining: 10.3s\n",
      "639:\tlearn: 1506.9652558\ttotal: 18.3s\tremaining: 10.3s\n",
      "640:\tlearn: 1506.8218897\ttotal: 18.3s\tremaining: 10.3s\n",
      "641:\tlearn: 1506.7048171\ttotal: 18.3s\tremaining: 10.2s\n",
      "642:\tlearn: 1506.5836728\ttotal: 18.4s\tremaining: 10.2s\n",
      "643:\tlearn: 1506.5339052\ttotal: 18.4s\tremaining: 10.2s\n",
      "644:\tlearn: 1506.3485830\ttotal: 18.4s\tremaining: 10.1s\n",
      "645:\tlearn: 1506.1084045\ttotal: 18.4s\tremaining: 10.1s\n",
      "646:\tlearn: 1506.0546818\ttotal: 18.5s\tremaining: 10.1s\n",
      "647:\tlearn: 1505.7941305\ttotal: 18.5s\tremaining: 10s\n",
      "648:\tlearn: 1505.5983877\ttotal: 18.5s\tremaining: 10s\n",
      "649:\tlearn: 1505.3796424\ttotal: 18.6s\tremaining: 9.99s\n",
      "650:\tlearn: 1505.2696437\ttotal: 18.6s\tremaining: 9.96s\n",
      "651:\tlearn: 1505.1079542\ttotal: 18.6s\tremaining: 9.93s\n",
      "652:\tlearn: 1505.0238987\ttotal: 18.6s\tremaining: 9.9s\n",
      "653:\tlearn: 1504.8077175\ttotal: 18.7s\tremaining: 9.87s\n",
      "654:\tlearn: 1504.6415940\ttotal: 18.7s\tremaining: 9.84s\n",
      "655:\tlearn: 1504.5255414\ttotal: 18.7s\tremaining: 9.82s\n",
      "656:\tlearn: 1504.3698947\ttotal: 18.7s\tremaining: 9.79s\n",
      "657:\tlearn: 1504.1683323\ttotal: 18.8s\tremaining: 9.76s\n",
      "658:\tlearn: 1503.8890535\ttotal: 18.8s\tremaining: 9.73s\n",
      "659:\tlearn: 1503.7210984\ttotal: 18.8s\tremaining: 9.7s\n",
      "660:\tlearn: 1503.5741791\ttotal: 18.9s\tremaining: 9.67s\n",
      "661:\tlearn: 1503.5001717\ttotal: 18.9s\tremaining: 9.64s\n",
      "662:\tlearn: 1503.3074436\ttotal: 18.9s\tremaining: 9.61s\n",
      "663:\tlearn: 1503.2095344\ttotal: 18.9s\tremaining: 9.58s\n",
      "664:\tlearn: 1503.1368098\ttotal: 19s\tremaining: 9.55s\n",
      "665:\tlearn: 1502.9900573\ttotal: 19s\tremaining: 9.52s\n",
      "666:\tlearn: 1502.9321137\ttotal: 19s\tremaining: 9.5s\n",
      "667:\tlearn: 1502.6925740\ttotal: 19s\tremaining: 9.47s\n",
      "668:\tlearn: 1502.5449134\ttotal: 19.1s\tremaining: 9.44s\n",
      "669:\tlearn: 1502.4116089\ttotal: 19.1s\tremaining: 9.41s\n",
      "670:\tlearn: 1502.2198598\ttotal: 19.1s\tremaining: 9.38s\n",
      "671:\tlearn: 1502.1198123\ttotal: 19.2s\tremaining: 9.35s\n",
      "672:\tlearn: 1501.9876484\ttotal: 19.2s\tremaining: 9.32s\n",
      "673:\tlearn: 1501.8347741\ttotal: 19.2s\tremaining: 9.29s\n",
      "674:\tlearn: 1501.6813526\ttotal: 19.2s\tremaining: 9.27s\n",
      "675:\tlearn: 1501.6040942\ttotal: 19.3s\tremaining: 9.23s\n",
      "676:\tlearn: 1501.3734464\ttotal: 19.3s\tremaining: 9.21s\n",
      "677:\tlearn: 1501.1427234\ttotal: 19.3s\tremaining: 9.18s\n",
      "678:\tlearn: 1501.0113535\ttotal: 19.4s\tremaining: 9.15s\n",
      "679:\tlearn: 1500.8832029\ttotal: 19.4s\tremaining: 9.12s\n",
      "680:\tlearn: 1500.6872192\ttotal: 19.4s\tremaining: 9.09s\n",
      "681:\tlearn: 1500.4209782\ttotal: 19.4s\tremaining: 9.06s\n",
      "682:\tlearn: 1500.2661670\ttotal: 19.5s\tremaining: 9.03s\n",
      "683:\tlearn: 1499.9378057\ttotal: 19.5s\tremaining: 9s\n",
      "684:\tlearn: 1499.7652594\ttotal: 19.5s\tremaining: 8.97s\n",
      "685:\tlearn: 1499.6655855\ttotal: 19.5s\tremaining: 8.94s\n",
      "686:\tlearn: 1499.5465757\ttotal: 19.6s\tremaining: 8.91s\n",
      "687:\tlearn: 1499.4847009\ttotal: 19.6s\tremaining: 8.88s\n",
      "688:\tlearn: 1499.3532082\ttotal: 19.6s\tremaining: 8.85s\n",
      "689:\tlearn: 1499.2397689\ttotal: 19.6s\tremaining: 8.82s\n",
      "690:\tlearn: 1499.1285456\ttotal: 19.7s\tremaining: 8.79s\n",
      "691:\tlearn: 1499.0209626\ttotal: 19.7s\tremaining: 8.77s\n",
      "692:\tlearn: 1498.9005397\ttotal: 19.7s\tremaining: 8.74s\n",
      "693:\tlearn: 1498.6815242\ttotal: 19.8s\tremaining: 8.71s\n",
      "694:\tlearn: 1498.5003985\ttotal: 19.8s\tremaining: 8.69s\n",
      "695:\tlearn: 1498.4011833\ttotal: 19.8s\tremaining: 8.66s\n",
      "696:\tlearn: 1498.2745786\ttotal: 19.9s\tremaining: 8.63s\n",
      "697:\tlearn: 1498.1142342\ttotal: 19.9s\tremaining: 8.6s\n",
      "698:\tlearn: 1498.0082286\ttotal: 19.9s\tremaining: 8.57s\n",
      "699:\tlearn: 1497.8926970\ttotal: 19.9s\tremaining: 8.54s\n",
      "700:\tlearn: 1497.6972527\ttotal: 20s\tremaining: 8.51s\n",
      "701:\tlearn: 1497.5900407\ttotal: 20s\tremaining: 8.48s\n",
      "702:\tlearn: 1497.4694854\ttotal: 20s\tremaining: 8.46s\n",
      "703:\tlearn: 1497.3181098\ttotal: 20s\tremaining: 8.43s\n",
      "704:\tlearn: 1497.1521540\ttotal: 20.1s\tremaining: 8.4s\n",
      "705:\tlearn: 1497.0422181\ttotal: 20.1s\tremaining: 8.37s\n",
      "706:\tlearn: 1496.8962916\ttotal: 20.1s\tremaining: 8.34s\n",
      "707:\tlearn: 1496.6473134\ttotal: 20.2s\tremaining: 8.31s\n",
      "708:\tlearn: 1496.5748352\ttotal: 20.2s\tremaining: 8.28s\n",
      "709:\tlearn: 1496.3488768\ttotal: 20.2s\tremaining: 8.25s\n",
      "710:\tlearn: 1496.2155585\ttotal: 20.2s\tremaining: 8.22s\n",
      "711:\tlearn: 1496.0902445\ttotal: 20.3s\tremaining: 8.2s\n",
      "712:\tlearn: 1495.9937795\ttotal: 20.3s\tremaining: 8.17s\n",
      "713:\tlearn: 1495.7945743\ttotal: 20.3s\tremaining: 8.14s\n",
      "714:\tlearn: 1495.6135179\ttotal: 20.3s\tremaining: 8.11s\n",
      "715:\tlearn: 1495.4642267\ttotal: 20.4s\tremaining: 8.08s\n",
      "716:\tlearn: 1495.3347953\ttotal: 20.4s\tremaining: 8.05s\n",
      "717:\tlearn: 1495.1268865\ttotal: 20.4s\tremaining: 8.02s\n",
      "718:\tlearn: 1494.9962247\ttotal: 20.4s\tremaining: 7.99s\n",
      "719:\tlearn: 1494.8576957\ttotal: 20.5s\tremaining: 7.96s\n",
      "720:\tlearn: 1494.7295615\ttotal: 20.5s\tremaining: 7.94s\n",
      "721:\tlearn: 1494.5321889\ttotal: 20.5s\tremaining: 7.91s\n",
      "722:\tlearn: 1494.3319550\ttotal: 20.6s\tremaining: 7.88s\n",
      "723:\tlearn: 1494.1884530\ttotal: 20.6s\tremaining: 7.85s\n",
      "724:\tlearn: 1494.0658256\ttotal: 20.6s\tremaining: 7.82s\n",
      "725:\tlearn: 1493.9500913\ttotal: 20.7s\tremaining: 7.79s\n",
      "726:\tlearn: 1493.8243716\ttotal: 20.7s\tremaining: 7.77s\n",
      "727:\tlearn: 1493.7298986\ttotal: 20.7s\tremaining: 7.74s\n",
      "728:\tlearn: 1493.5724134\ttotal: 20.7s\tremaining: 7.71s\n",
      "729:\tlearn: 1493.3957298\ttotal: 20.8s\tremaining: 7.68s\n",
      "730:\tlearn: 1493.2381953\ttotal: 20.8s\tremaining: 7.65s\n",
      "731:\tlearn: 1493.1028983\ttotal: 20.8s\tremaining: 7.62s\n",
      "732:\tlearn: 1492.9507245\ttotal: 20.8s\tremaining: 7.59s\n",
      "733:\tlearn: 1492.7525992\ttotal: 20.9s\tremaining: 7.56s\n",
      "734:\tlearn: 1492.6251208\ttotal: 20.9s\tremaining: 7.53s\n",
      "735:\tlearn: 1492.4515465\ttotal: 20.9s\tremaining: 7.5s\n",
      "736:\tlearn: 1492.3491950\ttotal: 21s\tremaining: 7.48s\n",
      "737:\tlearn: 1492.2672311\ttotal: 21s\tremaining: 7.45s\n",
      "738:\tlearn: 1491.9664332\ttotal: 21s\tremaining: 7.42s\n",
      "739:\tlearn: 1491.8457173\ttotal: 21s\tremaining: 7.39s\n",
      "740:\tlearn: 1491.7326961\ttotal: 21.1s\tremaining: 7.36s\n",
      "741:\tlearn: 1491.5717178\ttotal: 21.1s\tremaining: 7.33s\n",
      "742:\tlearn: 1491.4604183\ttotal: 21.1s\tremaining: 7.3s\n",
      "743:\tlearn: 1491.3381391\ttotal: 21.1s\tremaining: 7.28s\n",
      "744:\tlearn: 1491.0887771\ttotal: 21.2s\tremaining: 7.25s\n",
      "745:\tlearn: 1490.9133735\ttotal: 21.2s\tremaining: 7.22s\n",
      "746:\tlearn: 1490.8058199\ttotal: 21.2s\tremaining: 7.2s\n",
      "747:\tlearn: 1490.7285032\ttotal: 21.3s\tremaining: 7.17s\n",
      "748:\tlearn: 1490.6456417\ttotal: 21.3s\tremaining: 7.13s\n",
      "749:\tlearn: 1490.5532449\ttotal: 21.3s\tremaining: 7.11s\n",
      "750:\tlearn: 1490.4120975\ttotal: 21.3s\tremaining: 7.08s\n",
      "751:\tlearn: 1490.2246205\ttotal: 21.4s\tremaining: 7.05s\n",
      "752:\tlearn: 1490.1061883\ttotal: 21.4s\tremaining: 7.02s\n",
      "753:\tlearn: 1490.0203174\ttotal: 21.4s\tremaining: 6.99s\n",
      "754:\tlearn: 1489.9145280\ttotal: 21.4s\tremaining: 6.96s\n",
      "755:\tlearn: 1489.7905713\ttotal: 21.5s\tremaining: 6.93s\n",
      "756:\tlearn: 1489.7061053\ttotal: 21.5s\tremaining: 6.9s\n",
      "757:\tlearn: 1489.4945784\ttotal: 21.5s\tremaining: 6.88s\n",
      "758:\tlearn: 1489.2734848\ttotal: 21.6s\tremaining: 6.85s\n",
      "759:\tlearn: 1488.9524237\ttotal: 21.6s\tremaining: 6.82s\n",
      "760:\tlearn: 1488.7387208\ttotal: 21.6s\tremaining: 6.79s\n",
      "761:\tlearn: 1488.4914566\ttotal: 21.6s\tremaining: 6.76s\n",
      "762:\tlearn: 1488.4400916\ttotal: 21.7s\tremaining: 6.73s\n",
      "763:\tlearn: 1488.3116907\ttotal: 21.7s\tremaining: 6.7s\n",
      "764:\tlearn: 1488.1626678\ttotal: 21.7s\tremaining: 6.68s\n",
      "765:\tlearn: 1488.0346268\ttotal: 21.8s\tremaining: 6.65s\n",
      "766:\tlearn: 1487.9296411\ttotal: 21.8s\tremaining: 6.62s\n",
      "767:\tlearn: 1487.7854333\ttotal: 21.8s\tremaining: 6.59s\n",
      "768:\tlearn: 1487.6903084\ttotal: 21.8s\tremaining: 6.56s\n",
      "769:\tlearn: 1487.5709892\ttotal: 21.9s\tremaining: 6.53s\n",
      "770:\tlearn: 1487.2881271\ttotal: 21.9s\tremaining: 6.5s\n",
      "771:\tlearn: 1487.1857177\ttotal: 21.9s\tremaining: 6.47s\n",
      "772:\tlearn: 1487.0952091\ttotal: 22s\tremaining: 6.45s\n",
      "773:\tlearn: 1486.9372933\ttotal: 22s\tremaining: 6.42s\n",
      "774:\tlearn: 1486.7785498\ttotal: 22s\tremaining: 6.39s\n",
      "775:\tlearn: 1486.5729816\ttotal: 22s\tremaining: 6.36s\n",
      "776:\tlearn: 1486.5279295\ttotal: 22.1s\tremaining: 6.33s\n",
      "777:\tlearn: 1486.4077659\ttotal: 22.1s\tremaining: 6.3s\n",
      "778:\tlearn: 1486.3029000\ttotal: 22.1s\tremaining: 6.27s\n",
      "779:\tlearn: 1486.2243047\ttotal: 22.1s\tremaining: 6.25s\n",
      "780:\tlearn: 1486.1488938\ttotal: 22.2s\tremaining: 6.22s\n",
      "781:\tlearn: 1486.0306791\ttotal: 22.2s\tremaining: 6.19s\n",
      "782:\tlearn: 1485.8944974\ttotal: 22.2s\tremaining: 6.16s\n",
      "783:\tlearn: 1485.7735654\ttotal: 22.3s\tremaining: 6.13s\n",
      "784:\tlearn: 1485.5936998\ttotal: 22.3s\tremaining: 6.1s\n",
      "785:\tlearn: 1485.4436580\ttotal: 22.3s\tremaining: 6.07s\n",
      "786:\tlearn: 1485.2935979\ttotal: 22.3s\tremaining: 6.04s\n",
      "787:\tlearn: 1485.2018172\ttotal: 22.4s\tremaining: 6.02s\n",
      "788:\tlearn: 1485.1358413\ttotal: 22.4s\tremaining: 5.99s\n",
      "789:\tlearn: 1485.0792515\ttotal: 22.4s\tremaining: 5.96s\n",
      "790:\tlearn: 1485.0277440\ttotal: 22.4s\tremaining: 5.93s\n",
      "791:\tlearn: 1484.8922190\ttotal: 22.5s\tremaining: 5.9s\n",
      "792:\tlearn: 1484.7647261\ttotal: 22.5s\tremaining: 5.88s\n",
      "793:\tlearn: 1484.6020116\ttotal: 22.5s\tremaining: 5.85s\n",
      "794:\tlearn: 1484.4960192\ttotal: 22.6s\tremaining: 5.82s\n",
      "795:\tlearn: 1484.3650527\ttotal: 22.6s\tremaining: 5.79s\n",
      "796:\tlearn: 1484.1995143\ttotal: 22.6s\tremaining: 5.76s\n",
      "797:\tlearn: 1484.0382661\ttotal: 22.7s\tremaining: 5.73s\n",
      "798:\tlearn: 1483.9708136\ttotal: 22.7s\tremaining: 5.71s\n",
      "799:\tlearn: 1483.9030705\ttotal: 22.7s\tremaining: 5.68s\n",
      "800:\tlearn: 1483.8572924\ttotal: 22.7s\tremaining: 5.65s\n",
      "801:\tlearn: 1483.7994874\ttotal: 22.8s\tremaining: 5.62s\n",
      "802:\tlearn: 1483.6498927\ttotal: 22.8s\tremaining: 5.59s\n",
      "803:\tlearn: 1483.5576236\ttotal: 22.8s\tremaining: 5.57s\n",
      "804:\tlearn: 1483.4936145\ttotal: 22.9s\tremaining: 5.54s\n",
      "805:\tlearn: 1483.4104819\ttotal: 22.9s\tremaining: 5.51s\n",
      "806:\tlearn: 1483.2843114\ttotal: 22.9s\tremaining: 5.48s\n",
      "807:\tlearn: 1483.2065994\ttotal: 22.9s\tremaining: 5.45s\n",
      "808:\tlearn: 1483.1087099\ttotal: 23s\tremaining: 5.42s\n",
      "809:\tlearn: 1482.9690022\ttotal: 23s\tremaining: 5.39s\n",
      "810:\tlearn: 1482.8640384\ttotal: 23s\tremaining: 5.36s\n",
      "811:\tlearn: 1482.6863527\ttotal: 23s\tremaining: 5.33s\n",
      "812:\tlearn: 1482.5100347\ttotal: 23.1s\tremaining: 5.31s\n",
      "813:\tlearn: 1482.4487186\ttotal: 23.1s\tremaining: 5.28s\n",
      "814:\tlearn: 1482.4071572\ttotal: 23.1s\tremaining: 5.25s\n",
      "815:\tlearn: 1482.2973258\ttotal: 23.2s\tremaining: 5.22s\n",
      "816:\tlearn: 1482.1258258\ttotal: 23.2s\tremaining: 5.19s\n",
      "817:\tlearn: 1481.9893049\ttotal: 23.2s\tremaining: 5.16s\n",
      "818:\tlearn: 1481.8788531\ttotal: 23.2s\tremaining: 5.13s\n",
      "819:\tlearn: 1481.7877712\ttotal: 23.3s\tremaining: 5.11s\n",
      "820:\tlearn: 1481.6580853\ttotal: 23.3s\tremaining: 5.08s\n",
      "821:\tlearn: 1481.4821104\ttotal: 23.3s\tremaining: 5.05s\n",
      "822:\tlearn: 1481.3544358\ttotal: 23.3s\tremaining: 5.02s\n",
      "823:\tlearn: 1481.2567512\ttotal: 23.4s\tremaining: 4.99s\n",
      "824:\tlearn: 1481.0775587\ttotal: 23.4s\tremaining: 4.96s\n",
      "825:\tlearn: 1480.9895413\ttotal: 23.4s\tremaining: 4.93s\n",
      "826:\tlearn: 1480.8803187\ttotal: 23.5s\tremaining: 4.91s\n",
      "827:\tlearn: 1480.7306530\ttotal: 23.5s\tremaining: 4.88s\n",
      "828:\tlearn: 1480.6438248\ttotal: 23.5s\tremaining: 4.85s\n",
      "829:\tlearn: 1480.4334484\ttotal: 23.5s\tremaining: 4.82s\n",
      "830:\tlearn: 1480.3697891\ttotal: 23.6s\tremaining: 4.79s\n",
      "831:\tlearn: 1480.2555331\ttotal: 23.6s\tremaining: 4.77s\n",
      "832:\tlearn: 1480.1979986\ttotal: 23.6s\tremaining: 4.74s\n",
      "833:\tlearn: 1479.8824554\ttotal: 23.7s\tremaining: 4.71s\n",
      "834:\tlearn: 1479.7767689\ttotal: 23.7s\tremaining: 4.68s\n",
      "835:\tlearn: 1479.5977988\ttotal: 23.7s\tremaining: 4.65s\n",
      "836:\tlearn: 1479.4197171\ttotal: 23.8s\tremaining: 4.63s\n",
      "837:\tlearn: 1479.2872806\ttotal: 23.8s\tremaining: 4.6s\n",
      "838:\tlearn: 1479.2303468\ttotal: 23.8s\tremaining: 4.57s\n",
      "839:\tlearn: 1479.1101825\ttotal: 23.9s\tremaining: 4.54s\n",
      "840:\tlearn: 1478.8819607\ttotal: 23.9s\tremaining: 4.51s\n",
      "841:\tlearn: 1478.6535704\ttotal: 23.9s\tremaining: 4.49s\n",
      "842:\tlearn: 1478.5275403\ttotal: 24s\tremaining: 4.46s\n",
      "843:\tlearn: 1478.3909306\ttotal: 24s\tremaining: 4.43s\n",
      "844:\tlearn: 1478.3280984\ttotal: 24s\tremaining: 4.4s\n",
      "845:\tlearn: 1478.2567122\ttotal: 24s\tremaining: 4.38s\n",
      "846:\tlearn: 1478.1711080\ttotal: 24.1s\tremaining: 4.35s\n",
      "847:\tlearn: 1478.0626827\ttotal: 24.1s\tremaining: 4.32s\n",
      "848:\tlearn: 1477.9062698\ttotal: 24.1s\tremaining: 4.29s\n",
      "849:\tlearn: 1477.7980310\ttotal: 24.1s\tremaining: 4.26s\n",
      "850:\tlearn: 1477.7132226\ttotal: 24.2s\tremaining: 4.23s\n",
      "851:\tlearn: 1477.6085601\ttotal: 24.2s\tremaining: 4.2s\n",
      "852:\tlearn: 1477.4919778\ttotal: 24.2s\tremaining: 4.18s\n",
      "853:\tlearn: 1477.4065331\ttotal: 24.3s\tremaining: 4.15s\n",
      "854:\tlearn: 1477.2927523\ttotal: 24.3s\tremaining: 4.12s\n",
      "855:\tlearn: 1477.2106457\ttotal: 24.3s\tremaining: 4.09s\n",
      "856:\tlearn: 1477.0779491\ttotal: 24.3s\tremaining: 4.06s\n",
      "857:\tlearn: 1476.9896488\ttotal: 24.4s\tremaining: 4.03s\n",
      "858:\tlearn: 1476.9087332\ttotal: 24.4s\tremaining: 4s\n",
      "859:\tlearn: 1476.8161336\ttotal: 24.4s\tremaining: 3.98s\n",
      "860:\tlearn: 1476.7260040\ttotal: 24.4s\tremaining: 3.95s\n",
      "861:\tlearn: 1476.5345594\ttotal: 24.5s\tremaining: 3.92s\n",
      "862:\tlearn: 1476.3770867\ttotal: 24.5s\tremaining: 3.89s\n",
      "863:\tlearn: 1476.1829257\ttotal: 24.5s\tremaining: 3.86s\n",
      "864:\tlearn: 1476.0906199\ttotal: 24.6s\tremaining: 3.83s\n",
      "865:\tlearn: 1475.9712796\ttotal: 24.6s\tremaining: 3.8s\n",
      "866:\tlearn: 1475.9171661\ttotal: 24.6s\tremaining: 3.77s\n",
      "867:\tlearn: 1475.8532077\ttotal: 24.6s\tremaining: 3.75s\n",
      "868:\tlearn: 1475.7396240\ttotal: 24.7s\tremaining: 3.72s\n",
      "869:\tlearn: 1475.6954789\ttotal: 24.7s\tremaining: 3.69s\n",
      "870:\tlearn: 1475.5947139\ttotal: 24.7s\tremaining: 3.66s\n",
      "871:\tlearn: 1475.4826658\ttotal: 24.8s\tremaining: 3.63s\n",
      "872:\tlearn: 1475.3059091\ttotal: 24.8s\tremaining: 3.6s\n",
      "873:\tlearn: 1475.1895992\ttotal: 24.8s\tremaining: 3.58s\n",
      "874:\tlearn: 1475.1048540\ttotal: 24.8s\tremaining: 3.55s\n",
      "875:\tlearn: 1475.0146327\ttotal: 24.9s\tremaining: 3.52s\n",
      "876:\tlearn: 1474.9379379\ttotal: 24.9s\tremaining: 3.49s\n",
      "877:\tlearn: 1474.8648844\ttotal: 24.9s\tremaining: 3.46s\n",
      "878:\tlearn: 1474.7597402\ttotal: 24.9s\tremaining: 3.43s\n",
      "879:\tlearn: 1474.6913505\ttotal: 25s\tremaining: 3.4s\n",
      "880:\tlearn: 1474.5406249\ttotal: 25s\tremaining: 3.38s\n",
      "881:\tlearn: 1474.4776585\ttotal: 25s\tremaining: 3.35s\n",
      "882:\tlearn: 1474.4231581\ttotal: 25.1s\tremaining: 3.32s\n",
      "883:\tlearn: 1474.3362303\ttotal: 25.1s\tremaining: 3.29s\n",
      "884:\tlearn: 1474.2438325\ttotal: 25.1s\tremaining: 3.26s\n",
      "885:\tlearn: 1474.0732843\ttotal: 25.1s\tremaining: 3.23s\n",
      "886:\tlearn: 1474.0373795\ttotal: 25.2s\tremaining: 3.21s\n",
      "887:\tlearn: 1473.8609863\ttotal: 25.2s\tremaining: 3.18s\n",
      "888:\tlearn: 1473.7593666\ttotal: 25.2s\tremaining: 3.15s\n",
      "889:\tlearn: 1473.6637856\ttotal: 25.3s\tremaining: 3.12s\n",
      "890:\tlearn: 1473.5394552\ttotal: 25.3s\tremaining: 3.09s\n",
      "891:\tlearn: 1473.3555376\ttotal: 25.3s\tremaining: 3.06s\n",
      "892:\tlearn: 1473.2277122\ttotal: 25.3s\tremaining: 3.04s\n",
      "893:\tlearn: 1473.1417721\ttotal: 25.4s\tremaining: 3.01s\n",
      "894:\tlearn: 1473.0333268\ttotal: 25.4s\tremaining: 2.98s\n",
      "895:\tlearn: 1472.9232353\ttotal: 25.4s\tremaining: 2.95s\n",
      "896:\tlearn: 1472.8504768\ttotal: 25.5s\tremaining: 2.92s\n",
      "897:\tlearn: 1472.6908920\ttotal: 25.5s\tremaining: 2.9s\n",
      "898:\tlearn: 1472.5430653\ttotal: 25.5s\tremaining: 2.87s\n",
      "899:\tlearn: 1472.4375792\ttotal: 25.6s\tremaining: 2.84s\n",
      "900:\tlearn: 1472.2868113\ttotal: 25.6s\tremaining: 2.81s\n",
      "901:\tlearn: 1472.1178089\ttotal: 25.6s\tremaining: 2.78s\n",
      "902:\tlearn: 1472.0567537\ttotal: 25.6s\tremaining: 2.75s\n",
      "903:\tlearn: 1471.9685363\ttotal: 25.7s\tremaining: 2.73s\n",
      "904:\tlearn: 1471.9004052\ttotal: 25.7s\tremaining: 2.7s\n",
      "905:\tlearn: 1471.8088034\ttotal: 25.7s\tremaining: 2.67s\n",
      "906:\tlearn: 1471.7415821\ttotal: 25.8s\tremaining: 2.64s\n",
      "907:\tlearn: 1471.6472031\ttotal: 25.8s\tremaining: 2.61s\n",
      "908:\tlearn: 1471.5072282\ttotal: 25.8s\tremaining: 2.58s\n",
      "909:\tlearn: 1471.4387879\ttotal: 25.8s\tremaining: 2.56s\n",
      "910:\tlearn: 1471.3393570\ttotal: 25.9s\tremaining: 2.53s\n",
      "911:\tlearn: 1471.2648586\ttotal: 25.9s\tremaining: 2.5s\n",
      "912:\tlearn: 1471.1360530\ttotal: 25.9s\tremaining: 2.47s\n",
      "913:\tlearn: 1471.0363025\ttotal: 25.9s\tremaining: 2.44s\n",
      "914:\tlearn: 1470.9852918\ttotal: 26s\tremaining: 2.41s\n",
      "915:\tlearn: 1470.9306645\ttotal: 26s\tremaining: 2.38s\n",
      "916:\tlearn: 1470.7961042\ttotal: 26s\tremaining: 2.35s\n",
      "917:\tlearn: 1470.6984253\ttotal: 26.1s\tremaining: 2.33s\n",
      "918:\tlearn: 1470.5325483\ttotal: 26.1s\tremaining: 2.3s\n",
      "919:\tlearn: 1470.3929796\ttotal: 26.1s\tremaining: 2.27s\n",
      "920:\tlearn: 1470.3105770\ttotal: 26.1s\tremaining: 2.24s\n",
      "921:\tlearn: 1470.2067045\ttotal: 26.2s\tremaining: 2.21s\n",
      "922:\tlearn: 1470.1285351\ttotal: 26.2s\tremaining: 2.19s\n",
      "923:\tlearn: 1470.0391148\ttotal: 26.2s\tremaining: 2.16s\n",
      "924:\tlearn: 1469.9667208\ttotal: 26.3s\tremaining: 2.13s\n",
      "925:\tlearn: 1469.8575271\ttotal: 26.3s\tremaining: 2.1s\n",
      "926:\tlearn: 1469.7575802\ttotal: 26.3s\tremaining: 2.07s\n",
      "927:\tlearn: 1469.6614164\ttotal: 26.3s\tremaining: 2.04s\n",
      "928:\tlearn: 1469.5964779\ttotal: 26.4s\tremaining: 2.01s\n",
      "929:\tlearn: 1469.5139903\ttotal: 26.4s\tremaining: 1.99s\n",
      "930:\tlearn: 1469.3989441\ttotal: 26.4s\tremaining: 1.96s\n",
      "931:\tlearn: 1469.3263658\ttotal: 26.5s\tremaining: 1.93s\n",
      "932:\tlearn: 1469.2606629\ttotal: 26.5s\tremaining: 1.9s\n",
      "933:\tlearn: 1469.1591203\ttotal: 26.5s\tremaining: 1.87s\n",
      "934:\tlearn: 1469.0854070\ttotal: 26.5s\tremaining: 1.84s\n",
      "935:\tlearn: 1468.9875690\ttotal: 26.6s\tremaining: 1.82s\n",
      "936:\tlearn: 1468.9141317\ttotal: 26.6s\tremaining: 1.79s\n",
      "937:\tlearn: 1468.8328871\ttotal: 26.6s\tremaining: 1.76s\n",
      "938:\tlearn: 1468.7813066\ttotal: 26.7s\tremaining: 1.73s\n",
      "939:\tlearn: 1468.5879013\ttotal: 26.7s\tremaining: 1.7s\n",
      "940:\tlearn: 1468.4767317\ttotal: 26.7s\tremaining: 1.68s\n",
      "941:\tlearn: 1468.4231889\ttotal: 26.8s\tremaining: 1.65s\n",
      "942:\tlearn: 1468.3489585\ttotal: 26.8s\tremaining: 1.62s\n",
      "943:\tlearn: 1468.2910082\ttotal: 26.8s\tremaining: 1.59s\n",
      "944:\tlearn: 1468.2018236\ttotal: 26.9s\tremaining: 1.56s\n",
      "945:\tlearn: 1468.1065441\ttotal: 26.9s\tremaining: 1.53s\n",
      "946:\tlearn: 1468.0011692\ttotal: 26.9s\tremaining: 1.5s\n",
      "947:\tlearn: 1467.9306540\ttotal: 26.9s\tremaining: 1.48s\n",
      "948:\tlearn: 1467.8845139\ttotal: 27s\tremaining: 1.45s\n",
      "949:\tlearn: 1467.7915834\ttotal: 27s\tremaining: 1.42s\n",
      "950:\tlearn: 1467.6547947\ttotal: 27s\tremaining: 1.39s\n",
      "951:\tlearn: 1467.6026789\ttotal: 27s\tremaining: 1.36s\n",
      "952:\tlearn: 1467.5006999\ttotal: 27.1s\tremaining: 1.33s\n",
      "953:\tlearn: 1467.4186982\ttotal: 27.1s\tremaining: 1.31s\n",
      "954:\tlearn: 1467.3265301\ttotal: 27.1s\tremaining: 1.28s\n",
      "955:\tlearn: 1467.2595189\ttotal: 27.2s\tremaining: 1.25s\n",
      "956:\tlearn: 1467.1327141\ttotal: 27.2s\tremaining: 1.22s\n",
      "957:\tlearn: 1466.9392873\ttotal: 27.2s\tremaining: 1.19s\n",
      "958:\tlearn: 1466.8304339\ttotal: 27.2s\tremaining: 1.16s\n",
      "959:\tlearn: 1466.7533994\ttotal: 27.3s\tremaining: 1.14s\n",
      "960:\tlearn: 1466.6278863\ttotal: 27.3s\tremaining: 1.11s\n",
      "961:\tlearn: 1466.4589075\ttotal: 27.3s\tremaining: 1.08s\n",
      "962:\tlearn: 1466.1699395\ttotal: 27.4s\tremaining: 1.05s\n",
      "963:\tlearn: 1466.1102151\ttotal: 27.4s\tremaining: 1.02s\n",
      "964:\tlearn: 1466.0137730\ttotal: 27.4s\tremaining: 995ms\n",
      "965:\tlearn: 1465.8712028\ttotal: 27.5s\tremaining: 966ms\n",
      "966:\tlearn: 1465.5984629\ttotal: 27.5s\tremaining: 938ms\n",
      "967:\tlearn: 1465.5482523\ttotal: 27.5s\tremaining: 909ms\n",
      "968:\tlearn: 1465.4119425\ttotal: 27.5s\tremaining: 881ms\n",
      "969:\tlearn: 1465.3284207\ttotal: 27.6s\tremaining: 853ms\n",
      "970:\tlearn: 1465.2795725\ttotal: 27.6s\tremaining: 824ms\n",
      "971:\tlearn: 1465.2193652\ttotal: 27.6s\tremaining: 796ms\n",
      "972:\tlearn: 1465.1292232\ttotal: 27.7s\tremaining: 767ms\n",
      "973:\tlearn: 1465.0205289\ttotal: 27.7s\tremaining: 739ms\n",
      "974:\tlearn: 1464.9449185\ttotal: 27.7s\tremaining: 711ms\n",
      "975:\tlearn: 1464.8096080\ttotal: 27.7s\tremaining: 682ms\n",
      "976:\tlearn: 1464.7347166\ttotal: 27.8s\tremaining: 654ms\n",
      "977:\tlearn: 1464.6068102\ttotal: 27.8s\tremaining: 625ms\n",
      "978:\tlearn: 1464.5439719\ttotal: 27.8s\tremaining: 597ms\n",
      "979:\tlearn: 1464.4931104\ttotal: 27.9s\tremaining: 568ms\n",
      "980:\tlearn: 1464.3699388\ttotal: 27.9s\tremaining: 540ms\n",
      "981:\tlearn: 1464.2295027\ttotal: 27.9s\tremaining: 512ms\n",
      "982:\tlearn: 1464.1591718\ttotal: 27.9s\tremaining: 483ms\n",
      "983:\tlearn: 1464.0417936\ttotal: 28s\tremaining: 455ms\n",
      "984:\tlearn: 1463.8563831\ttotal: 28s\tremaining: 426ms\n",
      "985:\tlearn: 1463.7119177\ttotal: 28s\tremaining: 398ms\n",
      "986:\tlearn: 1463.5760624\ttotal: 28s\tremaining: 369ms\n",
      "987:\tlearn: 1463.4748531\ttotal: 28.1s\tremaining: 341ms\n",
      "988:\tlearn: 1463.3547244\ttotal: 28.1s\tremaining: 313ms\n",
      "989:\tlearn: 1463.2480973\ttotal: 28.1s\tremaining: 284ms\n",
      "990:\tlearn: 1463.1970053\ttotal: 28.2s\tremaining: 256ms\n",
      "991:\tlearn: 1463.0659146\ttotal: 28.2s\tremaining: 227ms\n",
      "992:\tlearn: 1462.9971055\ttotal: 28.2s\tremaining: 199ms\n",
      "993:\tlearn: 1462.8433541\ttotal: 28.2s\tremaining: 171ms\n",
      "994:\tlearn: 1462.7289139\ttotal: 28.3s\tremaining: 142ms\n",
      "995:\tlearn: 1462.5933936\ttotal: 28.3s\tremaining: 114ms\n",
      "996:\tlearn: 1462.4933960\ttotal: 28.3s\tremaining: 85.3ms\n",
      "997:\tlearn: 1462.3897381\ttotal: 28.4s\tremaining: 56.9ms\n",
      "998:\tlearn: 1462.3496423\ttotal: 28.4s\tremaining: 28.4ms\n",
      "999:\tlearn: 1462.2583248\ttotal: 28.4s\tremaining: 0us\n",
      "RMSE на тестовом наборе данных: 1516.8878746447854\n"
     ]
    }
   ],
   "source": [
    "pipeline_catboost.fit(features_train, target_train)\n",
    "\n",
    "predictions_test = pipeline_catboost.predict(features_test)\n",
    "\n",
    "rmse_test = np.sqrt(mean_squared_error(target_test, predictions_test))\n",
    "\n",
    "print(f\"RMSE на тестовом наборе данных: {rmse_test}\")"
   ]
  },
  {
   "cell_type": "markdown",
   "metadata": {},
   "source": [
    "## Общий вывод\n",
    "\n",
    "\n",
    "Итак, обобщая информацию о проекте и различных моделях:\n",
    "\n",
    "1. LinearRegression показывает худшее качество предсказаний с самым высоким значением RMSE, но обладает преимуществами в виде самого быстрого времени обучения и предсказания. Эта модель подходит, если важны скорость работы и меньшие затраты на вычислительные ресурсы, но можно пожертвовать точностью.\n",
    "2. LightGBM предлагает лучшее качество предсказаний с наименьшим RMSE, но требует значительно больше времени на обучение. Однако, время предсказания у модели остается на удовлетворительном уровне. Этот вариант идеален, если приоритетным является качество предсказаний, а время обучения не критично.\n",
    "3. CatBoost находится на среднем уровне как по качеству предсказаний, так и по времени обучения и предсказания между LightGBM и LinearRegression. С RMSE на тестовом наборе в 1516.89, CatBoost представляет собой хороший компромисс между скоростью и точностью.\n",
    "\n",
    "**Выбор модели зависит от приоритетов заказчика:**\n",
    "* Если важнейшим является качество предсказания, то стоит выбрать LightGBM.\n",
    "* Если же требуется сбалансированное решение с приемлемым временем обучения и качеством, то CatBoost будет оптимальным выбором.\n",
    "* LinearRegression можно рассматривать, когда необходима максимальная скорость обучения и предсказания за счет снижения точности."
   ]
  }
 ],
 "metadata": {
  "ExecuteTimeLog": [
   {
    "duration": 3030,
    "start_time": "2024-02-20T06:46:33.020Z"
   },
   {
    "duration": 1683,
    "start_time": "2024-02-20T06:47:04.860Z"
   },
   {
    "duration": 10,
    "start_time": "2024-02-20T06:47:50.653Z"
   },
   {
    "duration": 3,
    "start_time": "2024-02-20T06:48:17.421Z"
   },
   {
    "duration": 1048,
    "start_time": "2024-02-20T06:49:37.301Z"
   },
   {
    "duration": 101,
    "start_time": "2024-02-20T06:50:57.797Z"
   },
   {
    "duration": 150,
    "start_time": "2024-02-20T06:51:02.702Z"
   },
   {
    "duration": 14,
    "start_time": "2024-02-20T06:51:22.317Z"
   },
   {
    "duration": 12,
    "start_time": "2024-02-20T06:51:28.125Z"
   },
   {
    "duration": 25,
    "start_time": "2024-02-20T07:06:44.287Z"
   },
   {
    "duration": 199,
    "start_time": "2024-02-20T07:09:37.704Z"
   },
   {
    "duration": 186,
    "start_time": "2024-02-20T07:09:51.729Z"
   },
   {
    "duration": 12,
    "start_time": "2024-02-20T07:10:04.895Z"
   },
   {
    "duration": 186,
    "start_time": "2024-02-20T07:10:10.927Z"
   },
   {
    "duration": 33,
    "start_time": "2024-02-20T07:12:21.344Z"
   },
   {
    "duration": 2238,
    "start_time": "2024-02-20T07:12:39.504Z"
   },
   {
    "duration": 4,
    "start_time": "2024-02-20T07:12:41.743Z"
   },
   {
    "duration": 15,
    "start_time": "2024-02-20T07:12:41.749Z"
   },
   {
    "duration": 19,
    "start_time": "2024-02-20T07:12:41.765Z"
   },
   {
    "duration": 823,
    "start_time": "2024-02-20T07:12:41.785Z"
   },
   {
    "duration": 137,
    "start_time": "2024-02-20T07:12:42.610Z"
   },
   {
    "duration": 15,
    "start_time": "2024-02-20T07:12:42.749Z"
   },
   {
    "duration": 46,
    "start_time": "2024-02-20T07:12:42.765Z"
   },
   {
    "duration": 19,
    "start_time": "2024-02-20T07:12:42.812Z"
   },
   {
    "duration": 171,
    "start_time": "2024-02-20T07:12:42.833Z"
   },
   {
    "duration": 17,
    "start_time": "2024-02-20T07:14:20.631Z"
   },
   {
    "duration": 35,
    "start_time": "2024-02-20T07:14:48.458Z"
   },
   {
    "duration": 184,
    "start_time": "2024-02-20T07:15:11.728Z"
   },
   {
    "duration": 158,
    "start_time": "2024-02-20T07:16:49.754Z"
   },
   {
    "duration": 48,
    "start_time": "2024-02-20T17:18:36.810Z"
   },
   {
    "duration": 3354,
    "start_time": "2024-02-20T17:18:40.129Z"
   },
   {
    "duration": 1765,
    "start_time": "2024-02-20T17:18:43.485Z"
   },
   {
    "duration": 10,
    "start_time": "2024-02-20T17:18:45.252Z"
   },
   {
    "duration": 28,
    "start_time": "2024-02-20T17:18:45.263Z"
   },
   {
    "duration": 2854,
    "start_time": "2024-02-20T17:18:45.293Z"
   },
   {
    "duration": 161,
    "start_time": "2024-02-20T17:18:48.149Z"
   },
   {
    "duration": 13,
    "start_time": "2024-02-20T17:18:48.312Z"
   },
   {
    "duration": 43,
    "start_time": "2024-02-20T17:18:48.327Z"
   },
   {
    "duration": 57,
    "start_time": "2024-02-20T17:18:48.371Z"
   },
   {
    "duration": 532,
    "start_time": "2024-02-20T17:18:48.430Z"
   },
   {
    "duration": 450,
    "start_time": "2024-02-20T17:19:12.683Z"
   },
   {
    "duration": 79,
    "start_time": "2024-02-20T17:42:33.535Z"
   },
   {
    "duration": 38,
    "start_time": "2024-02-20T17:42:44.382Z"
   },
   {
    "duration": 8,
    "start_time": "2024-02-20T17:44:20.786Z"
   },
   {
    "duration": 83,
    "start_time": "2024-02-20T17:44:26.603Z"
   },
   {
    "duration": 82,
    "start_time": "2024-02-20T17:45:00.452Z"
   },
   {
    "duration": 2406,
    "start_time": "2024-02-20T17:45:02.955Z"
   },
   {
    "duration": 4,
    "start_time": "2024-02-20T17:45:05.363Z"
   },
   {
    "duration": 17,
    "start_time": "2024-02-20T17:45:05.369Z"
   },
   {
    "duration": 55,
    "start_time": "2024-02-20T17:45:05.387Z"
   },
   {
    "duration": 859,
    "start_time": "2024-02-20T17:45:05.445Z"
   },
   {
    "duration": 143,
    "start_time": "2024-02-20T17:45:06.305Z"
   },
   {
    "duration": 14,
    "start_time": "2024-02-20T17:45:06.449Z"
   },
   {
    "duration": 69,
    "start_time": "2024-02-20T17:45:06.464Z"
   },
   {
    "duration": 58,
    "start_time": "2024-02-20T17:45:06.534Z"
   },
   {
    "duration": 91,
    "start_time": "2024-02-20T17:45:06.593Z"
   },
   {
    "duration": 57,
    "start_time": "2024-02-20T17:45:06.694Z"
   },
   {
    "duration": 90,
    "start_time": "2024-02-20T17:45:19.285Z"
   },
   {
    "duration": 2375,
    "start_time": "2024-02-20T17:45:24.530Z"
   },
   {
    "duration": 4,
    "start_time": "2024-02-20T17:45:26.908Z"
   },
   {
    "duration": 16,
    "start_time": "2024-02-20T17:45:26.914Z"
   },
   {
    "duration": 5,
    "start_time": "2024-02-20T17:45:26.933Z"
   },
   {
    "duration": 825,
    "start_time": "2024-02-20T17:45:26.939Z"
   },
   {
    "duration": 148,
    "start_time": "2024-02-20T17:45:27.767Z"
   },
   {
    "duration": 12,
    "start_time": "2024-02-20T17:45:27.916Z"
   },
   {
    "duration": 40,
    "start_time": "2024-02-20T17:45:27.930Z"
   },
   {
    "duration": 35,
    "start_time": "2024-02-20T17:45:27.972Z"
   },
   {
    "duration": 106,
    "start_time": "2024-02-20T17:45:28.010Z"
   },
   {
    "duration": 45,
    "start_time": "2024-02-20T17:45:28.118Z"
   },
   {
    "duration": 91,
    "start_time": "2024-02-20T17:45:43.943Z"
   },
   {
    "duration": 2392,
    "start_time": "2024-02-20T17:45:58.832Z"
   },
   {
    "duration": 6,
    "start_time": "2024-02-20T17:46:01.227Z"
   },
   {
    "duration": 25,
    "start_time": "2024-02-20T17:46:01.235Z"
   },
   {
    "duration": 44,
    "start_time": "2024-02-20T17:46:01.262Z"
   },
   {
    "duration": 887,
    "start_time": "2024-02-20T17:46:01.308Z"
   },
   {
    "duration": 142,
    "start_time": "2024-02-20T17:46:02.197Z"
   },
   {
    "duration": 39,
    "start_time": "2024-02-20T17:46:02.341Z"
   },
   {
    "duration": 61,
    "start_time": "2024-02-20T17:46:02.382Z"
   },
   {
    "duration": 66,
    "start_time": "2024-02-20T17:46:02.445Z"
   },
   {
    "duration": 547,
    "start_time": "2024-02-20T17:46:02.513Z"
   },
   {
    "duration": 85,
    "start_time": "2024-02-20T17:46:03.062Z"
   },
   {
    "duration": 49,
    "start_time": "2024-02-20T17:46:03.149Z"
   },
   {
    "duration": 2417,
    "start_time": "2024-02-20T17:46:26.641Z"
   },
   {
    "duration": 4,
    "start_time": "2024-02-20T17:46:29.061Z"
   },
   {
    "duration": 9,
    "start_time": "2024-02-20T17:46:29.066Z"
   },
   {
    "duration": 7,
    "start_time": "2024-02-20T17:46:29.077Z"
   },
   {
    "duration": 859,
    "start_time": "2024-02-20T17:46:29.086Z"
   },
   {
    "duration": 154,
    "start_time": "2024-02-20T17:46:29.947Z"
   },
   {
    "duration": 13,
    "start_time": "2024-02-20T17:46:30.103Z"
   },
   {
    "duration": 83,
    "start_time": "2024-02-20T17:46:30.117Z"
   },
   {
    "duration": 62,
    "start_time": "2024-02-20T17:46:30.202Z"
   },
   {
    "duration": 107,
    "start_time": "2024-02-20T17:46:30.266Z"
   },
   {
    "duration": 58,
    "start_time": "2024-02-20T17:46:30.374Z"
   },
   {
    "duration": 2392,
    "start_time": "2024-02-20T17:47:27.674Z"
   },
   {
    "duration": 5,
    "start_time": "2024-02-20T17:47:30.069Z"
   },
   {
    "duration": 24,
    "start_time": "2024-02-20T17:47:30.076Z"
   },
   {
    "duration": 60,
    "start_time": "2024-02-20T17:47:30.102Z"
   },
   {
    "duration": 897,
    "start_time": "2024-02-20T17:47:30.165Z"
   },
   {
    "duration": 146,
    "start_time": "2024-02-20T17:47:31.063Z"
   },
   {
    "duration": 18,
    "start_time": "2024-02-20T17:47:31.211Z"
   },
   {
    "duration": 55,
    "start_time": "2024-02-20T17:47:31.231Z"
   },
   {
    "duration": 20,
    "start_time": "2024-02-20T17:47:31.288Z"
   },
   {
    "duration": 96,
    "start_time": "2024-02-20T17:47:31.310Z"
   },
   {
    "duration": 46,
    "start_time": "2024-02-20T17:47:31.408Z"
   },
   {
    "duration": 508,
    "start_time": "2024-02-20T17:47:31.455Z"
   },
   {
    "duration": 2404,
    "start_time": "2024-02-20T17:47:39.812Z"
   },
   {
    "duration": 4,
    "start_time": "2024-02-20T17:47:42.219Z"
   },
   {
    "duration": 15,
    "start_time": "2024-02-20T17:47:42.225Z"
   },
   {
    "duration": 8,
    "start_time": "2024-02-20T17:47:42.241Z"
   },
   {
    "duration": 888,
    "start_time": "2024-02-20T17:47:42.251Z"
   },
   {
    "duration": 157,
    "start_time": "2024-02-20T17:47:43.140Z"
   },
   {
    "duration": 13,
    "start_time": "2024-02-20T17:47:43.298Z"
   },
   {
    "duration": 60,
    "start_time": "2024-02-20T17:47:43.312Z"
   },
   {
    "duration": 38,
    "start_time": "2024-02-20T17:47:43.374Z"
   },
   {
    "duration": 101,
    "start_time": "2024-02-20T17:47:43.414Z"
   },
   {
    "duration": 51,
    "start_time": "2024-02-20T17:47:43.517Z"
   },
   {
    "duration": 514,
    "start_time": "2024-02-20T17:47:43.570Z"
   },
   {
    "duration": 20,
    "start_time": "2024-02-20T17:51:00.768Z"
   },
   {
    "duration": 51,
    "start_time": "2024-02-20T17:54:25.479Z"
   },
   {
    "duration": 13,
    "start_time": "2024-02-20T17:54:52.151Z"
   },
   {
    "duration": 83,
    "start_time": "2024-02-20T17:54:53.131Z"
   },
   {
    "duration": 18,
    "start_time": "2024-02-20T17:54:53.717Z"
   },
   {
    "duration": 411,
    "start_time": "2024-02-20T17:54:54.584Z"
   },
   {
    "duration": 46,
    "start_time": "2024-02-20T17:54:55.028Z"
   },
   {
    "duration": 2467,
    "start_time": "2024-02-20T17:54:58.633Z"
   },
   {
    "duration": 5,
    "start_time": "2024-02-20T17:55:01.103Z"
   },
   {
    "duration": 33,
    "start_time": "2024-02-20T17:55:01.110Z"
   },
   {
    "duration": 69,
    "start_time": "2024-02-20T17:55:01.145Z"
   },
   {
    "duration": 920,
    "start_time": "2024-02-20T17:55:01.217Z"
   },
   {
    "duration": 142,
    "start_time": "2024-02-20T17:55:02.138Z"
   },
   {
    "duration": 76,
    "start_time": "2024-02-20T17:55:02.282Z"
   },
   {
    "duration": 69,
    "start_time": "2024-02-20T17:55:02.359Z"
   },
   {
    "duration": 39,
    "start_time": "2024-02-20T17:55:02.430Z"
   },
   {
    "duration": 96,
    "start_time": "2024-02-20T17:55:02.471Z"
   },
   {
    "duration": 40,
    "start_time": "2024-02-20T17:55:02.569Z"
   },
   {
    "duration": 587,
    "start_time": "2024-02-20T17:55:02.610Z"
   },
   {
    "duration": 45,
    "start_time": "2024-02-20T17:55:03.199Z"
   },
   {
    "duration": 2409,
    "start_time": "2024-02-20T17:55:09.131Z"
   },
   {
    "duration": 4,
    "start_time": "2024-02-20T17:55:11.542Z"
   },
   {
    "duration": 17,
    "start_time": "2024-02-20T17:55:11.548Z"
   },
   {
    "duration": 23,
    "start_time": "2024-02-20T17:55:11.567Z"
   },
   {
    "duration": 846,
    "start_time": "2024-02-20T17:55:11.592Z"
   },
   {
    "duration": 146,
    "start_time": "2024-02-20T17:55:12.440Z"
   },
   {
    "duration": 13,
    "start_time": "2024-02-20T17:55:12.593Z"
   },
   {
    "duration": 45,
    "start_time": "2024-02-20T17:55:12.608Z"
   },
   {
    "duration": 54,
    "start_time": "2024-02-20T17:55:12.654Z"
   },
   {
    "duration": 22,
    "start_time": "2024-02-20T17:55:12.710Z"
   },
   {
    "duration": 512,
    "start_time": "2024-02-20T17:55:12.734Z"
   },
   {
    "duration": 51,
    "start_time": "2024-02-20T17:55:13.248Z"
   },
   {
    "duration": 2467,
    "start_time": "2024-02-20T17:55:23.752Z"
   },
   {
    "duration": 5,
    "start_time": "2024-02-20T17:55:26.221Z"
   },
   {
    "duration": 11,
    "start_time": "2024-02-20T17:55:26.228Z"
   },
   {
    "duration": 26,
    "start_time": "2024-02-20T17:55:26.241Z"
   },
   {
    "duration": 821,
    "start_time": "2024-02-20T17:55:26.270Z"
   },
   {
    "duration": 142,
    "start_time": "2024-02-20T17:55:27.093Z"
   },
   {
    "duration": 12,
    "start_time": "2024-02-20T17:55:27.236Z"
   },
   {
    "duration": 64,
    "start_time": "2024-02-20T17:55:27.250Z"
   },
   {
    "duration": 41,
    "start_time": "2024-02-20T17:55:27.316Z"
   },
   {
    "duration": 115,
    "start_time": "2024-02-20T17:55:27.358Z"
   },
   {
    "duration": 31,
    "start_time": "2024-02-20T17:55:27.475Z"
   },
   {
    "duration": 489,
    "start_time": "2024-02-20T17:55:27.508Z"
   },
   {
    "duration": 47,
    "start_time": "2024-02-20T17:55:27.999Z"
   },
   {
    "duration": 9,
    "start_time": "2024-02-20T18:02:54.767Z"
   },
   {
    "duration": 2470,
    "start_time": "2024-02-20T18:02:56.968Z"
   },
   {
    "duration": 4,
    "start_time": "2024-02-20T18:02:59.441Z"
   },
   {
    "duration": 18,
    "start_time": "2024-02-20T18:02:59.447Z"
   },
   {
    "duration": 10,
    "start_time": "2024-02-20T18:02:59.467Z"
   },
   {
    "duration": 866,
    "start_time": "2024-02-20T18:02:59.479Z"
   },
   {
    "duration": 152,
    "start_time": "2024-02-20T18:03:00.346Z"
   },
   {
    "duration": 87,
    "start_time": "2024-02-20T18:03:00.500Z"
   },
   {
    "duration": 58,
    "start_time": "2024-02-20T18:03:00.589Z"
   },
   {
    "duration": 37,
    "start_time": "2024-02-20T18:03:00.649Z"
   },
   {
    "duration": 117,
    "start_time": "2024-02-20T18:03:00.688Z"
   },
   {
    "duration": 67,
    "start_time": "2024-02-20T18:03:00.807Z"
   },
   {
    "duration": 524,
    "start_time": "2024-02-20T18:03:00.875Z"
   },
   {
    "duration": 53,
    "start_time": "2024-02-20T18:03:01.400Z"
   },
   {
    "duration": 97,
    "start_time": "2024-02-20T18:03:01.456Z"
   },
   {
    "duration": 899,
    "start_time": "2024-02-20T18:03:05.363Z"
   },
   {
    "duration": 155,
    "start_time": "2024-02-20T18:03:49.581Z"
   },
   {
    "duration": 21,
    "start_time": "2024-02-20T18:07:18.324Z"
   },
   {
    "duration": 21,
    "start_time": "2024-02-20T18:07:26.292Z"
   },
   {
    "duration": 912,
    "start_time": "2024-02-20T18:08:32.427Z"
   },
   {
    "duration": 2409,
    "start_time": "2024-02-20T18:08:52.298Z"
   },
   {
    "duration": 5,
    "start_time": "2024-02-20T18:08:54.710Z"
   },
   {
    "duration": 17,
    "start_time": "2024-02-20T18:08:54.717Z"
   },
   {
    "duration": 58,
    "start_time": "2024-02-20T18:08:54.736Z"
   },
   {
    "duration": 880,
    "start_time": "2024-02-20T18:08:54.797Z"
   },
   {
    "duration": 149,
    "start_time": "2024-02-20T18:08:55.679Z"
   },
   {
    "duration": 12,
    "start_time": "2024-02-20T18:08:55.830Z"
   },
   {
    "duration": 75,
    "start_time": "2024-02-20T18:08:55.843Z"
   },
   {
    "duration": 39,
    "start_time": "2024-02-20T18:08:55.919Z"
   },
   {
    "duration": 149,
    "start_time": "2024-02-20T18:08:55.959Z"
   },
   {
    "duration": 22,
    "start_time": "2024-02-20T18:08:56.110Z"
   },
   {
    "duration": 71,
    "start_time": "2024-02-20T18:08:56.133Z"
   },
   {
    "duration": 906,
    "start_time": "2024-02-20T18:08:56.205Z"
   },
   {
    "duration": 170,
    "start_time": "2024-02-20T18:08:57.113Z"
   },
   {
    "duration": 37,
    "start_time": "2024-02-20T18:08:57.284Z"
   },
   {
    "duration": 1013,
    "start_time": "2024-02-20T18:08:57.323Z"
   },
   {
    "duration": 929,
    "start_time": "2024-02-20T18:09:29.047Z"
   },
   {
    "duration": 886,
    "start_time": "2024-02-20T18:09:34.629Z"
   },
   {
    "duration": 958,
    "start_time": "2024-02-20T18:09:39.383Z"
   },
   {
    "duration": 957,
    "start_time": "2024-02-20T18:09:44.283Z"
   },
   {
    "duration": 844,
    "start_time": "2024-02-20T18:09:50.632Z"
   },
   {
    "duration": 9,
    "start_time": "2024-02-20T18:10:10.248Z"
   },
   {
    "duration": 265,
    "start_time": "2024-02-20T18:10:13.215Z"
   },
   {
    "duration": 194,
    "start_time": "2024-02-20T18:10:19.331Z"
   },
   {
    "duration": 2446,
    "start_time": "2024-02-20T18:10:38.716Z"
   },
   {
    "duration": 4,
    "start_time": "2024-02-20T18:10:41.165Z"
   },
   {
    "duration": 181,
    "start_time": "2024-02-20T18:10:41.170Z"
   },
   {
    "duration": 88,
    "start_time": "2024-02-20T18:10:41.353Z"
   },
   {
    "duration": 841,
    "start_time": "2024-02-20T18:10:41.443Z"
   },
   {
    "duration": 150,
    "start_time": "2024-02-20T18:10:42.286Z"
   },
   {
    "duration": 14,
    "start_time": "2024-02-20T18:10:42.438Z"
   },
   {
    "duration": 62,
    "start_time": "2024-02-20T18:10:42.453Z"
   },
   {
    "duration": 36,
    "start_time": "2024-02-20T18:10:42.516Z"
   },
   {
    "duration": 111,
    "start_time": "2024-02-20T18:10:42.553Z"
   },
   {
    "duration": 31,
    "start_time": "2024-02-20T18:10:42.666Z"
   },
   {
    "duration": 68,
    "start_time": "2024-02-20T18:10:42.699Z"
   },
   {
    "duration": 307,
    "start_time": "2024-02-20T18:10:42.768Z"
   },
   {
    "duration": 172,
    "start_time": "2024-02-20T18:10:43.078Z"
   },
   {
    "duration": 193,
    "start_time": "2024-02-20T18:10:43.252Z"
   },
   {
    "duration": 29,
    "start_time": "2024-02-20T18:11:14.582Z"
   },
   {
    "duration": 9,
    "start_time": "2024-02-20T18:11:26.198Z"
   },
   {
    "duration": 2451,
    "start_time": "2024-02-20T18:11:28.004Z"
   },
   {
    "duration": 4,
    "start_time": "2024-02-20T18:11:30.457Z"
   },
   {
    "duration": 32,
    "start_time": "2024-02-20T18:11:30.463Z"
   },
   {
    "duration": 42,
    "start_time": "2024-02-20T18:11:30.496Z"
   },
   {
    "duration": 915,
    "start_time": "2024-02-20T18:11:30.540Z"
   },
   {
    "duration": 155,
    "start_time": "2024-02-20T18:11:31.457Z"
   },
   {
    "duration": 18,
    "start_time": "2024-02-20T18:11:31.613Z"
   },
   {
    "duration": 68,
    "start_time": "2024-02-20T18:11:31.633Z"
   },
   {
    "duration": 34,
    "start_time": "2024-02-20T18:11:31.702Z"
   },
   {
    "duration": 101,
    "start_time": "2024-02-20T18:11:31.738Z"
   },
   {
    "duration": 39,
    "start_time": "2024-02-20T18:11:31.841Z"
   },
   {
    "duration": 519,
    "start_time": "2024-02-20T18:11:31.882Z"
   },
   {
    "duration": 45,
    "start_time": "2024-02-20T18:11:32.403Z"
   },
   {
    "duration": 819,
    "start_time": "2024-02-20T18:11:32.451Z"
   },
   {
    "duration": 277,
    "start_time": "2024-02-20T18:11:33.272Z"
   },
   {
    "duration": 22,
    "start_time": "2024-02-20T18:11:33.550Z"
   },
   {
    "duration": 816,
    "start_time": "2024-02-20T18:11:33.574Z"
   },
   {
    "duration": 870,
    "start_time": "2024-02-20T18:16:47.016Z"
   },
   {
    "duration": 130,
    "start_time": "2024-02-20T18:16:47.888Z"
   },
   {
    "duration": 40,
    "start_time": "2024-02-20T18:21:02.791Z"
   },
   {
    "duration": 19,
    "start_time": "2024-02-20T18:21:12.629Z"
   },
   {
    "duration": 965,
    "start_time": "2024-02-20T18:23:09.539Z"
   },
   {
    "duration": 142,
    "start_time": "2024-02-20T18:23:30.442Z"
   },
   {
    "duration": 20,
    "start_time": "2024-02-20T18:27:44.190Z"
   },
   {
    "duration": 767,
    "start_time": "2024-02-20T18:28:27.815Z"
   },
   {
    "duration": 12,
    "start_time": "2024-02-20T18:29:06.016Z"
   },
   {
    "duration": 2477,
    "start_time": "2024-02-20T18:29:10.003Z"
   },
   {
    "duration": 5,
    "start_time": "2024-02-20T18:29:12.482Z"
   },
   {
    "duration": 16,
    "start_time": "2024-02-20T18:29:12.488Z"
   },
   {
    "duration": 13,
    "start_time": "2024-02-20T18:29:12.505Z"
   },
   {
    "duration": 869,
    "start_time": "2024-02-20T18:29:12.520Z"
   },
   {
    "duration": 147,
    "start_time": "2024-02-20T18:29:13.391Z"
   },
   {
    "duration": 35,
    "start_time": "2024-02-20T18:29:13.540Z"
   },
   {
    "duration": 67,
    "start_time": "2024-02-20T18:29:13.577Z"
   },
   {
    "duration": 23,
    "start_time": "2024-02-20T18:29:13.646Z"
   },
   {
    "duration": 95,
    "start_time": "2024-02-20T18:29:13.671Z"
   },
   {
    "duration": 35,
    "start_time": "2024-02-20T18:29:13.768Z"
   },
   {
    "duration": 520,
    "start_time": "2024-02-20T18:29:13.805Z"
   },
   {
    "duration": 49,
    "start_time": "2024-02-20T18:29:14.327Z"
   },
   {
    "duration": 306,
    "start_time": "2024-02-20T18:29:14.379Z"
   },
   {
    "duration": 167,
    "start_time": "2024-02-20T18:29:14.686Z"
   },
   {
    "duration": 21,
    "start_time": "2024-02-20T18:29:14.854Z"
   },
   {
    "duration": 484,
    "start_time": "2024-02-20T18:29:14.876Z"
   },
   {
    "duration": 141,
    "start_time": "2024-02-20T18:29:15.361Z"
   },
   {
    "duration": 21,
    "start_time": "2024-02-20T18:29:15.504Z"
   },
   {
    "duration": 302,
    "start_time": "2024-02-20T18:29:15.526Z"
   },
   {
    "duration": 145,
    "start_time": "2024-02-20T18:29:15.829Z"
   },
   {
    "duration": 24,
    "start_time": "2024-02-20T18:29:15.975Z"
   },
   {
    "duration": 295,
    "start_time": "2024-02-20T18:29:16.001Z"
   },
   {
    "duration": 876,
    "start_time": "2024-02-20T18:30:40.104Z"
   },
   {
    "duration": 835,
    "start_time": "2024-02-20T18:30:54.630Z"
   },
   {
    "duration": 960,
    "start_time": "2024-02-20T18:31:14.425Z"
   },
   {
    "duration": 932,
    "start_time": "2024-02-20T18:31:30.028Z"
   },
   {
    "duration": 187,
    "start_time": "2024-02-20T18:31:52.531Z"
   },
   {
    "duration": 17,
    "start_time": "2024-02-20T18:34:37.265Z"
   },
   {
    "duration": 232,
    "start_time": "2024-02-20T18:41:00.007Z"
   },
   {
    "duration": 3,
    "start_time": "2024-02-20T18:42:19.080Z"
   },
   {
    "duration": 4403,
    "start_time": "2024-02-20T18:42:54.207Z"
   },
   {
    "duration": 51,
    "start_time": "2024-02-21T14:01:51.257Z"
   },
   {
    "duration": 3600,
    "start_time": "2024-02-21T14:02:01.343Z"
   },
   {
    "duration": 1734,
    "start_time": "2024-02-21T14:02:04.945Z"
   },
   {
    "duration": 9,
    "start_time": "2024-02-21T14:02:06.682Z"
   },
   {
    "duration": 6,
    "start_time": "2024-02-21T14:02:06.693Z"
   },
   {
    "duration": 6,
    "start_time": "2024-02-21T14:02:06.701Z"
   },
   {
    "duration": 2734,
    "start_time": "2024-02-21T14:02:06.709Z"
   },
   {
    "duration": 166,
    "start_time": "2024-02-21T14:02:09.445Z"
   },
   {
    "duration": 16,
    "start_time": "2024-02-21T14:02:09.612Z"
   },
   {
    "duration": 59,
    "start_time": "2024-02-21T14:02:09.630Z"
   },
   {
    "duration": 39,
    "start_time": "2024-02-21T14:02:09.691Z"
   },
   {
    "duration": 117,
    "start_time": "2024-02-21T14:02:09.731Z"
   },
   {
    "duration": 33,
    "start_time": "2024-02-21T14:02:09.850Z"
   },
   {
    "duration": 582,
    "start_time": "2024-02-21T14:02:09.885Z"
   },
   {
    "duration": 59,
    "start_time": "2024-02-21T14:02:10.470Z"
   },
   {
    "duration": 988,
    "start_time": "2024-02-21T14:02:10.531Z"
   },
   {
    "duration": 192,
    "start_time": "2024-02-21T14:02:11.520Z"
   },
   {
    "duration": 27,
    "start_time": "2024-02-21T14:02:11.713Z"
   },
   {
    "duration": 907,
    "start_time": "2024-02-21T14:02:11.742Z"
   },
   {
    "duration": 267,
    "start_time": "2024-02-21T14:02:12.651Z"
   },
   {
    "duration": 23,
    "start_time": "2024-02-21T14:02:12.921Z"
   },
   {
    "duration": 901,
    "start_time": "2024-02-21T14:02:12.945Z"
   },
   {
    "duration": 154,
    "start_time": "2024-02-21T14:02:13.847Z"
   },
   {
    "duration": 19,
    "start_time": "2024-02-21T14:02:14.003Z"
   },
   {
    "duration": 998,
    "start_time": "2024-02-21T14:02:14.024Z"
   },
   {
    "duration": 199,
    "start_time": "2024-02-21T14:02:15.023Z"
   },
   {
    "duration": 18,
    "start_time": "2024-02-21T14:02:15.223Z"
   },
   {
    "duration": 4618,
    "start_time": "2024-02-21T14:02:15.242Z"
   },
   {
    "duration": 10,
    "start_time": "2024-02-21T14:02:19.862Z"
   },
   {
    "duration": 38,
    "start_time": "2024-02-21T14:03:47.535Z"
   },
   {
    "duration": 15,
    "start_time": "2024-02-21T14:05:35.247Z"
   },
   {
    "duration": 13,
    "start_time": "2024-02-21T14:08:06.167Z"
   },
   {
    "duration": 78,
    "start_time": "2024-02-21T14:08:06.928Z"
   },
   {
    "duration": 9,
    "start_time": "2024-02-21T14:08:14.078Z"
   },
   {
    "duration": 5,
    "start_time": "2024-02-21T14:08:32.846Z"
   },
   {
    "duration": 2639,
    "start_time": "2024-02-21T14:08:36.907Z"
   },
   {
    "duration": 5,
    "start_time": "2024-02-21T14:08:39.549Z"
   },
   {
    "duration": 19,
    "start_time": "2024-02-21T14:08:39.555Z"
   },
   {
    "duration": 6,
    "start_time": "2024-02-21T14:08:39.576Z"
   },
   {
    "duration": 4,
    "start_time": "2024-02-21T14:08:39.584Z"
   },
   {
    "duration": 915,
    "start_time": "2024-02-21T14:08:39.590Z"
   },
   {
    "duration": 188,
    "start_time": "2024-02-21T14:08:40.507Z"
   },
   {
    "duration": 13,
    "start_time": "2024-02-21T14:08:40.696Z"
   },
   {
    "duration": 46,
    "start_time": "2024-02-21T14:08:40.711Z"
   },
   {
    "duration": 49,
    "start_time": "2024-02-21T14:08:40.759Z"
   },
   {
    "duration": 105,
    "start_time": "2024-02-21T14:08:40.809Z"
   },
   {
    "duration": 26,
    "start_time": "2024-02-21T14:08:40.915Z"
   },
   {
    "duration": 542,
    "start_time": "2024-02-21T14:08:40.943Z"
   },
   {
    "duration": 54,
    "start_time": "2024-02-21T14:08:41.489Z"
   },
   {
    "duration": 989,
    "start_time": "2024-02-21T14:08:41.544Z"
   },
   {
    "duration": 176,
    "start_time": "2024-02-21T14:08:42.535Z"
   },
   {
    "duration": 21,
    "start_time": "2024-02-21T14:08:42.712Z"
   },
   {
    "duration": 833,
    "start_time": "2024-02-21T14:08:42.735Z"
   },
   {
    "duration": 139,
    "start_time": "2024-02-21T14:08:43.570Z"
   },
   {
    "duration": 22,
    "start_time": "2024-02-21T14:08:43.710Z"
   },
   {
    "duration": 1042,
    "start_time": "2024-02-21T14:08:43.733Z"
   },
   {
    "duration": 151,
    "start_time": "2024-02-21T14:08:44.780Z"
   },
   {
    "duration": 19,
    "start_time": "2024-02-21T14:08:44.933Z"
   },
   {
    "duration": 983,
    "start_time": "2024-02-21T14:08:44.954Z"
   },
   {
    "duration": 201,
    "start_time": "2024-02-21T14:08:45.939Z"
   },
   {
    "duration": 19,
    "start_time": "2024-02-21T14:08:46.142Z"
   },
   {
    "duration": 4705,
    "start_time": "2024-02-21T14:08:46.163Z"
   },
   {
    "duration": 20,
    "start_time": "2024-02-21T14:08:50.869Z"
   },
   {
    "duration": 42,
    "start_time": "2024-02-21T14:08:50.890Z"
   },
   {
    "duration": 18,
    "start_time": "2024-02-21T14:08:50.934Z"
   },
   {
    "duration": 31,
    "start_time": "2024-02-21T14:08:50.953Z"
   },
   {
    "duration": 19,
    "start_time": "2024-02-21T14:09:38.070Z"
   },
   {
    "duration": 12,
    "start_time": "2024-02-21T14:09:42.146Z"
   },
   {
    "duration": 6,
    "start_time": "2024-02-21T14:09:54.779Z"
   },
   {
    "duration": 4,
    "start_time": "2024-02-21T14:09:59.386Z"
   },
   {
    "duration": 11,
    "start_time": "2024-02-21T14:10:26.918Z"
   },
   {
    "duration": 10,
    "start_time": "2024-02-21T14:10:42.224Z"
   },
   {
    "duration": 11,
    "start_time": "2024-02-21T14:10:47.062Z"
   },
   {
    "duration": 5,
    "start_time": "2024-02-21T14:29:03.969Z"
   },
   {
    "duration": 14,
    "start_time": "2024-02-21T14:29:39.101Z"
   },
   {
    "duration": 10,
    "start_time": "2024-02-21T14:29:53.637Z"
   },
   {
    "duration": 13,
    "start_time": "2024-02-21T14:30:09.202Z"
   },
   {
    "duration": 11,
    "start_time": "2024-02-21T14:30:56.385Z"
   },
   {
    "duration": 15,
    "start_time": "2024-02-21T14:31:58.402Z"
   },
   {
    "duration": 5,
    "start_time": "2024-02-21T14:32:07.926Z"
   },
   {
    "duration": 26048,
    "start_time": "2024-02-21T14:32:15.962Z"
   },
   {
    "duration": 27,
    "start_time": "2024-02-21T14:35:59.334Z"
   },
   {
    "duration": 0,
    "start_time": "2024-02-21T14:47:45.294Z"
   },
   {
    "duration": 0,
    "start_time": "2024-02-21T14:47:45.295Z"
   },
   {
    "duration": 0,
    "start_time": "2024-02-21T14:47:45.297Z"
   },
   {
    "duration": 0,
    "start_time": "2024-02-21T14:47:45.297Z"
   },
   {
    "duration": 0,
    "start_time": "2024-02-21T14:47:45.299Z"
   },
   {
    "duration": 0,
    "start_time": "2024-02-21T14:47:45.300Z"
   },
   {
    "duration": 0,
    "start_time": "2024-02-21T14:47:45.301Z"
   },
   {
    "duration": 0,
    "start_time": "2024-02-21T14:47:45.302Z"
   },
   {
    "duration": 0,
    "start_time": "2024-02-21T14:47:45.303Z"
   },
   {
    "duration": 0,
    "start_time": "2024-02-21T14:47:45.304Z"
   },
   {
    "duration": 0,
    "start_time": "2024-02-21T14:47:45.305Z"
   },
   {
    "duration": 0,
    "start_time": "2024-02-21T14:47:45.306Z"
   },
   {
    "duration": 0,
    "start_time": "2024-02-21T14:47:45.307Z"
   },
   {
    "duration": 0,
    "start_time": "2024-02-21T14:47:45.308Z"
   },
   {
    "duration": 0,
    "start_time": "2024-02-21T14:47:45.309Z"
   },
   {
    "duration": 0,
    "start_time": "2024-02-21T14:47:45.311Z"
   },
   {
    "duration": 0,
    "start_time": "2024-02-21T14:47:45.312Z"
   },
   {
    "duration": 0,
    "start_time": "2024-02-21T14:47:45.313Z"
   },
   {
    "duration": 0,
    "start_time": "2024-02-21T14:47:45.314Z"
   },
   {
    "duration": 0,
    "start_time": "2024-02-21T14:47:45.315Z"
   },
   {
    "duration": 0,
    "start_time": "2024-02-21T14:47:45.317Z"
   },
   {
    "duration": 0,
    "start_time": "2024-02-21T14:47:45.317Z"
   },
   {
    "duration": 0,
    "start_time": "2024-02-21T14:47:45.381Z"
   },
   {
    "duration": 0,
    "start_time": "2024-02-21T14:47:45.383Z"
   },
   {
    "duration": 0,
    "start_time": "2024-02-21T14:47:45.384Z"
   },
   {
    "duration": 0,
    "start_time": "2024-02-21T14:47:45.385Z"
   },
   {
    "duration": 0,
    "start_time": "2024-02-21T14:47:45.386Z"
   },
   {
    "duration": 0,
    "start_time": "2024-02-21T14:47:45.386Z"
   },
   {
    "duration": 0,
    "start_time": "2024-02-21T14:47:45.388Z"
   },
   {
    "duration": 0,
    "start_time": "2024-02-21T14:47:45.389Z"
   },
   {
    "duration": 0,
    "start_time": "2024-02-21T14:47:45.390Z"
   },
   {
    "duration": 0,
    "start_time": "2024-02-21T14:47:45.391Z"
   },
   {
    "duration": 0,
    "start_time": "2024-02-21T14:47:45.392Z"
   },
   {
    "duration": 0,
    "start_time": "2024-02-21T14:47:45.393Z"
   },
   {
    "duration": 0,
    "start_time": "2024-02-21T14:47:45.394Z"
   },
   {
    "duration": 0,
    "start_time": "2024-02-21T14:47:45.395Z"
   },
   {
    "duration": 0,
    "start_time": "2024-02-21T14:47:45.396Z"
   },
   {
    "duration": 3297,
    "start_time": "2024-02-21T17:36:03.120Z"
   },
   {
    "duration": 1691,
    "start_time": "2024-02-21T17:36:06.419Z"
   },
   {
    "duration": 0,
    "start_time": "2024-02-21T17:36:08.112Z"
   },
   {
    "duration": 0,
    "start_time": "2024-02-21T17:36:08.113Z"
   },
   {
    "duration": 0,
    "start_time": "2024-02-21T17:36:08.114Z"
   },
   {
    "duration": 0,
    "start_time": "2024-02-21T17:36:08.115Z"
   },
   {
    "duration": 0,
    "start_time": "2024-02-21T17:36:08.116Z"
   },
   {
    "duration": 0,
    "start_time": "2024-02-21T17:36:08.117Z"
   },
   {
    "duration": 0,
    "start_time": "2024-02-21T17:36:08.118Z"
   },
   {
    "duration": 0,
    "start_time": "2024-02-21T17:36:08.119Z"
   },
   {
    "duration": 0,
    "start_time": "2024-02-21T17:36:08.120Z"
   },
   {
    "duration": 0,
    "start_time": "2024-02-21T17:36:08.121Z"
   },
   {
    "duration": 0,
    "start_time": "2024-02-21T17:36:08.122Z"
   },
   {
    "duration": 0,
    "start_time": "2024-02-21T17:36:08.124Z"
   },
   {
    "duration": 0,
    "start_time": "2024-02-21T17:36:08.125Z"
   },
   {
    "duration": 0,
    "start_time": "2024-02-21T17:36:08.126Z"
   },
   {
    "duration": 0,
    "start_time": "2024-02-21T17:36:08.128Z"
   },
   {
    "duration": 0,
    "start_time": "2024-02-21T17:36:08.129Z"
   },
   {
    "duration": 0,
    "start_time": "2024-02-21T17:36:08.130Z"
   },
   {
    "duration": 0,
    "start_time": "2024-02-21T17:36:08.131Z"
   },
   {
    "duration": 0,
    "start_time": "2024-02-21T17:36:08.132Z"
   },
   {
    "duration": 0,
    "start_time": "2024-02-21T17:36:08.134Z"
   },
   {
    "duration": 0,
    "start_time": "2024-02-21T17:36:08.170Z"
   },
   {
    "duration": 0,
    "start_time": "2024-02-21T17:36:08.171Z"
   },
   {
    "duration": 0,
    "start_time": "2024-02-21T17:36:08.172Z"
   },
   {
    "duration": 0,
    "start_time": "2024-02-21T17:36:08.173Z"
   },
   {
    "duration": 0,
    "start_time": "2024-02-21T17:36:08.174Z"
   },
   {
    "duration": 0,
    "start_time": "2024-02-21T17:36:08.175Z"
   },
   {
    "duration": 0,
    "start_time": "2024-02-21T17:36:08.176Z"
   },
   {
    "duration": 0,
    "start_time": "2024-02-21T17:36:08.177Z"
   },
   {
    "duration": 0,
    "start_time": "2024-02-21T17:36:08.178Z"
   },
   {
    "duration": 0,
    "start_time": "2024-02-21T17:36:08.178Z"
   },
   {
    "duration": 0,
    "start_time": "2024-02-21T17:36:08.179Z"
   },
   {
    "duration": 0,
    "start_time": "2024-02-21T17:36:08.180Z"
   },
   {
    "duration": 0,
    "start_time": "2024-02-21T17:36:08.181Z"
   },
   {
    "duration": 0,
    "start_time": "2024-02-21T17:36:08.182Z"
   },
   {
    "duration": 51,
    "start_time": "2024-02-21T17:36:25.854Z"
   },
   {
    "duration": 2539,
    "start_time": "2024-02-21T17:36:28.592Z"
   },
   {
    "duration": 6,
    "start_time": "2024-02-21T17:36:31.133Z"
   },
   {
    "duration": 44,
    "start_time": "2024-02-21T17:36:31.142Z"
   },
   {
    "duration": 36,
    "start_time": "2024-02-21T17:36:31.188Z"
   },
   {
    "duration": 24,
    "start_time": "2024-02-21T17:36:31.227Z"
   },
   {
    "duration": 30,
    "start_time": "2024-02-21T17:36:31.253Z"
   },
   {
    "duration": 2962,
    "start_time": "2024-02-21T17:36:31.285Z"
   },
   {
    "duration": 152,
    "start_time": "2024-02-21T17:36:34.249Z"
   },
   {
    "duration": 15,
    "start_time": "2024-02-21T17:36:34.402Z"
   },
   {
    "duration": 54,
    "start_time": "2024-02-21T17:36:34.419Z"
   },
   {
    "duration": 29,
    "start_time": "2024-02-21T17:36:34.475Z"
   },
   {
    "duration": 106,
    "start_time": "2024-02-21T17:36:34.506Z"
   },
   {
    "duration": 23,
    "start_time": "2024-02-21T17:36:34.614Z"
   },
   {
    "duration": 531,
    "start_time": "2024-02-21T17:36:34.640Z"
   },
   {
    "duration": 49,
    "start_time": "2024-02-21T17:36:35.172Z"
   },
   {
    "duration": 938,
    "start_time": "2024-02-21T17:36:35.222Z"
   },
   {
    "duration": 177,
    "start_time": "2024-02-21T17:36:36.161Z"
   },
   {
    "duration": 30,
    "start_time": "2024-02-21T17:36:36.340Z"
   },
   {
    "duration": 932,
    "start_time": "2024-02-21T17:36:36.371Z"
   },
   {
    "duration": 139,
    "start_time": "2024-02-21T17:36:37.305Z"
   },
   {
    "duration": 30,
    "start_time": "2024-02-21T17:36:37.446Z"
   },
   {
    "duration": 816,
    "start_time": "2024-02-21T17:36:37.478Z"
   },
   {
    "duration": 151,
    "start_time": "2024-02-21T17:36:38.296Z"
   },
   {
    "duration": 25,
    "start_time": "2024-02-21T17:36:38.449Z"
   },
   {
    "duration": 950,
    "start_time": "2024-02-21T17:36:38.475Z"
   },
   {
    "duration": 189,
    "start_time": "2024-02-21T17:36:39.427Z"
   },
   {
    "duration": 16,
    "start_time": "2024-02-21T17:36:39.618Z"
   },
   {
    "duration": 4461,
    "start_time": "2024-02-21T17:36:39.636Z"
   },
   {
    "duration": 10,
    "start_time": "2024-02-21T17:36:44.098Z"
   },
   {
    "duration": 39,
    "start_time": "2024-02-21T17:36:44.110Z"
   },
   {
    "duration": 13,
    "start_time": "2024-02-21T17:36:44.150Z"
   },
   {
    "duration": 4,
    "start_time": "2024-02-21T17:36:44.170Z"
   },
   {
    "duration": 151998,
    "start_time": "2024-02-21T17:36:44.175Z"
   },
   {
    "duration": 6802,
    "start_time": "2024-02-21T17:39:16.175Z"
   },
   {
    "duration": 33167,
    "start_time": "2024-02-21T17:39:23.069Z"
   },
   {
    "duration": 11,
    "start_time": "2024-02-21T17:39:56.237Z"
   },
   {
    "duration": 12,
    "start_time": "2024-02-21T17:42:42.649Z"
   },
   {
    "duration": 9,
    "start_time": "2024-02-22T06:10:19.547Z"
   },
   {
    "duration": 17,
    "start_time": "2024-02-22T06:16:43.721Z"
   },
   {
    "duration": 47,
    "start_time": "2024-02-22T06:16:47.572Z"
   },
   {
    "duration": 3407,
    "start_time": "2024-02-22T06:16:50.627Z"
   },
   {
    "duration": 1728,
    "start_time": "2024-02-22T06:16:54.036Z"
   },
   {
    "duration": 9,
    "start_time": "2024-02-22T06:16:55.766Z"
   },
   {
    "duration": 41,
    "start_time": "2024-02-22T06:16:55.776Z"
   },
   {
    "duration": 25,
    "start_time": "2024-02-22T06:16:55.819Z"
   },
   {
    "duration": 32,
    "start_time": "2024-02-22T06:16:55.845Z"
   },
   {
    "duration": 2797,
    "start_time": "2024-02-22T06:16:55.879Z"
   },
   {
    "duration": 148,
    "start_time": "2024-02-22T06:16:58.678Z"
   },
   {
    "duration": 14,
    "start_time": "2024-02-22T06:16:58.828Z"
   },
   {
    "duration": 63,
    "start_time": "2024-02-22T06:16:58.843Z"
   },
   {
    "duration": 40,
    "start_time": "2024-02-22T06:16:58.908Z"
   },
   {
    "duration": 114,
    "start_time": "2024-02-22T06:16:58.950Z"
   },
   {
    "duration": 32,
    "start_time": "2024-02-22T06:16:59.066Z"
   },
   {
    "duration": 521,
    "start_time": "2024-02-22T06:16:59.103Z"
   },
   {
    "duration": 48,
    "start_time": "2024-02-22T06:16:59.626Z"
   },
   {
    "duration": 909,
    "start_time": "2024-02-22T06:16:59.676Z"
   },
   {
    "duration": 155,
    "start_time": "2024-02-22T06:17:00.587Z"
   },
   {
    "duration": 20,
    "start_time": "2024-02-22T06:17:00.743Z"
   },
   {
    "duration": 897,
    "start_time": "2024-02-22T06:17:00.765Z"
   },
   {
    "duration": 125,
    "start_time": "2024-02-22T06:17:01.664Z"
   },
   {
    "duration": 20,
    "start_time": "2024-02-22T06:17:01.793Z"
   },
   {
    "duration": 774,
    "start_time": "2024-02-22T06:17:01.815Z"
   },
   {
    "duration": 143,
    "start_time": "2024-02-22T06:17:02.597Z"
   },
   {
    "duration": 19,
    "start_time": "2024-02-22T06:17:02.742Z"
   },
   {
    "duration": 1050,
    "start_time": "2024-02-22T06:17:02.763Z"
   },
   {
    "duration": 259,
    "start_time": "2024-02-22T06:17:03.815Z"
   },
   {
    "duration": 24,
    "start_time": "2024-02-22T06:17:04.076Z"
   },
   {
    "duration": 24,
    "start_time": "2024-02-22T06:17:04.101Z"
   },
   {
    "duration": 4156,
    "start_time": "2024-02-22T06:17:04.126Z"
   },
   {
    "duration": 9,
    "start_time": "2024-02-22T06:17:08.284Z"
   },
   {
    "duration": 59,
    "start_time": "2024-02-22T06:17:08.295Z"
   },
   {
    "duration": 12,
    "start_time": "2024-02-22T06:17:08.356Z"
   },
   {
    "duration": 34,
    "start_time": "2024-02-22T06:17:08.369Z"
   },
   {
    "duration": 37,
    "start_time": "2024-02-22T06:17:08.405Z"
   },
   {
    "duration": 39,
    "start_time": "2024-02-22T06:17:08.444Z"
   },
   {
    "duration": 171919,
    "start_time": "2024-02-22T06:17:08.484Z"
   },
   {
    "duration": 0,
    "start_time": "2024-02-22T06:20:00.404Z"
   },
   {
    "duration": 0,
    "start_time": "2024-02-22T06:20:00.405Z"
   },
   {
    "duration": 0,
    "start_time": "2024-02-22T06:20:00.406Z"
   },
   {
    "duration": 0,
    "start_time": "2024-02-22T06:20:00.408Z"
   },
   {
    "duration": 0,
    "start_time": "2024-02-22T06:20:00.409Z"
   },
   {
    "duration": 0,
    "start_time": "2024-02-22T06:20:00.410Z"
   },
   {
    "duration": 18,
    "start_time": "2024-02-22T06:20:08.333Z"
   },
   {
    "duration": 9,
    "start_time": "2024-02-22T06:21:15.512Z"
   },
   {
    "duration": 1675,
    "start_time": "2024-02-22T06:21:22.486Z"
   },
   {
    "duration": 2333,
    "start_time": "2024-02-22T06:21:43.474Z"
   },
   {
    "duration": 5,
    "start_time": "2024-02-22T06:21:45.810Z"
   },
   {
    "duration": 21,
    "start_time": "2024-02-22T06:21:45.817Z"
   },
   {
    "duration": 66,
    "start_time": "2024-02-22T06:21:45.840Z"
   },
   {
    "duration": 42,
    "start_time": "2024-02-22T06:21:45.907Z"
   },
   {
    "duration": 17,
    "start_time": "2024-02-22T06:21:45.950Z"
   },
   {
    "duration": 811,
    "start_time": "2024-02-22T06:21:45.968Z"
   },
   {
    "duration": 149,
    "start_time": "2024-02-22T06:21:46.780Z"
   },
   {
    "duration": 18,
    "start_time": "2024-02-22T06:21:46.931Z"
   },
   {
    "duration": 61,
    "start_time": "2024-02-22T06:21:46.952Z"
   },
   {
    "duration": 46,
    "start_time": "2024-02-22T06:21:47.014Z"
   },
   {
    "duration": 144,
    "start_time": "2024-02-22T06:21:47.062Z"
   },
   {
    "duration": 35,
    "start_time": "2024-02-22T06:21:47.208Z"
   },
   {
    "duration": 842,
    "start_time": "2024-02-22T06:21:47.245Z"
   },
   {
    "duration": 53,
    "start_time": "2024-02-22T06:21:48.088Z"
   },
   {
    "duration": 905,
    "start_time": "2024-02-22T06:21:48.143Z"
   },
   {
    "duration": 186,
    "start_time": "2024-02-22T06:21:49.050Z"
   },
   {
    "duration": 35,
    "start_time": "2024-02-22T06:21:49.237Z"
   },
   {
    "duration": 806,
    "start_time": "2024-02-22T06:21:49.274Z"
   },
   {
    "duration": 267,
    "start_time": "2024-02-22T06:21:50.082Z"
   },
   {
    "duration": 67,
    "start_time": "2024-02-22T06:21:50.351Z"
   },
   {
    "duration": 43,
    "start_time": "2024-02-22T06:21:50.419Z"
   },
   {
    "duration": 796,
    "start_time": "2024-02-22T06:21:50.464Z"
   },
   {
    "duration": 152,
    "start_time": "2024-02-22T06:21:51.262Z"
   },
   {
    "duration": 38,
    "start_time": "2024-02-22T06:21:51.415Z"
   },
   {
    "duration": 947,
    "start_time": "2024-02-22T06:21:51.455Z"
   },
   {
    "duration": 185,
    "start_time": "2024-02-22T06:21:52.403Z"
   },
   {
    "duration": 24,
    "start_time": "2024-02-22T06:21:52.595Z"
   },
   {
    "duration": 19,
    "start_time": "2024-02-22T06:21:52.621Z"
   },
   {
    "duration": 2464,
    "start_time": "2024-02-22T06:26:32.304Z"
   },
   {
    "duration": 1529,
    "start_time": "2024-02-22T06:26:34.770Z"
   },
   {
    "duration": 10,
    "start_time": "2024-02-22T06:26:36.300Z"
   },
   {
    "duration": 42,
    "start_time": "2024-02-22T06:26:36.312Z"
   },
   {
    "duration": 24,
    "start_time": "2024-02-22T06:26:36.356Z"
   },
   {
    "duration": 11,
    "start_time": "2024-02-22T06:26:36.381Z"
   },
   {
    "duration": 2748,
    "start_time": "2024-02-22T06:26:36.393Z"
   },
   {
    "duration": 143,
    "start_time": "2024-02-22T06:26:39.142Z"
   },
   {
    "duration": 13,
    "start_time": "2024-02-22T06:26:39.287Z"
   },
   {
    "duration": 41,
    "start_time": "2024-02-22T06:26:39.302Z"
   },
   {
    "duration": 63,
    "start_time": "2024-02-22T06:26:39.345Z"
   },
   {
    "duration": 126,
    "start_time": "2024-02-22T06:26:39.410Z"
   },
   {
    "duration": 23,
    "start_time": "2024-02-22T06:26:39.538Z"
   },
   {
    "duration": 922,
    "start_time": "2024-02-22T06:26:39.565Z"
   },
   {
    "duration": 53,
    "start_time": "2024-02-22T06:26:40.489Z"
   },
   {
    "duration": 878,
    "start_time": "2024-02-22T06:26:40.544Z"
   },
   {
    "duration": 165,
    "start_time": "2024-02-22T06:26:41.423Z"
   },
   {
    "duration": 30,
    "start_time": "2024-02-22T06:26:41.593Z"
   },
   {
    "duration": 901,
    "start_time": "2024-02-22T06:26:41.625Z"
   },
   {
    "duration": 144,
    "start_time": "2024-02-22T06:26:42.527Z"
   },
   {
    "duration": 65,
    "start_time": "2024-02-22T06:26:42.672Z"
   },
   {
    "duration": 69,
    "start_time": "2024-02-22T06:26:42.738Z"
   },
   {
    "duration": 20,
    "start_time": "2024-02-22T06:26:42.809Z"
   },
   {
    "duration": 798,
    "start_time": "2024-02-22T06:26:42.831Z"
   },
   {
    "duration": 150,
    "start_time": "2024-02-22T06:26:43.631Z"
   },
   {
    "duration": 26,
    "start_time": "2024-02-22T06:26:43.783Z"
   },
   {
    "duration": 946,
    "start_time": "2024-02-22T06:26:43.810Z"
   },
   {
    "duration": 195,
    "start_time": "2024-02-22T06:26:44.757Z"
   },
   {
    "duration": 19,
    "start_time": "2024-02-22T06:26:44.954Z"
   },
   {
    "duration": 5111,
    "start_time": "2024-02-22T06:26:44.975Z"
   },
   {
    "duration": 17,
    "start_time": "2024-02-22T06:26:50.088Z"
   },
   {
    "duration": 67,
    "start_time": "2024-02-22T06:26:50.107Z"
   },
   {
    "duration": 20,
    "start_time": "2024-02-22T06:26:50.176Z"
   },
   {
    "duration": 16,
    "start_time": "2024-02-22T06:26:50.198Z"
   },
   {
    "duration": 26,
    "start_time": "2024-02-22T06:26:50.215Z"
   },
   {
    "duration": 23,
    "start_time": "2024-02-22T06:26:50.242Z"
   },
   {
    "duration": 0,
    "start_time": "2024-02-22T06:31:33.107Z"
   },
   {
    "duration": 0,
    "start_time": "2024-02-22T06:31:33.108Z"
   },
   {
    "duration": 0,
    "start_time": "2024-02-22T06:31:33.110Z"
   },
   {
    "duration": 0,
    "start_time": "2024-02-22T06:31:33.113Z"
   },
   {
    "duration": 0,
    "start_time": "2024-02-22T06:31:33.115Z"
   },
   {
    "duration": 0,
    "start_time": "2024-02-22T06:31:33.117Z"
   },
   {
    "duration": 0,
    "start_time": "2024-02-22T06:31:33.119Z"
   },
   {
    "duration": 0,
    "start_time": "2024-02-22T06:31:33.120Z"
   },
   {
    "duration": 0,
    "start_time": "2024-02-22T06:31:33.122Z"
   },
   {
    "duration": 0,
    "start_time": "2024-02-22T06:31:33.124Z"
   },
   {
    "duration": 0,
    "start_time": "2024-02-22T06:31:33.126Z"
   },
   {
    "duration": 0,
    "start_time": "2024-02-22T06:31:33.128Z"
   },
   {
    "duration": 0,
    "start_time": "2024-02-22T06:31:33.130Z"
   },
   {
    "duration": 0,
    "start_time": "2024-02-22T06:31:33.132Z"
   },
   {
    "duration": 0,
    "start_time": "2024-02-22T06:31:33.134Z"
   },
   {
    "duration": 0,
    "start_time": "2024-02-22T06:31:33.194Z"
   },
   {
    "duration": 0,
    "start_time": "2024-02-22T06:31:33.196Z"
   },
   {
    "duration": 0,
    "start_time": "2024-02-22T06:31:33.198Z"
   },
   {
    "duration": 0,
    "start_time": "2024-02-22T06:31:33.200Z"
   },
   {
    "duration": 0,
    "start_time": "2024-02-22T06:31:33.202Z"
   },
   {
    "duration": 0,
    "start_time": "2024-02-22T06:31:33.203Z"
   },
   {
    "duration": 0,
    "start_time": "2024-02-22T06:31:33.205Z"
   },
   {
    "duration": 0,
    "start_time": "2024-02-22T06:31:33.207Z"
   },
   {
    "duration": 0,
    "start_time": "2024-02-22T06:31:33.208Z"
   },
   {
    "duration": 0,
    "start_time": "2024-02-22T06:31:33.210Z"
   },
   {
    "duration": 0,
    "start_time": "2024-02-22T06:31:33.212Z"
   },
   {
    "duration": 0,
    "start_time": "2024-02-22T06:31:33.214Z"
   },
   {
    "duration": 0,
    "start_time": "2024-02-22T06:31:33.216Z"
   },
   {
    "duration": 0,
    "start_time": "2024-02-22T06:31:33.218Z"
   },
   {
    "duration": 0,
    "start_time": "2024-02-22T06:31:33.219Z"
   },
   {
    "duration": 0,
    "start_time": "2024-02-22T06:31:33.221Z"
   },
   {
    "duration": 0,
    "start_time": "2024-02-22T06:31:33.223Z"
   },
   {
    "duration": 0,
    "start_time": "2024-02-22T06:31:33.225Z"
   },
   {
    "duration": 0,
    "start_time": "2024-02-22T06:31:33.227Z"
   },
   {
    "duration": 0,
    "start_time": "2024-02-22T06:31:33.229Z"
   },
   {
    "duration": 0,
    "start_time": "2024-02-22T06:31:33.230Z"
   },
   {
    "duration": 0,
    "start_time": "2024-02-22T06:31:33.232Z"
   },
   {
    "duration": 0,
    "start_time": "2024-02-22T06:31:33.295Z"
   },
   {
    "duration": 0,
    "start_time": "2024-02-22T06:31:33.297Z"
   },
   {
    "duration": 0,
    "start_time": "2024-02-22T06:31:33.299Z"
   },
   {
    "duration": 0,
    "start_time": "2024-02-22T06:31:33.301Z"
   },
   {
    "duration": 0,
    "start_time": "2024-02-22T06:31:33.302Z"
   },
   {
    "duration": 3,
    "start_time": "2024-02-22T06:34:38.112Z"
   },
   {
    "duration": 9,
    "start_time": "2024-02-22T06:37:58.110Z"
   },
   {
    "duration": 2375,
    "start_time": "2024-02-22T06:38:01.940Z"
   },
   {
    "duration": 7,
    "start_time": "2024-02-22T06:38:04.318Z"
   },
   {
    "duration": 55,
    "start_time": "2024-02-22T06:38:04.327Z"
   },
   {
    "duration": 47,
    "start_time": "2024-02-22T06:38:04.384Z"
   },
   {
    "duration": 48,
    "start_time": "2024-02-22T06:38:04.433Z"
   },
   {
    "duration": 8,
    "start_time": "2024-02-22T06:38:04.482Z"
   },
   {
    "duration": 796,
    "start_time": "2024-02-22T06:38:04.492Z"
   },
   {
    "duration": 158,
    "start_time": "2024-02-22T06:38:05.290Z"
   },
   {
    "duration": 12,
    "start_time": "2024-02-22T06:38:05.449Z"
   },
   {
    "duration": 51,
    "start_time": "2024-02-22T06:38:05.463Z"
   },
   {
    "duration": 45,
    "start_time": "2024-02-22T06:38:05.516Z"
   },
   {
    "duration": 145,
    "start_time": "2024-02-22T06:38:05.562Z"
   },
   {
    "duration": 42,
    "start_time": "2024-02-22T06:38:05.709Z"
   },
   {
    "duration": 824,
    "start_time": "2024-02-22T06:38:05.754Z"
   },
   {
    "duration": 53,
    "start_time": "2024-02-22T06:38:06.579Z"
   },
   {
    "duration": 876,
    "start_time": "2024-02-22T06:38:06.633Z"
   },
   {
    "duration": 155,
    "start_time": "2024-02-22T06:38:07.511Z"
   },
   {
    "duration": 37,
    "start_time": "2024-02-22T06:38:07.668Z"
   },
   {
    "duration": 857,
    "start_time": "2024-02-22T06:38:07.707Z"
   },
   {
    "duration": 130,
    "start_time": "2024-02-22T06:38:08.565Z"
   },
   {
    "duration": 56,
    "start_time": "2024-02-22T06:38:08.697Z"
   },
   {
    "duration": 46,
    "start_time": "2024-02-22T06:38:08.754Z"
   },
   {
    "duration": 28,
    "start_time": "2024-02-22T06:38:08.801Z"
   },
   {
    "duration": 759,
    "start_time": "2024-02-22T06:38:08.830Z"
   },
   {
    "duration": 160,
    "start_time": "2024-02-22T06:38:09.593Z"
   },
   {
    "duration": 23,
    "start_time": "2024-02-22T06:38:09.754Z"
   },
   {
    "duration": 922,
    "start_time": "2024-02-22T06:38:09.778Z"
   },
   {
    "duration": 203,
    "start_time": "2024-02-22T06:38:10.702Z"
   },
   {
    "duration": 16,
    "start_time": "2024-02-22T06:38:10.907Z"
   },
   {
    "duration": 5165,
    "start_time": "2024-02-22T06:38:10.925Z"
   },
   {
    "duration": 15,
    "start_time": "2024-02-22T06:38:16.092Z"
   },
   {
    "duration": 61,
    "start_time": "2024-02-22T06:38:16.108Z"
   },
   {
    "duration": 28,
    "start_time": "2024-02-22T06:38:16.170Z"
   },
   {
    "duration": 11,
    "start_time": "2024-02-22T06:38:16.199Z"
   },
   {
    "duration": 0,
    "start_time": "2024-02-22T06:38:16.212Z"
   },
   {
    "duration": 0,
    "start_time": "2024-02-22T06:38:16.213Z"
   },
   {
    "duration": 0,
    "start_time": "2024-02-22T06:38:16.214Z"
   },
   {
    "duration": 0,
    "start_time": "2024-02-22T06:38:16.215Z"
   },
   {
    "duration": 0,
    "start_time": "2024-02-22T06:38:16.216Z"
   },
   {
    "duration": 0,
    "start_time": "2024-02-22T06:38:16.217Z"
   },
   {
    "duration": 0,
    "start_time": "2024-02-22T06:38:16.218Z"
   },
   {
    "duration": 0,
    "start_time": "2024-02-22T06:38:16.219Z"
   },
   {
    "duration": 4731,
    "start_time": "2024-02-22T06:38:59.489Z"
   },
   {
    "duration": 5,
    "start_time": "2024-02-22T06:40:37.584Z"
   },
   {
    "duration": 4,
    "start_time": "2024-02-22T06:40:44.187Z"
   },
   {
    "duration": 10,
    "start_time": "2024-02-22T06:41:37.362Z"
   },
   {
    "duration": 4,
    "start_time": "2024-02-22T06:41:47.500Z"
   },
   {
    "duration": 3,
    "start_time": "2024-02-22T06:41:50.613Z"
   },
   {
    "duration": 2,
    "start_time": "2024-02-22T06:41:52.687Z"
   },
   {
    "duration": 245862,
    "start_time": "2024-02-22T06:41:54.635Z"
   },
   {
    "duration": 213368,
    "start_time": "2024-02-22T06:48:12.632Z"
   },
   {
    "duration": 10,
    "start_time": "2024-02-22T06:51:46.001Z"
   },
   {
    "duration": 2,
    "start_time": "2024-02-22T06:51:50.971Z"
   },
   {
    "duration": 167442,
    "start_time": "2024-02-22T06:51:54.651Z"
   },
   {
    "duration": 3,
    "start_time": "2024-02-22T06:54:45.367Z"
   },
   {
    "duration": 43295,
    "start_time": "2024-02-22T06:54:47.849Z"
   },
   {
    "duration": 12,
    "start_time": "2024-02-22T06:56:06.225Z"
   },
   {
    "duration": 14,
    "start_time": "2024-02-22T07:00:39.787Z"
   },
   {
    "duration": 3,
    "start_time": "2024-02-23T05:53:39.033Z"
   },
   {
    "duration": 303,
    "start_time": "2024-02-23T05:53:39.038Z"
   },
   {
    "duration": 0,
    "start_time": "2024-02-23T05:53:39.343Z"
   },
   {
    "duration": 0,
    "start_time": "2024-02-23T05:53:39.344Z"
   },
   {
    "duration": 0,
    "start_time": "2024-02-23T05:53:39.345Z"
   },
   {
    "duration": 0,
    "start_time": "2024-02-23T05:53:39.346Z"
   },
   {
    "duration": 0,
    "start_time": "2024-02-23T05:53:39.365Z"
   },
   {
    "duration": 0,
    "start_time": "2024-02-23T05:53:39.365Z"
   },
   {
    "duration": 0,
    "start_time": "2024-02-23T05:53:39.366Z"
   },
   {
    "duration": 0,
    "start_time": "2024-02-23T05:53:39.367Z"
   },
   {
    "duration": 0,
    "start_time": "2024-02-23T05:53:39.368Z"
   },
   {
    "duration": 0,
    "start_time": "2024-02-23T05:53:39.369Z"
   },
   {
    "duration": 0,
    "start_time": "2024-02-23T05:53:39.370Z"
   },
   {
    "duration": 0,
    "start_time": "2024-02-23T05:53:39.371Z"
   },
   {
    "duration": 0,
    "start_time": "2024-02-23T05:53:39.372Z"
   },
   {
    "duration": 0,
    "start_time": "2024-02-23T05:53:39.373Z"
   },
   {
    "duration": 0,
    "start_time": "2024-02-23T05:53:39.374Z"
   },
   {
    "duration": 0,
    "start_time": "2024-02-23T05:53:39.375Z"
   },
   {
    "duration": 0,
    "start_time": "2024-02-23T05:53:39.376Z"
   },
   {
    "duration": 0,
    "start_time": "2024-02-23T05:53:39.377Z"
   },
   {
    "duration": 0,
    "start_time": "2024-02-23T05:53:39.378Z"
   },
   {
    "duration": 0,
    "start_time": "2024-02-23T05:53:39.379Z"
   },
   {
    "duration": 0,
    "start_time": "2024-02-23T05:53:39.380Z"
   },
   {
    "duration": 0,
    "start_time": "2024-02-23T05:53:39.381Z"
   },
   {
    "duration": 0,
    "start_time": "2024-02-23T05:53:39.382Z"
   },
   {
    "duration": 0,
    "start_time": "2024-02-23T05:53:39.383Z"
   },
   {
    "duration": 0,
    "start_time": "2024-02-23T05:53:39.384Z"
   },
   {
    "duration": 0,
    "start_time": "2024-02-23T05:53:39.385Z"
   },
   {
    "duration": 0,
    "start_time": "2024-02-23T05:53:39.386Z"
   },
   {
    "duration": 0,
    "start_time": "2024-02-23T05:53:39.387Z"
   },
   {
    "duration": 0,
    "start_time": "2024-02-23T05:53:39.388Z"
   },
   {
    "duration": 0,
    "start_time": "2024-02-23T05:53:39.389Z"
   },
   {
    "duration": 0,
    "start_time": "2024-02-23T05:53:39.389Z"
   },
   {
    "duration": 0,
    "start_time": "2024-02-23T05:53:39.392Z"
   },
   {
    "duration": 0,
    "start_time": "2024-02-23T05:53:39.393Z"
   },
   {
    "duration": 0,
    "start_time": "2024-02-23T05:53:39.394Z"
   },
   {
    "duration": 0,
    "start_time": "2024-02-23T05:53:39.395Z"
   },
   {
    "duration": 0,
    "start_time": "2024-02-23T05:53:39.396Z"
   },
   {
    "duration": 0,
    "start_time": "2024-02-23T05:53:39.397Z"
   },
   {
    "duration": 0,
    "start_time": "2024-02-23T05:53:39.398Z"
   },
   {
    "duration": 0,
    "start_time": "2024-02-23T05:53:39.398Z"
   },
   {
    "duration": 0,
    "start_time": "2024-02-23T05:53:39.400Z"
   },
   {
    "duration": 0,
    "start_time": "2024-02-23T05:53:39.400Z"
   },
   {
    "duration": 3061,
    "start_time": "2024-02-23T05:54:07.738Z"
   },
   {
    "duration": 1348,
    "start_time": "2024-02-23T05:54:13.470Z"
   },
   {
    "duration": 2348,
    "start_time": "2024-02-23T05:54:17.759Z"
   },
   {
    "duration": 5,
    "start_time": "2024-02-23T05:54:20.110Z"
   },
   {
    "duration": 9,
    "start_time": "2024-02-23T05:54:20.117Z"
   },
   {
    "duration": 8,
    "start_time": "2024-02-23T05:54:20.127Z"
   },
   {
    "duration": 9,
    "start_time": "2024-02-23T05:54:20.137Z"
   },
   {
    "duration": 8,
    "start_time": "2024-02-23T05:54:20.147Z"
   },
   {
    "duration": 1553,
    "start_time": "2024-02-23T05:54:20.157Z"
   },
   {
    "duration": 156,
    "start_time": "2024-02-23T05:54:21.711Z"
   },
   {
    "duration": 14,
    "start_time": "2024-02-23T05:54:21.869Z"
   },
   {
    "duration": 42,
    "start_time": "2024-02-23T05:54:21.885Z"
   },
   {
    "duration": 61,
    "start_time": "2024-02-23T05:54:21.929Z"
   },
   {
    "duration": 124,
    "start_time": "2024-02-23T05:54:21.991Z"
   },
   {
    "duration": 27,
    "start_time": "2024-02-23T05:54:22.117Z"
   },
   {
    "duration": 964,
    "start_time": "2024-02-23T05:54:22.147Z"
   },
   {
    "duration": 56,
    "start_time": "2024-02-23T05:54:23.113Z"
   },
   {
    "duration": 911,
    "start_time": "2024-02-23T05:54:23.170Z"
   },
   {
    "duration": 167,
    "start_time": "2024-02-23T05:54:24.082Z"
   },
   {
    "duration": 39,
    "start_time": "2024-02-23T05:54:24.251Z"
   },
   {
    "duration": 933,
    "start_time": "2024-02-23T05:54:24.292Z"
   },
   {
    "duration": 138,
    "start_time": "2024-02-23T05:54:25.227Z"
   },
   {
    "duration": 59,
    "start_time": "2024-02-23T05:54:25.367Z"
   },
   {
    "duration": 46,
    "start_time": "2024-02-23T05:54:25.428Z"
   },
   {
    "duration": 20,
    "start_time": "2024-02-23T05:54:25.476Z"
   },
   {
    "duration": 807,
    "start_time": "2024-02-23T05:54:25.497Z"
   },
   {
    "duration": 273,
    "start_time": "2024-02-23T05:54:26.306Z"
   },
   {
    "duration": 24,
    "start_time": "2024-02-23T05:54:26.581Z"
   },
   {
    "duration": 784,
    "start_time": "2024-02-23T05:54:26.606Z"
   },
   {
    "duration": 194,
    "start_time": "2024-02-23T05:54:27.392Z"
   },
   {
    "duration": 20,
    "start_time": "2024-02-23T05:54:27.587Z"
   },
   {
    "duration": 5063,
    "start_time": "2024-02-23T05:54:27.609Z"
   },
   {
    "duration": 13,
    "start_time": "2024-02-23T05:54:32.673Z"
   },
   {
    "duration": 93,
    "start_time": "2024-02-23T05:54:32.687Z"
   },
   {
    "duration": 22,
    "start_time": "2024-02-23T05:54:32.782Z"
   },
   {
    "duration": 4,
    "start_time": "2024-02-23T05:54:32.806Z"
   },
   {
    "duration": 98,
    "start_time": "2024-02-23T05:54:32.812Z"
   },
   {
    "duration": 0,
    "start_time": "2024-02-23T05:54:32.912Z"
   },
   {
    "duration": 0,
    "start_time": "2024-02-23T05:54:32.913Z"
   },
   {
    "duration": 0,
    "start_time": "2024-02-23T05:54:32.915Z"
   },
   {
    "duration": 0,
    "start_time": "2024-02-23T05:54:32.916Z"
   },
   {
    "duration": 0,
    "start_time": "2024-02-23T05:54:32.918Z"
   },
   {
    "duration": 0,
    "start_time": "2024-02-23T05:54:32.919Z"
   },
   {
    "duration": 0,
    "start_time": "2024-02-23T05:54:32.920Z"
   },
   {
    "duration": 0,
    "start_time": "2024-02-23T05:54:32.922Z"
   },
   {
    "duration": 3,
    "start_time": "2024-02-23T05:56:22.284Z"
   },
   {
    "duration": 3,
    "start_time": "2024-02-23T05:56:24.709Z"
   },
   {
    "duration": 2,
    "start_time": "2024-02-23T05:56:28.825Z"
   },
   {
    "duration": 2534,
    "start_time": "2024-04-16T18:45:19.433Z"
   },
   {
    "duration": 64,
    "start_time": "2024-04-16T18:45:21.970Z"
   },
   {
    "duration": 0,
    "start_time": "2024-04-16T18:45:22.037Z"
   },
   {
    "duration": 0,
    "start_time": "2024-04-16T18:45:22.038Z"
   },
   {
    "duration": 0,
    "start_time": "2024-04-16T18:45:22.039Z"
   },
   {
    "duration": 0,
    "start_time": "2024-04-16T18:45:22.040Z"
   },
   {
    "duration": 0,
    "start_time": "2024-04-16T18:45:22.041Z"
   },
   {
    "duration": 0,
    "start_time": "2024-04-16T18:45:22.043Z"
   },
   {
    "duration": 0,
    "start_time": "2024-04-16T18:45:22.044Z"
   },
   {
    "duration": 0,
    "start_time": "2024-04-16T18:45:22.045Z"
   },
   {
    "duration": 0,
    "start_time": "2024-04-16T18:45:22.046Z"
   },
   {
    "duration": 0,
    "start_time": "2024-04-16T18:45:22.047Z"
   },
   {
    "duration": 0,
    "start_time": "2024-04-16T18:45:22.048Z"
   },
   {
    "duration": 0,
    "start_time": "2024-04-16T18:45:22.049Z"
   },
   {
    "duration": 0,
    "start_time": "2024-04-16T18:45:22.050Z"
   },
   {
    "duration": 0,
    "start_time": "2024-04-16T18:45:22.051Z"
   },
   {
    "duration": 0,
    "start_time": "2024-04-16T18:45:22.052Z"
   },
   {
    "duration": 0,
    "start_time": "2024-04-16T18:45:22.053Z"
   },
   {
    "duration": 0,
    "start_time": "2024-04-16T18:45:22.055Z"
   },
   {
    "duration": 0,
    "start_time": "2024-04-16T18:45:22.056Z"
   },
   {
    "duration": 0,
    "start_time": "2024-04-16T18:45:22.057Z"
   },
   {
    "duration": 0,
    "start_time": "2024-04-16T18:45:22.058Z"
   },
   {
    "duration": 0,
    "start_time": "2024-04-16T18:45:22.059Z"
   },
   {
    "duration": 0,
    "start_time": "2024-04-16T18:45:22.060Z"
   },
   {
    "duration": 0,
    "start_time": "2024-04-16T18:45:22.061Z"
   },
   {
    "duration": 0,
    "start_time": "2024-04-16T18:45:22.062Z"
   },
   {
    "duration": 0,
    "start_time": "2024-04-16T18:45:22.063Z"
   },
   {
    "duration": 0,
    "start_time": "2024-04-16T18:45:22.064Z"
   },
   {
    "duration": 0,
    "start_time": "2024-04-16T18:45:22.065Z"
   },
   {
    "duration": 0,
    "start_time": "2024-04-16T18:45:22.066Z"
   },
   {
    "duration": 0,
    "start_time": "2024-04-16T18:45:22.067Z"
   },
   {
    "duration": 0,
    "start_time": "2024-04-16T18:45:22.068Z"
   },
   {
    "duration": 0,
    "start_time": "2024-04-16T18:45:22.069Z"
   },
   {
    "duration": 0,
    "start_time": "2024-04-16T18:45:22.070Z"
   },
   {
    "duration": 0,
    "start_time": "2024-04-16T18:45:22.072Z"
   },
   {
    "duration": 0,
    "start_time": "2024-04-16T18:45:22.129Z"
   },
   {
    "duration": 0,
    "start_time": "2024-04-16T18:45:22.130Z"
   },
   {
    "duration": 0,
    "start_time": "2024-04-16T18:45:22.131Z"
   },
   {
    "duration": 0,
    "start_time": "2024-04-16T18:45:22.132Z"
   },
   {
    "duration": 0,
    "start_time": "2024-04-16T18:45:22.133Z"
   },
   {
    "duration": 0,
    "start_time": "2024-04-16T18:45:22.134Z"
   },
   {
    "duration": 0,
    "start_time": "2024-04-16T18:45:22.135Z"
   },
   {
    "duration": 0,
    "start_time": "2024-04-16T18:45:22.136Z"
   },
   {
    "duration": 2489,
    "start_time": "2024-04-16T18:45:36.871Z"
   },
   {
    "duration": 1377,
    "start_time": "2024-04-16T18:45:39.362Z"
   },
   {
    "duration": 10,
    "start_time": "2024-04-16T18:45:40.741Z"
   },
   {
    "duration": 19,
    "start_time": "2024-04-16T18:45:40.753Z"
   },
   {
    "duration": 8,
    "start_time": "2024-04-16T18:45:40.773Z"
   },
   {
    "duration": 18,
    "start_time": "2024-04-16T18:45:40.783Z"
   },
   {
    "duration": 1617,
    "start_time": "2024-04-16T18:45:40.803Z"
   },
   {
    "duration": 153,
    "start_time": "2024-04-16T18:45:42.421Z"
   },
   {
    "duration": 15,
    "start_time": "2024-04-16T18:45:42.576Z"
   },
   {
    "duration": 70,
    "start_time": "2024-04-16T18:45:42.594Z"
   },
   {
    "duration": 48,
    "start_time": "2024-04-16T18:45:42.666Z"
   },
   {
    "duration": 120,
    "start_time": "2024-04-16T18:45:42.716Z"
   },
   {
    "duration": 22,
    "start_time": "2024-04-16T18:45:42.837Z"
   },
   {
    "duration": 966,
    "start_time": "2024-04-16T18:45:42.860Z"
   },
   {
    "duration": 61,
    "start_time": "2024-04-16T18:45:43.829Z"
   },
   {
    "duration": 960,
    "start_time": "2024-04-16T18:45:43.891Z"
   },
   {
    "duration": 191,
    "start_time": "2024-04-16T18:45:44.852Z"
   },
   {
    "duration": 30,
    "start_time": "2024-04-16T18:45:45.044Z"
   },
   {
    "duration": 1081,
    "start_time": "2024-04-16T18:45:45.076Z"
   },
   {
    "duration": 138,
    "start_time": "2024-04-16T18:45:46.159Z"
   },
   {
    "duration": 63,
    "start_time": "2024-04-16T18:45:46.298Z"
   },
   {
    "duration": 33,
    "start_time": "2024-04-16T18:45:46.363Z"
   },
   {
    "duration": 31,
    "start_time": "2024-04-16T18:45:46.398Z"
   },
   {
    "duration": 799,
    "start_time": "2024-04-16T18:45:46.431Z"
   },
   {
    "duration": 158,
    "start_time": "2024-04-16T18:45:47.232Z"
   },
   {
    "duration": 20,
    "start_time": "2024-04-16T18:45:47.392Z"
   },
   {
    "duration": 998,
    "start_time": "2024-04-16T18:45:47.415Z"
   },
   {
    "duration": 201,
    "start_time": "2024-04-16T18:45:48.416Z"
   },
   {
    "duration": 22,
    "start_time": "2024-04-16T18:45:48.618Z"
   },
   {
    "duration": 5196,
    "start_time": "2024-04-16T18:45:48.642Z"
   },
   {
    "duration": 14,
    "start_time": "2024-04-16T18:45:53.840Z"
   },
   {
    "duration": 74,
    "start_time": "2024-04-16T18:45:53.855Z"
   },
   {
    "duration": 21,
    "start_time": "2024-04-16T18:45:53.931Z"
   },
   {
    "duration": 4,
    "start_time": "2024-04-16T18:45:53.953Z"
   },
   {
    "duration": 13,
    "start_time": "2024-04-16T18:45:53.959Z"
   },
   {
    "duration": 7,
    "start_time": "2024-04-16T18:45:53.974Z"
   },
   {
    "duration": 280350,
    "start_time": "2024-04-16T18:45:53.983Z"
   },
   {
    "duration": 3,
    "start_time": "2024-04-16T18:50:34.335Z"
   },
   {
    "duration": 197745,
    "start_time": "2024-04-16T18:50:34.340Z"
   },
   {
    "duration": 3,
    "start_time": "2024-04-16T18:53:52.087Z"
   },
   {
    "duration": 43687,
    "start_time": "2024-04-16T18:53:52.092Z"
   },
   {
    "duration": 13,
    "start_time": "2024-04-16T18:54:35.781Z"
   },
   {
    "duration": 31456,
    "start_time": "2024-04-16T18:54:35.797Z"
   }
  ],
  "colab": {
   "provenance": []
  },
  "kernelspec": {
   "display_name": "Python 3 (ipykernel)",
   "language": "python",
   "name": "python3"
  },
  "language_info": {
   "codemirror_mode": {
    "name": "ipython",
    "version": 3
   },
   "file_extension": ".py",
   "mimetype": "text/x-python",
   "name": "python",
   "nbconvert_exporter": "python",
   "pygments_lexer": "ipython3",
   "version": "3.9.5"
  },
  "toc": {
   "base_numbering": 1,
   "nav_menu": {},
   "number_sections": true,
   "sideBar": true,
   "skip_h1_title": true,
   "title_cell": "Table of Contents",
   "title_sidebar": "Contents",
   "toc_cell": false,
   "toc_position": {},
   "toc_section_display": true,
   "toc_window_display": false
  }
 },
 "nbformat": 4,
 "nbformat_minor": 1
}

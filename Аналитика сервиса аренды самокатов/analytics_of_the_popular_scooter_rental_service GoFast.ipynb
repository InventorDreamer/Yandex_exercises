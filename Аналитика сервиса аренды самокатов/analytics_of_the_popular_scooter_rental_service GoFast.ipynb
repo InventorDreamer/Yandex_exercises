{
 "cells": [
  {
   "cell_type": "markdown",
   "id": "d6bc2065",
   "metadata": {},
   "source": [
    "# Содержание\n",
    "[**Загрузка данных.**](#Загрузка-данных)\n",
    "\n",
    "[**Предобработка данных.**](#Предобработка-данных)\n",
    "\n",
    "[**Исследовательский анализ данных.**](#Исследовательский-анализ-данных)\n",
    "\n",
    "[**Объединение данных.**](#Объединение-данных)\n",
    "\n",
    "[**Подсчёт выручки.**](#Подсчёт-выручки)\n",
    "\n",
    "[**Проверка гипотез.**](#Проверка-гипотез)\n",
    "\n",
    "[**Общий вывод.**](#Общий-вывод)"
   ]
  },
  {
   "cell_type": "markdown",
   "id": "8366aea0",
   "metadata": {},
   "source": [
    "# Описание проекта"
   ]
  },
  {
   "cell_type": "markdown",
   "id": "4316ea15",
   "metadata": {},
   "source": [
    "**Сервис аренды самокатов GoFast.**\n",
    "<br> Имеются данные о некоторых пользователях из нескольких городов, а также об их поездках. **Нужно проанализировать данные и проверить некоторые гипотезы, которые могут помочь бизнесу вырасти.**\n",
    "<br> Чтобы совершать поездки по городу, пользователи сервиса GoFast пользуются мобильным приложением. Сервисом можно пользоваться:\n",
    "* без подписки\n",
    "    * абонентская плата отсутствует;\n",
    "    * стоимость одной минуты поездки — 8 рублей;\n",
    "    * стоимость старта (начала поездки) — 50 рублей;\n",
    "* с подпиской Ultra\n",
    "    * абонентская плата — 199 рублей в месяц;\n",
    "    * стоимость одной минуты поездки — 6 рублей;\n",
    "    * стоимость старта — бесплатно."
   ]
  },
  {
   "cell_type": "markdown",
   "id": "22b88bd0",
   "metadata": {},
   "source": [
    "# Описание данных\n",
    "\n",
    "1. Пользователи — users_go.csv\n",
    "\n",
    "* user_id - уникальный идентификатор пользователя\n",
    "* name - имя пользователя\n",
    "* age - возраст\n",
    "* city - город\n",
    "* subscription_type - тип подписки (free, ultra)\n",
    "\n",
    "2. Поездки — rides_go.csv\n",
    "\n",
    "* user_id - уникальный идентификатор пользователя\n",
    "* distance - расстояние, которое пользователь проехал в текущей сессии (в метрах)\n",
    "* duration - продолжительность сессии (в минутах) — время с того момента, как пользователь нажал кнопку «Начать поездку» до момента, как он нажал кнопку «Завершить поездку»\n",
    "* date - дата совершения поездки\n",
    "\n",
    "3. Подписки — subscriptions_go.csv\n",
    "\n",
    "* subscription_type - тип подписки\n",
    "* minute_price - стоимость одной минуты поездки по данной подписке\n",
    "* start_ride_price - стоимость начала поездки\n",
    "* subscription_fee - стоимость ежемесячного платежа"
   ]
  },
  {
   "cell_type": "markdown",
   "id": "278c5210",
   "metadata": {},
   "source": [
    "# Импортирование библиотек"
   ]
  },
  {
   "cell_type": "code",
   "execution_count": 2,
   "id": "4e873ead",
   "metadata": {},
   "outputs": [],
   "source": [
    "import pandas as pd\n",
    "import matplotlib.pyplot as plt\n",
    "from scipy import stats as st\n",
    "import numpy as np"
   ]
  },
  {
   "cell_type": "markdown",
   "id": "b7e454c7",
   "metadata": {},
   "source": [
    "## Загрузка данных"
   ]
  },
  {
   "cell_type": "markdown",
   "id": "2b769f1b",
   "metadata": {},
   "source": [
    "### Откроем файл users_go.csv и изучим его."
   ]
  },
  {
   "cell_type": "code",
   "execution_count": 3,
   "id": "d8699752",
   "metadata": {},
   "outputs": [
    {
     "data": {
      "text/html": [
       "<div>\n",
       "<style scoped>\n",
       "    .dataframe tbody tr th:only-of-type {\n",
       "        vertical-align: middle;\n",
       "    }\n",
       "\n",
       "    .dataframe tbody tr th {\n",
       "        vertical-align: top;\n",
       "    }\n",
       "\n",
       "    .dataframe thead th {\n",
       "        text-align: right;\n",
       "    }\n",
       "</style>\n",
       "<table border=\"1\" class=\"dataframe\">\n",
       "  <thead>\n",
       "    <tr style=\"text-align: right;\">\n",
       "      <th></th>\n",
       "      <th>user_id</th>\n",
       "      <th>name</th>\n",
       "      <th>age</th>\n",
       "      <th>city</th>\n",
       "      <th>subscription_type</th>\n",
       "    </tr>\n",
       "  </thead>\n",
       "  <tbody>\n",
       "    <tr>\n",
       "      <th>0</th>\n",
       "      <td>1</td>\n",
       "      <td>Кира</td>\n",
       "      <td>22</td>\n",
       "      <td>Тюмень</td>\n",
       "      <td>ultra</td>\n",
       "    </tr>\n",
       "    <tr>\n",
       "      <th>1</th>\n",
       "      <td>2</td>\n",
       "      <td>Станислав</td>\n",
       "      <td>31</td>\n",
       "      <td>Омск</td>\n",
       "      <td>ultra</td>\n",
       "    </tr>\n",
       "    <tr>\n",
       "      <th>2</th>\n",
       "      <td>3</td>\n",
       "      <td>Алексей</td>\n",
       "      <td>20</td>\n",
       "      <td>Москва</td>\n",
       "      <td>ultra</td>\n",
       "    </tr>\n",
       "    <tr>\n",
       "      <th>3</th>\n",
       "      <td>4</td>\n",
       "      <td>Константин</td>\n",
       "      <td>26</td>\n",
       "      <td>Ростов-на-Дону</td>\n",
       "      <td>ultra</td>\n",
       "    </tr>\n",
       "    <tr>\n",
       "      <th>4</th>\n",
       "      <td>5</td>\n",
       "      <td>Адель</td>\n",
       "      <td>28</td>\n",
       "      <td>Омск</td>\n",
       "      <td>ultra</td>\n",
       "    </tr>\n",
       "    <tr>\n",
       "      <th>5</th>\n",
       "      <td>6</td>\n",
       "      <td>Регина</td>\n",
       "      <td>25</td>\n",
       "      <td>Краснодар</td>\n",
       "      <td>ultra</td>\n",
       "    </tr>\n",
       "    <tr>\n",
       "      <th>6</th>\n",
       "      <td>7</td>\n",
       "      <td>Игорь</td>\n",
       "      <td>23</td>\n",
       "      <td>Омск</td>\n",
       "      <td>ultra</td>\n",
       "    </tr>\n",
       "    <tr>\n",
       "      <th>7</th>\n",
       "      <td>8</td>\n",
       "      <td>Юрий</td>\n",
       "      <td>23</td>\n",
       "      <td>Краснодар</td>\n",
       "      <td>ultra</td>\n",
       "    </tr>\n",
       "    <tr>\n",
       "      <th>8</th>\n",
       "      <td>9</td>\n",
       "      <td>Ян</td>\n",
       "      <td>21</td>\n",
       "      <td>Пятигорск</td>\n",
       "      <td>ultra</td>\n",
       "    </tr>\n",
       "    <tr>\n",
       "      <th>9</th>\n",
       "      <td>10</td>\n",
       "      <td>Валерий</td>\n",
       "      <td>18</td>\n",
       "      <td>Екатеринбург</td>\n",
       "      <td>ultra</td>\n",
       "    </tr>\n",
       "  </tbody>\n",
       "</table>\n",
       "</div>"
      ],
      "text/plain": [
       "   user_id        name  age            city subscription_type\n",
       "0        1        Кира   22          Тюмень             ultra\n",
       "1        2   Станислав   31            Омск             ultra\n",
       "2        3     Алексей   20          Москва             ultra\n",
       "3        4  Константин   26  Ростов-на-Дону             ultra\n",
       "4        5       Адель   28            Омск             ultra\n",
       "5        6      Регина   25       Краснодар             ultra\n",
       "6        7       Игорь   23            Омск             ultra\n",
       "7        8        Юрий   23       Краснодар             ultra\n",
       "8        9          Ян   21       Пятигорск             ultra\n",
       "9       10     Валерий   18    Екатеринбург             ultra"
      ]
     },
     "metadata": {},
     "output_type": "display_data"
    }
   ],
   "source": [
    "data_users = pd.read_csv('/datasets/users_go.csv')\n",
    "\n",
    "display(data_users.head(10))"
   ]
  },
  {
   "cell_type": "markdown",
   "id": "32e8a404",
   "metadata": {},
   "source": [
    "**Вывод общей информации о датафрейме.**"
   ]
  },
  {
   "cell_type": "code",
   "execution_count": 4,
   "id": "10dbdc58",
   "metadata": {},
   "outputs": [
    {
     "name": "stdout",
     "output_type": "stream",
     "text": [
      "<class 'pandas.core.frame.DataFrame'>\n",
      "RangeIndex: 1565 entries, 0 to 1564\n",
      "Data columns (total 5 columns):\n",
      " #   Column             Non-Null Count  Dtype \n",
      "---  ------             --------------  ----- \n",
      " 0   user_id            1565 non-null   int64 \n",
      " 1   name               1565 non-null   object\n",
      " 2   age                1565 non-null   int64 \n",
      " 3   city               1565 non-null   object\n",
      " 4   subscription_type  1565 non-null   object\n",
      "dtypes: int64(2), object(3)\n",
      "memory usage: 61.3+ KB\n",
      "None\n"
     ]
    }
   ],
   "source": [
    "print(data_users.info())"
   ]
  },
  {
   "cell_type": "markdown",
   "id": "5dd76f82",
   "metadata": {},
   "source": [
    "**Признаки:**\n",
    "* user_id - уникальный идентификатор пользователя\n",
    "* name - имя пользователя\n",
    "* age - возраст\n",
    "* city - город\n",
    "* subscription_type - тип подписки (free, ultra)"
   ]
  },
  {
   "cell_type": "markdown",
   "id": "59893b37",
   "metadata": {},
   "source": [
    "**По изученным данным можно заметить, что в датафрейме нет пропусков, все названия столбцов записаны в одном виде, типы данных корректны. Возможно есть дубликаты.**"
   ]
  },
  {
   "cell_type": "markdown",
   "id": "ac7c67ba",
   "metadata": {},
   "source": [
    "### Откроем файл rides_go.csv и изучим его."
   ]
  },
  {
   "cell_type": "code",
   "execution_count": 5,
   "id": "7c8ee532",
   "metadata": {},
   "outputs": [
    {
     "data": {
      "text/html": [
       "<div>\n",
       "<style scoped>\n",
       "    .dataframe tbody tr th:only-of-type {\n",
       "        vertical-align: middle;\n",
       "    }\n",
       "\n",
       "    .dataframe tbody tr th {\n",
       "        vertical-align: top;\n",
       "    }\n",
       "\n",
       "    .dataframe thead th {\n",
       "        text-align: right;\n",
       "    }\n",
       "</style>\n",
       "<table border=\"1\" class=\"dataframe\">\n",
       "  <thead>\n",
       "    <tr style=\"text-align: right;\">\n",
       "      <th></th>\n",
       "      <th>user_id</th>\n",
       "      <th>distance</th>\n",
       "      <th>duration</th>\n",
       "      <th>date</th>\n",
       "    </tr>\n",
       "  </thead>\n",
       "  <tbody>\n",
       "    <tr>\n",
       "      <th>18058</th>\n",
       "      <td>1534</td>\n",
       "      <td>195.447469</td>\n",
       "      <td>6.469074</td>\n",
       "      <td>2021-06-11</td>\n",
       "    </tr>\n",
       "    <tr>\n",
       "      <th>18059</th>\n",
       "      <td>1534</td>\n",
       "      <td>3214.021065</td>\n",
       "      <td>18.343604</td>\n",
       "      <td>2021-06-18</td>\n",
       "    </tr>\n",
       "    <tr>\n",
       "      <th>18060</th>\n",
       "      <td>1534</td>\n",
       "      <td>3644.708038</td>\n",
       "      <td>20.289416</td>\n",
       "      <td>2021-08-08</td>\n",
       "    </tr>\n",
       "    <tr>\n",
       "      <th>18061</th>\n",
       "      <td>1534</td>\n",
       "      <td>3977.744996</td>\n",
       "      <td>26.916544</td>\n",
       "      <td>2021-08-20</td>\n",
       "    </tr>\n",
       "    <tr>\n",
       "      <th>18062</th>\n",
       "      <td>1534</td>\n",
       "      <td>4928.173852</td>\n",
       "      <td>22.560373</td>\n",
       "      <td>2021-09-13</td>\n",
       "    </tr>\n",
       "    <tr>\n",
       "      <th>18063</th>\n",
       "      <td>1534</td>\n",
       "      <td>3781.098080</td>\n",
       "      <td>19.822962</td>\n",
       "      <td>2021-11-04</td>\n",
       "    </tr>\n",
       "    <tr>\n",
       "      <th>18064</th>\n",
       "      <td>1534</td>\n",
       "      <td>2840.423057</td>\n",
       "      <td>21.409799</td>\n",
       "      <td>2021-11-16</td>\n",
       "    </tr>\n",
       "    <tr>\n",
       "      <th>18065</th>\n",
       "      <td>1534</td>\n",
       "      <td>3826.185507</td>\n",
       "      <td>18.435051</td>\n",
       "      <td>2021-11-18</td>\n",
       "    </tr>\n",
       "    <tr>\n",
       "      <th>18066</th>\n",
       "      <td>1534</td>\n",
       "      <td>2902.308661</td>\n",
       "      <td>16.674362</td>\n",
       "      <td>2021-11-27</td>\n",
       "    </tr>\n",
       "    <tr>\n",
       "      <th>18067</th>\n",
       "      <td>1534</td>\n",
       "      <td>2371.711192</td>\n",
       "      <td>15.893917</td>\n",
       "      <td>2021-12-29</td>\n",
       "    </tr>\n",
       "  </tbody>\n",
       "</table>\n",
       "</div>"
      ],
      "text/plain": [
       "       user_id     distance   duration        date\n",
       "18058     1534   195.447469   6.469074  2021-06-11\n",
       "18059     1534  3214.021065  18.343604  2021-06-18\n",
       "18060     1534  3644.708038  20.289416  2021-08-08\n",
       "18061     1534  3977.744996  26.916544  2021-08-20\n",
       "18062     1534  4928.173852  22.560373  2021-09-13\n",
       "18063     1534  3781.098080  19.822962  2021-11-04\n",
       "18064     1534  2840.423057  21.409799  2021-11-16\n",
       "18065     1534  3826.185507  18.435051  2021-11-18\n",
       "18066     1534  2902.308661  16.674362  2021-11-27\n",
       "18067     1534  2371.711192  15.893917  2021-12-29"
      ]
     },
     "metadata": {},
     "output_type": "display_data"
    }
   ],
   "source": [
    "data_rides = pd.read_csv('/datasets/rides_go.csv')\n",
    "\n",
    "display(data_rides.tail(10))"
   ]
  },
  {
   "cell_type": "markdown",
   "id": "736327ac",
   "metadata": {},
   "source": [
    "**Вывод общей информации о датафрейме.**"
   ]
  },
  {
   "cell_type": "code",
   "execution_count": 6,
   "id": "ace08823",
   "metadata": {},
   "outputs": [
    {
     "name": "stdout",
     "output_type": "stream",
     "text": [
      "<class 'pandas.core.frame.DataFrame'>\n",
      "RangeIndex: 18068 entries, 0 to 18067\n",
      "Data columns (total 4 columns):\n",
      " #   Column    Non-Null Count  Dtype  \n",
      "---  ------    --------------  -----  \n",
      " 0   user_id   18068 non-null  int64  \n",
      " 1   distance  18068 non-null  float64\n",
      " 2   duration  18068 non-null  float64\n",
      " 3   date      18068 non-null  object \n",
      "dtypes: float64(2), int64(1), object(1)\n",
      "memory usage: 564.8+ KB\n",
      "None\n"
     ]
    }
   ],
   "source": [
    "print(data_rides.info())"
   ]
  },
  {
   "cell_type": "markdown",
   "id": "b8f240a3",
   "metadata": {},
   "source": [
    "**Признаки:**\n",
    "* user_id - уникальный идентификатор пользователя\n",
    "* distance - расстояние, которое пользователь проехал в текущей сессии (в метрах)\n",
    "* duration - продолжительность сессии (в минутах) — время с того момента, как пользователь нажал кнопку «Начать поездку» до момента, как он нажал кнопку «Завершить поездку»\n",
    "* date - дата совершения поездки"
   ]
  },
  {
   "cell_type": "markdown",
   "id": "5eb9ba7c",
   "metadata": {},
   "source": [
    "**По изученным данным можно сделать вывод, что**\n",
    "1. Пропусков нет.\n",
    "2. Столбец user_id имеет не уникальные идентификаторы пользователя.\n",
    "3. Тип данных в столбце date нужно привести к специальному временному типу данных для датафрейма."
   ]
  },
  {
   "cell_type": "markdown",
   "id": "e5bddb73",
   "metadata": {},
   "source": [
    "### Откроем файл subscriptions_go.csv и изучим его."
   ]
  },
  {
   "cell_type": "code",
   "execution_count": 7,
   "id": "e88e2f18",
   "metadata": {},
   "outputs": [
    {
     "data": {
      "text/html": [
       "<div>\n",
       "<style scoped>\n",
       "    .dataframe tbody tr th:only-of-type {\n",
       "        vertical-align: middle;\n",
       "    }\n",
       "\n",
       "    .dataframe tbody tr th {\n",
       "        vertical-align: top;\n",
       "    }\n",
       "\n",
       "    .dataframe thead th {\n",
       "        text-align: right;\n",
       "    }\n",
       "</style>\n",
       "<table border=\"1\" class=\"dataframe\">\n",
       "  <thead>\n",
       "    <tr style=\"text-align: right;\">\n",
       "      <th></th>\n",
       "      <th>subscription_type</th>\n",
       "      <th>minute_price</th>\n",
       "      <th>start_ride_price</th>\n",
       "      <th>subscription_fee</th>\n",
       "    </tr>\n",
       "  </thead>\n",
       "  <tbody>\n",
       "    <tr>\n",
       "      <th>0</th>\n",
       "      <td>free</td>\n",
       "      <td>8</td>\n",
       "      <td>50</td>\n",
       "      <td>0</td>\n",
       "    </tr>\n",
       "    <tr>\n",
       "      <th>1</th>\n",
       "      <td>ultra</td>\n",
       "      <td>6</td>\n",
       "      <td>0</td>\n",
       "      <td>199</td>\n",
       "    </tr>\n",
       "  </tbody>\n",
       "</table>\n",
       "</div>"
      ],
      "text/plain": [
       "  subscription_type  minute_price  start_ride_price  subscription_fee\n",
       "0              free             8                50                 0\n",
       "1             ultra             6                 0               199"
      ]
     },
     "metadata": {},
     "output_type": "display_data"
    }
   ],
   "source": [
    "data_subscriptions = pd.read_csv('/datasets/subscriptions_go.csv')\n",
    "\n",
    "display(data_subscriptions.head(10))"
   ]
  },
  {
   "cell_type": "markdown",
   "id": "9478c616",
   "metadata": {},
   "source": [
    "**Вывод общей информации о датафрейме.**"
   ]
  },
  {
   "cell_type": "code",
   "execution_count": 8,
   "id": "0d6f3541",
   "metadata": {},
   "outputs": [
    {
     "name": "stdout",
     "output_type": "stream",
     "text": [
      "<class 'pandas.core.frame.DataFrame'>\n",
      "RangeIndex: 2 entries, 0 to 1\n",
      "Data columns (total 4 columns):\n",
      " #   Column             Non-Null Count  Dtype \n",
      "---  ------             --------------  ----- \n",
      " 0   subscription_type  2 non-null      object\n",
      " 1   minute_price       2 non-null      int64 \n",
      " 2   start_ride_price   2 non-null      int64 \n",
      " 3   subscription_fee   2 non-null      int64 \n",
      "dtypes: int64(3), object(1)\n",
      "memory usage: 192.0+ bytes\n",
      "None\n"
     ]
    }
   ],
   "source": [
    "print(data_subscriptions.info())"
   ]
  },
  {
   "cell_type": "markdown",
   "id": "d4df1fc7",
   "metadata": {},
   "source": [
    "**Признаки:**\n",
    "* subscription_type\t- тип подписки\n",
    "* minute_price\t- стоимость одной минуты поездки по данной подписке\n",
    "* start_ride_price\t- стоимость начала поездки\n",
    "* subscription_fee\t- стоимость ежемесячного платежа"
   ]
  },
  {
   "cell_type": "markdown",
   "id": "ad6e40dc",
   "metadata": {},
   "source": [
    "**По изученным данным можно сделать вывод, что в датафрейме нет пропусков, типы данных для столбцов корректны.**"
   ]
  },
  {
   "cell_type": "markdown",
   "id": "c25e4ed6",
   "metadata": {},
   "source": [
    "### Промежуточный вывод по загрузке данных\n",
    "<br> Есть столбец в котором нужно исправить тип данных, также возможно присутствуют дубликаты. Во остальном, данные корректны."
   ]
  },
  {
   "cell_type": "markdown",
   "id": "c994c8ee",
   "metadata": {},
   "source": [
    "## Предобработка данных"
   ]
  },
  {
   "cell_type": "markdown",
   "id": "3e9b28d0",
   "metadata": {},
   "source": [
    "### Приведём столбцы к нужным типам данных"
   ]
  },
  {
   "cell_type": "code",
   "execution_count": 9,
   "id": "408c5b72",
   "metadata": {},
   "outputs": [
    {
     "name": "stdout",
     "output_type": "stream",
     "text": [
      "<class 'pandas.core.frame.DataFrame'>\n",
      "RangeIndex: 18068 entries, 0 to 18067\n",
      "Data columns (total 4 columns):\n",
      " #   Column    Non-Null Count  Dtype         \n",
      "---  ------    --------------  -----         \n",
      " 0   user_id   18068 non-null  int64         \n",
      " 1   distance  18068 non-null  float64       \n",
      " 2   duration  18068 non-null  float64       \n",
      " 3   date      18068 non-null  datetime64[ns]\n",
      "dtypes: datetime64[ns](1), float64(2), int64(1)\n",
      "memory usage: 564.8 KB\n",
      "None\n"
     ]
    }
   ],
   "source": [
    "# Приведём столбец date в датафрейме с информацией о поездках к типу данных datetime\n",
    "data_rides['date'] = pd.to_datetime(data_rides['date'], format = '%Y-%m-%d')\n",
    "\n",
    "print(data_rides.info())"
   ]
  },
  {
   "cell_type": "markdown",
   "id": "90b8b1b2",
   "metadata": {},
   "source": [
    "### Добавим столбец с номером месяца"
   ]
  },
  {
   "cell_type": "code",
   "execution_count": 10,
   "id": "abaebcb6",
   "metadata": {},
   "outputs": [
    {
     "data": {
      "text/html": [
       "<div>\n",
       "<style scoped>\n",
       "    .dataframe tbody tr th:only-of-type {\n",
       "        vertical-align: middle;\n",
       "    }\n",
       "\n",
       "    .dataframe tbody tr th {\n",
       "        vertical-align: top;\n",
       "    }\n",
       "\n",
       "    .dataframe thead th {\n",
       "        text-align: right;\n",
       "    }\n",
       "</style>\n",
       "<table border=\"1\" class=\"dataframe\">\n",
       "  <thead>\n",
       "    <tr style=\"text-align: right;\">\n",
       "      <th></th>\n",
       "      <th>user_id</th>\n",
       "      <th>distance</th>\n",
       "      <th>duration</th>\n",
       "      <th>date</th>\n",
       "      <th>month</th>\n",
       "    </tr>\n",
       "  </thead>\n",
       "  <tbody>\n",
       "    <tr>\n",
       "      <th>0</th>\n",
       "      <td>1</td>\n",
       "      <td>4409.919140</td>\n",
       "      <td>25.599769</td>\n",
       "      <td>2021-01-01</td>\n",
       "      <td>1</td>\n",
       "    </tr>\n",
       "    <tr>\n",
       "      <th>1</th>\n",
       "      <td>1</td>\n",
       "      <td>2617.592153</td>\n",
       "      <td>15.816871</td>\n",
       "      <td>2021-01-18</td>\n",
       "      <td>1</td>\n",
       "    </tr>\n",
       "    <tr>\n",
       "      <th>2</th>\n",
       "      <td>1</td>\n",
       "      <td>754.159807</td>\n",
       "      <td>6.232113</td>\n",
       "      <td>2021-04-20</td>\n",
       "      <td>4</td>\n",
       "    </tr>\n",
       "    <tr>\n",
       "      <th>3</th>\n",
       "      <td>1</td>\n",
       "      <td>2694.783254</td>\n",
       "      <td>18.511000</td>\n",
       "      <td>2021-08-11</td>\n",
       "      <td>8</td>\n",
       "    </tr>\n",
       "    <tr>\n",
       "      <th>4</th>\n",
       "      <td>1</td>\n",
       "      <td>4028.687306</td>\n",
       "      <td>26.265803</td>\n",
       "      <td>2021-08-28</td>\n",
       "      <td>8</td>\n",
       "    </tr>\n",
       "  </tbody>\n",
       "</table>\n",
       "</div>"
      ],
      "text/plain": [
       "   user_id     distance   duration       date  month\n",
       "0        1  4409.919140  25.599769 2021-01-01      1\n",
       "1        1  2617.592153  15.816871 2021-01-18      1\n",
       "2        1   754.159807   6.232113 2021-04-20      4\n",
       "3        1  2694.783254  18.511000 2021-08-11      8\n",
       "4        1  4028.687306  26.265803 2021-08-28      8"
      ]
     },
     "metadata": {},
     "output_type": "display_data"
    }
   ],
   "source": [
    "data_rides['month'] = data_rides['date'].dt.month\n",
    "\n",
    "display(data_rides.head())"
   ]
  },
  {
   "cell_type": "markdown",
   "id": "4e3a1eb4",
   "metadata": {},
   "source": [
    "### Обработаем дубликаты"
   ]
  },
  {
   "cell_type": "markdown",
   "id": "fa679189",
   "metadata": {},
   "source": [
    "**Избавимся от явных дубликатов в датафрейме с информацией о пользователях**"
   ]
  },
  {
   "cell_type": "code",
   "execution_count": 11,
   "id": "bfa90a77",
   "metadata": {},
   "outputs": [
    {
     "name": "stdout",
     "output_type": "stream",
     "text": [
      "31\n"
     ]
    }
   ],
   "source": [
    "print(data_users.duplicated().sum())"
   ]
  },
  {
   "cell_type": "code",
   "execution_count": 12,
   "id": "3c21c80f",
   "metadata": {},
   "outputs": [],
   "source": [
    "data_users.drop_duplicates(inplace = True)"
   ]
  },
  {
   "cell_type": "code",
   "execution_count": 13,
   "id": "7297663a",
   "metadata": {},
   "outputs": [
    {
     "name": "stdout",
     "output_type": "stream",
     "text": [
      "0\n"
     ]
    }
   ],
   "source": [
    "print(data_users.duplicated().sum()) # вывод количества дубликатов после удаления"
   ]
  },
  {
   "cell_type": "markdown",
   "id": "b54a91e1",
   "metadata": {},
   "source": [
    "**Избавимся от явных дубликатов в датафрейме с информацией о поездках**"
   ]
  },
  {
   "cell_type": "code",
   "execution_count": 14,
   "id": "c13beba9",
   "metadata": {},
   "outputs": [
    {
     "name": "stdout",
     "output_type": "stream",
     "text": [
      "0\n"
     ]
    }
   ],
   "source": [
    "print(data_rides.duplicated().sum())"
   ]
  },
  {
   "cell_type": "markdown",
   "id": "c39cd17e",
   "metadata": {},
   "source": [
    "Явные дубликаты в датафрейме с информацией о поездках отсутствуют"
   ]
  },
  {
   "cell_type": "markdown",
   "id": "46861552",
   "metadata": {},
   "source": [
    "### Промежуточный вывод по предобработке данных\n",
    "<br> На данном этапе были подкорректированы типы данных столбцов, удалены дубликаты. Также был добавлен новый столбец с номером месяца."
   ]
  },
  {
   "cell_type": "markdown",
   "id": "e6f68f6d",
   "metadata": {},
   "source": [
    "## Исследовательский анализ данных"
   ]
  },
  {
   "cell_type": "markdown",
   "id": "786e25c8",
   "metadata": {},
   "source": [
    "### Оценим частоту встречаемости городов"
   ]
  },
  {
   "cell_type": "code",
   "execution_count": 15,
   "id": "2fc2b404",
   "metadata": {},
   "outputs": [
    {
     "name": "stdout",
     "output_type": "stream",
     "text": [
      "Пятигорск         219\n",
      "Екатеринбург      204\n",
      "Ростов-на-Дону    198\n",
      "Краснодар         193\n",
      "Сочи              189\n",
      "Омск              183\n",
      "Тюмень            180\n",
      "Москва            168\n",
      "Name: city, dtype: int64\n"
     ]
    }
   ],
   "source": [
    "count_users = data_users['city'].value_counts()\n",
    "\n",
    "print(count_users)"
   ]
  },
  {
   "cell_type": "markdown",
   "id": "8a0bd72f",
   "metadata": {},
   "source": [
    "Больше всего пользователей из Пятигорска, меньше всего в Москве (вероятнее всего из-за существования большого количества альтернативных сервисов)."
   ]
  },
  {
   "cell_type": "markdown",
   "id": "bec5fd8c",
   "metadata": {},
   "source": [
    "***Визуализация информации о частоте встречаемости городов в процентом соотношении***"
   ]
  },
  {
   "cell_type": "code",
   "execution_count": 16,
   "id": "ed91878a",
   "metadata": {},
   "outputs": [
    {
     "data": {
      "image/png": "[encoded data removed]",
      "text/plain": [
       "<Figure size 576x576 with 1 Axes>"
      ]
     },
     "metadata": {
      "needs_background": "light"
     },
     "output_type": "display_data"
    }
   ],
   "source": [
    "count_users['rate'] = round(data_users['city'].value_counts() / \n",
    "                                    count_users.sum(), 2) * 100\n",
    "\n",
    "count_users['rate'].sort_values(ascending = False).plot(kind = 'bar', \n",
    "                         figsize = (8,8),\n",
    "                         title = 'Распределение пользователей',\n",
    "                         ylabel = 'Количество пользователей в процентах');"
   ]
  },
  {
   "cell_type": "markdown",
   "id": "330b45f8",
   "metadata": {},
   "source": [
    "### Оценим соотношение пользователей с подпиской и без подписки"
   ]
  },
  {
   "cell_type": "code",
   "execution_count": 17,
   "id": "a2a713c1",
   "metadata": {},
   "outputs": [
    {
     "name": "stdout",
     "output_type": "stream",
     "text": [
      "free     835\n",
      "ultra    699\n",
      "Name: subscription_type, dtype: int64\n"
     ]
    }
   ],
   "source": [
    "count_subscription = data_users['subscription_type'].value_counts()\n",
    "\n",
    "print(count_subscription)"
   ]
  },
  {
   "cell_type": "markdown",
   "id": "1b086ad7",
   "metadata": {},
   "source": [
    "Количество пользователей без подписки превосходит количество пользователей обладающих ею. "
   ]
  },
  {
   "cell_type": "markdown",
   "id": "9b5b7307",
   "metadata": {},
   "source": [
    "***Визуализация соотношения пользователей с подпиской и без подписки***"
   ]
  },
  {
   "cell_type": "code",
   "execution_count": 18,
   "id": "efa47b96",
   "metadata": {},
   "outputs": [
    {
     "data": {
      "image/png": "[encoded data removed]",
      "text/plain": [
       "<Figure size 576x576 with 1 Axes>"
      ]
     },
     "metadata": {},
     "output_type": "display_data"
    }
   ],
   "source": [
    "count_subscription.plot(kind = 'pie',\n",
    "                        autopct = '%1.0f%%',\n",
    "                        figsize = (8,8),\n",
    "                        title = 'Соотношение пользователей с подпиской и без неё',\n",
    "                        ylabel = '');"
   ]
  },
  {
   "cell_type": "markdown",
   "id": "0ba2b37b",
   "metadata": {},
   "source": [
    "### Оценим возраст пользователей"
   ]
  },
  {
   "cell_type": "code",
   "execution_count": 19,
   "id": "288395d6",
   "metadata": {},
   "outputs": [
    {
     "data": {
      "text/plain": [
       "count    1534.000000\n",
       "mean       24.903520\n",
       "std         4.572367\n",
       "min        12.000000\n",
       "25%        22.000000\n",
       "50%        25.000000\n",
       "75%        28.000000\n",
       "max        43.000000\n",
       "Name: age, dtype: float64"
      ]
     },
     "metadata": {},
     "output_type": "display_data"
    }
   ],
   "source": [
    "display(data_users['age'].describe())"
   ]
  },
  {
   "cell_type": "markdown",
   "id": "d424b79c",
   "metadata": {},
   "source": [
    "Можем заметить, что основная часть пользователей - люди до 28 лет. "
   ]
  },
  {
   "cell_type": "markdown",
   "id": "ca118fb5",
   "metadata": {},
   "source": [
    "***Визуализация данных связанных с возрастом пользователей***"
   ]
  },
  {
   "cell_type": "code",
   "execution_count": 20,
   "id": "39508ec9",
   "metadata": {},
   "outputs": [
    {
     "data": {
      "image/png": "[encoded data removed]",
      "text/plain": [
       "<Figure size 720x432 with 1 Axes>"
      ]
     },
     "metadata": {
      "needs_background": "light"
     },
     "output_type": "display_data"
    }
   ],
   "source": [
    "data_users['age'].plot(kind = 'hist', \n",
    "                       grid = 'True',\n",
    "                       figsize = (10, 6),\n",
    "                       edgecolor=\"black\",\n",
    "                       linewidth=2,\n",
    "                       title = 'Возраст пользователей');\n",
    "plt.xlabel('Возраст');\n",
    "plt.ylabel('Количество пользователей');"
   ]
  },
  {
   "cell_type": "markdown",
   "id": "965e6a78",
   "metadata": {},
   "source": [
    "### Оценим  расстояние, которое пользователь преодолел за одну поездку"
   ]
  },
  {
   "cell_type": "code",
   "execution_count": 39,
   "id": "773a5bcb",
   "metadata": {},
   "outputs": [
    {
     "data": {
      "text/plain": [
       "count    18068.000000\n",
       "mean      3070.659976\n",
       "std       1116.831209\n",
       "min          0.855683\n",
       "25%       2543.226360\n",
       "50%       3133.609994\n",
       "75%       3776.222735\n",
       "max       7211.007745\n",
       "Name: distance, dtype: float64"
      ]
     },
     "metadata": {},
     "output_type": "display_data"
    }
   ],
   "source": [
    "display(data_rides['distance'].describe())"
   ]
  },
  {
   "cell_type": "markdown",
   "id": "c7161680",
   "metadata": {},
   "source": [
    "Можем заметить, что наименьшая пройденная дистанция меньше 1 метра (вероятнее всего пользователь сразу же отменил аренду, либо произошёл технический сбой). Максимальная дистанция равна 7 км. Среднее растояние, которое проходят пользователи за 1 поездку равно 3 км."
   ]
  },
  {
   "cell_type": "markdown",
   "id": "0e72bd1a",
   "metadata": {},
   "source": [
    "***Визуализация данных связанных с расстоянием, которое пользователь преодолел за одну поездку***"
   ]
  },
  {
   "cell_type": "code",
   "execution_count": 22,
   "id": "a02befcc",
   "metadata": {},
   "outputs": [
    {
     "data": {
      "image/png": "[encoded data removed]",
      "text/plain": [
       "<Figure size 720x432 with 1 Axes>"
      ]
     },
     "metadata": {
      "needs_background": "light"
     },
     "output_type": "display_data"
    }
   ],
   "source": [
    "data_rides['distance'].plot(kind = 'hist', \n",
    "                       grid = 'True',\n",
    "                       figsize = (10, 6),\n",
    "                       edgecolor=\"black\",\n",
    "                       linewidth=2,\n",
    "                       title = 'Расстояние, пройденное за 1 поездку',\n",
    "                       bins = 50);\n",
    "plt.xlabel('Расстояние в м');\n",
    "plt.ylabel('Количество пользователей');"
   ]
  },
  {
   "cell_type": "markdown",
   "id": "ef5cff7e",
   "metadata": {},
   "source": [
    "### Оценим  продолжительность поездок"
   ]
  },
  {
   "cell_type": "code",
   "execution_count": 40,
   "id": "73553339",
   "metadata": {},
   "outputs": [
    {
     "data": {
      "text/plain": [
       "count    18068.000000\n",
       "mean        17.805011\n",
       "std          6.091051\n",
       "min          0.500000\n",
       "25%         13.597563\n",
       "50%         17.678395\n",
       "75%         21.724800\n",
       "max         40.823963\n",
       "Name: duration, dtype: float64"
      ]
     },
     "metadata": {},
     "output_type": "display_data"
    }
   ],
   "source": [
    "display(data_rides['duration'].describe())"
   ]
  },
  {
   "cell_type": "markdown",
   "id": "d9696325",
   "metadata": {},
   "source": [
    "Минимальное время поездки равно 30 секунд (вероятнее всего самокат сняли сразу с аренды по какой-то причине). Максимальное время поездки равно 40 минутам. В основном, поездки длятся 17 минут."
   ]
  },
  {
   "cell_type": "markdown",
   "id": "a8fc2a54",
   "metadata": {},
   "source": [
    "***Визуализация данных связанных с продолжительностью поездок***"
   ]
  },
  {
   "cell_type": "code",
   "execution_count": 24,
   "id": "d3dbbda0",
   "metadata": {},
   "outputs": [
    {
     "data": {
      "image/png": "[encoded data removed]",
      "text/plain": [
       "<Figure size 720x432 with 1 Axes>"
      ]
     },
     "metadata": {
      "needs_background": "light"
     },
     "output_type": "display_data"
    }
   ],
   "source": [
    "data_rides['duration'].plot(kind = 'hist', \n",
    "                       grid = 'True',\n",
    "                       figsize = (10, 6),\n",
    "                       edgecolor=\"black\",\n",
    "                       linewidth=2,\n",
    "                       title = 'Продолжительность поездок',\n",
    "                       bins = 50);\n",
    "plt.xlabel('Время в минутах');\n",
    "plt.ylabel('Количество пользователей');"
   ]
  },
  {
   "cell_type": "markdown",
   "id": "41d99ac0",
   "metadata": {},
   "source": [
    "### Промежуточный вывод по исследовательскому анализу данных\n",
    "1. Частота встречаемости городов. \n",
    "<br> Примерно одинаковое количество пользователей из разных городов, но разница всё же есть. **Больше всего людей пользуются в г. Пятигорск, меньше всего в г. Москва**. Пятигорск не очень большой город и вероятнее всего здесь передвигаться удобнее на самокате. Что касается Москвы, пользователей наименьшее количество из-за огромной вариации разных сервисов. \n",
    "2. Cоотношение пользователей с подпиской и без подписки.\n",
    "<br> Пользователей без подписки больше, чем пользователей с подпиской, но разница не огромная.\n",
    "* **Пользователи без подписки (тариф free) - 54 %**\n",
    "* **Пользователи с подпиской (тариф ultra) - 46 %**\n",
    "3. Возраст пользователей.\n",
    "<br> Основная часть пользователей находятся в диапазоне **от 22 до 28 лет.** Наименьший возраст составляет 12 лет, наибольший 43 года.\n",
    "4. Расстояние, которое пользователь преодолел за одну поездку.\n",
    "<br> В основном пользователи проезжают **от 2 до 4.5 км.** Наименьшая дистанция равна 0.85 м, наибольшая 7,2 км.\n",
    "5. Продолжительность поездок.\n",
    "<br> В основном длительность поездки состовляет **от 10 до 25 минут.** Самая короткая поездка длилась полминуты (возможен технический сбой или клиент сразу сбросил аренду), самая длинная поездка 40 минут."
   ]
  },
  {
   "cell_type": "markdown",
   "id": "f69ae32b",
   "metadata": {},
   "source": [
    "## Объединение данных"
   ]
  },
  {
   "cell_type": "markdown",
   "id": "81706315",
   "metadata": {},
   "source": [
    "### Объединим данные о пользователях, поездках и подписках в один датафрейм"
   ]
  },
  {
   "cell_type": "code",
   "execution_count": 25,
   "id": "212b71fc",
   "metadata": {},
   "outputs": [
    {
     "data": {
      "text/html": [
       "<div>\n",
       "<style scoped>\n",
       "    .dataframe tbody tr th:only-of-type {\n",
       "        vertical-align: middle;\n",
       "    }\n",
       "\n",
       "    .dataframe tbody tr th {\n",
       "        vertical-align: top;\n",
       "    }\n",
       "\n",
       "    .dataframe thead th {\n",
       "        text-align: right;\n",
       "    }\n",
       "</style>\n",
       "<table border=\"1\" class=\"dataframe\">\n",
       "  <thead>\n",
       "    <tr style=\"text-align: right;\">\n",
       "      <th></th>\n",
       "      <th>user_id</th>\n",
       "      <th>name</th>\n",
       "      <th>age</th>\n",
       "      <th>city</th>\n",
       "      <th>subscription_type</th>\n",
       "      <th>distance</th>\n",
       "      <th>duration</th>\n",
       "      <th>date</th>\n",
       "      <th>month</th>\n",
       "      <th>minute_price</th>\n",
       "      <th>start_ride_price</th>\n",
       "      <th>subscription_fee</th>\n",
       "    </tr>\n",
       "  </thead>\n",
       "  <tbody>\n",
       "    <tr>\n",
       "      <th>0</th>\n",
       "      <td>1</td>\n",
       "      <td>Кира</td>\n",
       "      <td>22</td>\n",
       "      <td>Тюмень</td>\n",
       "      <td>ultra</td>\n",
       "      <td>4409.919140</td>\n",
       "      <td>25.599769</td>\n",
       "      <td>2021-01-01</td>\n",
       "      <td>1</td>\n",
       "      <td>6</td>\n",
       "      <td>0</td>\n",
       "      <td>199</td>\n",
       "    </tr>\n",
       "    <tr>\n",
       "      <th>1</th>\n",
       "      <td>1</td>\n",
       "      <td>Кира</td>\n",
       "      <td>22</td>\n",
       "      <td>Тюмень</td>\n",
       "      <td>ultra</td>\n",
       "      <td>2617.592153</td>\n",
       "      <td>15.816871</td>\n",
       "      <td>2021-01-18</td>\n",
       "      <td>1</td>\n",
       "      <td>6</td>\n",
       "      <td>0</td>\n",
       "      <td>199</td>\n",
       "    </tr>\n",
       "    <tr>\n",
       "      <th>2</th>\n",
       "      <td>1</td>\n",
       "      <td>Кира</td>\n",
       "      <td>22</td>\n",
       "      <td>Тюмень</td>\n",
       "      <td>ultra</td>\n",
       "      <td>754.159807</td>\n",
       "      <td>6.232113</td>\n",
       "      <td>2021-04-20</td>\n",
       "      <td>4</td>\n",
       "      <td>6</td>\n",
       "      <td>0</td>\n",
       "      <td>199</td>\n",
       "    </tr>\n",
       "    <tr>\n",
       "      <th>3</th>\n",
       "      <td>1</td>\n",
       "      <td>Кира</td>\n",
       "      <td>22</td>\n",
       "      <td>Тюмень</td>\n",
       "      <td>ultra</td>\n",
       "      <td>2694.783254</td>\n",
       "      <td>18.511000</td>\n",
       "      <td>2021-08-11</td>\n",
       "      <td>8</td>\n",
       "      <td>6</td>\n",
       "      <td>0</td>\n",
       "      <td>199</td>\n",
       "    </tr>\n",
       "    <tr>\n",
       "      <th>4</th>\n",
       "      <td>1</td>\n",
       "      <td>Кира</td>\n",
       "      <td>22</td>\n",
       "      <td>Тюмень</td>\n",
       "      <td>ultra</td>\n",
       "      <td>4028.687306</td>\n",
       "      <td>26.265803</td>\n",
       "      <td>2021-08-28</td>\n",
       "      <td>8</td>\n",
       "      <td>6</td>\n",
       "      <td>0</td>\n",
       "      <td>199</td>\n",
       "    </tr>\n",
       "    <tr>\n",
       "      <th>...</th>\n",
       "      <td>...</td>\n",
       "      <td>...</td>\n",
       "      <td>...</td>\n",
       "      <td>...</td>\n",
       "      <td>...</td>\n",
       "      <td>...</td>\n",
       "      <td>...</td>\n",
       "      <td>...</td>\n",
       "      <td>...</td>\n",
       "      <td>...</td>\n",
       "      <td>...</td>\n",
       "      <td>...</td>\n",
       "    </tr>\n",
       "    <tr>\n",
       "      <th>18063</th>\n",
       "      <td>1534</td>\n",
       "      <td>Альберт</td>\n",
       "      <td>25</td>\n",
       "      <td>Краснодар</td>\n",
       "      <td>free</td>\n",
       "      <td>3781.098080</td>\n",
       "      <td>19.822962</td>\n",
       "      <td>2021-11-04</td>\n",
       "      <td>11</td>\n",
       "      <td>8</td>\n",
       "      <td>50</td>\n",
       "      <td>0</td>\n",
       "    </tr>\n",
       "    <tr>\n",
       "      <th>18064</th>\n",
       "      <td>1534</td>\n",
       "      <td>Альберт</td>\n",
       "      <td>25</td>\n",
       "      <td>Краснодар</td>\n",
       "      <td>free</td>\n",
       "      <td>2840.423057</td>\n",
       "      <td>21.409799</td>\n",
       "      <td>2021-11-16</td>\n",
       "      <td>11</td>\n",
       "      <td>8</td>\n",
       "      <td>50</td>\n",
       "      <td>0</td>\n",
       "    </tr>\n",
       "    <tr>\n",
       "      <th>18065</th>\n",
       "      <td>1534</td>\n",
       "      <td>Альберт</td>\n",
       "      <td>25</td>\n",
       "      <td>Краснодар</td>\n",
       "      <td>free</td>\n",
       "      <td>3826.185507</td>\n",
       "      <td>18.435051</td>\n",
       "      <td>2021-11-18</td>\n",
       "      <td>11</td>\n",
       "      <td>8</td>\n",
       "      <td>50</td>\n",
       "      <td>0</td>\n",
       "    </tr>\n",
       "    <tr>\n",
       "      <th>18066</th>\n",
       "      <td>1534</td>\n",
       "      <td>Альберт</td>\n",
       "      <td>25</td>\n",
       "      <td>Краснодар</td>\n",
       "      <td>free</td>\n",
       "      <td>2902.308661</td>\n",
       "      <td>16.674362</td>\n",
       "      <td>2021-11-27</td>\n",
       "      <td>11</td>\n",
       "      <td>8</td>\n",
       "      <td>50</td>\n",
       "      <td>0</td>\n",
       "    </tr>\n",
       "    <tr>\n",
       "      <th>18067</th>\n",
       "      <td>1534</td>\n",
       "      <td>Альберт</td>\n",
       "      <td>25</td>\n",
       "      <td>Краснодар</td>\n",
       "      <td>free</td>\n",
       "      <td>2371.711192</td>\n",
       "      <td>15.893917</td>\n",
       "      <td>2021-12-29</td>\n",
       "      <td>12</td>\n",
       "      <td>8</td>\n",
       "      <td>50</td>\n",
       "      <td>0</td>\n",
       "    </tr>\n",
       "  </tbody>\n",
       "</table>\n",
       "<p>18068 rows × 12 columns</p>\n",
       "</div>"
      ],
      "text/plain": [
       "       user_id     name  age       city subscription_type     distance  \\\n",
       "0            1     Кира   22     Тюмень             ultra  4409.919140   \n",
       "1            1     Кира   22     Тюмень             ultra  2617.592153   \n",
       "2            1     Кира   22     Тюмень             ultra   754.159807   \n",
       "3            1     Кира   22     Тюмень             ultra  2694.783254   \n",
       "4            1     Кира   22     Тюмень             ultra  4028.687306   \n",
       "...        ...      ...  ...        ...               ...          ...   \n",
       "18063     1534  Альберт   25  Краснодар              free  3781.098080   \n",
       "18064     1534  Альберт   25  Краснодар              free  2840.423057   \n",
       "18065     1534  Альберт   25  Краснодар              free  3826.185507   \n",
       "18066     1534  Альберт   25  Краснодар              free  2902.308661   \n",
       "18067     1534  Альберт   25  Краснодар              free  2371.711192   \n",
       "\n",
       "        duration       date  month  minute_price  start_ride_price  \\\n",
       "0      25.599769 2021-01-01      1             6                 0   \n",
       "1      15.816871 2021-01-18      1             6                 0   \n",
       "2       6.232113 2021-04-20      4             6                 0   \n",
       "3      18.511000 2021-08-11      8             6                 0   \n",
       "4      26.265803 2021-08-28      8             6                 0   \n",
       "...          ...        ...    ...           ...               ...   \n",
       "18063  19.822962 2021-11-04     11             8                50   \n",
       "18064  21.409799 2021-11-16     11             8                50   \n",
       "18065  18.435051 2021-11-18     11             8                50   \n",
       "18066  16.674362 2021-11-27     11             8                50   \n",
       "18067  15.893917 2021-12-29     12             8                50   \n",
       "\n",
       "       subscription_fee  \n",
       "0                   199  \n",
       "1                   199  \n",
       "2                   199  \n",
       "3                   199  \n",
       "4                   199  \n",
       "...                 ...  \n",
       "18063                 0  \n",
       "18064                 0  \n",
       "18065                 0  \n",
       "18066                 0  \n",
       "18067                 0  \n",
       "\n",
       "[18068 rows x 12 columns]"
      ]
     },
     "metadata": {},
     "output_type": "display_data"
    }
   ],
   "source": [
    "data_all = data_users.merge(data_rides)\n",
    "\n",
    "data_all = data_all.merge(data_subscriptions)\n",
    "\n",
    "display(data_all)"
   ]
  },
  {
   "cell_type": "markdown",
   "id": "2f057d25",
   "metadata": {},
   "source": [
    "**Проверим количество строк полученной таблицы и сравним ее с количеством строк таблиц до объединения, чтобы убедиться что мы ничего не потеряли и не добавили лишнего.**"
   ]
  },
  {
   "cell_type": "code",
   "execution_count": 26,
   "id": "f57ff9e6",
   "metadata": {},
   "outputs": [
    {
     "name": "stdout",
     "output_type": "stream",
     "text": [
      "Количество строк таблицы с информацией о поездках = 18068\n",
      "Количество строк таблицы с информацией о пользователях = 1534\n",
      "Количество строк таблицы с информацией о подписках = 2\n",
      "Количество строк полученной таблицы = 18068\n"
     ]
    }
   ],
   "source": [
    "print('Количество строк таблицы с информацией о поездках =', data_rides.shape[0])\n",
    "print('Количество строк таблицы с информацией о пользователях =', data_users.shape[0])\n",
    "print('Количество строк таблицы с информацией о подписках =', data_subscriptions.shape[0])\n",
    "print('Количество строк полученной таблицы =', data_all.shape[0])"
   ]
  },
  {
   "cell_type": "markdown",
   "id": "5d26e413",
   "metadata": {},
   "source": [
    "**Можем заметить, что количество строк полученной таблицы равно количеству строк таблицы с информацией о поездках. Остальные таблицы имеют меньшее количество строк, следовательно можно сказать, что никаких новых строк добавлено не было и никаких старых строк не было потярено.**"
   ]
  },
  {
   "cell_type": "markdown",
   "id": "0c369e19",
   "metadata": {},
   "source": [
    "### Создадим датафрейм из датафрейма, созданного на этапе 4.1, c данными о пользователях без подписки."
   ]
  },
  {
   "cell_type": "code",
   "execution_count": 27,
   "id": "1182e04e",
   "metadata": {},
   "outputs": [
    {
     "data": {
      "text/html": [
       "<div>\n",
       "<style scoped>\n",
       "    .dataframe tbody tr th:only-of-type {\n",
       "        vertical-align: middle;\n",
       "    }\n",
       "\n",
       "    .dataframe tbody tr th {\n",
       "        vertical-align: top;\n",
       "    }\n",
       "\n",
       "    .dataframe thead th {\n",
       "        text-align: right;\n",
       "    }\n",
       "</style>\n",
       "<table border=\"1\" class=\"dataframe\">\n",
       "  <thead>\n",
       "    <tr style=\"text-align: right;\">\n",
       "      <th></th>\n",
       "      <th>user_id</th>\n",
       "      <th>name</th>\n",
       "      <th>age</th>\n",
       "      <th>city</th>\n",
       "      <th>subscription_type</th>\n",
       "      <th>distance</th>\n",
       "      <th>duration</th>\n",
       "      <th>date</th>\n",
       "      <th>month</th>\n",
       "      <th>minute_price</th>\n",
       "      <th>start_ride_price</th>\n",
       "      <th>subscription_fee</th>\n",
       "    </tr>\n",
       "  </thead>\n",
       "  <tbody>\n",
       "    <tr>\n",
       "      <th>6500</th>\n",
       "      <td>700</td>\n",
       "      <td>Айдар</td>\n",
       "      <td>22</td>\n",
       "      <td>Омск</td>\n",
       "      <td>free</td>\n",
       "      <td>2515.690719</td>\n",
       "      <td>14.944286</td>\n",
       "      <td>2021-01-02</td>\n",
       "      <td>1</td>\n",
       "      <td>8</td>\n",
       "      <td>50</td>\n",
       "      <td>0</td>\n",
       "    </tr>\n",
       "    <tr>\n",
       "      <th>6501</th>\n",
       "      <td>700</td>\n",
       "      <td>Айдар</td>\n",
       "      <td>22</td>\n",
       "      <td>Омск</td>\n",
       "      <td>free</td>\n",
       "      <td>846.932642</td>\n",
       "      <td>16.234663</td>\n",
       "      <td>2021-02-01</td>\n",
       "      <td>2</td>\n",
       "      <td>8</td>\n",
       "      <td>50</td>\n",
       "      <td>0</td>\n",
       "    </tr>\n",
       "    <tr>\n",
       "      <th>6502</th>\n",
       "      <td>700</td>\n",
       "      <td>Айдар</td>\n",
       "      <td>22</td>\n",
       "      <td>Омск</td>\n",
       "      <td>free</td>\n",
       "      <td>4004.434142</td>\n",
       "      <td>20.016628</td>\n",
       "      <td>2021-02-04</td>\n",
       "      <td>2</td>\n",
       "      <td>8</td>\n",
       "      <td>50</td>\n",
       "      <td>0</td>\n",
       "    </tr>\n",
       "    <tr>\n",
       "      <th>6503</th>\n",
       "      <td>700</td>\n",
       "      <td>Айдар</td>\n",
       "      <td>22</td>\n",
       "      <td>Омск</td>\n",
       "      <td>free</td>\n",
       "      <td>1205.911290</td>\n",
       "      <td>9.782872</td>\n",
       "      <td>2021-02-10</td>\n",
       "      <td>2</td>\n",
       "      <td>8</td>\n",
       "      <td>50</td>\n",
       "      <td>0</td>\n",
       "    </tr>\n",
       "    <tr>\n",
       "      <th>6504</th>\n",
       "      <td>700</td>\n",
       "      <td>Айдар</td>\n",
       "      <td>22</td>\n",
       "      <td>Омск</td>\n",
       "      <td>free</td>\n",
       "      <td>3047.379435</td>\n",
       "      <td>17.427673</td>\n",
       "      <td>2021-02-14</td>\n",
       "      <td>2</td>\n",
       "      <td>8</td>\n",
       "      <td>50</td>\n",
       "      <td>0</td>\n",
       "    </tr>\n",
       "    <tr>\n",
       "      <th>...</th>\n",
       "      <td>...</td>\n",
       "      <td>...</td>\n",
       "      <td>...</td>\n",
       "      <td>...</td>\n",
       "      <td>...</td>\n",
       "      <td>...</td>\n",
       "      <td>...</td>\n",
       "      <td>...</td>\n",
       "      <td>...</td>\n",
       "      <td>...</td>\n",
       "      <td>...</td>\n",
       "      <td>...</td>\n",
       "    </tr>\n",
       "    <tr>\n",
       "      <th>18063</th>\n",
       "      <td>1534</td>\n",
       "      <td>Альберт</td>\n",
       "      <td>25</td>\n",
       "      <td>Краснодар</td>\n",
       "      <td>free</td>\n",
       "      <td>3781.098080</td>\n",
       "      <td>19.822962</td>\n",
       "      <td>2021-11-04</td>\n",
       "      <td>11</td>\n",
       "      <td>8</td>\n",
       "      <td>50</td>\n",
       "      <td>0</td>\n",
       "    </tr>\n",
       "    <tr>\n",
       "      <th>18064</th>\n",
       "      <td>1534</td>\n",
       "      <td>Альберт</td>\n",
       "      <td>25</td>\n",
       "      <td>Краснодар</td>\n",
       "      <td>free</td>\n",
       "      <td>2840.423057</td>\n",
       "      <td>21.409799</td>\n",
       "      <td>2021-11-16</td>\n",
       "      <td>11</td>\n",
       "      <td>8</td>\n",
       "      <td>50</td>\n",
       "      <td>0</td>\n",
       "    </tr>\n",
       "    <tr>\n",
       "      <th>18065</th>\n",
       "      <td>1534</td>\n",
       "      <td>Альберт</td>\n",
       "      <td>25</td>\n",
       "      <td>Краснодар</td>\n",
       "      <td>free</td>\n",
       "      <td>3826.185507</td>\n",
       "      <td>18.435051</td>\n",
       "      <td>2021-11-18</td>\n",
       "      <td>11</td>\n",
       "      <td>8</td>\n",
       "      <td>50</td>\n",
       "      <td>0</td>\n",
       "    </tr>\n",
       "    <tr>\n",
       "      <th>18066</th>\n",
       "      <td>1534</td>\n",
       "      <td>Альберт</td>\n",
       "      <td>25</td>\n",
       "      <td>Краснодар</td>\n",
       "      <td>free</td>\n",
       "      <td>2902.308661</td>\n",
       "      <td>16.674362</td>\n",
       "      <td>2021-11-27</td>\n",
       "      <td>11</td>\n",
       "      <td>8</td>\n",
       "      <td>50</td>\n",
       "      <td>0</td>\n",
       "    </tr>\n",
       "    <tr>\n",
       "      <th>18067</th>\n",
       "      <td>1534</td>\n",
       "      <td>Альберт</td>\n",
       "      <td>25</td>\n",
       "      <td>Краснодар</td>\n",
       "      <td>free</td>\n",
       "      <td>2371.711192</td>\n",
       "      <td>15.893917</td>\n",
       "      <td>2021-12-29</td>\n",
       "      <td>12</td>\n",
       "      <td>8</td>\n",
       "      <td>50</td>\n",
       "      <td>0</td>\n",
       "    </tr>\n",
       "  </tbody>\n",
       "</table>\n",
       "<p>11568 rows × 12 columns</p>\n",
       "</div>"
      ],
      "text/plain": [
       "       user_id     name  age       city subscription_type     distance  \\\n",
       "6500       700    Айдар   22       Омск              free  2515.690719   \n",
       "6501       700    Айдар   22       Омск              free   846.932642   \n",
       "6502       700    Айдар   22       Омск              free  4004.434142   \n",
       "6503       700    Айдар   22       Омск              free  1205.911290   \n",
       "6504       700    Айдар   22       Омск              free  3047.379435   \n",
       "...        ...      ...  ...        ...               ...          ...   \n",
       "18063     1534  Альберт   25  Краснодар              free  3781.098080   \n",
       "18064     1534  Альберт   25  Краснодар              free  2840.423057   \n",
       "18065     1534  Альберт   25  Краснодар              free  3826.185507   \n",
       "18066     1534  Альберт   25  Краснодар              free  2902.308661   \n",
       "18067     1534  Альберт   25  Краснодар              free  2371.711192   \n",
       "\n",
       "        duration       date  month  minute_price  start_ride_price  \\\n",
       "6500   14.944286 2021-01-02      1             8                50   \n",
       "6501   16.234663 2021-02-01      2             8                50   \n",
       "6502   20.016628 2021-02-04      2             8                50   \n",
       "6503    9.782872 2021-02-10      2             8                50   \n",
       "6504   17.427673 2021-02-14      2             8                50   \n",
       "...          ...        ...    ...           ...               ...   \n",
       "18063  19.822962 2021-11-04     11             8                50   \n",
       "18064  21.409799 2021-11-16     11             8                50   \n",
       "18065  18.435051 2021-11-18     11             8                50   \n",
       "18066  16.674362 2021-11-27     11             8                50   \n",
       "18067  15.893917 2021-12-29     12             8                50   \n",
       "\n",
       "       subscription_fee  \n",
       "6500                  0  \n",
       "6501                  0  \n",
       "6502                  0  \n",
       "6503                  0  \n",
       "6504                  0  \n",
       "...                 ...  \n",
       "18063                 0  \n",
       "18064                 0  \n",
       "18065                 0  \n",
       "18066                 0  \n",
       "18067                 0  \n",
       "\n",
       "[11568 rows x 12 columns]"
      ]
     },
     "metadata": {},
     "output_type": "display_data"
    }
   ],
   "source": [
    "data_free_sub = data_all.query(\"`subscription_type` == 'free'\")\n",
    "\n",
    "display(data_free_sub)"
   ]
  },
  {
   "cell_type": "markdown",
   "id": "35d7abdf",
   "metadata": {},
   "source": [
    "**Визуализируем информацию о расстоянии и времени поездок для пользователей не имеющих подписки**"
   ]
  },
  {
   "cell_type": "code",
   "execution_count": 28,
   "id": "f2b373c5",
   "metadata": {},
   "outputs": [
    {
     "data": {
      "image/png": "[encoded data removed]",
      "text/plain": [
       "<Figure size 432x288 with 1 Axes>"
      ]
     },
     "metadata": {
      "needs_background": "light"
     },
     "output_type": "display_data"
    },
    {
     "data": {
      "text/plain": [
       "<Figure size 1440x1440 with 0 Axes>"
      ]
     },
     "metadata": {},
     "output_type": "display_data"
    },
    {
     "data": {
      "image/png": "[encoded data removed]",
      "text/plain": [
       "<Figure size 432x288 with 1 Axes>"
      ]
     },
     "metadata": {
      "needs_background": "light"
     },
     "output_type": "display_data"
    },
    {
     "data": {
      "text/plain": [
       "<Figure size 1440x1440 with 0 Axes>"
      ]
     },
     "metadata": {},
     "output_type": "display_data"
    }
   ],
   "source": [
    "plt.hist(data_free_sub['distance'], bins=45, edgecolor = 'black')\n",
    "plt.title('Расстояние, тариф free')\n",
    "plt.xlabel('Расстояние, м')\n",
    "plt.ylabel('Количество поездок')\n",
    "plt.figure(figsize=(20,20))\n",
    "plt.show()\n",
    "\n",
    "plt.hist(data_free_sub['duration'], bins=45, edgecolor = 'black')\n",
    "plt.title('Время, тариф free')\n",
    "plt.xlabel('Время поездки, минуты')\n",
    "plt.ylabel('Количество поездок')\n",
    "plt.figure(figsize=(20,20))\n",
    "plt.show()"
   ]
  },
  {
   "cell_type": "markdown",
   "id": "40840e60",
   "metadata": {},
   "source": [
    "### Создадим датафрейм из датафрейма, созданного на этапе 4.1, c данными о пользователях с подпиской."
   ]
  },
  {
   "cell_type": "code",
   "execution_count": 29,
   "id": "b161ab19",
   "metadata": {},
   "outputs": [
    {
     "data": {
      "text/html": [
       "<div>\n",
       "<style scoped>\n",
       "    .dataframe tbody tr th:only-of-type {\n",
       "        vertical-align: middle;\n",
       "    }\n",
       "\n",
       "    .dataframe tbody tr th {\n",
       "        vertical-align: top;\n",
       "    }\n",
       "\n",
       "    .dataframe thead th {\n",
       "        text-align: right;\n",
       "    }\n",
       "</style>\n",
       "<table border=\"1\" class=\"dataframe\">\n",
       "  <thead>\n",
       "    <tr style=\"text-align: right;\">\n",
       "      <th></th>\n",
       "      <th>user_id</th>\n",
       "      <th>name</th>\n",
       "      <th>age</th>\n",
       "      <th>city</th>\n",
       "      <th>subscription_type</th>\n",
       "      <th>distance</th>\n",
       "      <th>duration</th>\n",
       "      <th>date</th>\n",
       "      <th>month</th>\n",
       "      <th>minute_price</th>\n",
       "      <th>start_ride_price</th>\n",
       "      <th>subscription_fee</th>\n",
       "    </tr>\n",
       "  </thead>\n",
       "  <tbody>\n",
       "    <tr>\n",
       "      <th>0</th>\n",
       "      <td>1</td>\n",
       "      <td>Кира</td>\n",
       "      <td>22</td>\n",
       "      <td>Тюмень</td>\n",
       "      <td>ultra</td>\n",
       "      <td>4409.919140</td>\n",
       "      <td>25.599769</td>\n",
       "      <td>2021-01-01</td>\n",
       "      <td>1</td>\n",
       "      <td>6</td>\n",
       "      <td>0</td>\n",
       "      <td>199</td>\n",
       "    </tr>\n",
       "    <tr>\n",
       "      <th>1</th>\n",
       "      <td>1</td>\n",
       "      <td>Кира</td>\n",
       "      <td>22</td>\n",
       "      <td>Тюмень</td>\n",
       "      <td>ultra</td>\n",
       "      <td>2617.592153</td>\n",
       "      <td>15.816871</td>\n",
       "      <td>2021-01-18</td>\n",
       "      <td>1</td>\n",
       "      <td>6</td>\n",
       "      <td>0</td>\n",
       "      <td>199</td>\n",
       "    </tr>\n",
       "    <tr>\n",
       "      <th>2</th>\n",
       "      <td>1</td>\n",
       "      <td>Кира</td>\n",
       "      <td>22</td>\n",
       "      <td>Тюмень</td>\n",
       "      <td>ultra</td>\n",
       "      <td>754.159807</td>\n",
       "      <td>6.232113</td>\n",
       "      <td>2021-04-20</td>\n",
       "      <td>4</td>\n",
       "      <td>6</td>\n",
       "      <td>0</td>\n",
       "      <td>199</td>\n",
       "    </tr>\n",
       "    <tr>\n",
       "      <th>3</th>\n",
       "      <td>1</td>\n",
       "      <td>Кира</td>\n",
       "      <td>22</td>\n",
       "      <td>Тюмень</td>\n",
       "      <td>ultra</td>\n",
       "      <td>2694.783254</td>\n",
       "      <td>18.511000</td>\n",
       "      <td>2021-08-11</td>\n",
       "      <td>8</td>\n",
       "      <td>6</td>\n",
       "      <td>0</td>\n",
       "      <td>199</td>\n",
       "    </tr>\n",
       "    <tr>\n",
       "      <th>4</th>\n",
       "      <td>1</td>\n",
       "      <td>Кира</td>\n",
       "      <td>22</td>\n",
       "      <td>Тюмень</td>\n",
       "      <td>ultra</td>\n",
       "      <td>4028.687306</td>\n",
       "      <td>26.265803</td>\n",
       "      <td>2021-08-28</td>\n",
       "      <td>8</td>\n",
       "      <td>6</td>\n",
       "      <td>0</td>\n",
       "      <td>199</td>\n",
       "    </tr>\n",
       "    <tr>\n",
       "      <th>...</th>\n",
       "      <td>...</td>\n",
       "      <td>...</td>\n",
       "      <td>...</td>\n",
       "      <td>...</td>\n",
       "      <td>...</td>\n",
       "      <td>...</td>\n",
       "      <td>...</td>\n",
       "      <td>...</td>\n",
       "      <td>...</td>\n",
       "      <td>...</td>\n",
       "      <td>...</td>\n",
       "      <td>...</td>\n",
       "    </tr>\n",
       "    <tr>\n",
       "      <th>6495</th>\n",
       "      <td>699</td>\n",
       "      <td>Оксана</td>\n",
       "      <td>22</td>\n",
       "      <td>Москва</td>\n",
       "      <td>ultra</td>\n",
       "      <td>3973.046497</td>\n",
       "      <td>24.671163</td>\n",
       "      <td>2021-08-29</td>\n",
       "      <td>8</td>\n",
       "      <td>6</td>\n",
       "      <td>0</td>\n",
       "      <td>199</td>\n",
       "    </tr>\n",
       "    <tr>\n",
       "      <th>6496</th>\n",
       "      <td>699</td>\n",
       "      <td>Оксана</td>\n",
       "      <td>22</td>\n",
       "      <td>Москва</td>\n",
       "      <td>ultra</td>\n",
       "      <td>3288.702563</td>\n",
       "      <td>15.892886</td>\n",
       "      <td>2021-09-12</td>\n",
       "      <td>9</td>\n",
       "      <td>6</td>\n",
       "      <td>0</td>\n",
       "      <td>199</td>\n",
       "    </tr>\n",
       "    <tr>\n",
       "      <th>6497</th>\n",
       "      <td>699</td>\n",
       "      <td>Оксана</td>\n",
       "      <td>22</td>\n",
       "      <td>Москва</td>\n",
       "      <td>ultra</td>\n",
       "      <td>3076.159348</td>\n",
       "      <td>14.389525</td>\n",
       "      <td>2021-09-26</td>\n",
       "      <td>9</td>\n",
       "      <td>6</td>\n",
       "      <td>0</td>\n",
       "      <td>199</td>\n",
       "    </tr>\n",
       "    <tr>\n",
       "      <th>6498</th>\n",
       "      <td>699</td>\n",
       "      <td>Оксана</td>\n",
       "      <td>22</td>\n",
       "      <td>Москва</td>\n",
       "      <td>ultra</td>\n",
       "      <td>4707.845501</td>\n",
       "      <td>15.839579</td>\n",
       "      <td>2021-10-17</td>\n",
       "      <td>10</td>\n",
       "      <td>6</td>\n",
       "      <td>0</td>\n",
       "      <td>199</td>\n",
       "    </tr>\n",
       "    <tr>\n",
       "      <th>6499</th>\n",
       "      <td>699</td>\n",
       "      <td>Оксана</td>\n",
       "      <td>22</td>\n",
       "      <td>Москва</td>\n",
       "      <td>ultra</td>\n",
       "      <td>3202.890770</td>\n",
       "      <td>25.217345</td>\n",
       "      <td>2021-12-03</td>\n",
       "      <td>12</td>\n",
       "      <td>6</td>\n",
       "      <td>0</td>\n",
       "      <td>199</td>\n",
       "    </tr>\n",
       "  </tbody>\n",
       "</table>\n",
       "<p>6500 rows × 12 columns</p>\n",
       "</div>"
      ],
      "text/plain": [
       "      user_id    name  age    city subscription_type     distance   duration  \\\n",
       "0           1    Кира   22  Тюмень             ultra  4409.919140  25.599769   \n",
       "1           1    Кира   22  Тюмень             ultra  2617.592153  15.816871   \n",
       "2           1    Кира   22  Тюмень             ultra   754.159807   6.232113   \n",
       "3           1    Кира   22  Тюмень             ultra  2694.783254  18.511000   \n",
       "4           1    Кира   22  Тюмень             ultra  4028.687306  26.265803   \n",
       "...       ...     ...  ...     ...               ...          ...        ...   \n",
       "6495      699  Оксана   22  Москва             ultra  3973.046497  24.671163   \n",
       "6496      699  Оксана   22  Москва             ultra  3288.702563  15.892886   \n",
       "6497      699  Оксана   22  Москва             ultra  3076.159348  14.389525   \n",
       "6498      699  Оксана   22  Москва             ultra  4707.845501  15.839579   \n",
       "6499      699  Оксана   22  Москва             ultra  3202.890770  25.217345   \n",
       "\n",
       "           date  month  minute_price  start_ride_price  subscription_fee  \n",
       "0    2021-01-01      1             6                 0               199  \n",
       "1    2021-01-18      1             6                 0               199  \n",
       "2    2021-04-20      4             6                 0               199  \n",
       "3    2021-08-11      8             6                 0               199  \n",
       "4    2021-08-28      8             6                 0               199  \n",
       "...         ...    ...           ...               ...               ...  \n",
       "6495 2021-08-29      8             6                 0               199  \n",
       "6496 2021-09-12      9             6                 0               199  \n",
       "6497 2021-09-26      9             6                 0               199  \n",
       "6498 2021-10-17     10             6                 0               199  \n",
       "6499 2021-12-03     12             6                 0               199  \n",
       "\n",
       "[6500 rows x 12 columns]"
      ]
     },
     "metadata": {},
     "output_type": "display_data"
    }
   ],
   "source": [
    "data_ultra_sub = data_all.query(\"`subscription_type` == 'ultra'\")\n",
    "\n",
    "display(data_ultra_sub)"
   ]
  },
  {
   "cell_type": "markdown",
   "id": "66491c73",
   "metadata": {},
   "source": [
    "**Визуализируем информацию о расстоянии и времени поездок для пользователей обладающих подпиской**"
   ]
  },
  {
   "cell_type": "code",
   "execution_count": 30,
   "id": "eee09024",
   "metadata": {},
   "outputs": [
    {
     "data": {
      "image/png": "[encoded data removed]",
      "text/plain": [
       "<Figure size 432x288 with 1 Axes>"
      ]
     },
     "metadata": {
      "needs_background": "light"
     },
     "output_type": "display_data"
    },
    {
     "data": {
      "text/plain": [
       "<Figure size 1440x1440 with 0 Axes>"
      ]
     },
     "metadata": {},
     "output_type": "display_data"
    },
    {
     "data": {
      "image/png": "[encoded data removed]",
      "text/plain": [
       "<Figure size 432x288 with 1 Axes>"
      ]
     },
     "metadata": {
      "needs_background": "light"
     },
     "output_type": "display_data"
    },
    {
     "data": {
      "text/plain": [
       "<Figure size 1440x1440 with 0 Axes>"
      ]
     },
     "metadata": {},
     "output_type": "display_data"
    }
   ],
   "source": [
    "plt.hist(data_ultra_sub['distance'], bins=50, edgecolor = 'black')\n",
    "plt.title('Расстояние, тариф ultra')\n",
    "plt.xlabel('Расстояние, м')\n",
    "plt.ylabel('Количество поездок')\n",
    "plt.figure(figsize=(20,20))\n",
    "plt.show()\n",
    "\n",
    "plt.hist(data_ultra_sub['duration'], bins=50, edgecolor = 'black')\n",
    "plt.title('Время, тариф ultra')\n",
    "plt.xlabel('Время поездки, минуты')\n",
    "plt.ylabel('Количество поездок')\n",
    "plt.figure(figsize=(20,20))\n",
    "plt.show()"
   ]
  },
  {
   "cell_type": "markdown",
   "id": "160c5f75",
   "metadata": {},
   "source": [
    "### Промежуточный вывод по объединению данных\n",
    "<br> На этом этапе были созданы два дополнительных датафрейма и визуализированы некоторые данные по ним. \n",
    "* Для пользователей без подписки большую часть составляют поездки: **от 10 до 25 минут и от 2 до 4.8 км**\n",
    "* Для пользователей с подпиской большую часть составляют поездки: **от 12 до 22 минут и от 2,5 до 3.8 км**\n",
    "<br> Можно сделать вывод, что пользователи без подписки совершают более долгие поездки и на большем расстоянии, чем пользователи обладающих подпиской."
   ]
  },
  {
   "cell_type": "markdown",
   "id": "c27f6d59",
   "metadata": {},
   "source": [
    "## Подсчёт выручки"
   ]
  },
  {
   "cell_type": "markdown",
   "id": "c229c67a",
   "metadata": {},
   "source": [
    "### Найдём суммарное расстояние, количество поездок и суммарное время для каждого пользователя за каждый месяц."
   ]
  },
  {
   "cell_type": "code",
   "execution_count": 31,
   "id": "ca928941",
   "metadata": {},
   "outputs": [
    {
     "data": {
      "text/html": [
       "<div>\n",
       "<style scoped>\n",
       "    .dataframe tbody tr th:only-of-type {\n",
       "        vertical-align: middle;\n",
       "    }\n",
       "\n",
       "    .dataframe tbody tr th {\n",
       "        vertical-align: top;\n",
       "    }\n",
       "\n",
       "    .dataframe thead th {\n",
       "        text-align: right;\n",
       "    }\n",
       "</style>\n",
       "<table border=\"1\" class=\"dataframe\">\n",
       "  <thead>\n",
       "    <tr style=\"text-align: right;\">\n",
       "      <th></th>\n",
       "      <th></th>\n",
       "      <th>distance</th>\n",
       "      <th>duration</th>\n",
       "      <th>count_trips</th>\n",
       "      <th>subscription_type</th>\n",
       "    </tr>\n",
       "    <tr>\n",
       "      <th>month</th>\n",
       "      <th>user_id</th>\n",
       "      <th></th>\n",
       "      <th></th>\n",
       "      <th></th>\n",
       "      <th></th>\n",
       "    </tr>\n",
       "  </thead>\n",
       "  <tbody>\n",
       "    <tr>\n",
       "      <th rowspan=\"5\" valign=\"top\">12</th>\n",
       "      <th>1525</th>\n",
       "      <td>4597.854350</td>\n",
       "      <td>34.0</td>\n",
       "      <td>1</td>\n",
       "      <td>free</td>\n",
       "    </tr>\n",
       "    <tr>\n",
       "      <th>1526</th>\n",
       "      <td>3644.121544</td>\n",
       "      <td>23.0</td>\n",
       "      <td>1</td>\n",
       "      <td>free</td>\n",
       "    </tr>\n",
       "    <tr>\n",
       "      <th>1528</th>\n",
       "      <td>3998.569324</td>\n",
       "      <td>11.0</td>\n",
       "      <td>1</td>\n",
       "      <td>free</td>\n",
       "    </tr>\n",
       "    <tr>\n",
       "      <th>1532</th>\n",
       "      <td>6111.889853</td>\n",
       "      <td>42.0</td>\n",
       "      <td>2</td>\n",
       "      <td>free</td>\n",
       "    </tr>\n",
       "    <tr>\n",
       "      <th>1534</th>\n",
       "      <td>2371.711192</td>\n",
       "      <td>16.0</td>\n",
       "      <td>1</td>\n",
       "      <td>free</td>\n",
       "    </tr>\n",
       "  </tbody>\n",
       "</table>\n",
       "</div>"
      ],
      "text/plain": [
       "                  distance  duration  count_trips subscription_type\n",
       "month user_id                                                      \n",
       "12    1525     4597.854350      34.0            1              free\n",
       "      1526     3644.121544      23.0            1              free\n",
       "      1528     3998.569324      11.0            1              free\n",
       "      1532     6111.889853      42.0            2              free\n",
       "      1534     2371.711192      16.0            1              free"
      ]
     },
     "metadata": {},
     "output_type": "display_data"
    }
   ],
   "source": [
    "data_all['duration'] = np.ceil(data_all['duration'])\n",
    "\n",
    "total_data = pd.pivot_table(data_all,\n",
    "                            index = ['month', 'user_id'],\n",
    "                            values = ['distance', 'name', 'duration', 'subscription_type'],\n",
    "                            aggfunc = {'distance' : sum,\n",
    "                                       'name' : len,\n",
    "                                       'duration' : sum,\n",
    "                                       'subscription_type' : max})\n",
    "\n",
    "total_data.rename(columns = {'name' : 'count_trips'}, inplace = True)\n",
    "\n",
    "display(total_data.tail())"
   ]
  },
  {
   "cell_type": "markdown",
   "id": "069e1f44",
   "metadata": {},
   "source": [
    "### В этот же датафрейм добавим столбец с помесячной выручкой, которую принёс каждый пользователь"
   ]
  },
  {
   "cell_type": "code",
   "execution_count": 32,
   "id": "05b64b11",
   "metadata": {},
   "outputs": [],
   "source": [
    "def proceeds(row):\n",
    "    if row['subscription_type'] == 'free':\n",
    "        return (50 * row['count_trips']) + 8 * row['duration']\n",
    "    else:\n",
    "        return 6 * row['duration'] + 199"
   ]
  },
  {
   "cell_type": "code",
   "execution_count": 33,
   "id": "41fc3496",
   "metadata": {},
   "outputs": [
    {
     "data": {
      "text/html": [
       "<div>\n",
       "<style scoped>\n",
       "    .dataframe tbody tr th:only-of-type {\n",
       "        vertical-align: middle;\n",
       "    }\n",
       "\n",
       "    .dataframe tbody tr th {\n",
       "        vertical-align: top;\n",
       "    }\n",
       "\n",
       "    .dataframe thead th {\n",
       "        text-align: right;\n",
       "    }\n",
       "</style>\n",
       "<table border=\"1\" class=\"dataframe\">\n",
       "  <thead>\n",
       "    <tr style=\"text-align: right;\">\n",
       "      <th></th>\n",
       "      <th></th>\n",
       "      <th>distance</th>\n",
       "      <th>duration</th>\n",
       "      <th>count_trips</th>\n",
       "      <th>subscription_type</th>\n",
       "      <th>proceeds_per_month</th>\n",
       "    </tr>\n",
       "    <tr>\n",
       "      <th>month</th>\n",
       "      <th>user_id</th>\n",
       "      <th></th>\n",
       "      <th></th>\n",
       "      <th></th>\n",
       "      <th></th>\n",
       "      <th></th>\n",
       "    </tr>\n",
       "  </thead>\n",
       "  <tbody>\n",
       "    <tr>\n",
       "      <th rowspan=\"5\" valign=\"top\">1</th>\n",
       "      <th>1</th>\n",
       "      <td>7027.511294</td>\n",
       "      <td>42.0</td>\n",
       "      <td>2</td>\n",
       "      <td>ultra</td>\n",
       "      <td>451.0</td>\n",
       "    </tr>\n",
       "    <tr>\n",
       "      <th>3</th>\n",
       "      <td>3061.777147</td>\n",
       "      <td>13.0</td>\n",
       "      <td>1</td>\n",
       "      <td>ultra</td>\n",
       "      <td>277.0</td>\n",
       "    </tr>\n",
       "    <tr>\n",
       "      <th>5</th>\n",
       "      <td>3914.646990</td>\n",
       "      <td>13.0</td>\n",
       "      <td>1</td>\n",
       "      <td>ultra</td>\n",
       "      <td>277.0</td>\n",
       "    </tr>\n",
       "    <tr>\n",
       "      <th>7</th>\n",
       "      <td>6478.080979</td>\n",
       "      <td>28.0</td>\n",
       "      <td>2</td>\n",
       "      <td>ultra</td>\n",
       "      <td>367.0</td>\n",
       "    </tr>\n",
       "    <tr>\n",
       "      <th>12</th>\n",
       "      <td>3577.151148</td>\n",
       "      <td>33.0</td>\n",
       "      <td>1</td>\n",
       "      <td>ultra</td>\n",
       "      <td>397.0</td>\n",
       "    </tr>\n",
       "  </tbody>\n",
       "</table>\n",
       "</div>"
      ],
      "text/plain": [
       "                  distance  duration  count_trips subscription_type  \\\n",
       "month user_id                                                         \n",
       "1     1        7027.511294      42.0            2             ultra   \n",
       "      3        3061.777147      13.0            1             ultra   \n",
       "      5        3914.646990      13.0            1             ultra   \n",
       "      7        6478.080979      28.0            2             ultra   \n",
       "      12       3577.151148      33.0            1             ultra   \n",
       "\n",
       "               proceeds_per_month  \n",
       "month user_id                      \n",
       "1     1                     451.0  \n",
       "      3                     277.0  \n",
       "      5                     277.0  \n",
       "      7                     367.0  \n",
       "      12                    397.0  "
      ]
     },
     "metadata": {},
     "output_type": "display_data"
    }
   ],
   "source": [
    "total_data['proceeds_per_month'] = total_data.apply(proceeds, axis = True)\n",
    "\n",
    "display(total_data.head())"
   ]
  },
  {
   "cell_type": "markdown",
   "id": "205fe0a6",
   "metadata": {},
   "source": [
    "**Посмотрим на значения в добавленном столбце**"
   ]
  },
  {
   "cell_type": "code",
   "execution_count": 34,
   "id": "18f62f34",
   "metadata": {},
   "outputs": [
    {
     "name": "stdout",
     "output_type": "stream",
     "text": [
      "count    11331.000000\n",
      "mean       342.303504\n",
      "std        153.875346\n",
      "min         58.000000\n",
      "25%        234.000000\n",
      "50%        319.000000\n",
      "75%        415.000000\n",
      "max       1444.000000\n",
      "Name: proceeds_per_month, dtype: float64\n"
     ]
    }
   ],
   "source": [
    "print(total_data['proceeds_per_month'].describe())"
   ]
  },
  {
   "cell_type": "markdown",
   "id": "0e34eea4",
   "metadata": {},
   "source": [
    "**В целом, никаких аномальных значений не наблюдается.**"
   ]
  },
  {
   "cell_type": "markdown",
   "id": "a01edbbb",
   "metadata": {},
   "source": [
    "### Промежуточный вывод по подсчёту выручки.\n",
    "<br> На данном этапе была создана сводная таблица для более удобной работы с такими данными, как суммарное расстояние, количество поездок и суммарное время для каждого пользователя за месяц. \n",
    "<br> В эту своднудю таблицу был добавлен новый столбец с подсчётом выручки за месяц по каждому пользователю."
   ]
  },
  {
   "cell_type": "markdown",
   "id": "c93efb74",
   "metadata": {},
   "source": [
    "## Проверка гипотез"
   ]
  },
  {
   "cell_type": "markdown",
   "id": "b0c8d38f",
   "metadata": {},
   "source": [
    "### Проверим, тратят ли пользователи с подпиской больше времени на поездки или нет."
   ]
  },
  {
   "cell_type": "markdown",
   "id": "c4962ebc",
   "metadata": {},
   "source": [
    "**Гипотеза: пользователи с подпиской тратят больше времени на поездки, чем пользователи без подписки.**\n",
    "<br>H_0: Время потраченное на поездку с подпиской = время потраченное на поездку без подписки\n",
    "<br>H_1: Время потраченное на поездку с подпиской > время потраченное на поездку без подписки\n",
    "<br>Уровень значимости = 0.05"
   ]
  },
  {
   "cell_type": "code",
   "execution_count": 35,
   "id": "0f8c6f6c",
   "metadata": {},
   "outputs": [
    {
     "name": "stdout",
     "output_type": "stream",
     "text": [
      "1.2804098316645618e-34\n",
      "Отвергаем нулевую гипотезу\n"
     ]
    }
   ],
   "source": [
    "free = data_free_sub['duration']\n",
    "ultra = data_ultra_sub['duration'] \n",
    "\n",
    "alpha = 0.05\n",
    "\n",
    "results = st.ttest_ind(ultra, free, alternative = 'greater')\n",
    "\n",
    "print(results.pvalue)\n",
    "\n",
    "if results.pvalue < alpha:\n",
    "    print('Отвергаем нулевую гипотезу')\n",
    "else:\n",
    "    print('Нулевую гипотезу отвергнуть не удалось')"
   ]
  },
  {
   "cell_type": "markdown",
   "id": "9834c8a8",
   "metadata": {},
   "source": [
    "**Вывод**\n",
    "<br> Можем утвреждать пользователи с подпиской тратят больше времени на поездки."
   ]
  },
  {
   "cell_type": "markdown",
   "id": "6d7f6a27",
   "metadata": {},
   "source": [
    "### Расстояние одной поездки в  3130 метров — оптимальное с точки зрения износа самоката. Можно ли сказать, что расстояние, которое проезжают пользователи с подпиской за одну поездку, не превышает 3130 метров? Проверим это."
   ]
  },
  {
   "cell_type": "markdown",
   "id": "465dc803",
   "metadata": {},
   "source": [
    "**Гипотеза: расстояние, которое проезжают пользователи с подпиской за одну поездку, не превышает 3130 метров.**\n",
    "<br>H_0: Расстояние, которое проезжают пользователи с подпиской за одну поездку = 3130 м.\n",
    "<br>H_1: Расстояние, которое проезжают пользователи с подпиской за одну поездку > 3130 м.\n",
    "<br>Уровень значимости = 0.05"
   ]
  },
  {
   "cell_type": "code",
   "execution_count": 36,
   "id": "a1b00c2a",
   "metadata": {},
   "outputs": [
    {
     "name": "stdout",
     "output_type": "stream",
     "text": [
      "0.9195368847849785\n",
      "Не удалось отвергнуть нулевую гипотезу\n"
     ]
    }
   ],
   "source": [
    "distance = data_ultra_sub['distance']\n",
    "\n",
    "alpha = 0.05\n",
    "\n",
    "results = st.ttest_1samp(\n",
    "    distance,\n",
    "    3130,\n",
    "    alternative='greater')\n",
    "    \n",
    "print(results.pvalue)\n",
    "\n",
    "if (results.pvalue < alpha):\n",
    "    print('Отвергаем нулевую гипотезу')\n",
    "else:\n",
    "    print('Не удалось отвергнуть нулевую гипотезу')"
   ]
  },
  {
   "cell_type": "markdown",
   "id": "3733c883",
   "metadata": {},
   "source": [
    "**Вывод**\n",
    "<br> Не можем утверждать, что расстояние, которое проезжают пользователи с подпиской за одну поездку, не превышает 3130 метров."
   ]
  },
  {
   "cell_type": "markdown",
   "id": "91b686f8",
   "metadata": {},
   "source": [
    "### Проверим, будет ли помесячная выручка от пользователей с подпиской по месяцам выше, чем выручка от пользователей без подписки. "
   ]
  },
  {
   "cell_type": "markdown",
   "id": "e17bc7be",
   "metadata": {},
   "source": [
    "**Гипотеза: помесячная выручка от пользователей с подпиской по месяцам больше, чем выручка от пользователей без подписки.**\n",
    "<br>H_0: Помесячная выручка от пользователей с подпиской = Помесячная выручка от пользователей без подписки.\n",
    "<br>H_1: Помесячная выручка от пользователей с подпиской > Помесячная выручка от пользователей без подписки.\n",
    "<br>Уровень значимости = 0.05"
   ]
  },
  {
   "cell_type": "code",
   "execution_count": 37,
   "id": "e8d5a8b9",
   "metadata": {},
   "outputs": [
    {
     "name": "stdout",
     "output_type": "stream",
     "text": [
      "1.8850394384715216e-31\n",
      "Отвергаем нулевую гипотезу\n"
     ]
    }
   ],
   "source": [
    "free_per_month = total_data.loc[total_data.subscription_type == 'free', 'proceeds_per_month'] \n",
    "ultra_per_month = total_data.loc[total_data.subscription_type == 'ultra', 'proceeds_per_month'] \n",
    "\n",
    "\n",
    "results = st.ttest_ind(ultra_per_month, \n",
    "                       free_per_month,\n",
    "                       alternative = 'greater')\n",
    "\n",
    "alpha = 0.05\n",
    "\n",
    "print(results.pvalue)\n",
    "\n",
    "if results.pvalue < alpha:\n",
    "    print('Отвергаем нулевую гипотезу')\n",
    "else:\n",
    "    print('Не удалось отвергнуть нулевую гипотезу')"
   ]
  },
  {
   "cell_type": "markdown",
   "id": "26ec5685",
   "metadata": {},
   "source": [
    "<div class=\"alert alert-block alert-warning\">\n",
    "<b>🔁Комментарий ревьюера:</b>\n",
    "\n",
    "Тут тоже дополнительно можно вывести средние значения выручки для каждой категории пользователей.</div>"
   ]
  },
  {
   "cell_type": "markdown",
   "id": "281c9173",
   "metadata": {},
   "source": [
    "**Вывод**\n",
    "<br>Можем утверждать, что выручка с пользователей имеющих подписку больше, чем выручка с пользователей не имеющих подписки."
   ]
  },
  {
   "cell_type": "markdown",
   "id": "cd00e518",
   "metadata": {},
   "source": [
    "### Представьте такую ситуацию: техническая команда сервиса обновила сервера, с которыми взаимодействует мобильное приложение. Она надеется, что из-за этого количество обращений в техподдержку значимо снизилось. Некоторый файл содержит для каждого пользователя данные о количестве обращений до обновления и после него. Какой тест вам понадобился бы для проверки этой гипотезы?"
   ]
  },
  {
   "cell_type": "markdown",
   "id": "70eb1bec",
   "metadata": {},
   "source": [
    "Для проверки данной гипотезы понадобилась бы гипотеза о равенстве средних для парных выборок.\n",
    "\n",
    "**Метод, который нужно будет применить для проверки гипотезы: *ttest_rel()*.**"
   ]
  },
  {
   "cell_type": "markdown",
   "id": "af6e0b5b",
   "metadata": {},
   "source": [
    "## Общий вывод\n",
    "Для выполнения данной работы были использованы 3 датафрейма с информацией о пользователях, их поездках и подписках. \n",
    "\n",
    "<br> На этапе **предобработки данных** были:\n",
    "* изменены типы данных, где это необходимо\n",
    "* удалены дубликаты \n",
    "* добавлен новый столбец с номером месяца\n",
    "\n",
    "<br> Далее был проведён **исследовательский анализ данных.** \n",
    "1. Прежде всего оценили частоту встречаемости городов, в результате чего выяснили, что \n",
    "* Количество пользователей распределено примерно одинаково, сильно отклоняющихся значений нет\n",
    "* Самое большое количество пользователей в Пятигорске и составляет оно 14 % от общего значения.\n",
    "* Самое маленькое количество пользователей в Москве, 11 % от общего значения.\n",
    "2. После, оценили соотношение пользователей с подпиской и без подписки. Оказалось, что пользователей без подписки больше, что было и ожидаемо, но существенной разницы нет.\n",
    "* Пользователи без подписки (тариф free) - 54 %**\n",
    "* Пользователи с подпиской (тариф ultra) - 46 %**\n",
    "3. Далее, оценили возраст пользователей. Основная часть пользователей это люди возрастом от 22 до 28 лет.\n",
    "4. Оценка расстояния, которое пользователь преодолел за одну поездку, показала, что пользователи проезжают от от 2 до 4.5 км\n",
    "5. Под конец данного этапа, была оценена продолжительность поездок. Большая часть поездок длилась от 10 до 25 минут.\n",
    "\n",
    "<br> Для того, чтобы можно было удобно посчитать помесячную выручку, которую принёс каждый пользователь, **объединили данные о пользователях, поездках и подписках в один датафрейм**, а также **создали два датафрейма** из только что созданного датафрейма.\n",
    "\n",
    "<br> Информация о расстоянии и времени поездок для пользователей обеих категорий была визуализирована:\n",
    "* Для пользователей без подписки большую часть составляют поездки: **от 10 до 25 минут и от 2 до 4.8 км**\n",
    "* Для пользователей с подпиской большую часть составляют поездки: **от 12 до 22 минут и от 2,5 до 3.8 км**\n",
    "\n",
    "<br> Далее была подсчитана помесячная выручка, которую принёс каждый пользователь. Для этого была использована формула: **(стоимость старта поездки ×  количество поездок) + стоимость одной минуты поездки × общая продолжительность всех поездок в минутах) + стоимость подписки.**\n",
    "\n",
    "<br> В конце проекта **были проверены гипотезы**.\n",
    "1. Гипотеза: пользователи с подпиской тратят больше времени на поездки, чем пользователи без подписки.\n",
    "<br> *Нулевая гипотеза была отвержена*\n",
    "2. Гипотеза: расстояние, которое проезжают пользователи с подпиской за одну поездку, не превышает 3130 метров.\n",
    "<br> *Нулевую гипотезу отвергнуть не удалось*\n",
    "3. Гипотеза: помесячная выручка от пользователей с подпиской по месяцам больше, чем выручка от пользователей без подписки.\n",
    "<br> *Нулевая гипотеза была отвержена*"
   ]
  }
 ],
 "metadata": {
  "ExecuteTimeLog": [
   {
    "duration": 56,
    "start_time": "2023-07-16T11:07:32.334Z"
   },
   {
    "duration": 390,
    "start_time": "2023-07-16T11:07:36.407Z"
   },
   {
    "duration": 107,
    "start_time": "2023-07-16T11:07:37.500Z"
   },
   {
    "duration": 30,
    "start_time": "2023-07-16T11:09:11.123Z"
   },
   {
    "duration": 11,
    "start_time": "2023-07-16T11:09:30.570Z"
   },
   {
    "duration": 16,
    "start_time": "2023-07-16T11:12:52.946Z"
   },
   {
    "duration": 30,
    "start_time": "2023-07-16T11:13:50.559Z"
   },
   {
    "duration": 10,
    "start_time": "2023-07-16T11:13:51.307Z"
   },
   {
    "duration": 190,
    "start_time": "2023-07-16T11:14:16.549Z"
   },
   {
    "duration": 41,
    "start_time": "2023-07-16T11:14:31.750Z"
   },
   {
    "duration": 30,
    "start_time": "2023-07-16T11:15:41.215Z"
   },
   {
    "duration": 11,
    "start_time": "2023-07-16T11:15:48.703Z"
   },
   {
    "duration": 39,
    "start_time": "2023-07-16T11:16:00.145Z"
   },
   {
    "duration": 40,
    "start_time": "2023-07-16T11:17:52.341Z"
   },
   {
    "duration": 31,
    "start_time": "2023-07-16T11:18:05.751Z"
   },
   {
    "duration": 30,
    "start_time": "2023-07-16T11:18:17.556Z"
   },
   {
    "duration": 30,
    "start_time": "2023-07-16T11:18:30.320Z"
   },
   {
    "duration": 30,
    "start_time": "2023-07-16T11:18:38.941Z"
   },
   {
    "duration": 34,
    "start_time": "2023-07-16T11:19:18.446Z"
   },
   {
    "duration": 30,
    "start_time": "2023-07-16T11:19:22.652Z"
   },
   {
    "duration": 31,
    "start_time": "2023-07-16T11:19:33.540Z"
   },
   {
    "duration": 31,
    "start_time": "2023-07-16T11:19:43.465Z"
   },
   {
    "duration": 39,
    "start_time": "2023-07-16T11:23:50.704Z"
   },
   {
    "duration": 38,
    "start_time": "2023-07-16T11:24:06.545Z"
   },
   {
    "duration": 38,
    "start_time": "2023-07-16T11:24:21.844Z"
   },
   {
    "duration": 11,
    "start_time": "2023-07-16T11:24:57.922Z"
   },
   {
    "duration": 40,
    "start_time": "2023-07-16T11:27:37.210Z"
   },
   {
    "duration": 15,
    "start_time": "2023-07-16T11:27:37.904Z"
   },
   {
    "duration": 47,
    "start_time": "2023-07-16T11:27:38.641Z"
   },
   {
    "duration": 11,
    "start_time": "2023-07-16T11:27:39.039Z"
   },
   {
    "duration": 39,
    "start_time": "2023-07-16T11:29:34.612Z"
   },
   {
    "duration": 12,
    "start_time": "2023-07-16T11:29:41.206Z"
   },
   {
    "duration": 11,
    "start_time": "2023-07-16T11:29:46.308Z"
   },
   {
    "duration": 43,
    "start_time": "2023-07-16T11:29:52.481Z"
   },
   {
    "duration": 43,
    "start_time": "2023-07-16T11:30:00.623Z"
   },
   {
    "duration": 897,
    "start_time": "2023-07-16T11:38:29.747Z"
   },
   {
    "duration": 3,
    "start_time": "2023-07-16T11:38:51.477Z"
   },
   {
    "duration": 49,
    "start_time": "2023-07-16T12:01:24.941Z"
   },
   {
    "duration": 26,
    "start_time": "2023-07-16T12:01:33.057Z"
   },
   {
    "duration": 21,
    "start_time": "2023-07-16T12:02:31.374Z"
   },
   {
    "duration": 20,
    "start_time": "2023-07-16T12:02:50.776Z"
   },
   {
    "duration": 21,
    "start_time": "2023-07-16T12:03:48.216Z"
   },
   {
    "duration": 19,
    "start_time": "2023-07-16T12:03:56.050Z"
   },
   {
    "duration": 19,
    "start_time": "2023-07-16T12:04:05.474Z"
   },
   {
    "duration": 18,
    "start_time": "2023-07-16T12:04:16.324Z"
   },
   {
    "duration": 79,
    "start_time": "2023-07-16T12:04:20.649Z"
   },
   {
    "duration": 19,
    "start_time": "2023-07-16T12:04:28.616Z"
   },
   {
    "duration": 21,
    "start_time": "2023-07-16T12:04:32.196Z"
   },
   {
    "duration": 21,
    "start_time": "2023-07-16T12:04:39.326Z"
   },
   {
    "duration": 19,
    "start_time": "2023-07-16T12:04:46.410Z"
   },
   {
    "duration": 74,
    "start_time": "2023-07-16T12:05:38.561Z"
   },
   {
    "duration": 30,
    "start_time": "2023-07-16T12:05:49.078Z"
   },
   {
    "duration": 29,
    "start_time": "2023-07-16T12:05:59.445Z"
   },
   {
    "duration": 10,
    "start_time": "2023-07-16T12:24:25.540Z"
   },
   {
    "duration": 19,
    "start_time": "2023-07-16T12:25:15.613Z"
   },
   {
    "duration": 12,
    "start_time": "2023-07-16T12:28:23.273Z"
   },
   {
    "duration": 8,
    "start_time": "2023-07-16T12:29:58.301Z"
   },
   {
    "duration": 5,
    "start_time": "2023-07-16T12:30:10.918Z"
   },
   {
    "duration": 6,
    "start_time": "2023-07-16T12:31:42.156Z"
   },
   {
    "duration": 10,
    "start_time": "2023-07-16T12:32:02.328Z"
   },
   {
    "duration": 10,
    "start_time": "2023-07-16T12:32:19.575Z"
   },
   {
    "duration": 8,
    "start_time": "2023-07-16T12:33:10.538Z"
   },
   {
    "duration": 7,
    "start_time": "2023-07-16T12:33:13.675Z"
   },
   {
    "duration": 12,
    "start_time": "2023-07-16T12:33:14.175Z"
   },
   {
    "duration": 10,
    "start_time": "2023-07-16T12:33:33.068Z"
   },
   {
    "duration": 10,
    "start_time": "2023-07-16T12:33:33.843Z"
   },
   {
    "duration": 3,
    "start_time": "2023-07-16T12:33:38.929Z"
   },
   {
    "duration": 39,
    "start_time": "2023-07-16T12:33:39.452Z"
   },
   {
    "duration": 16,
    "start_time": "2023-07-16T12:33:40.015Z"
   },
   {
    "duration": 41,
    "start_time": "2023-07-16T12:33:40.740Z"
   },
   {
    "duration": 17,
    "start_time": "2023-07-16T12:33:41.108Z"
   },
   {
    "duration": 29,
    "start_time": "2023-07-16T12:33:41.857Z"
   },
   {
    "duration": 15,
    "start_time": "2023-07-16T12:33:42.221Z"
   },
   {
    "duration": 14,
    "start_time": "2023-07-16T12:33:43.175Z"
   },
   {
    "duration": 11,
    "start_time": "2023-07-16T12:33:43.543Z"
   },
   {
    "duration": 9,
    "start_time": "2023-07-16T12:33:44.129Z"
   },
   {
    "duration": 6,
    "start_time": "2023-07-16T12:33:44.308Z"
   },
   {
    "duration": 8,
    "start_time": "2023-07-16T12:34:00.420Z"
   },
   {
    "duration": 7,
    "start_time": "2023-07-16T12:35:00.813Z"
   },
   {
    "duration": 6,
    "start_time": "2023-07-16T12:36:03.957Z"
   },
   {
    "duration": 4,
    "start_time": "2023-07-16T12:36:04.525Z"
   },
   {
    "duration": 6,
    "start_time": "2023-07-16T12:36:04.735Z"
   },
   {
    "duration": 8,
    "start_time": "2023-07-16T12:36:05.507Z"
   },
   {
    "duration": 9,
    "start_time": "2023-07-16T12:37:21.975Z"
   },
   {
    "duration": 3,
    "start_time": "2023-07-16T12:37:36.656Z"
   },
   {
    "duration": 4,
    "start_time": "2023-07-16T12:37:45.658Z"
   },
   {
    "duration": 12,
    "start_time": "2023-07-16T12:37:50.471Z"
   },
   {
    "duration": 10,
    "start_time": "2023-07-16T12:38:02.457Z"
   },
   {
    "duration": 46,
    "start_time": "2023-08-09T08:14:07.981Z"
   },
   {
    "duration": 1371,
    "start_time": "2023-08-09T08:14:20.176Z"
   },
   {
    "duration": 85,
    "start_time": "2023-08-09T08:14:21.549Z"
   },
   {
    "duration": 11,
    "start_time": "2023-08-09T08:14:21.636Z"
   },
   {
    "duration": 77,
    "start_time": "2023-08-09T08:14:21.648Z"
   },
   {
    "duration": 10,
    "start_time": "2023-08-09T08:14:21.727Z"
   },
   {
    "duration": 59,
    "start_time": "2023-08-09T08:14:21.739Z"
   },
   {
    "duration": 9,
    "start_time": "2023-08-09T08:14:21.799Z"
   },
   {
    "duration": 18,
    "start_time": "2023-08-09T08:14:21.810Z"
   },
   {
    "duration": 10,
    "start_time": "2023-08-09T08:14:21.829Z"
   },
   {
    "duration": 5,
    "start_time": "2023-08-09T08:14:21.842Z"
   },
   {
    "duration": 12,
    "start_time": "2023-08-09T08:14:21.848Z"
   },
   {
    "duration": 12,
    "start_time": "2023-08-09T08:14:21.862Z"
   },
   {
    "duration": 23,
    "start_time": "2023-08-09T08:14:21.876Z"
   },
   {
    "duration": 5,
    "start_time": "2023-08-09T08:14:21.901Z"
   },
   {
    "duration": 7,
    "start_time": "2023-08-09T08:19:42.278Z"
   },
   {
    "duration": 154,
    "start_time": "2023-08-09T08:20:21.974Z"
   },
   {
    "duration": 179,
    "start_time": "2023-08-09T08:20:49.727Z"
   },
   {
    "duration": 165,
    "start_time": "2023-08-09T08:21:10.084Z"
   },
   {
    "duration": 157,
    "start_time": "2023-08-09T08:21:16.344Z"
   },
   {
    "duration": 134,
    "start_time": "2023-08-09T08:23:23.159Z"
   },
   {
    "duration": 5,
    "start_time": "2023-08-09T08:26:06.622Z"
   },
   {
    "duration": 5,
    "start_time": "2023-08-09T08:26:13.222Z"
   },
   {
    "duration": 6,
    "start_time": "2023-08-09T08:26:18.218Z"
   },
   {
    "duration": 5,
    "start_time": "2023-08-09T08:27:47.852Z"
   },
   {
    "duration": 6,
    "start_time": "2023-08-09T08:28:24.588Z"
   },
   {
    "duration": 144,
    "start_time": "2023-08-09T08:30:55.184Z"
   },
   {
    "duration": 104,
    "start_time": "2023-08-09T08:33:34.169Z"
   },
   {
    "duration": 70,
    "start_time": "2023-08-09T08:33:44.745Z"
   },
   {
    "duration": 427,
    "start_time": "2023-08-09T08:34:07.823Z"
   },
   {
    "duration": 439,
    "start_time": "2023-08-09T08:34:29.432Z"
   },
   {
    "duration": 605,
    "start_time": "2023-08-09T08:34:41.637Z"
   },
   {
    "duration": 148,
    "start_time": "2023-08-09T08:34:47.727Z"
   },
   {
    "duration": 5,
    "start_time": "2023-08-09T08:35:55.835Z"
   },
   {
    "duration": 152,
    "start_time": "2023-08-09T08:36:04.129Z"
   },
   {
    "duration": 13,
    "start_time": "2023-08-09T08:37:53.927Z"
   },
   {
    "duration": 10,
    "start_time": "2023-08-09T08:39:36.725Z"
   },
   {
    "duration": 8,
    "start_time": "2023-08-09T08:39:53.626Z"
   },
   {
    "duration": 6,
    "start_time": "2023-08-09T08:39:58.553Z"
   },
   {
    "duration": 7,
    "start_time": "2023-08-09T08:40:03.634Z"
   },
   {
    "duration": 8,
    "start_time": "2023-08-09T08:40:11.246Z"
   },
   {
    "duration": 8,
    "start_time": "2023-08-09T08:40:16.743Z"
   },
   {
    "duration": 5,
    "start_time": "2023-08-09T08:40:20.945Z"
   },
   {
    "duration": 7,
    "start_time": "2023-08-09T08:40:23.568Z"
   },
   {
    "duration": 109,
    "start_time": "2023-08-09T08:41:27.529Z"
   },
   {
    "duration": 134,
    "start_time": "2023-08-09T08:42:20.927Z"
   },
   {
    "duration": 139,
    "start_time": "2023-08-09T08:42:46.068Z"
   },
   {
    "duration": 122,
    "start_time": "2023-08-09T08:43:26.964Z"
   },
   {
    "duration": 147,
    "start_time": "2023-08-09T08:43:30.176Z"
   },
   {
    "duration": 114,
    "start_time": "2023-08-09T08:43:39.454Z"
   },
   {
    "duration": 148,
    "start_time": "2023-08-09T08:43:42.677Z"
   },
   {
    "duration": 146,
    "start_time": "2023-08-09T08:43:48.880Z"
   },
   {
    "duration": 148,
    "start_time": "2023-08-09T08:44:04.779Z"
   },
   {
    "duration": 169,
    "start_time": "2023-08-09T08:44:19.871Z"
   },
   {
    "duration": 214,
    "start_time": "2023-08-09T08:44:22.930Z"
   },
   {
    "duration": 162,
    "start_time": "2023-08-09T08:44:36.422Z"
   },
   {
    "duration": 209,
    "start_time": "2023-08-09T08:44:43.230Z"
   },
   {
    "duration": 163,
    "start_time": "2023-08-09T08:44:53.862Z"
   },
   {
    "duration": 154,
    "start_time": "2023-08-09T08:50:27.993Z"
   },
   {
    "duration": 140,
    "start_time": "2023-08-09T08:50:33.947Z"
   },
   {
    "duration": 202,
    "start_time": "2023-08-09T08:50:46.245Z"
   },
   {
    "duration": 144,
    "start_time": "2023-08-09T08:50:51.170Z"
   },
   {
    "duration": 153,
    "start_time": "2023-08-09T08:50:56.735Z"
   },
   {
    "duration": 145,
    "start_time": "2023-08-09T08:51:22.339Z"
   },
   {
    "duration": 4,
    "start_time": "2023-08-09T09:01:17.983Z"
   },
   {
    "duration": 98,
    "start_time": "2023-08-09T09:01:18.532Z"
   },
   {
    "duration": 9,
    "start_time": "2023-08-09T09:01:19.195Z"
   },
   {
    "duration": 157,
    "start_time": "2023-08-09T09:01:20.028Z"
   },
   {
    "duration": 174,
    "start_time": "2023-08-09T09:01:53.093Z"
   },
   {
    "duration": 8,
    "start_time": "2023-08-09T09:02:56.041Z"
   },
   {
    "duration": 174,
    "start_time": "2023-08-09T09:02:56.963Z"
   },
   {
    "duration": 8,
    "start_time": "2023-08-09T09:03:34.166Z"
   },
   {
    "duration": 297,
    "start_time": "2023-08-09T09:30:40.076Z"
   },
   {
    "duration": 9,
    "start_time": "2023-08-09T09:31:05.630Z"
   },
   {
    "duration": 8,
    "start_time": "2023-08-09T09:32:21.437Z"
   },
   {
    "duration": 177,
    "start_time": "2023-08-09T09:37:04.529Z"
   },
   {
    "duration": 8,
    "start_time": "2023-08-09T09:37:05.485Z"
   },
   {
    "duration": 203,
    "start_time": "2023-08-09T09:37:07.918Z"
   },
   {
    "duration": 9,
    "start_time": "2023-08-09T09:37:09.142Z"
   },
   {
    "duration": 12,
    "start_time": "2023-08-09T09:38:15.895Z"
   },
   {
    "duration": 131,
    "start_time": "2023-08-09T09:41:26.048Z"
   },
   {
    "duration": 106,
    "start_time": "2023-08-09T09:42:50.389Z"
   },
   {
    "duration": 101,
    "start_time": "2023-08-09T09:42:55.272Z"
   },
   {
    "duration": 9,
    "start_time": "2023-08-09T10:47:20.774Z"
   },
   {
    "duration": 10,
    "start_time": "2023-08-09T10:47:28.928Z"
   },
   {
    "duration": 8,
    "start_time": "2023-08-09T10:47:33.335Z"
   },
   {
    "duration": 97,
    "start_time": "2023-08-09T10:47:39.736Z"
   },
   {
    "duration": 118,
    "start_time": "2023-08-09T10:47:47.115Z"
   },
   {
    "duration": 150,
    "start_time": "2023-08-09T10:48:34.626Z"
   },
   {
    "duration": 67,
    "start_time": "2023-08-10T13:35:08.222Z"
   },
   {
    "duration": 1316,
    "start_time": "2023-08-10T13:35:16.425Z"
   },
   {
    "duration": 90,
    "start_time": "2023-08-10T13:35:17.743Z"
   },
   {
    "duration": 11,
    "start_time": "2023-08-10T13:35:17.835Z"
   },
   {
    "duration": 86,
    "start_time": "2023-08-10T13:35:17.848Z"
   },
   {
    "duration": 12,
    "start_time": "2023-08-10T13:35:17.936Z"
   },
   {
    "duration": 70,
    "start_time": "2023-08-10T13:35:17.949Z"
   },
   {
    "duration": 10,
    "start_time": "2023-08-10T13:35:18.021Z"
   },
   {
    "duration": 20,
    "start_time": "2023-08-10T13:35:18.033Z"
   },
   {
    "duration": 15,
    "start_time": "2023-08-10T13:35:18.054Z"
   },
   {
    "duration": 6,
    "start_time": "2023-08-10T13:35:18.071Z"
   },
   {
    "duration": 8,
    "start_time": "2023-08-10T13:35:18.079Z"
   },
   {
    "duration": 8,
    "start_time": "2023-08-10T13:35:18.089Z"
   },
   {
    "duration": 10,
    "start_time": "2023-08-10T13:35:18.099Z"
   },
   {
    "duration": 5,
    "start_time": "2023-08-10T13:35:18.112Z"
   },
   {
    "duration": 209,
    "start_time": "2023-08-10T13:35:18.119Z"
   },
   {
    "duration": 7,
    "start_time": "2023-08-10T13:35:18.330Z"
   },
   {
    "duration": 148,
    "start_time": "2023-08-10T13:35:18.339Z"
   },
   {
    "duration": 10,
    "start_time": "2023-08-10T13:35:18.490Z"
   },
   {
    "duration": 180,
    "start_time": "2023-08-10T13:35:18.502Z"
   },
   {
    "duration": 10,
    "start_time": "2023-08-10T13:35:18.684Z"
   },
   {
    "duration": 191,
    "start_time": "2023-08-10T13:35:18.696Z"
   },
   {
    "duration": 10,
    "start_time": "2023-08-10T13:35:18.889Z"
   },
   {
    "duration": 186,
    "start_time": "2023-08-10T13:35:18.900Z"
   },
   {
    "duration": 82,
    "start_time": "2023-08-10T13:35:19.088Z"
   },
   {
    "duration": 41,
    "start_time": "2023-08-10T13:35:43.017Z"
   },
   {
    "duration": 1207,
    "start_time": "2023-08-10T13:39:04.247Z"
   },
   {
    "duration": 1372,
    "start_time": "2023-08-10T13:40:25.215Z"
   },
   {
    "duration": 28,
    "start_time": "2023-08-10T13:41:05.809Z"
   },
   {
    "duration": 66,
    "start_time": "2023-08-10T13:41:21.915Z"
   },
   {
    "duration": 22,
    "start_time": "2023-08-10T13:41:32.691Z"
   },
   {
    "duration": 392,
    "start_time": "2023-08-10T13:42:59.404Z"
   },
   {
    "duration": 213,
    "start_time": "2023-08-10T13:43:25.606Z"
   },
   {
    "duration": 277,
    "start_time": "2023-08-10T13:43:38.205Z"
   },
   {
    "duration": 215,
    "start_time": "2023-08-10T13:44:08.562Z"
   },
   {
    "duration": 299,
    "start_time": "2023-08-10T13:44:23.383Z"
   },
   {
    "duration": 252,
    "start_time": "2023-08-10T13:44:30.323Z"
   },
   {
    "duration": 243,
    "start_time": "2023-08-10T13:44:59.094Z"
   },
   {
    "duration": 183,
    "start_time": "2023-08-10T13:45:29.407Z"
   },
   {
    "duration": 183,
    "start_time": "2023-08-10T13:45:53.203Z"
   },
   {
    "duration": 221,
    "start_time": "2023-08-10T13:46:09.998Z"
   },
   {
    "duration": 217,
    "start_time": "2023-08-10T13:46:21.608Z"
   },
   {
    "duration": 224,
    "start_time": "2023-08-10T13:46:35.704Z"
   },
   {
    "duration": 217,
    "start_time": "2023-08-10T13:46:39.057Z"
   },
   {
    "duration": 214,
    "start_time": "2023-08-10T13:46:45.758Z"
   },
   {
    "duration": 235,
    "start_time": "2023-08-10T13:46:50.362Z"
   },
   {
    "duration": 214,
    "start_time": "2023-08-10T13:46:54.846Z"
   },
   {
    "duration": 221,
    "start_time": "2023-08-10T13:46:58.557Z"
   },
   {
    "duration": 221,
    "start_time": "2023-08-10T13:47:03.861Z"
   },
   {
    "duration": 214,
    "start_time": "2023-08-10T13:47:09.455Z"
   },
   {
    "duration": 217,
    "start_time": "2023-08-10T13:47:19.345Z"
   },
   {
    "duration": 225,
    "start_time": "2023-08-10T13:47:27.961Z"
   },
   {
    "duration": 217,
    "start_time": "2023-08-10T13:47:35.703Z"
   },
   {
    "duration": 223,
    "start_time": "2023-08-10T13:47:41.911Z"
   },
   {
    "duration": 231,
    "start_time": "2023-08-10T13:47:45.457Z"
   },
   {
    "duration": 217,
    "start_time": "2023-08-10T13:47:51.717Z"
   },
   {
    "duration": 396,
    "start_time": "2023-08-10T13:49:22.422Z"
   },
   {
    "duration": 462,
    "start_time": "2023-08-10T13:49:36.753Z"
   },
   {
    "duration": 564,
    "start_time": "2023-08-10T13:49:48.202Z"
   },
   {
    "duration": 400,
    "start_time": "2023-08-10T13:53:46.965Z"
   },
   {
    "duration": 19,
    "start_time": "2023-08-10T13:54:34.945Z"
   },
   {
    "duration": 399,
    "start_time": "2023-08-10T13:56:04.948Z"
   },
   {
    "duration": 322,
    "start_time": "2023-08-10T14:05:59.416Z"
   },
   {
    "duration": 353,
    "start_time": "2023-08-10T14:06:10.283Z"
   },
   {
    "duration": 376,
    "start_time": "2023-08-10T14:06:21.606Z"
   },
   {
    "duration": 65,
    "start_time": "2023-08-11T14:35:53.080Z"
   },
   {
    "duration": 1474,
    "start_time": "2023-08-11T14:36:02.618Z"
   },
   {
    "duration": 122,
    "start_time": "2023-08-11T14:36:04.095Z"
   },
   {
    "duration": 14,
    "start_time": "2023-08-11T14:36:04.219Z"
   },
   {
    "duration": 173,
    "start_time": "2023-08-11T14:36:04.234Z"
   },
   {
    "duration": 17,
    "start_time": "2023-08-11T14:36:04.410Z"
   },
   {
    "duration": 83,
    "start_time": "2023-08-11T14:36:04.429Z"
   },
   {
    "duration": 16,
    "start_time": "2023-08-11T14:36:04.515Z"
   },
   {
    "duration": 24,
    "start_time": "2023-08-11T14:36:04.534Z"
   },
   {
    "duration": 15,
    "start_time": "2023-08-11T14:36:04.562Z"
   },
   {
    "duration": 7,
    "start_time": "2023-08-11T14:36:04.580Z"
   },
   {
    "duration": 8,
    "start_time": "2023-08-11T14:36:04.589Z"
   },
   {
    "duration": 18,
    "start_time": "2023-08-11T14:36:04.599Z"
   },
   {
    "duration": 20,
    "start_time": "2023-08-11T14:36:04.619Z"
   },
   {
    "duration": 7,
    "start_time": "2023-08-11T14:36:04.642Z"
   },
   {
    "duration": 188,
    "start_time": "2023-08-11T14:36:04.650Z"
   },
   {
    "duration": 5,
    "start_time": "2023-08-11T14:36:04.841Z"
   },
   {
    "duration": 128,
    "start_time": "2023-08-11T14:36:04.848Z"
   },
   {
    "duration": 12,
    "start_time": "2023-08-11T14:36:04.977Z"
   },
   {
    "duration": 199,
    "start_time": "2023-08-11T14:36:04.992Z"
   },
   {
    "duration": 10,
    "start_time": "2023-08-11T14:36:05.193Z"
   },
   {
    "duration": 251,
    "start_time": "2023-08-11T14:36:05.205Z"
   },
   {
    "duration": 16,
    "start_time": "2023-08-11T14:36:05.459Z"
   },
   {
    "duration": 222,
    "start_time": "2023-08-11T14:36:05.477Z"
   },
   {
    "duration": 39,
    "start_time": "2023-08-11T14:36:05.702Z"
   },
   {
    "duration": 54,
    "start_time": "2023-08-11T14:36:05.743Z"
   },
   {
    "duration": 491,
    "start_time": "2023-08-11T14:36:05.798Z"
   },
   {
    "duration": 26,
    "start_time": "2023-08-11T14:36:06.291Z"
   },
   {
    "duration": 642,
    "start_time": "2023-08-11T14:36:06.319Z"
   },
   {
    "duration": 131,
    "start_time": "2023-08-11T14:36:06.964Z"
   },
   {
    "duration": 70,
    "start_time": "2023-08-11T14:36:30.915Z"
   },
   {
    "duration": 143,
    "start_time": "2023-08-11T14:36:36.458Z"
   },
   {
    "duration": 131,
    "start_time": "2023-08-11T14:36:48.485Z"
   },
   {
    "duration": 1029,
    "start_time": "2023-08-11T14:36:53.804Z"
   },
   {
    "duration": 941,
    "start_time": "2023-08-11T14:38:12.861Z"
   },
   {
    "duration": 954,
    "start_time": "2023-08-11T14:38:28.722Z"
   },
   {
    "duration": 3,
    "start_time": "2023-08-11T14:38:33.545Z"
   },
   {
    "duration": 46,
    "start_time": "2023-08-11T14:38:33.550Z"
   },
   {
    "duration": 11,
    "start_time": "2023-08-11T14:38:33.598Z"
   },
   {
    "duration": 44,
    "start_time": "2023-08-11T14:38:33.611Z"
   },
   {
    "duration": 11,
    "start_time": "2023-08-11T14:38:33.656Z"
   },
   {
    "duration": 23,
    "start_time": "2023-08-11T14:38:33.669Z"
   },
   {
    "duration": 11,
    "start_time": "2023-08-11T14:38:33.694Z"
   },
   {
    "duration": 32,
    "start_time": "2023-08-11T14:38:33.707Z"
   },
   {
    "duration": 20,
    "start_time": "2023-08-11T14:38:33.741Z"
   },
   {
    "duration": 19,
    "start_time": "2023-08-11T14:38:33.765Z"
   },
   {
    "duration": 9,
    "start_time": "2023-08-11T14:38:33.786Z"
   },
   {
    "duration": 10,
    "start_time": "2023-08-11T14:38:33.796Z"
   },
   {
    "duration": 14,
    "start_time": "2023-08-11T14:38:33.808Z"
   },
   {
    "duration": 8,
    "start_time": "2023-08-11T14:38:33.824Z"
   },
   {
    "duration": 194,
    "start_time": "2023-08-11T14:38:33.834Z"
   },
   {
    "duration": 7,
    "start_time": "2023-08-11T14:38:34.030Z"
   },
   {
    "duration": 140,
    "start_time": "2023-08-11T14:38:34.038Z"
   },
   {
    "duration": 9,
    "start_time": "2023-08-11T14:38:34.180Z"
   },
   {
    "duration": 199,
    "start_time": "2023-08-11T14:38:34.191Z"
   },
   {
    "duration": 10,
    "start_time": "2023-08-11T14:38:34.392Z"
   },
   {
    "duration": 248,
    "start_time": "2023-08-11T14:38:34.404Z"
   },
   {
    "duration": 16,
    "start_time": "2023-08-11T14:38:34.655Z"
   },
   {
    "duration": 203,
    "start_time": "2023-08-11T14:38:34.673Z"
   },
   {
    "duration": 41,
    "start_time": "2023-08-11T14:38:34.878Z"
   },
   {
    "duration": 26,
    "start_time": "2023-08-11T14:38:34.921Z"
   },
   {
    "duration": 518,
    "start_time": "2023-08-11T14:38:34.967Z"
   },
   {
    "duration": 24,
    "start_time": "2023-08-11T14:38:35.488Z"
   },
   {
    "duration": 435,
    "start_time": "2023-08-11T14:38:35.515Z"
   },
   {
    "duration": 937,
    "start_time": "2023-08-11T14:38:35.951Z"
   },
   {
    "duration": 3,
    "start_time": "2023-08-11T14:38:51.581Z"
   },
   {
    "duration": 48,
    "start_time": "2023-08-11T14:38:51.586Z"
   },
   {
    "duration": 12,
    "start_time": "2023-08-11T14:38:51.635Z"
   },
   {
    "duration": 42,
    "start_time": "2023-08-11T14:38:51.648Z"
   },
   {
    "duration": 12,
    "start_time": "2023-08-11T14:38:51.692Z"
   },
   {
    "duration": 60,
    "start_time": "2023-08-11T14:38:51.706Z"
   },
   {
    "duration": 14,
    "start_time": "2023-08-11T14:38:51.768Z"
   },
   {
    "duration": 31,
    "start_time": "2023-08-11T14:38:51.784Z"
   },
   {
    "duration": 12,
    "start_time": "2023-08-11T14:38:51.817Z"
   },
   {
    "duration": 31,
    "start_time": "2023-08-11T14:38:51.830Z"
   },
   {
    "duration": 11,
    "start_time": "2023-08-11T14:38:51.863Z"
   },
   {
    "duration": 6,
    "start_time": "2023-08-11T14:38:51.876Z"
   },
   {
    "duration": 13,
    "start_time": "2023-08-11T14:38:51.884Z"
   },
   {
    "duration": 8,
    "start_time": "2023-08-11T14:38:51.900Z"
   },
   {
    "duration": 185,
    "start_time": "2023-08-11T14:38:51.910Z"
   },
   {
    "duration": 5,
    "start_time": "2023-08-11T14:38:52.096Z"
   },
   {
    "duration": 127,
    "start_time": "2023-08-11T14:38:52.102Z"
   },
   {
    "duration": 11,
    "start_time": "2023-08-11T14:38:52.231Z"
   },
   {
    "duration": 225,
    "start_time": "2023-08-11T14:38:52.244Z"
   },
   {
    "duration": 9,
    "start_time": "2023-08-11T14:38:52.471Z"
   },
   {
    "duration": 188,
    "start_time": "2023-08-11T14:38:52.481Z"
   },
   {
    "duration": 14,
    "start_time": "2023-08-11T14:38:52.672Z"
   },
   {
    "duration": 222,
    "start_time": "2023-08-11T14:38:52.688Z"
   },
   {
    "duration": 60,
    "start_time": "2023-08-11T14:38:52.911Z"
   },
   {
    "duration": 37,
    "start_time": "2023-08-11T14:38:52.973Z"
   },
   {
    "duration": 434,
    "start_time": "2023-08-11T14:38:53.012Z"
   },
   {
    "duration": 35,
    "start_time": "2023-08-11T14:38:53.448Z"
   },
   {
    "duration": 444,
    "start_time": "2023-08-11T14:38:53.485Z"
   },
   {
    "duration": 1085,
    "start_time": "2023-08-11T14:38:53.931Z"
   },
   {
    "duration": 979,
    "start_time": "2023-08-11T14:39:34.024Z"
   },
   {
    "duration": 3,
    "start_time": "2023-08-11T14:39:40.034Z"
   },
   {
    "duration": 49,
    "start_time": "2023-08-11T14:39:40.040Z"
   },
   {
    "duration": 12,
    "start_time": "2023-08-11T14:39:40.091Z"
   },
   {
    "duration": 53,
    "start_time": "2023-08-11T14:39:40.105Z"
   },
   {
    "duration": 12,
    "start_time": "2023-08-11T14:39:40.160Z"
   },
   {
    "duration": 26,
    "start_time": "2023-08-11T14:39:40.174Z"
   },
   {
    "duration": 11,
    "start_time": "2023-08-11T14:39:40.202Z"
   },
   {
    "duration": 26,
    "start_time": "2023-08-11T14:39:40.215Z"
   },
   {
    "duration": 15,
    "start_time": "2023-08-11T14:39:40.243Z"
   },
   {
    "duration": 7,
    "start_time": "2023-08-11T14:39:40.266Z"
   },
   {
    "duration": 9,
    "start_time": "2023-08-11T14:39:40.275Z"
   },
   {
    "duration": 7,
    "start_time": "2023-08-11T14:39:40.286Z"
   },
   {
    "duration": 11,
    "start_time": "2023-08-11T14:39:40.295Z"
   },
   {
    "duration": 5,
    "start_time": "2023-08-11T14:39:40.310Z"
   },
   {
    "duration": 194,
    "start_time": "2023-08-11T14:39:40.317Z"
   },
   {
    "duration": 6,
    "start_time": "2023-08-11T14:39:40.513Z"
   },
   {
    "duration": 141,
    "start_time": "2023-08-11T14:39:40.520Z"
   },
   {
    "duration": 11,
    "start_time": "2023-08-11T14:39:40.664Z"
   },
   {
    "duration": 315,
    "start_time": "2023-08-11T14:39:40.677Z"
   },
   {
    "duration": 10,
    "start_time": "2023-08-11T14:39:40.993Z"
   },
   {
    "duration": 187,
    "start_time": "2023-08-11T14:39:41.005Z"
   },
   {
    "duration": 12,
    "start_time": "2023-08-11T14:39:41.193Z"
   },
   {
    "duration": 191,
    "start_time": "2023-08-11T14:39:41.207Z"
   },
   {
    "duration": 34,
    "start_time": "2023-08-11T14:39:41.400Z"
   },
   {
    "duration": 43,
    "start_time": "2023-08-11T14:39:41.436Z"
   },
   {
    "duration": 417,
    "start_time": "2023-08-11T14:39:41.481Z"
   },
   {
    "duration": 21,
    "start_time": "2023-08-11T14:39:41.900Z"
   },
   {
    "duration": 425,
    "start_time": "2023-08-11T14:39:41.923Z"
   },
   {
    "duration": 942,
    "start_time": "2023-08-11T14:39:42.350Z"
   },
   {
    "duration": 3,
    "start_time": "2023-08-11T14:40:11.929Z"
   },
   {
    "duration": 46,
    "start_time": "2023-08-11T14:40:11.935Z"
   },
   {
    "duration": 13,
    "start_time": "2023-08-11T14:40:11.983Z"
   },
   {
    "duration": 42,
    "start_time": "2023-08-11T14:40:11.998Z"
   },
   {
    "duration": 13,
    "start_time": "2023-08-11T14:40:12.042Z"
   },
   {
    "duration": 25,
    "start_time": "2023-08-11T14:40:12.066Z"
   },
   {
    "duration": 17,
    "start_time": "2023-08-11T14:40:12.093Z"
   },
   {
    "duration": 18,
    "start_time": "2023-08-11T14:40:12.112Z"
   },
   {
    "duration": 16,
    "start_time": "2023-08-11T14:40:12.133Z"
   },
   {
    "duration": 7,
    "start_time": "2023-08-11T14:40:12.169Z"
   },
   {
    "duration": 9,
    "start_time": "2023-08-11T14:40:12.179Z"
   },
   {
    "duration": 7,
    "start_time": "2023-08-11T14:40:12.189Z"
   },
   {
    "duration": 11,
    "start_time": "2023-08-11T14:40:12.197Z"
   },
   {
    "duration": 12,
    "start_time": "2023-08-11T14:40:12.210Z"
   },
   {
    "duration": 199,
    "start_time": "2023-08-11T14:40:12.224Z"
   },
   {
    "duration": 6,
    "start_time": "2023-08-11T14:40:12.425Z"
   },
   {
    "duration": 117,
    "start_time": "2023-08-11T14:40:12.433Z"
   },
   {
    "duration": 20,
    "start_time": "2023-08-11T14:40:12.553Z"
   },
   {
    "duration": 184,
    "start_time": "2023-08-11T14:40:12.575Z"
   },
   {
    "duration": 9,
    "start_time": "2023-08-11T14:40:12.768Z"
   },
   {
    "duration": 194,
    "start_time": "2023-08-11T14:40:12.779Z"
   },
   {
    "duration": 11,
    "start_time": "2023-08-11T14:40:12.974Z"
   },
   {
    "duration": 193,
    "start_time": "2023-08-11T14:40:12.986Z"
   },
   {
    "duration": 48,
    "start_time": "2023-08-11T14:40:13.181Z"
   },
   {
    "duration": 41,
    "start_time": "2023-08-11T14:40:13.232Z"
   },
   {
    "duration": 416,
    "start_time": "2023-08-11T14:40:13.275Z"
   },
   {
    "duration": 22,
    "start_time": "2023-08-11T14:40:13.693Z"
   },
   {
    "duration": 481,
    "start_time": "2023-08-11T14:40:13.718Z"
   },
   {
    "duration": 950,
    "start_time": "2023-08-11T14:40:14.204Z"
   },
   {
    "duration": 1063,
    "start_time": "2023-08-11T14:40:42.608Z"
   },
   {
    "duration": 918,
    "start_time": "2023-08-11T14:40:48.360Z"
   },
   {
    "duration": 1044,
    "start_time": "2023-08-11T14:41:13.284Z"
   },
   {
    "duration": 1017,
    "start_time": "2023-08-11T14:41:31.744Z"
   },
   {
    "duration": 963,
    "start_time": "2023-08-11T14:41:42.071Z"
   },
   {
    "duration": 4,
    "start_time": "2023-08-11T14:48:07.829Z"
   },
   {
    "duration": 9,
    "start_time": "2023-08-11T14:50:12.029Z"
   },
   {
    "duration": 3,
    "start_time": "2023-08-11T14:50:17.490Z"
   },
   {
    "duration": 224,
    "start_time": "2023-08-11T14:50:17.973Z"
   },
   {
    "duration": 131,
    "start_time": "2023-08-11T14:50:26.245Z"
   },
   {
    "duration": 131,
    "start_time": "2023-08-11T14:50:32.973Z"
   },
   {
    "duration": 7,
    "start_time": "2023-08-11T14:52:27.089Z"
   },
   {
    "duration": 10,
    "start_time": "2023-08-11T14:52:29.988Z"
   },
   {
    "duration": 9,
    "start_time": "2023-08-11T14:52:41.252Z"
   },
   {
    "duration": 9,
    "start_time": "2023-08-11T14:52:48.262Z"
   },
   {
    "duration": 7,
    "start_time": "2023-08-11T14:52:56.049Z"
   },
   {
    "duration": 9,
    "start_time": "2023-08-11T14:53:01.303Z"
   },
   {
    "duration": 3,
    "start_time": "2023-08-11T15:35:00.515Z"
   },
   {
    "duration": 5,
    "start_time": "2023-08-11T15:35:05.034Z"
   },
   {
    "duration": 12,
    "start_time": "2023-08-11T15:36:34.619Z"
   },
   {
    "duration": 6,
    "start_time": "2023-08-11T15:36:59.229Z"
   },
   {
    "duration": 5,
    "start_time": "2023-08-11T15:37:15.606Z"
   },
   {
    "duration": 5,
    "start_time": "2023-08-11T15:37:29.240Z"
   },
   {
    "duration": 7,
    "start_time": "2023-08-11T15:38:34.588Z"
   },
   {
    "duration": 5,
    "start_time": "2023-08-11T15:43:37.155Z"
   },
   {
    "duration": 14,
    "start_time": "2023-08-11T16:42:35.142Z"
   },
   {
    "duration": 10,
    "start_time": "2023-08-11T16:42:50.065Z"
   },
   {
    "duration": 4,
    "start_time": "2023-08-11T18:42:29.474Z"
   },
   {
    "duration": 49,
    "start_time": "2023-08-11T18:42:29.480Z"
   },
   {
    "duration": 11,
    "start_time": "2023-08-11T18:42:29.530Z"
   },
   {
    "duration": 35,
    "start_time": "2023-08-11T18:42:29.543Z"
   },
   {
    "duration": 10,
    "start_time": "2023-08-11T18:42:29.580Z"
   },
   {
    "duration": 32,
    "start_time": "2023-08-11T18:42:29.592Z"
   },
   {
    "duration": 10,
    "start_time": "2023-08-11T18:42:29.626Z"
   },
   {
    "duration": 15,
    "start_time": "2023-08-11T18:42:29.637Z"
   },
   {
    "duration": 16,
    "start_time": "2023-08-11T18:42:29.654Z"
   },
   {
    "duration": 5,
    "start_time": "2023-08-11T18:42:29.671Z"
   },
   {
    "duration": 5,
    "start_time": "2023-08-11T18:42:29.677Z"
   },
   {
    "duration": 9,
    "start_time": "2023-08-11T18:42:29.683Z"
   },
   {
    "duration": 8,
    "start_time": "2023-08-11T18:42:29.693Z"
   },
   {
    "duration": 4,
    "start_time": "2023-08-11T18:42:29.704Z"
   },
   {
    "duration": 185,
    "start_time": "2023-08-11T18:42:29.710Z"
   },
   {
    "duration": 4,
    "start_time": "2023-08-11T18:42:29.897Z"
   },
   {
    "duration": 110,
    "start_time": "2023-08-11T18:42:29.903Z"
   },
   {
    "duration": 9,
    "start_time": "2023-08-11T18:42:30.015Z"
   },
   {
    "duration": 218,
    "start_time": "2023-08-11T18:42:30.025Z"
   },
   {
    "duration": 9,
    "start_time": "2023-08-11T18:42:30.245Z"
   },
   {
    "duration": 176,
    "start_time": "2023-08-11T18:42:30.255Z"
   },
   {
    "duration": 9,
    "start_time": "2023-08-11T18:42:30.432Z"
   },
   {
    "duration": 188,
    "start_time": "2023-08-11T18:42:30.443Z"
   },
   {
    "duration": 36,
    "start_time": "2023-08-11T18:42:30.633Z"
   },
   {
    "duration": 54,
    "start_time": "2023-08-11T18:42:30.671Z"
   },
   {
    "duration": 445,
    "start_time": "2023-08-11T18:42:30.727Z"
   },
   {
    "duration": 23,
    "start_time": "2023-08-11T18:42:31.174Z"
   },
   {
    "duration": 433,
    "start_time": "2023-08-11T18:42:31.198Z"
   },
   {
    "duration": 921,
    "start_time": "2023-08-11T18:42:31.633Z"
   },
   {
    "duration": 3,
    "start_time": "2023-08-11T18:42:32.555Z"
   },
   {
    "duration": 216,
    "start_time": "2023-08-11T18:42:32.566Z"
   },
   {
    "duration": 8,
    "start_time": "2023-08-11T18:42:32.784Z"
   },
   {
    "duration": 6,
    "start_time": "2023-08-11T18:42:32.793Z"
   },
   {
    "duration": 6,
    "start_time": "2023-08-11T18:42:32.800Z"
   },
   {
    "duration": 15,
    "start_time": "2023-08-11T18:42:32.807Z"
   },
   {
    "duration": 63,
    "start_time": "2023-08-13T16:05:14.089Z"
   },
   {
    "duration": 8,
    "start_time": "2023-08-13T16:05:14.883Z"
   },
   {
    "duration": 1422,
    "start_time": "2023-08-13T16:05:19.787Z"
   },
   {
    "duration": 119,
    "start_time": "2023-08-13T16:05:21.212Z"
   },
   {
    "duration": 17,
    "start_time": "2023-08-13T16:05:21.332Z"
   },
   {
    "duration": 194,
    "start_time": "2023-08-13T16:05:21.351Z"
   },
   {
    "duration": 14,
    "start_time": "2023-08-13T16:05:21.547Z"
   },
   {
    "duration": 63,
    "start_time": "2023-08-13T16:05:21.571Z"
   },
   {
    "duration": 10,
    "start_time": "2023-08-13T16:05:21.635Z"
   },
   {
    "duration": 19,
    "start_time": "2023-08-13T16:05:21.647Z"
   },
   {
    "duration": 17,
    "start_time": "2023-08-13T16:05:21.668Z"
   },
   {
    "duration": 5,
    "start_time": "2023-08-13T16:05:21.692Z"
   },
   {
    "duration": 9,
    "start_time": "2023-08-13T16:05:21.699Z"
   },
   {
    "duration": 17,
    "start_time": "2023-08-13T16:05:21.709Z"
   },
   {
    "duration": 6,
    "start_time": "2023-08-13T16:05:21.728Z"
   },
   {
    "duration": 4,
    "start_time": "2023-08-13T16:05:21.736Z"
   },
   {
    "duration": 187,
    "start_time": "2023-08-13T16:05:21.742Z"
   },
   {
    "duration": 6,
    "start_time": "2023-08-13T16:05:21.931Z"
   },
   {
    "duration": 141,
    "start_time": "2023-08-13T16:05:21.938Z"
   },
   {
    "duration": 12,
    "start_time": "2023-08-13T16:05:22.082Z"
   },
   {
    "duration": 179,
    "start_time": "2023-08-13T16:05:22.096Z"
   },
   {
    "duration": 14,
    "start_time": "2023-08-13T16:05:22.277Z"
   },
   {
    "duration": 183,
    "start_time": "2023-08-13T16:05:22.293Z"
   },
   {
    "duration": 16,
    "start_time": "2023-08-13T16:05:22.478Z"
   },
   {
    "duration": 181,
    "start_time": "2023-08-13T16:05:22.496Z"
   },
   {
    "duration": 37,
    "start_time": "2023-08-13T16:05:22.678Z"
   },
   {
    "duration": 23,
    "start_time": "2023-08-13T16:05:22.717Z"
   },
   {
    "duration": 432,
    "start_time": "2023-08-13T16:05:22.759Z"
   },
   {
    "duration": 20,
    "start_time": "2023-08-13T16:05:23.193Z"
   },
   {
    "duration": 544,
    "start_time": "2023-08-13T16:05:23.216Z"
   },
   {
    "duration": 1023,
    "start_time": "2023-08-13T16:05:23.767Z"
   },
   {
    "duration": 3,
    "start_time": "2023-08-13T16:05:24.793Z"
   },
   {
    "duration": 151,
    "start_time": "2023-08-13T16:05:24.797Z"
   },
   {
    "duration": 13,
    "start_time": "2023-08-13T16:05:24.951Z"
   },
   {
    "duration": 14,
    "start_time": "2023-08-13T16:05:24.966Z"
   },
   {
    "duration": 6,
    "start_time": "2023-08-13T16:05:24.983Z"
   },
   {
    "duration": 10,
    "start_time": "2023-08-13T16:05:24.992Z"
   },
   {
    "duration": 1223,
    "start_time": "2023-08-13T17:38:02.803Z"
   },
   {
    "duration": 42,
    "start_time": "2023-08-13T17:38:04.029Z"
   },
   {
    "duration": 18,
    "start_time": "2023-08-13T17:38:04.073Z"
   },
   {
    "duration": 50,
    "start_time": "2023-08-13T17:38:04.094Z"
   },
   {
    "duration": 18,
    "start_time": "2023-08-13T17:38:04.146Z"
   },
   {
    "duration": 34,
    "start_time": "2023-08-13T17:38:04.166Z"
   },
   {
    "duration": 12,
    "start_time": "2023-08-13T17:38:04.204Z"
   },
   {
    "duration": 17,
    "start_time": "2023-08-13T17:38:04.218Z"
   },
   {
    "duration": 15,
    "start_time": "2023-08-13T17:38:04.237Z"
   },
   {
    "duration": 12,
    "start_time": "2023-08-13T17:38:04.256Z"
   },
   {
    "duration": 27,
    "start_time": "2023-08-13T17:38:04.269Z"
   },
   {
    "duration": 25,
    "start_time": "2023-08-13T17:38:04.298Z"
   },
   {
    "duration": 22,
    "start_time": "2023-08-13T17:38:04.325Z"
   },
   {
    "duration": 11,
    "start_time": "2023-08-13T17:38:04.349Z"
   },
   {
    "duration": 216,
    "start_time": "2023-08-13T17:38:04.361Z"
   },
   {
    "duration": 7,
    "start_time": "2023-08-13T17:38:04.578Z"
   },
   {
    "duration": 121,
    "start_time": "2023-08-13T17:38:04.587Z"
   },
   {
    "duration": 9,
    "start_time": "2023-08-13T17:38:04.710Z"
   },
   {
    "duration": 211,
    "start_time": "2023-08-13T17:38:04.720Z"
   },
   {
    "duration": 10,
    "start_time": "2023-08-13T17:38:04.933Z"
   },
   {
    "duration": 206,
    "start_time": "2023-08-13T17:38:04.944Z"
   },
   {
    "duration": 30,
    "start_time": "2023-08-13T17:38:05.151Z"
   },
   {
    "duration": 176,
    "start_time": "2023-08-13T17:38:05.183Z"
   },
   {
    "duration": 41,
    "start_time": "2023-08-13T17:38:05.361Z"
   },
   {
    "duration": 21,
    "start_time": "2023-08-13T17:38:05.404Z"
   },
   {
    "duration": 426,
    "start_time": "2023-08-13T17:38:05.427Z"
   },
   {
    "duration": 39,
    "start_time": "2023-08-13T17:38:05.855Z"
   },
   {
    "duration": 556,
    "start_time": "2023-08-13T17:38:05.898Z"
   },
   {
    "duration": 1017,
    "start_time": "2023-08-13T17:38:06.456Z"
   },
   {
    "duration": 3,
    "start_time": "2023-08-13T17:38:07.475Z"
   },
   {
    "duration": 156,
    "start_time": "2023-08-13T17:38:07.481Z"
   },
   {
    "duration": 7,
    "start_time": "2023-08-13T17:38:07.638Z"
   },
   {
    "duration": 19,
    "start_time": "2023-08-13T17:38:07.647Z"
   },
   {
    "duration": 12,
    "start_time": "2023-08-13T17:38:07.669Z"
   },
   {
    "duration": 16,
    "start_time": "2023-08-13T17:38:07.683Z"
   },
   {
    "duration": 9,
    "start_time": "2023-08-13T17:45:22.582Z"
   },
   {
    "duration": 1215,
    "start_time": "2023-08-13T17:47:36.588Z"
   },
   {
    "duration": 40,
    "start_time": "2023-08-13T17:47:37.805Z"
   },
   {
    "duration": 12,
    "start_time": "2023-08-13T17:47:37.847Z"
   },
   {
    "duration": 51,
    "start_time": "2023-08-13T17:47:37.861Z"
   },
   {
    "duration": 19,
    "start_time": "2023-08-13T17:47:37.914Z"
   },
   {
    "duration": 26,
    "start_time": "2023-08-13T17:47:37.936Z"
   },
   {
    "duration": 16,
    "start_time": "2023-08-13T17:47:37.964Z"
   },
   {
    "duration": 22,
    "start_time": "2023-08-13T17:47:37.985Z"
   },
   {
    "duration": 23,
    "start_time": "2023-08-13T17:47:38.009Z"
   },
   {
    "duration": 18,
    "start_time": "2023-08-13T17:47:38.035Z"
   },
   {
    "duration": 30,
    "start_time": "2023-08-13T17:47:38.055Z"
   },
   {
    "duration": 13,
    "start_time": "2023-08-13T17:47:38.087Z"
   },
   {
    "duration": 17,
    "start_time": "2023-08-13T17:47:38.102Z"
   },
   {
    "duration": 25,
    "start_time": "2023-08-13T17:47:38.120Z"
   },
   {
    "duration": 237,
    "start_time": "2023-08-13T17:47:38.148Z"
   },
   {
    "duration": 5,
    "start_time": "2023-08-13T17:47:38.387Z"
   },
   {
    "duration": 123,
    "start_time": "2023-08-13T17:47:38.394Z"
   },
   {
    "duration": 8,
    "start_time": "2023-08-13T17:47:38.519Z"
   },
   {
    "duration": 198,
    "start_time": "2023-08-13T17:47:38.529Z"
   },
   {
    "duration": 9,
    "start_time": "2023-08-13T17:47:38.729Z"
   },
   {
    "duration": 204,
    "start_time": "2023-08-13T17:47:38.739Z"
   },
   {
    "duration": 11,
    "start_time": "2023-08-13T17:47:38.944Z"
   },
   {
    "duration": 189,
    "start_time": "2023-08-13T17:47:38.969Z"
   },
   {
    "duration": 52,
    "start_time": "2023-08-13T17:47:39.160Z"
   },
   {
    "duration": 24,
    "start_time": "2023-08-13T17:47:39.214Z"
   },
   {
    "duration": 447,
    "start_time": "2023-08-13T17:47:39.240Z"
   },
   {
    "duration": 24,
    "start_time": "2023-08-13T17:47:39.689Z"
   },
   {
    "duration": 529,
    "start_time": "2023-08-13T17:47:39.716Z"
   },
   {
    "duration": 1007,
    "start_time": "2023-08-13T17:47:40.247Z"
   },
   {
    "duration": 3,
    "start_time": "2023-08-13T17:47:41.256Z"
   },
   {
    "duration": 143,
    "start_time": "2023-08-13T17:47:41.281Z"
   },
   {
    "duration": 9,
    "start_time": "2023-08-13T17:47:41.426Z"
   },
   {
    "duration": 10,
    "start_time": "2023-08-13T17:47:41.437Z"
   },
   {
    "duration": 21,
    "start_time": "2023-08-13T17:47:41.449Z"
   },
   {
    "duration": 24,
    "start_time": "2023-08-13T17:47:41.472Z"
   },
   {
    "duration": 67,
    "start_time": "2023-08-14T11:19:05.597Z"
   },
   {
    "duration": 985,
    "start_time": "2023-08-14T11:19:09.689Z"
   },
   {
    "duration": 37,
    "start_time": "2023-08-14T11:19:10.676Z"
   },
   {
    "duration": 10,
    "start_time": "2023-08-14T11:19:10.715Z"
   },
   {
    "duration": 73,
    "start_time": "2023-08-14T11:19:10.727Z"
   },
   {
    "duration": 11,
    "start_time": "2023-08-14T11:19:10.801Z"
   },
   {
    "duration": 19,
    "start_time": "2023-08-14T11:19:10.814Z"
   },
   {
    "duration": 30,
    "start_time": "2023-08-14T11:19:10.834Z"
   },
   {
    "duration": 18,
    "start_time": "2023-08-14T11:19:10.865Z"
   },
   {
    "duration": 9,
    "start_time": "2023-08-14T11:19:10.885Z"
   },
   {
    "duration": 6,
    "start_time": "2023-08-14T11:19:10.897Z"
   },
   {
    "duration": 17,
    "start_time": "2023-08-14T11:19:10.904Z"
   },
   {
    "duration": 59,
    "start_time": "2023-08-14T11:19:10.922Z"
   },
   {
    "duration": 12,
    "start_time": "2023-08-14T11:19:10.983Z"
   },
   {
    "duration": 5,
    "start_time": "2023-08-14T11:19:10.997Z"
   },
   {
    "duration": 206,
    "start_time": "2023-08-14T11:19:11.003Z"
   },
   {
    "duration": 0,
    "start_time": "2023-08-14T11:19:11.210Z"
   },
   {
    "duration": 0,
    "start_time": "2023-08-14T11:19:11.212Z"
   },
   {
    "duration": 0,
    "start_time": "2023-08-14T11:19:11.215Z"
   },
   {
    "duration": 0,
    "start_time": "2023-08-14T11:19:11.216Z"
   },
   {
    "duration": 0,
    "start_time": "2023-08-14T11:19:11.217Z"
   },
   {
    "duration": 0,
    "start_time": "2023-08-14T11:19:11.218Z"
   },
   {
    "duration": 0,
    "start_time": "2023-08-14T11:19:11.219Z"
   },
   {
    "duration": 0,
    "start_time": "2023-08-14T11:19:11.221Z"
   },
   {
    "duration": 0,
    "start_time": "2023-08-14T11:19:11.243Z"
   },
   {
    "duration": 0,
    "start_time": "2023-08-14T11:19:11.244Z"
   },
   {
    "duration": 0,
    "start_time": "2023-08-14T11:19:11.245Z"
   },
   {
    "duration": 0,
    "start_time": "2023-08-14T11:19:11.246Z"
   },
   {
    "duration": 0,
    "start_time": "2023-08-14T11:19:11.247Z"
   },
   {
    "duration": 0,
    "start_time": "2023-08-14T11:19:11.248Z"
   },
   {
    "duration": 0,
    "start_time": "2023-08-14T11:19:11.248Z"
   },
   {
    "duration": 0,
    "start_time": "2023-08-14T11:19:11.249Z"
   },
   {
    "duration": 0,
    "start_time": "2023-08-14T11:19:11.250Z"
   },
   {
    "duration": 0,
    "start_time": "2023-08-14T11:19:11.250Z"
   },
   {
    "duration": 0,
    "start_time": "2023-08-14T11:19:11.251Z"
   },
   {
    "duration": 0,
    "start_time": "2023-08-14T11:19:11.252Z"
   },
   {
    "duration": 150,
    "start_time": "2023-08-14T11:19:38.661Z"
   },
   {
    "duration": 169,
    "start_time": "2023-08-14T11:20:15.704Z"
   },
   {
    "duration": 167,
    "start_time": "2023-08-14T11:21:04.789Z"
   },
   {
    "duration": 151,
    "start_time": "2023-08-14T11:21:10.854Z"
   },
   {
    "duration": 154,
    "start_time": "2023-08-14T11:21:21.375Z"
   },
   {
    "duration": 2,
    "start_time": "2023-08-14T11:21:30.866Z"
   },
   {
    "duration": 54,
    "start_time": "2023-08-14T11:21:30.870Z"
   },
   {
    "duration": 9,
    "start_time": "2023-08-14T11:21:30.926Z"
   },
   {
    "duration": 67,
    "start_time": "2023-08-14T11:21:30.937Z"
   },
   {
    "duration": 108,
    "start_time": "2023-08-14T11:21:31.006Z"
   },
   {
    "duration": 125,
    "start_time": "2023-08-14T11:21:31.115Z"
   },
   {
    "duration": 40,
    "start_time": "2023-08-14T11:21:31.248Z"
   },
   {
    "duration": 87,
    "start_time": "2023-08-14T11:21:31.290Z"
   },
   {
    "duration": 57,
    "start_time": "2023-08-14T11:21:31.379Z"
   },
   {
    "duration": 70,
    "start_time": "2023-08-14T11:21:31.437Z"
   },
   {
    "duration": 89,
    "start_time": "2023-08-14T11:21:31.509Z"
   },
   {
    "duration": 42,
    "start_time": "2023-08-14T11:21:31.600Z"
   },
   {
    "duration": 59,
    "start_time": "2023-08-14T11:21:31.643Z"
   },
   {
    "duration": 79,
    "start_time": "2023-08-14T11:21:31.703Z"
   },
   {
    "duration": 1518,
    "start_time": "2023-08-14T11:21:31.784Z"
   },
   {
    "duration": 0,
    "start_time": "2023-08-14T11:21:33.304Z"
   },
   {
    "duration": 0,
    "start_time": "2023-08-14T11:21:33.305Z"
   },
   {
    "duration": 0,
    "start_time": "2023-08-14T11:21:33.306Z"
   },
   {
    "duration": 0,
    "start_time": "2023-08-14T11:21:33.307Z"
   },
   {
    "duration": 0,
    "start_time": "2023-08-14T11:21:33.308Z"
   },
   {
    "duration": 0,
    "start_time": "2023-08-14T11:21:33.309Z"
   },
   {
    "duration": 0,
    "start_time": "2023-08-14T11:21:33.310Z"
   },
   {
    "duration": 0,
    "start_time": "2023-08-14T11:21:33.311Z"
   },
   {
    "duration": 0,
    "start_time": "2023-08-14T11:21:33.312Z"
   },
   {
    "duration": 0,
    "start_time": "2023-08-14T11:21:33.313Z"
   },
   {
    "duration": 0,
    "start_time": "2023-08-14T11:21:33.314Z"
   },
   {
    "duration": 0,
    "start_time": "2023-08-14T11:21:33.314Z"
   },
   {
    "duration": 0,
    "start_time": "2023-08-14T11:21:33.315Z"
   },
   {
    "duration": 0,
    "start_time": "2023-08-14T11:21:33.316Z"
   },
   {
    "duration": 0,
    "start_time": "2023-08-14T11:21:33.317Z"
   },
   {
    "duration": 0,
    "start_time": "2023-08-14T11:21:33.318Z"
   },
   {
    "duration": 0,
    "start_time": "2023-08-14T11:21:33.319Z"
   },
   {
    "duration": 0,
    "start_time": "2023-08-14T11:21:33.320Z"
   },
   {
    "duration": 0,
    "start_time": "2023-08-14T11:21:33.320Z"
   },
   {
    "duration": 0,
    "start_time": "2023-08-14T11:21:33.321Z"
   },
   {
    "duration": 160,
    "start_time": "2023-08-14T11:22:09.766Z"
   },
   {
    "duration": 193,
    "start_time": "2023-08-14T11:22:16.528Z"
   },
   {
    "duration": 8,
    "start_time": "2023-08-14T11:22:30.497Z"
   },
   {
    "duration": 11,
    "start_time": "2023-08-14T11:22:33.733Z"
   },
   {
    "duration": 104,
    "start_time": "2023-08-14T11:22:35.166Z"
   },
   {
    "duration": 1510,
    "start_time": "2023-08-14T11:22:53.089Z"
   },
   {
    "duration": 192,
    "start_time": "2023-08-14T11:23:02.970Z"
   },
   {
    "duration": 99,
    "start_time": "2023-08-14T11:23:16.441Z"
   },
   {
    "duration": 95,
    "start_time": "2023-08-14T11:23:45.287Z"
   },
   {
    "duration": 155,
    "start_time": "2023-08-14T11:24:09.270Z"
   },
   {
    "duration": 193,
    "start_time": "2023-08-14T11:24:27.577Z"
   },
   {
    "duration": 252,
    "start_time": "2023-08-14T11:24:35.878Z"
   },
   {
    "duration": 251,
    "start_time": "2023-08-14T11:24:44.561Z"
   },
   {
    "duration": 8,
    "start_time": "2023-08-14T11:24:53.961Z"
   },
   {
    "duration": 150,
    "start_time": "2023-08-14T11:24:55.469Z"
   },
   {
    "duration": 202,
    "start_time": "2023-08-14T11:25:07.792Z"
   },
   {
    "duration": 220,
    "start_time": "2023-08-14T11:25:31.261Z"
   },
   {
    "duration": 272,
    "start_time": "2023-08-14T11:26:00.109Z"
   },
   {
    "duration": 30,
    "start_time": "2023-08-14T11:28:40.165Z"
   },
   {
    "duration": 9,
    "start_time": "2023-08-14T11:30:06.917Z"
   },
   {
    "duration": 3,
    "start_time": "2023-08-14T11:30:10.226Z"
   },
   {
    "duration": 88,
    "start_time": "2023-08-14T11:30:10.230Z"
   },
   {
    "duration": 9,
    "start_time": "2023-08-14T11:30:10.319Z"
   },
   {
    "duration": 55,
    "start_time": "2023-08-14T11:30:10.330Z"
   },
   {
    "duration": 10,
    "start_time": "2023-08-14T11:30:10.386Z"
   },
   {
    "duration": 20,
    "start_time": "2023-08-14T11:30:10.397Z"
   },
   {
    "duration": 9,
    "start_time": "2023-08-14T11:30:10.418Z"
   },
   {
    "duration": 31,
    "start_time": "2023-08-14T11:30:10.428Z"
   },
   {
    "duration": 18,
    "start_time": "2023-08-14T11:30:10.467Z"
   },
   {
    "duration": 11,
    "start_time": "2023-08-14T11:30:10.487Z"
   },
   {
    "duration": 16,
    "start_time": "2023-08-14T11:30:10.500Z"
   },
   {
    "duration": 7,
    "start_time": "2023-08-14T11:30:10.517Z"
   },
   {
    "duration": 30,
    "start_time": "2023-08-14T11:30:10.526Z"
   },
   {
    "duration": 10,
    "start_time": "2023-08-14T11:30:10.559Z"
   },
   {
    "duration": 187,
    "start_time": "2023-08-14T11:30:10.570Z"
   },
   {
    "duration": 5,
    "start_time": "2023-08-14T11:30:10.765Z"
   },
   {
    "duration": 117,
    "start_time": "2023-08-14T11:30:10.771Z"
   },
   {
    "duration": 6,
    "start_time": "2023-08-14T11:30:10.889Z"
   },
   {
    "duration": 173,
    "start_time": "2023-08-14T11:30:10.897Z"
   },
   {
    "duration": 8,
    "start_time": "2023-08-14T11:30:11.071Z"
   },
   {
    "duration": 209,
    "start_time": "2023-08-14T11:30:11.080Z"
   },
   {
    "duration": 8,
    "start_time": "2023-08-14T11:30:11.291Z"
   },
   {
    "duration": 265,
    "start_time": "2023-08-14T11:30:11.300Z"
   },
   {
    "duration": 29,
    "start_time": "2023-08-14T11:30:11.569Z"
   },
   {
    "duration": 18,
    "start_time": "2023-08-14T11:30:11.600Z"
   },
   {
    "duration": 379,
    "start_time": "2023-08-14T11:30:11.619Z"
   },
   {
    "duration": 20,
    "start_time": "2023-08-14T11:30:11.999Z"
   },
   {
    "duration": 450,
    "start_time": "2023-08-14T11:30:12.020Z"
   },
   {
    "duration": 956,
    "start_time": "2023-08-14T11:30:12.471Z"
   },
   {
    "duration": 3,
    "start_time": "2023-08-14T11:30:13.429Z"
   },
   {
    "duration": 176,
    "start_time": "2023-08-14T11:30:13.437Z"
   },
   {
    "duration": 6,
    "start_time": "2023-08-14T11:30:13.614Z"
   },
   {
    "duration": 5,
    "start_time": "2023-08-14T11:30:13.621Z"
   },
   {
    "duration": 9,
    "start_time": "2023-08-14T11:30:13.627Z"
   },
   {
    "duration": 32,
    "start_time": "2023-08-14T11:30:13.644Z"
   },
   {
    "duration": 3,
    "start_time": "2023-08-14T11:34:12.207Z"
   },
   {
    "duration": 4,
    "start_time": "2023-08-14T11:35:06.762Z"
   },
   {
    "duration": 4,
    "start_time": "2023-08-14T11:36:43.574Z"
   },
   {
    "duration": 5,
    "start_time": "2023-08-14T11:37:25.524Z"
   },
   {
    "duration": 3,
    "start_time": "2023-08-14T11:40:08.286Z"
   },
   {
    "duration": 37,
    "start_time": "2023-08-14T11:40:08.291Z"
   },
   {
    "duration": 17,
    "start_time": "2023-08-14T11:40:08.330Z"
   },
   {
    "duration": 52,
    "start_time": "2023-08-14T11:40:08.348Z"
   },
   {
    "duration": 10,
    "start_time": "2023-08-14T11:40:08.402Z"
   },
   {
    "duration": 48,
    "start_time": "2023-08-14T11:40:08.413Z"
   },
   {
    "duration": 12,
    "start_time": "2023-08-14T11:40:08.462Z"
   },
   {
    "duration": 14,
    "start_time": "2023-08-14T11:40:08.476Z"
   },
   {
    "duration": 11,
    "start_time": "2023-08-14T11:40:08.492Z"
   },
   {
    "duration": 8,
    "start_time": "2023-08-14T11:40:08.504Z"
   },
   {
    "duration": 8,
    "start_time": "2023-08-14T11:40:08.514Z"
   },
   {
    "duration": 10,
    "start_time": "2023-08-14T11:40:08.523Z"
   },
   {
    "duration": 40,
    "start_time": "2023-08-14T11:40:08.534Z"
   },
   {
    "duration": 8,
    "start_time": "2023-08-14T11:40:08.576Z"
   },
   {
    "duration": 180,
    "start_time": "2023-08-14T11:40:08.586Z"
   },
   {
    "duration": 4,
    "start_time": "2023-08-14T11:40:08.768Z"
   },
   {
    "duration": 98,
    "start_time": "2023-08-14T11:40:08.774Z"
   },
   {
    "duration": 7,
    "start_time": "2023-08-14T11:40:08.874Z"
   },
   {
    "duration": 181,
    "start_time": "2023-08-14T11:40:08.882Z"
   },
   {
    "duration": 7,
    "start_time": "2023-08-14T11:40:09.066Z"
   },
   {
    "duration": 219,
    "start_time": "2023-08-14T11:40:09.074Z"
   },
   {
    "duration": 8,
    "start_time": "2023-08-14T11:40:09.294Z"
   },
   {
    "duration": 200,
    "start_time": "2023-08-14T11:40:09.304Z"
   },
   {
    "duration": 55,
    "start_time": "2023-08-14T11:40:09.506Z"
   },
   {
    "duration": 4,
    "start_time": "2023-08-14T11:40:09.563Z"
   },
   {
    "duration": 21,
    "start_time": "2023-08-14T11:40:09.569Z"
   },
   {
    "duration": 393,
    "start_time": "2023-08-14T11:40:09.592Z"
   },
   {
    "duration": 20,
    "start_time": "2023-08-14T11:40:09.987Z"
   },
   {
    "duration": 358,
    "start_time": "2023-08-14T11:40:10.009Z"
   },
   {
    "duration": 928,
    "start_time": "2023-08-14T11:40:10.369Z"
   },
   {
    "duration": 3,
    "start_time": "2023-08-14T11:40:11.298Z"
   },
   {
    "duration": 152,
    "start_time": "2023-08-14T11:40:11.302Z"
   },
   {
    "duration": 10,
    "start_time": "2023-08-14T11:40:11.455Z"
   },
   {
    "duration": 15,
    "start_time": "2023-08-14T11:40:11.466Z"
   },
   {
    "duration": 7,
    "start_time": "2023-08-14T11:40:11.482Z"
   },
   {
    "duration": 15,
    "start_time": "2023-08-14T11:40:11.490Z"
   },
   {
    "duration": 3,
    "start_time": "2023-08-14T11:41:28.865Z"
   },
   {
    "duration": 43,
    "start_time": "2023-08-14T11:41:28.870Z"
   },
   {
    "duration": 9,
    "start_time": "2023-08-14T11:41:28.915Z"
   },
   {
    "duration": 63,
    "start_time": "2023-08-14T11:41:28.925Z"
   },
   {
    "duration": 9,
    "start_time": "2023-08-14T11:41:28.990Z"
   },
   {
    "duration": 21,
    "start_time": "2023-08-14T11:41:29.000Z"
   },
   {
    "duration": 9,
    "start_time": "2023-08-14T11:41:29.023Z"
   },
   {
    "duration": 28,
    "start_time": "2023-08-14T11:41:29.033Z"
   },
   {
    "duration": 24,
    "start_time": "2023-08-14T11:41:29.062Z"
   },
   {
    "duration": 7,
    "start_time": "2023-08-14T11:41:29.087Z"
   },
   {
    "duration": 6,
    "start_time": "2023-08-14T11:41:29.095Z"
   },
   {
    "duration": 5,
    "start_time": "2023-08-14T11:41:29.103Z"
   },
   {
    "duration": 6,
    "start_time": "2023-08-14T11:41:29.109Z"
   },
   {
    "duration": 8,
    "start_time": "2023-08-14T11:41:29.117Z"
   },
   {
    "duration": 234,
    "start_time": "2023-08-14T11:41:29.126Z"
   },
   {
    "duration": 5,
    "start_time": "2023-08-14T11:41:29.361Z"
   },
   {
    "duration": 102,
    "start_time": "2023-08-14T11:41:29.368Z"
   },
   {
    "duration": 7,
    "start_time": "2023-08-14T11:41:29.472Z"
   },
   {
    "duration": 179,
    "start_time": "2023-08-14T11:41:29.481Z"
   },
   {
    "duration": 9,
    "start_time": "2023-08-14T11:41:29.665Z"
   },
   {
    "duration": 209,
    "start_time": "2023-08-14T11:41:29.676Z"
   },
   {
    "duration": 8,
    "start_time": "2023-08-14T11:41:29.887Z"
   },
   {
    "duration": 216,
    "start_time": "2023-08-14T11:41:29.897Z"
   },
   {
    "duration": 50,
    "start_time": "2023-08-14T11:41:30.115Z"
   },
   {
    "duration": 20,
    "start_time": "2023-08-14T11:41:30.167Z"
   },
   {
    "duration": 64,
    "start_time": "2023-08-14T11:41:30.188Z"
   },
   {
    "duration": 363,
    "start_time": "2023-08-14T11:41:30.253Z"
   },
   {
    "duration": 48,
    "start_time": "2023-08-14T11:41:30.617Z"
   },
   {
    "duration": 425,
    "start_time": "2023-08-14T11:41:30.666Z"
   },
   {
    "duration": 1275,
    "start_time": "2023-08-14T11:41:31.092Z"
   },
   {
    "duration": 7,
    "start_time": "2023-08-14T11:41:32.369Z"
   },
   {
    "duration": 371,
    "start_time": "2023-08-14T11:41:32.378Z"
   },
   {
    "duration": 7,
    "start_time": "2023-08-14T11:41:32.751Z"
   },
   {
    "duration": 19,
    "start_time": "2023-08-14T11:41:32.762Z"
   },
   {
    "duration": 20,
    "start_time": "2023-08-14T11:41:32.783Z"
   },
   {
    "duration": 22,
    "start_time": "2023-08-14T11:41:32.845Z"
   },
   {
    "duration": 4,
    "start_time": "2023-08-14T11:48:16.877Z"
   },
   {
    "duration": 4,
    "start_time": "2023-08-14T11:48:22.198Z"
   },
   {
    "duration": 5,
    "start_time": "2023-08-14T11:54:27.328Z"
   },
   {
    "duration": 1639,
    "start_time": "2023-08-15T13:47:58.470Z"
   },
   {
    "duration": 130,
    "start_time": "2023-08-15T13:48:00.112Z"
   },
   {
    "duration": 19,
    "start_time": "2023-08-15T13:48:00.244Z"
   },
   {
    "duration": 250,
    "start_time": "2023-08-15T13:48:00.265Z"
   },
   {
    "duration": 17,
    "start_time": "2023-08-15T13:48:00.517Z"
   },
   {
    "duration": 153,
    "start_time": "2023-08-15T13:48:00.537Z"
   },
   {
    "duration": 11,
    "start_time": "2023-08-15T13:48:00.692Z"
   },
   {
    "duration": 41,
    "start_time": "2023-08-15T13:48:00.704Z"
   },
   {
    "duration": 56,
    "start_time": "2023-08-15T13:48:00.746Z"
   },
   {
    "duration": 21,
    "start_time": "2023-08-15T13:48:00.805Z"
   },
   {
    "duration": 66,
    "start_time": "2023-08-15T13:48:00.828Z"
   },
   {
    "duration": 23,
    "start_time": "2023-08-15T13:48:00.897Z"
   },
   {
    "duration": 51,
    "start_time": "2023-08-15T13:48:00.922Z"
   },
   {
    "duration": 29,
    "start_time": "2023-08-15T13:48:00.976Z"
   },
   {
    "duration": 222,
    "start_time": "2023-08-15T13:48:01.007Z"
   },
   {
    "duration": 5,
    "start_time": "2023-08-15T13:48:01.232Z"
   },
   {
    "duration": 223,
    "start_time": "2023-08-15T13:48:01.249Z"
   },
   {
    "duration": 9,
    "start_time": "2023-08-15T13:48:01.474Z"
   },
   {
    "duration": 253,
    "start_time": "2023-08-15T13:48:01.485Z"
   },
   {
    "duration": 17,
    "start_time": "2023-08-15T13:48:01.740Z"
   },
   {
    "duration": 269,
    "start_time": "2023-08-15T13:48:01.767Z"
   },
   {
    "duration": 24,
    "start_time": "2023-08-15T13:48:02.038Z"
   },
   {
    "duration": 262,
    "start_time": "2023-08-15T13:48:02.064Z"
   },
   {
    "duration": 57,
    "start_time": "2023-08-15T13:48:02.328Z"
   },
   {
    "duration": 4,
    "start_time": "2023-08-15T13:48:02.387Z"
   },
   {
    "duration": 48,
    "start_time": "2023-08-15T13:48:02.393Z"
   },
   {
    "duration": 418,
    "start_time": "2023-08-15T13:48:02.444Z"
   },
   {
    "duration": 33,
    "start_time": "2023-08-15T13:48:02.867Z"
   },
   {
    "duration": 514,
    "start_time": "2023-08-15T13:48:02.902Z"
   },
   {
    "duration": 914,
    "start_time": "2023-08-15T13:48:03.418Z"
   },
   {
    "duration": 3,
    "start_time": "2023-08-15T13:48:04.334Z"
   },
   {
    "duration": 156,
    "start_time": "2023-08-15T13:48:04.339Z"
   },
   {
    "duration": 8,
    "start_time": "2023-08-15T13:48:04.497Z"
   },
   {
    "duration": 7,
    "start_time": "2023-08-15T13:48:04.507Z"
   },
   {
    "duration": 6,
    "start_time": "2023-08-15T13:48:04.516Z"
   },
   {
    "duration": 40,
    "start_time": "2023-08-15T13:48:04.524Z"
   },
   {
    "duration": 10,
    "start_time": "2023-08-15T13:51:16.953Z"
   },
   {
    "duration": 50,
    "start_time": "2024-04-15T20:27:57.818Z"
   },
   {
    "duration": 1353,
    "start_time": "2024-04-15T20:28:03.864Z"
   },
   {
    "duration": 86,
    "start_time": "2024-04-15T20:28:05.219Z"
   },
   {
    "duration": 12,
    "start_time": "2024-04-15T20:28:05.306Z"
   },
   {
    "duration": 94,
    "start_time": "2024-04-15T20:28:05.320Z"
   },
   {
    "duration": 11,
    "start_time": "2024-04-15T20:28:05.416Z"
   },
   {
    "duration": 74,
    "start_time": "2024-04-15T20:28:05.428Z"
   },
   {
    "duration": 10,
    "start_time": "2024-04-15T20:28:05.503Z"
   },
   {
    "duration": 14,
    "start_time": "2024-04-15T20:28:05.515Z"
   },
   {
    "duration": 10,
    "start_time": "2024-04-15T20:28:05.531Z"
   },
   {
    "duration": 5,
    "start_time": "2024-04-15T20:28:05.542Z"
   },
   {
    "duration": 11,
    "start_time": "2024-04-15T20:28:05.549Z"
   },
   {
    "duration": 22,
    "start_time": "2024-04-15T20:28:05.562Z"
   },
   {
    "duration": 14,
    "start_time": "2024-04-15T20:28:05.586Z"
   },
   {
    "duration": 4,
    "start_time": "2024-04-15T20:28:05.603Z"
   },
   {
    "duration": 214,
    "start_time": "2024-04-15T20:28:05.609Z"
   },
   {
    "duration": 6,
    "start_time": "2024-04-15T20:28:05.825Z"
   },
   {
    "duration": 110,
    "start_time": "2024-04-15T20:28:05.833Z"
   },
   {
    "duration": 17,
    "start_time": "2024-04-15T20:28:05.945Z"
   },
   {
    "duration": 197,
    "start_time": "2024-04-15T20:28:05.963Z"
   },
   {
    "duration": 11,
    "start_time": "2024-04-15T20:28:06.162Z"
   },
   {
    "duration": 242,
    "start_time": "2024-04-15T20:28:06.175Z"
   },
   {
    "duration": 9,
    "start_time": "2024-04-15T20:28:06.419Z"
   },
   {
    "duration": 249,
    "start_time": "2024-04-15T20:28:06.430Z"
   },
   {
    "duration": 42,
    "start_time": "2024-04-15T20:28:06.681Z"
   },
   {
    "duration": 5,
    "start_time": "2024-04-15T20:28:06.725Z"
   },
   {
    "duration": 60,
    "start_time": "2024-04-15T20:28:06.732Z"
   },
   {
    "duration": 512,
    "start_time": "2024-04-15T20:28:06.794Z"
   },
   {
    "duration": 30,
    "start_time": "2024-04-15T20:28:07.309Z"
   },
   {
    "duration": 449,
    "start_time": "2024-04-15T20:28:07.341Z"
   },
   {
    "duration": 923,
    "start_time": "2024-04-15T20:28:07.792Z"
   },
   {
    "duration": 3,
    "start_time": "2024-04-15T20:28:08.717Z"
   },
   {
    "duration": 140,
    "start_time": "2024-04-15T20:28:08.722Z"
   },
   {
    "duration": 7,
    "start_time": "2024-04-15T20:28:08.864Z"
   },
   {
    "duration": 21,
    "start_time": "2024-04-15T20:28:08.873Z"
   },
   {
    "duration": 26,
    "start_time": "2024-04-15T20:28:08.895Z"
   },
   {
    "duration": 11,
    "start_time": "2024-04-15T20:28:08.922Z"
   },
   {
    "duration": 11,
    "start_time": "2024-04-15T20:28:41.681Z"
   },
   {
    "duration": 8,
    "start_time": "2024-04-15T20:28:51.818Z"
   },
   {
    "duration": 9,
    "start_time": "2024-04-15T20:29:15.434Z"
   }
  ],
  "kernelspec": {
   "display_name": "Python 3 (ipykernel)",
   "language": "python",
   "name": "python3"
  },
  "language_info": {
   "codemirror_mode": {
    "name": "ipython",
    "version": 3
   },
   "file_extension": ".py",
   "mimetype": "text/x-python",
   "name": "python",
   "nbconvert_exporter": "python",
   "pygments_lexer": "ipython3",
   "version": "3.9.5"
  },
  "toc": {
   "base_numbering": 1,
   "nav_menu": {},
   "number_sections": true,
   "sideBar": true,
   "skip_h1_title": true,
   "title_cell": "Table of Contents",
   "title_sidebar": "Contents",
   "toc_cell": false,
   "toc_position": {},
   "toc_section_display": true,
   "toc_window_display": true
  }
 },
 "nbformat": 4,
 "nbformat_minor": 5
}

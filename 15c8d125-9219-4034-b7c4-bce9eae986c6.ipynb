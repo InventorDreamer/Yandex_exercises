{
 "cells": [
  {
   "cell_type": "markdown",
   "id": "ab3d0fd4",
   "metadata": {},
   "source": [
    "## **Комментарий ревьюера**\n",
    "\n",
    "Привет 👋\n",
    "\n",
    "Меня зовут Валентин, и я буду проверять твой проект. Предлагаю сразу договориться общаться на «ты», если для тебя это не уместно, то дай, пожалуйста, знать, будем общаться на «вы».\n",
    "\n",
    "### **Краткое резюме по ревью**\n",
    "\n",
    "<div style=\"border-radius: 15px; box-shadow: 2px 2px 4px; border: 1px solid; background:Gainsboro; padding: 20px\">\n",
    "        \n",
    "Видны твои старания при работе над данным проектом. Большинство основных этапов в работе сделано хорошо:\n",
    "- есть много сильных и интересных алгоритмов 🤩\n",
    "- детально изучены многие тонкости данных\n",
    "- здорово сделана предобработка данных\n",
    "- качественно исследованы данные\n",
    "- сделано много верных промежуточных выводов, основанных на полученных данных\n",
    "\n",
    "Твоего внимания требует:\n",
    "- пересмотр вывода\n",
    "\n",
    "Я описал замечания в комментариях, которые помечены цветом(красным, желтым), после их доработки я смогу принять работу.\n",
    "    \n",
    "Спасибо тебе за твой труд! Я на все 100% уверен, что у тебя все получится, и с нетерпением буду ждать твою работу на повторное ревью 😉\n",
    "\n",
    "</div>\n",
    "\n",
    "### **PS:**\n",
    "\n",
    "Хочу поделиться дополнительным материалом, он бесплатный, но объемный(может уйти несколько месяцев):\n",
    "- У Тимофея Хирьянова есть [Плей-лист по алгоритмам на python](https://www.youtube.com/playlist?list=PLRDzFCPr95fK7tr47883DFUbm4GeOjjc0), это вроде просто видео-лекции, но в описании есть ссылка на лекции и практику, не стесняйся смотреть, преподаватель очень наглядно объясняет материал. На первых уроках задания могут показаться сложными, так как требует знания геометрии, не стесняйся проходить далее, будет проще)\n",
    "\n",
    "### **Правила оформления:**\n",
    "\n",
    "По ходу тетрадки ты найдешь комментарии к проекту, они будут в отдельных ячейках Markdown с заголовком «Комментарий ревьюера». Постарайся учесть эти комментарии для дальнейших проектов. Я использую заголовки в комментариях, они изменят твое оглавление. Но тебе будет удобно перемещаться от комментария к комментарию. А перед перемещением проекта в портфолио просто уберешь данные комментарии.\n",
    "\n",
    "Пожалуйста, **не перемещай, не изменяй и не удаляй мои комментарии**. Всё это поможет выполнить повторную проверку твоего проекта быстрее.\n",
    "\n",
    "Я буду красить комментарии цветом:\n",
    "\n",
    "<div class=\"alert alert-danger\"; style=\"border-left: 7px solid FireBrick\">\n",
    "<h4> ❌ <font color=\"FireBrick\">Комментарий ревьюера (красный)</font></h4>\n",
    "\n",
    "Такой комментарий нужно исправить обязательно, он критически влияет на удачное выполнение проекта.\n",
    "\n",
    "Также жду от тебя комментарии, где вкратце опишешь изменения, которые были внесены.\n",
    "</div>\n",
    "\n",
    "<div class=\"alert alert-warning\"; style=\"border-left: 7px solid Gold\">\n",
    "<h4> ⚠️ <font color=\"DarkGoldenRod\">Комментарий ревьюера (желтый)</font></h4>\n",
    "\n",
    "Такой комментарий является рекомендацией или советом. Можешь использовать их на своё усмотрение.\n",
    "    \n",
    "В случае изменений кода, опиши, пожалуйста, вкратце то, что изменилось. Если изменений не было, то просто опиши свои мысли на эту тему.\n",
    "</div>\n",
    "\n",
    "<div class=\"alert alert-success\"; style=\"border-left: 7px solid green\">\n",
    "<h4> ✔️ <font color=\"green\">Комментарий ревьюера (зеленый)</font></h4>\n",
    "\n",
    "Такой комментарий говорит о том, что было сделано что-то качественное и правильное 😃\n",
    "    \n",
    "Я не буду ждать твоего комментария, но буду ему очень рад 🤗\n",
    "</div>\n",
    "\n",
    "Чтобы мы были на одной волне, рекомендую общаться в том же стиле 😊 Твои ответы на мои комментарии будут подкрашиваться в синий цвет.\n",
    "\n",
    "Ниже я оформил образец для твоего удобства, тебе остается только добавить после моего комментария ячейку с типом **Markdown**, скопировать туда код(чтобы увидеть код дважды, кликни на ячейку) из образца и написать свои мысли по поводу комментария."
   ]
  },
  {
   "cell_type": "markdown",
   "id": "ad07245f",
   "metadata": {},
   "source": [
    "<div class=\"alert alert-info\"; style=\"border-left: 7px solid SteelBlue\">\n",
    "<h5>🎓 <font color=\"SteelBlue\">Комментарий от студента (синий)</font></h5>    \n",
    "\n",
    "Напиши здесь свои мысли и идеи по поводу комментария ревьюера.\n",
    "\n",
    "</div>"
   ]
  },
  {
   "cell_type": "markdown",
   "id": "24469c2d",
   "metadata": {},
   "source": [
    "## **Комментарий ревьюера v2**\n",
    "\n",
    "### **Краткое резюме по ревью**\n",
    "<div style=\"border-radius: 15px; box-shadow: 2px 2px 4px; border: 1px solid; background:Gainsboro; padding: 20px\">\n",
    "\n",
    "Молодец, исправлено:\n",
    "- пересмотр вывода\n",
    "\n",
    "Спасибо тебе за твой труд! Я готов принять работу. Успехов в дальнейшем обучении!\n",
    "\n",
    "</div>"
   ]
  },
  {
   "cell_type": "markdown",
   "id": "0d8841bb",
   "metadata": {
    "deletable": false,
    "editable": false,
    "id": "c81daeeb"
   },
   "source": [
    "# Исследование надежности заемщиков\n"
   ]
  },
  {
   "cell_type": "markdown",
   "id": "187bf38e",
   "metadata": {
    "deletable": false,
    "editable": false,
    "id": "827c20bf"
   },
   "source": [
    "Во второй части проекта вы выполните шаги 3 и 4. Их вручную проверит ревьюер.\n",
    "Чтобы вам не пришлось писать код заново для шагов 1 и 2, мы добавили авторские решения в ячейки с кодом. \n",
    "\n"
   ]
  },
  {
   "cell_type": "markdown",
   "id": "5f88fbe3",
   "metadata": {
    "deletable": false,
    "editable": false,
    "id": "744d7639"
   },
   "source": [
    "## Откройте таблицу и изучите общую информацию о данных"
   ]
  },
  {
   "cell_type": "markdown",
   "id": "5ff879c9",
   "metadata": {
    "deletable": false,
    "editable": false,
    "id": "e7a14c31"
   },
   "source": [
    "**Задание 1. Импортируйте библиотеку pandas. Считайте данные из csv-файла в датафрейм и сохраните в переменную `data`. Путь к файлу:**\n",
    "\n",
    "`/datasets/data.csv`"
   ]
  },
  {
   "cell_type": "markdown",
   "id": "dc2771df",
   "metadata": {},
   "source": [
    "<div class=\"alert alert-warning\"; style=\"border-left: 7px solid Gold\">\n",
    "<h5> ⚠️ <font color=\"DarkGoldenRod\">Комментарий ревьюера (желтый)</font></h5>\n",
    "\n",
    "Я вижу, что ячейки в твоей тетрадке начинаются не с 1. Перед отправкой проекта стоит проверять работоспособность кода — это можно сделать, нажав на панели Jupiter Hub ``Kernel`` и ``Restart & Run All`` (см скриншот ниже).\n",
    "\n",
    "![](https://i.postimg.cc/yd19rYf6/Screenshot-428.png)\n",
    "\n",
    "</div>"
   ]
  },
  {
   "cell_type": "code",
   "execution_count": 1,
   "id": "58b31f01",
   "metadata": {
    "deletable": false,
    "id": "7bcf75c9"
   },
   "outputs": [],
   "source": [
    "import pandas as pd\n",
    "\n",
    "try:\n",
    "    data = pd.read_csv('/datasets/data.csv')\n",
    "except:\n",
    "    data = pd.read_csv('https://code.s3.yandex.net/datasets/data.csv')"
   ]
  },
  {
   "cell_type": "markdown",
   "id": "3d1c39e8",
   "metadata": {
    "deletable": false,
    "editable": false,
    "id": "b8038fe3"
   },
   "source": [
    "**Задание 2. Выведите первые 20 строчек датафрейма `data` на экран.**"
   ]
  },
  {
   "cell_type": "code",
   "execution_count": 2,
   "id": "7f4acc5f",
   "metadata": {
    "deletable": false,
    "id": "2a7cab99",
    "outputId": "1a8f3ef2-d323-4ec2-ddf7-89670b5944c4"
   },
   "outputs": [
    {
     "data": {
      "text/html": [
       "<div>\n",
       "<style scoped>\n",
       "    .dataframe tbody tr th:only-of-type {\n",
       "        vertical-align: middle;\n",
       "    }\n",
       "\n",
       "    .dataframe tbody tr th {\n",
       "        vertical-align: top;\n",
       "    }\n",
       "\n",
       "    .dataframe thead th {\n",
       "        text-align: right;\n",
       "    }\n",
       "</style>\n",
       "<table border=\"1\" class=\"dataframe\">\n",
       "  <thead>\n",
       "    <tr style=\"text-align: right;\">\n",
       "      <th></th>\n",
       "      <th>children</th>\n",
       "      <th>days_employed</th>\n",
       "      <th>dob_years</th>\n",
       "      <th>education</th>\n",
       "      <th>education_id</th>\n",
       "      <th>family_status</th>\n",
       "      <th>family_status_id</th>\n",
       "      <th>gender</th>\n",
       "      <th>income_type</th>\n",
       "      <th>debt</th>\n",
       "      <th>total_income</th>\n",
       "      <th>purpose</th>\n",
       "    </tr>\n",
       "  </thead>\n",
       "  <tbody>\n",
       "    <tr>\n",
       "      <th>0</th>\n",
       "      <td>1</td>\n",
       "      <td>-8437.673028</td>\n",
       "      <td>42</td>\n",
       "      <td>высшее</td>\n",
       "      <td>0</td>\n",
       "      <td>женат / замужем</td>\n",
       "      <td>0</td>\n",
       "      <td>F</td>\n",
       "      <td>сотрудник</td>\n",
       "      <td>0</td>\n",
       "      <td>253875.639453</td>\n",
       "      <td>покупка жилья</td>\n",
       "    </tr>\n",
       "    <tr>\n",
       "      <th>1</th>\n",
       "      <td>1</td>\n",
       "      <td>-4024.803754</td>\n",
       "      <td>36</td>\n",
       "      <td>среднее</td>\n",
       "      <td>1</td>\n",
       "      <td>женат / замужем</td>\n",
       "      <td>0</td>\n",
       "      <td>F</td>\n",
       "      <td>сотрудник</td>\n",
       "      <td>0</td>\n",
       "      <td>112080.014102</td>\n",
       "      <td>приобретение автомобиля</td>\n",
       "    </tr>\n",
       "    <tr>\n",
       "      <th>2</th>\n",
       "      <td>0</td>\n",
       "      <td>-5623.422610</td>\n",
       "      <td>33</td>\n",
       "      <td>Среднее</td>\n",
       "      <td>1</td>\n",
       "      <td>женат / замужем</td>\n",
       "      <td>0</td>\n",
       "      <td>M</td>\n",
       "      <td>сотрудник</td>\n",
       "      <td>0</td>\n",
       "      <td>145885.952297</td>\n",
       "      <td>покупка жилья</td>\n",
       "    </tr>\n",
       "    <tr>\n",
       "      <th>3</th>\n",
       "      <td>3</td>\n",
       "      <td>-4124.747207</td>\n",
       "      <td>32</td>\n",
       "      <td>среднее</td>\n",
       "      <td>1</td>\n",
       "      <td>женат / замужем</td>\n",
       "      <td>0</td>\n",
       "      <td>M</td>\n",
       "      <td>сотрудник</td>\n",
       "      <td>0</td>\n",
       "      <td>267628.550329</td>\n",
       "      <td>дополнительное образование</td>\n",
       "    </tr>\n",
       "    <tr>\n",
       "      <th>4</th>\n",
       "      <td>0</td>\n",
       "      <td>340266.072047</td>\n",
       "      <td>53</td>\n",
       "      <td>среднее</td>\n",
       "      <td>1</td>\n",
       "      <td>гражданский брак</td>\n",
       "      <td>1</td>\n",
       "      <td>F</td>\n",
       "      <td>пенсионер</td>\n",
       "      <td>0</td>\n",
       "      <td>158616.077870</td>\n",
       "      <td>сыграть свадьбу</td>\n",
       "    </tr>\n",
       "    <tr>\n",
       "      <th>5</th>\n",
       "      <td>0</td>\n",
       "      <td>-926.185831</td>\n",
       "      <td>27</td>\n",
       "      <td>высшее</td>\n",
       "      <td>0</td>\n",
       "      <td>гражданский брак</td>\n",
       "      <td>1</td>\n",
       "      <td>M</td>\n",
       "      <td>компаньон</td>\n",
       "      <td>0</td>\n",
       "      <td>255763.565419</td>\n",
       "      <td>покупка жилья</td>\n",
       "    </tr>\n",
       "    <tr>\n",
       "      <th>6</th>\n",
       "      <td>0</td>\n",
       "      <td>-2879.202052</td>\n",
       "      <td>43</td>\n",
       "      <td>высшее</td>\n",
       "      <td>0</td>\n",
       "      <td>женат / замужем</td>\n",
       "      <td>0</td>\n",
       "      <td>F</td>\n",
       "      <td>компаньон</td>\n",
       "      <td>0</td>\n",
       "      <td>240525.971920</td>\n",
       "      <td>операции с жильем</td>\n",
       "    </tr>\n",
       "    <tr>\n",
       "      <th>7</th>\n",
       "      <td>0</td>\n",
       "      <td>-152.779569</td>\n",
       "      <td>50</td>\n",
       "      <td>СРЕДНЕЕ</td>\n",
       "      <td>1</td>\n",
       "      <td>женат / замужем</td>\n",
       "      <td>0</td>\n",
       "      <td>M</td>\n",
       "      <td>сотрудник</td>\n",
       "      <td>0</td>\n",
       "      <td>135823.934197</td>\n",
       "      <td>образование</td>\n",
       "    </tr>\n",
       "    <tr>\n",
       "      <th>8</th>\n",
       "      <td>2</td>\n",
       "      <td>-6929.865299</td>\n",
       "      <td>35</td>\n",
       "      <td>ВЫСШЕЕ</td>\n",
       "      <td>0</td>\n",
       "      <td>гражданский брак</td>\n",
       "      <td>1</td>\n",
       "      <td>F</td>\n",
       "      <td>сотрудник</td>\n",
       "      <td>0</td>\n",
       "      <td>95856.832424</td>\n",
       "      <td>на проведение свадьбы</td>\n",
       "    </tr>\n",
       "    <tr>\n",
       "      <th>9</th>\n",
       "      <td>0</td>\n",
       "      <td>-2188.756445</td>\n",
       "      <td>41</td>\n",
       "      <td>среднее</td>\n",
       "      <td>1</td>\n",
       "      <td>женат / замужем</td>\n",
       "      <td>0</td>\n",
       "      <td>M</td>\n",
       "      <td>сотрудник</td>\n",
       "      <td>0</td>\n",
       "      <td>144425.938277</td>\n",
       "      <td>покупка жилья для семьи</td>\n",
       "    </tr>\n",
       "    <tr>\n",
       "      <th>10</th>\n",
       "      <td>2</td>\n",
       "      <td>-4171.483647</td>\n",
       "      <td>36</td>\n",
       "      <td>высшее</td>\n",
       "      <td>0</td>\n",
       "      <td>женат / замужем</td>\n",
       "      <td>0</td>\n",
       "      <td>M</td>\n",
       "      <td>компаньон</td>\n",
       "      <td>0</td>\n",
       "      <td>113943.491460</td>\n",
       "      <td>покупка недвижимости</td>\n",
       "    </tr>\n",
       "    <tr>\n",
       "      <th>11</th>\n",
       "      <td>0</td>\n",
       "      <td>-792.701887</td>\n",
       "      <td>40</td>\n",
       "      <td>среднее</td>\n",
       "      <td>1</td>\n",
       "      <td>женат / замужем</td>\n",
       "      <td>0</td>\n",
       "      <td>F</td>\n",
       "      <td>сотрудник</td>\n",
       "      <td>0</td>\n",
       "      <td>77069.234271</td>\n",
       "      <td>покупка коммерческой недвижимости</td>\n",
       "    </tr>\n",
       "    <tr>\n",
       "      <th>12</th>\n",
       "      <td>0</td>\n",
       "      <td>NaN</td>\n",
       "      <td>65</td>\n",
       "      <td>среднее</td>\n",
       "      <td>1</td>\n",
       "      <td>гражданский брак</td>\n",
       "      <td>1</td>\n",
       "      <td>M</td>\n",
       "      <td>пенсионер</td>\n",
       "      <td>0</td>\n",
       "      <td>NaN</td>\n",
       "      <td>сыграть свадьбу</td>\n",
       "    </tr>\n",
       "    <tr>\n",
       "      <th>13</th>\n",
       "      <td>0</td>\n",
       "      <td>-1846.641941</td>\n",
       "      <td>54</td>\n",
       "      <td>неоконченное высшее</td>\n",
       "      <td>2</td>\n",
       "      <td>женат / замужем</td>\n",
       "      <td>0</td>\n",
       "      <td>F</td>\n",
       "      <td>сотрудник</td>\n",
       "      <td>0</td>\n",
       "      <td>130458.228857</td>\n",
       "      <td>приобретение автомобиля</td>\n",
       "    </tr>\n",
       "    <tr>\n",
       "      <th>14</th>\n",
       "      <td>0</td>\n",
       "      <td>-1844.956182</td>\n",
       "      <td>56</td>\n",
       "      <td>высшее</td>\n",
       "      <td>0</td>\n",
       "      <td>гражданский брак</td>\n",
       "      <td>1</td>\n",
       "      <td>F</td>\n",
       "      <td>компаньон</td>\n",
       "      <td>1</td>\n",
       "      <td>165127.911772</td>\n",
       "      <td>покупка жилой недвижимости</td>\n",
       "    </tr>\n",
       "    <tr>\n",
       "      <th>15</th>\n",
       "      <td>1</td>\n",
       "      <td>-972.364419</td>\n",
       "      <td>26</td>\n",
       "      <td>среднее</td>\n",
       "      <td>1</td>\n",
       "      <td>женат / замужем</td>\n",
       "      <td>0</td>\n",
       "      <td>F</td>\n",
       "      <td>сотрудник</td>\n",
       "      <td>0</td>\n",
       "      <td>116820.904450</td>\n",
       "      <td>строительство собственной недвижимости</td>\n",
       "    </tr>\n",
       "    <tr>\n",
       "      <th>16</th>\n",
       "      <td>0</td>\n",
       "      <td>-1719.934226</td>\n",
       "      <td>35</td>\n",
       "      <td>среднее</td>\n",
       "      <td>1</td>\n",
       "      <td>женат / замужем</td>\n",
       "      <td>0</td>\n",
       "      <td>F</td>\n",
       "      <td>сотрудник</td>\n",
       "      <td>0</td>\n",
       "      <td>289202.704229</td>\n",
       "      <td>недвижимость</td>\n",
       "    </tr>\n",
       "    <tr>\n",
       "      <th>17</th>\n",
       "      <td>0</td>\n",
       "      <td>-2369.999720</td>\n",
       "      <td>33</td>\n",
       "      <td>высшее</td>\n",
       "      <td>0</td>\n",
       "      <td>гражданский брак</td>\n",
       "      <td>1</td>\n",
       "      <td>M</td>\n",
       "      <td>сотрудник</td>\n",
       "      <td>0</td>\n",
       "      <td>90410.586745</td>\n",
       "      <td>строительство недвижимости</td>\n",
       "    </tr>\n",
       "    <tr>\n",
       "      <th>18</th>\n",
       "      <td>0</td>\n",
       "      <td>400281.136913</td>\n",
       "      <td>53</td>\n",
       "      <td>среднее</td>\n",
       "      <td>1</td>\n",
       "      <td>вдовец / вдова</td>\n",
       "      <td>2</td>\n",
       "      <td>F</td>\n",
       "      <td>пенсионер</td>\n",
       "      <td>0</td>\n",
       "      <td>56823.777243</td>\n",
       "      <td>на покупку подержанного автомобиля</td>\n",
       "    </tr>\n",
       "    <tr>\n",
       "      <th>19</th>\n",
       "      <td>0</td>\n",
       "      <td>-10038.818549</td>\n",
       "      <td>48</td>\n",
       "      <td>СРЕДНЕЕ</td>\n",
       "      <td>1</td>\n",
       "      <td>в разводе</td>\n",
       "      <td>3</td>\n",
       "      <td>F</td>\n",
       "      <td>сотрудник</td>\n",
       "      <td>0</td>\n",
       "      <td>242831.107982</td>\n",
       "      <td>на покупку своего автомобиля</td>\n",
       "    </tr>\n",
       "  </tbody>\n",
       "</table>\n",
       "</div>"
      ],
      "text/plain": [
       "    children  days_employed  dob_years            education  education_id  \\\n",
       "0          1   -8437.673028         42               высшее             0   \n",
       "1          1   -4024.803754         36              среднее             1   \n",
       "2          0   -5623.422610         33              Среднее             1   \n",
       "3          3   -4124.747207         32              среднее             1   \n",
       "4          0  340266.072047         53              среднее             1   \n",
       "5          0    -926.185831         27               высшее             0   \n",
       "6          0   -2879.202052         43               высшее             0   \n",
       "7          0    -152.779569         50              СРЕДНЕЕ             1   \n",
       "8          2   -6929.865299         35               ВЫСШЕЕ             0   \n",
       "9          0   -2188.756445         41              среднее             1   \n",
       "10         2   -4171.483647         36               высшее             0   \n",
       "11         0    -792.701887         40              среднее             1   \n",
       "12         0            NaN         65              среднее             1   \n",
       "13         0   -1846.641941         54  неоконченное высшее             2   \n",
       "14         0   -1844.956182         56               высшее             0   \n",
       "15         1    -972.364419         26              среднее             1   \n",
       "16         0   -1719.934226         35              среднее             1   \n",
       "17         0   -2369.999720         33               высшее             0   \n",
       "18         0  400281.136913         53              среднее             1   \n",
       "19         0  -10038.818549         48              СРЕДНЕЕ             1   \n",
       "\n",
       "       family_status  family_status_id gender income_type  debt  \\\n",
       "0    женат / замужем                 0      F   сотрудник     0   \n",
       "1    женат / замужем                 0      F   сотрудник     0   \n",
       "2    женат / замужем                 0      M   сотрудник     0   \n",
       "3    женат / замужем                 0      M   сотрудник     0   \n",
       "4   гражданский брак                 1      F   пенсионер     0   \n",
       "5   гражданский брак                 1      M   компаньон     0   \n",
       "6    женат / замужем                 0      F   компаньон     0   \n",
       "7    женат / замужем                 0      M   сотрудник     0   \n",
       "8   гражданский брак                 1      F   сотрудник     0   \n",
       "9    женат / замужем                 0      M   сотрудник     0   \n",
       "10   женат / замужем                 0      M   компаньон     0   \n",
       "11   женат / замужем                 0      F   сотрудник     0   \n",
       "12  гражданский брак                 1      M   пенсионер     0   \n",
       "13   женат / замужем                 0      F   сотрудник     0   \n",
       "14  гражданский брак                 1      F   компаньон     1   \n",
       "15   женат / замужем                 0      F   сотрудник     0   \n",
       "16   женат / замужем                 0      F   сотрудник     0   \n",
       "17  гражданский брак                 1      M   сотрудник     0   \n",
       "18    вдовец / вдова                 2      F   пенсионер     0   \n",
       "19         в разводе                 3      F   сотрудник     0   \n",
       "\n",
       "     total_income                                 purpose  \n",
       "0   253875.639453                           покупка жилья  \n",
       "1   112080.014102                 приобретение автомобиля  \n",
       "2   145885.952297                           покупка жилья  \n",
       "3   267628.550329              дополнительное образование  \n",
       "4   158616.077870                         сыграть свадьбу  \n",
       "5   255763.565419                           покупка жилья  \n",
       "6   240525.971920                       операции с жильем  \n",
       "7   135823.934197                             образование  \n",
       "8    95856.832424                   на проведение свадьбы  \n",
       "9   144425.938277                 покупка жилья для семьи  \n",
       "10  113943.491460                    покупка недвижимости  \n",
       "11   77069.234271       покупка коммерческой недвижимости  \n",
       "12            NaN                         сыграть свадьбу  \n",
       "13  130458.228857                 приобретение автомобиля  \n",
       "14  165127.911772              покупка жилой недвижимости  \n",
       "15  116820.904450  строительство собственной недвижимости  \n",
       "16  289202.704229                            недвижимость  \n",
       "17   90410.586745              строительство недвижимости  \n",
       "18   56823.777243      на покупку подержанного автомобиля  \n",
       "19  242831.107982            на покупку своего автомобиля  "
      ]
     },
     "execution_count": 2,
     "metadata": {},
     "output_type": "execute_result"
    }
   ],
   "source": [
    "data.head(20)"
   ]
  },
  {
   "cell_type": "markdown",
   "id": "d93350a1",
   "metadata": {
    "deletable": false,
    "editable": false,
    "id": "1c12e233"
   },
   "source": [
    "**Задание 3. Выведите основную информацию о датафрейме с помощью метода `info()`.**"
   ]
  },
  {
   "cell_type": "code",
   "execution_count": 3,
   "id": "0551d33e",
   "metadata": {
    "deletable": false,
    "id": "2b757bca",
    "outputId": "15376089-8dad-46c9-b520-c05248d43158"
   },
   "outputs": [
    {
     "name": "stdout",
     "output_type": "stream",
     "text": [
      "<class 'pandas.core.frame.DataFrame'>\n",
      "RangeIndex: 21525 entries, 0 to 21524\n",
      "Data columns (total 12 columns):\n",
      " #   Column            Non-Null Count  Dtype  \n",
      "---  ------            --------------  -----  \n",
      " 0   children          21525 non-null  int64  \n",
      " 1   days_employed     19351 non-null  float64\n",
      " 2   dob_years         21525 non-null  int64  \n",
      " 3   education         21525 non-null  object \n",
      " 4   education_id      21525 non-null  int64  \n",
      " 5   family_status     21525 non-null  object \n",
      " 6   family_status_id  21525 non-null  int64  \n",
      " 7   gender            21525 non-null  object \n",
      " 8   income_type       21525 non-null  object \n",
      " 9   debt              21525 non-null  int64  \n",
      " 10  total_income      19351 non-null  float64\n",
      " 11  purpose           21525 non-null  object \n",
      "dtypes: float64(2), int64(5), object(5)\n",
      "memory usage: 2.0+ MB\n"
     ]
    }
   ],
   "source": [
    "data.info()"
   ]
  },
  {
   "cell_type": "markdown",
   "id": "77a4e787",
   "metadata": {
    "deletable": false,
    "editable": false,
    "id": "333ec665"
   },
   "source": [
    "## Предобработка данных"
   ]
  },
  {
   "cell_type": "markdown",
   "id": "cb5e77b1",
   "metadata": {
    "deletable": false,
    "editable": false,
    "id": "02d92d53"
   },
   "source": [
    "### Удаление пропусков"
   ]
  },
  {
   "cell_type": "markdown",
   "id": "fd1a4997",
   "metadata": {
    "deletable": false,
    "editable": false,
    "id": "cd84967c"
   },
   "source": [
    "**Задание 4. Выведите количество пропущенных значений для каждого столбца. Используйте комбинацию двух методов.**"
   ]
  },
  {
   "cell_type": "code",
   "execution_count": 4,
   "id": "d9ac008d",
   "metadata": {
    "deletable": false,
    "id": "7f9b2309",
    "outputId": "81f4d817-781c-465c-ed15-91ce4446810d"
   },
   "outputs": [
    {
     "data": {
      "text/plain": [
       "children               0\n",
       "days_employed       2174\n",
       "dob_years              0\n",
       "education              0\n",
       "education_id           0\n",
       "family_status          0\n",
       "family_status_id       0\n",
       "gender                 0\n",
       "income_type            0\n",
       "debt                   0\n",
       "total_income        2174\n",
       "purpose                0\n",
       "dtype: int64"
      ]
     },
     "execution_count": 4,
     "metadata": {},
     "output_type": "execute_result"
    }
   ],
   "source": [
    "data.isna().sum()"
   ]
  },
  {
   "cell_type": "markdown",
   "id": "fb9dd4a8",
   "metadata": {
    "deletable": false,
    "editable": false,
    "id": "db86e27b"
   },
   "source": [
    "**Задание 5. В двух столбцах есть пропущенные значения. Один из них — `days_employed`. Пропуски в этом столбце вы обработаете на следующем этапе. Другой столбец с пропущенными значениями — `total_income` — хранит данные о доходах. На сумму дохода сильнее всего влияет тип занятости, поэтому заполнить пропуски в этом столбце нужно медианным значением по каждому типу из столбца `income_type`. Например, у человека с типом занятости `сотрудник` пропуск в столбце `total_income` должен быть заполнен медианным доходом среди всех записей с тем же типом.**"
   ]
  },
  {
   "cell_type": "code",
   "execution_count": 5,
   "id": "14307b68",
   "metadata": {
    "deletable": false,
    "id": "42006a93"
   },
   "outputs": [],
   "source": [
    "for t in data['income_type'].unique():\n",
    "    data.loc[(data['income_type'] == t) & (data['total_income'].isna()), 'total_income'] = \\\n",
    "    data.loc[(data['income_type'] == t), 'total_income'].median()"
   ]
  },
  {
   "cell_type": "markdown",
   "id": "bfdbc27a",
   "metadata": {
    "deletable": false,
    "editable": false,
    "id": "89da5ece"
   },
   "source": [
    "### Обработка аномальных значений"
   ]
  },
  {
   "cell_type": "markdown",
   "id": "8fb111cf",
   "metadata": {
    "deletable": false,
    "editable": false,
    "id": "57964554"
   },
   "source": [
    "**Задание 6. В данных могут встречаться артефакты (аномалии) — значения, которые не отражают действительность и появились по какой-то ошибке. таким артефактом будет отрицательное количество дней трудового стажа в столбце `days_employed`. Для реальных данных это нормально. Обработайте значения в этом столбце: замените все отрицательные значения положительными с помощью метода `abs()`.**"
   ]
  },
  {
   "cell_type": "code",
   "execution_count": 6,
   "id": "1617140d",
   "metadata": {
    "deletable": false,
    "id": "f6f055bf"
   },
   "outputs": [],
   "source": [
    "data['days_employed'] = data['days_employed'].abs()"
   ]
  },
  {
   "cell_type": "markdown",
   "id": "7b29485b",
   "metadata": {
    "deletable": false,
    "editable": false,
    "id": "6107dd2f"
   },
   "source": [
    "**Задание 7. Для каждого типа занятости выведите медианное значение трудового стажа `days_employed` в днях.**"
   ]
  },
  {
   "cell_type": "code",
   "execution_count": 7,
   "id": "c1e4b380",
   "metadata": {
    "deletable": false,
    "id": "85a5faf6",
    "outputId": "801ef80e-522b-4668-f34e-565af7432bcf"
   },
   "outputs": [
    {
     "data": {
      "text/plain": [
       "income_type\n",
       "безработный        366413.652744\n",
       "в декрете            3296.759962\n",
       "госслужащий          2689.368353\n",
       "компаньон            1547.382223\n",
       "пенсионер          365213.306266\n",
       "предприниматель       520.848083\n",
       "сотрудник            1574.202821\n",
       "студент               578.751554\n",
       "Name: days_employed, dtype: float64"
      ]
     },
     "execution_count": 7,
     "metadata": {},
     "output_type": "execute_result"
    }
   ],
   "source": [
    "data.groupby('income_type')['days_employed'].agg('median')"
   ]
  },
  {
   "cell_type": "markdown",
   "id": "434b2821",
   "metadata": {
    "deletable": false,
    "editable": false,
    "id": "38d1a030"
   },
   "source": [
    "У двух типов (безработные и пенсионеры) получатся аномально большие значения. Исправить такие значения сложно, поэтому оставьте их как есть. Тем более этот столбец не понадобится вам для исследования."
   ]
  },
  {
   "cell_type": "markdown",
   "id": "71a16634",
   "metadata": {
    "deletable": false,
    "editable": false,
    "id": "d8a9f147"
   },
   "source": [
    "**Задание 8. Выведите перечень уникальных значений столбца `children`.**"
   ]
  },
  {
   "cell_type": "code",
   "execution_count": 8,
   "id": "e6611563",
   "metadata": {
    "deletable": false,
    "id": "ef5056eb",
    "outputId": "6975b15c-7f95-4697-d16d-a0c79b657b03"
   },
   "outputs": [
    {
     "data": {
      "text/plain": [
       "array([ 1,  0,  3,  2, -1,  4, 20,  5])"
      ]
     },
     "execution_count": 8,
     "metadata": {},
     "output_type": "execute_result"
    }
   ],
   "source": [
    "data['children'].unique()"
   ]
  },
  {
   "cell_type": "markdown",
   "id": "f0b80b89",
   "metadata": {
    "deletable": false,
    "editable": false,
    "id": "40b9ebf2"
   },
   "source": [
    "**Задание 9. В столбце `children` есть два аномальных значения. Удалите строки, в которых встречаются такие аномальные значения из датафрейма `data`.**"
   ]
  },
  {
   "cell_type": "code",
   "execution_count": 9,
   "id": "22ad5676",
   "metadata": {
    "deletable": false,
    "id": "3ff9801d"
   },
   "outputs": [],
   "source": [
    "data = data[(data['children'] != -1) & (data['children'] != 20)]"
   ]
  },
  {
   "cell_type": "markdown",
   "id": "d0204f2e",
   "metadata": {
    "deletable": false,
    "editable": false,
    "id": "bbc4d0ce"
   },
   "source": [
    "**Задание 10. Ещё раз выведите перечень уникальных значений столбца `children`, чтобы убедиться, что артефакты удалены.**"
   ]
  },
  {
   "cell_type": "code",
   "execution_count": 10,
   "id": "10f2dec9",
   "metadata": {
    "deletable": false,
    "id": "ad4fa8b7",
    "outputId": "b2097101-d49d-44d9-901b-32a65c9463d1"
   },
   "outputs": [
    {
     "data": {
      "text/plain": [
       "array([1, 0, 3, 2, 4, 5])"
      ]
     },
     "execution_count": 10,
     "metadata": {},
     "output_type": "execute_result"
    }
   ],
   "source": [
    "data['children'].unique()"
   ]
  },
  {
   "cell_type": "markdown",
   "id": "b665bb02",
   "metadata": {
    "deletable": false,
    "editable": false,
    "id": "75440b63"
   },
   "source": [
    "### Удаление пропусков (продолжение)"
   ]
  },
  {
   "cell_type": "markdown",
   "id": "fa41cff3",
   "metadata": {
    "deletable": false,
    "editable": false,
    "id": "f4ea573f"
   },
   "source": [
    "**Задание 11. Заполните пропуски в столбце `days_employed` медианными значениями по каждого типа занятости `income_type`.**"
   ]
  },
  {
   "cell_type": "code",
   "execution_count": 11,
   "id": "6b686d3b",
   "metadata": {
    "deletable": false,
    "id": "af6b1a7e"
   },
   "outputs": [],
   "source": [
    "for t in data['income_type'].unique():\n",
    "    data.loc[(data['income_type'] == t) & (data['days_employed'].isna()), 'days_employed'] = \\\n",
    "    data.loc[(data['income_type'] == t), 'days_employed'].median()"
   ]
  },
  {
   "cell_type": "markdown",
   "id": "41087dc9",
   "metadata": {
    "deletable": false,
    "editable": false,
    "id": "2753f40d"
   },
   "source": [
    "**Задание 12. Убедитесь, что все пропуски заполнены. Проверьте себя и ещё раз выведите количество пропущенных значений для каждого столбца с помощью двух методов.**"
   ]
  },
  {
   "cell_type": "code",
   "execution_count": 12,
   "id": "35f36f40",
   "metadata": {
    "deletable": false,
    "id": "55f78bc2",
    "outputId": "8da1e4e1-358e-4e87-98c9-f261bce0a7b2"
   },
   "outputs": [
    {
     "data": {
      "text/plain": [
       "children            0\n",
       "days_employed       0\n",
       "dob_years           0\n",
       "education           0\n",
       "education_id        0\n",
       "family_status       0\n",
       "family_status_id    0\n",
       "gender              0\n",
       "income_type         0\n",
       "debt                0\n",
       "total_income        0\n",
       "purpose             0\n",
       "dtype: int64"
      ]
     },
     "execution_count": 12,
     "metadata": {},
     "output_type": "execute_result"
    }
   ],
   "source": [
    "data.isna().sum()"
   ]
  },
  {
   "cell_type": "markdown",
   "id": "2629bd7f",
   "metadata": {
    "deletable": false,
    "editable": false,
    "id": "ddc81e43"
   },
   "source": [
    "### Изменение типов данных"
   ]
  },
  {
   "cell_type": "markdown",
   "id": "ecb59181",
   "metadata": {
    "deletable": false,
    "editable": false,
    "id": "42d19d24"
   },
   "source": [
    "**Задание 13. Замените вещественный тип данных в столбце `total_income` на целочисленный с помощью метода `astype()`.**"
   ]
  },
  {
   "cell_type": "code",
   "execution_count": 13,
   "id": "874fffa4",
   "metadata": {
    "deletable": false,
    "id": "920b65ad"
   },
   "outputs": [],
   "source": [
    "data['total_income'] = data['total_income'].astype(int)"
   ]
  },
  {
   "cell_type": "markdown",
   "id": "3704cc11",
   "metadata": {
    "deletable": false,
    "editable": false,
    "id": "80c420ba"
   },
   "source": [
    "### Обработка дубликатов"
   ]
  },
  {
   "cell_type": "markdown",
   "id": "2b18b688",
   "metadata": {
    "deletable": false,
    "editable": false
   },
   "source": [
    "**Задание 14. Обработайте неявные дубликаты в столбце `education`. В этом столбце есть одни и те же значения, но записанные по-разному: с использованием заглавных и строчных букв. Приведите их к нижнему регистру. Проверьте остальные столбцы.**"
   ]
  },
  {
   "cell_type": "code",
   "execution_count": 14,
   "id": "abfcd103",
   "metadata": {
    "deletable": false
   },
   "outputs": [],
   "source": [
    "data['education'] = data['education'].str.lower()"
   ]
  },
  {
   "cell_type": "markdown",
   "id": "d49c6d2d",
   "metadata": {
    "deletable": false,
    "editable": false,
    "id": "dc587695"
   },
   "source": [
    "**Задание 15. Выведите на экран количество строк-дубликатов в данных. Если такие строки присутствуют, удалите их.**"
   ]
  },
  {
   "cell_type": "code",
   "execution_count": 15,
   "id": "ac3984d6",
   "metadata": {
    "deletable": false,
    "id": "3ee445e4",
    "outputId": "9684deba-1934-42d1-99e1-cda61740f822"
   },
   "outputs": [
    {
     "data": {
      "text/plain": [
       "71"
      ]
     },
     "execution_count": 15,
     "metadata": {},
     "output_type": "execute_result"
    }
   ],
   "source": [
    "data.duplicated().sum()"
   ]
  },
  {
   "cell_type": "code",
   "execution_count": 16,
   "id": "c7523ac8",
   "metadata": {
    "deletable": false,
    "id": "8575fe05"
   },
   "outputs": [],
   "source": [
    "data = data.drop_duplicates()"
   ]
  },
  {
   "cell_type": "markdown",
   "id": "5f939b69",
   "metadata": {
    "deletable": false,
    "editable": false,
    "id": "9904cf55"
   },
   "source": [
    "### Категоризация данных"
   ]
  },
  {
   "cell_type": "markdown",
   "id": "82c4a1fc",
   "metadata": {
    "deletable": false,
    "editable": false,
    "id": "72fcc8a2"
   },
   "source": [
    "**Задание 16. На основании диапазонов, указанных ниже, создайте в датафрейме `data` столбец `total_income_category` с категориями:**\n",
    "\n",
    "- 0–30000 — `'E'`;\n",
    "- 30001–50000 — `'D'`;\n",
    "- 50001–200000 — `'C'`;\n",
    "- 200001–1000000 — `'B'`;\n",
    "- 1000001 и выше — `'A'`.\n",
    "\n",
    "\n",
    "**Например, кредитополучателю с доходом 25000 нужно назначить категорию `'E'`, а клиенту, получающему 235000, — `'B'`. Используйте собственную функцию с именем `categorize_income()` и метод `apply()`.**"
   ]
  },
  {
   "cell_type": "code",
   "execution_count": 17,
   "id": "847a5381",
   "metadata": {
    "deletable": false,
    "id": "e1771346"
   },
   "outputs": [],
   "source": [
    "def categorize_income(income):\n",
    "    try:\n",
    "        if 0 <= income <= 30000:\n",
    "            return 'E'\n",
    "        elif 30001 <= income <= 50000:\n",
    "            return 'D'\n",
    "        elif 50001 <= income <= 200000:\n",
    "            return 'C'\n",
    "        elif 200001 <= income <= 1000000:\n",
    "            return 'B'\n",
    "        elif income >= 1000001:\n",
    "            return 'A'\n",
    "    except:\n",
    "        pass"
   ]
  },
  {
   "cell_type": "code",
   "execution_count": 18,
   "id": "a5d9bdd0",
   "metadata": {
    "deletable": false,
    "id": "d5f3586d"
   },
   "outputs": [],
   "source": [
    "data['total_income_category'] = data['total_income'].apply(categorize_income)"
   ]
  },
  {
   "cell_type": "markdown",
   "id": "57ab83ea",
   "metadata": {
    "deletable": false,
    "editable": false,
    "id": "dde49b5c"
   },
   "source": [
    "**Задание 17. Выведите на экран перечень уникальных целей взятия кредита из столбца `purpose`.**"
   ]
  },
  {
   "cell_type": "code",
   "execution_count": 19,
   "id": "61af39de",
   "metadata": {
    "deletable": false,
    "id": "f67ce9b3",
    "outputId": "673c12d9-7d7e-4ae0-9812-c622c89dd244"
   },
   "outputs": [
    {
     "data": {
      "text/plain": [
       "array(['покупка жилья', 'приобретение автомобиля',\n",
       "       'дополнительное образование', 'сыграть свадьбу',\n",
       "       'операции с жильем', 'образование', 'на проведение свадьбы',\n",
       "       'покупка жилья для семьи', 'покупка недвижимости',\n",
       "       'покупка коммерческой недвижимости', 'покупка жилой недвижимости',\n",
       "       'строительство собственной недвижимости', 'недвижимость',\n",
       "       'строительство недвижимости', 'на покупку подержанного автомобиля',\n",
       "       'на покупку своего автомобиля',\n",
       "       'операции с коммерческой недвижимостью',\n",
       "       'строительство жилой недвижимости', 'жилье',\n",
       "       'операции со своей недвижимостью', 'автомобили',\n",
       "       'заняться образованием', 'сделка с подержанным автомобилем',\n",
       "       'получение образования', 'автомобиль', 'свадьба',\n",
       "       'получение дополнительного образования', 'покупка своего жилья',\n",
       "       'операции с недвижимостью', 'получение высшего образования',\n",
       "       'свой автомобиль', 'сделка с автомобилем',\n",
       "       'профильное образование', 'высшее образование',\n",
       "       'покупка жилья для сдачи', 'на покупку автомобиля', 'ремонт жилью',\n",
       "       'заняться высшим образованием'], dtype=object)"
      ]
     },
     "execution_count": 19,
     "metadata": {},
     "output_type": "execute_result"
    }
   ],
   "source": [
    "data['purpose'].unique()"
   ]
  },
  {
   "cell_type": "markdown",
   "id": "db5f456c",
   "metadata": {
    "deletable": false,
    "editable": false,
    "id": "85d0aef0"
   },
   "source": [
    "**Задание 18. Создайте функцию, которая на основании данных из столбца `purpose` сформирует новый столбец `purpose_category`, в который войдут следующие категории:**\n",
    "\n",
    "- `'операции с автомобилем'`,\n",
    "- `'операции с недвижимостью'`,\n",
    "- `'проведение свадьбы'`,\n",
    "- `'получение образования'`.\n",
    "\n",
    "**Например, если в столбце `purpose` находится подстрока `'на покупку автомобиля'`, то в столбце `purpose_category` должна появиться строка `'операции с автомобилем'`.**\n",
    "\n",
    "**Используйте собственную функцию с именем `categorize_purpose()` и метод `apply()`. Изучите данные в столбце `purpose` и определите, какие подстроки помогут вам правильно определить категорию.**"
   ]
  },
  {
   "cell_type": "code",
   "execution_count": 20,
   "id": "284c1b46",
   "metadata": {
    "deletable": false,
    "id": "e149fab4"
   },
   "outputs": [],
   "source": [
    "def categorize_purpose(row):\n",
    "    try:\n",
    "        if 'автом' in row:\n",
    "            return 'операции с автомобилем'\n",
    "        elif 'жил' in row or 'недвиж' in row:\n",
    "            return 'операции с недвижимостью'\n",
    "        elif 'свад' in row:\n",
    "            return 'проведение свадьбы'\n",
    "        elif 'образов' in row:\n",
    "            return 'получение образования'\n",
    "    except:\n",
    "        return 'нет категории'"
   ]
  },
  {
   "cell_type": "code",
   "execution_count": 21,
   "id": "36f9df73",
   "metadata": {
    "deletable": false,
    "id": "bf36e69b"
   },
   "outputs": [],
   "source": [
    "data['purpose_category'] = data['purpose'].apply(categorize_purpose)"
   ]
  },
  {
   "cell_type": "markdown",
   "id": "0b02f88f",
   "metadata": {
    "deletable": false,
    "editable": false,
    "id": "09b242bf"
   },
   "source": [
    "### Шаг 3. Исследуйте данные и ответьте на вопросы"
   ]
  },
  {
   "cell_type": "markdown",
   "id": "3fdb9df7",
   "metadata": {
    "deletable": false,
    "editable": false,
    "id": "c5d66278"
   },
   "source": [
    "#### 3.1 Есть ли зависимость между количеством детей и возвратом кредита в срок?"
   ]
  },
  {
   "cell_type": "code",
   "execution_count": 22,
   "id": "139e404b",
   "metadata": {
    "deletable": false,
    "id": "2cacfc4a"
   },
   "outputs": [
    {
     "name": "stdout",
     "output_type": "stream",
     "text": [
      "          Количество заемщиков  Процент должников  Количество должников  \\\n",
      "children                                                                  \n",
      "0                        14091           0.075438                1063.0   \n",
      "1                         4808           0.092346                 444.0   \n",
      "2                         2052           0.094542                 194.0   \n",
      "3                          330           0.081818                  27.0   \n",
      "4                           41           0.097561                   4.0   \n",
      "5                            9           0.000000                   0.0   \n",
      "\n",
      "          Процент вернувших кредит вовремя  \n",
      "children                                    \n",
      "0                                 0.924562  \n",
      "1                                 0.907654  \n",
      "2                                 0.905458  \n",
      "3                                 0.918182  \n",
      "4                                 0.902439  \n",
      "5                                 1.000000  \n"
     ]
    }
   ],
   "source": [
    "import matplotlib.pyplot as plt\n",
    "\n",
    "children_pivot = data.pivot_table(index = 'children', values = 'debt', aggfunc = ['count', 'mean']) # создание сводной таблицы \n",
    "children_pivot.columns = ['Количество заемщиков', 'Процент должников'] # изменение названия столбцов для наглядности\n",
    "children_pivot['Количество должников'] = children_pivot['Количество заемщиков'] * children_pivot['Процент должников'] # подсчёт количества должников\n",
    "\n",
    "children_pivot['Процент вернувших кредит вовремя'] = (children_pivot['Количество заемщиков'] - children_pivot['Количество должников']) / children_pivot['Количество заемщиков'] # подсчёт процента вернувших кредит вовремя\n",
    "print(children_pivot)"
   ]
  },
  {
   "cell_type": "markdown",
   "id": "7acefe7d",
   "metadata": {},
   "source": [
    "<div class=\"alert alert-danger\"; style=\"border-left: 7px solid FireBrick\">\n",
    "<h5> ❌ <font color=\"FireBrick\">Комментарий ревьюера (красный)</font></h5>\n",
    "\n",
    "Стоит учитывать, что данных по семьям с 3, 4, 5 детьми очень мало, и их не стоит брать в расчет\n",
    "    \n",
    "\n",
    "</div>"
   ]
  },
  {
   "cell_type": "markdown",
   "id": "bd20e0e3",
   "metadata": {},
   "source": [
    "<div class=\"alert alert-info\"; style=\"border-left: 7px solid SteelBlue\">\n",
    "<h5>🎓 <font color=\"SteelBlue\">Комментарий от студента (синий)</font></h5>    \n",
    "\n",
    "Спасибо за выделенную ошибку! Думал об этом, но решил всё же взять их в расчёт. Ниже, представил исправленный вывод.\n",
    "\n",
    "</div>"
   ]
  },
  {
   "cell_type": "markdown",
   "id": "4a11d515",
   "metadata": {},
   "source": [
    "<div class=\"alert alert-success\"; style=\"border-left: 7px solid green\">\n",
    "<h5> ✔️ <font color=\"green\">v2 Комментарий ревьюера (зеленый)</font></h5>\n",
    "\n",
    "✅ Да, чем больше у заемщика детей, тем больше вероятность просрочки 👍\n",
    " \n",
    "</div>"
   ]
  },
  {
   "cell_type": "markdown",
   "id": "b042e8b0",
   "metadata": {
    "deletable": false,
    "id": "3a6b99ec"
   },
   "source": [
    "**Вывод:** Зависимость наблюдается, но не сильная. Для семей не имеющих детей можно заметить, что почти нет задолженности по кредиту (из-за стабильного финансового положения, без затрат на детей). Для семей с 1 ребёнком наблюдается больше должников, но всё же основное количество не имеют задолженности по кредиту. Остальные семьи (с 3, 4, 5 детьми) не стоит брать в расчёт, так как их количество очень мало по сравнению с семьями, в которых нет детей или 1 ребёнок."
   ]
  },
  {
   "cell_type": "markdown",
   "id": "1a474936",
   "metadata": {
    "deletable": false,
    "editable": false,
    "id": "97be82ca"
   },
   "source": [
    "#### 3.2 Есть ли зависимость между семейным положением и возвратом кредита в срок?"
   ]
  },
  {
   "cell_type": "code",
   "execution_count": 23,
   "id": "4a3e34dc",
   "metadata": {
    "deletable": false,
    "id": "dc3f7ee8"
   },
   "outputs": [
    {
     "name": "stdout",
     "output_type": "stream",
     "text": [
      "                       Общее количество  Количество заемщиков   Процент\n",
      "family_status                                                          \n",
      "вдовец / вдова                      951                    63  0.066246\n",
      "в разводе                          1189                    84  0.070648\n",
      "женат / замужем                   12261                   927  0.075606\n",
      "гражданский брак                   4134                   385  0.093130\n",
      "Не женат / не замужем              2796                   273  0.097639\n"
     ]
    }
   ],
   "source": [
    "mt_pivot = data.pivot_table(index = 'family_status', values = 'debt', aggfunc = ['count', 'sum'])\n",
    "mt_pivot.columns = ['Общее количество', 'Количество заемщиков']\n",
    "mt_pivot['Процент'] = mt_pivot['Количество заемщиков'] / mt_pivot['Общее количество']\n",
    "\n",
    "print(mt_pivot.sort_values(by = 'Процент')) # вывод отсортированный по столбцу \"Процент\""
   ]
  },
  {
   "cell_type": "markdown",
   "id": "1c7c282a",
   "metadata": {},
   "source": [
    "<div class=\"alert alert-success\"; style=\"border-left: 7px solid green\">\n",
    "<h5> ✔️ <font color=\"green\">Комментарий ревьюера (зеленый)</font></h5>\n",
    "\n",
    "Правильно, заемщики состоящие или состоявшие в браке реже допускают просрочку\n",
    "\n",
    "</div>"
   ]
  },
  {
   "cell_type": "markdown",
   "id": "cfe8d5bc",
   "metadata": {
    "deletable": false,
    "id": "1cef7837"
   },
   "source": [
    "**Вывод:** Зависимость наблюдается. Люди находящиеся в статусе \"не женат / не замужем\", а также в статусе \"гражданский брак\" имеют самую наименьшую вероятность по возврате кредита в срок (причины могут быть совершенно разные, наличие ребёнка, молодой возраст). Люди, находящиеся в статусе \"вдовец / вдова\" и \"в разводе\" имеют самую наибольшую вероятность по возврате кредита в срок (скорее из-за отвественности). "
   ]
  },
  {
   "cell_type": "markdown",
   "id": "f867724b",
   "metadata": {
    "deletable": false,
    "editable": false,
    "id": "1e8b2fca"
   },
   "source": [
    "#### 3.3 Есть ли зависимость между уровнем дохода и возвратом кредита в срок?"
   ]
  },
  {
   "cell_type": "code",
   "execution_count": 24,
   "id": "e84cf0f1",
   "metadata": {
    "deletable": false,
    "id": "cd7e3720"
   },
   "outputs": [
    {
     "name": "stdout",
     "output_type": "stream",
     "text": [
      "                       Общее кол-во людей  Кол-во заемщиков  Процент\n",
      "total_income_category                                               \n",
      "D                                     349                21    0.060\n",
      "B                                    5014               354    0.071\n",
      "A                                      25                 2    0.080\n",
      "C                                   15921              1353    0.085\n",
      "E                                      22                 2    0.091\n"
     ]
    }
   ],
   "source": [
    "fin_status_pivot = data.pivot_table(index = 'total_income_category', values = 'debt', aggfunc = ['count', 'sum'])\n",
    "fin_status_pivot.columns = ['Общее кол-во людей', 'Кол-во заемщиков']\n",
    "fin_status_pivot['Процент'] = round(fin_status_pivot['Кол-во заемщиков'] / fin_status_pivot['Общее кол-во людей'], 3)\n",
    "\n",
    "print(fin_status_pivot.sort_values(by = 'Процент'))"
   ]
  },
  {
   "cell_type": "markdown",
   "id": "8a29da83",
   "metadata": {},
   "source": [
    "<div class=\"alert alert-success\"; style=\"border-left: 7px solid green\">\n",
    "<h5> ✔️ <font color=\"green\">Комментарий ревьюера (зеленый)</font></h5>\n",
    "\n",
    "Спасибо за интересные наблюдения, на малочисленные категории заемщиков(А, D, E) ориентироваться не стоит, поэтому можно предположить, что более состоятельный клиент - более надежный\n",
    "\n",
    "</div>"
   ]
  },
  {
   "cell_type": "markdown",
   "id": "087d9eca",
   "metadata": {
    "deletable": false,
    "id": "e8593def"
   },
   "source": [
    "**Вывод:** Зависимость наблюдается. Люди, имеющие самый низкий заработок, имеют наименьшую вероятность возврата кредита в срок (из-за тяжелого финансового положения). Люди, получающие зарплату в среднем от 30 до 50 тысяч, имеют наибольшую вероятность по возврате кредита в срок (возможно из-за того, что не берут большие кредиты и им не тяжело вернуть кредит вовремя). Люди, получающие от 50 до 200 тысяч, имеют, как и люди получающие наименьший зароботок, имеют низкую вероятность возврата кредита в срок (скорее из-за того, что это семьи, так как составляют наибольшую часть людей, беруших кредит). Люди, получающие от 200 тысяч до 1000000 имеют большую вероятность по возврате кредита в срок (из-за хорошего финансового положения). Люди, получающие от 1000000 имеют среднюю вероятность по возврате кредита в срок, среди всех остальных."
   ]
  },
  {
   "cell_type": "markdown",
   "id": "b33578c0",
   "metadata": {
    "deletable": false,
    "editable": false,
    "id": "99ecbd1f"
   },
   "source": [
    "#### 3.4 Как разные цели кредита влияют на его возврат в срок?"
   ]
  },
  {
   "cell_type": "code",
   "execution_count": 25,
   "id": "0fff8142",
   "metadata": {
    "deletable": false,
    "id": "2b687290"
   },
   "outputs": [
    {
     "name": "stdout",
     "output_type": "stream",
     "text": [
      "                          Общее кол-во людей  Кол-во заемщиков  Процент\n",
      "purpose_category                                                       \n",
      "операции с недвижимостью               10751               780    0.073\n",
      "проведение свадьбы                      2313               183    0.079\n",
      "операции с автомобилем                  4279               400    0.093\n",
      "получение образования                   3988               369    0.093\n"
     ]
    }
   ],
   "source": [
    "point_pivot = data.pivot_table(index = 'purpose_category', values = 'debt', aggfunc = ['count', 'sum'])\n",
    "point_pivot.columns = ['Общее кол-во людей', 'Кол-во заемщиков']\n",
    "point_pivot['Процент'] = round(point_pivot['Кол-во заемщиков'] / point_pivot['Общее кол-во людей'], 3)\n",
    "\n",
    "print(point_pivot.sort_values(by = 'Процент'))"
   ]
  },
  {
   "cell_type": "markdown",
   "id": "891f1bc7",
   "metadata": {},
   "source": [
    "<div class=\"alert alert-success\"; style=\"border-left: 7px solid green\">\n",
    "<h5> ✔️ <font color=\"green\">Комментарий ревьюера (зеленый)</font></h5>\n",
    "\n",
    "Хорошее обоснование, ипотечники являются самой обширной категорией и самой добросовестной\n",
    "\n",
    "</div>"
   ]
  },
  {
   "cell_type": "markdown",
   "id": "5967be7d",
   "metadata": {
    "deletable": false,
    "id": "b4bb2ce6"
   },
   "source": [
    "**Вывод:** Люди, берущие кредит с целями \"получение образования\" и \"операции с автомобилем\" имеют одинаково маленкуью вероятность возврата кредита в срок вовремя. Люди, берущие кредит по оставшимся целям таким, как \"операции с недвижимостью\" и \"проведение свадьбы\", имеют большую вероятность вернуть кредит в срок (скорее всего, это из-за суммы кредита)."
   ]
  },
  {
   "cell_type": "markdown",
   "id": "7bedb09f",
   "metadata": {
    "deletable": false,
    "editable": false,
    "id": "09c3ac4c"
   },
   "source": [
    "#### 3.5 Приведите возможные причины появления пропусков в исходных данных."
   ]
  },
  {
   "cell_type": "markdown",
   "id": "3507d9d0",
   "metadata": {
    "deletable": false,
    "id": "9da2ceda"
   },
   "source": [
    "*Ответ:* В первую очередь - человеческий фактор. Далее, возможны какие-то технические неполадки. "
   ]
  },
  {
   "cell_type": "markdown",
   "id": "65b278ef",
   "metadata": {},
   "source": [
    "<div class=\"alert alert-success\"; style=\"border-left: 7px solid green\">\n",
    "<h5> ✔️ <font color=\"green\">Комментарий ревьюера (зеленый)</font></h5>\n",
    "\n",
    "Да, основные причины — технические ошибки и человеческий фактор\n",
    "\n",
    "</div>"
   ]
  },
  {
   "cell_type": "markdown",
   "id": "d86e888a",
   "metadata": {
    "deletable": false,
    "editable": false,
    "id": "7b0487d6"
   },
   "source": [
    "#### 3.6 Объясните, почему заполнить пропуски медианным значением — лучшее решение для количественных переменных."
   ]
  },
  {
   "cell_type": "markdown",
   "id": "020f981e",
   "metadata": {
    "deletable": false,
    "id": "7ecf2b8e"
   },
   "source": [
    "*Ответ:* Медиана менее чувствительна к выбросам, чем среднее значение, что делает ее более устойчивой."
   ]
  },
  {
   "cell_type": "markdown",
   "id": "28a43372",
   "metadata": {},
   "source": [
    "<div class=\"alert alert-success\"; style=\"border-left: 7px solid green\">\n",
    "<h5> ✔️ <font color=\"green\">Комментарий ревьюера (зеленый)</font></h5>\n",
    "\n",
    "Верно, медиана в отличие от среднего значения, менее чувствительна к выбросам, среднее значение смещается в сторону выбросов.\n",
    "\n",
    "</div>"
   ]
  },
  {
   "cell_type": "markdown",
   "id": "f74571cd",
   "metadata": {
    "deletable": false,
    "editable": false,
    "id": "6db5255a"
   },
   "source": [
    "### Шаг 4: общий вывод."
   ]
  },
  {
   "cell_type": "markdown",
   "id": "1b0bffdd",
   "metadata": {
    "deletable": false,
    "id": "bad65432"
   },
   "source": [
    "В проделанной работе:\n",
    "1. Предобработали данные \n",
    "    1. Удалили данные с аномальными значениями\n",
    "    2. Заполнили пропуски медианными значениями \n",
    "2. Сделали выводы по изученным данным\n",
    "    1. Наблюдается не сильная зависимость между количеством детей и возврата кредита в срок. Семьи без детей имеют меньше вероятность по возврате кредита в срок, чем семьи с 1 ребёнком (разница не существенная). Процент должников:\n",
    "        * Семья без детей - 7,5 % от 14091 \n",
    "        * Семья с 1 ребёнком - 9,2 % от 4808\n",
    "    2. Наблюдается зависимость между семейным положением и возврата кредита в срок. Люди, находящиеся в статусе \"не женат/не замужем\" или \"гражданский брак\" имеют меньше вероятность по возврате кредита в срок, чем люди, находящиееся в статусе \"вдовец/вдова\". Процент должиков:\n",
    "        * Вдовец/вдова - 6,6 % от 951\n",
    "        * Не женат/не замужем - 9,7 % от 2796\n",
    "        * Гражданский брак - 9,3 % от 4134\n",
    "    3. Наблюдается зависимость между уровнем дохода и возврата кредита в срок. Люди, находящиеся в категории C имеют меньше вероятноть по возврате кредита в срок, чем люди, находящиеся в категории B. Процент должников:\n",
    "        * Категория B - 7,1 % от 5014\n",
    "        * Категория C - 8,5 % от 15921\n",
    "    4. Наблюдается зависимость между целью кредита и его возврата в срок. Люди с целью кредита \"операции с автомобилем\" или \"получение образования\" имеют меньшую вероятность, чем люди с целью кредита \"операции с недвижимостью\"\n",
    "        * Операции с автомобилем - 9,3 % от 4279\n",
    "        * Получение образования - 9,3 % от 3988\n",
    "        * Операции с недвижимостью - 7,3 % от 10751\n",
    "\n",
    "        \n",
    "Приведём пример для того, чтобы убедиться в правильности подведённых итогов.\n",
    "Мужчина Иванов Иван решил взять кредит. При этом, мы знаем о нём несколько фактов: \n",
    "* семейное положение - гражданский брак\n",
    "* уровень дохода - 70 тысяч\n",
    "* количество детей - 0\n",
    "* цель кредита - операции с автомобилем \n",
    "\n",
    "Исходя из этих данных:\n",
    "1. У людей со статусом гражданский брак - 9,3 % человек не вернувших кредит вовремя\n",
    "2. У людей с уровнем дохода от 50 до 200 тысяч - 8,5 % человек не вернувших кредит вовремя\n",
    "3. У людей имеющих 4 детей - 9,7 % человек не вернувших кредит вовремя\n",
    "4. У людей с целью кредита операции с автомобилем -  9,3 % человек не вернувших кредит вовремя\n",
    "\n",
    "Объединив все эти данные, с большой вероятностью можем сказать, что Иван не вернёт кредит вовремя."
   ]
  },
  {
   "cell_type": "markdown",
   "id": "6b573dd0",
   "metadata": {},
   "source": [
    "<div class=\"alert alert-danger\"; style=\"border-left: 7px solid FireBrick\">\n",
    "<h5> ❌ <font color=\"FireBrick\">Комментарий ревьюера (красный)</font></h5>\n",
    "\n",
    "В общем выводе хочется тезисно видеть все промежуточные выводы с цифрами. Это очень важно, поскольку топ-менеджеры, в большинстве своем, смотрят сразу сюда и только сюда...\n",
    "\n",
    "Тут важно обратиться к целям, которые были озвучены в самом начале и ответить на все вопросы. Важно оформить все тезисно и с цифрами. Еще важно описать все промежуточные выводы, которых не прописано в целях.\n",
    "Вкратце структура такая:\n",
    "- как были предобработаны данные(тут важно написать про изменения, если заполнялись пропуски или преобразовывались строки)\n",
    "- пройдись по целям и ответь на вопросы\n",
    "- добавь промежуточные выводы, которые считаешь нужным отметить\n",
    "\n",
    "Еще очень важно помнить, для кого ты делаешь проект, в зависимости от этого нужно сделать определенные акценты. В данном случае проект учебный, поэтому нужно ориентироваться по описанию.\n",
    "\n",
    "Для красивого оформления можешь воспользоваться [Кратким руководством по Маркдауну](https://paulradzkov.com/2014/markdown_cheatsheet/).\n",
    "    \n",
    "\n",
    "</div>"
   ]
  },
  {
   "cell_type": "markdown",
   "id": "631563aa",
   "metadata": {},
   "source": [
    "<div class=\"alert alert-info\"; style=\"border-left: 7px solid SteelBlue\">\n",
    "<h5>🎓 <font color=\"SteelBlue\">Комментарий от студента (синий)</font></h5>    \n",
    "\n",
    "Спасибо за выделенную ошибку! Учёл все недочёты и постарался соблюсти всем требованиям. Выше, над вашим комментарием представил новый вывод.\n",
    "\n",
    "</div>"
   ]
  },
  {
   "cell_type": "markdown",
   "id": "79be5812",
   "metadata": {},
   "source": [
    "<div class=\"alert alert-success\"; style=\"border-left: 7px solid green\">\n",
    "<h5> ✔️ <font color=\"green\">v2 Комментарий ревьюера (зеленый)</font></h5>\n",
    "\n",
    "✅ Спасибо, очень хороший и подробный общий вывод, которые содержит все промежуточные результаты 👍\n",
    " \n",
    "</div>"
   ]
  }
 ],
 "metadata": {
  "ExecuteTimeLog": [
   {
    "duration": 44,
    "start_time": "2023-05-10T15:29:53.594Z"
   },
   {
    "duration": 507,
    "start_time": "2023-05-10T15:29:59.172Z"
   },
   {
    "duration": 24,
    "start_time": "2023-05-10T15:29:59.681Z"
   },
   {
    "duration": 15,
    "start_time": "2023-05-10T15:29:59.877Z"
   },
   {
    "duration": 9,
    "start_time": "2023-05-10T15:30:00.609Z"
   },
   {
    "duration": 34,
    "start_time": "2023-05-10T15:30:00.955Z"
   },
   {
    "duration": 4,
    "start_time": "2023-05-10T15:30:01.504Z"
   },
   {
    "duration": 8,
    "start_time": "2023-05-10T15:30:01.855Z"
   },
   {
    "duration": 5,
    "start_time": "2023-05-10T15:30:02.376Z"
   },
   {
    "duration": 8,
    "start_time": "2023-05-10T15:30:02.711Z"
   },
   {
    "duration": 5,
    "start_time": "2023-05-10T15:30:03.089Z"
   },
   {
    "duration": 31,
    "start_time": "2023-05-10T15:30:03.648Z"
   },
   {
    "duration": 14,
    "start_time": "2023-05-10T15:30:03.993Z"
   },
   {
    "duration": 5,
    "start_time": "2023-05-10T15:30:04.541Z"
   },
   {
    "duration": 17,
    "start_time": "2023-05-10T15:30:05.128Z"
   },
   {
    "duration": 19,
    "start_time": "2023-05-10T15:30:05.486Z"
   },
   {
    "duration": 23,
    "start_time": "2023-05-10T15:30:05.661Z"
   },
   {
    "duration": 4,
    "start_time": "2023-05-10T15:30:06.241Z"
   },
   {
    "duration": 9,
    "start_time": "2023-05-10T15:30:06.437Z"
   },
   {
    "duration": 5,
    "start_time": "2023-05-10T15:30:06.799Z"
   },
   {
    "duration": 5,
    "start_time": "2023-05-10T15:30:07.179Z"
   },
   {
    "duration": 8,
    "start_time": "2023-05-10T15:30:07.382Z"
   },
   {
    "duration": 20,
    "start_time": "2023-05-10T15:30:09.385Z"
   },
   {
    "duration": 18,
    "start_time": "2023-05-10T15:30:22.268Z"
   },
   {
    "duration": 12,
    "start_time": "2023-05-10T15:31:55.228Z"
   },
   {
    "duration": 16,
    "start_time": "2023-05-10T15:32:02.656Z"
   },
   {
    "duration": 17,
    "start_time": "2023-05-10T15:33:12.673Z"
   },
   {
    "duration": 18,
    "start_time": "2023-05-10T15:37:18.340Z"
   },
   {
    "duration": 21,
    "start_time": "2023-05-10T15:38:20.652Z"
   },
   {
    "duration": 544,
    "start_time": "2023-05-10T15:45:38.536Z"
   },
   {
    "duration": 134,
    "start_time": "2023-05-10T15:46:01.750Z"
   },
   {
    "duration": 142,
    "start_time": "2023-05-10T15:46:04.791Z"
   },
   {
    "duration": 149,
    "start_time": "2023-05-10T15:46:42.027Z"
   },
   {
    "duration": 255,
    "start_time": "2023-05-10T15:46:58.172Z"
   },
   {
    "duration": 187,
    "start_time": "2023-05-10T15:47:14.068Z"
   },
   {
    "duration": 37,
    "start_time": "2023-05-10T15:48:29.496Z"
   },
   {
    "duration": 158,
    "start_time": "2023-05-10T15:48:36.088Z"
   },
   {
    "duration": 178,
    "start_time": "2023-05-10T15:48:41.533Z"
   },
   {
    "duration": 166,
    "start_time": "2023-05-10T15:48:48.179Z"
   },
   {
    "duration": 163,
    "start_time": "2023-05-10T15:50:38.737Z"
   },
   {
    "duration": 170,
    "start_time": "2023-05-10T15:50:42.285Z"
   },
   {
    "duration": 160,
    "start_time": "2023-05-10T15:50:57.784Z"
   },
   {
    "duration": 20,
    "start_time": "2023-05-10T15:55:58.223Z"
   },
   {
    "duration": 23,
    "start_time": "2023-05-10T15:57:45.247Z"
   },
   {
    "duration": 30,
    "start_time": "2023-05-10T15:58:02.882Z"
   },
   {
    "duration": 19,
    "start_time": "2023-05-10T15:59:09.226Z"
   },
   {
    "duration": 20,
    "start_time": "2023-05-10T15:59:18.451Z"
   },
   {
    "duration": 24,
    "start_time": "2023-05-10T15:59:23.681Z"
   },
   {
    "duration": 18,
    "start_time": "2023-05-10T15:59:28.815Z"
   },
   {
    "duration": 21,
    "start_time": "2023-05-10T15:59:39.088Z"
   },
   {
    "duration": 19,
    "start_time": "2023-05-10T15:59:43.329Z"
   },
   {
    "duration": 19,
    "start_time": "2023-05-10T15:59:51.340Z"
   },
   {
    "duration": 205,
    "start_time": "2023-05-10T16:00:06.348Z"
   },
   {
    "duration": 19,
    "start_time": "2023-05-10T16:00:51.617Z"
   },
   {
    "duration": 845,
    "start_time": "2023-05-10T17:27:30.499Z"
   },
   {
    "duration": 9,
    "start_time": "2023-05-10T17:28:35.932Z"
   },
   {
    "duration": 388,
    "start_time": "2023-05-10T17:28:43.569Z"
   },
   {
    "duration": 20,
    "start_time": "2023-05-10T17:28:43.959Z"
   },
   {
    "duration": 17,
    "start_time": "2023-05-10T17:28:44.263Z"
   },
   {
    "duration": 12,
    "start_time": "2023-05-10T17:28:44.948Z"
   },
   {
    "duration": 36,
    "start_time": "2023-05-10T17:28:45.267Z"
   },
   {
    "duration": 4,
    "start_time": "2023-05-10T17:28:45.803Z"
   },
   {
    "duration": 9,
    "start_time": "2023-05-10T17:28:46.151Z"
   },
   {
    "duration": 5,
    "start_time": "2023-05-10T17:28:46.702Z"
   },
   {
    "duration": 7,
    "start_time": "2023-05-10T17:28:47.085Z"
   },
   {
    "duration": 5,
    "start_time": "2023-05-10T17:28:47.469Z"
   },
   {
    "duration": 37,
    "start_time": "2023-05-10T17:28:48.073Z"
   },
   {
    "duration": 11,
    "start_time": "2023-05-10T17:28:48.429Z"
   },
   {
    "duration": 5,
    "start_time": "2023-05-10T17:28:49.069Z"
   },
   {
    "duration": 14,
    "start_time": "2023-05-10T17:28:49.668Z"
   },
   {
    "duration": 20,
    "start_time": "2023-05-10T17:28:50.067Z"
   },
   {
    "duration": 19,
    "start_time": "2023-05-10T17:28:50.277Z"
   },
   {
    "duration": 5,
    "start_time": "2023-05-10T17:28:51.437Z"
   },
   {
    "duration": 10,
    "start_time": "2023-05-10T17:28:51.739Z"
   },
   {
    "duration": 6,
    "start_time": "2023-05-10T17:28:52.165Z"
   },
   {
    "duration": 4,
    "start_time": "2023-05-10T17:28:53.152Z"
   },
   {
    "duration": 11,
    "start_time": "2023-05-10T17:28:53.935Z"
   },
   {
    "duration": 25,
    "start_time": "2023-05-10T17:28:57.163Z"
   },
   {
    "duration": 23,
    "start_time": "2023-05-10T17:29:24.349Z"
   },
   {
    "duration": 22,
    "start_time": "2023-05-10T17:29:52.764Z"
   },
   {
    "duration": 69,
    "start_time": "2023-05-10T17:45:31.853Z"
   },
   {
    "duration": 15,
    "start_time": "2023-05-10T17:45:32.223Z"
   },
   {
    "duration": 17,
    "start_time": "2023-05-10T17:45:32.579Z"
   },
   {
    "duration": 12,
    "start_time": "2023-05-10T17:45:33.304Z"
   },
   {
    "duration": 47,
    "start_time": "2023-05-10T17:45:33.652Z"
   },
   {
    "duration": 4,
    "start_time": "2023-05-10T17:45:34.171Z"
   },
   {
    "duration": 8,
    "start_time": "2023-05-10T17:45:34.541Z"
   },
   {
    "duration": 5,
    "start_time": "2023-05-10T17:45:35.140Z"
   },
   {
    "duration": 6,
    "start_time": "2023-05-10T17:45:35.432Z"
   },
   {
    "duration": 5,
    "start_time": "2023-05-10T17:45:36.323Z"
   },
   {
    "duration": 50,
    "start_time": "2023-05-10T17:45:36.865Z"
   },
   {
    "duration": 15,
    "start_time": "2023-05-10T17:45:37.204Z"
   },
   {
    "duration": 4,
    "start_time": "2023-05-10T17:45:37.708Z"
   },
   {
    "duration": 12,
    "start_time": "2023-05-10T17:45:38.134Z"
   },
   {
    "duration": 25,
    "start_time": "2023-05-10T17:45:38.849Z"
   },
   {
    "duration": 27,
    "start_time": "2023-05-10T17:45:39.029Z"
   },
   {
    "duration": 4,
    "start_time": "2023-05-10T17:45:39.621Z"
   },
   {
    "duration": 10,
    "start_time": "2023-05-10T17:45:39.779Z"
   },
   {
    "duration": 5,
    "start_time": "2023-05-10T17:45:40.192Z"
   },
   {
    "duration": 4,
    "start_time": "2023-05-10T17:45:41.308Z"
   },
   {
    "duration": 8,
    "start_time": "2023-05-10T17:45:41.742Z"
   },
   {
    "duration": 28,
    "start_time": "2023-05-10T17:45:43.108Z"
   },
   {
    "duration": 27,
    "start_time": "2023-05-10T18:01:38.964Z"
   },
   {
    "duration": 35,
    "start_time": "2023-05-10T18:10:00.149Z"
   },
   {
    "duration": 20,
    "start_time": "2023-05-10T18:10:17.422Z"
   },
   {
    "duration": 20,
    "start_time": "2023-05-10T18:12:21.057Z"
   },
   {
    "duration": 42,
    "start_time": "2023-05-14T12:46:02.170Z"
   },
   {
    "duration": 438,
    "start_time": "2023-05-14T12:46:09.150Z"
   },
   {
    "duration": 19,
    "start_time": "2023-05-14T12:46:09.590Z"
   },
   {
    "duration": 12,
    "start_time": "2023-05-14T12:46:09.789Z"
   },
   {
    "duration": 9,
    "start_time": "2023-05-14T12:46:10.423Z"
   },
   {
    "duration": 29,
    "start_time": "2023-05-14T12:46:10.754Z"
   },
   {
    "duration": 3,
    "start_time": "2023-05-14T12:46:11.263Z"
   },
   {
    "duration": 7,
    "start_time": "2023-05-14T12:46:11.554Z"
   },
   {
    "duration": 3,
    "start_time": "2023-05-14T12:46:12.005Z"
   },
   {
    "duration": 6,
    "start_time": "2023-05-14T12:46:12.312Z"
   },
   {
    "duration": 4,
    "start_time": "2023-05-14T12:46:12.621Z"
   },
   {
    "duration": 28,
    "start_time": "2023-05-14T12:46:13.079Z"
   },
   {
    "duration": 9,
    "start_time": "2023-05-14T12:46:13.397Z"
   },
   {
    "duration": 3,
    "start_time": "2023-05-14T12:46:13.840Z"
   },
   {
    "duration": 10,
    "start_time": "2023-05-14T12:46:14.252Z"
   },
   {
    "duration": 18,
    "start_time": "2023-05-14T12:46:14.404Z"
   },
   {
    "duration": 15,
    "start_time": "2023-05-14T12:46:14.490Z"
   },
   {
    "duration": 3,
    "start_time": "2023-05-14T12:46:14.882Z"
   },
   {
    "duration": 8,
    "start_time": "2023-05-14T12:46:14.990Z"
   },
   {
    "duration": 5,
    "start_time": "2023-05-14T12:46:15.150Z"
   },
   {
    "duration": 3,
    "start_time": "2023-05-14T12:46:15.347Z"
   },
   {
    "duration": 8,
    "start_time": "2023-05-14T12:46:15.441Z"
   },
   {
    "duration": 352,
    "start_time": "2023-05-14T12:46:15.721Z"
   },
   {
    "duration": 22,
    "start_time": "2023-05-14T12:46:16.076Z"
   },
   {
    "duration": 263,
    "start_time": "2023-05-14T12:46:59.991Z"
   },
   {
    "duration": 18,
    "start_time": "2023-05-14T12:47:11.851Z"
   },
   {
    "duration": 19,
    "start_time": "2023-05-14T12:47:38.691Z"
   },
   {
    "duration": 26,
    "start_time": "2023-05-14T12:48:01.702Z"
   },
   {
    "duration": 25,
    "start_time": "2023-05-14T12:50:56.711Z"
   },
   {
    "duration": 18,
    "start_time": "2023-05-14T12:51:54.486Z"
   },
   {
    "duration": 22,
    "start_time": "2023-05-14T12:52:09.995Z"
   },
   {
    "duration": 32,
    "start_time": "2023-05-14T12:53:25.662Z"
   },
   {
    "duration": 24,
    "start_time": "2023-05-14T12:53:41.699Z"
   },
   {
    "duration": 21,
    "start_time": "2023-05-14T12:54:36.845Z"
   },
   {
    "duration": 20,
    "start_time": "2023-05-14T12:54:56.855Z"
   },
   {
    "duration": 23,
    "start_time": "2023-05-14T13:02:03.996Z"
   },
   {
    "duration": 25,
    "start_time": "2023-05-14T13:03:06.922Z"
   },
   {
    "duration": 22,
    "start_time": "2023-05-14T13:03:18.993Z"
   },
   {
    "duration": 23,
    "start_time": "2023-05-14T13:03:30.998Z"
   },
   {
    "duration": 16,
    "start_time": "2023-05-14T13:03:36.983Z"
   },
   {
    "duration": 27,
    "start_time": "2023-05-14T13:04:52.516Z"
   },
   {
    "duration": 34,
    "start_time": "2023-05-14T13:05:34.998Z"
   },
   {
    "duration": 27,
    "start_time": "2023-05-14T13:05:39.990Z"
   },
   {
    "duration": 19,
    "start_time": "2023-05-14T13:05:46.444Z"
   },
   {
    "duration": 21,
    "start_time": "2023-05-14T13:06:06.660Z"
   },
   {
    "duration": 19,
    "start_time": "2023-05-14T13:06:11.048Z"
   },
   {
    "duration": 26,
    "start_time": "2023-05-14T13:06:31.525Z"
   },
   {
    "duration": 18,
    "start_time": "2023-05-14T13:06:47.361Z"
   },
   {
    "duration": 22,
    "start_time": "2023-05-14T13:13:46.317Z"
   },
   {
    "duration": 843,
    "start_time": "2023-05-14T13:23:45.559Z"
   },
   {
    "duration": 892,
    "start_time": "2023-05-14T13:24:03.088Z"
   },
   {
    "duration": 778,
    "start_time": "2023-05-14T13:31:08.022Z"
   },
   {
    "duration": 34,
    "start_time": "2023-05-14T13:31:41.829Z"
   },
   {
    "duration": 33,
    "start_time": "2023-05-14T13:31:50.593Z"
   },
   {
    "duration": 19,
    "start_time": "2023-05-14T13:41:43.022Z"
   },
   {
    "duration": 31,
    "start_time": "2023-05-14T13:42:04.567Z"
   },
   {
    "duration": 26,
    "start_time": "2023-05-14T13:42:19.070Z"
   },
   {
    "duration": 20,
    "start_time": "2023-05-14T13:42:38.025Z"
   },
   {
    "duration": 32,
    "start_time": "2023-05-14T13:55:34.805Z"
   },
   {
    "duration": 29,
    "start_time": "2023-05-14T13:55:45.025Z"
   },
   {
    "duration": 37,
    "start_time": "2023-05-14T13:55:51.022Z"
   },
   {
    "duration": 25,
    "start_time": "2023-05-14T13:56:02.544Z"
   },
   {
    "duration": 22,
    "start_time": "2023-05-14T13:56:10.046Z"
   },
   {
    "duration": 32,
    "start_time": "2023-05-14T13:56:13.236Z"
   },
   {
    "duration": 25,
    "start_time": "2023-05-14T13:56:18.911Z"
   },
   {
    "duration": 27,
    "start_time": "2023-05-14T13:58:41.044Z"
   },
   {
    "duration": 29,
    "start_time": "2023-05-14T13:58:50.535Z"
   },
   {
    "duration": 26,
    "start_time": "2023-05-14T13:59:13.291Z"
   },
   {
    "duration": 32,
    "start_time": "2023-05-14T14:11:42.343Z"
   },
   {
    "duration": 117,
    "start_time": "2023-05-14T14:21:42.876Z"
   },
   {
    "duration": 39,
    "start_time": "2023-05-14T14:22:11.720Z"
   },
   {
    "duration": 68,
    "start_time": "2023-05-14T14:22:44.358Z"
   },
   {
    "duration": 87,
    "start_time": "2023-05-14T14:22:52.169Z"
   },
   {
    "duration": 35,
    "start_time": "2023-05-14T14:23:29.024Z"
   },
   {
    "duration": 542,
    "start_time": "2023-05-14T22:00:58.211Z"
   },
   {
    "duration": 22,
    "start_time": "2023-05-14T22:00:58.756Z"
   },
   {
    "duration": 13,
    "start_time": "2023-05-14T22:00:58.780Z"
   },
   {
    "duration": 9,
    "start_time": "2023-05-14T22:00:58.795Z"
   },
   {
    "duration": 47,
    "start_time": "2023-05-14T22:00:58.806Z"
   },
   {
    "duration": 4,
    "start_time": "2023-05-14T22:00:58.855Z"
   },
   {
    "duration": 24,
    "start_time": "2023-05-14T22:00:58.860Z"
   },
   {
    "duration": 14,
    "start_time": "2023-05-14T22:00:58.886Z"
   },
   {
    "duration": 19,
    "start_time": "2023-05-14T22:00:58.902Z"
   },
   {
    "duration": 6,
    "start_time": "2023-05-14T22:00:58.923Z"
   },
   {
    "duration": 37,
    "start_time": "2023-05-14T22:00:58.930Z"
   },
   {
    "duration": 8,
    "start_time": "2023-05-14T22:00:58.969Z"
   },
   {
    "duration": 8,
    "start_time": "2023-05-14T22:00:58.979Z"
   },
   {
    "duration": 13,
    "start_time": "2023-05-14T22:00:58.988Z"
   },
   {
    "duration": 24,
    "start_time": "2023-05-14T22:00:59.003Z"
   },
   {
    "duration": 16,
    "start_time": "2023-05-14T22:00:59.029Z"
   },
   {
    "duration": 6,
    "start_time": "2023-05-14T22:00:59.046Z"
   },
   {
    "duration": 11,
    "start_time": "2023-05-14T22:00:59.053Z"
   },
   {
    "duration": 5,
    "start_time": "2023-05-14T22:00:59.065Z"
   },
   {
    "duration": 3,
    "start_time": "2023-05-14T22:00:59.072Z"
   },
   {
    "duration": 39,
    "start_time": "2023-05-14T22:00:59.076Z"
   },
   {
    "duration": 442,
    "start_time": "2023-05-14T22:00:59.120Z"
   },
   {
    "duration": 62,
    "start_time": "2023-05-14T22:00:59.564Z"
   },
   {
    "duration": 19,
    "start_time": "2023-05-14T22:00:59.628Z"
   },
   {
    "duration": 75,
    "start_time": "2023-05-14T22:00:59.648Z"
   },
   {
    "duration": 1300,
    "start_time": "2023-05-15T14:27:17.964Z"
   },
   {
    "duration": 21,
    "start_time": "2023-05-15T14:27:19.266Z"
   },
   {
    "duration": 22,
    "start_time": "2023-05-15T14:27:19.289Z"
   },
   {
    "duration": 42,
    "start_time": "2023-05-15T14:27:19.313Z"
   },
   {
    "duration": 40,
    "start_time": "2023-05-15T14:27:19.360Z"
   },
   {
    "duration": 3,
    "start_time": "2023-05-15T14:27:19.402Z"
   },
   {
    "duration": 25,
    "start_time": "2023-05-15T14:27:19.406Z"
   },
   {
    "duration": 26,
    "start_time": "2023-05-15T14:27:19.444Z"
   },
   {
    "duration": 10,
    "start_time": "2023-05-15T14:27:19.471Z"
   },
   {
    "duration": 8,
    "start_time": "2023-05-15T14:27:19.483Z"
   },
   {
    "duration": 76,
    "start_time": "2023-05-15T14:27:19.492Z"
   },
   {
    "duration": 11,
    "start_time": "2023-05-15T14:27:19.570Z"
   },
   {
    "duration": 13,
    "start_time": "2023-05-15T14:27:19.582Z"
   },
   {
    "duration": 17,
    "start_time": "2023-05-15T14:27:19.596Z"
   },
   {
    "duration": 74,
    "start_time": "2023-05-15T14:27:19.615Z"
   },
   {
    "duration": 16,
    "start_time": "2023-05-15T14:27:19.691Z"
   },
   {
    "duration": 3,
    "start_time": "2023-05-15T14:27:19.709Z"
   },
   {
    "duration": 67,
    "start_time": "2023-05-15T14:27:19.714Z"
   },
   {
    "duration": 22,
    "start_time": "2023-05-15T14:27:19.783Z"
   },
   {
    "duration": 3,
    "start_time": "2023-05-15T14:27:19.807Z"
   },
   {
    "duration": 60,
    "start_time": "2023-05-15T14:27:19.812Z"
   },
   {
    "duration": 584,
    "start_time": "2023-05-15T14:27:19.873Z"
   },
   {
    "duration": 22,
    "start_time": "2023-05-15T14:27:20.465Z"
   },
   {
    "duration": 22,
    "start_time": "2023-05-15T14:27:20.489Z"
   },
   {
    "duration": 35,
    "start_time": "2023-05-15T14:27:20.512Z"
   },
   {
    "duration": 591,
    "start_time": "2023-05-15T18:58:42.675Z"
   },
   {
    "duration": 37,
    "start_time": "2023-05-15T18:58:43.268Z"
   },
   {
    "duration": 14,
    "start_time": "2023-05-15T18:58:43.307Z"
   },
   {
    "duration": 19,
    "start_time": "2023-05-15T18:58:43.378Z"
   },
   {
    "duration": 93,
    "start_time": "2023-05-15T18:58:43.399Z"
   },
   {
    "duration": 4,
    "start_time": "2023-05-15T18:58:43.495Z"
   },
   {
    "duration": 11,
    "start_time": "2023-05-15T18:58:43.502Z"
   },
   {
    "duration": 4,
    "start_time": "2023-05-15T18:58:43.514Z"
   },
   {
    "duration": 7,
    "start_time": "2023-05-15T18:58:43.520Z"
   },
   {
    "duration": 9,
    "start_time": "2023-05-15T18:58:43.589Z"
   },
   {
    "duration": 98,
    "start_time": "2023-05-15T18:58:43.600Z"
   },
   {
    "duration": 11,
    "start_time": "2023-05-15T18:58:43.700Z"
   },
   {
    "duration": 5,
    "start_time": "2023-05-15T18:58:43.712Z"
   },
   {
    "duration": 71,
    "start_time": "2023-05-15T18:58:43.719Z"
   },
   {
    "duration": 34,
    "start_time": "2023-05-15T18:58:43.792Z"
   },
   {
    "duration": 25,
    "start_time": "2023-05-15T18:58:43.875Z"
   },
   {
    "duration": 5,
    "start_time": "2023-05-15T18:58:43.902Z"
   },
   {
    "duration": 87,
    "start_time": "2023-05-15T18:58:43.909Z"
   },
   {
    "duration": 7,
    "start_time": "2023-05-15T18:58:43.998Z"
   },
   {
    "duration": 4,
    "start_time": "2023-05-15T18:58:44.007Z"
   },
   {
    "duration": 68,
    "start_time": "2023-05-15T18:58:44.013Z"
   },
   {
    "duration": 938,
    "start_time": "2023-05-15T18:58:44.083Z"
   },
   {
    "duration": 85,
    "start_time": "2023-05-15T18:58:45.024Z"
   },
   {
    "duration": 64,
    "start_time": "2023-05-15T18:58:45.111Z"
   },
   {
    "duration": 30,
    "start_time": "2023-05-15T18:58:45.177Z"
   }
  ],
  "colab": {
   "name": "dpp_template_part2.ipynb",
   "provenance": []
  },
  "kernelspec": {
   "display_name": "Python 3 (ipykernel)",
   "language": "python",
   "name": "python3"
  },
  "language_info": {
   "codemirror_mode": {
    "name": "ipython",
    "version": 3
   },
   "file_extension": ".py",
   "mimetype": "text/x-python",
   "name": "python",
   "nbconvert_exporter": "python",
   "pygments_lexer": "ipython3",
   "version": "3.9.5"
  },
  "toc": {
   "base_numbering": 1,
   "nav_menu": {},
   "number_sections": true,
   "sideBar": true,
   "skip_h1_title": true,
   "title_cell": "Table of Contents",
   "title_sidebar": "Contents",
   "toc_cell": false,
   "toc_position": {
    "height": "calc(100% - 180px)",
    "left": "10px",
    "top": "150px",
    "width": "165px"
   },
   "toc_section_display": true,
   "toc_window_display": true
  }
 },
 "nbformat": 4,
 "nbformat_minor": 5
}

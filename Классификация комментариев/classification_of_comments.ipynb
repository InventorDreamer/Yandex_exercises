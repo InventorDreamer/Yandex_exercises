{
 "cells": [
  {
   "cell_type": "markdown",
   "metadata": {
    "toc": true
   },
   "source": [
    "<h1>Содержание<span class=\"tocSkip\"></span></h1>\n",
    "<div class=\"toc\"><ul class=\"toc-item\"><li><span><a href=\"#Загрузка-и-подготовка-данных\" data-toc-modified-id=\"Загрузка-и-подготовка-данных-1\"><span class=\"toc-item-num\">1&nbsp;&nbsp;</span>Загрузка и подготовка данных</a></span><ul class=\"toc-item\"><li><span><a href=\"#Изучение-исходных-данных\" data-toc-modified-id=\"Изучение-исходных-данных-1.1\"><span class=\"toc-item-num\">1.1&nbsp;&nbsp;</span>Изучение исходных данных</a></span></li><li><span><a href=\"#Подготовка-данных\" data-toc-modified-id=\"Подготовка-данных-1.2\"><span class=\"toc-item-num\">1.2&nbsp;&nbsp;</span>Подготовка данных</a></span><ul class=\"toc-item\"><li><span><a href=\"#Предобработка-текста\" data-toc-modified-id=\"Предобработка-текста-1.2.1\"><span class=\"toc-item-num\">1.2.1&nbsp;&nbsp;</span>Предобработка текста</a></span></li><li><span><a href=\"#Подготовка-данных-для-обучения\" data-toc-modified-id=\"Подготовка-данных-для-обучения-1.2.2\"><span class=\"toc-item-num\">1.2.2&nbsp;&nbsp;</span>Подготовка данных для обучения</a></span></li><li><span><a href=\"#Векторизация-текста\" data-toc-modified-id=\"Векторизация-текста-1.2.3\"><span class=\"toc-item-num\">1.2.3&nbsp;&nbsp;</span>Векторизация текста</a></span></li></ul></li><li><span><a href=\"#Промежуточный-вывод\" data-toc-modified-id=\"Промежуточный-вывод-1.3\"><span class=\"toc-item-num\">1.3&nbsp;&nbsp;</span>Промежуточный вывод</a></span></li></ul></li><li><span><a href=\"#Обучение\" data-toc-modified-id=\"Обучение-2\"><span class=\"toc-item-num\">2&nbsp;&nbsp;</span>Обучение</a></span><ul class=\"toc-item\"><li><span><a href=\"#LogisticRegression\" data-toc-modified-id=\"LogisticRegression-2.1\"><span class=\"toc-item-num\">2.1&nbsp;&nbsp;</span>LogisticRegression</a></span></li><li><span><a href=\"#RandomForestClassifier\" data-toc-modified-id=\"RandomForestClassifier-2.2\"><span class=\"toc-item-num\">2.2&nbsp;&nbsp;</span>RandomForestClassifier</a></span></li><li><span><a href=\"#CatBoostClassifier\" data-toc-modified-id=\"CatBoostClassifier-2.3\"><span class=\"toc-item-num\">2.3&nbsp;&nbsp;</span>CatBoostClassifier</a></span></li></ul></li><li><span><a href=\"#Выводы\" data-toc-modified-id=\"Выводы-3\"><span class=\"toc-item-num\">3&nbsp;&nbsp;</span>Выводы</a></span></li><li><span><a href=\"#Чек-лист-проверки\" data-toc-modified-id=\"Чек-лист-проверки-4\"><span class=\"toc-item-num\">4&nbsp;&nbsp;</span>Чек-лист проверки</a></span></li></ul></div>"
   ]
  },
  {
   "cell_type": "markdown",
   "metadata": {},
   "source": [
    "# Проект для «Викишоп»"
   ]
  },
  {
   "cell_type": "markdown",
   "metadata": {},
   "source": [
    "Интернет-магазин «Викишоп» запускает новый сервис. Теперь пользователи могут редактировать и дополнять описания товаров, как в вики-сообществах. То есть клиенты предлагают свои правки и комментируют изменения других. Магазину нужен инструмент, который будет искать токсичные комментарии и отправлять их на модерацию. \n",
    "\n",
    "Обучите модель классифицировать комментарии на позитивные и негативные. В вашем распоряжении набор данных с разметкой о токсичности правок.\n",
    "\n",
    "Постройте модель со значением метрики качества *F1* не меньше 0.75. \n",
    "\n",
    "**Инструкция по выполнению проекта**\n",
    "\n",
    "1. Загрузите и подготовьте данные.\n",
    "2. Обучите разные модели. \n",
    "3. Сделайте выводы.\n",
    "\n",
    "Для выполнения проекта применять *BERT* необязательно, но вы можете попробовать.\n",
    "\n",
    "# Описание данных\n",
    "\n",
    "Столбец text в нём содержит текст комментария, а toxic — целевой признак."
   ]
  },
  {
   "cell_type": "markdown",
   "metadata": {},
   "source": [
    "# Импортирование и установка библиотек"
   ]
  },
  {
   "cell_type": "code",
   "execution_count": 21,
   "metadata": {},
   "outputs": [],
   "source": [
    "!pip install catboost --q"
   ]
  },
  {
   "cell_type": "code",
   "execution_count": 22,
   "metadata": {},
   "outputs": [
    {
     "name": "stderr",
     "output_type": "stream",
     "text": [
      "[nltk_data] Downloading package averaged_perceptron_tagger to\n",
      "[nltk_data]     /home/jovyan/nltk_data...\n",
      "[nltk_data]   Package averaged_perceptron_tagger is already up-to-\n",
      "[nltk_data]       date!\n",
      "[nltk_data] Downloading package wordnet to /home/jovyan/nltk_data...\n",
      "[nltk_data]   Package wordnet is already up-to-date!\n",
      "[nltk_data] Downloading package punkt to /home/jovyan/nltk_data...\n",
      "[nltk_data]   Package punkt is already up-to-date!\n"
     ]
    }
   ],
   "source": [
    "import pandas as pd\n",
    "import matplotlib.pyplot as plt\n",
    "import numpy as np\n",
    "import seaborn as sns\n",
    "import lightgbm as lgb\n",
    "import time\n",
    "import re \n",
    "import nltk\n",
    "from tqdm import tqdm\n",
    "import nltk\n",
    "from nltk.corpus import wordnet\n",
    "from nltk.stem import WordNetLemmatizer\n",
    "\n",
    "from sklearn.utils import resample\n",
    "from sklearn.model_selection import train_test_split \n",
    "from sklearn.model_selection import GridSearchCV \n",
    "from sklearn.linear_model import LogisticRegression, SGDClassifier\n",
    "from sklearn.ensemble import RandomForestClassifier\n",
    "from catboost import CatBoostClassifier\n",
    "from sklearn.metrics import make_scorer\n",
    "from sklearn.model_selection import TimeSeriesSplit, cross_val_score\n",
    "from sklearn.model_selection import RandomizedSearchCV\n",
    "from nltk.stem import WordNetLemmatizer \n",
    "from sklearn.feature_extraction.text import TfidfVectorizer\n",
    "from sklearn.metrics import f1_score\n",
    "from sklearn.pipeline import Pipeline\n",
    "from lightgbm import LGBMClassifier\n",
    "from nltk.corpus import stopwords\n",
    "\n",
    "TEST_SIZE = 0.25\n",
    "RANDOM_STATE = 12345\n",
    "\n",
    "import warnings\n",
    "warnings.filterwarnings(\"ignore\")\n",
    "\n",
    "nltk.download('averaged_perceptron_tagger')\n",
    "nltk.download('wordnet')\n",
    "nltk.download('punkt')\n",
    "\n",
    "lemmatizer = WordNetLemmatizer()"
   ]
  },
  {
   "cell_type": "markdown",
   "metadata": {},
   "source": [
    "# Методы для работы "
   ]
  },
  {
   "cell_type": "markdown",
   "metadata": {},
   "source": [
    "**Метод для очистки и нормализации текста**"
   ]
  },
  {
   "cell_type": "code",
   "execution_count": 23,
   "metadata": {},
   "outputs": [],
   "source": [
    "def clean_text(text):\n",
    "    return \" \".join(re.sub(r'[^a-zA-Z ]', ' ', text).split())"
   ]
  },
  {
   "cell_type": "markdown",
   "metadata": {},
   "source": [
    "**Метод для лемматизации текста**"
   ]
  },
  {
   "cell_type": "code",
   "execution_count": 24,
   "metadata": {},
   "outputs": [],
   "source": [
    "def get_wordnet_pos(treebank_tag):\n",
    "    if treebank_tag.startswith('J'):\n",
    "        return wordnet.ADJ\n",
    "    elif treebank_tag.startswith('V'):\n",
    "        return wordnet.VERB\n",
    "    elif treebank_tag.startswith('N'):\n",
    "        return wordnet.NOUN\n",
    "    elif treebank_tag.startswith('R'):\n",
    "        return wordnet.ADV\n",
    "    else:\n",
    "        return wordnet.NOUN\n",
    "\n",
    "def lemmatize_text(text):\n",
    "    tokens = nltk.word_tokenize(text)\n",
    "    tagged_tokens = nltk.pos_tag(tokens)\n",
    "    lemmatized_tokens = [lemmatizer.lemmatize(word, get_wordnet_pos(tag)) for word, tag in tagged_tokens]\n",
    "    return \" \".join(lemmatized_tokens)"
   ]
  },
  {
   "cell_type": "markdown",
   "metadata": {},
   "source": [
    "## Загрузка и подготовка данных"
   ]
  },
  {
   "cell_type": "markdown",
   "metadata": {},
   "source": [
    "### Изучение исходных данных"
   ]
  },
  {
   "cell_type": "code",
   "execution_count": 25,
   "metadata": {},
   "outputs": [
    {
     "name": "stdout",
     "output_type": "stream",
     "text": [
      "<class 'pandas.core.frame.DataFrame'>\n",
      "RangeIndex: 159292 entries, 0 to 159291\n",
      "Data columns (total 3 columns):\n",
      " #   Column      Non-Null Count   Dtype \n",
      "---  ------      --------------   ----- \n",
      " 0   Unnamed: 0  159292 non-null  int64 \n",
      " 1   text        159292 non-null  object\n",
      " 2   toxic       159292 non-null  int64 \n",
      "dtypes: int64(2), object(1)\n",
      "memory usage: 3.6+ MB\n",
      "None\n"
     ]
    },
    {
     "data": {
      "text/html": [
       "<div>\n",
       "<style scoped>\n",
       "    .dataframe tbody tr th:only-of-type {\n",
       "        vertical-align: middle;\n",
       "    }\n",
       "\n",
       "    .dataframe tbody tr th {\n",
       "        vertical-align: top;\n",
       "    }\n",
       "\n",
       "    .dataframe thead th {\n",
       "        text-align: right;\n",
       "    }\n",
       "</style>\n",
       "<table border=\"1\" class=\"dataframe\">\n",
       "  <thead>\n",
       "    <tr style=\"text-align: right;\">\n",
       "      <th></th>\n",
       "      <th>Unnamed: 0</th>\n",
       "      <th>text</th>\n",
       "      <th>toxic</th>\n",
       "    </tr>\n",
       "  </thead>\n",
       "  <tbody>\n",
       "    <tr>\n",
       "      <th>0</th>\n",
       "      <td>0</td>\n",
       "      <td>Explanation\\nWhy the edits made under my usern...</td>\n",
       "      <td>0</td>\n",
       "    </tr>\n",
       "    <tr>\n",
       "      <th>1</th>\n",
       "      <td>1</td>\n",
       "      <td>D'aww! He matches this background colour I'm s...</td>\n",
       "      <td>0</td>\n",
       "    </tr>\n",
       "    <tr>\n",
       "      <th>2</th>\n",
       "      <td>2</td>\n",
       "      <td>Hey man, I'm really not trying to edit war. It...</td>\n",
       "      <td>0</td>\n",
       "    </tr>\n",
       "    <tr>\n",
       "      <th>3</th>\n",
       "      <td>3</td>\n",
       "      <td>\"\\nMore\\nI can't make any real suggestions on ...</td>\n",
       "      <td>0</td>\n",
       "    </tr>\n",
       "    <tr>\n",
       "      <th>4</th>\n",
       "      <td>4</td>\n",
       "      <td>You, sir, are my hero. Any chance you remember...</td>\n",
       "      <td>0</td>\n",
       "    </tr>\n",
       "  </tbody>\n",
       "</table>\n",
       "</div>"
      ],
      "text/plain": [
       "   Unnamed: 0                                               text  toxic\n",
       "0           0  Explanation\\nWhy the edits made under my usern...      0\n",
       "1           1  D'aww! He matches this background colour I'm s...      0\n",
       "2           2  Hey man, I'm really not trying to edit war. It...      0\n",
       "3           3  \"\\nMore\\nI can't make any real suggestions on ...      0\n",
       "4           4  You, sir, are my hero. Any chance you remember...      0"
      ]
     },
     "metadata": {},
     "output_type": "display_data"
    }
   ],
   "source": [
    "data = pd.read_csv('/datasets/toxic_comments.csv')\n",
    "\n",
    "print(data.info())\n",
    "display(data.head())"
   ]
  },
  {
   "cell_type": "markdown",
   "metadata": {},
   "source": [
    "**Описание данных**\n",
    "\n",
    "Столбец *text* в нём содержит текст комментария, а *toxic* — целевой признак."
   ]
  },
  {
   "cell_type": "markdown",
   "metadata": {},
   "source": [
    "### Подготовка данных"
   ]
  },
  {
   "cell_type": "markdown",
   "metadata": {},
   "source": [
    "**Удалим ненужный индексирующий столбец 'Unnamed: 0'**"
   ]
  },
  {
   "cell_type": "code",
   "execution_count": 26,
   "metadata": {},
   "outputs": [
    {
     "name": "stdout",
     "output_type": "stream",
     "text": [
      "Index(['text', 'toxic'], dtype='object')\n"
     ]
    }
   ],
   "source": [
    "data = data.drop(columns=['Unnamed: 0'])\n",
    "\n",
    "print(data.columns)"
   ]
  },
  {
   "cell_type": "markdown",
   "metadata": {},
   "source": [
    "#### Предобработка текста"
   ]
  },
  {
   "cell_type": "markdown",
   "metadata": {},
   "source": [
    "**Очистка и нормализация текстов**"
   ]
  },
  {
   "cell_type": "code",
   "execution_count": 27,
   "metadata": {},
   "outputs": [],
   "source": [
    "data['text'] = data['text'].map(clean_text)"
   ]
  },
  {
   "cell_type": "markdown",
   "metadata": {},
   "source": [
    "**Лемматизация текста**"
   ]
  },
  {
   "cell_type": "code",
   "execution_count": 28,
   "metadata": {},
   "outputs": [],
   "source": [
    "data['text'] = data['text'].map(lemmatize_text)"
   ]
  },
  {
   "cell_type": "code",
   "execution_count": 29,
   "metadata": {},
   "outputs": [
    {
     "data": {
      "text/html": [
       "<div>\n",
       "<style scoped>\n",
       "    .dataframe tbody tr th:only-of-type {\n",
       "        vertical-align: middle;\n",
       "    }\n",
       "\n",
       "    .dataframe tbody tr th {\n",
       "        vertical-align: top;\n",
       "    }\n",
       "\n",
       "    .dataframe thead th {\n",
       "        text-align: right;\n",
       "    }\n",
       "</style>\n",
       "<table border=\"1\" class=\"dataframe\">\n",
       "  <thead>\n",
       "    <tr style=\"text-align: right;\">\n",
       "      <th></th>\n",
       "      <th>text</th>\n",
       "      <th>toxic</th>\n",
       "    </tr>\n",
       "  </thead>\n",
       "  <tbody>\n",
       "    <tr>\n",
       "      <th>0</th>\n",
       "      <td>Explanation Why the edits make under my userna...</td>\n",
       "      <td>0</td>\n",
       "    </tr>\n",
       "    <tr>\n",
       "      <th>1</th>\n",
       "      <td>D aww He match this background colour I m seem...</td>\n",
       "      <td>0</td>\n",
       "    </tr>\n",
       "    <tr>\n",
       "      <th>2</th>\n",
       "      <td>Hey man I m really not try to edit war It s ju...</td>\n",
       "      <td>0</td>\n",
       "    </tr>\n",
       "    <tr>\n",
       "      <th>3</th>\n",
       "      <td>More I can t make any real suggestion on impro...</td>\n",
       "      <td>0</td>\n",
       "    </tr>\n",
       "    <tr>\n",
       "      <th>4</th>\n",
       "      <td>You sir be my hero Any chance you remember wha...</td>\n",
       "      <td>0</td>\n",
       "    </tr>\n",
       "  </tbody>\n",
       "</table>\n",
       "</div>"
      ],
      "text/plain": [
       "                                                text  toxic\n",
       "0  Explanation Why the edits make under my userna...      0\n",
       "1  D aww He match this background colour I m seem...      0\n",
       "2  Hey man I m really not try to edit war It s ju...      0\n",
       "3  More I can t make any real suggestion on impro...      0\n",
       "4  You sir be my hero Any chance you remember wha...      0"
      ]
     },
     "metadata": {},
     "output_type": "display_data"
    }
   ],
   "source": [
    "display(data.head())"
   ]
  },
  {
   "cell_type": "markdown",
   "metadata": {},
   "source": [
    "**Удаление дубликатов**"
   ]
  },
  {
   "cell_type": "code",
   "execution_count": 30,
   "metadata": {},
   "outputs": [
    {
     "name": "stdout",
     "output_type": "stream",
     "text": [
      "Количество дубликатов до удаления:  1160\n",
      "Количество дубликатов после удаления:  0\n"
     ]
    }
   ],
   "source": [
    "print('Количество дубликатов до удаления: ', data.duplicated().sum())\n",
    "data.drop_duplicates(inplace = True)\n",
    "print('Количество дубликатов после удаления: ', data.duplicated().sum())"
   ]
  },
  {
   "cell_type": "markdown",
   "metadata": {},
   "source": [
    "#### Подготовка данных для обучения"
   ]
  },
  {
   "cell_type": "markdown",
   "metadata": {},
   "source": [
    "**Выделим целевой и остальные признаки**"
   ]
  },
  {
   "cell_type": "code",
   "execution_count": 31,
   "metadata": {},
   "outputs": [],
   "source": [
    "features = data['text']\n",
    "target = data['toxic']"
   ]
  },
  {
   "cell_type": "markdown",
   "metadata": {},
   "source": [
    "**Разделение данных на выборки: обучающую и тестовую в соотношении 1 к 4.**"
   ]
  },
  {
   "cell_type": "code",
   "execution_count": 32,
   "metadata": {},
   "outputs": [],
   "source": [
    "features_train_1, features_test_1, target_train, target_test = train_test_split(\n",
    "    features, \n",
    "    target, \n",
    "    test_size=TEST_SIZE, \n",
    "    random_state=RANDOM_STATE, \n",
    "    stratify = target)"
   ]
  },
  {
   "cell_type": "markdown",
   "metadata": {},
   "source": [
    "#### Векторизация текста "
   ]
  },
  {
   "cell_type": "code",
   "execution_count": 33,
   "metadata": {},
   "outputs": [],
   "source": [
    "try:\n",
    "    nltk.download('stopwords', quiet = True)\n",
    "except:\n",
    "    pass\n",
    "try:\n",
    "    stopwords = set(stopwords.words('english'))\n",
    "except:\n",
    "    pass\n",
    "\n",
    "count_tf_idf = TfidfVectorizer(stop_words=stopwords) \n",
    "\n",
    "features_train = count_tf_idf.fit_transform(features_train_1)\n",
    "features_test = count_tf_idf.transform(features_test_1)"
   ]
  },
  {
   "cell_type": "code",
   "execution_count": 34,
   "metadata": {},
   "outputs": [
    {
     "name": "stdout",
     "output_type": "stream",
     "text": [
      "(118599, 135467)\n",
      "(39533, 135467)\n",
      "(118599,)\n",
      "(39533,)\n"
     ]
    }
   ],
   "source": [
    "print(features_train.shape)\n",
    "print(features_test.shape)\n",
    "print(target_train.shape)\n",
    "print(target_test.shape)"
   ]
  },
  {
   "cell_type": "markdown",
   "metadata": {},
   "source": [
    "### Промежуточный вывод\n",
    "\n",
    "В результате этапа загрузки и подготовки данных были выполненые следующие шаги:\n",
    "1. Данные были успешно загружены и изучены:\n",
    "    * В датасете пропуски не наблюдаются\n",
    "    * Типы данных корректны\n",
    "    * Есть лишний индексирующий столбец \n",
    "2. Данные были подготовлены:\n",
    "    * Удалён ненужный столбец\n",
    "    * Выполнена предобработка текста в столбце 'text'\n",
    "    * Данные были подготовлены для обучения моделей\n",
    "\n",
    "**Описание данных**\n",
    "\n",
    "Столбец *text* в нём содержит текст комментария, а *toxic* — целевой признак."
   ]
  },
  {
   "cell_type": "markdown",
   "metadata": {},
   "source": [
    " "
   ]
  },
  {
   "cell_type": "markdown",
   "metadata": {},
   "source": [
    "## Обучение"
   ]
  },
  {
   "cell_type": "markdown",
   "metadata": {},
   "source": [
    "Для обучения возьмём такие модели, как:\n",
    "* LogisticRegression\n",
    "* RandomForestClassifier\n",
    "* CatBoostClassifier"
   ]
  },
  {
   "cell_type": "markdown",
   "metadata": {},
   "source": [
    "### LogisticRegression"
   ]
  },
  {
   "cell_type": "code",
   "execution_count": 35,
   "metadata": {},
   "outputs": [
    {
     "name": "stdout",
     "output_type": "stream",
     "text": [
      "Лучшие параметры: {'C': 10}\n",
      "Среднее качество модели (F1-score) на кросс-валидации: 0.7579\n",
      "_______________\n",
      "Среднее качество модели Логистической регрессии (F1-score) с использованием cross_val_score: 0.7423\n",
      "CPU times: user 1min 24s, sys: 1min 30s, total: 2min 55s\n",
      "Wall time: 2min 55s\n"
     ]
    }
   ],
   "source": [
    "%%time\n",
    "\n",
    "regression = LogisticRegression(fit_intercept=True, \n",
    "                                class_weight='balanced', \n",
    "                                random_state=42,\n",
    "                                solver='liblinear')\n",
    "\n",
    "regression_parameters = {'C': [0.1, 1, 10]}\n",
    "\n",
    "regression_grid = GridSearchCV(estimator=regression, \n",
    "                               param_grid=regression_parameters, \n",
    "                               scoring='f1', \n",
    "                               cv=3)\n",
    "regression_grid.fit(features_train, target_train)\n",
    "\n",
    "best_params = regression_grid.best_params_\n",
    "best_score = regression_grid.best_score_\n",
    "\n",
    "print(f\"Лучшие параметры: {best_params}\")\n",
    "print(f\"Среднее качество модели (F1-score) на кросс-валидации: {best_score:.4f}\")\n",
    "print('_______________')\n",
    "\n",
    "regression_cv_score = cross_val_score(regression, features_train, target_train, scoring='f1', cv=3).mean()\n",
    "print(f'Среднее качество модели Логистической регрессии (F1-score) с использованием cross_val_score: {regression_cv_score:.4f}')"
   ]
  },
  {
   "cell_type": "markdown",
   "metadata": {},
   "source": [
    "**Проверим качество модели на тестовых данных.**"
   ]
  },
  {
   "cell_type": "code",
   "execution_count": 36,
   "metadata": {},
   "outputs": [
    {
     "name": "stdout",
     "output_type": "stream",
     "text": [
      "F1-score модели Логистической регрессии на тестовых данных: 0.754\n",
      "CPU times: user 13.2 s, sys: 12.5 s, total: 25.7 s\n",
      "Wall time: 25.7 s\n"
     ]
    }
   ],
   "source": [
    "%%time\n",
    "from sklearn.metrics import f1_score\n",
    "\n",
    "regression_model = LogisticRegression(fit_intercept=True,\n",
    "                                      class_weight='balanced',\n",
    "                                      random_state=42,\n",
    "                                      solver='liblinear',\n",
    "                                      C=10)\n",
    "\n",
    "regression_model.fit(features_train, target_train)\n",
    "\n",
    "regression_predictions = regression_model.predict(features_test)\n",
    "\n",
    "regression_f1 = f1_score(target_test, regression_predictions)\n",
    "\n",
    "print(f\"F1-score модели Логистической регрессии на тестовых данных: {regression_f1:.3f}\")"
   ]
  },
  {
   "cell_type": "markdown",
   "metadata": {},
   "source": [
    "### RandomForestClassifier"
   ]
  },
  {
   "cell_type": "code",
   "execution_count": 37,
   "metadata": {
    "scrolled": true
   },
   "outputs": [
    {
     "name": "stdout",
     "output_type": "stream",
     "text": [
      "Fitting 3 folds for each of 8 candidates, totalling 24 fits\n",
      "Лучшие параметры: {'max_depth': 6, 'n_estimators': 35}\n",
      "Среднее качество модели (F1-score) на кросс-валидации: 0.3087\n",
      "_______________\n",
      "Среднее качество модели RandomForestClassifier (F1-score) с использованием cross_val_score: 0.5967\n",
      "CPU times: user 28min 49s, sys: 2.25 s, total: 28min 51s\n",
      "Wall time: 28min 52s\n"
     ]
    }
   ],
   "source": [
    "%%time\n",
    "\n",
    "random_forest = RandomForestClassifier(random_state=42, class_weight='balanced', n_jobs = -1)\n",
    "\n",
    "random_forest_parametrs = { \n",
    "     'n_estimators': range(20, 40, 5),\n",
    "     'max_depth': range(4, 8, 2)\n",
    "}\n",
    "\n",
    "random_forest_grid = GridSearchCV(estimator=random_forest, \n",
    "                                  param_grid=random_forest_parametrs, \n",
    "                                  scoring='f1', \n",
    "                                  cv=3, \n",
    "                                  verbose=1)\n",
    "random_forest_grid.fit(features_train, target_train)\n",
    "\n",
    "best_params_rf = random_forest_grid.best_params_\n",
    "best_score_rf = random_forest_grid.best_score_\n",
    "\n",
    "print(f\"Лучшие параметры: {best_params_rf}\")\n",
    "print(f\"Среднее качество модели (F1-score) на кросс-валидации: {best_score_rf:.4f}\")\n",
    "print('_______________')\n",
    "\n",
    "random_forest_cv_score = cross_val_score(random_forest, features_train, target_train, scoring='f1', cv=3).mean()\n",
    "print(f'Среднее качество модели RandomForestClassifier (F1-score) с использованием cross_val_score: {random_forest_cv_score:.4f}')\n"
   ]
  },
  {
   "cell_type": "markdown",
   "metadata": {},
   "source": [
    "### CatBoostClassifier"
   ]
  },
  {
   "cell_type": "markdown",
   "metadata": {},
   "source": [
    "**Отдельно выделим признаки и целевой признак для обучения CatBoost с меньшим количеством**"
   ]
  },
  {
   "cell_type": "code",
   "execution_count": 38,
   "metadata": {},
   "outputs": [],
   "source": [
    "features_train_cb = features_train_1[:900]\n",
    "features_test_cb = features_test_1[:300]\n",
    "target_train_cb = target_train[:900]\n",
    "target_test_cb = target_test[:300]"
   ]
  },
  {
   "cell_type": "code",
   "execution_count": 39,
   "metadata": {},
   "outputs": [
    {
     "name": "stderr",
     "output_type": "stream",
     "text": [
      "[nltk_data] Downloading package stopwords to /home/jovyan/nltk_data...\n",
      "[nltk_data]   Package stopwords is already up-to-date!\n"
     ]
    }
   ],
   "source": [
    "try:\n",
    "    nltk.download('stopwords')\n",
    "except:\n",
    "    pass\n",
    "try:\n",
    "    stopwords = set(stopwords.words('english'))\n",
    "except:\n",
    "    pass\n",
    "count_tf_idf = TfidfVectorizer(stop_words=stopwords) \n",
    "\n",
    "features_train_cb = count_tf_idf.fit_transform(features_train_cb)\n",
    "features_test_cb = count_tf_idf.transform(features_test_cb)"
   ]
  },
  {
   "cell_type": "code",
   "execution_count": 40,
   "metadata": {},
   "outputs": [
    {
     "name": "stdout",
     "output_type": "stream",
     "text": [
      "Лучшие параметры: {'depth': 6, 'iterations': 200, 'learning_rate': 0.1}\n",
      "Среднее качество модели (F1-score) на кросс-валидации: 0.4593\n",
      "_______________\n",
      "Среднее качество модели CatBoostClassifier (F1-score) с использованием cross_val_score: 0.4555\n",
      "CPU times: user 7min 54s, sys: 1.72 s, total: 7min 55s\n",
      "Wall time: 8min 24s\n"
     ]
    }
   ],
   "source": [
    "%%time\n",
    "catboost = CatBoostClassifier(random_state=42, auto_class_weights='Balanced', verbose=False)\n",
    "\n",
    "catboost_parameters = {\n",
    "    'iterations': [100, 200],\n",
    "    'learning_rate': [0.03, 0.1],\n",
    "    'depth': [4, 6, 10]\n",
    "}\n",
    "\n",
    "catboost_grid = GridSearchCV(estimator=catboost, \n",
    "                             param_grid=catboost_parameters, \n",
    "                             scoring='f1', \n",
    "                             cv=3)\n",
    "catboost_grid.fit(features_train_cb, target_train_cb)\n",
    "\n",
    "best_params_cb = catboost_grid.best_params_\n",
    "best_score_cb = catboost_grid.best_score_\n",
    "\n",
    "print(f\"Лучшие параметры: {best_params_cb}\")\n",
    "print(f\"Среднее качество модели (F1-score) на кросс-валидации: {best_score_cb:.4f}\")\n",
    "print('_______________')\n",
    "\n",
    "catboost_cv_score = cross_val_score(catboost, features_train_cb, target_train_cb, scoring='f1', cv=3).mean()\n",
    "print(f'Среднее качество модели CatBoostClassifier (F1-score) с использованием cross_val_score: {catboost_cv_score:.4f}')"
   ]
  },
  {
   "cell_type": "markdown",
   "metadata": {},
   "source": [
    "## Выводы"
   ]
  },
  {
   "cell_type": "markdown",
   "metadata": {},
   "source": [
    "**Оценивание результатов моделей**"
   ]
  },
  {
   "cell_type": "code",
   "execution_count": 42,
   "metadata": {},
   "outputs": [
    {
     "data": {
      "text/html": [
       "<div>\n",
       "<style scoped>\n",
       "    .dataframe tbody tr th:only-of-type {\n",
       "        vertical-align: middle;\n",
       "    }\n",
       "\n",
       "    .dataframe tbody tr th {\n",
       "        vertical-align: top;\n",
       "    }\n",
       "\n",
       "    .dataframe thead th {\n",
       "        text-align: right;\n",
       "    }\n",
       "</style>\n",
       "<table border=\"1\" class=\"dataframe\">\n",
       "  <thead>\n",
       "    <tr style=\"text-align: right;\">\n",
       "      <th></th>\n",
       "      <th>Модель</th>\n",
       "      <th>f1-мера на кросс-валидационной выборке</th>\n",
       "    </tr>\n",
       "  </thead>\n",
       "  <tbody>\n",
       "    <tr>\n",
       "      <th>0</th>\n",
       "      <td>Логистическая регрессия</td>\n",
       "      <td>0.742311</td>\n",
       "    </tr>\n",
       "    <tr>\n",
       "      <th>1</th>\n",
       "      <td>Случайный лес</td>\n",
       "      <td>0.596708</td>\n",
       "    </tr>\n",
       "    <tr>\n",
       "      <th>2</th>\n",
       "      <td>CatBoostClassifier</td>\n",
       "      <td>0.455522</td>\n",
       "    </tr>\n",
       "  </tbody>\n",
       "</table>\n",
       "</div>"
      ],
      "text/plain": [
       "                    Модель  f1-мера на кросс-валидационной выборке\n",
       "0  Логистическая регрессия                                0.742311\n",
       "1            Случайный лес                                0.596708\n",
       "2       CatBoostClassifier                                0.455522"
      ]
     },
     "metadata": {},
     "output_type": "display_data"
    }
   ],
   "source": [
    "columns = ['Модель', 'f1-мера на кросс-валидационной выборке']\n",
    "regression_model_results = ['Логистическая регрессия', regression_cv_score]\n",
    "forest_model_results = ['Случайный лес', random_forest_cv_score]\n",
    "cb_model_results = ['CatBoostClassifier', catboost_cv_score]\n",
    "\n",
    "table = pd.DataFrame([regression_model_results, forest_model_results, cb_model_results], columns = columns)\n",
    "\n",
    "display(table)"
   ]
  },
  {
   "cell_type": "markdown",
   "metadata": {},
   "source": [
    "В результате выполнения проекта, были выполнены следующие этапы:\n",
    "\n",
    "**1. Датасет был успешно загружен.**\n",
    "\n",
    "*Общие сведения по датасету:*\n",
    "* Столбец *text* в нём содержит текст комментария, а *toxic* — целевой признак.\n",
    "* Пропуски отсутствуют \n",
    "* Типы данных корректны\n",
    "\n",
    "**2. Данные были подготовлены.**\n",
    "\n",
    "Сначала была выполнена *предобработка текста:*\n",
    "* Очистка и нормализация текстов\n",
    "* Лемматизация текста\n",
    "\n",
    "Далее были удалены дубликаты и выполнена *подготовка данных для обучения*:\n",
    "* Данные были разделены на обучающую и тестовую выборки \n",
    "* Выполнена векторизация текста \n",
    "\n",
    "**3. Модели обучены.**\n",
    "\n",
    "Для обучения были задействованы 3 модели:\n",
    "* LogisticRegression\n",
    "* RandomForestClassifier\n",
    "* CatBoostClassifier\n",
    "\n",
    "Как показали результаты, наилучшей моделью по метрике f1 (0.742311) является модель логистической регрессии. Следующей после неё идёт модель случайного леса, её метрика f1 меньше (0.596708). Модель CatBoostClassifier обладает наименьшей f1-мерой (0.455522).\n",
    "\n",
    "**F1-score модели Логистической регрессии на тестовых данных: 0.754**"
   ]
  }
 ],
 "metadata": {
  "ExecuteTimeLog": [
   {
    "duration": 1892,
    "start_time": "2024-03-17T10:17:17.486Z"
   },
   {
    "duration": 2235,
    "start_time": "2024-03-17T10:19:08.984Z"
   },
   {
    "duration": 52,
    "start_time": "2024-03-20T13:05:22.103Z"
   },
   {
    "duration": 2017,
    "start_time": "2024-03-20T13:05:26.430Z"
   },
   {
    "duration": 2380,
    "start_time": "2024-03-20T13:05:28.449Z"
   },
   {
    "duration": 12,
    "start_time": "2024-03-20T13:05:33.230Z"
   },
   {
    "duration": 110,
    "start_time": "2024-03-20T13:05:43.297Z"
   },
   {
    "duration": 6,
    "start_time": "2024-03-20T13:05:48.241Z"
   },
   {
    "duration": 973,
    "start_time": "2024-03-20T13:05:48.249Z"
   },
   {
    "duration": 12,
    "start_time": "2024-03-20T13:05:49.224Z"
   },
   {
    "duration": 2400,
    "start_time": "2024-03-20T13:11:05.841Z"
   },
   {
    "duration": 51,
    "start_time": "2024-03-20T13:11:22.697Z"
   },
   {
    "duration": 1843,
    "start_time": "2024-03-20T13:11:29.189Z"
   },
   {
    "duration": 2381,
    "start_time": "2024-03-20T13:11:31.034Z"
   },
   {
    "duration": 14,
    "start_time": "2024-03-20T13:11:36.089Z"
   },
   {
    "duration": 2280,
    "start_time": "2024-03-20T13:11:38.812Z"
   },
   {
    "duration": 51,
    "start_time": "2024-03-20T13:12:03.222Z"
   },
   {
    "duration": 1758,
    "start_time": "2024-03-20T13:12:06.565Z"
   },
   {
    "duration": 2334,
    "start_time": "2024-03-20T13:12:08.325Z"
   },
   {
    "duration": 14,
    "start_time": "2024-03-20T13:12:10.661Z"
   },
   {
    "duration": 2233,
    "start_time": "2024-03-20T13:12:10.677Z"
   },
   {
    "duration": 50,
    "start_time": "2024-03-20T13:12:32.840Z"
   },
   {
    "duration": 1723,
    "start_time": "2024-03-20T13:12:35.975Z"
   },
   {
    "duration": 2327,
    "start_time": "2024-03-20T13:12:37.700Z"
   },
   {
    "duration": 13,
    "start_time": "2024-03-20T13:12:40.028Z"
   },
   {
    "duration": 2182,
    "start_time": "2024-03-20T13:12:40.043Z"
   },
   {
    "duration": 1880,
    "start_time": "2024-03-20T13:12:55.776Z"
   },
   {
    "duration": 2325,
    "start_time": "2024-03-20T13:12:57.658Z"
   },
   {
    "duration": 14,
    "start_time": "2024-03-20T13:12:59.985Z"
   },
   {
    "duration": 2179,
    "start_time": "2024-03-20T13:13:00.001Z"
   },
   {
    "duration": 1767,
    "start_time": "2024-03-20T13:13:18.510Z"
   },
   {
    "duration": 2336,
    "start_time": "2024-03-20T13:13:20.279Z"
   },
   {
    "duration": 12,
    "start_time": "2024-03-20T13:13:22.617Z"
   },
   {
    "duration": 2191,
    "start_time": "2024-03-20T13:13:22.631Z"
   },
   {
    "duration": 3,
    "start_time": "2024-03-20T13:19:00.274Z"
   },
   {
    "duration": 2215,
    "start_time": "2024-03-20T13:19:10.479Z"
   },
   {
    "duration": 3,
    "start_time": "2024-03-20T13:20:57.820Z"
   },
   {
    "duration": 3,
    "start_time": "2024-03-20T13:21:00.790Z"
   },
   {
    "duration": 3,
    "start_time": "2024-03-20T13:21:01.134Z"
   },
   {
    "duration": 85282,
    "start_time": "2024-03-20T13:21:16.805Z"
   },
   {
    "duration": 11,
    "start_time": "2024-03-20T13:22:58.296Z"
   },
   {
    "duration": 5480,
    "start_time": "2024-03-20T13:23:18.116Z"
   },
   {
    "duration": 10,
    "start_time": "2024-03-20T13:23:35.205Z"
   },
   {
    "duration": 9,
    "start_time": "2024-03-20T13:24:17.522Z"
   },
   {
    "duration": 7,
    "start_time": "2024-03-20T13:24:27.707Z"
   },
   {
    "duration": 5,
    "start_time": "2024-03-20T13:24:49.035Z"
   },
   {
    "duration": 5,
    "start_time": "2024-03-20T13:25:47.160Z"
   },
   {
    "duration": 6,
    "start_time": "2024-03-20T13:26:01.119Z"
   },
   {
    "duration": 204,
    "start_time": "2024-03-20T13:26:32.360Z"
   },
   {
    "duration": 6,
    "start_time": "2024-03-20T13:27:13.500Z"
   },
   {
    "duration": 12,
    "start_time": "2024-03-20T13:27:13.508Z"
   },
   {
    "duration": 5,
    "start_time": "2024-03-20T13:27:13.522Z"
   },
   {
    "duration": 949,
    "start_time": "2024-03-20T13:27:13.529Z"
   },
   {
    "duration": 14,
    "start_time": "2024-03-20T13:27:14.481Z"
   },
   {
    "duration": 23,
    "start_time": "2024-03-20T13:27:14.496Z"
   },
   {
    "duration": 3,
    "start_time": "2024-03-20T13:27:14.521Z"
   },
   {
    "duration": 88061,
    "start_time": "2024-03-20T13:27:14.526Z"
   },
   {
    "duration": 9,
    "start_time": "2024-03-20T13:28:47.811Z"
   },
   {
    "duration": 5,
    "start_time": "2024-03-20T13:29:41.986Z"
   },
   {
    "duration": 5,
    "start_time": "2024-03-20T13:30:11.370Z"
   },
   {
    "duration": 5,
    "start_time": "2024-03-20T13:30:26.725Z"
   },
   {
    "duration": 5,
    "start_time": "2024-03-20T13:30:32.669Z"
   },
   {
    "duration": 4,
    "start_time": "2024-03-20T13:30:45.462Z"
   },
   {
    "duration": 1814,
    "start_time": "2024-03-20T13:32:10.649Z"
   },
   {
    "duration": 4,
    "start_time": "2024-03-20T13:32:12.465Z"
   },
   {
    "duration": 11,
    "start_time": "2024-03-20T13:32:12.471Z"
   },
   {
    "duration": 2362,
    "start_time": "2024-03-20T13:32:12.484Z"
   },
   {
    "duration": 15,
    "start_time": "2024-03-20T13:32:14.847Z"
   },
   {
    "duration": 2278,
    "start_time": "2024-03-20T13:32:14.864Z"
   },
   {
    "duration": 85526,
    "start_time": "2024-03-20T13:32:17.144Z"
   },
   {
    "duration": 2232,
    "start_time": "2024-03-20T13:33:42.671Z"
   },
   {
    "duration": 5,
    "start_time": "2024-03-20T13:33:46.911Z"
   },
   {
    "duration": 9,
    "start_time": "2024-03-20T13:37:26.041Z"
   },
   {
    "duration": 5,
    "start_time": "2024-03-20T13:41:26.552Z"
   },
   {
    "duration": 3,
    "start_time": "2024-03-20T13:43:25.143Z"
   },
   {
    "duration": 132,
    "start_time": "2024-03-20T13:47:49.309Z"
   },
   {
    "duration": 5,
    "start_time": "2024-03-20T13:47:54.676Z"
   },
   {
    "duration": 11,
    "start_time": "2024-03-20T13:47:57.467Z"
   },
   {
    "duration": 6,
    "start_time": "2024-03-20T13:48:02.187Z"
   },
   {
    "duration": 9,
    "start_time": "2024-03-20T13:48:08.876Z"
   },
   {
    "duration": 5,
    "start_time": "2024-03-20T13:48:25.192Z"
   },
   {
    "duration": 62,
    "start_time": "2024-03-20T13:48:28.350Z"
   },
   {
    "duration": 6,
    "start_time": "2024-03-20T13:50:20.530Z"
   },
   {
    "duration": 15,
    "start_time": "2024-03-20T13:50:20.538Z"
   },
   {
    "duration": 15,
    "start_time": "2024-03-20T13:50:20.555Z"
   },
   {
    "duration": 918,
    "start_time": "2024-03-20T13:50:20.571Z"
   },
   {
    "duration": 13,
    "start_time": "2024-03-20T13:50:21.491Z"
   },
   {
    "duration": 2264,
    "start_time": "2024-03-20T13:50:21.505Z"
   },
   {
    "duration": 84379,
    "start_time": "2024-03-20T13:50:23.771Z"
   },
   {
    "duration": 9,
    "start_time": "2024-03-20T13:51:48.152Z"
   },
   {
    "duration": 601,
    "start_time": "2024-03-20T13:51:48.163Z"
   },
   {
    "duration": 5,
    "start_time": "2024-03-20T13:51:48.765Z"
   },
   {
    "duration": 93,
    "start_time": "2024-03-20T13:51:48.772Z"
   },
   {
    "duration": 6,
    "start_time": "2024-03-20T14:56:25.675Z"
   },
   {
    "duration": 10,
    "start_time": "2024-03-20T14:56:25.683Z"
   },
   {
    "duration": 22,
    "start_time": "2024-03-20T14:56:25.695Z"
   },
   {
    "duration": 1009,
    "start_time": "2024-03-20T14:56:25.719Z"
   },
   {
    "duration": 13,
    "start_time": "2024-03-20T14:56:26.731Z"
   },
   {
    "duration": 2574,
    "start_time": "2024-03-20T14:56:26.746Z"
   },
   {
    "duration": 94179,
    "start_time": "2024-03-20T14:56:29.322Z"
   },
   {
    "duration": 8,
    "start_time": "2024-03-20T14:58:03.503Z"
   },
   {
    "duration": 620,
    "start_time": "2024-03-20T14:58:03.515Z"
   },
   {
    "duration": 8,
    "start_time": "2024-03-20T14:58:04.137Z"
   },
   {
    "duration": 97,
    "start_time": "2024-03-20T14:58:04.146Z"
   },
   {
    "duration": 9521,
    "start_time": "2024-03-20T14:58:04.245Z"
   },
   {
    "duration": 14,
    "start_time": "2024-03-20T15:01:51.425Z"
   },
   {
    "duration": 11,
    "start_time": "2024-03-20T15:02:13.237Z"
   },
   {
    "duration": 12,
    "start_time": "2024-03-20T15:02:25.226Z"
   },
   {
    "duration": 20,
    "start_time": "2024-03-20T15:02:55.008Z"
   },
   {
    "duration": 9466,
    "start_time": "2024-03-20T15:03:12.405Z"
   },
   {
    "duration": 12,
    "start_time": "2024-03-20T15:03:24.795Z"
   },
   {
    "duration": 8,
    "start_time": "2024-03-20T15:04:03.955Z"
   },
   {
    "duration": 7904,
    "start_time": "2024-03-20T15:04:17.426Z"
   },
   {
    "duration": 9025,
    "start_time": "2024-03-20T15:04:46.054Z"
   },
   {
    "duration": 7879,
    "start_time": "2024-03-20T15:05:12.894Z"
   },
   {
    "duration": 7925,
    "start_time": "2024-03-20T15:05:33.233Z"
   },
   {
    "duration": 8161,
    "start_time": "2024-03-20T15:06:27.078Z"
   },
   {
    "duration": 8115,
    "start_time": "2024-03-20T15:06:39.889Z"
   },
   {
    "duration": 4,
    "start_time": "2024-03-20T15:06:54.404Z"
   },
   {
    "duration": 14,
    "start_time": "2024-03-20T15:23:12.097Z"
   },
   {
    "duration": 178114,
    "start_time": "2024-03-20T15:28:59.827Z"
   },
   {
    "duration": 86,
    "start_time": "2024-03-20T15:32:33.668Z"
   },
   {
    "duration": 82,
    "start_time": "2024-03-20T15:32:57.440Z"
   },
   {
    "duration": 26093,
    "start_time": "2024-03-20T15:34:43.655Z"
   },
   {
    "duration": 6476,
    "start_time": "2024-03-20T15:50:46.516Z"
   },
   {
    "duration": 6378,
    "start_time": "2024-03-20T16:01:44.181Z"
   },
   {
    "duration": 2067,
    "start_time": "2024-03-20T16:01:50.560Z"
   },
   {
    "duration": 292706,
    "start_time": "2024-03-20T16:01:59.273Z"
   },
   {
    "duration": 6321,
    "start_time": "2024-03-20T16:06:51.980Z"
   },
   {
    "duration": 1779,
    "start_time": "2024-03-22T16:24:59.716Z"
   },
   {
    "duration": 3,
    "start_time": "2024-03-22T16:25:01.497Z"
   },
   {
    "duration": 40,
    "start_time": "2024-03-22T16:25:01.501Z"
   },
   {
    "duration": 2369,
    "start_time": "2024-03-22T16:25:01.543Z"
   },
   {
    "duration": 12,
    "start_time": "2024-03-22T16:25:03.914Z"
   },
   {
    "duration": 2005,
    "start_time": "2024-03-22T16:25:03.927Z"
   },
   {
    "duration": 78019,
    "start_time": "2024-03-22T16:25:05.934Z"
   },
   {
    "duration": 11,
    "start_time": "2024-03-22T16:26:23.955Z"
   },
   {
    "duration": 527,
    "start_time": "2024-03-22T16:26:23.968Z"
   },
   {
    "duration": 3,
    "start_time": "2024-03-22T16:26:24.496Z"
   },
   {
    "duration": 66,
    "start_time": "2024-03-22T16:26:24.501Z"
   },
   {
    "duration": 7297,
    "start_time": "2024-03-22T16:26:24.568Z"
   },
   {
    "duration": 4,
    "start_time": "2024-03-22T16:26:31.867Z"
   },
   {
    "duration": 133891,
    "start_time": "2024-03-22T16:26:31.873Z"
   },
   {
    "duration": 26133,
    "start_time": "2024-03-22T16:28:45.766Z"
   },
   {
    "duration": 79,
    "start_time": "2024-03-22T16:29:11.901Z"
   },
   {
    "duration": 533371,
    "start_time": "2024-03-22T16:29:11.982Z"
   },
   {
    "duration": 7,
    "start_time": "2024-03-22T17:09:12.829Z"
   },
   {
    "duration": 18,
    "start_time": "2024-03-22T17:09:12.838Z"
   },
   {
    "duration": 4,
    "start_time": "2024-03-22T17:09:12.858Z"
   },
   {
    "duration": 899,
    "start_time": "2024-03-22T17:09:12.864Z"
   },
   {
    "duration": 12,
    "start_time": "2024-03-22T17:09:13.765Z"
   },
   {
    "duration": 2026,
    "start_time": "2024-03-22T17:09:13.779Z"
   },
   {
    "duration": 75454,
    "start_time": "2024-03-22T17:09:15.806Z"
   },
   {
    "duration": 9,
    "start_time": "2024-03-22T17:10:31.261Z"
   },
   {
    "duration": 610,
    "start_time": "2024-03-22T17:10:31.271Z"
   },
   {
    "duration": 7,
    "start_time": "2024-03-22T17:10:31.882Z"
   },
   {
    "duration": 108,
    "start_time": "2024-03-22T17:10:31.891Z"
   },
   {
    "duration": 6403,
    "start_time": "2024-03-22T17:10:32.001Z"
   },
   {
    "duration": 4,
    "start_time": "2024-03-22T17:10:38.405Z"
   },
   {
    "duration": 141168,
    "start_time": "2024-03-22T17:10:38.411Z"
   },
   {
    "duration": 26113,
    "start_time": "2024-03-22T17:12:59.580Z"
   },
   {
    "duration": 123419,
    "start_time": "2024-03-22T17:13:25.695Z"
   },
   {
    "duration": 563808,
    "start_time": "2024-03-22T17:15:29.116Z"
   },
   {
    "duration": 6,
    "start_time": "2024-03-22T17:29:27.986Z"
   },
   {
    "duration": 5,
    "start_time": "2024-03-22T17:29:27.994Z"
   },
   {
    "duration": 6,
    "start_time": "2024-03-22T17:29:28.000Z"
   },
   {
    "duration": 841,
    "start_time": "2024-03-22T17:29:28.008Z"
   },
   {
    "duration": 24,
    "start_time": "2024-03-22T17:29:28.851Z"
   },
   {
    "duration": 2168,
    "start_time": "2024-03-22T17:29:28.876Z"
   },
   {
    "duration": 75463,
    "start_time": "2024-03-22T17:29:31.047Z"
   },
   {
    "duration": 6,
    "start_time": "2024-03-22T17:30:46.512Z"
   },
   {
    "duration": 527,
    "start_time": "2024-03-22T17:30:46.519Z"
   },
   {
    "duration": 7,
    "start_time": "2024-03-22T17:30:47.048Z"
   },
   {
    "duration": 98,
    "start_time": "2024-03-22T17:30:47.056Z"
   },
   {
    "duration": 6793,
    "start_time": "2024-03-22T17:30:47.156Z"
   },
   {
    "duration": 3,
    "start_time": "2024-03-22T17:30:53.951Z"
   },
   {
    "duration": 173927,
    "start_time": "2024-03-22T17:30:53.966Z"
   },
   {
    "duration": 26000,
    "start_time": "2024-03-22T17:33:47.895Z"
   },
   {
    "duration": 1749008,
    "start_time": "2024-03-22T17:34:13.896Z"
   },
   {
    "duration": 539337,
    "start_time": "2024-03-22T18:03:22.905Z"
   },
   {
    "duration": 1785,
    "start_time": "2024-03-22T20:30:52.953Z"
   },
   {
    "duration": 5,
    "start_time": "2024-03-22T20:30:54.740Z"
   },
   {
    "duration": 17,
    "start_time": "2024-03-22T20:30:54.747Z"
   },
   {
    "duration": 2336,
    "start_time": "2024-03-22T20:30:54.765Z"
   },
   {
    "duration": 13,
    "start_time": "2024-03-22T20:30:57.102Z"
   },
   {
    "duration": 2029,
    "start_time": "2024-03-22T20:30:57.116Z"
   },
   {
    "duration": 74694,
    "start_time": "2024-03-22T20:30:59.147Z"
   },
   {
    "duration": 6,
    "start_time": "2024-03-22T20:32:13.842Z"
   },
   {
    "duration": 511,
    "start_time": "2024-03-22T20:32:13.850Z"
   },
   {
    "duration": 2,
    "start_time": "2024-03-22T20:32:14.363Z"
   },
   {
    "duration": 54,
    "start_time": "2024-03-22T20:32:14.366Z"
   },
   {
    "duration": 6654,
    "start_time": "2024-03-22T20:32:14.421Z"
   },
   {
    "duration": 4,
    "start_time": "2024-03-22T20:32:21.077Z"
   },
   {
    "duration": 161477,
    "start_time": "2024-03-22T20:32:21.083Z"
   },
   {
    "duration": 26211,
    "start_time": "2024-03-22T20:35:02.561Z"
   },
   {
    "duration": 2036,
    "start_time": "2024-03-23T08:24:03.133Z"
   },
   {
    "duration": 3,
    "start_time": "2024-03-23T08:24:05.171Z"
   },
   {
    "duration": 30,
    "start_time": "2024-03-23T08:24:05.176Z"
   },
   {
    "duration": 2431,
    "start_time": "2024-03-23T08:24:05.208Z"
   },
   {
    "duration": 13,
    "start_time": "2024-03-23T08:24:07.641Z"
   },
   {
    "duration": 2164,
    "start_time": "2024-03-23T08:24:07.656Z"
   },
   {
    "duration": 80515,
    "start_time": "2024-03-23T08:24:09.822Z"
   },
   {
    "duration": 7,
    "start_time": "2024-03-23T08:25:30.338Z"
   },
   {
    "duration": 630,
    "start_time": "2024-03-23T08:25:30.347Z"
   },
   {
    "duration": 2,
    "start_time": "2024-03-23T08:25:30.979Z"
   },
   {
    "duration": 105,
    "start_time": "2024-03-23T08:25:30.983Z"
   },
   {
    "duration": 7317,
    "start_time": "2024-03-23T08:25:31.090Z"
   },
   {
    "duration": 4,
    "start_time": "2024-03-23T08:25:38.409Z"
   },
   {
    "duration": 168474,
    "start_time": "2024-03-23T08:25:38.416Z"
   },
   {
    "duration": 26308,
    "start_time": "2024-03-23T08:28:26.892Z"
   },
   {
    "duration": 1852593,
    "start_time": "2024-03-23T08:28:53.202Z"
   },
   {
    "duration": 2828,
    "start_time": "2024-03-23T08:59:45.797Z"
   },
   {
    "duration": 20177,
    "start_time": "2024-03-23T08:59:48.627Z"
   },
   {
    "duration": 1251,
    "start_time": "2024-03-23T09:00:08.806Z"
   },
   {
    "duration": 29,
    "start_time": "2024-03-23T09:00:10.059Z"
   },
   {
    "duration": 2746,
    "start_time": "2024-03-23T09:03:40.720Z"
   },
   {
    "duration": 19801,
    "start_time": "2024-03-23T09:03:50.072Z"
   },
   {
    "duration": 3299559,
    "start_time": "2024-03-23T09:06:31.929Z"
   },
   {
    "duration": 1135,
    "start_time": "2024-03-23T10:01:31.490Z"
   },
   {
    "duration": 4,
    "start_time": "2024-03-23T10:03:06.139Z"
   },
   {
    "duration": 240,
    "start_time": "2024-03-23T10:03:07.080Z"
   },
   {
    "duration": 18020,
    "start_time": "2024-03-23T10:04:08.383Z"
   },
   {
    "duration": 540569,
    "start_time": "2024-03-23T10:04:51.826Z"
   },
   {
    "duration": 37223,
    "start_time": "2024-03-23T10:13:52.397Z"
   },
   {
    "duration": 12,
    "start_time": "2024-03-23T10:14:29.622Z"
   },
   {
    "duration": 16,
    "start_time": "2024-03-23T10:16:47.990Z"
   },
   {
    "duration": 9,
    "start_time": "2024-03-23T10:17:02.611Z"
   },
   {
    "duration": 10,
    "start_time": "2024-03-23T10:24:35.255Z"
   },
   {
    "duration": 1942,
    "start_time": "2024-03-23T19:08:43.533Z"
   },
   {
    "duration": 4,
    "start_time": "2024-03-23T19:08:45.479Z"
   },
   {
    "duration": 2394,
    "start_time": "2024-03-23T19:08:46.675Z"
   },
   {
    "duration": 3313,
    "start_time": "2024-03-23T19:09:36.406Z"
   },
   {
    "duration": 14,
    "start_time": "2024-03-23T19:09:39.721Z"
   },
   {
    "duration": 2319,
    "start_time": "2024-03-23T19:09:41.807Z"
   },
   {
    "duration": 7,
    "start_time": "2024-03-23T22:02:30.755Z"
   },
   {
    "duration": 2,
    "start_time": "2024-03-23T22:02:32.633Z"
   },
   {
    "duration": 959,
    "start_time": "2024-03-23T22:02:40.201Z"
   },
   {
    "duration": 13,
    "start_time": "2024-03-23T22:02:43.733Z"
   },
   {
    "duration": 2107,
    "start_time": "2024-03-23T22:02:44.817Z"
   },
   {
    "duration": 79142,
    "start_time": "2024-03-23T22:02:48.241Z"
   },
   {
    "duration": 7,
    "start_time": "2024-03-23T22:04:11.273Z"
   },
   {
    "duration": 291,
    "start_time": "2024-03-23T22:07:25.372Z"
   },
   {
    "duration": 37599,
    "start_time": "2024-03-23T22:07:41.434Z"
   },
   {
    "duration": 8,
    "start_time": "2024-03-23T22:08:49.149Z"
   },
   {
    "duration": 4,
    "start_time": "2024-03-23T22:08:56.876Z"
   },
   {
    "duration": 524888,
    "start_time": "2024-03-23T22:09:01.451Z"
   },
   {
    "duration": 7,
    "start_time": "2024-03-23T22:17:49.862Z"
   },
   {
    "duration": 3016,
    "start_time": "2024-03-23T22:24:01.030Z"
   },
   {
    "duration": 9,
    "start_time": "2024-03-23T22:24:04.049Z"
   },
   {
    "duration": 4,
    "start_time": "2024-03-23T22:24:04.060Z"
   },
   {
    "duration": 7,
    "start_time": "2024-03-23T22:24:04.065Z"
   },
   {
    "duration": 945,
    "start_time": "2024-03-23T22:24:04.073Z"
   },
   {
    "duration": 13,
    "start_time": "2024-03-23T22:24:05.020Z"
   },
   {
    "duration": 2087,
    "start_time": "2024-03-23T22:24:05.034Z"
   },
   {
    "duration": 502510,
    "start_time": "2024-03-23T22:24:07.122Z"
   },
   {
    "duration": 7,
    "start_time": "2024-03-23T22:32:29.633Z"
   },
   {
    "duration": 525,
    "start_time": "2024-03-23T22:32:29.641Z"
   },
   {
    "duration": 3,
    "start_time": "2024-03-23T22:32:30.167Z"
   },
   {
    "duration": 116,
    "start_time": "2024-03-23T22:32:30.171Z"
   },
   {
    "duration": 6473,
    "start_time": "2024-03-23T22:32:30.288Z"
   },
   {
    "duration": 4,
    "start_time": "2024-03-23T22:32:36.763Z"
   },
   {
    "duration": 175122,
    "start_time": "2024-03-23T22:32:36.780Z"
   },
   {
    "duration": 25704,
    "start_time": "2024-03-23T22:35:31.904Z"
   },
   {
    "duration": 1732029,
    "start_time": "2024-03-23T22:35:57.610Z"
   },
   {
    "duration": 4,
    "start_time": "2024-03-23T23:04:49.640Z"
   },
   {
    "duration": 84,
    "start_time": "2024-03-23T23:04:49.646Z"
   },
   {
    "duration": 504158,
    "start_time": "2024-03-23T23:04:49.731Z"
   },
   {
    "duration": 10,
    "start_time": "2024-03-23T23:13:13.891Z"
   },
   {
    "duration": 8,
    "start_time": "2024-03-23T23:14:06.232Z"
   }
  ],
  "kernelspec": {
   "display_name": "Python 3 (ipykernel)",
   "language": "python",
   "name": "python3"
  },
  "language_info": {
   "codemirror_mode": {
    "name": "ipython",
    "version": 3
   },
   "file_extension": ".py",
   "mimetype": "text/x-python",
   "name": "python",
   "nbconvert_exporter": "python",
   "pygments_lexer": "ipython3",
   "version": "3.9.5"
  },
  "toc": {
   "base_numbering": 1,
   "nav_menu": {},
   "number_sections": true,
   "sideBar": true,
   "skip_h1_title": true,
   "title_cell": "Содержание",
   "title_sidebar": "Contents",
   "toc_cell": true,
   "toc_position": {
    "height": "calc(100% - 180px)",
    "left": "10px",
    "top": "150px",
    "width": "223px"
   },
   "toc_section_display": true,
   "toc_window_display": true
  }
 },
 "nbformat": 4,
 "nbformat_minor": 2
}

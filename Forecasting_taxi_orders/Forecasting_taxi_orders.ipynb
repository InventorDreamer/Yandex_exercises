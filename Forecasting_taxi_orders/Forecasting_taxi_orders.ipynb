{
 "cells": [
  {
   "cell_type": "markdown",
   "metadata": {
    "toc": true
   },
   "source": [
    "<h1>Содержание<span class=\"tocSkip\"></span></h1>\n",
    "<div class=\"toc\"><ul class=\"toc-item\"><li><span><a href=\"#Загрузка-данных\" data-toc-modified-id=\"Загрузка-данных-1\"><span class=\"toc-item-num\">1&nbsp;&nbsp;</span>Загрузка данных</a></span><ul class=\"toc-item\"><li><span><a href=\"#Информация-о-датасете\" data-toc-modified-id=\"Информация-о-датасете-1.1\"><span class=\"toc-item-num\">1.1&nbsp;&nbsp;</span>Информация о датасете</a></span></li><li><span><a href=\"#Ресемплирование-данных-по-одному-часу\" data-toc-modified-id=\"Ресемплирование-данных-по-одному-часу-1.2\"><span class=\"toc-item-num\">1.2&nbsp;&nbsp;</span>Ресемплирование данных по одному часу</a></span></li></ul></li><li><span><a href=\"#Анализ\" data-toc-modified-id=\"Анализ-2\"><span class=\"toc-item-num\">2&nbsp;&nbsp;</span>Анализ</a></span></li><li><span><a href=\"#Подготовка-данных\" data-toc-modified-id=\"Подготовка-данных-3\"><span class=\"toc-item-num\">3&nbsp;&nbsp;</span>Подготовка данных</a></span></li><li><span><a href=\"#Обучение\" data-toc-modified-id=\"Обучение-4\"><span class=\"toc-item-num\">4&nbsp;&nbsp;</span>Обучение</a></span><ul class=\"toc-item\"><li><span><a href=\"#Разделение-данных-на-выборки\" data-toc-modified-id=\"Разделение-данных-на-выборки-4.1\"><span class=\"toc-item-num\">4.1&nbsp;&nbsp;</span>Разделение данных на выборки</a></span></li><li><span><a href=\"#Обучение-модели-RandomForestRegressor\" data-toc-modified-id=\"Обучение-модели-RandomForestRegressor-4.2\"><span class=\"toc-item-num\">4.2&nbsp;&nbsp;</span>Обучение модели RandomForestRegressor</a></span></li><li><span><a href=\"#Обучение-модели-CatBoostRegressor\" data-toc-modified-id=\"Обучение-модели-CatBoostRegressor-4.3\"><span class=\"toc-item-num\">4.3&nbsp;&nbsp;</span>Обучение модели CatBoostRegressor</a></span></li><li><span><a href=\"#Обучение-модели-DecisionTreeRegressor\" data-toc-modified-id=\"Обучение-модели-DecisionTreeRegressor-4.4\"><span class=\"toc-item-num\">4.4&nbsp;&nbsp;</span>Обучение модели DecisionTreeRegressor</a></span></li><li><span><a href=\"#Обучение-модели-LGBMRegressor\" data-toc-modified-id=\"Обучение-модели-LGBMRegressor-4.5\"><span class=\"toc-item-num\">4.5&nbsp;&nbsp;</span>Обучение модели LGBMRegressor</a></span></li><li><span><a href=\"#Сравнение-моделей\" data-toc-modified-id=\"Сравнение-моделей-4.6\"><span class=\"toc-item-num\">4.6&nbsp;&nbsp;</span>Сравнение моделей</a></span></li></ul></li><li><span><a href=\"#Тестирование\" data-toc-modified-id=\"Тестирование-5\"><span class=\"toc-item-num\">5&nbsp;&nbsp;</span>Тестирование</a></span></li></ul></div>"
   ]
  },
  {
   "cell_type": "markdown",
   "metadata": {},
   "source": [
    "#  Прогнозирование заказов такси"
   ]
  },
  {
   "cell_type": "markdown",
   "metadata": {},
   "source": [
    "# Описание проекта\n",
    "Компания «Чётенькое такси» собрала исторические данные о заказах такси в аэропортах. Чтобы привлекать больше водителей в период пиковой нагрузки, нужно спрогнозировать количество заказов такси на следующий час. Постройте модель для такого предсказания.\n",
    "\n",
    "Значение метрики *RMSE* на тестовой выборке должно быть не больше 48.\n",
    "\n",
    "Вам нужно:\n",
    "\n",
    "1. Загрузить данные и выполнить их ресемплирование по одному часу.\n",
    "2. Проанализировать данные.\n",
    "3. Обучить разные модели с различными гиперпараметрами. Сделать тестовую выборку размером 10% от исходных данных.\n",
    "4. Проверить данные на тестовой выборке и сделать выводы.\n",
    "\n",
    "\n",
    "Данные лежат в файле `taxi.csv`. Количество заказов находится в столбце `num_orders` (от англ. *number of orders*, «число заказов»)."
   ]
  },
  {
   "cell_type": "markdown",
   "metadata": {},
   "source": [
    "# Импорт библиотек и создание констант"
   ]
  },
  {
   "cell_type": "code",
   "execution_count": 33,
   "metadata": {},
   "outputs": [],
   "source": [
    "import numpy as np\n",
    "import pandas as pd\n",
    "import seaborn as sns\n",
    "import warnings\n",
    "\n",
    "import matplotlib.pyplot as plt\n",
    "\n",
    "from sklearn.model_selection import train_test_split, TimeSeriesSplit, cross_val_score\n",
    "from scipy.stats import shapiro\n",
    "from sklearn.metrics import mean_squared_error\n",
    "from scipy import stats\n",
    "from sklearn.impute import SimpleImputer\n",
    "from sklearn.preprocessing import StandardScaler, OrdinalEncoder, OneHotEncoder\n",
    "from sklearn.pipeline import Pipeline\n",
    "from sklearn.compose import ColumnTransformer\n",
    "from sklearn.ensemble import RandomForestRegressor\n",
    "from time import time\n",
    "from sklearn.model_selection import RandomizedSearchCV\n",
    "from lightgbm import LGBMRegressor \n",
    "from catboost import CatBoostRegressor\n",
    "from statsmodels.tsa.seasonal import seasonal_decompose\n",
    "from sklearn.metrics import mean_squared_error, make_scorer\n",
    "from sklearn.model_selection import cross_validate\n",
    "import time\n",
    "from sklearn.linear_model import LinearRegression\n",
    "from sklearn.model_selection import ParameterGrid\n",
    "from sklearn.tree import DecisionTreeRegressor\n",
    "from sklearn.model_selection import GridSearchCV\n",
    "\n",
    "\n",
    "RANDOM_STATE = 12345\n",
    "TEST_SIZE = 0.1\n",
    "\n",
    "warnings.filterwarnings('ignore')"
   ]
  },
  {
   "cell_type": "markdown",
   "metadata": {},
   "source": [
    "# Методы для работы "
   ]
  },
  {
   "cell_type": "markdown",
   "metadata": {},
   "source": [
    "## Загрузка данных"
   ]
  },
  {
   "cell_type": "code",
   "execution_count": 22,
   "metadata": {},
   "outputs": [],
   "source": [
    "df = pd.read_csv('/datasets/taxi.csv', index_col = [0], parse_dates = [0]).sort_index()"
   ]
  },
  {
   "cell_type": "markdown",
   "metadata": {},
   "source": [
    "### Информация о датасете"
   ]
  },
  {
   "cell_type": "code",
   "execution_count": 23,
   "metadata": {},
   "outputs": [
    {
     "name": "stdout",
     "output_type": "stream",
     "text": [
      "<class 'pandas.core.frame.DataFrame'>\n",
      "DatetimeIndex: 26496 entries, 2018-03-01 00:00:00 to 2018-08-31 23:50:00\n",
      "Data columns (total 1 columns):\n",
      " #   Column      Non-Null Count  Dtype\n",
      "---  ------      --------------  -----\n",
      " 0   num_orders  26496 non-null  int64\n",
      "dtypes: int64(1)\n",
      "memory usage: 414.0 KB\n"
     ]
    },
    {
     "data": {
      "text/plain": [
       "None"
      ]
     },
     "metadata": {},
     "output_type": "display_data"
    }
   ],
   "source": [
    "display(df.info())"
   ]
  },
  {
   "cell_type": "markdown",
   "metadata": {},
   "source": [
    "Всего в датасете 26496 строк. Пропусков не наблюдается, тип данных подобран корректно."
   ]
  },
  {
   "cell_type": "code",
   "execution_count": 24,
   "metadata": {},
   "outputs": [
    {
     "data": {
      "text/html": [
       "<div>\n",
       "<style scoped>\n",
       "    .dataframe tbody tr th:only-of-type {\n",
       "        vertical-align: middle;\n",
       "    }\n",
       "\n",
       "    .dataframe tbody tr th {\n",
       "        vertical-align: top;\n",
       "    }\n",
       "\n",
       "    .dataframe thead th {\n",
       "        text-align: right;\n",
       "    }\n",
       "</style>\n",
       "<table border=\"1\" class=\"dataframe\">\n",
       "  <thead>\n",
       "    <tr style=\"text-align: right;\">\n",
       "      <th></th>\n",
       "      <th>num_orders</th>\n",
       "    </tr>\n",
       "    <tr>\n",
       "      <th>datetime</th>\n",
       "      <th></th>\n",
       "    </tr>\n",
       "  </thead>\n",
       "  <tbody>\n",
       "    <tr>\n",
       "      <th>2018-03-01 00:00:00</th>\n",
       "      <td>9</td>\n",
       "    </tr>\n",
       "    <tr>\n",
       "      <th>2018-03-01 00:10:00</th>\n",
       "      <td>14</td>\n",
       "    </tr>\n",
       "    <tr>\n",
       "      <th>2018-03-01 00:20:00</th>\n",
       "      <td>28</td>\n",
       "    </tr>\n",
       "    <tr>\n",
       "      <th>2018-03-01 00:30:00</th>\n",
       "      <td>20</td>\n",
       "    </tr>\n",
       "    <tr>\n",
       "      <th>2018-03-01 00:40:00</th>\n",
       "      <td>32</td>\n",
       "    </tr>\n",
       "  </tbody>\n",
       "</table>\n",
       "</div>"
      ],
      "text/plain": [
       "                     num_orders\n",
       "datetime                       \n",
       "2018-03-01 00:00:00           9\n",
       "2018-03-01 00:10:00          14\n",
       "2018-03-01 00:20:00          28\n",
       "2018-03-01 00:30:00          20\n",
       "2018-03-01 00:40:00          32"
      ]
     },
     "metadata": {},
     "output_type": "display_data"
    }
   ],
   "source": [
    "display(df.head())"
   ]
  },
  {
   "cell_type": "markdown",
   "metadata": {},
   "source": [
    "**Описание данных**\n",
    "\n",
    "Количество заказов находится в столбце 'num_orders'."
   ]
  },
  {
   "cell_type": "markdown",
   "metadata": {},
   "source": [
    "### Ресемплирование данных по одному часу"
   ]
  },
  {
   "cell_type": "code",
   "execution_count": 25,
   "metadata": {},
   "outputs": [],
   "source": [
    "df = df.resample('1H').sum()"
   ]
  },
  {
   "cell_type": "markdown",
   "metadata": {},
   "source": [
    "## Анализ"
   ]
  },
  {
   "cell_type": "code",
   "execution_count": 26,
   "metadata": {},
   "outputs": [
    {
     "data": {
      "text/html": [
       "<div>\n",
       "<style scoped>\n",
       "    .dataframe tbody tr th:only-of-type {\n",
       "        vertical-align: middle;\n",
       "    }\n",
       "\n",
       "    .dataframe tbody tr th {\n",
       "        vertical-align: top;\n",
       "    }\n",
       "\n",
       "    .dataframe thead th {\n",
       "        text-align: right;\n",
       "    }\n",
       "</style>\n",
       "<table border=\"1\" class=\"dataframe\">\n",
       "  <thead>\n",
       "    <tr style=\"text-align: right;\">\n",
       "      <th></th>\n",
       "      <th>count</th>\n",
       "      <th>mean</th>\n",
       "      <th>std</th>\n",
       "      <th>min</th>\n",
       "      <th>25%</th>\n",
       "      <th>50%</th>\n",
       "      <th>75%</th>\n",
       "      <th>max</th>\n",
       "    </tr>\n",
       "  </thead>\n",
       "  <tbody>\n",
       "    <tr>\n",
       "      <th>num_orders</th>\n",
       "      <td>4416.0</td>\n",
       "      <td>84.422781</td>\n",
       "      <td>45.023853</td>\n",
       "      <td>0.0</td>\n",
       "      <td>54.0</td>\n",
       "      <td>78.0</td>\n",
       "      <td>107.0</td>\n",
       "      <td>462.0</td>\n",
       "    </tr>\n",
       "  </tbody>\n",
       "</table>\n",
       "</div>"
      ],
      "text/plain": [
       "             count       mean        std  min   25%   50%    75%    max\n",
       "num_orders  4416.0  84.422781  45.023853  0.0  54.0  78.0  107.0  462.0"
      ]
     },
     "metadata": {},
     "output_type": "display_data"
    }
   ],
   "source": [
    "display(df.describe().T)"
   ]
  },
  {
   "cell_type": "markdown",
   "metadata": {},
   "source": [
    "Визуализируем временной ряд, чтобы увидеть общие тренды и сезонности, а также проверим наличие аномалий."
   ]
  },
  {
   "cell_type": "code",
   "execution_count": 27,
   "metadata": {},
   "outputs": [
    {
     "data": {
      "image/png": "[encoded data removed]",
      "text/plain": [
       "<Figure size 1080x432 with 1 Axes>"
      ]
     },
     "metadata": {
      "needs_background": "light"
     },
     "output_type": "display_data"
    }
   ],
   "source": [
    "plt.figure(figsize=(15, 6))\n",
    "plt.plot(df.index, df['num_orders'], label='Количество заказов по часам')\n",
    "plt.title('Количество заказов такси по часам')\n",
    "plt.xlabel('Дата')\n",
    "plt.ylabel('Количество заказов')\n",
    "plt.legend()\n",
    "plt.show()"
   ]
  },
  {
   "cell_type": "markdown",
   "metadata": {},
   "source": [
    "На графике видно, что количество заказов такси по часам колеблется в течение дня и имеет некоторые тренды и возможно сезонность. Также заметны периоды с повышенным и пониженным спросом, что может соответствовать дням недели или определенным событиям."
   ]
  },
  {
   "cell_type": "markdown",
   "metadata": {},
   "source": [
    "**Проведем более детальный анализ данных, сосредоточив внимание на следующих аспектах:**\n",
    "* Тренды: визуализация долгосрочных изменений в данных.\n",
    "* Сезонность: изучение повторяющихся паттернов в данных.\n",
    "* Остатки: анализ случайных компонентов данных, которые не объясняются трендами и сезонностью.\n",
    "\n",
    "\n",
    "Для этого мы можем использовать декомпозицию временного ряда на тренд, сезонность и остатки. Это поможет нам лучше понять динамику данных и выявить возможные закономерности, которые могут быть полезны для прогнозирования."
   ]
  },
  {
   "cell_type": "code",
   "execution_count": 28,
   "metadata": {},
   "outputs": [
    {
     "data": {
      "image/png": "[encoded data removed]",
      "text/plain": [
       "<Figure size 1080x720 with 3 Axes>"
      ]
     },
     "metadata": {
      "needs_background": "light"
     },
     "output_type": "display_data"
    }
   ],
   "source": [
    "decomposed = seasonal_decompose(df['num_orders'])\n",
    "\n",
    "plt.figure(figsize=(15, 10))\n",
    "\n",
    "plt.subplot(311)\n",
    "decomposed.trend.plot(ax=plt.gca(), title='Тренд')\n",
    "plt.subplot(312)\n",
    "decomposed.seasonal.plot(ax=plt.gca(), title='Сезонность')\n",
    "plt.subplot(313)\n",
    "decomposed.resid.plot(ax=plt.gca(), title='Остатки')\n",
    "\n",
    "plt.tight_layout()\n",
    "plt.show()"
   ]
  },
  {
   "cell_type": "markdown",
   "metadata": {},
   "source": [
    "1. *Тренд:* Показывает общее долгосрочное направление изменения количества заказов такси. Мы видим, что общий тренд имеет восходящее направление, что может указывать на увеличение спроса на такси в течение рассматриваемого периода.\n",
    "2. *Сезонность:* Отражает повторяющиеся паттерны в данных в течение короткого периода времени, например, в течение дня или недели. График сезонности демонстрирует четкие ежедневные колебания в количестве заказов, что может быть связано с ежедневными ритмами жизни людей.\n",
    "3. *Остатки:* Представляют собой часть временного ряда, которая не может быть объяснена трендом и сезонностью. Эта компонента включает случайные и непредсказуемые флуктуации. На графике остатков видно, что большинство значений сгруппированы вокруг нуля, что указывает на хорошее разложение временного ряда на компоненты, хотя и остаются некоторые необъяснимые вариации."
   ]
  },
  {
   "cell_type": "markdown",
   "metadata": {},
   "source": [
    "**Проверим зависимость числа заказов от часа и дня недели**"
   ]
  },
  {
   "cell_type": "code",
   "execution_count": 29,
   "metadata": {},
   "outputs": [],
   "source": [
    "df['rolling_mean'] = df.rolling(10).mean()"
   ]
  },
  {
   "cell_type": "code",
   "execution_count": 30,
   "metadata": {},
   "outputs": [
    {
     "data": {
      "image/png": "[encoded data removed]",
      "text/plain": [
       "<Figure size 1008x432 with 2 Axes>"
      ]
     },
     "metadata": {
      "needs_background": "light"
     },
     "output_type": "display_data"
    }
   ],
   "source": [
    "hourly_orders = df.groupby(df.index.hour).mean()\n",
    "weekly_orders = df.groupby(df.index.dayofweek).mean()\n",
    "days_of_week = ['Понедельник', 'Вторник', 'Среда', 'Четверг', 'Пятница', 'Суббота', 'Воскресенье']\n",
    "\n",
    "colors_hourly = plt.cm.viridis(np.linspace(0, 1, len(hourly_orders)))\n",
    "colors_weekly = plt.cm.cividis(np.linspace(0, 1, len(weekly_orders)))\n",
    "\n",
    "plt.figure(figsize=(14, 6))\n",
    "\n",
    "plt.subplot(1, 2, 1)\n",
    "hourly_orders['num_orders'].plot(kind='bar', color=colors_hourly, ax=plt.gca())\n",
    "plt.title('Среднее количество заказов по часам дня')\n",
    "plt.xlabel('Час')\n",
    "plt.ylabel('Среднее количество заказов')\n",
    "plt.xticks(rotation=45)\n",
    "\n",
    "plt.subplot(1, 2, 2)\n",
    "plt.subplot(1, 2, 2)\n",
    "weekly_orders['num_orders'].plot(kind='bar', color=colors_weekly, ax=plt.gca(), tick_label=days_of_week)\n",
    "plt.title('Среднее количество заказов по дням недели')\n",
    "plt.xlabel('День недели')\n",
    "plt.ylabel('Среднее количество заказов')\n",
    "plt.xticks(rotation=45)\n",
    "\n",
    "plt.tight_layout()\n",
    "plt.show()"
   ]
  },
  {
   "cell_type": "markdown",
   "metadata": {},
   "source": [
    "**Среднее количество заказов по часам дня:** Большая часть заказов приходится на вечерние и ночные часы, с пиком примерно в 00:00. Это может указывать на то, что спрос на такси возрастает в вечернее время, когда люди возвращаются домой с работы или развлечений. Также заметен повышенный спрос в утренние часы, начиная примерно с 6 утра, что соответствует началу рабочего дня.\n",
    "\n",
    "\n",
    "**Среднее количество заказов по месяцам:** Существует некоторая сезонность в месячном распределении заказов. Однако, учитывая, что в наших данных представлены только месяцы с марта по август, мы видим, что спрос на такси увеличивается в теплые месяцы, с пиком в августе. Это может быть связано с увеличением числа туристов и общей активностью населения в теплое время года."
   ]
  },
  {
   "cell_type": "markdown",
   "metadata": {},
   "source": [
    "## Подготовка данных"
   ]
  },
  {
   "cell_type": "markdown",
   "metadata": {},
   "source": [
    "**Создадим несколько признаков:**\n",
    "* hour - час\n",
    "* day - день\n",
    "* dayofweek - день недели\n",
    "* month - месяц"
   ]
  },
  {
   "cell_type": "code",
   "execution_count": 34,
   "metadata": {},
   "outputs": [
    {
     "name": "stdout",
     "output_type": "stream",
     "text": [
      "RSME = 31.54 at lag = 1\n"
     ]
    },
    {
     "data": {
      "text/html": [
       "<div>\n",
       "<style scoped>\n",
       "    .dataframe tbody tr th:only-of-type {\n",
       "        vertical-align: middle;\n",
       "    }\n",
       "\n",
       "    .dataframe tbody tr th {\n",
       "        vertical-align: top;\n",
       "    }\n",
       "\n",
       "    .dataframe thead th {\n",
       "        text-align: right;\n",
       "    }\n",
       "</style>\n",
       "<table border=\"1\" class=\"dataframe\">\n",
       "  <thead>\n",
       "    <tr style=\"text-align: right;\">\n",
       "      <th></th>\n",
       "      <th>num_orders</th>\n",
       "      <th>rolling_mean</th>\n",
       "      <th>month</th>\n",
       "      <th>day</th>\n",
       "      <th>hour</th>\n",
       "      <th>dayofweek</th>\n",
       "      <th>lag_1</th>\n",
       "    </tr>\n",
       "    <tr>\n",
       "      <th>datetime</th>\n",
       "      <th></th>\n",
       "      <th></th>\n",
       "      <th></th>\n",
       "      <th></th>\n",
       "      <th></th>\n",
       "      <th></th>\n",
       "      <th></th>\n",
       "    </tr>\n",
       "  </thead>\n",
       "  <tbody>\n",
       "    <tr>\n",
       "      <th>2018-03-01 00:00:00</th>\n",
       "      <td>124</td>\n",
       "      <td>NaN</td>\n",
       "      <td>3</td>\n",
       "      <td>1</td>\n",
       "      <td>0</td>\n",
       "      <td>3</td>\n",
       "      <td>NaN</td>\n",
       "    </tr>\n",
       "    <tr>\n",
       "      <th>2018-03-01 01:00:00</th>\n",
       "      <td>85</td>\n",
       "      <td>NaN</td>\n",
       "      <td>3</td>\n",
       "      <td>1</td>\n",
       "      <td>1</td>\n",
       "      <td>3</td>\n",
       "      <td>124.0</td>\n",
       "    </tr>\n",
       "    <tr>\n",
       "      <th>2018-03-01 02:00:00</th>\n",
       "      <td>71</td>\n",
       "      <td>NaN</td>\n",
       "      <td>3</td>\n",
       "      <td>1</td>\n",
       "      <td>2</td>\n",
       "      <td>3</td>\n",
       "      <td>85.0</td>\n",
       "    </tr>\n",
       "    <tr>\n",
       "      <th>2018-03-01 03:00:00</th>\n",
       "      <td>66</td>\n",
       "      <td>NaN</td>\n",
       "      <td>3</td>\n",
       "      <td>1</td>\n",
       "      <td>3</td>\n",
       "      <td>3</td>\n",
       "      <td>71.0</td>\n",
       "    </tr>\n",
       "    <tr>\n",
       "      <th>2018-03-01 04:00:00</th>\n",
       "      <td>43</td>\n",
       "      <td>NaN</td>\n",
       "      <td>3</td>\n",
       "      <td>1</td>\n",
       "      <td>4</td>\n",
       "      <td>3</td>\n",
       "      <td>66.0</td>\n",
       "    </tr>\n",
       "  </tbody>\n",
       "</table>\n",
       "</div>"
      ],
      "text/plain": [
       "                     num_orders  rolling_mean  month  day  hour  dayofweek  \\\n",
       "datetime                                                                     \n",
       "2018-03-01 00:00:00         124           NaN      3    1     0          3   \n",
       "2018-03-01 01:00:00          85           NaN      3    1     1          3   \n",
       "2018-03-01 02:00:00          71           NaN      3    1     2          3   \n",
       "2018-03-01 03:00:00          66           NaN      3    1     3          3   \n",
       "2018-03-01 04:00:00          43           NaN      3    1     4          3   \n",
       "\n",
       "                     lag_1  \n",
       "datetime                    \n",
       "2018-03-01 00:00:00    NaN  \n",
       "2018-03-01 01:00:00  124.0  \n",
       "2018-03-01 02:00:00   85.0  \n",
       "2018-03-01 03:00:00   71.0  \n",
       "2018-03-01 04:00:00   66.0  "
      ]
     },
     "metadata": {},
     "output_type": "display_data"
    },
    {
     "name": "stdout",
     "output_type": "stream",
     "text": [
      "RSME = 31.46 at lag = 3\n"
     ]
    },
    {
     "data": {
      "text/html": [
       "<div>\n",
       "<style scoped>\n",
       "    .dataframe tbody tr th:only-of-type {\n",
       "        vertical-align: middle;\n",
       "    }\n",
       "\n",
       "    .dataframe tbody tr th {\n",
       "        vertical-align: top;\n",
       "    }\n",
       "\n",
       "    .dataframe thead th {\n",
       "        text-align: right;\n",
       "    }\n",
       "</style>\n",
       "<table border=\"1\" class=\"dataframe\">\n",
       "  <thead>\n",
       "    <tr style=\"text-align: right;\">\n",
       "      <th></th>\n",
       "      <th>num_orders</th>\n",
       "      <th>rolling_mean</th>\n",
       "      <th>month</th>\n",
       "      <th>day</th>\n",
       "      <th>hour</th>\n",
       "      <th>dayofweek</th>\n",
       "      <th>lag_1</th>\n",
       "      <th>lag_2</th>\n",
       "      <th>lag_3</th>\n",
       "    </tr>\n",
       "    <tr>\n",
       "      <th>datetime</th>\n",
       "      <th></th>\n",
       "      <th></th>\n",
       "      <th></th>\n",
       "      <th></th>\n",
       "      <th></th>\n",
       "      <th></th>\n",
       "      <th></th>\n",
       "      <th></th>\n",
       "      <th></th>\n",
       "    </tr>\n",
       "  </thead>\n",
       "  <tbody>\n",
       "    <tr>\n",
       "      <th>2018-03-01 00:00:00</th>\n",
       "      <td>124</td>\n",
       "      <td>NaN</td>\n",
       "      <td>3</td>\n",
       "      <td>1</td>\n",
       "      <td>0</td>\n",
       "      <td>3</td>\n",
       "      <td>NaN</td>\n",
       "      <td>NaN</td>\n",
       "      <td>NaN</td>\n",
       "    </tr>\n",
       "    <tr>\n",
       "      <th>2018-03-01 01:00:00</th>\n",
       "      <td>85</td>\n",
       "      <td>NaN</td>\n",
       "      <td>3</td>\n",
       "      <td>1</td>\n",
       "      <td>1</td>\n",
       "      <td>3</td>\n",
       "      <td>124.0</td>\n",
       "      <td>NaN</td>\n",
       "      <td>NaN</td>\n",
       "    </tr>\n",
       "    <tr>\n",
       "      <th>2018-03-01 02:00:00</th>\n",
       "      <td>71</td>\n",
       "      <td>NaN</td>\n",
       "      <td>3</td>\n",
       "      <td>1</td>\n",
       "      <td>2</td>\n",
       "      <td>3</td>\n",
       "      <td>85.0</td>\n",
       "      <td>124.0</td>\n",
       "      <td>NaN</td>\n",
       "    </tr>\n",
       "    <tr>\n",
       "      <th>2018-03-01 03:00:00</th>\n",
       "      <td>66</td>\n",
       "      <td>NaN</td>\n",
       "      <td>3</td>\n",
       "      <td>1</td>\n",
       "      <td>3</td>\n",
       "      <td>3</td>\n",
       "      <td>71.0</td>\n",
       "      <td>85.0</td>\n",
       "      <td>124.0</td>\n",
       "    </tr>\n",
       "    <tr>\n",
       "      <th>2018-03-01 04:00:00</th>\n",
       "      <td>43</td>\n",
       "      <td>NaN</td>\n",
       "      <td>3</td>\n",
       "      <td>1</td>\n",
       "      <td>4</td>\n",
       "      <td>3</td>\n",
       "      <td>66.0</td>\n",
       "      <td>71.0</td>\n",
       "      <td>85.0</td>\n",
       "    </tr>\n",
       "  </tbody>\n",
       "</table>\n",
       "</div>"
      ],
      "text/plain": [
       "                     num_orders  rolling_mean  month  day  hour  dayofweek  \\\n",
       "datetime                                                                     \n",
       "2018-03-01 00:00:00         124           NaN      3    1     0          3   \n",
       "2018-03-01 01:00:00          85           NaN      3    1     1          3   \n",
       "2018-03-01 02:00:00          71           NaN      3    1     2          3   \n",
       "2018-03-01 03:00:00          66           NaN      3    1     3          3   \n",
       "2018-03-01 04:00:00          43           NaN      3    1     4          3   \n",
       "\n",
       "                     lag_1  lag_2  lag_3  \n",
       "datetime                                  \n",
       "2018-03-01 00:00:00    NaN    NaN    NaN  \n",
       "2018-03-01 01:00:00  124.0    NaN    NaN  \n",
       "2018-03-01 02:00:00   85.0  124.0    NaN  \n",
       "2018-03-01 03:00:00   71.0   85.0  124.0  \n",
       "2018-03-01 04:00:00   66.0   71.0   85.0  "
      ]
     },
     "metadata": {},
     "output_type": "display_data"
    },
    {
     "name": "stdout",
     "output_type": "stream",
     "text": [
      "RSME = 31.48 at lag = 6\n"
     ]
    },
    {
     "data": {
      "text/html": [
       "<div>\n",
       "<style scoped>\n",
       "    .dataframe tbody tr th:only-of-type {\n",
       "        vertical-align: middle;\n",
       "    }\n",
       "\n",
       "    .dataframe tbody tr th {\n",
       "        vertical-align: top;\n",
       "    }\n",
       "\n",
       "    .dataframe thead th {\n",
       "        text-align: right;\n",
       "    }\n",
       "</style>\n",
       "<table border=\"1\" class=\"dataframe\">\n",
       "  <thead>\n",
       "    <tr style=\"text-align: right;\">\n",
       "      <th></th>\n",
       "      <th>num_orders</th>\n",
       "      <th>rolling_mean</th>\n",
       "      <th>month</th>\n",
       "      <th>day</th>\n",
       "      <th>hour</th>\n",
       "      <th>dayofweek</th>\n",
       "      <th>lag_1</th>\n",
       "      <th>lag_2</th>\n",
       "      <th>lag_3</th>\n",
       "      <th>lag_4</th>\n",
       "      <th>lag_5</th>\n",
       "      <th>lag_6</th>\n",
       "    </tr>\n",
       "    <tr>\n",
       "      <th>datetime</th>\n",
       "      <th></th>\n",
       "      <th></th>\n",
       "      <th></th>\n",
       "      <th></th>\n",
       "      <th></th>\n",
       "      <th></th>\n",
       "      <th></th>\n",
       "      <th></th>\n",
       "      <th></th>\n",
       "      <th></th>\n",
       "      <th></th>\n",
       "      <th></th>\n",
       "    </tr>\n",
       "  </thead>\n",
       "  <tbody>\n",
       "    <tr>\n",
       "      <th>2018-03-01 00:00:00</th>\n",
       "      <td>124</td>\n",
       "      <td>NaN</td>\n",
       "      <td>3</td>\n",
       "      <td>1</td>\n",
       "      <td>0</td>\n",
       "      <td>3</td>\n",
       "      <td>NaN</td>\n",
       "      <td>NaN</td>\n",
       "      <td>NaN</td>\n",
       "      <td>NaN</td>\n",
       "      <td>NaN</td>\n",
       "      <td>NaN</td>\n",
       "    </tr>\n",
       "    <tr>\n",
       "      <th>2018-03-01 01:00:00</th>\n",
       "      <td>85</td>\n",
       "      <td>NaN</td>\n",
       "      <td>3</td>\n",
       "      <td>1</td>\n",
       "      <td>1</td>\n",
       "      <td>3</td>\n",
       "      <td>124.0</td>\n",
       "      <td>NaN</td>\n",
       "      <td>NaN</td>\n",
       "      <td>NaN</td>\n",
       "      <td>NaN</td>\n",
       "      <td>NaN</td>\n",
       "    </tr>\n",
       "    <tr>\n",
       "      <th>2018-03-01 02:00:00</th>\n",
       "      <td>71</td>\n",
       "      <td>NaN</td>\n",
       "      <td>3</td>\n",
       "      <td>1</td>\n",
       "      <td>2</td>\n",
       "      <td>3</td>\n",
       "      <td>85.0</td>\n",
       "      <td>124.0</td>\n",
       "      <td>NaN</td>\n",
       "      <td>NaN</td>\n",
       "      <td>NaN</td>\n",
       "      <td>NaN</td>\n",
       "    </tr>\n",
       "    <tr>\n",
       "      <th>2018-03-01 03:00:00</th>\n",
       "      <td>66</td>\n",
       "      <td>NaN</td>\n",
       "      <td>3</td>\n",
       "      <td>1</td>\n",
       "      <td>3</td>\n",
       "      <td>3</td>\n",
       "      <td>71.0</td>\n",
       "      <td>85.0</td>\n",
       "      <td>124.0</td>\n",
       "      <td>NaN</td>\n",
       "      <td>NaN</td>\n",
       "      <td>NaN</td>\n",
       "    </tr>\n",
       "    <tr>\n",
       "      <th>2018-03-01 04:00:00</th>\n",
       "      <td>43</td>\n",
       "      <td>NaN</td>\n",
       "      <td>3</td>\n",
       "      <td>1</td>\n",
       "      <td>4</td>\n",
       "      <td>3</td>\n",
       "      <td>66.0</td>\n",
       "      <td>71.0</td>\n",
       "      <td>85.0</td>\n",
       "      <td>124.0</td>\n",
       "      <td>NaN</td>\n",
       "      <td>NaN</td>\n",
       "    </tr>\n",
       "  </tbody>\n",
       "</table>\n",
       "</div>"
      ],
      "text/plain": [
       "                     num_orders  rolling_mean  month  day  hour  dayofweek  \\\n",
       "datetime                                                                     \n",
       "2018-03-01 00:00:00         124           NaN      3    1     0          3   \n",
       "2018-03-01 01:00:00          85           NaN      3    1     1          3   \n",
       "2018-03-01 02:00:00          71           NaN      3    1     2          3   \n",
       "2018-03-01 03:00:00          66           NaN      3    1     3          3   \n",
       "2018-03-01 04:00:00          43           NaN      3    1     4          3   \n",
       "\n",
       "                     lag_1  lag_2  lag_3  lag_4  lag_5  lag_6  \n",
       "datetime                                                       \n",
       "2018-03-01 00:00:00    NaN    NaN    NaN    NaN    NaN    NaN  \n",
       "2018-03-01 01:00:00  124.0    NaN    NaN    NaN    NaN    NaN  \n",
       "2018-03-01 02:00:00   85.0  124.0    NaN    NaN    NaN    NaN  \n",
       "2018-03-01 03:00:00   71.0   85.0  124.0    NaN    NaN    NaN  \n",
       "2018-03-01 04:00:00   66.0   71.0   85.0  124.0    NaN    NaN  "
      ]
     },
     "metadata": {},
     "output_type": "display_data"
    },
    {
     "name": "stdout",
     "output_type": "stream",
     "text": [
      "RSME = 31.36 at lag = 12\n"
     ]
    },
    {
     "data": {
      "text/html": [
       "<div>\n",
       "<style scoped>\n",
       "    .dataframe tbody tr th:only-of-type {\n",
       "        vertical-align: middle;\n",
       "    }\n",
       "\n",
       "    .dataframe tbody tr th {\n",
       "        vertical-align: top;\n",
       "    }\n",
       "\n",
       "    .dataframe thead th {\n",
       "        text-align: right;\n",
       "    }\n",
       "</style>\n",
       "<table border=\"1\" class=\"dataframe\">\n",
       "  <thead>\n",
       "    <tr style=\"text-align: right;\">\n",
       "      <th></th>\n",
       "      <th>num_orders</th>\n",
       "      <th>rolling_mean</th>\n",
       "      <th>month</th>\n",
       "      <th>day</th>\n",
       "      <th>hour</th>\n",
       "      <th>dayofweek</th>\n",
       "      <th>lag_1</th>\n",
       "      <th>lag_2</th>\n",
       "      <th>lag_3</th>\n",
       "      <th>lag_4</th>\n",
       "      <th>lag_5</th>\n",
       "      <th>lag_6</th>\n",
       "      <th>lag_7</th>\n",
       "      <th>lag_8</th>\n",
       "      <th>lag_9</th>\n",
       "      <th>lag_10</th>\n",
       "      <th>lag_11</th>\n",
       "      <th>lag_12</th>\n",
       "    </tr>\n",
       "    <tr>\n",
       "      <th>datetime</th>\n",
       "      <th></th>\n",
       "      <th></th>\n",
       "      <th></th>\n",
       "      <th></th>\n",
       "      <th></th>\n",
       "      <th></th>\n",
       "      <th></th>\n",
       "      <th></th>\n",
       "      <th></th>\n",
       "      <th></th>\n",
       "      <th></th>\n",
       "      <th></th>\n",
       "      <th></th>\n",
       "      <th></th>\n",
       "      <th></th>\n",
       "      <th></th>\n",
       "      <th></th>\n",
       "      <th></th>\n",
       "    </tr>\n",
       "  </thead>\n",
       "  <tbody>\n",
       "    <tr>\n",
       "      <th>2018-03-01 00:00:00</th>\n",
       "      <td>124</td>\n",
       "      <td>NaN</td>\n",
       "      <td>3</td>\n",
       "      <td>1</td>\n",
       "      <td>0</td>\n",
       "      <td>3</td>\n",
       "      <td>NaN</td>\n",
       "      <td>NaN</td>\n",
       "      <td>NaN</td>\n",
       "      <td>NaN</td>\n",
       "      <td>NaN</td>\n",
       "      <td>NaN</td>\n",
       "      <td>NaN</td>\n",
       "      <td>NaN</td>\n",
       "      <td>NaN</td>\n",
       "      <td>NaN</td>\n",
       "      <td>NaN</td>\n",
       "      <td>NaN</td>\n",
       "    </tr>\n",
       "    <tr>\n",
       "      <th>2018-03-01 01:00:00</th>\n",
       "      <td>85</td>\n",
       "      <td>NaN</td>\n",
       "      <td>3</td>\n",
       "      <td>1</td>\n",
       "      <td>1</td>\n",
       "      <td>3</td>\n",
       "      <td>124.0</td>\n",
       "      <td>NaN</td>\n",
       "      <td>NaN</td>\n",
       "      <td>NaN</td>\n",
       "      <td>NaN</td>\n",
       "      <td>NaN</td>\n",
       "      <td>NaN</td>\n",
       "      <td>NaN</td>\n",
       "      <td>NaN</td>\n",
       "      <td>NaN</td>\n",
       "      <td>NaN</td>\n",
       "      <td>NaN</td>\n",
       "    </tr>\n",
       "    <tr>\n",
       "      <th>2018-03-01 02:00:00</th>\n",
       "      <td>71</td>\n",
       "      <td>NaN</td>\n",
       "      <td>3</td>\n",
       "      <td>1</td>\n",
       "      <td>2</td>\n",
       "      <td>3</td>\n",
       "      <td>85.0</td>\n",
       "      <td>124.0</td>\n",
       "      <td>NaN</td>\n",
       "      <td>NaN</td>\n",
       "      <td>NaN</td>\n",
       "      <td>NaN</td>\n",
       "      <td>NaN</td>\n",
       "      <td>NaN</td>\n",
       "      <td>NaN</td>\n",
       "      <td>NaN</td>\n",
       "      <td>NaN</td>\n",
       "      <td>NaN</td>\n",
       "    </tr>\n",
       "    <tr>\n",
       "      <th>2018-03-01 03:00:00</th>\n",
       "      <td>66</td>\n",
       "      <td>NaN</td>\n",
       "      <td>3</td>\n",
       "      <td>1</td>\n",
       "      <td>3</td>\n",
       "      <td>3</td>\n",
       "      <td>71.0</td>\n",
       "      <td>85.0</td>\n",
       "      <td>124.0</td>\n",
       "      <td>NaN</td>\n",
       "      <td>NaN</td>\n",
       "      <td>NaN</td>\n",
       "      <td>NaN</td>\n",
       "      <td>NaN</td>\n",
       "      <td>NaN</td>\n",
       "      <td>NaN</td>\n",
       "      <td>NaN</td>\n",
       "      <td>NaN</td>\n",
       "    </tr>\n",
       "    <tr>\n",
       "      <th>2018-03-01 04:00:00</th>\n",
       "      <td>43</td>\n",
       "      <td>NaN</td>\n",
       "      <td>3</td>\n",
       "      <td>1</td>\n",
       "      <td>4</td>\n",
       "      <td>3</td>\n",
       "      <td>66.0</td>\n",
       "      <td>71.0</td>\n",
       "      <td>85.0</td>\n",
       "      <td>124.0</td>\n",
       "      <td>NaN</td>\n",
       "      <td>NaN</td>\n",
       "      <td>NaN</td>\n",
       "      <td>NaN</td>\n",
       "      <td>NaN</td>\n",
       "      <td>NaN</td>\n",
       "      <td>NaN</td>\n",
       "      <td>NaN</td>\n",
       "    </tr>\n",
       "  </tbody>\n",
       "</table>\n",
       "</div>"
      ],
      "text/plain": [
       "                     num_orders  rolling_mean  month  day  hour  dayofweek  \\\n",
       "datetime                                                                     \n",
       "2018-03-01 00:00:00         124           NaN      3    1     0          3   \n",
       "2018-03-01 01:00:00          85           NaN      3    1     1          3   \n",
       "2018-03-01 02:00:00          71           NaN      3    1     2          3   \n",
       "2018-03-01 03:00:00          66           NaN      3    1     3          3   \n",
       "2018-03-01 04:00:00          43           NaN      3    1     4          3   \n",
       "\n",
       "                     lag_1  lag_2  lag_3  lag_4  lag_5  lag_6  lag_7  lag_8  \\\n",
       "datetime                                                                      \n",
       "2018-03-01 00:00:00    NaN    NaN    NaN    NaN    NaN    NaN    NaN    NaN   \n",
       "2018-03-01 01:00:00  124.0    NaN    NaN    NaN    NaN    NaN    NaN    NaN   \n",
       "2018-03-01 02:00:00   85.0  124.0    NaN    NaN    NaN    NaN    NaN    NaN   \n",
       "2018-03-01 03:00:00   71.0   85.0  124.0    NaN    NaN    NaN    NaN    NaN   \n",
       "2018-03-01 04:00:00   66.0   71.0   85.0  124.0    NaN    NaN    NaN    NaN   \n",
       "\n",
       "                     lag_9  lag_10  lag_11  lag_12  \n",
       "datetime                                            \n",
       "2018-03-01 00:00:00    NaN     NaN     NaN     NaN  \n",
       "2018-03-01 01:00:00    NaN     NaN     NaN     NaN  \n",
       "2018-03-01 02:00:00    NaN     NaN     NaN     NaN  \n",
       "2018-03-01 03:00:00    NaN     NaN     NaN     NaN  \n",
       "2018-03-01 04:00:00    NaN     NaN     NaN     NaN  "
      ]
     },
     "metadata": {},
     "output_type": "display_data"
    },
    {
     "name": "stdout",
     "output_type": "stream",
     "text": [
      "RSME = 26.94 at lag = 24\n"
     ]
    },
    {
     "data": {
      "text/html": [
       "<div>\n",
       "<style scoped>\n",
       "    .dataframe tbody tr th:only-of-type {\n",
       "        vertical-align: middle;\n",
       "    }\n",
       "\n",
       "    .dataframe tbody tr th {\n",
       "        vertical-align: top;\n",
       "    }\n",
       "\n",
       "    .dataframe thead th {\n",
       "        text-align: right;\n",
       "    }\n",
       "</style>\n",
       "<table border=\"1\" class=\"dataframe\">\n",
       "  <thead>\n",
       "    <tr style=\"text-align: right;\">\n",
       "      <th></th>\n",
       "      <th>num_orders</th>\n",
       "      <th>rolling_mean</th>\n",
       "      <th>month</th>\n",
       "      <th>day</th>\n",
       "      <th>hour</th>\n",
       "      <th>dayofweek</th>\n",
       "      <th>lag_1</th>\n",
       "      <th>lag_2</th>\n",
       "      <th>lag_3</th>\n",
       "      <th>lag_4</th>\n",
       "      <th>...</th>\n",
       "      <th>lag_15</th>\n",
       "      <th>lag_16</th>\n",
       "      <th>lag_17</th>\n",
       "      <th>lag_18</th>\n",
       "      <th>lag_19</th>\n",
       "      <th>lag_20</th>\n",
       "      <th>lag_21</th>\n",
       "      <th>lag_22</th>\n",
       "      <th>lag_23</th>\n",
       "      <th>lag_24</th>\n",
       "    </tr>\n",
       "    <tr>\n",
       "      <th>datetime</th>\n",
       "      <th></th>\n",
       "      <th></th>\n",
       "      <th></th>\n",
       "      <th></th>\n",
       "      <th></th>\n",
       "      <th></th>\n",
       "      <th></th>\n",
       "      <th></th>\n",
       "      <th></th>\n",
       "      <th></th>\n",
       "      <th></th>\n",
       "      <th></th>\n",
       "      <th></th>\n",
       "      <th></th>\n",
       "      <th></th>\n",
       "      <th></th>\n",
       "      <th></th>\n",
       "      <th></th>\n",
       "      <th></th>\n",
       "      <th></th>\n",
       "      <th></th>\n",
       "    </tr>\n",
       "  </thead>\n",
       "  <tbody>\n",
       "    <tr>\n",
       "      <th>2018-03-01 00:00:00</th>\n",
       "      <td>124</td>\n",
       "      <td>NaN</td>\n",
       "      <td>3</td>\n",
       "      <td>1</td>\n",
       "      <td>0</td>\n",
       "      <td>3</td>\n",
       "      <td>NaN</td>\n",
       "      <td>NaN</td>\n",
       "      <td>NaN</td>\n",
       "      <td>NaN</td>\n",
       "      <td>...</td>\n",
       "      <td>NaN</td>\n",
       "      <td>NaN</td>\n",
       "      <td>NaN</td>\n",
       "      <td>NaN</td>\n",
       "      <td>NaN</td>\n",
       "      <td>NaN</td>\n",
       "      <td>NaN</td>\n",
       "      <td>NaN</td>\n",
       "      <td>NaN</td>\n",
       "      <td>NaN</td>\n",
       "    </tr>\n",
       "    <tr>\n",
       "      <th>2018-03-01 01:00:00</th>\n",
       "      <td>85</td>\n",
       "      <td>NaN</td>\n",
       "      <td>3</td>\n",
       "      <td>1</td>\n",
       "      <td>1</td>\n",
       "      <td>3</td>\n",
       "      <td>124.0</td>\n",
       "      <td>NaN</td>\n",
       "      <td>NaN</td>\n",
       "      <td>NaN</td>\n",
       "      <td>...</td>\n",
       "      <td>NaN</td>\n",
       "      <td>NaN</td>\n",
       "      <td>NaN</td>\n",
       "      <td>NaN</td>\n",
       "      <td>NaN</td>\n",
       "      <td>NaN</td>\n",
       "      <td>NaN</td>\n",
       "      <td>NaN</td>\n",
       "      <td>NaN</td>\n",
       "      <td>NaN</td>\n",
       "    </tr>\n",
       "    <tr>\n",
       "      <th>2018-03-01 02:00:00</th>\n",
       "      <td>71</td>\n",
       "      <td>NaN</td>\n",
       "      <td>3</td>\n",
       "      <td>1</td>\n",
       "      <td>2</td>\n",
       "      <td>3</td>\n",
       "      <td>85.0</td>\n",
       "      <td>124.0</td>\n",
       "      <td>NaN</td>\n",
       "      <td>NaN</td>\n",
       "      <td>...</td>\n",
       "      <td>NaN</td>\n",
       "      <td>NaN</td>\n",
       "      <td>NaN</td>\n",
       "      <td>NaN</td>\n",
       "      <td>NaN</td>\n",
       "      <td>NaN</td>\n",
       "      <td>NaN</td>\n",
       "      <td>NaN</td>\n",
       "      <td>NaN</td>\n",
       "      <td>NaN</td>\n",
       "    </tr>\n",
       "    <tr>\n",
       "      <th>2018-03-01 03:00:00</th>\n",
       "      <td>66</td>\n",
       "      <td>NaN</td>\n",
       "      <td>3</td>\n",
       "      <td>1</td>\n",
       "      <td>3</td>\n",
       "      <td>3</td>\n",
       "      <td>71.0</td>\n",
       "      <td>85.0</td>\n",
       "      <td>124.0</td>\n",
       "      <td>NaN</td>\n",
       "      <td>...</td>\n",
       "      <td>NaN</td>\n",
       "      <td>NaN</td>\n",
       "      <td>NaN</td>\n",
       "      <td>NaN</td>\n",
       "      <td>NaN</td>\n",
       "      <td>NaN</td>\n",
       "      <td>NaN</td>\n",
       "      <td>NaN</td>\n",
       "      <td>NaN</td>\n",
       "      <td>NaN</td>\n",
       "    </tr>\n",
       "    <tr>\n",
       "      <th>2018-03-01 04:00:00</th>\n",
       "      <td>43</td>\n",
       "      <td>NaN</td>\n",
       "      <td>3</td>\n",
       "      <td>1</td>\n",
       "      <td>4</td>\n",
       "      <td>3</td>\n",
       "      <td>66.0</td>\n",
       "      <td>71.0</td>\n",
       "      <td>85.0</td>\n",
       "      <td>124.0</td>\n",
       "      <td>...</td>\n",
       "      <td>NaN</td>\n",
       "      <td>NaN</td>\n",
       "      <td>NaN</td>\n",
       "      <td>NaN</td>\n",
       "      <td>NaN</td>\n",
       "      <td>NaN</td>\n",
       "      <td>NaN</td>\n",
       "      <td>NaN</td>\n",
       "      <td>NaN</td>\n",
       "      <td>NaN</td>\n",
       "    </tr>\n",
       "  </tbody>\n",
       "</table>\n",
       "<p>5 rows × 30 columns</p>\n",
       "</div>"
      ],
      "text/plain": [
       "                     num_orders  rolling_mean  month  day  hour  dayofweek  \\\n",
       "datetime                                                                     \n",
       "2018-03-01 00:00:00         124           NaN      3    1     0          3   \n",
       "2018-03-01 01:00:00          85           NaN      3    1     1          3   \n",
       "2018-03-01 02:00:00          71           NaN      3    1     2          3   \n",
       "2018-03-01 03:00:00          66           NaN      3    1     3          3   \n",
       "2018-03-01 04:00:00          43           NaN      3    1     4          3   \n",
       "\n",
       "                     lag_1  lag_2  lag_3  lag_4  ...  lag_15  lag_16  lag_17  \\\n",
       "datetime                                         ...                           \n",
       "2018-03-01 00:00:00    NaN    NaN    NaN    NaN  ...     NaN     NaN     NaN   \n",
       "2018-03-01 01:00:00  124.0    NaN    NaN    NaN  ...     NaN     NaN     NaN   \n",
       "2018-03-01 02:00:00   85.0  124.0    NaN    NaN  ...     NaN     NaN     NaN   \n",
       "2018-03-01 03:00:00   71.0   85.0  124.0    NaN  ...     NaN     NaN     NaN   \n",
       "2018-03-01 04:00:00   66.0   71.0   85.0  124.0  ...     NaN     NaN     NaN   \n",
       "\n",
       "                     lag_18  lag_19  lag_20  lag_21  lag_22  lag_23  lag_24  \n",
       "datetime                                                                     \n",
       "2018-03-01 00:00:00     NaN     NaN     NaN     NaN     NaN     NaN     NaN  \n",
       "2018-03-01 01:00:00     NaN     NaN     NaN     NaN     NaN     NaN     NaN  \n",
       "2018-03-01 02:00:00     NaN     NaN     NaN     NaN     NaN     NaN     NaN  \n",
       "2018-03-01 03:00:00     NaN     NaN     NaN     NaN     NaN     NaN     NaN  \n",
       "2018-03-01 04:00:00     NaN     NaN     NaN     NaN     NaN     NaN     NaN  \n",
       "\n",
       "[5 rows x 30 columns]"
      ]
     },
     "metadata": {},
     "output_type": "display_data"
    }
   ],
   "source": [
    "import pandas as pd\n",
    "from sklearn.model_selection import train_test_split, TimeSeriesSplit\n",
    "from sklearn.linear_model import LinearRegression\n",
    "from sklearn.metrics import make_scorer, mean_squared_error\n",
    "import numpy as np\n",
    "\n",
    "def make_features(data, max_lag, rolling_mean_size):\n",
    "    data['month'] = data.index.month\n",
    "    data['day'] = data.index.day\n",
    "    data['hour'] = data.index.hour\n",
    "    data['dayofweek'] = data.index.dayofweek\n",
    "\n",
    "    for lag in range(1, max_lag + 1):\n",
    "        data[f'lag_{lag}'] = data['num_orders'].shift(lag)\n",
    "\n",
    "    data['rolling_mean'] = data['num_orders'].shift().rolling(window=rolling_mean_size).mean()\n",
    "\n",
    "    train, test = train_test_split(data, shuffle=False, test_size=0.1)\n",
    "    train = train.dropna()\n",
    "\n",
    "    features_train = train.drop(columns='num_orders')\n",
    "    target_train = train['num_orders']\n",
    "    features_test = test.drop(columns='num_orders')\n",
    "    target_test = test['num_orders']\n",
    "\n",
    "    model = LinearRegression()\n",
    "    rsme = -cross_val_score(\n",
    "        model, features_train, target_train,\n",
    "        scoring='neg_root_mean_squared_error',\n",
    "        cv=TimeSeriesSplit(n_splits=5)\n",
    "    ).mean()\n",
    "\n",
    "    print(f'RSME = {rsme.round(2)} at lag = {max_lag}')\n",
    "    return data\n",
    "\n",
    "lags_list=[1,3,6,12,24]\n",
    "data_temp =[]\n",
    "df_new = df.copy()\n",
    "for i in range(len(lags_list)):\n",
    "    data_temp.append(make_features(df_new, lags_list[i], 24))\n",
    "    display(data_temp[i].head())"
   ]
  },
  {
   "cell_type": "markdown",
   "metadata": {},
   "source": [
    "## Обучение\n",
    "\n",
    "Обучим несколько моделей:\n",
    "* Модель RandomForestRegressor\n",
    "* Модель CatBoostRegressor\n",
    "* Модель DecisionTreeRegressor\n",
    "* Модель LGBMRegressor"
   ]
  },
  {
   "cell_type": "markdown",
   "metadata": {},
   "source": [
    "### Разделение данных на выборки"
   ]
  },
  {
   "cell_type": "code",
   "execution_count": 35,
   "metadata": {},
   "outputs": [
    {
     "name": "stdout",
     "output_type": "stream",
     "text": [
      "(3950, 29) (442, 29) (3950,) (442,)\n"
     ]
    }
   ],
   "source": [
    "train, test = train_test_split(data_temp[4], shuffle=False, test_size=TEST_SIZE)\n",
    "train = train.dropna()\n",
    "    \n",
    "features_train = train.drop('num_orders',axis=1)\n",
    "features_test = test.drop('num_orders',axis=1)\n",
    "target_train = train['num_orders']\n",
    "target_test = test['num_orders']\n",
    "print(features_train.shape,features_test.shape,target_train.shape,target_test.shape)"
   ]
  },
  {
   "cell_type": "markdown",
   "metadata": {},
   "source": [
    "### Обучение модели RandomForestRegressor"
   ]
  },
  {
   "cell_type": "code",
   "execution_count": 41,
   "metadata": {},
   "outputs": [],
   "source": [
    "start_time = time.time()\n",
    "model_rf = RandomForestRegressor(random_state=RANDOM_STATE)\n",
    "param_grid_rf = {\n",
    "    \"max_depth\": range(15, 16),\n",
    "    \"min_samples_leaf\": range(2, 3)\n",
    "}\n",
    "gsearch_rf = GridSearchCV(model_rf, param_grid=param_grid_rf, scoring='neg_root_mean_squared_error', cv=TimeSeriesSplit(n_splits=5))\n",
    "rf_model = gsearch_rf.fit(features_train, target_train)\n",
    "best_rf_rmse = -rf_model.best_score_\n",
    "rf_time = time.time() - start_time"
   ]
  },
  {
   "cell_type": "markdown",
   "metadata": {},
   "source": [
    "### Обучение модели CatBoostRegressor"
   ]
  },
  {
   "cell_type": "code",
   "execution_count": 42,
   "metadata": {},
   "outputs": [],
   "source": [
    "start_time = time.time()\n",
    "model_cb = CatBoostRegressor(random_state=12345, silent=True)\n",
    "param_grid_cb = {\n",
    "    \"depth\": [4, 6, 10],\n",
    "}\n",
    "gsearch_cb = GridSearchCV(model_cb, param_grid=param_grid_cb, scoring='neg_root_mean_squared_error', cv=TimeSeriesSplit(n_splits=5))\n",
    "cb_model = gsearch_cb.fit(features_train, target_train)\n",
    "best_cb_rmse = -cb_model.best_score_\n",
    "cb_time = time.time() - start_time"
   ]
  },
  {
   "cell_type": "markdown",
   "metadata": {},
   "source": [
    "### Обучение модели DecisionTreeRegressor"
   ]
  },
  {
   "cell_type": "code",
   "execution_count": 43,
   "metadata": {},
   "outputs": [],
   "source": [
    "start_time = time.time()\n",
    "model_dt = DecisionTreeRegressor(random_state=RANDOM_STATE)\n",
    "param_grid_dt = {\n",
    "    \"max_depth\": range(15, 16),\n",
    "    \"min_samples_leaf\": range(20, 30)\n",
    "}\n",
    "gsearch_dt = GridSearchCV(model_dt, param_grid=param_grid_dt, scoring='neg_root_mean_squared_error', cv=TimeSeriesSplit(n_splits=5))\n",
    "dt_model = gsearch_dt.fit(features_train, target_train)\n",
    "best_dt_rmse = -dt_model.best_score_\n",
    "dt_time = time.time() - start_time"
   ]
  },
  {
   "cell_type": "markdown",
   "metadata": {},
   "source": [
    "### Обучение модели LGBMRegressor"
   ]
  },
  {
   "cell_type": "code",
   "execution_count": 44,
   "metadata": {},
   "outputs": [],
   "source": [
    "start_time = time.time()\n",
    "model_lgbm = LGBMRegressor(random_state=12345, n_jobs=2)\n",
    "param_grid_lgbm = {\n",
    "    \"max_depth\": range(11, 12),\n",
    "    \"n_estimators\": range(56, 57)\n",
    "}\n",
    "gsearch_lgbm = GridSearchCV(model_lgbm, param_grid=param_grid_lgbm, scoring='neg_root_mean_squared_error', cv=TimeSeriesSplit(n_splits=5))\n",
    "lgbm_model = gsearch_lgbm.fit(features_train, target_train)\n",
    "best_lgbm_rmse = -lgbm_model.best_score_\n",
    "lgbm_time = time.time() - start_time"
   ]
  },
  {
   "cell_type": "markdown",
   "metadata": {},
   "source": [
    "### Сравнение моделей"
   ]
  },
  {
   "cell_type": "code",
   "execution_count": 45,
   "metadata": {},
   "outputs": [
    {
     "data": {
      "text/html": [
       "<div>\n",
       "<style scoped>\n",
       "    .dataframe tbody tr th:only-of-type {\n",
       "        vertical-align: middle;\n",
       "    }\n",
       "\n",
       "    .dataframe tbody tr th {\n",
       "        vertical-align: top;\n",
       "    }\n",
       "\n",
       "    .dataframe thead th {\n",
       "        text-align: right;\n",
       "    }\n",
       "</style>\n",
       "<table border=\"1\" class=\"dataframe\">\n",
       "  <thead>\n",
       "    <tr style=\"text-align: right;\">\n",
       "      <th></th>\n",
       "      <th>Model</th>\n",
       "      <th>Best RMSE</th>\n",
       "      <th>Training Time (s)</th>\n",
       "    </tr>\n",
       "  </thead>\n",
       "  <tbody>\n",
       "    <tr>\n",
       "      <th>0</th>\n",
       "      <td>Decision Tree</td>\n",
       "      <td>28.776013</td>\n",
       "      <td>1.452089</td>\n",
       "    </tr>\n",
       "    <tr>\n",
       "      <th>1</th>\n",
       "      <td>Random Forest</td>\n",
       "      <td>25.316743</td>\n",
       "      <td>21.350889</td>\n",
       "    </tr>\n",
       "    <tr>\n",
       "      <th>2</th>\n",
       "      <td>CatBoost</td>\n",
       "      <td>24.127174</td>\n",
       "      <td>433.286592</td>\n",
       "    </tr>\n",
       "    <tr>\n",
       "      <th>3</th>\n",
       "      <td>LightGBM</td>\n",
       "      <td>24.876140</td>\n",
       "      <td>0.991853</td>\n",
       "    </tr>\n",
       "  </tbody>\n",
       "</table>\n",
       "</div>"
      ],
      "text/plain": [
       "           Model  Best RMSE  Training Time (s)\n",
       "0  Decision Tree  28.776013           1.452089\n",
       "1  Random Forest  25.316743          21.350889\n",
       "2       CatBoost  24.127174         433.286592\n",
       "3       LightGBM  24.876140           0.991853"
      ]
     },
     "metadata": {},
     "output_type": "display_data"
    }
   ],
   "source": [
    "results = pd.DataFrame({\n",
    "    \"Model\": [\"Decision Tree\", \"Random Forest\", \"CatBoost\", \"LightGBM\"],\n",
    "    \"Best RMSE\": [best_dt_rmse, best_rf_rmse, best_cb_rmse, best_lgbm_rmse],\n",
    "    \"Training Time (s)\": [dt_time, rf_time, cb_time, lgbm_time]\n",
    "})\n",
    "\n",
    "display(results)"
   ]
  },
  {
   "cell_type": "markdown",
   "metadata": {},
   "source": [
    "В анализе полученных моделей машинного обучения, лучшей моделью считается та, которая демонстрирует наименьшее значение RMSE (Root Mean Square Error), указывая на более высокую точность предсказаний. Согласно полученным данным, модель CatBoost показывает наилучший результат с RMSE равным 24.127, что делает её наиболее точной среди рассмотренных моделей.\n",
    "\n",
    "Однако, время обучения модели также играет важную роль, особенно в условиях, когда требуется быстрая обработка данных. С этой точки зрения, модель LightGBM выделяется как наиболее эффективная по времени, затрачивая всего около 0.992 секунды на обучение, при этом сохраняя сравнительно низкий RMSE 24.876.\n",
    "\n",
    "Таким образом, если основным критерием является точность предсказаний, то CatBoost является предпочтительным выбором. В случае, когда необходимо учитывать и время обучения, LightGBM представляет собой более сбалансированный вариант, обеспечивая высокую точность при значительно меньших временных затратах."
   ]
  },
  {
   "cell_type": "markdown",
   "metadata": {},
   "source": [
    "## Тестирование"
   ]
  },
  {
   "cell_type": "markdown",
   "metadata": {},
   "source": [
    "Протестируем модель на тестовых данных."
   ]
  },
  {
   "cell_type": "code",
   "execution_count": 46,
   "metadata": {},
   "outputs": [
    {
     "name": "stdout",
     "output_type": "stream",
     "text": [
      "RSME = 31.33 at lag = 12\n",
      "Точность градиентного бустинга на обучающем наборе: 16.345\n",
      "Точность градиентного бустинга на тестовом наборе: 42.450\n"
     ]
    }
   ],
   "source": [
    "data_first_model = df.copy()\n",
    "make_features(data_first_model, 12, 17)\n",
    "data_first_model.dropna(inplace=True)\n",
    "\n",
    "train, test = train_test_split(data_first_model,\n",
    "                               shuffle=False,\n",
    "                               test_size=0.1)\n",
    "X_train = train.drop(['num_orders'], axis=1)\n",
    "y_train = train['num_orders']\n",
    "X_test = test.drop(['num_orders'], axis=1)\n",
    "y_test = test['num_orders']\n",
    "\n",
    "gb_model = stat.loc[11, 'Модель']\n",
    "gb_model.fit(X_train, y_train)\n",
    "predict_train = gb_model.predict(X_train)\n",
    "predict_test = gb_model.predict(X_test)\n",
    "\n",
    "train_rmse = mean_squared_error(y_train, predict_train)**0.5\n",
    "test_rmse = mean_squared_error(y_test, predict_test)**0.5\n",
    "\n",
    "print('Точность градиентного бустинга на обучающем наборе: {:.3f}'.format(train_rmse))\n",
    "print('Точность градиентного бустинга на тестовом наборе: {:.3f}'.format(test_rmse))"
   ]
  },
  {
   "cell_type": "markdown",
   "metadata": {},
   "source": [
    "Построим график сравнения фактического и прогнозируемого значения для модели."
   ]
  },
  {
   "cell_type": "code",
   "execution_count": 47,
   "metadata": {
    "scrolled": true
   },
   "outputs": [
    {
     "data": {
      "image/png": "[encoded data removed]",
      "text/plain": [
       "<Figure size 1440x360 with 1 Axes>"
      ]
     },
     "metadata": {
      "needs_background": "light"
     },
     "output_type": "display_data"
    }
   ],
   "source": [
    "pd.DataFrame({'Прогнозы':predict_train,\n",
    "             'Фактические':y_train})[:240].plot(figsize=(20,5))\n",
    "plt.title('Сравнение фактического и прогнозируемого значения для модели градиентного бустинга на обучающем')\n",
    "plt.show()"
   ]
  }
 ],
 "metadata": {
  "ExecuteTimeLog": [
   {
    "duration": 282,
    "start_time": "2024-02-25T08:09:15.180Z"
   },
   {
    "duration": 1509,
    "start_time": "2024-02-25T08:09:22.347Z"
   },
   {
    "duration": 114,
    "start_time": "2024-02-25T08:14:11.055Z"
   },
   {
    "duration": 13,
    "start_time": "2024-02-25T08:14:43.955Z"
   },
   {
    "duration": 9,
    "start_time": "2024-02-25T08:14:55.846Z"
   },
   {
    "duration": 9,
    "start_time": "2024-02-25T08:17:54.605Z"
   },
   {
    "duration": 48,
    "start_time": "2024-02-25T08:19:01.035Z"
   },
   {
    "duration": 11,
    "start_time": "2024-02-25T08:19:01.905Z"
   },
   {
    "duration": 6,
    "start_time": "2024-02-25T08:19:02.706Z"
   },
   {
    "duration": 7,
    "start_time": "2024-02-25T08:19:07.202Z"
   },
   {
    "duration": 18,
    "start_time": "2024-02-25T08:27:29.133Z"
   },
   {
    "duration": 15,
    "start_time": "2024-02-25T08:27:36.012Z"
   },
   {
    "duration": 83,
    "start_time": "2024-02-25T08:28:01.596Z"
   },
   {
    "duration": 8,
    "start_time": "2024-02-25T08:28:21.813Z"
   },
   {
    "duration": 15,
    "start_time": "2024-02-25T08:28:22.719Z"
   },
   {
    "duration": 309,
    "start_time": "2024-02-25T08:28:23.522Z"
   },
   {
    "duration": 25,
    "start_time": "2024-02-25T08:30:01.247Z"
   },
   {
    "duration": 952,
    "start_time": "2024-02-25T08:30:05.532Z"
   },
   {
    "duration": 506,
    "start_time": "2024-02-25T08:30:51.839Z"
   },
   {
    "duration": 479,
    "start_time": "2024-02-25T08:31:49.652Z"
   },
   {
    "duration": 489,
    "start_time": "2024-02-25T08:35:25.416Z"
   },
   {
    "duration": 1001,
    "start_time": "2024-02-25T08:47:53.419Z"
   },
   {
    "duration": 828,
    "start_time": "2024-02-25T08:48:04.593Z"
   },
   {
    "duration": 232,
    "start_time": "2024-02-25T08:48:32.487Z"
   },
   {
    "duration": 951,
    "start_time": "2024-02-25T08:48:40.869Z"
   },
   {
    "duration": 865,
    "start_time": "2024-02-25T08:49:33.053Z"
   },
   {
    "duration": 19,
    "start_time": "2024-02-25T08:51:34.468Z"
   },
   {
    "duration": 11,
    "start_time": "2024-02-25T08:52:44.848Z"
   },
   {
    "duration": 4,
    "start_time": "2024-02-25T08:52:59.869Z"
   },
   {
    "duration": 9,
    "start_time": "2024-02-25T08:53:09.120Z"
   },
   {
    "duration": 49,
    "start_time": "2024-02-25T08:54:08.553Z"
   },
   {
    "duration": 55,
    "start_time": "2024-02-25T22:46:15.775Z"
   },
   {
    "duration": 10,
    "start_time": "2024-02-25T22:46:35.774Z"
   },
   {
    "duration": 1943,
    "start_time": "2024-02-25T22:46:39.355Z"
   },
   {
    "duration": 146,
    "start_time": "2024-02-25T22:46:41.300Z"
   },
   {
    "duration": 15,
    "start_time": "2024-02-25T22:46:41.447Z"
   },
   {
    "duration": 10,
    "start_time": "2024-02-25T22:46:41.463Z"
   },
   {
    "duration": 10,
    "start_time": "2024-02-25T22:46:41.476Z"
   },
   {
    "duration": 24,
    "start_time": "2024-02-25T22:46:41.487Z"
   },
   {
    "duration": 365,
    "start_time": "2024-02-25T22:46:41.513Z"
   },
   {
    "duration": 1028,
    "start_time": "2024-02-25T22:46:41.880Z"
   },
   {
    "duration": 116,
    "start_time": "2024-02-25T22:46:42.911Z"
   },
   {
    "duration": 0,
    "start_time": "2024-02-25T22:46:43.041Z"
   },
   {
    "duration": 0,
    "start_time": "2024-02-25T22:46:43.043Z"
   },
   {
    "duration": 0,
    "start_time": "2024-02-25T22:46:43.045Z"
   },
   {
    "duration": 1,
    "start_time": "2024-02-25T22:46:43.046Z"
   },
   {
    "duration": 587,
    "start_time": "2024-02-25T22:48:04.548Z"
   },
   {
    "duration": 1136,
    "start_time": "2024-02-25T22:48:09.354Z"
   },
   {
    "duration": 43,
    "start_time": "2024-02-25T22:48:11.343Z"
   },
   {
    "duration": 28,
    "start_time": "2024-02-25T22:48:12.393Z"
   },
   {
    "duration": 18,
    "start_time": "2024-02-25T22:48:13.310Z"
   },
   {
    "duration": 6,
    "start_time": "2024-02-25T22:48:34.776Z"
   },
   {
    "duration": 16,
    "start_time": "2024-02-25T22:48:37.942Z"
   },
   {
    "duration": 6,
    "start_time": "2024-02-25T22:48:58.742Z"
   },
   {
    "duration": 1768,
    "start_time": "2024-02-26T07:09:08.974Z"
   },
   {
    "duration": 129,
    "start_time": "2024-02-26T07:09:10.744Z"
   },
   {
    "duration": 15,
    "start_time": "2024-02-26T07:09:10.875Z"
   },
   {
    "duration": 10,
    "start_time": "2024-02-26T07:09:10.893Z"
   },
   {
    "duration": 9,
    "start_time": "2024-02-26T07:09:10.905Z"
   },
   {
    "duration": 18,
    "start_time": "2024-02-26T07:09:10.916Z"
   },
   {
    "duration": 388,
    "start_time": "2024-02-26T07:09:10.936Z"
   },
   {
    "duration": 964,
    "start_time": "2024-02-26T07:09:11.326Z"
   },
   {
    "duration": 515,
    "start_time": "2024-02-26T07:09:12.292Z"
   },
   {
    "duration": 146,
    "start_time": "2024-02-26T07:09:12.810Z"
   },
   {
    "duration": 0,
    "start_time": "2024-02-26T07:09:12.958Z"
   },
   {
    "duration": 0,
    "start_time": "2024-02-26T07:09:12.959Z"
   },
   {
    "duration": 0,
    "start_time": "2024-02-26T07:09:12.960Z"
   },
   {
    "duration": 0,
    "start_time": "2024-02-26T07:09:12.961Z"
   },
   {
    "duration": 5,
    "start_time": "2024-02-26T07:10:23.378Z"
   },
   {
    "duration": 858,
    "start_time": "2024-02-26T07:10:30.535Z"
   },
   {
    "duration": 32,
    "start_time": "2024-02-26T07:10:34.522Z"
   },
   {
    "duration": 25,
    "start_time": "2024-02-26T07:10:36.956Z"
   },
   {
    "duration": 7695,
    "start_time": "2024-02-26T07:10:39.392Z"
   },
   {
    "duration": 13314,
    "start_time": "2024-02-26T07:10:58.868Z"
   },
   {
    "duration": 114,
    "start_time": "2024-02-26T07:11:45.870Z"
   },
   {
    "duration": 34202,
    "start_time": "2024-02-26T07:16:02.182Z"
   },
   {
    "duration": 184,
    "start_time": "2024-02-26T07:16:43.109Z"
   },
   {
    "duration": 21,
    "start_time": "2024-02-26T07:19:21.342Z"
   },
   {
    "duration": 20,
    "start_time": "2024-02-26T07:20:07.139Z"
   },
   {
    "duration": 54,
    "start_time": "2024-02-26T07:20:13.090Z"
   },
   {
    "duration": 7,
    "start_time": "2024-02-26T07:20:30.746Z"
   },
   {
    "duration": 34759,
    "start_time": "2024-02-26T07:20:35.625Z"
   },
   {
    "duration": 302,
    "start_time": "2024-02-26T07:21:10.386Z"
   },
   {
    "duration": 18,
    "start_time": "2024-02-26T07:21:33.817Z"
   },
   {
    "duration": 33795,
    "start_time": "2024-02-26T07:21:37.008Z"
   },
   {
    "duration": 5,
    "start_time": "2024-02-26T07:22:14.088Z"
   },
   {
    "duration": 53,
    "start_time": "2024-02-26T07:22:14.096Z"
   },
   {
    "duration": 12,
    "start_time": "2024-02-26T07:22:14.151Z"
   },
   {
    "duration": 11,
    "start_time": "2024-02-26T07:22:14.165Z"
   },
   {
    "duration": 8,
    "start_time": "2024-02-26T07:22:14.178Z"
   },
   {
    "duration": 17,
    "start_time": "2024-02-26T07:22:14.187Z"
   },
   {
    "duration": 238,
    "start_time": "2024-02-26T07:22:14.205Z"
   },
   {
    "duration": 887,
    "start_time": "2024-02-26T07:22:14.445Z"
   },
   {
    "duration": 621,
    "start_time": "2024-02-26T07:22:15.334Z"
   },
   {
    "duration": 1032,
    "start_time": "2024-02-26T07:22:15.957Z"
   },
   {
    "duration": 200,
    "start_time": "2024-02-26T07:22:16.991Z"
   },
   {
    "duration": 22,
    "start_time": "2024-02-26T07:22:17.192Z"
   },
   {
    "duration": 11,
    "start_time": "2024-02-26T07:22:17.216Z"
   },
   {
    "duration": 13,
    "start_time": "2024-02-26T07:22:17.229Z"
   },
   {
    "duration": 34241,
    "start_time": "2024-02-26T07:22:17.243Z"
   },
   {
    "duration": 298,
    "start_time": "2024-02-26T07:22:51.486Z"
   },
   {
    "duration": 1854,
    "start_time": "2024-02-26T07:31:53.990Z"
   },
   {
    "duration": 109167,
    "start_time": "2024-02-26T07:32:24.766Z"
   },
   {
    "duration": 12,
    "start_time": "2024-02-26T07:35:37.975Z"
   },
   {
    "duration": 108197,
    "start_time": "2024-02-26T07:35:49.167Z"
   },
   {
    "duration": 13,
    "start_time": "2024-02-26T07:39:09.656Z"
   },
   {
    "duration": 4,
    "start_time": "2024-02-26T07:39:42.115Z"
   },
   {
    "duration": 0,
    "start_time": "2024-02-26T07:46:46.903Z"
   },
   {
    "duration": 0,
    "start_time": "2024-02-26T07:46:46.904Z"
   },
   {
    "duration": 0,
    "start_time": "2024-02-26T07:46:46.905Z"
   },
   {
    "duration": 0,
    "start_time": "2024-02-26T07:46:46.906Z"
   },
   {
    "duration": 0,
    "start_time": "2024-02-26T07:46:46.908Z"
   },
   {
    "duration": 0,
    "start_time": "2024-02-26T07:46:46.909Z"
   },
   {
    "duration": 0,
    "start_time": "2024-02-26T07:46:46.910Z"
   },
   {
    "duration": 0,
    "start_time": "2024-02-26T07:46:46.982Z"
   },
   {
    "duration": 0,
    "start_time": "2024-02-26T07:46:46.986Z"
   },
   {
    "duration": 0,
    "start_time": "2024-02-26T07:46:46.989Z"
   },
   {
    "duration": 0,
    "start_time": "2024-02-26T07:46:46.990Z"
   },
   {
    "duration": 0,
    "start_time": "2024-02-26T07:46:46.992Z"
   },
   {
    "duration": 0,
    "start_time": "2024-02-26T07:46:46.993Z"
   },
   {
    "duration": 0,
    "start_time": "2024-02-26T07:46:46.995Z"
   },
   {
    "duration": 19,
    "start_time": "2024-02-26T07:47:12.116Z"
   },
   {
    "duration": 5,
    "start_time": "2024-02-26T07:47:29.024Z"
   },
   {
    "duration": 53,
    "start_time": "2024-02-26T07:47:29.031Z"
   },
   {
    "duration": 11,
    "start_time": "2024-02-26T07:47:29.086Z"
   },
   {
    "duration": 8,
    "start_time": "2024-02-26T07:47:29.099Z"
   },
   {
    "duration": 13,
    "start_time": "2024-02-26T07:47:29.109Z"
   },
   {
    "duration": 15,
    "start_time": "2024-02-26T07:47:29.124Z"
   },
   {
    "duration": 257,
    "start_time": "2024-02-26T07:47:29.140Z"
   },
   {
    "duration": 815,
    "start_time": "2024-02-26T07:47:29.398Z"
   },
   {
    "duration": 495,
    "start_time": "2024-02-26T07:47:30.215Z"
   },
   {
    "duration": 973,
    "start_time": "2024-02-26T07:47:30.712Z"
   },
   {
    "duration": 116,
    "start_time": "2024-02-26T07:47:31.687Z"
   },
   {
    "duration": 23,
    "start_time": "2024-02-26T07:47:31.804Z"
   },
   {
    "duration": 36,
    "start_time": "2024-02-26T07:47:31.828Z"
   },
   {
    "duration": 26,
    "start_time": "2024-02-26T07:47:31.866Z"
   },
   {
    "duration": 13,
    "start_time": "2024-02-26T07:47:41.556Z"
   },
   {
    "duration": 3,
    "start_time": "2024-02-26T07:48:41.819Z"
   },
   {
    "duration": 524,
    "start_time": "2024-02-26T07:49:36.197Z"
   },
   {
    "duration": 175,
    "start_time": "2024-02-26T07:50:16.090Z"
   },
   {
    "duration": 5,
    "start_time": "2024-02-26T07:50:20.575Z"
   },
   {
    "duration": 61,
    "start_time": "2024-02-26T07:50:20.582Z"
   },
   {
    "duration": 12,
    "start_time": "2024-02-26T07:50:20.645Z"
   },
   {
    "duration": 7,
    "start_time": "2024-02-26T07:50:20.659Z"
   },
   {
    "duration": 35,
    "start_time": "2024-02-26T07:50:20.668Z"
   },
   {
    "duration": 32,
    "start_time": "2024-02-26T07:50:20.705Z"
   },
   {
    "duration": 246,
    "start_time": "2024-02-26T07:50:20.739Z"
   },
   {
    "duration": 922,
    "start_time": "2024-02-26T07:50:20.987Z"
   },
   {
    "duration": 482,
    "start_time": "2024-02-26T07:50:21.911Z"
   },
   {
    "duration": 618,
    "start_time": "2024-02-26T07:50:22.395Z"
   },
   {
    "duration": 22,
    "start_time": "2024-02-26T07:50:23.015Z"
   },
   {
    "duration": 185,
    "start_time": "2024-02-26T07:50:23.039Z"
   },
   {
    "duration": 4,
    "start_time": "2024-02-26T07:50:23.226Z"
   },
   {
    "duration": 136,
    "start_time": "2024-02-26T07:50:23.232Z"
   },
   {
    "duration": 708,
    "start_time": "2024-02-26T07:50:54.287Z"
   },
   {
    "duration": 775,
    "start_time": "2024-02-26T07:53:52.484Z"
   },
   {
    "duration": 570,
    "start_time": "2024-02-26T07:54:15.264Z"
   },
   {
    "duration": 5,
    "start_time": "2024-02-26T07:54:21.423Z"
   },
   {
    "duration": 52,
    "start_time": "2024-02-26T07:54:21.430Z"
   },
   {
    "duration": 10,
    "start_time": "2024-02-26T07:54:21.484Z"
   },
   {
    "duration": 8,
    "start_time": "2024-02-26T07:54:21.496Z"
   },
   {
    "duration": 11,
    "start_time": "2024-02-26T07:54:21.506Z"
   },
   {
    "duration": 16,
    "start_time": "2024-02-26T07:54:21.519Z"
   },
   {
    "duration": 239,
    "start_time": "2024-02-26T07:54:21.536Z"
   },
   {
    "duration": 839,
    "start_time": "2024-02-26T07:54:21.777Z"
   },
   {
    "duration": 625,
    "start_time": "2024-02-26T07:54:22.617Z"
   },
   {
    "duration": 5,
    "start_time": "2024-02-26T07:54:25.172Z"
   },
   {
    "duration": 48,
    "start_time": "2024-02-26T07:54:25.179Z"
   },
   {
    "duration": 10,
    "start_time": "2024-02-26T07:54:25.228Z"
   },
   {
    "duration": 6,
    "start_time": "2024-02-26T07:54:25.240Z"
   },
   {
    "duration": 9,
    "start_time": "2024-02-26T07:54:25.248Z"
   },
   {
    "duration": 15,
    "start_time": "2024-02-26T07:54:25.258Z"
   },
   {
    "duration": 207,
    "start_time": "2024-02-26T07:54:25.275Z"
   },
   {
    "duration": 832,
    "start_time": "2024-02-26T07:54:25.483Z"
   },
   {
    "duration": 492,
    "start_time": "2024-02-26T07:54:26.316Z"
   },
   {
    "duration": 32,
    "start_time": "2024-02-26T07:54:26.810Z"
   },
   {
    "duration": 22,
    "start_time": "2024-02-26T07:54:26.843Z"
   },
   {
    "duration": 12,
    "start_time": "2024-02-26T07:54:26.882Z"
   },
   {
    "duration": 4,
    "start_time": "2024-02-26T07:54:26.895Z"
   },
   {
    "duration": 15,
    "start_time": "2024-02-26T07:54:26.901Z"
   },
   {
    "duration": 24,
    "start_time": "2024-02-26T07:55:46.499Z"
   },
   {
    "duration": 24,
    "start_time": "2024-02-26T07:56:04.060Z"
   },
   {
    "duration": 4,
    "start_time": "2024-02-26T07:56:17.632Z"
   },
   {
    "duration": 60387,
    "start_time": "2024-02-26T07:56:17.912Z"
   },
   {
    "duration": 69008,
    "start_time": "2024-02-26T07:57:34.680Z"
   },
   {
    "duration": 20,
    "start_time": "2024-02-26T07:59:34.237Z"
   },
   {
    "duration": 10,
    "start_time": "2024-02-26T07:59:35.072Z"
   },
   {
    "duration": 4,
    "start_time": "2024-02-26T07:59:35.308Z"
   },
   {
    "duration": 17,
    "start_time": "2024-02-26T07:59:44.442Z"
   },
   {
    "duration": 16,
    "start_time": "2024-02-26T08:00:05.075Z"
   },
   {
    "duration": 24,
    "start_time": "2024-02-26T08:00:21.578Z"
   },
   {
    "duration": 8,
    "start_time": "2024-02-26T08:01:09.848Z"
   },
   {
    "duration": 4,
    "start_time": "2024-02-26T08:01:17.498Z"
   },
   {
    "duration": 4,
    "start_time": "2024-02-26T08:01:39.256Z"
   },
   {
    "duration": 15,
    "start_time": "2024-02-26T08:03:00.989Z"
   },
   {
    "duration": 6,
    "start_time": "2024-02-26T08:03:15.014Z"
   },
   {
    "duration": 192908,
    "start_time": "2024-02-26T08:03:20.195Z"
   },
   {
    "duration": 1150,
    "start_time": "2024-02-26T08:07:37.895Z"
   },
   {
    "duration": 1796,
    "start_time": "2024-02-26T15:28:00.259Z"
   },
   {
    "duration": 129,
    "start_time": "2024-02-26T15:28:02.058Z"
   },
   {
    "duration": 13,
    "start_time": "2024-02-26T15:28:02.189Z"
   },
   {
    "duration": 37,
    "start_time": "2024-02-26T15:28:02.203Z"
   },
   {
    "duration": 25,
    "start_time": "2024-02-26T15:28:02.242Z"
   },
   {
    "duration": 45,
    "start_time": "2024-02-26T15:28:02.268Z"
   },
   {
    "duration": 308,
    "start_time": "2024-02-26T15:28:02.315Z"
   },
   {
    "duration": 900,
    "start_time": "2024-02-26T15:28:02.625Z"
   },
   {
    "duration": 497,
    "start_time": "2024-02-26T15:28:03.526Z"
   },
   {
    "duration": 4,
    "start_time": "2024-02-26T15:28:04.025Z"
   },
   {
    "duration": 57644,
    "start_time": "2024-02-26T15:28:04.030Z"
   },
   {
    "duration": 21,
    "start_time": "2024-02-26T15:29:01.676Z"
   },
   {
    "duration": 40,
    "start_time": "2024-02-26T15:29:01.698Z"
   },
   {
    "duration": 23,
    "start_time": "2024-02-26T15:29:01.742Z"
   },
   {
    "duration": 33,
    "start_time": "2024-02-26T15:29:01.767Z"
   },
   {
    "duration": 61,
    "start_time": "2024-02-26T15:29:01.801Z"
   },
   {
    "duration": 237468,
    "start_time": "2024-02-26T15:29:01.863Z"
   },
   {
    "duration": 123,
    "start_time": "2024-02-26T15:32:59.332Z"
   },
   {
    "duration": 0,
    "start_time": "2024-02-26T15:32:59.456Z"
   },
   {
    "duration": 1353,
    "start_time": "2024-02-26T15:35:43.122Z"
   },
   {
    "duration": 84,
    "start_time": "2024-02-26T15:36:32.915Z"
   },
   {
    "duration": 0,
    "start_time": "2024-02-26T15:40:34.663Z"
   },
   {
    "duration": 0,
    "start_time": "2024-02-26T15:40:34.664Z"
   },
   {
    "duration": 0,
    "start_time": "2024-02-26T15:40:34.672Z"
   },
   {
    "duration": 0,
    "start_time": "2024-02-26T15:40:34.675Z"
   },
   {
    "duration": 0,
    "start_time": "2024-02-26T15:40:34.676Z"
   },
   {
    "duration": 0,
    "start_time": "2024-02-26T15:40:34.678Z"
   },
   {
    "duration": 0,
    "start_time": "2024-02-26T15:40:34.679Z"
   },
   {
    "duration": 0,
    "start_time": "2024-02-26T15:40:34.682Z"
   },
   {
    "duration": 0,
    "start_time": "2024-02-26T15:40:34.683Z"
   },
   {
    "duration": 0,
    "start_time": "2024-02-26T15:40:34.687Z"
   },
   {
    "duration": 0,
    "start_time": "2024-02-26T15:40:34.688Z"
   },
   {
    "duration": 0,
    "start_time": "2024-02-26T15:40:34.689Z"
   },
   {
    "duration": 0,
    "start_time": "2024-02-26T15:40:34.690Z"
   },
   {
    "duration": 0,
    "start_time": "2024-02-26T15:40:34.691Z"
   },
   {
    "duration": 0,
    "start_time": "2024-02-26T15:40:34.692Z"
   },
   {
    "duration": 0,
    "start_time": "2024-02-26T15:40:34.693Z"
   },
   {
    "duration": 0,
    "start_time": "2024-02-26T15:40:34.695Z"
   },
   {
    "duration": 0,
    "start_time": "2024-02-26T15:40:34.696Z"
   },
   {
    "duration": 0,
    "start_time": "2024-02-26T15:40:34.697Z"
   },
   {
    "duration": 5,
    "start_time": "2024-02-26T15:40:45.025Z"
   },
   {
    "duration": 106,
    "start_time": "2024-02-26T15:40:45.031Z"
   },
   {
    "duration": 10,
    "start_time": "2024-02-26T15:40:45.138Z"
   },
   {
    "duration": 38,
    "start_time": "2024-02-26T15:40:45.150Z"
   },
   {
    "duration": 28,
    "start_time": "2024-02-26T15:40:45.190Z"
   },
   {
    "duration": 33,
    "start_time": "2024-02-26T15:40:45.219Z"
   },
   {
    "duration": 278,
    "start_time": "2024-02-26T15:40:45.254Z"
   },
   {
    "duration": 865,
    "start_time": "2024-02-26T15:40:45.534Z"
   },
   {
    "duration": 9,
    "start_time": "2024-02-26T15:40:46.400Z"
   },
   {
    "duration": 0,
    "start_time": "2024-02-26T15:40:46.411Z"
   },
   {
    "duration": 0,
    "start_time": "2024-02-26T15:40:46.412Z"
   },
   {
    "duration": 0,
    "start_time": "2024-02-26T15:40:46.413Z"
   },
   {
    "duration": 0,
    "start_time": "2024-02-26T15:40:46.414Z"
   },
   {
    "duration": 0,
    "start_time": "2024-02-26T15:40:46.415Z"
   },
   {
    "duration": 0,
    "start_time": "2024-02-26T15:40:46.415Z"
   },
   {
    "duration": 0,
    "start_time": "2024-02-26T15:40:46.416Z"
   },
   {
    "duration": 0,
    "start_time": "2024-02-26T15:40:46.418Z"
   },
   {
    "duration": 0,
    "start_time": "2024-02-26T15:40:46.418Z"
   },
   {
    "duration": 0,
    "start_time": "2024-02-26T15:40:46.419Z"
   },
   {
    "duration": 5,
    "start_time": "2024-02-26T15:40:55.546Z"
   },
   {
    "duration": 600,
    "start_time": "2024-02-26T15:40:57.661Z"
   },
   {
    "duration": 591,
    "start_time": "2024-02-26T15:40:59.414Z"
   },
   {
    "duration": 33,
    "start_time": "2024-02-26T15:42:06.598Z"
   },
   {
    "duration": 6,
    "start_time": "2024-02-26T15:42:09.758Z"
   },
   {
    "duration": 51,
    "start_time": "2024-02-26T15:42:09.767Z"
   },
   {
    "duration": 12,
    "start_time": "2024-02-26T15:42:09.820Z"
   },
   {
    "duration": 13,
    "start_time": "2024-02-26T15:42:09.834Z"
   },
   {
    "duration": 19,
    "start_time": "2024-02-26T15:42:09.849Z"
   },
   {
    "duration": 20,
    "start_time": "2024-02-26T15:42:09.871Z"
   },
   {
    "duration": 243,
    "start_time": "2024-02-26T15:42:09.892Z"
   },
   {
    "duration": 853,
    "start_time": "2024-02-26T15:42:10.137Z"
   },
   {
    "duration": 5,
    "start_time": "2024-02-26T15:42:10.991Z"
   },
   {
    "duration": 502,
    "start_time": "2024-02-26T15:42:10.998Z"
   },
   {
    "duration": 45,
    "start_time": "2024-02-26T15:42:11.502Z"
   },
   {
    "duration": 41,
    "start_time": "2024-02-26T15:42:11.548Z"
   },
   {
    "duration": 28,
    "start_time": "2024-02-26T15:42:11.591Z"
   },
   {
    "duration": 4,
    "start_time": "2024-02-26T15:42:11.621Z"
   },
   {
    "duration": 32,
    "start_time": "2024-02-26T15:42:11.627Z"
   },
   {
    "duration": 107,
    "start_time": "2024-02-26T15:42:11.661Z"
   },
   {
    "duration": 47978,
    "start_time": "2024-02-26T15:42:11.771Z"
   },
   {
    "duration": 0,
    "start_time": "2024-02-26T15:42:59.751Z"
   },
   {
    "duration": 0,
    "start_time": "2024-02-26T15:42:59.752Z"
   },
   {
    "duration": 0,
    "start_time": "2024-02-26T15:42:59.753Z"
   },
   {
    "duration": 4,
    "start_time": "2024-02-26T15:43:02.830Z"
   },
   {
    "duration": 121997,
    "start_time": "2024-02-26T15:43:58.878Z"
   },
   {
    "duration": 4,
    "start_time": "2024-02-26T15:54:18.487Z"
   },
   {
    "duration": 36211,
    "start_time": "2024-02-26T15:54:29.564Z"
   },
   {
    "duration": 4,
    "start_time": "2024-02-26T15:55:46.186Z"
   },
   {
    "duration": 34954,
    "start_time": "2024-02-26T15:55:47.520Z"
   },
   {
    "duration": 13,
    "start_time": "2024-02-26T15:56:33.974Z"
   },
   {
    "duration": 4,
    "start_time": "2024-02-26T15:57:23.843Z"
   },
   {
    "duration": 35229,
    "start_time": "2024-02-26T15:57:29.145Z"
   },
   {
    "duration": 96166,
    "start_time": "2024-02-26T16:00:21.919Z"
   },
   {
    "duration": 330,
    "start_time": "2024-02-26T16:05:06.228Z"
   },
   {
    "duration": 336,
    "start_time": "2024-02-26T16:05:19.985Z"
   },
   {
    "duration": 542,
    "start_time": "2024-02-26T16:06:20.385Z"
   },
   {
    "duration": 159,
    "start_time": "2024-02-26T16:06:29.134Z"
   },
   {
    "duration": 7,
    "start_time": "2024-02-26T16:07:09.483Z"
   },
   {
    "duration": 21,
    "start_time": "2024-02-26T16:07:47.778Z"
   },
   {
    "duration": 7,
    "start_time": "2024-02-26T16:07:54.081Z"
   },
   {
    "duration": 65,
    "start_time": "2024-02-26T16:07:54.091Z"
   },
   {
    "duration": 18,
    "start_time": "2024-02-26T16:07:54.157Z"
   },
   {
    "duration": 11,
    "start_time": "2024-02-26T16:07:54.178Z"
   },
   {
    "duration": 26,
    "start_time": "2024-02-26T16:07:54.191Z"
   },
   {
    "duration": 23,
    "start_time": "2024-02-26T16:07:54.218Z"
   },
   {
    "duration": 219,
    "start_time": "2024-02-26T16:07:54.242Z"
   },
   {
    "duration": 929,
    "start_time": "2024-02-26T16:07:54.462Z"
   },
   {
    "duration": 4,
    "start_time": "2024-02-26T16:07:55.393Z"
   },
   {
    "duration": 524,
    "start_time": "2024-02-26T16:07:55.399Z"
   },
   {
    "duration": 206,
    "start_time": "2024-02-26T16:07:55.925Z"
   },
   {
    "duration": 322,
    "start_time": "2024-02-26T16:08:26.935Z"
   },
   {
    "duration": 5,
    "start_time": "2024-02-26T16:08:32.289Z"
   },
   {
    "duration": 81,
    "start_time": "2024-02-26T16:08:32.297Z"
   },
   {
    "duration": 11,
    "start_time": "2024-02-26T16:08:32.380Z"
   },
   {
    "duration": 8,
    "start_time": "2024-02-26T16:08:32.393Z"
   },
   {
    "duration": 10,
    "start_time": "2024-02-26T16:08:32.403Z"
   },
   {
    "duration": 17,
    "start_time": "2024-02-26T16:08:32.415Z"
   },
   {
    "duration": 254,
    "start_time": "2024-02-26T16:08:32.434Z"
   },
   {
    "duration": 810,
    "start_time": "2024-02-26T16:08:32.690Z"
   },
   {
    "duration": 5,
    "start_time": "2024-02-26T16:08:33.502Z"
   },
   {
    "duration": 609,
    "start_time": "2024-02-26T16:08:33.509Z"
   },
   {
    "duration": 314,
    "start_time": "2024-02-26T16:08:34.120Z"
   },
   {
    "duration": 23,
    "start_time": "2024-02-26T16:10:53.253Z"
   },
   {
    "duration": 10,
    "start_time": "2024-02-26T16:11:07.097Z"
   },
   {
    "duration": 9,
    "start_time": "2024-02-26T16:11:11.435Z"
   },
   {
    "duration": 35,
    "start_time": "2024-02-26T16:11:19.751Z"
   },
   {
    "duration": 2,
    "start_time": "2024-02-26T16:11:51.790Z"
   },
   {
    "duration": 6,
    "start_time": "2024-02-26T16:12:38.683Z"
   },
   {
    "duration": 12,
    "start_time": "2024-02-26T16:16:00.176Z"
   },
   {
    "duration": 6,
    "start_time": "2024-02-26T16:16:14.408Z"
   },
   {
    "duration": 197102,
    "start_time": "2024-02-26T16:16:17.992Z"
   },
   {
    "duration": 180697,
    "start_time": "2024-02-26T16:21:07.348Z"
   },
   {
    "duration": 12,
    "start_time": "2024-02-26T16:30:16.761Z"
   },
   {
    "duration": 10,
    "start_time": "2024-02-26T16:30:31.378Z"
   },
   {
    "duration": 18043,
    "start_time": "2024-02-26T16:31:56.035Z"
   },
   {
    "duration": 21,
    "start_time": "2024-02-26T16:33:47.924Z"
   },
   {
    "duration": 58406,
    "start_time": "2024-02-26T16:35:10.828Z"
   },
   {
    "duration": 0,
    "start_time": "2024-02-26T16:37:31.835Z"
   },
   {
    "duration": 0,
    "start_time": "2024-02-26T16:37:31.836Z"
   },
   {
    "duration": 58332,
    "start_time": "2024-02-26T16:37:39.370Z"
   },
   {
    "duration": 21,
    "start_time": "2024-02-26T16:38:42.717Z"
   },
   {
    "duration": 28,
    "start_time": "2024-02-26T16:40:00.409Z"
   },
   {
    "duration": 27,
    "start_time": "2024-02-26T16:40:53.544Z"
   },
   {
    "duration": 40040,
    "start_time": "2024-02-26T16:40:55.736Z"
   },
   {
    "duration": 140711,
    "start_time": "2024-02-26T16:43:06.079Z"
   },
   {
    "duration": 12064,
    "start_time": "2024-02-26T16:45:33.208Z"
   },
   {
    "duration": 12340,
    "start_time": "2024-02-26T16:46:34.541Z"
   },
   {
    "duration": 39862,
    "start_time": "2024-02-26T16:50:22.742Z"
   },
   {
    "duration": 89305,
    "start_time": "2024-02-26T16:51:35.757Z"
   },
   {
    "duration": 216,
    "start_time": "2024-02-26T16:53:15.461Z"
   },
   {
    "duration": 39941,
    "start_time": "2024-02-26T16:53:20.216Z"
   },
   {
    "duration": 211,
    "start_time": "2024-02-26T16:54:00.159Z"
   },
   {
    "duration": 140680,
    "start_time": "2024-02-26T16:57:54.891Z"
   },
   {
    "duration": 72,
    "start_time": "2024-02-26T17:01:18.211Z"
   },
   {
    "duration": 66,
    "start_time": "2024-02-26T17:01:53.633Z"
   },
   {
    "duration": 81,
    "start_time": "2024-02-26T17:02:04.145Z"
   },
   {
    "duration": 40683,
    "start_time": "2024-02-26T17:03:31.437Z"
   },
   {
    "duration": 91118,
    "start_time": "2024-02-26T17:04:55.081Z"
   },
   {
    "duration": 205,
    "start_time": "2024-02-26T17:06:48.816Z"
   },
   {
    "duration": 209,
    "start_time": "2024-02-26T17:07:02.956Z"
   },
   {
    "duration": 1583,
    "start_time": "2024-02-26T17:22:54.548Z"
   },
   {
    "duration": 116,
    "start_time": "2024-02-26T17:22:56.136Z"
   },
   {
    "duration": 13,
    "start_time": "2024-02-26T17:22:56.254Z"
   },
   {
    "duration": 8,
    "start_time": "2024-02-26T17:22:56.269Z"
   },
   {
    "duration": 13,
    "start_time": "2024-02-26T17:22:56.278Z"
   },
   {
    "duration": 39,
    "start_time": "2024-02-26T17:22:56.292Z"
   },
   {
    "duration": 310,
    "start_time": "2024-02-26T17:22:56.332Z"
   },
   {
    "duration": 918,
    "start_time": "2024-02-26T17:22:56.644Z"
   },
   {
    "duration": 6,
    "start_time": "2024-02-26T17:22:57.563Z"
   },
   {
    "duration": 135,
    "start_time": "2024-02-26T17:22:57.571Z"
   },
   {
    "duration": 0,
    "start_time": "2024-02-26T17:22:57.707Z"
   },
   {
    "duration": 0,
    "start_time": "2024-02-26T17:22:57.708Z"
   },
   {
    "duration": 0,
    "start_time": "2024-02-26T17:22:57.709Z"
   },
   {
    "duration": 0,
    "start_time": "2024-02-26T17:22:57.710Z"
   },
   {
    "duration": 0,
    "start_time": "2024-02-26T17:22:57.711Z"
   },
   {
    "duration": 2455,
    "start_time": "2024-02-26T17:23:35.553Z"
   },
   {
    "duration": 1923,
    "start_time": "2024-02-26T19:52:23.403Z"
   },
   {
    "duration": 143,
    "start_time": "2024-02-26T19:52:25.328Z"
   },
   {
    "duration": 27,
    "start_time": "2024-02-26T19:52:25.472Z"
   },
   {
    "duration": 9,
    "start_time": "2024-02-26T19:52:25.501Z"
   },
   {
    "duration": 20,
    "start_time": "2024-02-26T19:52:25.512Z"
   },
   {
    "duration": 38,
    "start_time": "2024-02-26T19:52:25.533Z"
   },
   {
    "duration": 428,
    "start_time": "2024-02-26T19:52:25.573Z"
   },
   {
    "duration": 1108,
    "start_time": "2024-02-26T19:52:26.003Z"
   },
   {
    "duration": 7,
    "start_time": "2024-02-26T19:52:27.113Z"
   },
   {
    "duration": 614,
    "start_time": "2024-02-26T19:52:27.123Z"
   },
   {
    "duration": 59,
    "start_time": "2024-02-26T19:52:27.738Z"
   },
   {
    "duration": 19,
    "start_time": "2024-02-26T19:52:27.799Z"
   },
   {
    "duration": 146,
    "start_time": "2024-02-26T19:52:27.820Z"
   },
   {
    "duration": 0,
    "start_time": "2024-02-26T19:52:27.968Z"
   },
   {
    "duration": 0,
    "start_time": "2024-02-26T19:52:27.969Z"
   },
   {
    "duration": 1776,
    "start_time": "2024-02-27T15:02:15.896Z"
   },
   {
    "duration": 110,
    "start_time": "2024-02-27T15:02:17.675Z"
   },
   {
    "duration": 17,
    "start_time": "2024-02-27T15:02:17.786Z"
   },
   {
    "duration": 8,
    "start_time": "2024-02-27T15:02:17.805Z"
   },
   {
    "duration": 9,
    "start_time": "2024-02-27T15:02:17.815Z"
   },
   {
    "duration": 18,
    "start_time": "2024-02-27T15:02:17.826Z"
   },
   {
    "duration": 501,
    "start_time": "2024-02-27T15:02:17.847Z"
   },
   {
    "duration": 1184,
    "start_time": "2024-02-27T15:02:18.350Z"
   },
   {
    "duration": 7,
    "start_time": "2024-02-27T15:02:19.536Z"
   },
   {
    "duration": 799,
    "start_time": "2024-02-27T15:02:19.545Z"
   },
   {
    "duration": 39,
    "start_time": "2024-02-27T15:02:20.346Z"
   },
   {
    "duration": 41,
    "start_time": "2024-02-27T15:02:20.386Z"
   },
   {
    "duration": 136,
    "start_time": "2024-02-27T15:02:20.429Z"
   },
   {
    "duration": 0,
    "start_time": "2024-02-27T15:02:20.567Z"
   },
   {
    "duration": 0,
    "start_time": "2024-02-27T15:02:20.568Z"
   },
   {
    "duration": 1636,
    "start_time": "2024-02-27T15:21:44.449Z"
   },
   {
    "duration": 5,
    "start_time": "2024-02-27T15:21:47.878Z"
   },
   {
    "duration": 136,
    "start_time": "2024-02-27T15:21:47.885Z"
   },
   {
    "duration": 12,
    "start_time": "2024-02-27T15:21:48.023Z"
   },
   {
    "duration": 7,
    "start_time": "2024-02-27T15:21:48.037Z"
   },
   {
    "duration": 8,
    "start_time": "2024-02-27T15:21:48.046Z"
   },
   {
    "duration": 14,
    "start_time": "2024-02-27T15:21:48.055Z"
   },
   {
    "duration": 323,
    "start_time": "2024-02-27T15:21:48.070Z"
   },
   {
    "duration": 883,
    "start_time": "2024-02-27T15:21:48.395Z"
   },
   {
    "duration": 7,
    "start_time": "2024-02-27T15:21:49.279Z"
   },
   {
    "duration": 492,
    "start_time": "2024-02-27T15:21:49.288Z"
   },
   {
    "duration": 37,
    "start_time": "2024-02-27T15:21:49.781Z"
   },
   {
    "duration": 26,
    "start_time": "2024-02-27T15:21:49.820Z"
   },
   {
    "duration": 41529,
    "start_time": "2024-02-27T15:21:49.848Z"
   },
   {
    "duration": 10187,
    "start_time": "2024-02-27T15:22:31.379Z"
   },
   {
    "duration": 240,
    "start_time": "2024-02-27T15:22:41.568Z"
   },
   {
    "duration": 1779,
    "start_time": "2024-03-05T07:41:33.999Z"
   },
   {
    "duration": 126,
    "start_time": "2024-03-05T07:41:35.780Z"
   },
   {
    "duration": 15,
    "start_time": "2024-03-05T07:41:35.908Z"
   },
   {
    "duration": 8,
    "start_time": "2024-03-05T07:41:35.924Z"
   },
   {
    "duration": 15,
    "start_time": "2024-03-05T07:41:35.934Z"
   },
   {
    "duration": 32,
    "start_time": "2024-03-05T07:41:35.951Z"
   },
   {
    "duration": 351,
    "start_time": "2024-03-05T07:41:35.985Z"
   },
   {
    "duration": 1007,
    "start_time": "2024-03-05T07:41:36.338Z"
   },
   {
    "duration": 8,
    "start_time": "2024-03-05T07:41:37.347Z"
   },
   {
    "duration": 534,
    "start_time": "2024-03-05T07:41:37.357Z"
   },
   {
    "duration": 41,
    "start_time": "2024-03-05T07:41:37.893Z"
   },
   {
    "duration": 17,
    "start_time": "2024-03-05T07:41:37.935Z"
   },
   {
    "duration": 31050,
    "start_time": "2024-03-05T07:41:37.954Z"
   },
   {
    "duration": 10970,
    "start_time": "2024-03-05T07:42:09.007Z"
   },
   {
    "duration": 223,
    "start_time": "2024-03-05T07:42:19.979Z"
   },
   {
    "duration": 123,
    "start_time": "2024-03-05T07:42:59.271Z"
   },
   {
    "duration": 51,
    "start_time": "2024-03-05T07:43:17.335Z"
   },
   {
    "duration": 2519,
    "start_time": "2024-03-05T07:43:34.773Z"
   },
   {
    "duration": 11267,
    "start_time": "2024-03-05T07:43:57.980Z"
   },
   {
    "duration": 5432,
    "start_time": "2024-03-05T07:44:44.954Z"
   },
   {
    "duration": 6351,
    "start_time": "2024-03-05T07:45:26.706Z"
   },
   {
    "duration": 11,
    "start_time": "2024-03-05T07:46:06.844Z"
   },
   {
    "duration": 5946,
    "start_time": "2024-03-05T07:46:13.578Z"
   },
   {
    "duration": 11000,
    "start_time": "2024-03-05T07:46:56.570Z"
   },
   {
    "duration": 18423,
    "start_time": "2024-03-05T07:47:23.169Z"
   },
   {
    "duration": 5369,
    "start_time": "2024-03-05T07:49:03.585Z"
   },
   {
    "duration": 6,
    "start_time": "2024-03-05T07:50:26.258Z"
   },
   {
    "duration": 13,
    "start_time": "2024-03-05T07:50:46.962Z"
   },
   {
    "duration": 5,
    "start_time": "2024-03-05T07:51:03.995Z"
   },
   {
    "duration": 22010,
    "start_time": "2024-03-05T07:51:10.414Z"
   },
   {
    "duration": 5389,
    "start_time": "2024-03-05T07:51:42.978Z"
   },
   {
    "duration": 11018,
    "start_time": "2024-03-05T07:52:24.211Z"
   },
   {
    "duration": 1768,
    "start_time": "2024-03-05T07:52:51.129Z"
   },
   {
    "duration": 36,
    "start_time": "2024-03-05T07:54:12.417Z"
   },
   {
    "duration": 73,
    "start_time": "2024-03-05T07:54:20.178Z"
   },
   {
    "duration": 63,
    "start_time": "2024-03-05T07:54:30.144Z"
   },
   {
    "duration": 2118,
    "start_time": "2024-03-05T07:57:11.276Z"
   },
   {
    "duration": 24,
    "start_time": "2024-03-05T07:57:56.694Z"
   },
   {
    "duration": 25,
    "start_time": "2024-03-05T07:58:08.136Z"
   },
   {
    "duration": 4628,
    "start_time": "2024-03-05T07:58:17.468Z"
   },
   {
    "duration": 3086,
    "start_time": "2024-03-05T07:58:26.802Z"
   },
   {
    "duration": 4495,
    "start_time": "2024-03-05T07:58:35.299Z"
   },
   {
    "duration": 5524,
    "start_time": "2024-03-05T07:58:44.661Z"
   },
   {
    "duration": 6281,
    "start_time": "2024-03-05T07:58:54.101Z"
   },
   {
    "duration": 955,
    "start_time": "2024-03-05T07:59:08.127Z"
   },
   {
    "duration": 3008,
    "start_time": "2024-03-05T07:59:17.477Z"
   },
   {
    "duration": 4424,
    "start_time": "2024-03-05T07:59:30.267Z"
   },
   {
    "duration": 5723,
    "start_time": "2024-03-05T08:00:02.560Z"
   },
   {
    "duration": 11404,
    "start_time": "2024-03-05T08:01:02.617Z"
   },
   {
    "duration": 28,
    "start_time": "2024-03-05T08:02:41.500Z"
   },
   {
    "duration": 23,
    "start_time": "2024-03-05T08:03:08.164Z"
   },
   {
    "duration": 107,
    "start_time": "2024-03-05T08:03:44.944Z"
   },
   {
    "duration": 411109,
    "start_time": "2024-03-05T08:04:05.488Z"
   },
   {
    "duration": 129,
    "start_time": "2024-03-05T08:10:59.585Z"
   },
   {
    "duration": 428,
    "start_time": "2024-03-05T08:12:44.261Z"
   },
   {
    "duration": 332,
    "start_time": "2024-03-05T08:12:57.668Z"
   },
   {
    "duration": 264,
    "start_time": "2024-03-05T08:13:08.450Z"
   },
   {
    "duration": 1374,
    "start_time": "2024-04-16T19:30:10.243Z"
   },
   {
    "duration": 99,
    "start_time": "2024-04-16T19:30:11.619Z"
   },
   {
    "duration": 14,
    "start_time": "2024-04-16T19:30:14.274Z"
   },
   {
    "duration": 8,
    "start_time": "2024-04-16T19:30:14.609Z"
   },
   {
    "duration": 10,
    "start_time": "2024-04-16T19:30:15.098Z"
   },
   {
    "duration": 25,
    "start_time": "2024-04-16T19:30:15.445Z"
   },
   {
    "duration": 299,
    "start_time": "2024-04-16T19:30:15.774Z"
   },
   {
    "duration": 962,
    "start_time": "2024-04-16T19:30:16.326Z"
   },
   {
    "duration": 6,
    "start_time": "2024-04-16T19:30:17.289Z"
   },
   {
    "duration": 523,
    "start_time": "2024-04-16T19:30:17.297Z"
   },
   {
    "duration": 40,
    "start_time": "2024-04-16T19:30:19.068Z"
   },
   {
    "duration": 684,
    "start_time": "2024-04-16T19:30:20.446Z"
   },
   {
    "duration": 23087,
    "start_time": "2024-04-16T19:31:34.066Z"
   },
   {
    "duration": 219408,
    "start_time": "2024-04-16T19:32:23.525Z"
   },
   {
    "duration": 12,
    "start_time": "2024-04-16T19:38:59.711Z"
   },
   {
    "duration": 10,
    "start_time": "2024-04-16T19:39:00.060Z"
   },
   {
    "duration": 10,
    "start_time": "2024-04-16T19:39:00.873Z"
   },
   {
    "duration": 11,
    "start_time": "2024-04-16T19:39:01.745Z"
   },
   {
    "duration": 10,
    "start_time": "2024-04-16T19:39:04.499Z"
   },
   {
    "duration": 10,
    "start_time": "2024-04-16T19:40:29.896Z"
   },
   {
    "duration": 5,
    "start_time": "2024-04-16T19:43:22.756Z"
   },
   {
    "duration": 48,
    "start_time": "2024-04-16T19:43:23.597Z"
   },
   {
    "duration": 11,
    "start_time": "2024-04-16T19:43:24.212Z"
   },
   {
    "duration": 7,
    "start_time": "2024-04-16T19:43:24.593Z"
   },
   {
    "duration": 7,
    "start_time": "2024-04-16T19:43:25.175Z"
   },
   {
    "duration": 16,
    "start_time": "2024-04-16T19:43:25.529Z"
   },
   {
    "duration": 210,
    "start_time": "2024-04-16T19:43:25.872Z"
   },
   {
    "duration": 786,
    "start_time": "2024-04-16T19:43:26.475Z"
   },
   {
    "duration": 5,
    "start_time": "2024-04-16T19:43:27.263Z"
   },
   {
    "duration": 640,
    "start_time": "2024-04-16T19:43:27.378Z"
   },
   {
    "duration": 7,
    "start_time": "2024-04-16T19:43:34.401Z"
   },
   {
    "duration": 29,
    "start_time": "2024-04-16T19:44:13.865Z"
   },
   {
    "duration": 6,
    "start_time": "2024-04-16T19:44:36.508Z"
   },
   {
    "duration": 1925,
    "start_time": "2024-04-16T19:44:39.615Z"
   },
   {
    "duration": 10,
    "start_time": "2024-04-16T19:45:07.343Z"
   },
   {
    "duration": 1485,
    "start_time": "2024-04-16T19:45:15.360Z"
   },
   {
    "duration": 20948,
    "start_time": "2024-04-16T19:45:18.881Z"
   },
   {
    "duration": 100,
    "start_time": "2024-04-16T19:45:39.831Z"
   },
   {
    "duration": 1126,
    "start_time": "2024-04-16T19:45:39.934Z"
   },
   {
    "duration": 8,
    "start_time": "2024-04-16T19:45:41.062Z"
   },
   {
    "duration": 21355,
    "start_time": "2024-04-16T19:51:40.760Z"
   },
   {
    "duration": 433291,
    "start_time": "2024-04-16T19:52:02.117Z"
   },
   {
    "duration": 1456,
    "start_time": "2024-04-16T19:59:15.409Z"
   },
   {
    "duration": 995,
    "start_time": "2024-04-16T19:59:16.867Z"
   },
   {
    "duration": 8,
    "start_time": "2024-04-16T19:59:17.864Z"
   },
   {
    "duration": 632,
    "start_time": "2024-04-16T20:14:17.118Z"
   },
   {
    "duration": 254,
    "start_time": "2024-04-16T20:14:29.603Z"
   }
  ],
  "kernelspec": {
   "display_name": "Python 3 (ipykernel)",
   "language": "python",
   "name": "python3"
  },
  "language_info": {
   "codemirror_mode": {
    "name": "ipython",
    "version": 3
   },
   "file_extension": ".py",
   "mimetype": "text/x-python",
   "name": "python",
   "nbconvert_exporter": "python",
   "pygments_lexer": "ipython3",
   "version": "3.9.5"
  },
  "toc": {
   "base_numbering": 1,
   "nav_menu": {},
   "number_sections": true,
   "sideBar": true,
   "skip_h1_title": true,
   "title_cell": "Содержание",
   "title_sidebar": "Contents",
   "toc_cell": true,
   "toc_position": {
    "height": "calc(100% - 180px)",
    "left": "10px",
    "top": "150px",
    "width": "165px"
   },
   "toc_section_display": true,
   "toc_window_display": true
  }
 },
 "nbformat": 4,
 "nbformat_minor": 2
}

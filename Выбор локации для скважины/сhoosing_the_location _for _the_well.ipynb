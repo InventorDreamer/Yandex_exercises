{
 "cells": [
  {
   "cell_type": "markdown",
   "metadata": {},
   "source": [
    "# Выбор локации для скважины"
   ]
  },
  {
   "cell_type": "markdown",
   "metadata": {},
   "source": [
    "# Содержание\n",
    "1. [Загрузка и подготовка данных](#Загрузка-и-подготовка-данных)\n",
    "2. [Обучение и проверка модели](#Обучение-и-проверка-модели)\n",
    "3. [Подготовка к расчёту прибыли](#Подготовка-к-расчёту-прибыли)\n",
    "4. [Расчёт прибыли и рисков](#Расчёт-прибыли-и-рисков)\n",
    "5. [Общий вывод](#Общий-вывод)"
   ]
  },
  {
   "cell_type": "markdown",
   "metadata": {},
   "source": [
    "# Описание проекта"
   ]
  },
  {
   "cell_type": "markdown",
   "metadata": {},
   "source": [
    "Допустим, вы работаете в добывающей компании «ГлавРосГосНефть». Нужно решить, где бурить новую скважину.\n",
    "\n",
    "Вам предоставлены пробы нефти в трёх регионах: в каждом 10 000 месторождений, где измерили качество нефти и объём её запасов. Постройте модель машинного обучения, которая поможет определить регион, где добыча принесёт наибольшую прибыль. Проанализируйте возможную прибыль и риски техникой *Bootstrap.*\n",
    "\n",
    "Шаги для выбора локации:\n",
    "\n",
    "- В избранном регионе ищут месторождения, для каждого определяют значения признаков;\n",
    "- Строят модель и оценивают объём запасов;\n",
    "- Выбирают месторождения с самым высокими оценками значений. Количество месторождений зависит от бюджета компании и стоимости разработки одной скважины;\n",
    "- Прибыль равна суммарной прибыли отобранных месторождений."
   ]
  },
  {
   "cell_type": "markdown",
   "metadata": {},
   "source": [
    "# Установка библиотек"
   ]
  },
  {
   "cell_type": "code",
   "execution_count": 2,
   "metadata": {},
   "outputs": [],
   "source": [
    "!pip install phik -q"
   ]
  },
  {
   "cell_type": "markdown",
   "metadata": {},
   "source": [
    "# Импортирование библиотек и создание констант "
   ]
  },
  {
   "cell_type": "code",
   "execution_count": 62,
   "metadata": {},
   "outputs": [],
   "source": [
    "import numpy as np\n",
    "import phik\n",
    "import pandas as pd\n",
    "import seaborn as sns\n",
    "import warnings\n",
    "\n",
    "import matplotlib.pyplot as plt \n",
    "\n",
    "from sklearn.model_selection import train_test_split\n",
    "from scipy.stats import shapiro\n",
    "from sklearn.linear_model import LinearRegression\n",
    "from sklearn.metrics import mean_squared_error\n",
    "from scipy import stats\n",
    "\n",
    "RANDOM_STATE = 42\n",
    "TEST_SIZE = 0.25\n",
    "\n",
    "warnings.filterwarnings('ignore')"
   ]
  },
  {
   "cell_type": "markdown",
   "metadata": {},
   "source": [
    "# Методы для работы"
   ]
  },
  {
   "cell_type": "markdown",
   "metadata": {},
   "source": [
    "**Метод для построения диаграмм**"
   ]
  },
  {
   "cell_type": "code",
   "execution_count": 4,
   "metadata": {},
   "outputs": [],
   "source": [
    "def create(data, column, type, bins = 100, color = 'blue', alpha = 0.5, edge_color='black', edge_width=1.2, rotation = 45):\n",
    "    category_counts = data[column].value_counts()\n",
    "    if type == \"hist\":\n",
    "        \"\"\"\n",
    "        Создает гистограмму для заданного столбца DataFrame.\n",
    "        \"\"\"\n",
    "        plt.figure(figsize=(12, 6))\n",
    "        plt.hist(data=data, x=column, bins=bins, color=color, alpha=alpha, edgecolor=edge_color, linewidth=edge_width)\n",
    "        plt.xlabel(column)\n",
    "        plt.ylabel(\"Частота\")\n",
    "        plt.title(f'Призак {column} - Частота распределения', fontsize=18)\n",
    "        plt.grid(True)\n",
    "        plt.show()\n",
    "    elif type == \"barplot\":\n",
    "        \"\"\"\n",
    "        Создает столбчатую диаграмму для заданного столбца DataFrame.\n",
    "        \"\"\"\n",
    "        plt.figure(figsize=(10, 6))\n",
    "        plt.xticks(rotation=rotation)\n",
    "        new_data = data[column].value_counts()\n",
    "        df_new_data = new_data.reset_index()\n",
    "        df_new_data.columns = [column, 'count']\n",
    "\n",
    "        sns.barplot(x=column, y='count', data = df_new_data)\n",
    "        plt.title(f'{column}.Частота распределения')\n",
    "        plt.xlabel(f'{column}')\n",
    "        plt.ylabel(f'количество {column}')\n",
    "    elif type == \"pie\":\n",
    "        \"\"\"\n",
    "        Создает круговую диаграмму для заданного столбца DataFrame.\n",
    "        \"\"\"\n",
    "        plt.figure(figsize=(8, 8))\n",
    "        plt.pie(category_counts, labels=category_counts.index, autopct='%1.1f%%', startangle=140)\n",
    "        plt.title(f'Круговая диаграмма для {column}', fontsize=18)\n",
    "        plt.show()\n",
    "    elif type == \"boxplot\":\n",
    "        \"\"\"\n",
    "        Создает ящик с усами для заданного столбца DataFrame.\n",
    "        \"\"\"\n",
    "        plt.figure(figsize=(10, 6))\n",
    "        plt.boxplot(data[column], notch=True, patch_artist=True, boxprops=dict(facecolor=color, color=edge_color), \n",
    "                    whiskerprops=dict(color=edge_color), capprops=dict(color=edge_color), \n",
    "                    medianprops=dict(color=edge_color), flierprops=dict(markeredgecolor=edge_color, markerfacecolor=color))\n",
    "        plt.xlabel(column)\n",
    "        plt.title(f'Ящик с усами для признака {column}', fontsize=18)\n",
    "        plt.grid(True)\n",
    "        plt.show()"
   ]
  },
  {
   "cell_type": "markdown",
   "metadata": {},
   "source": [
    "**Метод для построения phik матрицы**"
   ]
  },
  {
   "cell_type": "code",
   "execution_count": 5,
   "metadata": {},
   "outputs": [],
   "source": [
    "def create_phik(data, cols):\n",
    "    corr_matrix = data.phik_matrix(interval_cols = cols)\n",
    "    plt.figure(figsize=(12, 12))\n",
    "    sns.heatmap(corr_matrix, annot=True, cmap='Greens')\n",
    "    plt.title('Phik')\n",
    "    plt.show()"
   ]
  },
  {
   "cell_type": "markdown",
   "metadata": {},
   "source": [
    "**Метод для обучения модели**"
   ]
  },
  {
   "cell_type": "code",
   "execution_count": 6,
   "metadata": {},
   "outputs": [],
   "source": [
    "def train_and_evaluate(data):\n",
    "    # Разделение данных на признаки и целевую переменную\n",
    "    X = data.drop(['product'], axis=1)\n",
    "    y = data['product']\n",
    "    \n",
    "    # Разделение на обучающую и валидационную выборки\n",
    "    X_train, X_valid, y_train, y_valid = train_test_split(X, y, test_size=0.25, random_state=12345)\n",
    "\n",
    "    # Обучение модели\n",
    "    model = LinearRegression()\n",
    "    model.fit(X_train, y_train)\n",
    "\n",
    "    # Предсказания на валидационной выборке\n",
    "    predictions = model.predict(X_valid)\n",
    "\n",
    "    # Расчет среднего запаса предсказанного сырья и RMSE\n",
    "    mean_product = predictions.mean()\n",
    "    rmse = np.sqrt(mean_squared_error(y_valid, predictions))\n",
    "\n",
    "    return predictions, y_valid, mean_product, rmse"
   ]
  },
  {
   "cell_type": "markdown",
   "metadata": {},
   "source": [
    "## Загрузка и подготовка данных"
   ]
  },
  {
   "cell_type": "code",
   "execution_count": 7,
   "metadata": {},
   "outputs": [],
   "source": [
    "try:\n",
    "    df_geo_data_0 = pd.read_csv('/datasets/geo_data_0.csv')\n",
    "    df_geo_data_1 = pd.read_csv('/datasets/geo_data_1.csv')\n",
    "    df_geo_data_2 = pd.read_csv('/datasets/geo_data_2.csv')\n",
    "except FileNotFoundError:\n",
    "    print('Что-то пошло не так')"
   ]
  },
  {
   "cell_type": "markdown",
   "metadata": {},
   "source": [
    "### Загрузка данных"
   ]
  },
  {
   "cell_type": "markdown",
   "metadata": {},
   "source": [
    "**Датасет df_geo_data_0**"
   ]
  },
  {
   "cell_type": "code",
   "execution_count": 8,
   "metadata": {},
   "outputs": [
    {
     "name": "stdout",
     "output_type": "stream",
     "text": [
      "<class 'pandas.core.frame.DataFrame'>\n",
      "RangeIndex: 100000 entries, 0 to 99999\n",
      "Data columns (total 5 columns):\n",
      " #   Column   Non-Null Count   Dtype  \n",
      "---  ------   --------------   -----  \n",
      " 0   id       100000 non-null  object \n",
      " 1   f0       100000 non-null  float64\n",
      " 2   f1       100000 non-null  float64\n",
      " 3   f2       100000 non-null  float64\n",
      " 4   product  100000 non-null  float64\n",
      "dtypes: float64(4), object(1)\n",
      "memory usage: 3.8+ MB\n"
     ]
    },
    {
     "data": {
      "text/plain": [
       "None"
      ]
     },
     "metadata": {},
     "output_type": "display_data"
    }
   ],
   "source": [
    "display(df_geo_data_0.info())"
   ]
  },
  {
   "cell_type": "code",
   "execution_count": 9,
   "metadata": {},
   "outputs": [
    {
     "data": {
      "text/html": [
       "<div>\n",
       "<style scoped>\n",
       "    .dataframe tbody tr th:only-of-type {\n",
       "        vertical-align: middle;\n",
       "    }\n",
       "\n",
       "    .dataframe tbody tr th {\n",
       "        vertical-align: top;\n",
       "    }\n",
       "\n",
       "    .dataframe thead th {\n",
       "        text-align: right;\n",
       "    }\n",
       "</style>\n",
       "<table border=\"1\" class=\"dataframe\">\n",
       "  <thead>\n",
       "    <tr style=\"text-align: right;\">\n",
       "      <th></th>\n",
       "      <th>id</th>\n",
       "      <th>f0</th>\n",
       "      <th>f1</th>\n",
       "      <th>f2</th>\n",
       "      <th>product</th>\n",
       "    </tr>\n",
       "  </thead>\n",
       "  <tbody>\n",
       "    <tr>\n",
       "      <th>0</th>\n",
       "      <td>txEyH</td>\n",
       "      <td>0.705745</td>\n",
       "      <td>-0.497823</td>\n",
       "      <td>1.221170</td>\n",
       "      <td>105.280062</td>\n",
       "    </tr>\n",
       "    <tr>\n",
       "      <th>1</th>\n",
       "      <td>2acmU</td>\n",
       "      <td>1.334711</td>\n",
       "      <td>-0.340164</td>\n",
       "      <td>4.365080</td>\n",
       "      <td>73.037750</td>\n",
       "    </tr>\n",
       "    <tr>\n",
       "      <th>2</th>\n",
       "      <td>409Wp</td>\n",
       "      <td>1.022732</td>\n",
       "      <td>0.151990</td>\n",
       "      <td>1.419926</td>\n",
       "      <td>85.265647</td>\n",
       "    </tr>\n",
       "    <tr>\n",
       "      <th>3</th>\n",
       "      <td>iJLyR</td>\n",
       "      <td>-0.032172</td>\n",
       "      <td>0.139033</td>\n",
       "      <td>2.978566</td>\n",
       "      <td>168.620776</td>\n",
       "    </tr>\n",
       "    <tr>\n",
       "      <th>4</th>\n",
       "      <td>Xdl7t</td>\n",
       "      <td>1.988431</td>\n",
       "      <td>0.155413</td>\n",
       "      <td>4.751769</td>\n",
       "      <td>154.036647</td>\n",
       "    </tr>\n",
       "  </tbody>\n",
       "</table>\n",
       "</div>"
      ],
      "text/plain": [
       "      id        f0        f1        f2     product\n",
       "0  txEyH  0.705745 -0.497823  1.221170  105.280062\n",
       "1  2acmU  1.334711 -0.340164  4.365080   73.037750\n",
       "2  409Wp  1.022732  0.151990  1.419926   85.265647\n",
       "3  iJLyR -0.032172  0.139033  2.978566  168.620776\n",
       "4  Xdl7t  1.988431  0.155413  4.751769  154.036647"
      ]
     },
     "metadata": {},
     "output_type": "display_data"
    }
   ],
   "source": [
    "display(df_geo_data_0.head())"
   ]
  },
  {
   "cell_type": "markdown",
   "metadata": {},
   "source": [
    "**Датасет df_geo_data_1**"
   ]
  },
  {
   "cell_type": "code",
   "execution_count": 10,
   "metadata": {},
   "outputs": [
    {
     "name": "stdout",
     "output_type": "stream",
     "text": [
      "<class 'pandas.core.frame.DataFrame'>\n",
      "RangeIndex: 100000 entries, 0 to 99999\n",
      "Data columns (total 5 columns):\n",
      " #   Column   Non-Null Count   Dtype  \n",
      "---  ------   --------------   -----  \n",
      " 0   id       100000 non-null  object \n",
      " 1   f0       100000 non-null  float64\n",
      " 2   f1       100000 non-null  float64\n",
      " 3   f2       100000 non-null  float64\n",
      " 4   product  100000 non-null  float64\n",
      "dtypes: float64(4), object(1)\n",
      "memory usage: 3.8+ MB\n"
     ]
    },
    {
     "data": {
      "text/plain": [
       "None"
      ]
     },
     "metadata": {},
     "output_type": "display_data"
    }
   ],
   "source": [
    "display(df_geo_data_1.info())"
   ]
  },
  {
   "cell_type": "code",
   "execution_count": 11,
   "metadata": {},
   "outputs": [
    {
     "data": {
      "text/html": [
       "<div>\n",
       "<style scoped>\n",
       "    .dataframe tbody tr th:only-of-type {\n",
       "        vertical-align: middle;\n",
       "    }\n",
       "\n",
       "    .dataframe tbody tr th {\n",
       "        vertical-align: top;\n",
       "    }\n",
       "\n",
       "    .dataframe thead th {\n",
       "        text-align: right;\n",
       "    }\n",
       "</style>\n",
       "<table border=\"1\" class=\"dataframe\">\n",
       "  <thead>\n",
       "    <tr style=\"text-align: right;\">\n",
       "      <th></th>\n",
       "      <th>id</th>\n",
       "      <th>f0</th>\n",
       "      <th>f1</th>\n",
       "      <th>f2</th>\n",
       "      <th>product</th>\n",
       "    </tr>\n",
       "  </thead>\n",
       "  <tbody>\n",
       "    <tr>\n",
       "      <th>99995</th>\n",
       "      <td>QywKC</td>\n",
       "      <td>9.535637</td>\n",
       "      <td>-6.878139</td>\n",
       "      <td>1.998296</td>\n",
       "      <td>53.906522</td>\n",
       "    </tr>\n",
       "    <tr>\n",
       "      <th>99996</th>\n",
       "      <td>ptvty</td>\n",
       "      <td>-10.160631</td>\n",
       "      <td>-12.558096</td>\n",
       "      <td>5.005581</td>\n",
       "      <td>137.945408</td>\n",
       "    </tr>\n",
       "    <tr>\n",
       "      <th>99997</th>\n",
       "      <td>09gWa</td>\n",
       "      <td>-7.378891</td>\n",
       "      <td>-3.084104</td>\n",
       "      <td>4.998651</td>\n",
       "      <td>137.945408</td>\n",
       "    </tr>\n",
       "    <tr>\n",
       "      <th>99998</th>\n",
       "      <td>rqwUm</td>\n",
       "      <td>0.665714</td>\n",
       "      <td>-6.152593</td>\n",
       "      <td>1.000146</td>\n",
       "      <td>30.132364</td>\n",
       "    </tr>\n",
       "    <tr>\n",
       "      <th>99999</th>\n",
       "      <td>relB0</td>\n",
       "      <td>-3.426139</td>\n",
       "      <td>-7.794274</td>\n",
       "      <td>-0.003299</td>\n",
       "      <td>3.179103</td>\n",
       "    </tr>\n",
       "  </tbody>\n",
       "</table>\n",
       "</div>"
      ],
      "text/plain": [
       "          id         f0         f1        f2     product\n",
       "99995  QywKC   9.535637  -6.878139  1.998296   53.906522\n",
       "99996  ptvty -10.160631 -12.558096  5.005581  137.945408\n",
       "99997  09gWa  -7.378891  -3.084104  4.998651  137.945408\n",
       "99998  rqwUm   0.665714  -6.152593  1.000146   30.132364\n",
       "99999  relB0  -3.426139  -7.794274 -0.003299    3.179103"
      ]
     },
     "metadata": {},
     "output_type": "display_data"
    }
   ],
   "source": [
    "display(df_geo_data_1.tail())"
   ]
  },
  {
   "cell_type": "markdown",
   "metadata": {},
   "source": [
    "**Датасет df_geo_data_2**"
   ]
  },
  {
   "cell_type": "code",
   "execution_count": 12,
   "metadata": {},
   "outputs": [
    {
     "name": "stdout",
     "output_type": "stream",
     "text": [
      "<class 'pandas.core.frame.DataFrame'>\n",
      "RangeIndex: 100000 entries, 0 to 99999\n",
      "Data columns (total 5 columns):\n",
      " #   Column   Non-Null Count   Dtype  \n",
      "---  ------   --------------   -----  \n",
      " 0   id       100000 non-null  object \n",
      " 1   f0       100000 non-null  float64\n",
      " 2   f1       100000 non-null  float64\n",
      " 3   f2       100000 non-null  float64\n",
      " 4   product  100000 non-null  float64\n",
      "dtypes: float64(4), object(1)\n",
      "memory usage: 3.8+ MB\n"
     ]
    },
    {
     "data": {
      "text/plain": [
       "None"
      ]
     },
     "metadata": {},
     "output_type": "display_data"
    }
   ],
   "source": [
    "display(df_geo_data_2.info())"
   ]
  },
  {
   "cell_type": "code",
   "execution_count": 13,
   "metadata": {},
   "outputs": [
    {
     "data": {
      "text/html": [
       "<div>\n",
       "<style scoped>\n",
       "    .dataframe tbody tr th:only-of-type {\n",
       "        vertical-align: middle;\n",
       "    }\n",
       "\n",
       "    .dataframe tbody tr th {\n",
       "        vertical-align: top;\n",
       "    }\n",
       "\n",
       "    .dataframe thead th {\n",
       "        text-align: right;\n",
       "    }\n",
       "</style>\n",
       "<table border=\"1\" class=\"dataframe\">\n",
       "  <thead>\n",
       "    <tr style=\"text-align: right;\">\n",
       "      <th></th>\n",
       "      <th>id</th>\n",
       "      <th>f0</th>\n",
       "      <th>f1</th>\n",
       "      <th>f2</th>\n",
       "      <th>product</th>\n",
       "    </tr>\n",
       "  </thead>\n",
       "  <tbody>\n",
       "    <tr>\n",
       "      <th>80118</th>\n",
       "      <td>bhNUd</td>\n",
       "      <td>-3.411981</td>\n",
       "      <td>1.125454</td>\n",
       "      <td>1.787764</td>\n",
       "      <td>90.832738</td>\n",
       "    </tr>\n",
       "    <tr>\n",
       "      <th>60509</th>\n",
       "      <td>uqS33</td>\n",
       "      <td>0.580056</td>\n",
       "      <td>-0.633715</td>\n",
       "      <td>3.726990</td>\n",
       "      <td>130.745920</td>\n",
       "    </tr>\n",
       "    <tr>\n",
       "      <th>57285</th>\n",
       "      <td>s0HzN</td>\n",
       "      <td>-0.301129</td>\n",
       "      <td>1.121563</td>\n",
       "      <td>2.356438</td>\n",
       "      <td>52.002509</td>\n",
       "    </tr>\n",
       "    <tr>\n",
       "      <th>49883</th>\n",
       "      <td>BUQ2Z</td>\n",
       "      <td>-0.255301</td>\n",
       "      <td>-3.370848</td>\n",
       "      <td>-1.287123</td>\n",
       "      <td>77.558270</td>\n",
       "    </tr>\n",
       "    <tr>\n",
       "      <th>11198</th>\n",
       "      <td>w7HnZ</td>\n",
       "      <td>1.562576</td>\n",
       "      <td>1.743211</td>\n",
       "      <td>0.607222</td>\n",
       "      <td>50.736100</td>\n",
       "    </tr>\n",
       "  </tbody>\n",
       "</table>\n",
       "</div>"
      ],
      "text/plain": [
       "          id        f0        f1        f2     product\n",
       "80118  bhNUd -3.411981  1.125454  1.787764   90.832738\n",
       "60509  uqS33  0.580056 -0.633715  3.726990  130.745920\n",
       "57285  s0HzN -0.301129  1.121563  2.356438   52.002509\n",
       "49883  BUQ2Z -0.255301 -3.370848 -1.287123   77.558270\n",
       "11198  w7HnZ  1.562576  1.743211  0.607222   50.736100"
      ]
     },
     "metadata": {},
     "output_type": "display_data"
    }
   ],
   "source": [
    "display(df_geo_data_2.sample(5))"
   ]
  },
  {
   "cell_type": "markdown",
   "metadata": {},
   "source": [
    "**Описание данных**\n",
    "\n",
    "* id — уникальный идентификатор скважины;\n",
    "* f0, f1, f2 — три признака точек (неважно, что они означают, но сами признаки значимы);\n",
    "* product — объём запасов в скважине (тыс. баррелей)."
   ]
  },
  {
   "cell_type": "markdown",
   "metadata": {},
   "source": [
    "**Вывод по загрузке данных**\n"
   ]
  },
  {
   "cell_type": "markdown",
   "metadata": {},
   "source": [
    "**Датасеты:**\n",
    "* Данные геологоразведки в первом регионе: df_geo_data_0\n",
    "* Данные геологоразведки во втором регионе: df_geo_data_1\n",
    "* Данные геологоразведки в третьем регионе: df_geo_data_2\n",
    "\n",
    "**Изучение датасетов:**\n",
    "1. В датасетах отсутствуют пропуски\n",
    "2. Типы данных корректны во всех трех датасетах. \n",
    "3. Возможно наличие дубликатов."
   ]
  },
  {
   "cell_type": "markdown",
   "metadata": {},
   "source": [
    "### Предобработка данных"
   ]
  },
  {
   "cell_type": "markdown",
   "metadata": {},
   "source": [
    "*Создадим список датафреймов:*"
   ]
  },
  {
   "cell_type": "code",
   "execution_count": 14,
   "metadata": {},
   "outputs": [],
   "source": [
    "data_frames = [df_geo_data_0, df_geo_data_1, df_geo_data_2]"
   ]
  },
  {
   "cell_type": "markdown",
   "metadata": {},
   "source": [
    "**Обработка дубликатов**"
   ]
  },
  {
   "cell_type": "code",
   "execution_count": 15,
   "metadata": {},
   "outputs": [
    {
     "name": "stdout",
     "output_type": "stream",
     "text": [
      "Дубликаты в df_geo_data_0 отсутствуют\n",
      "Дубликаты в df_geo_data_1 отсутствуют\n",
      "Дубликаты в df_geo_data_2 отсутствуют\n"
     ]
    }
   ],
   "source": [
    "for data in data_frames: \n",
    "    data_name = [key for key, value in locals().items() if value is data][0]\n",
    "    if data.duplicated(subset = data.columns).sum() > 0:\n",
    "        display(data[data.duplicated()])\n",
    "    else:\n",
    "        print(f'Дубликаты в {data_name} отсутствуют')"
   ]
  },
  {
   "cell_type": "markdown",
   "metadata": {},
   "source": [
    "Явных дубликатов не обнаружено, проверим наличие дубликатов по столбцу id."
   ]
  },
  {
   "cell_type": "markdown",
   "metadata": {},
   "source": [
    "*Датасет df_geo_data_0*"
   ]
  },
  {
   "cell_type": "code",
   "execution_count": 16,
   "metadata": {},
   "outputs": [
    {
     "data": {
      "text/html": [
       "<div>\n",
       "<style scoped>\n",
       "    .dataframe tbody tr th:only-of-type {\n",
       "        vertical-align: middle;\n",
       "    }\n",
       "\n",
       "    .dataframe tbody tr th {\n",
       "        vertical-align: top;\n",
       "    }\n",
       "\n",
       "    .dataframe thead th {\n",
       "        text-align: right;\n",
       "    }\n",
       "</style>\n",
       "<table border=\"1\" class=\"dataframe\">\n",
       "  <thead>\n",
       "    <tr style=\"text-align: right;\">\n",
       "      <th></th>\n",
       "      <th>id</th>\n",
       "      <th>f0</th>\n",
       "      <th>f1</th>\n",
       "      <th>f2</th>\n",
       "      <th>product</th>\n",
       "    </tr>\n",
       "  </thead>\n",
       "  <tbody>\n",
       "    <tr>\n",
       "      <th>7530</th>\n",
       "      <td>HZww2</td>\n",
       "      <td>1.061194</td>\n",
       "      <td>-0.373969</td>\n",
       "      <td>10.430210</td>\n",
       "      <td>158.828695</td>\n",
       "    </tr>\n",
       "    <tr>\n",
       "      <th>41724</th>\n",
       "      <td>bxg6G</td>\n",
       "      <td>-0.823752</td>\n",
       "      <td>0.546319</td>\n",
       "      <td>3.630479</td>\n",
       "      <td>93.007798</td>\n",
       "    </tr>\n",
       "    <tr>\n",
       "      <th>51970</th>\n",
       "      <td>A5aEY</td>\n",
       "      <td>-0.180335</td>\n",
       "      <td>0.935548</td>\n",
       "      <td>-2.094773</td>\n",
       "      <td>33.020205</td>\n",
       "    </tr>\n",
       "    <tr>\n",
       "      <th>63593</th>\n",
       "      <td>QcMuo</td>\n",
       "      <td>0.635635</td>\n",
       "      <td>-0.473422</td>\n",
       "      <td>0.862670</td>\n",
       "      <td>64.578675</td>\n",
       "    </tr>\n",
       "    <tr>\n",
       "      <th>66136</th>\n",
       "      <td>74z30</td>\n",
       "      <td>1.084962</td>\n",
       "      <td>-0.312358</td>\n",
       "      <td>6.990771</td>\n",
       "      <td>127.643327</td>\n",
       "    </tr>\n",
       "    <tr>\n",
       "      <th>69163</th>\n",
       "      <td>AGS9W</td>\n",
       "      <td>-0.933795</td>\n",
       "      <td>0.116194</td>\n",
       "      <td>-3.655896</td>\n",
       "      <td>19.230453</td>\n",
       "    </tr>\n",
       "    <tr>\n",
       "      <th>75715</th>\n",
       "      <td>Tdehs</td>\n",
       "      <td>0.112079</td>\n",
       "      <td>0.430296</td>\n",
       "      <td>3.218993</td>\n",
       "      <td>60.964018</td>\n",
       "    </tr>\n",
       "    <tr>\n",
       "      <th>90815</th>\n",
       "      <td>fiKDv</td>\n",
       "      <td>0.049883</td>\n",
       "      <td>0.841313</td>\n",
       "      <td>6.394613</td>\n",
       "      <td>137.346586</td>\n",
       "    </tr>\n",
       "    <tr>\n",
       "      <th>92341</th>\n",
       "      <td>TtcGQ</td>\n",
       "      <td>0.110711</td>\n",
       "      <td>1.022689</td>\n",
       "      <td>0.911381</td>\n",
       "      <td>101.318008</td>\n",
       "    </tr>\n",
       "    <tr>\n",
       "      <th>97785</th>\n",
       "      <td>bsk9y</td>\n",
       "      <td>0.378429</td>\n",
       "      <td>0.005837</td>\n",
       "      <td>0.160827</td>\n",
       "      <td>160.637302</td>\n",
       "    </tr>\n",
       "  </tbody>\n",
       "</table>\n",
       "</div>"
      ],
      "text/plain": [
       "          id        f0        f1         f2     product\n",
       "7530   HZww2  1.061194 -0.373969  10.430210  158.828695\n",
       "41724  bxg6G -0.823752  0.546319   3.630479   93.007798\n",
       "51970  A5aEY -0.180335  0.935548  -2.094773   33.020205\n",
       "63593  QcMuo  0.635635 -0.473422   0.862670   64.578675\n",
       "66136  74z30  1.084962 -0.312358   6.990771  127.643327\n",
       "69163  AGS9W -0.933795  0.116194  -3.655896   19.230453\n",
       "75715  Tdehs  0.112079  0.430296   3.218993   60.964018\n",
       "90815  fiKDv  0.049883  0.841313   6.394613  137.346586\n",
       "92341  TtcGQ  0.110711  1.022689   0.911381  101.318008\n",
       "97785  bsk9y  0.378429  0.005837   0.160827  160.637302"
      ]
     },
     "metadata": {},
     "output_type": "display_data"
    }
   ],
   "source": [
    "display(df_geo_data_0[df_geo_data_0.duplicated(subset = ['id'])])"
   ]
  },
  {
   "cell_type": "markdown",
   "metadata": {},
   "source": [
    "*Датасет df_geo_data_1*"
   ]
  },
  {
   "cell_type": "code",
   "execution_count": 17,
   "metadata": {},
   "outputs": [
    {
     "data": {
      "text/html": [
       "<div>\n",
       "<style scoped>\n",
       "    .dataframe tbody tr th:only-of-type {\n",
       "        vertical-align: middle;\n",
       "    }\n",
       "\n",
       "    .dataframe tbody tr th {\n",
       "        vertical-align: top;\n",
       "    }\n",
       "\n",
       "    .dataframe thead th {\n",
       "        text-align: right;\n",
       "    }\n",
       "</style>\n",
       "<table border=\"1\" class=\"dataframe\">\n",
       "  <thead>\n",
       "    <tr style=\"text-align: right;\">\n",
       "      <th></th>\n",
       "      <th>id</th>\n",
       "      <th>f0</th>\n",
       "      <th>f1</th>\n",
       "      <th>f2</th>\n",
       "      <th>product</th>\n",
       "    </tr>\n",
       "  </thead>\n",
       "  <tbody>\n",
       "    <tr>\n",
       "      <th>41906</th>\n",
       "      <td>LHZR0</td>\n",
       "      <td>-8.989672</td>\n",
       "      <td>-4.286607</td>\n",
       "      <td>2.009139</td>\n",
       "      <td>57.085625</td>\n",
       "    </tr>\n",
       "    <tr>\n",
       "      <th>82178</th>\n",
       "      <td>bfPNe</td>\n",
       "      <td>-6.202799</td>\n",
       "      <td>-4.820045</td>\n",
       "      <td>2.995107</td>\n",
       "      <td>84.038886</td>\n",
       "    </tr>\n",
       "    <tr>\n",
       "      <th>82873</th>\n",
       "      <td>wt4Uk</td>\n",
       "      <td>10.259972</td>\n",
       "      <td>-9.376355</td>\n",
       "      <td>4.994297</td>\n",
       "      <td>134.766305</td>\n",
       "    </tr>\n",
       "    <tr>\n",
       "      <th>84461</th>\n",
       "      <td>5ltQ6</td>\n",
       "      <td>18.213839</td>\n",
       "      <td>2.191999</td>\n",
       "      <td>3.993869</td>\n",
       "      <td>107.813044</td>\n",
       "    </tr>\n",
       "  </tbody>\n",
       "</table>\n",
       "</div>"
      ],
      "text/plain": [
       "          id         f0        f1        f2     product\n",
       "41906  LHZR0  -8.989672 -4.286607  2.009139   57.085625\n",
       "82178  bfPNe  -6.202799 -4.820045  2.995107   84.038886\n",
       "82873  wt4Uk  10.259972 -9.376355  4.994297  134.766305\n",
       "84461  5ltQ6  18.213839  2.191999  3.993869  107.813044"
      ]
     },
     "metadata": {},
     "output_type": "display_data"
    }
   ],
   "source": [
    "display(df_geo_data_1[df_geo_data_1.duplicated(subset = ['id'])])"
   ]
  },
  {
   "cell_type": "markdown",
   "metadata": {},
   "source": [
    "*Датасет df_geo_data_2*"
   ]
  },
  {
   "cell_type": "code",
   "execution_count": 18,
   "metadata": {},
   "outputs": [
    {
     "data": {
      "text/html": [
       "<div>\n",
       "<style scoped>\n",
       "    .dataframe tbody tr th:only-of-type {\n",
       "        vertical-align: middle;\n",
       "    }\n",
       "\n",
       "    .dataframe tbody tr th {\n",
       "        vertical-align: top;\n",
       "    }\n",
       "\n",
       "    .dataframe thead th {\n",
       "        text-align: right;\n",
       "    }\n",
       "</style>\n",
       "<table border=\"1\" class=\"dataframe\">\n",
       "  <thead>\n",
       "    <tr style=\"text-align: right;\">\n",
       "      <th></th>\n",
       "      <th>id</th>\n",
       "      <th>f0</th>\n",
       "      <th>f1</th>\n",
       "      <th>f2</th>\n",
       "      <th>product</th>\n",
       "    </tr>\n",
       "  </thead>\n",
       "  <tbody>\n",
       "    <tr>\n",
       "      <th>43233</th>\n",
       "      <td>xCHr8</td>\n",
       "      <td>-0.847066</td>\n",
       "      <td>2.101796</td>\n",
       "      <td>5.597130</td>\n",
       "      <td>184.388641</td>\n",
       "    </tr>\n",
       "    <tr>\n",
       "      <th>49564</th>\n",
       "      <td>VF7Jo</td>\n",
       "      <td>-0.883115</td>\n",
       "      <td>0.560537</td>\n",
       "      <td>0.723601</td>\n",
       "      <td>136.233420</td>\n",
       "    </tr>\n",
       "    <tr>\n",
       "      <th>55967</th>\n",
       "      <td>KUPhW</td>\n",
       "      <td>1.211150</td>\n",
       "      <td>3.176408</td>\n",
       "      <td>5.543540</td>\n",
       "      <td>132.831802</td>\n",
       "    </tr>\n",
       "    <tr>\n",
       "      <th>95090</th>\n",
       "      <td>Vcm5J</td>\n",
       "      <td>2.587702</td>\n",
       "      <td>1.986875</td>\n",
       "      <td>2.482245</td>\n",
       "      <td>92.327572</td>\n",
       "    </tr>\n",
       "  </tbody>\n",
       "</table>\n",
       "</div>"
      ],
      "text/plain": [
       "          id        f0        f1        f2     product\n",
       "43233  xCHr8 -0.847066  2.101796  5.597130  184.388641\n",
       "49564  VF7Jo -0.883115  0.560537  0.723601  136.233420\n",
       "55967  KUPhW  1.211150  3.176408  5.543540  132.831802\n",
       "95090  Vcm5J  2.587702  1.986875  2.482245   92.327572"
      ]
     },
     "metadata": {},
     "output_type": "display_data"
    }
   ],
   "source": [
    "display(df_geo_data_2[df_geo_data_2.duplicated(subset = ['id'])])"
   ]
  },
  {
   "cell_type": "markdown",
   "metadata": {},
   "source": [
    "Дубликатов по id совсем немного, оставим их.\n",
    "\n",
    "Столбец id можем удалить, он не пригодится в дальнейшем."
   ]
  },
  {
   "cell_type": "code",
   "execution_count": 19,
   "metadata": {},
   "outputs": [
    {
     "name": "stdout",
     "output_type": "stream",
     "text": [
      "Index(['f0', 'f1', 'f2', 'product'], dtype='object')\n",
      "Index(['f0', 'f1', 'f2', 'product'], dtype='object')\n",
      "Index(['f0', 'f1', 'f2', 'product'], dtype='object')\n"
     ]
    }
   ],
   "source": [
    "df_geo_data_0 = df_geo_data_0.drop('id', axis = 1)\n",
    "df_geo_data_1 = df_geo_data_1.drop('id', axis = 1)\n",
    "df_geo_data_2 = df_geo_data_2.drop('id', axis = 1)\n",
    "\n",
    "data_frames = [df_geo_data_0, df_geo_data_1, df_geo_data_2]\n",
    "\n",
    "for data in data_frames:\n",
    "    print(data.columns)"
   ]
  },
  {
   "cell_type": "markdown",
   "metadata": {},
   "source": [
    "**Вывод по предобработке данных**"
   ]
  },
  {
   "cell_type": "markdown",
   "metadata": {},
   "source": [
    "В датасетах не наблюдается явных дубликатов, но есть небольшое количество неявных, оставим их.\n",
    "\n",
    "Столбец id был удалён во всех трёх датасетах."
   ]
  },
  {
   "cell_type": "markdown",
   "metadata": {},
   "source": [
    "### Исследовательский анализ данных"
   ]
  },
  {
   "cell_type": "markdown",
   "metadata": {},
   "source": [
    "*Датасет df_geo_data_0*"
   ]
  },
  {
   "cell_type": "code",
   "execution_count": 20,
   "metadata": {},
   "outputs": [
    {
     "data": {
      "text/html": [
       "<div>\n",
       "<style scoped>\n",
       "    .dataframe tbody tr th:only-of-type {\n",
       "        vertical-align: middle;\n",
       "    }\n",
       "\n",
       "    .dataframe tbody tr th {\n",
       "        vertical-align: top;\n",
       "    }\n",
       "\n",
       "    .dataframe thead th {\n",
       "        text-align: right;\n",
       "    }\n",
       "</style>\n",
       "<table border=\"1\" class=\"dataframe\">\n",
       "  <thead>\n",
       "    <tr style=\"text-align: right;\">\n",
       "      <th></th>\n",
       "      <th>f0</th>\n",
       "      <th>f1</th>\n",
       "      <th>f2</th>\n",
       "      <th>product</th>\n",
       "    </tr>\n",
       "  </thead>\n",
       "  <tbody>\n",
       "    <tr>\n",
       "      <th>count</th>\n",
       "      <td>100000.000000</td>\n",
       "      <td>100000.000000</td>\n",
       "      <td>100000.000000</td>\n",
       "      <td>100000.000000</td>\n",
       "    </tr>\n",
       "    <tr>\n",
       "      <th>mean</th>\n",
       "      <td>0.500419</td>\n",
       "      <td>0.250143</td>\n",
       "      <td>2.502647</td>\n",
       "      <td>92.500000</td>\n",
       "    </tr>\n",
       "    <tr>\n",
       "      <th>std</th>\n",
       "      <td>0.871832</td>\n",
       "      <td>0.504433</td>\n",
       "      <td>3.248248</td>\n",
       "      <td>44.288691</td>\n",
       "    </tr>\n",
       "    <tr>\n",
       "      <th>min</th>\n",
       "      <td>-1.408605</td>\n",
       "      <td>-0.848218</td>\n",
       "      <td>-12.088328</td>\n",
       "      <td>0.000000</td>\n",
       "    </tr>\n",
       "    <tr>\n",
       "      <th>25%</th>\n",
       "      <td>-0.072580</td>\n",
       "      <td>-0.200881</td>\n",
       "      <td>0.287748</td>\n",
       "      <td>56.497507</td>\n",
       "    </tr>\n",
       "    <tr>\n",
       "      <th>50%</th>\n",
       "      <td>0.502360</td>\n",
       "      <td>0.250252</td>\n",
       "      <td>2.515969</td>\n",
       "      <td>91.849972</td>\n",
       "    </tr>\n",
       "    <tr>\n",
       "      <th>75%</th>\n",
       "      <td>1.073581</td>\n",
       "      <td>0.700646</td>\n",
       "      <td>4.715088</td>\n",
       "      <td>128.564089</td>\n",
       "    </tr>\n",
       "    <tr>\n",
       "      <th>max</th>\n",
       "      <td>2.362331</td>\n",
       "      <td>1.343769</td>\n",
       "      <td>16.003790</td>\n",
       "      <td>185.364347</td>\n",
       "    </tr>\n",
       "  </tbody>\n",
       "</table>\n",
       "</div>"
      ],
      "text/plain": [
       "                  f0             f1             f2        product\n",
       "count  100000.000000  100000.000000  100000.000000  100000.000000\n",
       "mean        0.500419       0.250143       2.502647      92.500000\n",
       "std         0.871832       0.504433       3.248248      44.288691\n",
       "min        -1.408605      -0.848218     -12.088328       0.000000\n",
       "25%        -0.072580      -0.200881       0.287748      56.497507\n",
       "50%         0.502360       0.250252       2.515969      91.849972\n",
       "75%         1.073581       0.700646       4.715088     128.564089\n",
       "max         2.362331       1.343769      16.003790     185.364347"
      ]
     },
     "metadata": {},
     "output_type": "display_data"
    }
   ],
   "source": [
    "display(df_geo_data_0.describe())"
   ]
  },
  {
   "cell_type": "markdown",
   "metadata": {},
   "source": [
    "**Признак 'f0'**"
   ]
  },
  {
   "cell_type": "code",
   "execution_count": 21,
   "metadata": {},
   "outputs": [
    {
     "data": {
      "image/png": "[encoded data removed]",
      "text/plain": [
       "<Figure size 864x432 with 1 Axes>"
      ]
     },
     "metadata": {
      "needs_background": "light"
     },
     "output_type": "display_data"
    }
   ],
   "source": [
    "create(df_geo_data_0, 'f0', 'hist')"
   ]
  },
  {
   "cell_type": "code",
   "execution_count": 22,
   "metadata": {},
   "outputs": [
    {
     "data": {
      "image/png": "[encoded data removed]",
      "text/plain": [
       "<Figure size 720x432 with 1 Axes>"
      ]
     },
     "metadata": {
      "needs_background": "light"
     },
     "output_type": "display_data"
    }
   ],
   "source": [
    "create(df_geo_data_0, 'f0', 'boxplot')"
   ]
  },
  {
   "cell_type": "markdown",
   "metadata": {},
   "source": [
    "**Анализ гистограммы**\n",
    "\n",
    "Наблюдается мультимодальное распределение с несколькими пиками. Заметные пики распределения приходятся примерно на значения -0.75, 0.2, 0.9\n",
    "\n",
    "**Анализ \"ящика с усами\"**\n",
    "\n",
    "На диаграмме \"ящик с усами\" видно, что медиана признака f0 находится около 0.5, а 25-й и 75-й перцентили располагаются в пределах от 0 до 1. Это указывает на то, что большая часть данных сосредоточена в этом диапазоне. Отсутствие явных выбросов говорит о том, что данные относительно однородны и нет экстремальных значений, сильно отклоняющихся от основной массы данных."
   ]
  },
  {
   "cell_type": "markdown",
   "metadata": {},
   "source": [
    "**Признак 'f1'**"
   ]
  },
  {
   "cell_type": "code",
   "execution_count": 23,
   "metadata": {},
   "outputs": [
    {
     "data": {
      "image/png": "[encoded data removed]",
      "text/plain": [
       "<Figure size 864x432 with 1 Axes>"
      ]
     },
     "metadata": {
      "needs_background": "light"
     },
     "output_type": "display_data"
    }
   ],
   "source": [
    "create(df_geo_data_0, 'f1', 'hist', color = 'green')"
   ]
  },
  {
   "cell_type": "code",
   "execution_count": 24,
   "metadata": {},
   "outputs": [
    {
     "data": {
      "image/png": "[encoded data removed]",
      "text/plain": [
       "<Figure size 720x432 with 1 Axes>"
      ]
     },
     "metadata": {
      "needs_background": "light"
     },
     "output_type": "display_data"
    }
   ],
   "source": [
    "create(df_geo_data_0, 'f1', 'boxplot', color = 'green')"
   ]
  },
  {
   "cell_type": "markdown",
   "metadata": {},
   "source": [
    "**Анализ гистограммы**\n",
    "\n",
    "Распределение представляет собой мультимодальное распределение с несколькими пиками. Заметные пики распределения приходятся примерно на значения -0.4, 0.25, 0.9\n",
    "\n",
    "**Анализ \"ящика с усами\"**\n",
    "\n",
    "На диаграмме \"ящик с усами\" видно, что медианное значение признака f1 близко к 0.25, что соответствует середине между двумя пиками, наблюдаемыми на гистограмме. Первый и третий квартили находятся в интервале примерно от -0.1 до 0.5. Выбросы отсутствуют."
   ]
  },
  {
   "cell_type": "markdown",
   "metadata": {},
   "source": [
    "**Признак 'f2'**"
   ]
  },
  {
   "cell_type": "code",
   "execution_count": 25,
   "metadata": {},
   "outputs": [
    {
     "data": {
      "image/png": "[encoded data removed]",
      "text/plain": [
       "<Figure size 864x432 with 1 Axes>"
      ]
     },
     "metadata": {
      "needs_background": "light"
     },
     "output_type": "display_data"
    }
   ],
   "source": [
    "create(df_geo_data_0, 'f2', 'hist', color = 'red')"
   ]
  },
  {
   "cell_type": "code",
   "execution_count": 26,
   "metadata": {},
   "outputs": [
    {
     "data": {
      "image/png": "[encoded data removed]",
      "text/plain": [
       "<Figure size 720x432 with 1 Axes>"
      ]
     },
     "metadata": {
      "needs_background": "light"
     },
     "output_type": "display_data"
    }
   ],
   "source": [
    "create(df_geo_data_0, 'f2', 'boxplot', color = 'red')"
   ]
  },
  {
   "cell_type": "markdown",
   "metadata": {},
   "source": [
    "**Анализ гистограммы**\n",
    "\n",
    "Гистограмма частот распределения признака f2 показывает классическую форму колокола, которая соответствует нормальному распределению. Большинство значений признака сосредоточено вокруг центра, что указывает на симметричность распределения вокруг среднего значения. Отсутствие длинных \"хвостов\" говорит о том, что экстремальные значения признака встречаются реже, чем остальные.\n",
    "\n",
    "**Анализ \"ящика с усами\"**\n",
    "\n",
    "На диаграмме \"ящик с усами\" видно, что медиана признака f2 находится около 2.5, а квартили располагаются симметрично относительно неё. Это подтверждает наблюдения, сделанные на гистограмме, о нормальности распределения. Однако, присутствуют некоторые выбросы."
   ]
  },
  {
   "cell_type": "markdown",
   "metadata": {},
   "source": [
    "**Признак 'product'**"
   ]
  },
  {
   "cell_type": "code",
   "execution_count": 27,
   "metadata": {},
   "outputs": [
    {
     "data": {
      "image/png": "[encoded data removed]",
      "text/plain": [
       "<Figure size 864x432 with 1 Axes>"
      ]
     },
     "metadata": {
      "needs_background": "light"
     },
     "output_type": "display_data"
    }
   ],
   "source": [
    "create(df_geo_data_0, 'product', 'hist')"
   ]
  },
  {
   "cell_type": "code",
   "execution_count": 28,
   "metadata": {},
   "outputs": [
    {
     "data": {
      "image/png": "[encoded data removed]",
      "text/plain": [
       "<Figure size 720x432 with 1 Axes>"
      ]
     },
     "metadata": {
      "needs_background": "light"
     },
     "output_type": "display_data"
    }
   ],
   "source": [
    "create(df_geo_data_0, 'product', 'boxplot')"
   ]
  },
  {
   "cell_type": "markdown",
   "metadata": {},
   "source": [
    "**Анализ гистограммы**\n",
    "\n",
    "Распределение имеет несколько пиков, которые похожи на группы с различными частотами.\n",
    "\n",
    "**Анализ \"ящика с усами\"**\n",
    "\n",
    "На диаграмме \"ящик с усами\" видно, что медиана распределения признака product находится в районе 85. \"Ящик\" показывает интерквартильный размах (расстояние между первым и третьим квартилями), который сосредоточен вокруг медианы, и усы, которые простираются до наиболее экстремальных значений без выбросов."
   ]
  },
  {
   "cell_type": "markdown",
   "metadata": {},
   "source": [
    "*Датасет df_geo_data_1*"
   ]
  },
  {
   "cell_type": "code",
   "execution_count": 29,
   "metadata": {},
   "outputs": [
    {
     "data": {
      "text/html": [
       "<div>\n",
       "<style scoped>\n",
       "    .dataframe tbody tr th:only-of-type {\n",
       "        vertical-align: middle;\n",
       "    }\n",
       "\n",
       "    .dataframe tbody tr th {\n",
       "        vertical-align: top;\n",
       "    }\n",
       "\n",
       "    .dataframe thead th {\n",
       "        text-align: right;\n",
       "    }\n",
       "</style>\n",
       "<table border=\"1\" class=\"dataframe\">\n",
       "  <thead>\n",
       "    <tr style=\"text-align: right;\">\n",
       "      <th></th>\n",
       "      <th>f0</th>\n",
       "      <th>f1</th>\n",
       "      <th>f2</th>\n",
       "      <th>product</th>\n",
       "    </tr>\n",
       "  </thead>\n",
       "  <tbody>\n",
       "    <tr>\n",
       "      <th>count</th>\n",
       "      <td>100000.000000</td>\n",
       "      <td>100000.000000</td>\n",
       "      <td>100000.000000</td>\n",
       "      <td>100000.000000</td>\n",
       "    </tr>\n",
       "    <tr>\n",
       "      <th>mean</th>\n",
       "      <td>1.141296</td>\n",
       "      <td>-4.796579</td>\n",
       "      <td>2.494541</td>\n",
       "      <td>68.825000</td>\n",
       "    </tr>\n",
       "    <tr>\n",
       "      <th>std</th>\n",
       "      <td>8.965932</td>\n",
       "      <td>5.119872</td>\n",
       "      <td>1.703572</td>\n",
       "      <td>45.944423</td>\n",
       "    </tr>\n",
       "    <tr>\n",
       "      <th>min</th>\n",
       "      <td>-31.609576</td>\n",
       "      <td>-26.358598</td>\n",
       "      <td>-0.018144</td>\n",
       "      <td>0.000000</td>\n",
       "    </tr>\n",
       "    <tr>\n",
       "      <th>25%</th>\n",
       "      <td>-6.298551</td>\n",
       "      <td>-8.267985</td>\n",
       "      <td>1.000021</td>\n",
       "      <td>26.953261</td>\n",
       "    </tr>\n",
       "    <tr>\n",
       "      <th>50%</th>\n",
       "      <td>1.153055</td>\n",
       "      <td>-4.813172</td>\n",
       "      <td>2.011479</td>\n",
       "      <td>57.085625</td>\n",
       "    </tr>\n",
       "    <tr>\n",
       "      <th>75%</th>\n",
       "      <td>8.621015</td>\n",
       "      <td>-1.332816</td>\n",
       "      <td>3.999904</td>\n",
       "      <td>107.813044</td>\n",
       "    </tr>\n",
       "    <tr>\n",
       "      <th>max</th>\n",
       "      <td>29.421755</td>\n",
       "      <td>18.734063</td>\n",
       "      <td>5.019721</td>\n",
       "      <td>137.945408</td>\n",
       "    </tr>\n",
       "  </tbody>\n",
       "</table>\n",
       "</div>"
      ],
      "text/plain": [
       "                  f0             f1             f2        product\n",
       "count  100000.000000  100000.000000  100000.000000  100000.000000\n",
       "mean        1.141296      -4.796579       2.494541      68.825000\n",
       "std         8.965932       5.119872       1.703572      45.944423\n",
       "min       -31.609576     -26.358598      -0.018144       0.000000\n",
       "25%        -6.298551      -8.267985       1.000021      26.953261\n",
       "50%         1.153055      -4.813172       2.011479      57.085625\n",
       "75%         8.621015      -1.332816       3.999904     107.813044\n",
       "max        29.421755      18.734063       5.019721     137.945408"
      ]
     },
     "metadata": {},
     "output_type": "display_data"
    }
   ],
   "source": [
    "display(df_geo_data_1.describe())"
   ]
  },
  {
   "cell_type": "markdown",
   "metadata": {},
   "source": [
    "**Признак 'f0'**"
   ]
  },
  {
   "cell_type": "code",
   "execution_count": 30,
   "metadata": {},
   "outputs": [
    {
     "data": {
      "image/png": "[encoded data removed]",
      "text/plain": [
       "<Figure size 864x432 with 1 Axes>"
      ]
     },
     "metadata": {
      "needs_background": "light"
     },
     "output_type": "display_data"
    }
   ],
   "source": [
    "create(df_geo_data_1, 'f0', 'hist')"
   ]
  },
  {
   "cell_type": "code",
   "execution_count": 31,
   "metadata": {},
   "outputs": [
    {
     "data": {
      "image/png": "[encoded data removed]",
      "text/plain": [
       "<Figure size 720x432 with 1 Axes>"
      ]
     },
     "metadata": {
      "needs_background": "light"
     },
     "output_type": "display_data"
    }
   ],
   "source": [
    "create(df_geo_data_1, 'f0', 'boxplot')"
   ]
  },
  {
   "cell_type": "markdown",
   "metadata": {},
   "source": [
    "**Анализ гистограммы**\n",
    "\n",
    "На гистограмме представлено распределение признака f0, которое образует два выраженных пика примерно при значениях -6 и 10. Такое распределение может указывать на двухмодальную природу данных.\n",
    "\n",
    "**Анализ \"ящика с усами\"**\n",
    "\n",
    "Диаграмма \"ящик с усами\" для признака f0 показывает, что медиана близка к нулю, и большая часть данных сосредоточена в интервале от -6 до 10, что соответствует пикам на гистограмме. \"Усы\" диаграммы тянутся далеко за пределы квартилей, указывая на наличие значений вне основного распределения. Однако, существует всего один значительный выброс. Это может быть аномалией или ошибкой в данных."
   ]
  },
  {
   "cell_type": "markdown",
   "metadata": {},
   "source": [
    "**Признак 'f1'**"
   ]
  },
  {
   "cell_type": "code",
   "execution_count": 32,
   "metadata": {},
   "outputs": [
    {
     "data": {
      "image/png": "[encoded data removed]",
      "text/plain": [
       "<Figure size 864x432 with 1 Axes>"
      ]
     },
     "metadata": {
      "needs_background": "light"
     },
     "output_type": "display_data"
    }
   ],
   "source": [
    "create(df_geo_data_1, 'f1', 'hist', color = 'green')"
   ]
  },
  {
   "cell_type": "code",
   "execution_count": 33,
   "metadata": {},
   "outputs": [
    {
     "data": {
      "image/png": "[encoded data removed]",
      "text/plain": [
       "<Figure size 720x432 with 1 Axes>"
      ]
     },
     "metadata": {
      "needs_background": "light"
     },
     "output_type": "display_data"
    }
   ],
   "source": [
    "create(df_geo_data_1, 'f1', 'boxplot', color = 'green')"
   ]
  },
  {
   "cell_type": "markdown",
   "metadata": {},
   "source": [
    "**Анализ гистограммы**\n",
    "\n",
    "Гистограмма частот распределения признака f1 представляет собой форму, характерную для нормального распределения, с одним центральным пиком около -5. Распределение симметрично относительно своего центра, что указывает на отсутствие смещения в данных.\n",
    "\n",
    "**Анализ \"ящика с усами\"**\n",
    "\n",
    "Диаграмма \"ящика с усами\" для признака f1 подтверждает, что большая часть данных сконцентрирована около медианы, которая находится близко к нулю. Интерквартильный размах (расстояние между 25-м и 75-м перцентилями) относительно узкий, что говорит о том, что большая часть значений признака находится вблизи медианы. Присутствуют выбросы."
   ]
  },
  {
   "cell_type": "markdown",
   "metadata": {},
   "source": [
    "**Признак 'f2'**"
   ]
  },
  {
   "cell_type": "code",
   "execution_count": 34,
   "metadata": {},
   "outputs": [
    {
     "data": {
      "image/png": "[encoded data removed]",
      "text/plain": [
       "<Figure size 864x432 with 1 Axes>"
      ]
     },
     "metadata": {
      "needs_background": "light"
     },
     "output_type": "display_data"
    }
   ],
   "source": [
    "create(df_geo_data_1, 'f2', 'hist', color = 'red')"
   ]
  },
  {
   "cell_type": "code",
   "execution_count": 35,
   "metadata": {},
   "outputs": [
    {
     "data": {
      "image/png": "[encoded data removed]",
      "text/plain": [
       "<Figure size 720x432 with 1 Axes>"
      ]
     },
     "metadata": {
      "needs_background": "light"
     },
     "output_type": "display_data"
    }
   ],
   "source": [
    "create(df_geo_data_1, 'f2', 'boxplot', color = 'red')"
   ]
  },
  {
   "cell_type": "markdown",
   "metadata": {},
   "source": [
    "**Анализ гистограммы**\n",
    "\n",
    "Гистограмма признака f2 показывает распределение с явными отдельными столбцами, что указывает на дискретное распределение данных. Значения признака f2 сконцентрированы вокруг определённых числовых категорий (в данном случае целых чисел от 0 до 5), и каждая категория имеет похожую частоту встречаемости.\n",
    "\n",
    "**Анализ \"ящика с усами\"**\n",
    "\n",
    "Диаграмма \"ящик с усами\" показывает, что медианный показатель признака f2 находится около значения 2, и большинство данных находятся в диапазоне от 1 до 4. Отсутствие \"усов\" и выбросов за пределами этого диапазона подтверждает дискретный характер распределения и отсутствие аномальных значений за пределами основных категорий."
   ]
  },
  {
   "cell_type": "markdown",
   "metadata": {},
   "source": [
    "**Признак 'product'**"
   ]
  },
  {
   "cell_type": "code",
   "execution_count": 36,
   "metadata": {},
   "outputs": [
    {
     "data": {
      "image/png": "[encoded data removed]",
      "text/plain": [
       "<Figure size 864x432 with 1 Axes>"
      ]
     },
     "metadata": {
      "needs_background": "light"
     },
     "output_type": "display_data"
    }
   ],
   "source": [
    "create(df_geo_data_1, 'product', 'hist')"
   ]
  },
  {
   "cell_type": "code",
   "execution_count": 37,
   "metadata": {},
   "outputs": [
    {
     "data": {
      "image/png": "[encoded data removed]",
      "text/plain": [
       "<Figure size 720x432 with 1 Axes>"
      ]
     },
     "metadata": {
      "needs_background": "light"
     },
     "output_type": "display_data"
    }
   ],
   "source": [
    "create(df_geo_data_1, 'product', 'boxplot')"
   ]
  },
  {
   "cell_type": "markdown",
   "metadata": {},
   "source": [
    "**Анализ гистограммы**\n",
    "\n",
    "Гистограмма признака product показывает частотное распределение с ярко выраженными и равномерно распределенными пиками, что указывает на равномерное распределение значений этого признака.\n",
    "\n",
    "**Анализ \"ящика с усами\"**\n",
    "\n",
    "Диаграмма \"ящика с усами\" для признака product показывает, что медианное значение расположено около 60. Выбросы отсутствуют."
   ]
  },
  {
   "cell_type": "markdown",
   "metadata": {},
   "source": [
    "*Датасет df_geo_data_2*"
   ]
  },
  {
   "cell_type": "code",
   "execution_count": 38,
   "metadata": {},
   "outputs": [
    {
     "data": {
      "text/html": [
       "<div>\n",
       "<style scoped>\n",
       "    .dataframe tbody tr th:only-of-type {\n",
       "        vertical-align: middle;\n",
       "    }\n",
       "\n",
       "    .dataframe tbody tr th {\n",
       "        vertical-align: top;\n",
       "    }\n",
       "\n",
       "    .dataframe thead th {\n",
       "        text-align: right;\n",
       "    }\n",
       "</style>\n",
       "<table border=\"1\" class=\"dataframe\">\n",
       "  <thead>\n",
       "    <tr style=\"text-align: right;\">\n",
       "      <th></th>\n",
       "      <th>f0</th>\n",
       "      <th>f1</th>\n",
       "      <th>f2</th>\n",
       "      <th>product</th>\n",
       "    </tr>\n",
       "  </thead>\n",
       "  <tbody>\n",
       "    <tr>\n",
       "      <th>count</th>\n",
       "      <td>100000.000000</td>\n",
       "      <td>100000.000000</td>\n",
       "      <td>100000.000000</td>\n",
       "      <td>100000.000000</td>\n",
       "    </tr>\n",
       "    <tr>\n",
       "      <th>mean</th>\n",
       "      <td>0.002023</td>\n",
       "      <td>-0.002081</td>\n",
       "      <td>2.495128</td>\n",
       "      <td>95.000000</td>\n",
       "    </tr>\n",
       "    <tr>\n",
       "      <th>std</th>\n",
       "      <td>1.732045</td>\n",
       "      <td>1.730417</td>\n",
       "      <td>3.473445</td>\n",
       "      <td>44.749921</td>\n",
       "    </tr>\n",
       "    <tr>\n",
       "      <th>min</th>\n",
       "      <td>-8.760004</td>\n",
       "      <td>-7.084020</td>\n",
       "      <td>-11.970335</td>\n",
       "      <td>0.000000</td>\n",
       "    </tr>\n",
       "    <tr>\n",
       "      <th>25%</th>\n",
       "      <td>-1.162288</td>\n",
       "      <td>-1.174820</td>\n",
       "      <td>0.130359</td>\n",
       "      <td>59.450441</td>\n",
       "    </tr>\n",
       "    <tr>\n",
       "      <th>50%</th>\n",
       "      <td>0.009424</td>\n",
       "      <td>-0.009482</td>\n",
       "      <td>2.484236</td>\n",
       "      <td>94.925613</td>\n",
       "    </tr>\n",
       "    <tr>\n",
       "      <th>75%</th>\n",
       "      <td>1.158535</td>\n",
       "      <td>1.163678</td>\n",
       "      <td>4.858794</td>\n",
       "      <td>130.595027</td>\n",
       "    </tr>\n",
       "    <tr>\n",
       "      <th>max</th>\n",
       "      <td>7.238262</td>\n",
       "      <td>7.844801</td>\n",
       "      <td>16.739402</td>\n",
       "      <td>190.029838</td>\n",
       "    </tr>\n",
       "  </tbody>\n",
       "</table>\n",
       "</div>"
      ],
      "text/plain": [
       "                  f0             f1             f2        product\n",
       "count  100000.000000  100000.000000  100000.000000  100000.000000\n",
       "mean        0.002023      -0.002081       2.495128      95.000000\n",
       "std         1.732045       1.730417       3.473445      44.749921\n",
       "min        -8.760004      -7.084020     -11.970335       0.000000\n",
       "25%        -1.162288      -1.174820       0.130359      59.450441\n",
       "50%         0.009424      -0.009482       2.484236      94.925613\n",
       "75%         1.158535       1.163678       4.858794     130.595027\n",
       "max         7.238262       7.844801      16.739402     190.029838"
      ]
     },
     "metadata": {},
     "output_type": "display_data"
    }
   ],
   "source": [
    "display(df_geo_data_2.describe())"
   ]
  },
  {
   "cell_type": "markdown",
   "metadata": {},
   "source": [
    "**Признак 'f0'**"
   ]
  },
  {
   "cell_type": "code",
   "execution_count": 39,
   "metadata": {},
   "outputs": [
    {
     "data": {
      "image/png": "[encoded data removed]",
      "text/plain": [
       "<Figure size 864x432 with 1 Axes>"
      ]
     },
     "metadata": {
      "needs_background": "light"
     },
     "output_type": "display_data"
    }
   ],
   "source": [
    "create(df_geo_data_2, 'f0', 'hist')"
   ]
  },
  {
   "cell_type": "code",
   "execution_count": 40,
   "metadata": {},
   "outputs": [
    {
     "data": {
      "image/png": "[encoded data removed]",
      "text/plain": [
       "<Figure size 720x432 with 1 Axes>"
      ]
     },
     "metadata": {
      "needs_background": "light"
     },
     "output_type": "display_data"
    }
   ],
   "source": [
    "create(df_geo_data_2, 'f0', 'boxplot')"
   ]
  },
  {
   "cell_type": "markdown",
   "metadata": {},
   "source": [
    "**Анализ гистограммы**\n",
    "\n",
    "Гистограмма частот распределения признака f0 имеет форму, характерную для нормального распределения. Распределение симметрично относительно центра, который находится вблизи нуля.\n",
    "\n",
    "**Анализ \"ящика с усами\"**\n",
    "\n",
    "Диаграмма \"ящика с усами\" для признака f0 показывает, что медианное значение приближено к нулю, и большинство данных находятся в пределах от -1 до 1. Усы диаграммы простираются до значений примерно -5 и 5, но есть несколько выбросов за пределами этих значений. Тем не менее, их количество невелико по сравнению с общим количеством данных."
   ]
  },
  {
   "cell_type": "markdown",
   "metadata": {},
   "source": [
    "**Признак 'f1'**"
   ]
  },
  {
   "cell_type": "code",
   "execution_count": 41,
   "metadata": {},
   "outputs": [
    {
     "data": {
      "image/png": "[encoded data removed]",
      "text/plain": [
       "<Figure size 864x432 with 1 Axes>"
      ]
     },
     "metadata": {
      "needs_background": "light"
     },
     "output_type": "display_data"
    }
   ],
   "source": [
    "create(df_geo_data_2, 'f1', 'hist', color = 'green')"
   ]
  },
  {
   "cell_type": "code",
   "execution_count": 42,
   "metadata": {},
   "outputs": [
    {
     "data": {
      "image/png": "[encoded data removed]",
      "text/plain": [
       "<Figure size 720x432 with 1 Axes>"
      ]
     },
     "metadata": {
      "needs_background": "light"
     },
     "output_type": "display_data"
    }
   ],
   "source": [
    "create(df_geo_data_2, 'f1', 'boxplot', color = 'green')"
   ]
  },
  {
   "cell_type": "markdown",
   "metadata": {},
   "source": [
    "**Анализ гистограммы**\n",
    "\n",
    "Гистограмма распределения признака f1 также напоминает нормальное распределение, с центром около нуля и убывающими частотами к краям диапазона.\n",
    "\n",
    "**Анализ \"ящика с усами\"**\n",
    "\n",
    "На диаграмме \"ящика с усами\" видно, что медиана признака f1 находится вблизи нуля, а квартили распределены симметрично относительно медианы. Усы простираются примерно до -6 и 6, что соответствует хвостам распределения на гистограмме. Количество выбросов не является необычным для нормального распределения."
   ]
  },
  {
   "cell_type": "markdown",
   "metadata": {},
   "source": [
    "**Признак 'f2'**"
   ]
  },
  {
   "cell_type": "code",
   "execution_count": 43,
   "metadata": {},
   "outputs": [
    {
     "data": {
      "image/png": "[encoded data removed]",
      "text/plain": [
       "<Figure size 864x432 with 1 Axes>"
      ]
     },
     "metadata": {
      "needs_background": "light"
     },
     "output_type": "display_data"
    }
   ],
   "source": [
    "create(df_geo_data_2, 'f2', 'hist', color = 'red')"
   ]
  },
  {
   "cell_type": "code",
   "execution_count": 44,
   "metadata": {},
   "outputs": [
    {
     "data": {
      "image/png": "[encoded data removed]",
      "text/plain": [
       "<Figure size 720x432 with 1 Axes>"
      ]
     },
     "metadata": {
      "needs_background": "light"
     },
     "output_type": "display_data"
    }
   ],
   "source": [
    "create(df_geo_data_2, 'f2', 'boxplot', color = 'red')"
   ]
  },
  {
   "cell_type": "markdown",
   "metadata": {},
   "source": [
    "**Анализ гистограммы**\n",
    "\n",
    "Гистограмма для признака f2 также имеет вид, напоминающий нормальное распределение.\n",
    "\n",
    "**Анализ \"ящика с усами\"**\n",
    "\n",
    "Диаграмма \"ящика с усами\" подтверждает, что медиана признака f2 близка к 2.5, и большая часть значений находится в интервале примерно от 0 до 5. Усы диаграммы простираются дальше, до значений около -8 и 8, что соответствует хвостам распределения. Выбросы могут указывать на наличие некоторых аномальных значений признака f2, однако их немного по сравнению с общим объёмом данных."
   ]
  },
  {
   "cell_type": "markdown",
   "metadata": {},
   "source": [
    "**Признак 'product'**"
   ]
  },
  {
   "cell_type": "code",
   "execution_count": 45,
   "metadata": {},
   "outputs": [
    {
     "data": {
      "image/png": "[encoded data removed]",
      "text/plain": [
       "<Figure size 864x432 with 1 Axes>"
      ]
     },
     "metadata": {
      "needs_background": "light"
     },
     "output_type": "display_data"
    }
   ],
   "source": [
    "create(df_geo_data_2, 'product', 'hist')"
   ]
  },
  {
   "cell_type": "code",
   "execution_count": 46,
   "metadata": {},
   "outputs": [
    {
     "data": {
      "image/png": "[encoded data removed]",
      "text/plain": [
       "<Figure size 720x432 with 1 Axes>"
      ]
     },
     "metadata": {
      "needs_background": "light"
     },
     "output_type": "display_data"
    }
   ],
   "source": [
    "create(df_geo_data_2, 'product', 'boxplot')"
   ]
  },
  {
   "cell_type": "markdown",
   "metadata": {},
   "source": [
    "**Анализ гистограммы**\n",
    "\n",
    "Гистограмма признака product показывает неоднородное распределение с множественными пиками.\n",
    "\n",
    "**Анализ \"ящика с усами\"**\n",
    "\n",
    "На диаграмме \"ящика с усами\" видно, что медиана распределения признака product находится около значения 90. Выбросы отсутствуют."
   ]
  },
  {
   "cell_type": "markdown",
   "metadata": {},
   "source": [
    "**Вывод по исследовательскому анализу данных**"
   ]
  },
  {
   "cell_type": "markdown",
   "metadata": {},
   "source": [
    "Большинство признаков имеют нормальное распределение. В даннных есть небольшие выбросы, но их лучше никак не убирать, поскольку в будущем может привести к недообучению модели."
   ]
  },
  {
   "cell_type": "markdown",
   "metadata": {},
   "source": [
    "### Корелляционный анализ"
   ]
  },
  {
   "cell_type": "code",
   "execution_count": 47,
   "metadata": {},
   "outputs": [],
   "source": [
    "interval_cols = ['f0', 'f1', 'f2', 'product']"
   ]
  },
  {
   "cell_type": "code",
   "execution_count": 48,
   "metadata": {
    "scrolled": false
   },
   "outputs": [
    {
     "data": {
      "image/png": "[encoded data removed]",
      "text/plain": [
       "<Figure size 864x864 with 2 Axes>"
      ]
     },
     "metadata": {
      "needs_background": "light"
     },
     "output_type": "display_data"
    }
   ],
   "source": [
    "create_phik(df_geo_data_0, interval_cols)"
   ]
  },
  {
   "cell_type": "code",
   "execution_count": 49,
   "metadata": {},
   "outputs": [
    {
     "data": {
      "image/png": "[encoded data removed]",
      "text/plain": [
       "<Figure size 864x864 with 2 Axes>"
      ]
     },
     "metadata": {
      "needs_background": "light"
     },
     "output_type": "display_data"
    }
   ],
   "source": [
    "create_phik(df_geo_data_1, interval_cols)"
   ]
  },
  {
   "cell_type": "code",
   "execution_count": 50,
   "metadata": {},
   "outputs": [
    {
     "data": {
      "image/png": "[encoded data removed]",
      "text/plain": [
       "<Figure size 864x864 with 2 Axes>"
      ]
     },
     "metadata": {
      "needs_background": "light"
     },
     "output_type": "display_data"
    }
   ],
   "source": [
    "create_phik(df_geo_data_2, interval_cols)"
   ]
  },
  {
   "cell_type": "markdown",
   "metadata": {},
   "source": [
    "**Вывод по корелляционному анализу**"
   ]
  },
  {
   "cell_type": "markdown",
   "metadata": {},
   "source": [
    "Сильная корелляция наблюдается:\n",
    "* В первой локации между признаками f0 и f1\n",
    "* Во второй локации между признаками f2 и целевым признаком product\n",
    "\n",
    "Средняя корелляция наблюдается:\n",
    "* В первой локации между признаками f2 и целевым признаком product\n",
    "* Во второй локации между признаками f0 и целевым признаком product\n",
    "* В третьей локации между признаками f2 и целевым признаком product\n",
    "\n",
    "Во остальных случаях наблюдается слабая корелляция или корелляции между признаками не наблюдается вообще"
   ]
  },
  {
   "cell_type": "markdown",
   "metadata": {},
   "source": [
    "### Промежуточный вывод по загрузке и подготовке данных"
   ]
  },
  {
   "cell_type": "markdown",
   "metadata": {},
   "source": [
    "**Загрузка данныых.**\n",
    "\n",
    "Данные были успешно загружены.\n",
    "\n",
    "Датасеты:\n",
    "* Данные геологоразведки в первом регионе: df_geo_data_0\n",
    "* Данные геологоразведки во втором регионе: df_geo_data_1\n",
    "* Данные геологоразведки в третьем регионе: df_geo_data_2\n",
    "\n",
    "Изучение датасетов:\n",
    "1. В датасетах отсутствуют пропуски\n",
    "2. Типы данных корректны во всех трех датасетах. \n",
    "\n",
    "**В результате предобработки данных:**\n",
    "* В датасетах не обнаружено явных дубликатов, но обнаружено небольшое количество неявных, оставим их. \n",
    "* Столбец id был удалён во всех трёх датасетах.\n",
    "\n",
    "**Исследовательский анализ данных показал:**\n",
    "* Большинство признаков имеют нормальное распределение. \n",
    "* В даннных есть небольшие выбросы, но их лучше никак не убирать, поскольку в будущем может привести к недообучению модели.\n",
    "\n",
    "**Корелляционный анализ данных показал:**\n",
    "\n",
    "Сильная корелляция наблюдается:\n",
    "* В первой локации между признаками f0 и f1\n",
    "* Во второй локации между признаками f2 и целевым признаком product"
   ]
  },
  {
   "cell_type": "markdown",
   "metadata": {},
   "source": [
    "## Обучение и проверка модели"
   ]
  },
  {
   "cell_type": "markdown",
   "metadata": {},
   "source": [
    "### Обучение модели"
   ]
  },
  {
   "cell_type": "code",
   "execution_count": 51,
   "metadata": {},
   "outputs": [
    {
     "data": {
      "text/html": [
       "<div>\n",
       "<style scoped>\n",
       "    .dataframe tbody tr th:only-of-type {\n",
       "        vertical-align: middle;\n",
       "    }\n",
       "\n",
       "    .dataframe tbody tr th {\n",
       "        vertical-align: top;\n",
       "    }\n",
       "\n",
       "    .dataframe thead th {\n",
       "        text-align: right;\n",
       "    }\n",
       "</style>\n",
       "<table border=\"1\" class=\"dataframe\">\n",
       "  <thead>\n",
       "    <tr style=\"text-align: right;\">\n",
       "      <th></th>\n",
       "      <th>Регион</th>\n",
       "      <th>Предсказанное значение среднего запаса сырья</th>\n",
       "      <th>RMSE</th>\n",
       "    </tr>\n",
       "  </thead>\n",
       "  <tbody>\n",
       "    <tr>\n",
       "      <th>0</th>\n",
       "      <td>0</td>\n",
       "      <td>92.59</td>\n",
       "      <td>37.58</td>\n",
       "    </tr>\n",
       "    <tr>\n",
       "      <th>1</th>\n",
       "      <td>1</td>\n",
       "      <td>68.73</td>\n",
       "      <td>0.89</td>\n",
       "    </tr>\n",
       "    <tr>\n",
       "      <th>2</th>\n",
       "      <td>2</td>\n",
       "      <td>94.97</td>\n",
       "      <td>40.03</td>\n",
       "    </tr>\n",
       "  </tbody>\n",
       "</table>\n",
       "</div>"
      ],
      "text/plain": [
       "  Регион  Предсказанное значение среднего запаса сырья   RMSE\n",
       "0      0                                         92.59  37.58\n",
       "1      1                                         68.73   0.89\n",
       "2      2                                         94.97  40.03"
      ]
     },
     "metadata": {},
     "output_type": "display_data"
    }
   ],
   "source": [
    "results = {}\n",
    "for i, data in enumerate([df_geo_data_0, df_geo_data_1, df_geo_data_2]):\n",
    "    predictions, y_valid, mean_product, rmse = train_and_evaluate(data)\n",
    "    results[f'geo_data_{i}'] = {\n",
    "        'predictions': predictions,\n",
    "        'actual': y_valid,\n",
    "        'mean_product': mean_product,\n",
    "        'rmse': rmse\n",
    "    }\n",
    "\n",
    "# Создание DataFrame для результатов\n",
    "results_df = pd.DataFrame({\n",
    "    'Регион': ['0', '1', '2'],\n",
    "    'Предсказанное значение среднего запаса сырья': [results['geo_data_0']['mean_product'], \n",
    "                               results['geo_data_1']['mean_product'], \n",
    "                               results['geo_data_2']['mean_product']],\n",
    "    'RMSE': [results['geo_data_0']['rmse'], \n",
    "             results['geo_data_1']['rmse'], \n",
    "             results['geo_data_2']['rmse']]\n",
    "})\n",
    "\n",
    "\n",
    "display(results_df.round(2))"
   ]
  },
  {
   "cell_type": "markdown",
   "metadata": {},
   "source": [
    "### Промежуточный вывод по обучению модели"
   ]
  },
  {
   "cell_type": "markdown",
   "metadata": {},
   "source": [
    "Суммарные значения предсказаний о количестве нефти примерно равны суммарным предсказанным значениям. Модель наиболее точно предсказала запасы нефти во втором наборе данных, где RMSE составил 0.88, затем следуют результаты для первого и третьего наборов данных соответственно."
   ]
  },
  {
   "cell_type": "markdown",
   "metadata": {},
   "source": [
    "## Подготовка к расчёту прибыли"
   ]
  },
  {
   "cell_type": "markdown",
   "metadata": {},
   "source": [
    "Будем использовать следующие условные параметры:\n",
    "* Бюджет на разработку: 10 млрд рублей\n",
    "* При разведке региона исследуем 500 точек, из которых с помощью машинного обучения выбираем 200 лучших для разработки.\n",
    "* Доход с каждой единицы продукта: 450 тысяч рублей."
   ]
  },
  {
   "cell_type": "markdown",
   "metadata": {},
   "source": [
    "### Сохранение ключевых переменных"
   ]
  },
  {
   "cell_type": "code",
   "execution_count": 58,
   "metadata": {},
   "outputs": [],
   "source": [
    "BUDGET = 10_000_000_000\n",
    "REVENUE_PER_UNIT = 450_000\n",
    "CHOSEN_POINTS = 500\n",
    "BEST_POINTS = 200"
   ]
  },
  {
   "cell_type": "markdown",
   "metadata": {},
   "source": [
    "### Рассчёт достаточного объёма сырья для безубыточной разработки новой скважины"
   ]
  },
  {
   "cell_type": "code",
   "execution_count": 59,
   "metadata": {},
   "outputs": [
    {
     "name": "stdout",
     "output_type": "stream",
     "text": [
      "Достаточный объём сырья = 111.11111111111111\n"
     ]
    }
   ],
   "source": [
    "volume = BUDGET / (REVENUE_PER_UNIT * 200)\n",
    "print('Достаточный объём сырья =', volume)"
   ]
  },
  {
   "cell_type": "markdown",
   "metadata": {},
   "source": [
    "### Промежуточный вывод по подготовке к расчёту прибыли"
   ]
  },
  {
   "cell_type": "markdown",
   "metadata": {},
   "source": [
    "Во всех трёх регионах средний запас сырья в скважинах меньше, чем требуемый объём для безубыточной работы (111.11 единиц).\n",
    "\n",
    "Это указывает на потенциальные риски при разработке скважин в данных регионах, и необходимость дополнительного анализа для выбора наиболее перспективных скважин."
   ]
  },
  {
   "cell_type": "markdown",
   "metadata": {},
   "source": [
    "## Расчёт прибыли и рисков "
   ]
  },
  {
   "cell_type": "markdown",
   "metadata": {},
   "source": [
    "### Функция для расчёта прибыли по выбранным скважинам и предсказаниям модели"
   ]
  },
  {
   "cell_type": "code",
   "execution_count": 60,
   "metadata": {},
   "outputs": [
    {
     "data": {
      "text/html": [
       "<div>\n",
       "<style scoped>\n",
       "    .dataframe tbody tr th:only-of-type {\n",
       "        vertical-align: middle;\n",
       "    }\n",
       "\n",
       "    .dataframe tbody tr th {\n",
       "        vertical-align: top;\n",
       "    }\n",
       "\n",
       "    .dataframe thead th {\n",
       "        text-align: right;\n",
       "    }\n",
       "</style>\n",
       "<table border=\"1\" class=\"dataframe\">\n",
       "  <thead>\n",
       "    <tr style=\"text-align: right;\">\n",
       "      <th></th>\n",
       "      <th>Регион 0</th>\n",
       "      <th>Регион 1</th>\n",
       "      <th>Регион 2</th>\n",
       "    </tr>\n",
       "  </thead>\n",
       "  <tbody>\n",
       "    <tr>\n",
       "      <th>Прибыль</th>\n",
       "      <td>3.320826e+09</td>\n",
       "      <td>2.415087e+09</td>\n",
       "      <td>2.710350e+09</td>\n",
       "    </tr>\n",
       "  </tbody>\n",
       "</table>\n",
       "</div>"
      ],
      "text/plain": [
       "             Регион 0      Регион 1      Регион 2\n",
       "Прибыль  3.320826e+09  2.415087e+09  2.710350e+09"
      ]
     },
     "metadata": {},
     "output_type": "display_data"
    }
   ],
   "source": [
    "def income(predictions, target, point_best=200, income_per_product=450_000, budget=10e9):\n",
    "    best_predict = predictions.sort_values(ascending=False).head(point_best)\n",
    "    selected = target.iloc[best_predict.index]\n",
    "    return (income_per_product * selected.sum()) - budget\n",
    "\n",
    "income_results = {}\n",
    "for i in range(3):\n",
    "    prediction_series = pd.Series(results[f'geo_data_{i}']['predictions'])\n",
    "    actual_series = pd.Series(results[f'geo_data_{i}']['actual'])\n",
    "    income_results[f'Регион {i}'] = income(prediction_series, actual_series, BEST_POINTS, REVENUE_PER_UNIT, BUDGET)\n",
    "\n",
    "income_df = pd.DataFrame(income_results, index=[\"Прибыль\"])\n",
    "income_df = pd.DataFrame(income_df)\n",
    "\n",
    "\n",
    "display(income_df)"
   ]
  },
  {
   "cell_type": "markdown",
   "metadata": {},
   "source": [
    "### Подсчёт рисков и прибыли для каждого региона"
   ]
  },
  {
   "cell_type": "code",
   "execution_count": 63,
   "metadata": {},
   "outputs": [],
   "source": [
    "def bootstrap(predict, target):\n",
    "    target = target.reset_index(drop=True)\n",
    "    state = np.random.RandomState(12345)\n",
    "    values = []\n",
    "    for i in range(1000):\n",
    "        probs_subsample= pd.Series(predict).sample(n=CHOSEN_POINTS, replace=True, random_state=state)\n",
    "        values.append(income(probs_subsample, target, 200, 450_000, 10e9))\n",
    "\n",
    "    values = pd.Series(values)\n",
    "\n",
    "    mean = values.mean()\n",
    "    risk = (values < 0).mean() * 100\n",
    "    confidence_interval = stats.t.interval(0.95, len(values)-1, loc=mean, scale=values.sem())\n",
    "\n",
    "    return mean, risk, confidence_interval[0], confidence_interval[1]\n",
    "\n",
    "mean_region_0, risk_region_0, lower_reqion_0, upper_region_0 = \\\n",
    "bootstrap(pd.Series(results['geo_data_0']['predictions']), pd.Series(results['geo_data_0']['actual']))\n",
    "\n",
    "mean_region_1, risk_region_1, lower_reqion_1, upper_region_1 = \\\n",
    "bootstrap(pd.Series(results['geo_data_1']['predictions']), pd.Series(results['geo_data_1']['actual']))\n",
    "\n",
    "mean_region_2, risk_region_2, lower_reqion_2, upper_region_2 = \\\n",
    "bootstrap(pd.Series(results['geo_data_2']['predictions']), pd.Series(results['geo_data_2']['actual']))"
   ]
  },
  {
   "cell_type": "markdown",
   "metadata": {},
   "source": [
    "Включим все найденные данные в один финальный датасет."
   ]
  },
  {
   "cell_type": "code",
   "execution_count": 64,
   "metadata": {},
   "outputs": [
    {
     "data": {
      "text/html": [
       "<div>\n",
       "<style scoped>\n",
       "    .dataframe tbody tr th:only-of-type {\n",
       "        vertical-align: middle;\n",
       "    }\n",
       "\n",
       "    .dataframe tbody tr th {\n",
       "        vertical-align: top;\n",
       "    }\n",
       "\n",
       "    .dataframe thead th {\n",
       "        text-align: right;\n",
       "    }\n",
       "</style>\n",
       "<table border=\"1\" class=\"dataframe\">\n",
       "  <thead>\n",
       "    <tr style=\"text-align: right;\">\n",
       "      <th></th>\n",
       "      <th>Регион</th>\n",
       "      <th>Прибыль</th>\n",
       "      <th>Риски</th>\n",
       "      <th>Квантиль 0.025</th>\n",
       "      <th>Квантиль 0.975</th>\n",
       "      <th>Средняя добыча нефти</th>\n",
       "    </tr>\n",
       "  </thead>\n",
       "  <tbody>\n",
       "    <tr>\n",
       "      <th>0</th>\n",
       "      <td>Регион 0</td>\n",
       "      <td>396164985.0</td>\n",
       "      <td>7.0</td>\n",
       "      <td>379620315.0</td>\n",
       "      <td>412709654.0</td>\n",
       "      <td>93.0</td>\n",
       "    </tr>\n",
       "    <tr>\n",
       "      <th>1</th>\n",
       "      <td>Регион 1</td>\n",
       "      <td>456045106.0</td>\n",
       "      <td>2.0</td>\n",
       "      <td>443147249.0</td>\n",
       "      <td>468942963.0</td>\n",
       "      <td>69.0</td>\n",
       "    </tr>\n",
       "    <tr>\n",
       "      <th>2</th>\n",
       "      <td>Регион 2</td>\n",
       "      <td>404403867.0</td>\n",
       "      <td>8.0</td>\n",
       "      <td>387445797.0</td>\n",
       "      <td>421361936.0</td>\n",
       "      <td>95.0</td>\n",
       "    </tr>\n",
       "  </tbody>\n",
       "</table>\n",
       "</div>"
      ],
      "text/plain": [
       "     Регион      Прибыль  Риски  Квантиль 0.025  Квантиль 0.975  \\\n",
       "0  Регион 0  396164985.0    7.0     379620315.0     412709654.0   \n",
       "1  Регион 1  456045106.0    2.0     443147249.0     468942963.0   \n",
       "2  Регион 2  404403867.0    8.0     387445797.0     421361936.0   \n",
       "\n",
       "   Средняя добыча нефти  \n",
       "0                  93.0  \n",
       "1                  69.0  \n",
       "2                  95.0  "
      ]
     },
     "metadata": {},
     "output_type": "display_data"
    }
   ],
   "source": [
    "final_data = {\n",
    "    'Регион': ['Регион 0', 'Регион 1', 'Регион 2'],\n",
    "    'Прибыль': [mean_region_0, mean_region_1, mean_region_2],\n",
    "    'Риски': [risk_region_0, risk_region_1, risk_region_2],\n",
    "    'Квантиль 0.025': [lower_reqion_0, lower_reqion_1, lower_reqion_2],\n",
    "    'Квантиль 0.975': [upper_region_0, upper_region_1, upper_region_2]\n",
    "\n",
    "}\n",
    "\n",
    "df_final = pd.DataFrame(final_data)\n",
    "df_final['Средняя добыча нефти'] = results_df['Предсказанное значение среднего запаса сырья']\n",
    "df_final = df_final.round(0)\n",
    "display(df_final)"
   ]
  },
  {
   "cell_type": "markdown",
   "metadata": {},
   "source": [
    "## Общий вывод"
   ]
  },
  {
   "cell_type": "markdown",
   "metadata": {},
   "source": [
    "На основе полученных данных, регион для разработки скважин следует выбирать, учитывая как потенциальную прибыль, так и риски убытков. Рассмотрим ключевые метрики для каждого региона:\n",
    "* Регион 0:\n",
    "    * Прибыль: 396 миллионов\n",
    "    * Риски: 7%\n",
    "    * Средняя добыча нефти: 93 единицы\n",
    "* Регион 1:\n",
    "    * Прибыль: 456 миллионов\n",
    "    * Риски: 2%\n",
    "    * Средняя добыча нефти: 69 единиц\n",
    "* Регион 2:\n",
    "    * Прибыль: 404 миллиона\n",
    "    * Риски: 8%\n",
    "    * Средняя добыча нефти: 95 единиц\n",
    "    \n",
    "**Выводы и рекомендация:**\n",
    "1. Регион 1 представляется наиболее перспективным для разработки скважин. Несмотря на то, что средняя добыча нефти в этом регионе самая низкая (69 единиц), регион 1 показывает самую высокую прибыль (456 миллионов) и наименьшие риски убытков (всего 2%).\n",
    "2. Регион 0 и Регион 2 также показывают высокую потенциальную прибыль, но риски убытков заметно выше (7% и 8% соответственно) по сравнению с Регионом 1.\n",
    "\n",
    "**Регион 1 является наиболее предпочтительным вариантом для разработки. Это решение подкрепляется не только более низкими рисками, но и высокой прибылью, несмотря на меньший средний объем добычи нефти.**"
   ]
  }
 ],
 "metadata": {
  "ExecuteTimeLog": [
   {
    "duration": 1637,
    "start_time": "2024-01-24T14:30:54.300Z"
   },
   {
    "duration": 65,
    "start_time": "2024-01-25T09:55:32.478Z"
   },
   {
    "duration": 2200,
    "start_time": "2024-01-25T09:55:36.385Z"
   },
   {
    "duration": 387,
    "start_time": "2024-01-25T09:55:38.587Z"
   },
   {
    "duration": 158,
    "start_time": "2024-01-25T09:56:05.069Z"
   },
   {
    "duration": 24,
    "start_time": "2024-01-25T09:56:39.653Z"
   },
   {
    "duration": 15,
    "start_time": "2024-01-25T09:57:00.824Z"
   },
   {
    "duration": 12,
    "start_time": "2024-01-25T09:57:09.542Z"
   },
   {
    "duration": 10,
    "start_time": "2024-01-25T09:57:15.843Z"
   },
   {
    "duration": 85,
    "start_time": "2024-01-25T09:58:55.710Z"
   },
   {
    "duration": 160,
    "start_time": "2024-01-25T09:59:00.056Z"
   },
   {
    "duration": 26,
    "start_time": "2024-01-25T09:59:01.068Z"
   },
   {
    "duration": 20,
    "start_time": "2024-01-25T09:59:11.176Z"
   },
   {
    "duration": 1002,
    "start_time": "2024-01-25T09:59:55.378Z"
   },
   {
    "duration": 27,
    "start_time": "2024-01-25T09:59:56.382Z"
   },
   {
    "duration": 575,
    "start_time": "2024-01-25T10:00:16.889Z"
   },
   {
    "duration": 31,
    "start_time": "2024-01-25T10:00:18.394Z"
   },
   {
    "duration": 3,
    "start_time": "2024-01-25T10:00:22.627Z"
   },
   {
    "duration": 442,
    "start_time": "2024-01-25T10:00:23.107Z"
   },
   {
    "duration": 27,
    "start_time": "2024-01-25T10:00:24.238Z"
   },
   {
    "duration": 27,
    "start_time": "2024-01-25T10:00:52.598Z"
   },
   {
    "duration": 27,
    "start_time": "2024-01-25T10:00:57.306Z"
   },
   {
    "duration": 14,
    "start_time": "2024-01-25T10:01:01.541Z"
   },
   {
    "duration": 399,
    "start_time": "2024-01-25T10:01:17.893Z"
   },
   {
    "duration": 17,
    "start_time": "2024-01-25T10:01:18.440Z"
   },
   {
    "duration": 18,
    "start_time": "2024-01-25T10:01:26.254Z"
   },
   {
    "duration": 3,
    "start_time": "2024-01-25T10:01:42.447Z"
   },
   {
    "duration": 413,
    "start_time": "2024-01-25T10:01:42.452Z"
   },
   {
    "duration": 19,
    "start_time": "2024-01-25T10:01:42.867Z"
   },
   {
    "duration": 43,
    "start_time": "2024-01-25T10:01:42.888Z"
   },
   {
    "duration": 31,
    "start_time": "2024-01-25T10:01:42.934Z"
   },
   {
    "duration": 430,
    "start_time": "2024-01-25T10:02:19.914Z"
   },
   {
    "duration": 16,
    "start_time": "2024-01-25T10:02:21.949Z"
   },
   {
    "duration": 18,
    "start_time": "2024-01-25T10:02:22.619Z"
   },
   {
    "duration": 865,
    "start_time": "2024-01-25T10:02:38.122Z"
   },
   {
    "duration": 16,
    "start_time": "2024-01-25T10:02:38.989Z"
   },
   {
    "duration": 15,
    "start_time": "2024-01-25T10:02:39.112Z"
   },
   {
    "duration": 15,
    "start_time": "2024-01-25T10:03:44.212Z"
   },
   {
    "duration": 10,
    "start_time": "2024-01-25T10:05:16.617Z"
   },
   {
    "duration": 9,
    "start_time": "2024-01-25T10:05:28.202Z"
   },
   {
    "duration": 11,
    "start_time": "2024-01-25T10:06:32.732Z"
   },
   {
    "duration": 11,
    "start_time": "2024-01-25T10:06:35.115Z"
   },
   {
    "duration": 9,
    "start_time": "2024-01-25T10:06:43.567Z"
   },
   {
    "duration": 15,
    "start_time": "2024-01-25T10:06:43.917Z"
   },
   {
    "duration": 9,
    "start_time": "2024-01-25T10:06:44.091Z"
   },
   {
    "duration": 15,
    "start_time": "2024-01-25T10:06:44.684Z"
   },
   {
    "duration": 387,
    "start_time": "2024-01-25T10:33:51.158Z"
   },
   {
    "duration": 3,
    "start_time": "2024-01-25T10:33:54.676Z"
   },
   {
    "duration": 426,
    "start_time": "2024-01-25T10:33:54.680Z"
   },
   {
    "duration": 15,
    "start_time": "2024-01-25T10:33:55.108Z"
   },
   {
    "duration": 20,
    "start_time": "2024-01-25T10:33:55.125Z"
   },
   {
    "duration": 45,
    "start_time": "2024-01-25T10:33:55.147Z"
   },
   {
    "duration": 19,
    "start_time": "2024-01-25T10:33:55.193Z"
   },
   {
    "duration": 40,
    "start_time": "2024-01-25T10:33:55.213Z"
   },
   {
    "duration": 10,
    "start_time": "2024-01-25T10:33:55.255Z"
   },
   {
    "duration": 3,
    "start_time": "2024-01-25T10:37:25.445Z"
   },
   {
    "duration": 113,
    "start_time": "2024-01-25T10:37:56.135Z"
   },
   {
    "duration": 2,
    "start_time": "2024-01-25T10:42:26.984Z"
   },
   {
    "duration": 27,
    "start_time": "2024-01-25T10:43:23.097Z"
   },
   {
    "duration": 28,
    "start_time": "2024-01-25T10:43:55.411Z"
   },
   {
    "duration": 30,
    "start_time": "2024-01-25T10:44:01.700Z"
   },
   {
    "duration": 26,
    "start_time": "2024-01-25T10:44:07.324Z"
   },
   {
    "duration": 29,
    "start_time": "2024-01-25T10:44:49.058Z"
   },
   {
    "duration": 27,
    "start_time": "2024-01-25T10:45:09.419Z"
   },
   {
    "duration": 25,
    "start_time": "2024-01-25T10:45:09.906Z"
   },
   {
    "duration": 26,
    "start_time": "2024-01-25T10:45:17.438Z"
   },
   {
    "duration": 9,
    "start_time": "2024-01-25T10:51:08.826Z"
   },
   {
    "duration": 7,
    "start_time": "2024-01-25T10:51:16.097Z"
   },
   {
    "duration": 4,
    "start_time": "2024-01-25T10:51:48.961Z"
   },
   {
    "duration": 5,
    "start_time": "2024-01-25T10:51:55.960Z"
   },
   {
    "duration": 18,
    "start_time": "2024-01-25T10:52:45.282Z"
   },
   {
    "duration": 3,
    "start_time": "2024-01-25T10:52:48.239Z"
   },
   {
    "duration": 397,
    "start_time": "2024-01-25T10:52:48.244Z"
   },
   {
    "duration": 17,
    "start_time": "2024-01-25T10:52:48.643Z"
   },
   {
    "duration": 10,
    "start_time": "2024-01-25T10:52:48.665Z"
   },
   {
    "duration": 28,
    "start_time": "2024-01-25T10:52:48.677Z"
   },
   {
    "duration": 9,
    "start_time": "2024-01-25T10:52:48.707Z"
   },
   {
    "duration": 16,
    "start_time": "2024-01-25T10:52:48.718Z"
   },
   {
    "duration": 35,
    "start_time": "2024-01-25T10:52:48.736Z"
   },
   {
    "duration": 13,
    "start_time": "2024-01-25T10:52:48.772Z"
   },
   {
    "duration": 139,
    "start_time": "2024-01-25T10:52:48.786Z"
   },
   {
    "duration": 25,
    "start_time": "2024-01-25T10:52:48.927Z"
   },
   {
    "duration": 24,
    "start_time": "2024-01-25T10:52:48.965Z"
   },
   {
    "duration": 24,
    "start_time": "2024-01-25T10:52:48.991Z"
   },
   {
    "duration": 10,
    "start_time": "2024-01-25T10:52:49.016Z"
   },
   {
    "duration": 3,
    "start_time": "2024-01-25T10:53:13.292Z"
   },
   {
    "duration": 399,
    "start_time": "2024-01-25T10:53:13.296Z"
   },
   {
    "duration": 15,
    "start_time": "2024-01-25T10:53:13.697Z"
   },
   {
    "duration": 38,
    "start_time": "2024-01-25T10:53:13.714Z"
   },
   {
    "duration": 58,
    "start_time": "2024-01-25T10:53:13.754Z"
   },
   {
    "duration": 27,
    "start_time": "2024-01-25T10:53:13.813Z"
   },
   {
    "duration": 28,
    "start_time": "2024-01-25T10:53:13.841Z"
   },
   {
    "duration": 13,
    "start_time": "2024-01-25T10:53:13.871Z"
   },
   {
    "duration": 27,
    "start_time": "2024-01-25T10:53:13.886Z"
   },
   {
    "duration": 131,
    "start_time": "2024-01-25T10:53:13.915Z"
   },
   {
    "duration": 29,
    "start_time": "2024-01-25T10:53:14.047Z"
   },
   {
    "duration": 28,
    "start_time": "2024-01-25T10:53:14.078Z"
   },
   {
    "duration": 27,
    "start_time": "2024-01-25T10:53:14.107Z"
   },
   {
    "duration": 34,
    "start_time": "2024-01-25T10:53:14.136Z"
   },
   {
    "duration": 9,
    "start_time": "2024-01-25T10:54:33.767Z"
   },
   {
    "duration": 10,
    "start_time": "2024-01-26T09:12:02.422Z"
   },
   {
    "duration": 1387,
    "start_time": "2024-01-26T09:12:04.808Z"
   },
   {
    "duration": 9,
    "start_time": "2024-01-26T09:12:06.197Z"
   },
   {
    "duration": 11,
    "start_time": "2024-01-26T09:12:06.207Z"
   },
   {
    "duration": 770,
    "start_time": "2024-01-26T09:12:06.220Z"
   },
   {
    "duration": 17,
    "start_time": "2024-01-26T09:12:06.991Z"
   },
   {
    "duration": 13,
    "start_time": "2024-01-26T09:12:07.009Z"
   },
   {
    "duration": 33,
    "start_time": "2024-01-26T09:12:07.023Z"
   },
   {
    "duration": 31,
    "start_time": "2024-01-26T09:12:07.057Z"
   },
   {
    "duration": 38,
    "start_time": "2024-01-26T09:12:07.089Z"
   },
   {
    "duration": 21,
    "start_time": "2024-01-26T09:12:07.129Z"
   },
   {
    "duration": 23,
    "start_time": "2024-01-26T09:12:07.151Z"
   },
   {
    "duration": 158,
    "start_time": "2024-01-26T09:12:07.176Z"
   },
   {
    "duration": 27,
    "start_time": "2024-01-26T09:12:07.336Z"
   },
   {
    "duration": 34,
    "start_time": "2024-01-26T09:12:07.365Z"
   },
   {
    "duration": 39,
    "start_time": "2024-01-26T09:12:07.401Z"
   },
   {
    "duration": 32,
    "start_time": "2024-01-26T09:12:07.441Z"
   },
   {
    "duration": 95,
    "start_time": "2024-01-26T09:15:34.946Z"
   },
   {
    "duration": 1506,
    "start_time": "2024-01-26T09:15:50.564Z"
   },
   {
    "duration": 318,
    "start_time": "2024-01-26T09:15:57.321Z"
   },
   {
    "duration": 1362,
    "start_time": "2024-01-26T09:16:18.397Z"
   },
   {
    "duration": 1265,
    "start_time": "2024-01-26T09:16:22.588Z"
   },
   {
    "duration": 122,
    "start_time": "2024-01-26T09:16:30.606Z"
   },
   {
    "duration": 251,
    "start_time": "2024-01-26T09:17:15.965Z"
   },
   {
    "duration": 94,
    "start_time": "2024-01-26T09:17:24.197Z"
   },
   {
    "duration": 3,
    "start_time": "2024-01-26T09:18:28.582Z"
   },
   {
    "duration": 107,
    "start_time": "2024-01-26T09:18:28.587Z"
   },
   {
    "duration": 8,
    "start_time": "2024-01-26T09:18:28.696Z"
   },
   {
    "duration": 402,
    "start_time": "2024-01-26T09:18:28.706Z"
   },
   {
    "duration": 17,
    "start_time": "2024-01-26T09:18:29.109Z"
   },
   {
    "duration": 19,
    "start_time": "2024-01-26T09:18:29.128Z"
   },
   {
    "duration": 18,
    "start_time": "2024-01-26T09:18:29.148Z"
   },
   {
    "duration": 8,
    "start_time": "2024-01-26T09:18:29.167Z"
   },
   {
    "duration": 31,
    "start_time": "2024-01-26T09:18:29.178Z"
   },
   {
    "duration": 12,
    "start_time": "2024-01-26T09:18:29.212Z"
   },
   {
    "duration": 58,
    "start_time": "2024-01-26T09:18:29.225Z"
   },
   {
    "duration": 110,
    "start_time": "2024-01-26T09:18:29.284Z"
   },
   {
    "duration": 22,
    "start_time": "2024-01-26T09:18:29.395Z"
   },
   {
    "duration": 42,
    "start_time": "2024-01-26T09:18:29.418Z"
   },
   {
    "duration": 24,
    "start_time": "2024-01-26T09:18:29.461Z"
   },
   {
    "duration": 18,
    "start_time": "2024-01-26T09:18:29.486Z"
   },
   {
    "duration": 286,
    "start_time": "2024-01-26T09:18:29.505Z"
   },
   {
    "duration": 19,
    "start_time": "2024-01-26T09:18:29.793Z"
   },
   {
    "duration": 0,
    "start_time": "2024-01-26T09:18:29.814Z"
   },
   {
    "duration": 0,
    "start_time": "2024-01-26T09:18:29.815Z"
   },
   {
    "duration": 52,
    "start_time": "2024-01-26T09:18:45.111Z"
   },
   {
    "duration": 7,
    "start_time": "2024-01-26T09:18:45.165Z"
   },
   {
    "duration": 16,
    "start_time": "2024-01-26T09:18:45.173Z"
   },
   {
    "duration": 384,
    "start_time": "2024-01-26T09:18:45.190Z"
   },
   {
    "duration": 16,
    "start_time": "2024-01-26T09:18:45.576Z"
   },
   {
    "duration": 14,
    "start_time": "2024-01-26T09:18:45.593Z"
   },
   {
    "duration": 33,
    "start_time": "2024-01-26T09:18:45.608Z"
   },
   {
    "duration": 12,
    "start_time": "2024-01-26T09:18:45.642Z"
   },
   {
    "duration": 77,
    "start_time": "2024-01-26T09:18:45.655Z"
   },
   {
    "duration": 10,
    "start_time": "2024-01-26T09:18:45.734Z"
   },
   {
    "duration": 15,
    "start_time": "2024-01-26T09:18:45.745Z"
   },
   {
    "duration": 117,
    "start_time": "2024-01-26T09:18:45.761Z"
   },
   {
    "duration": 24,
    "start_time": "2024-01-26T09:18:45.879Z"
   },
   {
    "duration": 22,
    "start_time": "2024-01-26T09:18:45.905Z"
   },
   {
    "duration": 24,
    "start_time": "2024-01-26T09:18:45.944Z"
   },
   {
    "duration": 34,
    "start_time": "2024-01-26T09:18:45.969Z"
   },
   {
    "duration": 280,
    "start_time": "2024-01-26T09:18:46.005Z"
   },
   {
    "duration": 110,
    "start_time": "2024-01-26T09:18:46.286Z"
   },
   {
    "duration": 259,
    "start_time": "2024-01-26T09:18:46.398Z"
   },
   {
    "duration": 101,
    "start_time": "2024-01-26T09:18:46.658Z"
   },
   {
    "duration": 9,
    "start_time": "2024-01-26T09:19:56.942Z"
   },
   {
    "duration": 3,
    "start_time": "2024-01-26T09:19:59.212Z"
   },
   {
    "duration": 383,
    "start_time": "2024-01-26T09:19:59.529Z"
   },
   {
    "duration": 15,
    "start_time": "2024-01-26T09:20:00.013Z"
   },
   {
    "duration": 12,
    "start_time": "2024-01-26T09:20:00.181Z"
   },
   {
    "duration": 15,
    "start_time": "2024-01-26T09:20:00.513Z"
   },
   {
    "duration": 8,
    "start_time": "2024-01-26T09:20:00.679Z"
   },
   {
    "duration": 20,
    "start_time": "2024-01-26T09:20:01.001Z"
   },
   {
    "duration": 25,
    "start_time": "2024-01-26T09:20:01.163Z"
   },
   {
    "duration": 3,
    "start_time": "2024-01-26T09:20:02.145Z"
   },
   {
    "duration": 730,
    "start_time": "2024-01-26T09:20:02.476Z"
   },
   {
    "duration": 723,
    "start_time": "2024-01-26T09:20:03.208Z"
   },
   {
    "duration": 99,
    "start_time": "2024-01-26T09:20:03.932Z"
   },
   {
    "duration": 110,
    "start_time": "2024-01-26T09:20:04.033Z"
   },
   {
    "duration": 65,
    "start_time": "2024-01-26T09:20:04.145Z"
   },
   {
    "duration": 351,
    "start_time": "2024-01-26T09:20:05.069Z"
   },
   {
    "duration": 126,
    "start_time": "2024-01-26T09:20:05.422Z"
   },
   {
    "duration": 320,
    "start_time": "2024-01-26T09:20:05.787Z"
   },
   {
    "duration": 103,
    "start_time": "2024-01-26T09:20:06.109Z"
   },
   {
    "duration": 93,
    "start_time": "2024-01-26T09:20:24.609Z"
   },
   {
    "duration": 243,
    "start_time": "2024-01-26T09:20:25.887Z"
   },
   {
    "duration": 101,
    "start_time": "2024-01-26T09:20:51.863Z"
   },
   {
    "duration": 265,
    "start_time": "2024-01-26T09:21:15.320Z"
   },
   {
    "duration": 350,
    "start_time": "2024-01-26T09:22:03.764Z"
   },
   {
    "duration": 109,
    "start_time": "2024-01-26T09:22:26.954Z"
   },
   {
    "duration": 243,
    "start_time": "2024-01-26T09:23:35.619Z"
   },
   {
    "duration": 110,
    "start_time": "2024-01-26T09:23:49.459Z"
   },
   {
    "duration": 244,
    "start_time": "2024-01-26T09:24:14.936Z"
   },
   {
    "duration": 103,
    "start_time": "2024-01-26T09:24:23.522Z"
   },
   {
    "duration": 247,
    "start_time": "2024-01-26T09:24:52.090Z"
   },
   {
    "duration": 184,
    "start_time": "2024-01-26T09:25:09.847Z"
   },
   {
    "duration": 260,
    "start_time": "2024-01-26T09:25:30.516Z"
   },
   {
    "duration": 113,
    "start_time": "2024-01-26T09:25:42.083Z"
   },
   {
    "duration": 262,
    "start_time": "2024-01-26T09:25:57.985Z"
   },
   {
    "duration": 122,
    "start_time": "2024-01-26T09:25:58.562Z"
   },
   {
    "duration": 263,
    "start_time": "2024-01-26T09:26:16.243Z"
   },
   {
    "duration": 100,
    "start_time": "2024-01-26T09:26:16.614Z"
   },
   {
    "duration": 392,
    "start_time": "2024-01-26T09:26:19.093Z"
   },
   {
    "duration": 139,
    "start_time": "2024-01-26T09:26:19.487Z"
   },
   {
    "duration": 283,
    "start_time": "2024-01-26T09:27:01.646Z"
   },
   {
    "duration": 296,
    "start_time": "2024-01-26T09:27:05.689Z"
   },
   {
    "duration": 130,
    "start_time": "2024-01-26T09:27:15.454Z"
   },
   {
    "duration": 260,
    "start_time": "2024-01-26T09:27:42.578Z"
   },
   {
    "duration": 286,
    "start_time": "2024-01-26T09:27:48.432Z"
   },
   {
    "duration": 217,
    "start_time": "2024-01-26T09:27:58.699Z"
   },
   {
    "duration": 33,
    "start_time": "2024-01-26T10:37:34.352Z"
   },
   {
    "duration": 33,
    "start_time": "2024-01-26T10:38:12.341Z"
   },
   {
    "duration": 31,
    "start_time": "2024-01-26T10:38:27.592Z"
   },
   {
    "duration": 31,
    "start_time": "2024-01-26T10:38:31.095Z"
   },
   {
    "duration": 255,
    "start_time": "2024-01-26T10:41:21.111Z"
   },
   {
    "duration": 104,
    "start_time": "2024-01-26T10:41:32.172Z"
   },
   {
    "duration": 264,
    "start_time": "2024-01-26T10:43:42.699Z"
   },
   {
    "duration": 114,
    "start_time": "2024-01-26T10:43:50.249Z"
   },
   {
    "duration": 4,
    "start_time": "2024-01-26T10:47:41.190Z"
   },
   {
    "duration": 16,
    "start_time": "2024-01-26T10:48:08.526Z"
   },
   {
    "duration": 3,
    "start_time": "2024-01-26T10:48:32.594Z"
   },
   {
    "duration": 3,
    "start_time": "2024-01-26T10:48:36.187Z"
   },
   {
    "duration": 58,
    "start_time": "2024-01-26T10:48:36.191Z"
   },
   {
    "duration": 11,
    "start_time": "2024-01-26T10:48:36.250Z"
   },
   {
    "duration": 359,
    "start_time": "2024-01-26T10:48:36.263Z"
   },
   {
    "duration": 21,
    "start_time": "2024-01-26T10:48:36.624Z"
   },
   {
    "duration": 11,
    "start_time": "2024-01-26T10:48:36.647Z"
   },
   {
    "duration": 22,
    "start_time": "2024-01-26T10:48:36.660Z"
   },
   {
    "duration": 7,
    "start_time": "2024-01-26T10:48:36.684Z"
   },
   {
    "duration": 36,
    "start_time": "2024-01-26T10:48:36.692Z"
   },
   {
    "duration": 9,
    "start_time": "2024-01-26T10:48:36.730Z"
   },
   {
    "duration": 15,
    "start_time": "2024-01-26T10:48:36.740Z"
   },
   {
    "duration": 128,
    "start_time": "2024-01-26T10:48:36.756Z"
   },
   {
    "duration": 26,
    "start_time": "2024-01-26T10:48:36.885Z"
   },
   {
    "duration": 32,
    "start_time": "2024-01-26T10:48:36.914Z"
   },
   {
    "duration": 48,
    "start_time": "2024-01-26T10:48:36.947Z"
   },
   {
    "duration": 22,
    "start_time": "2024-01-26T10:48:36.996Z"
   },
   {
    "duration": 68,
    "start_time": "2024-01-26T10:48:37.019Z"
   },
   {
    "duration": 327,
    "start_time": "2024-01-26T10:48:37.088Z"
   },
   {
    "duration": 119,
    "start_time": "2024-01-26T10:48:37.416Z"
   },
   {
    "duration": 328,
    "start_time": "2024-01-26T10:48:37.536Z"
   },
   {
    "duration": 98,
    "start_time": "2024-01-26T10:48:37.866Z"
   },
   {
    "duration": 251,
    "start_time": "2024-01-26T10:48:37.965Z"
   },
   {
    "duration": 110,
    "start_time": "2024-01-26T10:48:38.218Z"
   },
   {
    "duration": 248,
    "start_time": "2024-01-26T10:48:38.329Z"
   },
   {
    "duration": 108,
    "start_time": "2024-01-26T10:48:38.579Z"
   },
   {
    "duration": 30,
    "start_time": "2024-01-26T10:48:38.689Z"
   },
   {
    "duration": 246,
    "start_time": "2024-01-26T10:48:38.720Z"
   },
   {
    "duration": 104,
    "start_time": "2024-01-26T10:48:38.967Z"
   },
   {
    "duration": 334,
    "start_time": "2024-01-26T10:48:39.073Z"
   },
   {
    "duration": 110,
    "start_time": "2024-01-26T10:48:39.409Z"
   },
   {
    "duration": 244,
    "start_time": "2024-01-26T10:48:39.520Z"
   },
   {
    "duration": 107,
    "start_time": "2024-01-26T10:48:39.765Z"
   },
   {
    "duration": 235,
    "start_time": "2024-01-26T10:48:39.873Z"
   },
   {
    "duration": 110,
    "start_time": "2024-01-26T10:48:40.109Z"
   },
   {
    "duration": 37,
    "start_time": "2024-01-26T10:48:40.220Z"
   },
   {
    "duration": 244,
    "start_time": "2024-01-26T10:48:40.265Z"
   },
   {
    "duration": 190,
    "start_time": "2024-01-26T10:48:40.510Z"
   },
   {
    "duration": 248,
    "start_time": "2024-01-26T10:48:40.701Z"
   },
   {
    "duration": 117,
    "start_time": "2024-01-26T10:48:40.950Z"
   },
   {
    "duration": 237,
    "start_time": "2024-01-26T10:48:41.068Z"
   },
   {
    "duration": 106,
    "start_time": "2024-01-26T10:48:41.308Z"
   },
   {
    "duration": 252,
    "start_time": "2024-01-26T10:48:41.415Z"
   },
   {
    "duration": 109,
    "start_time": "2024-01-26T10:48:41.668Z"
   },
   {
    "duration": 130,
    "start_time": "2024-01-26T10:48:41.779Z"
   },
   {
    "duration": 9,
    "start_time": "2024-01-26T10:48:51.754Z"
   },
   {
    "duration": 117,
    "start_time": "2024-01-26T10:49:28.519Z"
   },
   {
    "duration": 475,
    "start_time": "2024-01-26T10:50:36.225Z"
   },
   {
    "duration": 111,
    "start_time": "2024-01-26T10:51:20.225Z"
   },
   {
    "duration": 114,
    "start_time": "2024-01-26T10:51:38.226Z"
   },
   {
    "duration": 114,
    "start_time": "2024-01-26T10:51:56.194Z"
   },
   {
    "duration": 126,
    "start_time": "2024-01-26T10:52:07.637Z"
   },
   {
    "duration": 11,
    "start_time": "2024-01-26T11:00:00.663Z"
   },
   {
    "duration": 3155,
    "start_time": "2024-01-26T11:00:43.995Z"
   },
   {
    "duration": 54,
    "start_time": "2024-01-26T11:01:32.976Z"
   },
   {
    "duration": 3,
    "start_time": "2024-01-26T11:01:53.829Z"
   },
   {
    "duration": 2253,
    "start_time": "2024-01-26T11:01:55.913Z"
   },
   {
    "duration": 4,
    "start_time": "2024-01-26T11:01:58.168Z"
   },
   {
    "duration": 36,
    "start_time": "2024-01-26T11:01:58.173Z"
   },
   {
    "duration": 43,
    "start_time": "2024-01-26T11:01:58.212Z"
   },
   {
    "duration": 404,
    "start_time": "2024-01-26T11:01:58.257Z"
   },
   {
    "duration": 15,
    "start_time": "2024-01-26T11:01:58.662Z"
   },
   {
    "duration": 38,
    "start_time": "2024-01-26T11:01:58.678Z"
   },
   {
    "duration": 41,
    "start_time": "2024-01-26T11:01:58.717Z"
   },
   {
    "duration": 24,
    "start_time": "2024-01-26T11:01:58.759Z"
   },
   {
    "duration": 38,
    "start_time": "2024-01-26T11:01:58.785Z"
   },
   {
    "duration": 30,
    "start_time": "2024-01-26T11:01:58.825Z"
   },
   {
    "duration": 50,
    "start_time": "2024-01-26T11:01:58.856Z"
   },
   {
    "duration": 126,
    "start_time": "2024-01-26T11:01:58.908Z"
   },
   {
    "duration": 25,
    "start_time": "2024-01-26T11:01:59.035Z"
   },
   {
    "duration": 36,
    "start_time": "2024-01-26T11:01:59.061Z"
   },
   {
    "duration": 43,
    "start_time": "2024-01-26T11:01:59.098Z"
   },
   {
    "duration": 19,
    "start_time": "2024-01-26T11:01:59.142Z"
   },
   {
    "duration": 63,
    "start_time": "2024-01-26T11:01:59.162Z"
   },
   {
    "duration": 352,
    "start_time": "2024-01-26T11:01:59.227Z"
   },
   {
    "duration": 116,
    "start_time": "2024-01-26T11:01:59.581Z"
   },
   {
    "duration": 240,
    "start_time": "2024-01-26T11:01:59.698Z"
   },
   {
    "duration": 109,
    "start_time": "2024-01-26T11:01:59.939Z"
   },
   {
    "duration": 249,
    "start_time": "2024-01-26T11:02:00.049Z"
   },
   {
    "duration": 110,
    "start_time": "2024-01-26T11:02:00.300Z"
   },
   {
    "duration": 267,
    "start_time": "2024-01-26T11:02:00.412Z"
   },
   {
    "duration": 118,
    "start_time": "2024-01-26T11:02:00.681Z"
   },
   {
    "duration": 32,
    "start_time": "2024-01-26T11:02:00.800Z"
   },
   {
    "duration": 349,
    "start_time": "2024-01-26T11:02:00.844Z"
   },
   {
    "duration": 111,
    "start_time": "2024-01-26T11:02:01.194Z"
   },
   {
    "duration": 251,
    "start_time": "2024-01-26T11:02:01.307Z"
   },
   {
    "duration": 107,
    "start_time": "2024-01-26T11:02:01.559Z"
   },
   {
    "duration": 256,
    "start_time": "2024-01-26T11:02:01.668Z"
   },
   {
    "duration": 104,
    "start_time": "2024-01-26T11:02:01.925Z"
   },
   {
    "duration": 349,
    "start_time": "2024-01-26T11:02:02.030Z"
   },
   {
    "duration": 195,
    "start_time": "2024-01-26T11:02:02.380Z"
   },
   {
    "duration": 640,
    "start_time": "2024-01-26T11:02:02.576Z"
   },
   {
    "duration": 1033,
    "start_time": "2024-01-26T11:02:03.218Z"
   },
   {
    "duration": 117,
    "start_time": "2024-01-26T11:02:04.253Z"
   },
   {
    "duration": 354,
    "start_time": "2024-01-26T11:02:04.372Z"
   },
   {
    "duration": 106,
    "start_time": "2024-01-26T11:02:04.727Z"
   },
   {
    "duration": 237,
    "start_time": "2024-01-26T11:02:04.835Z"
   },
   {
    "duration": 111,
    "start_time": "2024-01-26T11:02:05.073Z"
   },
   {
    "duration": 425,
    "start_time": "2024-01-26T11:02:05.185Z"
   },
   {
    "duration": 247,
    "start_time": "2024-01-26T11:02:05.611Z"
   },
   {
    "duration": 170,
    "start_time": "2024-01-26T11:02:05.859Z"
   },
   {
    "duration": 570,
    "start_time": "2024-01-26T11:02:06.031Z"
   },
   {
    "duration": 10,
    "start_time": "2024-01-26T11:02:49.720Z"
   },
   {
    "duration": 535,
    "start_time": "2024-01-26T11:02:55.055Z"
   },
   {
    "duration": 553,
    "start_time": "2024-01-26T11:03:00.795Z"
   },
   {
    "duration": 564,
    "start_time": "2024-01-26T11:03:22.371Z"
   },
   {
    "duration": 3,
    "start_time": "2024-01-26T11:06:07.149Z"
   },
   {
    "duration": 2,
    "start_time": "2024-01-26T11:06:37.615Z"
   },
   {
    "duration": 541,
    "start_time": "2024-01-26T11:06:49.868Z"
   },
   {
    "duration": 3,
    "start_time": "2024-01-26T11:07:52.984Z"
   },
   {
    "duration": 518,
    "start_time": "2024-01-26T11:07:53.146Z"
   },
   {
    "duration": 586,
    "start_time": "2024-01-26T11:09:01.267Z"
   },
   {
    "duration": 518,
    "start_time": "2024-01-26T11:09:29.464Z"
   },
   {
    "duration": 9,
    "start_time": "2024-01-26T22:38:41.292Z"
   },
   {
    "duration": 264,
    "start_time": "2024-01-26T22:38:59.034Z"
   },
   {
    "duration": 10,
    "start_time": "2024-01-26T22:38:59.572Z"
   },
   {
    "duration": 3,
    "start_time": "2024-01-26T22:38:59.929Z"
   },
   {
    "duration": 7,
    "start_time": "2024-01-26T22:39:00.494Z"
   },
   {
    "duration": 3250,
    "start_time": "2024-01-26T22:39:12.830Z"
   },
   {
    "duration": 1386,
    "start_time": "2024-01-26T22:39:16.083Z"
   },
   {
    "duration": 10,
    "start_time": "2024-01-26T22:39:19.961Z"
   },
   {
    "duration": 3,
    "start_time": "2024-01-26T22:39:20.310Z"
   },
   {
    "duration": 4,
    "start_time": "2024-01-26T22:39:20.676Z"
   },
   {
    "duration": 779,
    "start_time": "2024-01-26T22:39:21.061Z"
   },
   {
    "duration": 19,
    "start_time": "2024-01-26T22:39:21.842Z"
   },
   {
    "duration": 11,
    "start_time": "2024-01-26T22:39:21.900Z"
   },
   {
    "duration": 16,
    "start_time": "2024-01-26T22:39:22.278Z"
   },
   {
    "duration": 56,
    "start_time": "2024-01-26T22:40:01.092Z"
   },
   {
    "duration": 72,
    "start_time": "2024-01-26T22:44:55.780Z"
   },
   {
    "duration": 32,
    "start_time": "2024-01-26T22:45:17.976Z"
   },
   {
    "duration": 23,
    "start_time": "2024-01-26T22:45:46.514Z"
   },
   {
    "duration": 2374,
    "start_time": "2024-01-26T22:45:48.009Z"
   },
   {
    "duration": 6,
    "start_time": "2024-01-26T22:45:50.386Z"
   },
   {
    "duration": 14,
    "start_time": "2024-01-26T22:45:50.393Z"
   },
   {
    "duration": 27,
    "start_time": "2024-01-26T22:45:50.409Z"
   },
   {
    "duration": 15,
    "start_time": "2024-01-26T22:45:50.438Z"
   },
   {
    "duration": 421,
    "start_time": "2024-01-26T22:45:50.455Z"
   },
   {
    "duration": 16,
    "start_time": "2024-01-26T22:45:50.878Z"
   },
   {
    "duration": 9,
    "start_time": "2024-01-26T22:45:50.895Z"
   },
   {
    "duration": 25,
    "start_time": "2024-01-26T22:45:50.905Z"
   },
   {
    "duration": 8,
    "start_time": "2024-01-26T22:45:50.932Z"
   },
   {
    "duration": 33,
    "start_time": "2024-01-26T22:45:50.941Z"
   },
   {
    "duration": 11,
    "start_time": "2024-01-26T22:45:50.976Z"
   },
   {
    "duration": 3,
    "start_time": "2024-01-26T22:45:50.988Z"
   },
   {
    "duration": 150,
    "start_time": "2024-01-26T22:45:50.994Z"
   },
   {
    "duration": 37,
    "start_time": "2024-01-26T22:45:51.146Z"
   },
   {
    "duration": 24,
    "start_time": "2024-01-26T22:45:51.184Z"
   },
   {
    "duration": 25,
    "start_time": "2024-01-26T22:45:51.210Z"
   },
   {
    "duration": 44,
    "start_time": "2024-01-26T22:45:51.236Z"
   },
   {
    "duration": 54,
    "start_time": "2024-01-26T22:45:51.282Z"
   },
   {
    "duration": 308,
    "start_time": "2024-01-26T22:45:51.337Z"
   },
   {
    "duration": 137,
    "start_time": "2024-01-26T22:45:51.647Z"
   },
   {
    "duration": 360,
    "start_time": "2024-01-26T22:45:51.786Z"
   },
   {
    "duration": 119,
    "start_time": "2024-01-26T22:45:52.148Z"
   },
   {
    "duration": 286,
    "start_time": "2024-01-26T22:45:52.269Z"
   },
   {
    "duration": 138,
    "start_time": "2024-01-26T22:45:52.557Z"
   },
   {
    "duration": 317,
    "start_time": "2024-01-26T22:45:52.697Z"
   },
   {
    "duration": 127,
    "start_time": "2024-01-26T22:45:53.016Z"
   },
   {
    "duration": 47,
    "start_time": "2024-01-26T22:45:53.144Z"
   },
   {
    "duration": 275,
    "start_time": "2024-01-26T22:45:53.193Z"
   },
   {
    "duration": 123,
    "start_time": "2024-01-26T22:45:53.469Z"
   },
   {
    "duration": 368,
    "start_time": "2024-01-26T22:45:53.594Z"
   },
   {
    "duration": 124,
    "start_time": "2024-01-26T22:45:53.964Z"
   },
   {
    "duration": 295,
    "start_time": "2024-01-26T22:45:54.090Z"
   },
   {
    "duration": 117,
    "start_time": "2024-01-26T22:45:54.387Z"
   },
   {
    "duration": 287,
    "start_time": "2024-01-26T22:45:54.506Z"
   },
   {
    "duration": 125,
    "start_time": "2024-01-26T22:45:54.795Z"
   },
   {
    "duration": 34,
    "start_time": "2024-01-26T22:45:54.922Z"
   },
   {
    "duration": 287,
    "start_time": "2024-01-26T22:45:54.966Z"
   },
   {
    "duration": 231,
    "start_time": "2024-01-26T22:45:55.254Z"
   },
   {
    "duration": 301,
    "start_time": "2024-01-26T22:45:55.487Z"
   },
   {
    "duration": 151,
    "start_time": "2024-01-26T22:45:55.792Z"
   },
   {
    "duration": 293,
    "start_time": "2024-01-26T22:45:55.945Z"
   },
   {
    "duration": 118,
    "start_time": "2024-01-26T22:45:56.239Z"
   },
   {
    "duration": 290,
    "start_time": "2024-01-26T22:45:56.358Z"
   },
   {
    "duration": 143,
    "start_time": "2024-01-26T22:45:56.649Z"
   },
   {
    "duration": 3,
    "start_time": "2024-01-26T22:45:56.794Z"
   },
   {
    "duration": 672,
    "start_time": "2024-01-26T22:45:56.799Z"
   },
   {
    "duration": 664,
    "start_time": "2024-01-26T22:45:57.472Z"
   },
   {
    "duration": 583,
    "start_time": "2024-01-26T22:45:58.138Z"
   },
   {
    "duration": 25,
    "start_time": "2024-01-26T22:45:58.723Z"
   },
   {
    "duration": 404,
    "start_time": "2024-01-26T22:46:10.165Z"
   },
   {
    "duration": 381,
    "start_time": "2024-01-26T22:46:18.895Z"
   },
   {
    "duration": 260,
    "start_time": "2024-01-26T22:46:23.414Z"
   },
   {
    "duration": 523,
    "start_time": "2024-01-26T22:49:19.644Z"
   },
   {
    "duration": 357,
    "start_time": "2024-01-26T22:49:31.910Z"
   },
   {
    "duration": 444,
    "start_time": "2024-01-26T22:50:42.323Z"
   },
   {
    "duration": 261,
    "start_time": "2024-01-26T22:50:54.011Z"
   },
   {
    "duration": 4,
    "start_time": "2024-01-26T22:51:39.401Z"
   },
   {
    "duration": 43,
    "start_time": "2024-01-27T08:31:47.771Z"
   },
   {
    "duration": 3334,
    "start_time": "2024-01-27T08:31:50.623Z"
   },
   {
    "duration": 1540,
    "start_time": "2024-01-27T08:31:53.959Z"
   },
   {
    "duration": 9,
    "start_time": "2024-01-27T08:31:55.500Z"
   },
   {
    "duration": 21,
    "start_time": "2024-01-27T08:31:55.511Z"
   },
   {
    "duration": 4,
    "start_time": "2024-01-27T08:31:55.534Z"
   },
   {
    "duration": 767,
    "start_time": "2024-01-27T08:31:55.539Z"
   },
   {
    "duration": 17,
    "start_time": "2024-01-27T08:31:56.308Z"
   },
   {
    "duration": 10,
    "start_time": "2024-01-27T08:31:56.326Z"
   },
   {
    "duration": 20,
    "start_time": "2024-01-27T08:31:56.337Z"
   },
   {
    "duration": 8,
    "start_time": "2024-01-27T08:31:56.359Z"
   },
   {
    "duration": 19,
    "start_time": "2024-01-27T08:31:56.368Z"
   },
   {
    "duration": 10,
    "start_time": "2024-01-27T08:31:56.389Z"
   },
   {
    "duration": 14,
    "start_time": "2024-01-27T08:31:56.401Z"
   },
   {
    "duration": 147,
    "start_time": "2024-01-27T08:31:56.416Z"
   },
   {
    "duration": 28,
    "start_time": "2024-01-27T08:31:56.564Z"
   },
   {
    "duration": 24,
    "start_time": "2024-01-27T08:31:56.593Z"
   },
   {
    "duration": 50,
    "start_time": "2024-01-27T08:31:56.619Z"
   },
   {
    "duration": 22,
    "start_time": "2024-01-27T08:31:56.671Z"
   },
   {
    "duration": 39,
    "start_time": "2024-01-27T08:31:56.694Z"
   },
   {
    "duration": 320,
    "start_time": "2024-01-27T08:31:56.734Z"
   },
   {
    "duration": 131,
    "start_time": "2024-01-27T08:31:57.055Z"
   },
   {
    "duration": 335,
    "start_time": "2024-01-27T08:31:57.188Z"
   },
   {
    "duration": 102,
    "start_time": "2024-01-27T08:31:57.525Z"
   },
   {
    "duration": 278,
    "start_time": "2024-01-27T08:31:57.628Z"
   },
   {
    "duration": 119,
    "start_time": "2024-01-27T08:31:57.908Z"
   },
   {
    "duration": 291,
    "start_time": "2024-01-27T08:31:58.028Z"
   },
   {
    "duration": 132,
    "start_time": "2024-01-27T08:31:58.320Z"
   },
   {
    "duration": 34,
    "start_time": "2024-01-27T08:31:58.455Z"
   },
   {
    "duration": 256,
    "start_time": "2024-01-27T08:31:58.491Z"
   },
   {
    "duration": 117,
    "start_time": "2024-01-27T08:31:58.751Z"
   },
   {
    "duration": 349,
    "start_time": "2024-01-27T08:31:58.869Z"
   },
   {
    "duration": 107,
    "start_time": "2024-01-27T08:31:59.219Z"
   },
   {
    "duration": 277,
    "start_time": "2024-01-27T08:31:59.327Z"
   },
   {
    "duration": 110,
    "start_time": "2024-01-27T08:31:59.606Z"
   },
   {
    "duration": 258,
    "start_time": "2024-01-27T08:31:59.717Z"
   },
   {
    "duration": 116,
    "start_time": "2024-01-27T08:31:59.976Z"
   },
   {
    "duration": 33,
    "start_time": "2024-01-27T08:32:00.093Z"
   },
   {
    "duration": 299,
    "start_time": "2024-01-27T08:32:00.128Z"
   },
   {
    "duration": 225,
    "start_time": "2024-01-27T08:32:00.429Z"
   },
   {
    "duration": 388,
    "start_time": "2024-01-27T08:32:00.656Z"
   },
   {
    "duration": 122,
    "start_time": "2024-01-27T08:32:01.046Z"
   },
   {
    "duration": 272,
    "start_time": "2024-01-27T08:32:01.169Z"
   },
   {
    "duration": 116,
    "start_time": "2024-01-27T08:32:01.443Z"
   },
   {
    "duration": 275,
    "start_time": "2024-01-27T08:32:01.560Z"
   },
   {
    "duration": 129,
    "start_time": "2024-01-27T08:32:01.837Z"
   },
   {
    "duration": 3,
    "start_time": "2024-01-27T08:32:01.967Z"
   },
   {
    "duration": 641,
    "start_time": "2024-01-27T08:32:01.971Z"
   },
   {
    "duration": 671,
    "start_time": "2024-01-27T08:32:02.614Z"
   },
   {
    "duration": 590,
    "start_time": "2024-01-27T08:32:03.287Z"
   },
   {
    "duration": 376,
    "start_time": "2024-01-27T08:32:03.878Z"
   },
   {
    "duration": 485,
    "start_time": "2024-01-27T08:36:18.416Z"
   },
   {
    "duration": 419,
    "start_time": "2024-01-27T08:36:38.033Z"
   },
   {
    "duration": 392,
    "start_time": "2024-01-27T08:37:27.766Z"
   },
   {
    "duration": 2,
    "start_time": "2024-01-27T08:50:57.969Z"
   },
   {
    "duration": 3,
    "start_time": "2024-01-27T08:52:57.442Z"
   },
   {
    "duration": 3,
    "start_time": "2024-01-27T08:53:03.133Z"
   },
   {
    "duration": 4,
    "start_time": "2024-01-27T08:53:09.153Z"
   },
   {
    "duration": 97,
    "start_time": "2024-01-27T08:53:27.439Z"
   },
   {
    "duration": 3,
    "start_time": "2024-01-27T08:53:31.023Z"
   },
   {
    "duration": 3,
    "start_time": "2024-01-27T08:54:12.212Z"
   },
   {
    "duration": 9,
    "start_time": "2024-01-27T08:59:27.763Z"
   },
   {
    "duration": 13,
    "start_time": "2024-01-27T08:59:40.970Z"
   },
   {
    "duration": 17,
    "start_time": "2024-01-27T09:01:03.473Z"
   },
   {
    "duration": 9,
    "start_time": "2024-01-27T09:01:19.738Z"
   },
   {
    "duration": 11,
    "start_time": "2024-01-27T09:03:47.723Z"
   },
   {
    "duration": 15,
    "start_time": "2024-01-27T09:04:15.638Z"
   },
   {
    "duration": 19,
    "start_time": "2024-01-27T09:05:22.111Z"
   },
   {
    "duration": 20,
    "start_time": "2024-01-27T09:05:39.659Z"
   },
   {
    "duration": 20,
    "start_time": "2024-01-27T09:05:43.884Z"
   },
   {
    "duration": 7,
    "start_time": "2024-01-27T09:06:21.071Z"
   },
   {
    "duration": 15,
    "start_time": "2024-01-27T09:06:22.582Z"
   },
   {
    "duration": 19,
    "start_time": "2024-01-27T09:09:16.666Z"
   },
   {
    "duration": 27,
    "start_time": "2024-01-27T09:10:03.952Z"
   },
   {
    "duration": 15,
    "start_time": "2024-01-27T09:13:18.572Z"
   },
   {
    "duration": 8,
    "start_time": "2024-01-27T09:13:20.551Z"
   },
   {
    "duration": 15,
    "start_time": "2024-01-27T09:13:42.075Z"
   },
   {
    "duration": 8,
    "start_time": "2024-01-27T09:13:42.609Z"
   },
   {
    "duration": 26,
    "start_time": "2024-01-27T09:13:45.694Z"
   },
   {
    "duration": 25,
    "start_time": "2024-01-27T09:14:34.374Z"
   },
   {
    "duration": 25,
    "start_time": "2024-01-27T09:15:12.634Z"
   },
   {
    "duration": 7,
    "start_time": "2024-01-27T09:15:57.123Z"
   },
   {
    "duration": 28,
    "start_time": "2024-01-27T09:16:23.582Z"
   },
   {
    "duration": 27,
    "start_time": "2024-01-27T09:17:19.290Z"
   },
   {
    "duration": 26,
    "start_time": "2024-01-27T09:18:03.074Z"
   },
   {
    "duration": 4,
    "start_time": "2024-01-27T09:18:38.191Z"
   },
   {
    "duration": 79,
    "start_time": "2024-01-27T09:21:18.723Z"
   },
   {
    "duration": 130,
    "start_time": "2024-01-27T09:21:39.906Z"
   },
   {
    "duration": 13,
    "start_time": "2024-01-27T09:21:54.981Z"
   },
   {
    "duration": 5,
    "start_time": "2024-01-27T09:22:21.542Z"
   },
   {
    "duration": 5,
    "start_time": "2024-01-27T09:22:23.500Z"
   },
   {
    "duration": 13,
    "start_time": "2024-01-27T09:22:23.950Z"
   },
   {
    "duration": 5,
    "start_time": "2024-01-27T09:23:46.836Z"
   },
   {
    "duration": 19,
    "start_time": "2024-01-27T09:23:47.186Z"
   },
   {
    "duration": 5,
    "start_time": "2024-01-27T09:24:36.218Z"
   },
   {
    "duration": 20,
    "start_time": "2024-01-27T09:24:36.790Z"
   },
   {
    "duration": 5,
    "start_time": "2024-01-27T09:25:27.290Z"
   },
   {
    "duration": 33,
    "start_time": "2024-01-27T09:25:27.754Z"
   },
   {
    "duration": 5,
    "start_time": "2024-01-27T09:25:49.722Z"
   },
   {
    "duration": 4,
    "start_time": "2024-01-27T09:27:34.657Z"
   },
   {
    "duration": 3,
    "start_time": "2024-01-27T09:27:50.883Z"
   },
   {
    "duration": 8,
    "start_time": "2024-01-27T09:27:51.276Z"
   },
   {
    "duration": 20,
    "start_time": "2024-01-27T09:29:54.974Z"
   },
   {
    "duration": 22,
    "start_time": "2024-01-27T09:30:39.220Z"
   },
   {
    "duration": 20,
    "start_time": "2024-01-27T09:30:50.456Z"
   },
   {
    "duration": 19,
    "start_time": "2024-01-27T09:31:30.800Z"
   },
   {
    "duration": 20,
    "start_time": "2024-01-27T09:31:37.458Z"
   },
   {
    "duration": 13,
    "start_time": "2024-01-27T09:33:02.395Z"
   },
   {
    "duration": 434,
    "start_time": "2024-01-27T09:33:56.559Z"
   },
   {
    "duration": 1261,
    "start_time": "2024-01-27T09:35:11.846Z"
   },
   {
    "duration": 15,
    "start_time": "2024-01-27T09:37:08.384Z"
   },
   {
    "duration": 1263,
    "start_time": "2024-01-27T09:37:20.983Z"
   },
   {
    "duration": 1135,
    "start_time": "2024-01-27T09:39:05.072Z"
   },
   {
    "duration": 1242,
    "start_time": "2024-01-27T09:39:33.185Z"
   },
   {
    "duration": 12,
    "start_time": "2024-01-27T09:40:02.388Z"
   },
   {
    "duration": 17,
    "start_time": "2024-01-27T09:42:46.546Z"
   },
   {
    "duration": 1354,
    "start_time": "2024-01-27T09:43:12.953Z"
   },
   {
    "duration": 1312,
    "start_time": "2024-01-27T09:43:39.571Z"
   },
   {
    "duration": 131,
    "start_time": "2024-01-27T09:46:39.671Z"
   },
   {
    "duration": 78,
    "start_time": "2024-01-27T09:46:47.838Z"
   },
   {
    "duration": 72,
    "start_time": "2024-01-27T09:47:13.334Z"
   },
   {
    "duration": 74,
    "start_time": "2024-01-27T09:47:17.769Z"
   },
   {
    "duration": 101,
    "start_time": "2024-01-27T09:47:24.680Z"
   },
   {
    "duration": 84,
    "start_time": "2024-01-27T09:47:54.747Z"
   },
   {
    "duration": 173,
    "start_time": "2024-01-27T09:48:08.831Z"
   },
   {
    "duration": 86,
    "start_time": "2024-01-27T09:48:40.073Z"
   },
   {
    "duration": 498,
    "start_time": "2024-01-27T09:48:52.456Z"
   },
   {
    "duration": 472,
    "start_time": "2024-01-27T09:49:20.790Z"
   },
   {
    "duration": 89,
    "start_time": "2024-01-27T09:50:03.236Z"
   },
   {
    "duration": 385,
    "start_time": "2024-01-27T09:50:11.970Z"
   },
   {
    "duration": 388,
    "start_time": "2024-01-27T09:51:39.768Z"
   },
   {
    "duration": 1332,
    "start_time": "2024-01-27T09:53:13.998Z"
   },
   {
    "duration": 46,
    "start_time": "2024-01-27T09:53:31.307Z"
   },
   {
    "duration": 2254,
    "start_time": "2024-01-27T09:53:37.731Z"
   },
   {
    "duration": 4,
    "start_time": "2024-01-27T09:53:39.988Z"
   },
   {
    "duration": 40,
    "start_time": "2024-01-27T09:53:39.993Z"
   },
   {
    "duration": 24,
    "start_time": "2024-01-27T09:53:40.034Z"
   },
   {
    "duration": 7,
    "start_time": "2024-01-27T09:53:40.060Z"
   },
   {
    "duration": 398,
    "start_time": "2024-01-27T09:53:40.069Z"
   },
   {
    "duration": 16,
    "start_time": "2024-01-27T09:53:40.469Z"
   },
   {
    "duration": 9,
    "start_time": "2024-01-27T09:53:40.486Z"
   },
   {
    "duration": 17,
    "start_time": "2024-01-27T09:53:40.496Z"
   },
   {
    "duration": 8,
    "start_time": "2024-01-27T09:53:40.514Z"
   },
   {
    "duration": 40,
    "start_time": "2024-01-27T09:53:40.523Z"
   },
   {
    "duration": 12,
    "start_time": "2024-01-27T09:53:40.564Z"
   },
   {
    "duration": 4,
    "start_time": "2024-01-27T09:53:40.577Z"
   },
   {
    "duration": 120,
    "start_time": "2024-01-27T09:53:40.583Z"
   },
   {
    "duration": 23,
    "start_time": "2024-01-27T09:53:40.705Z"
   },
   {
    "duration": 39,
    "start_time": "2024-01-27T09:53:40.729Z"
   },
   {
    "duration": 23,
    "start_time": "2024-01-27T09:53:40.770Z"
   },
   {
    "duration": 16,
    "start_time": "2024-01-27T09:53:40.794Z"
   },
   {
    "duration": 63,
    "start_time": "2024-01-27T09:53:40.811Z"
   },
   {
    "duration": 282,
    "start_time": "2024-01-27T09:53:40.876Z"
   },
   {
    "duration": 124,
    "start_time": "2024-01-27T09:53:41.159Z"
   },
   {
    "duration": 259,
    "start_time": "2024-01-27T09:53:41.284Z"
   },
   {
    "duration": 97,
    "start_time": "2024-01-27T09:53:41.544Z"
   },
   {
    "duration": 257,
    "start_time": "2024-01-27T09:53:41.642Z"
   },
   {
    "duration": 226,
    "start_time": "2024-01-27T09:53:41.900Z"
   },
   {
    "duration": 274,
    "start_time": "2024-01-27T09:53:42.128Z"
   },
   {
    "duration": 124,
    "start_time": "2024-01-27T09:53:42.403Z"
   },
   {
    "duration": 39,
    "start_time": "2024-01-27T09:53:42.528Z"
   },
   {
    "duration": 248,
    "start_time": "2024-01-27T09:53:42.569Z"
   },
   {
    "duration": 118,
    "start_time": "2024-01-27T09:53:42.819Z"
   },
   {
    "duration": 254,
    "start_time": "2024-01-27T09:53:42.938Z"
   },
   {
    "duration": 113,
    "start_time": "2024-01-27T09:53:43.194Z"
   },
   {
    "duration": 343,
    "start_time": "2024-01-27T09:53:43.309Z"
   },
   {
    "duration": 101,
    "start_time": "2024-01-27T09:53:43.654Z"
   },
   {
    "duration": 262,
    "start_time": "2024-01-27T09:53:43.757Z"
   },
   {
    "duration": 114,
    "start_time": "2024-01-27T09:53:44.020Z"
   },
   {
    "duration": 35,
    "start_time": "2024-01-27T09:53:44.136Z"
   },
   {
    "duration": 276,
    "start_time": "2024-01-27T09:53:44.172Z"
   },
   {
    "duration": 122,
    "start_time": "2024-01-27T09:53:44.450Z"
   },
   {
    "duration": 262,
    "start_time": "2024-01-27T09:53:44.573Z"
   },
   {
    "duration": 119,
    "start_time": "2024-01-27T09:53:44.838Z"
   },
   {
    "duration": 365,
    "start_time": "2024-01-27T09:53:44.958Z"
   },
   {
    "duration": 109,
    "start_time": "2024-01-27T09:53:45.324Z"
   },
   {
    "duration": 265,
    "start_time": "2024-01-27T09:53:45.434Z"
   },
   {
    "duration": 117,
    "start_time": "2024-01-27T09:53:45.701Z"
   },
   {
    "duration": 7,
    "start_time": "2024-01-27T09:53:45.819Z"
   },
   {
    "duration": 582,
    "start_time": "2024-01-27T09:53:45.829Z"
   },
   {
    "duration": 568,
    "start_time": "2024-01-27T09:53:46.412Z"
   },
   {
    "duration": 592,
    "start_time": "2024-01-27T09:53:46.982Z"
   },
   {
    "duration": 380,
    "start_time": "2024-01-27T09:53:47.576Z"
   },
   {
    "duration": 93,
    "start_time": "2024-01-27T09:53:47.958Z"
   },
   {
    "duration": 3,
    "start_time": "2024-01-27T09:53:48.053Z"
   },
   {
    "duration": 22,
    "start_time": "2024-01-27T09:53:48.058Z"
   },
   {
    "duration": 2715,
    "start_time": "2024-01-27T09:53:48.082Z"
   },
   {
    "duration": 1371,
    "start_time": "2024-01-27T09:54:28.503Z"
   },
   {
    "duration": 1359,
    "start_time": "2024-01-27T09:54:48.635Z"
   },
   {
    "duration": 13,
    "start_time": "2024-01-27T09:55:15.769Z"
   },
   {
    "duration": 64,
    "start_time": "2024-01-27T18:09:12.595Z"
   },
   {
    "duration": 3799,
    "start_time": "2024-01-27T18:09:15.393Z"
   },
   {
    "duration": 1785,
    "start_time": "2024-01-27T18:09:19.197Z"
   },
   {
    "duration": 16,
    "start_time": "2024-01-27T18:09:20.985Z"
   },
   {
    "duration": 8,
    "start_time": "2024-01-27T18:09:21.003Z"
   },
   {
    "duration": 8,
    "start_time": "2024-01-27T18:09:21.013Z"
   },
   {
    "duration": 1704,
    "start_time": "2024-01-27T18:09:21.022Z"
   },
   {
    "duration": 20,
    "start_time": "2024-01-27T18:09:22.728Z"
   },
   {
    "duration": 31,
    "start_time": "2024-01-27T18:09:22.750Z"
   },
   {
    "duration": 38,
    "start_time": "2024-01-27T18:09:22.783Z"
   },
   {
    "duration": 25,
    "start_time": "2024-01-27T18:09:22.823Z"
   },
   {
    "duration": 48,
    "start_time": "2024-01-27T18:09:22.850Z"
   },
   {
    "duration": 24,
    "start_time": "2024-01-27T18:09:22.905Z"
   },
   {
    "duration": 22,
    "start_time": "2024-01-27T18:09:22.931Z"
   },
   {
    "duration": 201,
    "start_time": "2024-01-27T18:09:22.957Z"
   },
   {
    "duration": 46,
    "start_time": "2024-01-27T18:09:23.160Z"
   },
   {
    "duration": 31,
    "start_time": "2024-01-27T18:09:23.208Z"
   },
   {
    "duration": 60,
    "start_time": "2024-01-27T18:09:23.241Z"
   },
   {
    "duration": 20,
    "start_time": "2024-01-27T18:09:23.302Z"
   },
   {
    "duration": 58,
    "start_time": "2024-01-27T18:09:23.324Z"
   },
   {
    "duration": 384,
    "start_time": "2024-01-27T18:09:23.384Z"
   },
   {
    "duration": 163,
    "start_time": "2024-01-27T18:09:23.770Z"
   },
   {
    "duration": 408,
    "start_time": "2024-01-27T18:09:23.935Z"
   },
   {
    "duration": 126,
    "start_time": "2024-01-27T18:09:24.345Z"
   },
   {
    "duration": 326,
    "start_time": "2024-01-27T18:09:24.473Z"
   },
   {
    "duration": 149,
    "start_time": "2024-01-27T18:09:24.801Z"
   },
   {
    "duration": 358,
    "start_time": "2024-01-27T18:09:24.952Z"
   },
   {
    "duration": 145,
    "start_time": "2024-01-27T18:09:25.313Z"
   },
   {
    "duration": 51,
    "start_time": "2024-01-27T18:09:25.460Z"
   },
   {
    "duration": 315,
    "start_time": "2024-01-27T18:09:25.512Z"
   },
   {
    "duration": 138,
    "start_time": "2024-01-27T18:09:25.829Z"
   },
   {
    "duration": 438,
    "start_time": "2024-01-27T18:09:25.968Z"
   },
   {
    "duration": 162,
    "start_time": "2024-01-27T18:09:26.408Z"
   },
   {
    "duration": 349,
    "start_time": "2024-01-27T18:09:26.573Z"
   },
   {
    "duration": 149,
    "start_time": "2024-01-27T18:09:26.924Z"
   },
   {
    "duration": 377,
    "start_time": "2024-01-27T18:09:27.075Z"
   },
   {
    "duration": 169,
    "start_time": "2024-01-27T18:09:27.454Z"
   },
   {
    "duration": 43,
    "start_time": "2024-01-27T18:09:27.626Z"
   },
   {
    "duration": 380,
    "start_time": "2024-01-27T18:09:27.670Z"
   },
   {
    "duration": 276,
    "start_time": "2024-01-27T18:09:28.053Z"
   },
   {
    "duration": 328,
    "start_time": "2024-01-27T18:09:28.330Z"
   },
   {
    "duration": 160,
    "start_time": "2024-01-27T18:09:28.662Z"
   },
   {
    "duration": 334,
    "start_time": "2024-01-27T18:09:28.823Z"
   },
   {
    "duration": 147,
    "start_time": "2024-01-27T18:09:29.159Z"
   },
   {
    "duration": 378,
    "start_time": "2024-01-27T18:09:29.308Z"
   },
   {
    "duration": 152,
    "start_time": "2024-01-27T18:09:29.689Z"
   },
   {
    "duration": 3,
    "start_time": "2024-01-27T18:09:29.842Z"
   },
   {
    "duration": 809,
    "start_time": "2024-01-27T18:09:29.847Z"
   },
   {
    "duration": 808,
    "start_time": "2024-01-27T18:09:30.658Z"
   },
   {
    "duration": 735,
    "start_time": "2024-01-27T18:09:31.468Z"
   },
   {
    "duration": 482,
    "start_time": "2024-01-27T18:09:32.205Z"
   },
   {
    "duration": 6,
    "start_time": "2024-01-27T18:09:32.690Z"
   },
   {
    "duration": 84,
    "start_time": "2024-01-27T18:09:32.700Z"
   },
   {
    "duration": 118,
    "start_time": "2024-01-27T18:09:32.792Z"
   },
   {
    "duration": 0,
    "start_time": "2024-01-27T18:09:32.911Z"
   },
   {
    "duration": 0,
    "start_time": "2024-01-27T18:09:32.912Z"
   },
   {
    "duration": 25,
    "start_time": "2024-01-27T18:10:13.383Z"
   },
   {
    "duration": 24,
    "start_time": "2024-01-27T18:10:15.673Z"
   },
   {
    "duration": 29,
    "start_time": "2024-01-27T18:10:54.679Z"
   },
   {
    "duration": 4,
    "start_time": "2024-01-27T18:11:03.681Z"
   },
   {
    "duration": 4,
    "start_time": "2024-01-27T18:11:04.035Z"
   },
   {
    "duration": 20,
    "start_time": "2024-01-27T18:11:04.959Z"
   },
   {
    "duration": 581,
    "start_time": "2024-01-27T18:11:05.360Z"
   },
   {
    "duration": 0,
    "start_time": "2024-01-27T18:11:05.943Z"
   },
   {
    "duration": 4,
    "start_time": "2024-01-27T18:12:16.605Z"
   },
   {
    "duration": 1605,
    "start_time": "2024-01-27T18:12:25.614Z"
   },
   {
    "duration": 14,
    "start_time": "2024-01-27T18:12:27.311Z"
   }
  ],
  "kernelspec": {
   "display_name": "Python 3 (ipykernel)",
   "language": "python",
   "name": "python3"
  },
  "language_info": {
   "codemirror_mode": {
    "name": "ipython",
    "version": 3
   },
   "file_extension": ".py",
   "mimetype": "text/x-python",
   "name": "python",
   "nbconvert_exporter": "python",
   "pygments_lexer": "ipython3",
   "version": "3.9.5"
  },
  "toc": {
   "base_numbering": 1,
   "nav_menu": {},
   "number_sections": true,
   "sideBar": true,
   "skip_h1_title": true,
   "title_cell": "Table of Contents",
   "title_sidebar": "Contents",
   "toc_cell": false,
   "toc_position": {},
   "toc_section_display": true,
   "toc_window_display": false
  }
 },
 "nbformat": 4,
 "nbformat_minor": 2
}
